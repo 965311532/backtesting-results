{
 "cells": [
  {
   "cell_type": "code",
   "execution_count": 1,
   "id": "6531dbe1",
   "metadata": {
    "execution": {
     "iopub.execute_input": "2022-02-25T16:57:14.949192Z",
     "iopub.status.busy": "2022-02-25T16:57:14.948541Z",
     "iopub.status.idle": "2022-02-25T16:57:14.953872Z",
     "shell.execute_reply": "2022-02-25T16:57:14.954461Z",
     "shell.execute_reply.started": "2022-02-25T16:14:56.526914Z"
    },
    "papermill": {
     "duration": 0.038134,
     "end_time": "2022-02-25T16:57:14.954748",
     "exception": false,
     "start_time": "2022-02-25T16:57:14.916614",
     "status": "completed"
    },
    "tags": []
   },
   "outputs": [
    {
     "name": "stdout",
     "output_type": "stream",
     "text": [
      "Disabling code cells ...\n"
     ]
    }
   ],
   "source": [
    "from IPython.display import HTML\n",
    "# disables the code cell in NBviewer\n",
    "HTML('''<script>\n",
    "code_show=true; \n",
    "function code_toggle() {\n",
    " if (code_show){\n",
    " $('div.input').hide();\n",
    " } else {\n",
    " $('div.input').show();\n",
    " }\n",
    " code_show = !code_show\n",
    "} \n",
    "$( document ).ready(code_toggle);\n",
    "</script>''')\n",
    "print('Disabling code cells ...')"
   ]
  },
  {
   "cell_type": "code",
   "execution_count": 2,
   "id": "6bd80938",
   "metadata": {
    "_cell_guid": "b1076dfc-b9ad-4769-8c92-a6c4dae69d19",
    "_uuid": "8f2839f25d086af736a60e9eeb907d3b93b6e0e5",
    "execution": {
     "iopub.execute_input": "2022-02-25T16:57:15.006886Z",
     "iopub.status.busy": "2022-02-25T16:57:15.006190Z",
     "iopub.status.idle": "2022-02-25T16:57:18.420933Z",
     "shell.execute_reply": "2022-02-25T16:57:18.421485Z",
     "shell.execute_reply.started": "2022-02-25T16:46:51.083122Z"
    },
    "papermill": {
     "duration": 3.44466,
     "end_time": "2022-02-25T16:57:18.421671",
     "exception": false,
     "start_time": "2022-02-25T16:57:14.977011",
     "status": "completed"
    },
    "tags": []
   },
   "outputs": [
    {
     "data": {
      "text/html": [
       "        <script type=\"text/javascript\">\n",
       "        window.PlotlyConfig = {MathJaxConfig: 'local'};\n",
       "        if (window.MathJax) {MathJax.Hub.Config({SVG: {font: \"STIX-Web\"}});}\n",
       "        if (typeof require !== 'undefined') {\n",
       "        require.undef(\"plotly\");\n",
       "        requirejs.config({\n",
       "            paths: {\n",
       "                'plotly': ['https://cdn.plot.ly/plotly-2.8.3.min']\n",
       "            }\n",
       "        });\n",
       "        require(['plotly'], function(Plotly) {\n",
       "            window._Plotly = Plotly;\n",
       "        });\n",
       "        }\n",
       "        </script>\n",
       "        "
      ]
     },
     "metadata": {},
     "output_type": "display_data"
    },
    {
     "name": "stdout",
     "output_type": "stream",
     "text": [
      "Importing modules ...\n"
     ]
    }
   ],
   "source": [
    "%reload_ext line_profiler\n",
    "import pandas as pd\n",
    "import json\n",
    "import numpy as np\n",
    "import warnings\n",
    "from typing import Optional, List, Union, Callable\n",
    "from datetime import datetime, timedelta\n",
    "import pytz\n",
    "warnings.filterwarnings(\"ignore\")\n",
    "import cufflinks as cf\n",
    "cf.set_config_file(offline=True, offline_show_link=False, theme='white', sharing='public', colorscale='-ggplot')\n",
    "print('Importing modules ...')"
   ]
  },
  {
   "cell_type": "code",
   "execution_count": 3,
   "id": "dca5df0b",
   "metadata": {
    "execution": {
     "iopub.execute_input": "2022-02-25T16:57:18.472292Z",
     "iopub.status.busy": "2022-02-25T16:57:18.471570Z",
     "iopub.status.idle": "2022-02-25T16:57:19.642262Z",
     "shell.execute_reply": "2022-02-25T16:57:19.641338Z",
     "shell.execute_reply.started": "2022-02-25T16:15:00.055932Z"
    },
    "papermill": {
     "duration": 1.197094,
     "end_time": "2022-02-25T16:57:19.642464",
     "exception": false,
     "start_time": "2022-02-25T16:57:18.445370",
     "status": "completed"
    },
    "tags": []
   },
   "outputs": [
    {
     "name": "stdout",
     "output_type": "stream",
     "text": [
      "Loading dataset ...\n"
     ]
    }
   ],
   "source": [
    "with open('../input/main-test-daniel-dataset-json/test.json', 'r', encoding='utf-8') as f:\n",
    "    data = json.load(f)\n",
    "print('Loading dataset ...')"
   ]
  },
  {
   "cell_type": "code",
   "execution_count": 4,
   "id": "ef34a0e8",
   "metadata": {
    "execution": {
     "iopub.execute_input": "2022-02-25T16:57:19.702856Z",
     "iopub.status.busy": "2022-02-25T16:57:19.702164Z",
     "iopub.status.idle": "2022-02-25T16:57:19.704945Z",
     "shell.execute_reply": "2022-02-25T16:57:19.705460Z",
     "shell.execute_reply.started": "2022-02-25T16:15:01.050633Z"
    },
    "papermill": {
     "duration": 0.037687,
     "end_time": "2022-02-25T16:57:19.705637",
     "exception": false,
     "start_time": "2022-02-25T16:57:19.667950",
     "status": "completed"
    },
    "tags": []
   },
   "outputs": [
    {
     "name": "stdout",
     "output_type": "stream",
     "text": [
      "Defining plot_pos() function ...\n"
     ]
    }
   ],
   "source": [
    "def plot_pos(p, sl=None, tp=None, hline=None):\n",
    "    if tp is None:\n",
    "        tp = get_position_tps(p)[0]\n",
    "    if sl is None:\n",
    "        sl = p['sl']['price']\n",
    "        \n",
    "    open_ = pd.to_datetime(p['entry']['execution']['time'])\n",
    "    close_ = open_ + timedelta(hours=1)\n",
    "    \n",
    "    sl_shape = cf.tools.get_shape(x0=open_, x1=close_, yref='close', y0=sl, y1=p['entry']['price'], kind='rect', fill=True, opacity=0.3, color='red', width=0.1)\n",
    "    tp_shape = cf.tools.get_shape(x0=open_, x1=close_, yref='close', y0=tp, y1=p['entry']['price'], kind='rect', fill=True, opacity=0.3, color='green', width=0.1)\n",
    "    shapes = [s for s in [sl_shape, tp_shape, hline] if s is not None]\n",
    "    return p['rates'].set_index(pd.to_datetime(p['rates']['time'])).iplot(kind='candle', shapes=shapes, width=0.1)\n",
    "print('Defining plot_pos() function ...')"
   ]
  },
  {
   "cell_type": "code",
   "execution_count": 5,
   "id": "b379c52a",
   "metadata": {
    "execution": {
     "iopub.execute_input": "2022-02-25T16:57:19.757034Z",
     "iopub.status.busy": "2022-02-25T16:57:19.756275Z",
     "iopub.status.idle": "2022-02-25T16:57:19.761292Z",
     "shell.execute_reply": "2022-02-25T16:57:19.761754Z",
     "shell.execute_reply.started": "2022-02-25T16:15:01.063240Z"
    },
    "papermill": {
     "duration": 0.032337,
     "end_time": "2022-02-25T16:57:19.761932",
     "exception": false,
     "start_time": "2022-02-25T16:57:19.729595",
     "status": "completed"
    },
    "tags": []
   },
   "outputs": [
    {
     "name": "stdout",
     "output_type": "stream",
     "text": [
      "Defining _candle_mean() function ...\n"
     ]
    }
   ],
   "source": [
    "def _candle_mean(candle: Union[pd.Series, dict]) -> float:\n",
    "    avg = candle[\"low\"] + (candle[\"high\"] - candle[\"low\"]) / 2\n",
    "    return round(avg, 6)\n",
    "print('Defining _candle_mean() function ...')"
   ]
  },
  {
   "cell_type": "code",
   "execution_count": 6,
   "id": "93019e63",
   "metadata": {
    "execution": {
     "iopub.execute_input": "2022-02-25T16:57:19.813809Z",
     "iopub.status.busy": "2022-02-25T16:57:19.813135Z",
     "iopub.status.idle": "2022-02-25T16:57:19.820658Z",
     "shell.execute_reply": "2022-02-25T16:57:19.821667Z",
     "shell.execute_reply.started": "2022-02-25T16:15:01.075918Z"
    },
    "papermill": {
     "duration": 0.035525,
     "end_time": "2022-02-25T16:57:19.821964",
     "exception": false,
     "start_time": "2022-02-25T16:57:19.786439",
     "status": "completed"
    },
    "tags": []
   },
   "outputs": [
    {
     "name": "stdout",
     "output_type": "stream",
     "text": [
      "Defining _get_executed_orders() function ...\n"
     ]
    }
   ],
   "source": [
    "def _get_executed_orders(p: dict, ignore: List[str] = None):\n",
    "    \n",
    "    if ignore is None:\n",
    "        ignore = list()\n",
    "        \n",
    "    executed = [o for o in p['orders'] if o.get('execution') != dict()]\n",
    "    sorted_executed = sorted(executed, key=lambda x: pd.to_datetime(x['execution']['time']))\n",
    "    return [e for e in sorted_executed if e['name'] not in ignore]\n",
    "print('Defining _get_executed_orders() function ...')"
   ]
  },
  {
   "cell_type": "code",
   "execution_count": 7,
   "id": "4bc307a7",
   "metadata": {
    "execution": {
     "iopub.execute_input": "2022-02-25T16:57:19.875493Z",
     "iopub.status.busy": "2022-02-25T16:57:19.874717Z",
     "iopub.status.idle": "2022-02-25T16:57:19.889246Z",
     "shell.execute_reply": "2022-02-25T16:57:19.888620Z",
     "shell.execute_reply.started": "2022-02-25T16:15:01.086953Z"
    },
    "papermill": {
     "duration": 0.041778,
     "end_time": "2022-02-25T16:57:19.889395",
     "exception": false,
     "start_time": "2022-02-25T16:57:19.847617",
     "status": "completed"
    },
    "tags": []
   },
   "outputs": [
    {
     "name": "stdout",
     "output_type": "stream",
     "text": [
      "Defining _determine_position_result() function ...\n"
     ]
    }
   ],
   "source": [
    "def _determine_position_result(p: dict, partials: List[float], ignore: List[str]):\n",
    "    \n",
    "    SIDE = 1 if p['side'].upper() == 'BUY' else -1\n",
    "    \n",
    "    # get events (orders) in execution order\n",
    "    events = _get_executed_orders(p, ignore=ignore)\n",
    "    \n",
    "    # makes the rates attr back into a df\n",
    "    p['rates'] = pd.DataFrame(p['rates'])\n",
    "\n",
    "    if len(events) == 0:\n",
    "        last_candle = p['rates'].iloc[-1]\n",
    "        r = SIDE * (_candle_mean(last_candle) - p['entry']['execution']['price']) / p['sl_delta']\n",
    "        return (pd.to_datetime(last_candle.time, utc=True), r, 'EOP')\n",
    "\n",
    "    result = 0\n",
    "    for i, partial in enumerate(partials):\n",
    "\n",
    "        if i > len(events) - 1:\n",
    "            break\n",
    "\n",
    "        if i == 0:\n",
    "            result_type = events[i]['name']\n",
    "\n",
    "        close = pd.to_datetime(events[i]['execution']['time'], utc=True)\n",
    "        r = SIDE * (events[i]['execution']['price'] - p['entry']['execution']['price']) / p['sl_delta']\n",
    "\n",
    "        # Closing events\n",
    "        if events[i]['name'].upper() in ['SL', 'SL_TO_BE']:\n",
    "            # if it's the first event record the loss,\n",
    "            # otherwise i'm assuming the second losing \n",
    "            # partial is always at breakeven\n",
    "            if i == 0:\n",
    "                result = r\n",
    "            break\n",
    "        elif events[i]['name'].upper() == ['CLOSE']:\n",
    "            result = r * (1 - sum(partials[0:i]))\n",
    "            break\n",
    "\n",
    "        else: result += r * partial\n",
    "\n",
    "    return (close, result, result_type)\n",
    "print('Defining _determine_position_result() function ...')"
   ]
  },
  {
   "cell_type": "code",
   "execution_count": 8,
   "id": "4fb4b9c9",
   "metadata": {
    "execution": {
     "iopub.execute_input": "2022-02-25T16:57:19.945760Z",
     "iopub.status.busy": "2022-02-25T16:57:19.944839Z",
     "iopub.status.idle": "2022-02-25T16:57:19.947933Z",
     "shell.execute_reply": "2022-02-25T16:57:19.948473Z",
     "shell.execute_reply.started": "2022-02-25T16:15:01.107288Z"
    },
    "papermill": {
     "duration": 0.034546,
     "end_time": "2022-02-25T16:57:19.948659",
     "exception": false,
     "start_time": "2022-02-25T16:57:19.914113",
     "status": "completed"
    },
    "tags": []
   },
   "outputs": [
    {
     "name": "stdout",
     "output_type": "stream",
     "text": [
      "Defining get_position_tps() function ...\n"
     ]
    }
   ],
   "source": [
    "def get_position_tps(p):\n",
    "    return sorted(set([o['price'] for o in p['orders'] if o['name'].upper() == 'TP']))\n",
    "print('Defining get_position_tps() function ...')"
   ]
  },
  {
   "cell_type": "code",
   "execution_count": 9,
   "id": "e8e4826a",
   "metadata": {
    "execution": {
     "iopub.execute_input": "2022-02-25T16:57:20.012143Z",
     "iopub.status.busy": "2022-02-25T16:57:20.008013Z",
     "iopub.status.idle": "2022-02-25T16:57:20.016026Z",
     "shell.execute_reply": "2022-02-25T16:57:20.015490Z",
     "shell.execute_reply.started": "2022-02-25T16:15:01.120573Z"
    },
    "papermill": {
     "duration": 0.042322,
     "end_time": "2022-02-25T16:57:20.016205",
     "exception": false,
     "start_time": "2022-02-25T16:57:19.973883",
     "status": "completed"
    },
    "tags": []
   },
   "outputs": [
    {
     "name": "stdout",
     "output_type": "stream",
     "text": [
      "Defining find_best_sl() function ...\n"
     ]
    }
   ],
   "source": [
    "def find_best_sl(p, for_tp=0, tp=None):\n",
    "    '''Tries to find the SL price at which \"for_tp\" wouldve been hit.\n",
    "    Returns None if the direction was wrong (tp wouldve never been hit)\n",
    "    Returns the new SL price expressed as % of the size of the current one'''\n",
    "    \n",
    "    if not isinstance(p['rates'], pd.DataFrame):\n",
    "        p['rates'] = pd.DataFrame(p['rates'])\n",
    "\n",
    "    if tp is None:\n",
    "        try:\n",
    "            tp = get_position_tps(p)[for_tp]\n",
    "        except AttributeError:\n",
    "            # if for_tp is not there, pick last tp\n",
    "            tp = get_position_tps(p)[-1]\n",
    "        \n",
    "    bound = p['rates']\n",
    "    SIDE = 1 if p['side'].upper() == 'BUY' else -1\n",
    "    spread = 20 * p['symbol']['info']['trade_tick_size'] # let's just say 2 pips\n",
    "    entry_hit = p['entry']['execution']['time']\n",
    "    \n",
    "    if SIDE == 1:\n",
    "        tp_hit = (bound.high >= tp)\n",
    "        if tp_hit.any():\n",
    "            window = ~tp_hit.cumsum().astype(bool)\n",
    "            new_sl = bound.loc[(bound.time > entry_hit) & window, 'low'].min() - spread\n",
    "    \n",
    "    elif SIDE == -1:\n",
    "        tp_hit = (bound.low <= tp)\n",
    "        if tp_hit.any():\n",
    "            window = ~tp_hit.cumsum().astype(bool)\n",
    "            new_sl = bound.loc[(bound.time > entry_hit) & window, 'high'].max() + spread\n",
    "    \n",
    "    \n",
    "    # if there's no tp in rates that hit\n",
    "    # there's no sl that could've saved the trade\n",
    "    # the direction was just wrong\n",
    "    try:\n",
    "        if not pd.isnull(new_sl):\n",
    "            return new_sl\n",
    "    except UnboundLocalError:\n",
    "        pass\n",
    "    return None\n",
    "print('Defining find_best_sl() function ...')"
   ]
  },
  {
   "cell_type": "code",
   "execution_count": 10,
   "id": "ce95142e",
   "metadata": {
    "execution": {
     "iopub.execute_input": "2022-02-25T16:57:20.079734Z",
     "iopub.status.busy": "2022-02-25T16:57:20.078947Z",
     "iopub.status.idle": "2022-02-25T16:57:20.082486Z",
     "shell.execute_reply": "2022-02-25T16:57:20.081817Z",
     "shell.execute_reply.started": "2022-02-25T16:15:01.138538Z"
    },
    "papermill": {
     "duration": 0.041248,
     "end_time": "2022-02-25T16:57:20.082630",
     "exception": false,
     "start_time": "2022-02-25T16:57:20.041382",
     "status": "completed"
    },
    "tags": []
   },
   "outputs": [
    {
     "name": "stdout",
     "output_type": "stream",
     "text": [
      "Defining find_best_tp() function ...\n"
     ]
    }
   ],
   "source": [
    "def find_best_tp(p, sl=None):\n",
    "    '''Tries to find the TP price at which \"sl\" wouldve never been hit.\n",
    "    Returns None if the trade went straight into loss\n",
    "    Returns the new TP price expressed in R compared to for_sl'''\n",
    "    \n",
    "    if not isinstance(p['rates'], pd.DataFrame):\n",
    "        p['rates'] = pd.DataFrame(p['rates'])\n",
    "        \n",
    "    if sl is None:\n",
    "        sl = p['sl']['price']\n",
    "    \n",
    "    bound = p['rates']\n",
    "    SIDE = 1 if p['side'].upper() == 'BUY' else -1\n",
    "    spread = 20 * p['symbol']['info']['trade_tick_size'] # let's just say 2 pips\n",
    "    entry_hit = p['entry']['execution']['time']\n",
    "    \n",
    "    if SIDE == 1:      \n",
    "        sl_hit_cond = (bound.low <= sl + spread/2)\n",
    "        if len(sl_hit_cond) == 0:\n",
    "            sl_hit_cond = True\n",
    "        # this means: take the sl_hit series, which is gonna look\n",
    "        # something like 0,0,0,0,1,1,1,0,1,0,0,0,1,0 and make the\n",
    "        # cumsum and then turn it into bools, which is gonna make\n",
    "        # it look like False,False,False,False,True,True,True,True etc.\n",
    "        # then take the inverse, which is what we want (all of this\n",
    "        # works because 2 is considere True after booleanization)\n",
    "        window = ~sl_hit_cond.cumsum().astype(bool)\n",
    "        new_tp = bound.loc[(bound.time > entry_hit) & window, 'high'].max() - spread\n",
    "        \n",
    "    elif SIDE == -1:\n",
    "        sl_hit_cond = (bound.high >= sl - spread/2)\n",
    "        if len(sl_hit_cond) == 0:\n",
    "            sl_hit_cond = True\n",
    "        window = ~sl_hit_cond.cumsum().astype(bool)\n",
    "        new_tp = bound.loc[(bound.time > entry_hit) & window, 'low'].min() + spread\n",
    "        \n",
    "    # if the tp is lower than the entry that means that\n",
    "    # the trade went straight to sl, so return none\n",
    "    if SIDE * (new_tp - p['entry']['execution']['price']) < 0:\n",
    "        return None\n",
    "    return new_tp\n",
    "print('Defining find_best_tp() function ...')"
   ]
  },
  {
   "cell_type": "code",
   "execution_count": 11,
   "id": "b2bb7d9f",
   "metadata": {
    "execution": {
     "iopub.execute_input": "2022-02-25T16:57:20.148095Z",
     "iopub.status.busy": "2022-02-25T16:57:20.147370Z",
     "iopub.status.idle": "2022-02-25T16:57:20.151776Z",
     "shell.execute_reply": "2022-02-25T16:57:20.151192Z",
     "shell.execute_reply.started": "2022-02-25T16:15:01.153629Z"
    },
    "papermill": {
     "duration": 0.041958,
     "end_time": "2022-02-25T16:57:20.151916",
     "exception": false,
     "start_time": "2022-02-25T16:57:20.109958",
     "status": "completed"
    },
    "tags": []
   },
   "outputs": [
    {
     "name": "stdout",
     "output_type": "stream",
     "text": [
      "Defining find_absolute_best_parameter() function ...\n"
     ]
    }
   ],
   "source": [
    "def find_absolute_best_params(p, previous_best: tuple):\n",
    "    SIDE = 1 if p['side'].upper() == 'BUY' else -1\n",
    "    entry = p['entry']['execution']['price']\n",
    "    pairs = [previous_best]\n",
    "    \n",
    "    better_sl = previous_best[0]\n",
    "    for i in range(100):\n",
    "        if better_sl is not None:\n",
    "            better_tp = find_best_tp(p, sl=better_sl)\n",
    "        else:\n",
    "            better_tp = previous_best[1]\n",
    "            better_sl = find_best_sl(p, tp=better_tp)\n",
    "        if better_tp is not None and better_sl is not None:\n",
    "            commit = (better_sl, better_tp)\n",
    "            pairs.append(commit)\n",
    "            # when the results are equal, stop iteration\n",
    "            if (i != 0 and\n",
    "                abs(commit[0] - pairs[-2][0]) < 1e-7 and\n",
    "                abs(commit[1] - pairs[-2][1]) < 1e-7):\n",
    "                    break\n",
    "            better_sl = find_best_sl(p, tp=better_tp)\n",
    "\n",
    "    pairs = [pair for pair in pairs if None not in pair]\n",
    "    \n",
    "    if len(pairs) == 0:\n",
    "        return (None, None)\n",
    "    \n",
    "    return sorted(pairs, key=lambda x: abs(x[0] - entry) / abs(x[1] - entry))[0]\n",
    "print('Defining find_absolute_best_parameter() function ...')"
   ]
  },
  {
   "cell_type": "code",
   "execution_count": 12,
   "id": "e5cd1541",
   "metadata": {
    "execution": {
     "iopub.execute_input": "2022-02-25T16:57:20.228900Z",
     "iopub.status.busy": "2022-02-25T16:57:20.227995Z",
     "iopub.status.idle": "2022-02-25T16:57:20.231341Z",
     "shell.execute_reply": "2022-02-25T16:57:20.231829Z",
     "shell.execute_reply.started": "2022-02-25T16:15:01.172728Z"
    },
    "papermill": {
     "duration": 0.054025,
     "end_time": "2022-02-25T16:57:20.232004",
     "exception": false,
     "start_time": "2022-02-25T16:57:20.177979",
     "status": "completed"
    },
    "tags": []
   },
   "outputs": [
    {
     "name": "stdout",
     "output_type": "stream",
     "text": [
      "Defining make_results() function ...\n"
     ]
    }
   ],
   "source": [
    "def make_results(given: List['Position'] = None,\n",
    "                 partials: List[float] = None,\n",
    "                 ignore: List[str] = None,\n",
    "                 cleanse: Optional[Callable] = True,\n",
    "                 only: Optional[list] = None):\n",
    "\n",
    "    if given is None:\n",
    "        given = data[:]\n",
    "    \n",
    "    if partials is None:\n",
    "        partials = [1]\n",
    "\n",
    "    if ignore is None:\n",
    "        ignore = list()\n",
    "          \n",
    "    if cleanse is True:\n",
    "        def base_filter(df: pd.DataFrame) -> pd.DataFrame:\n",
    "            df = df.drop(df[df.result>4].index, axis=0)\n",
    "            df = df.drop(df[df.sl_pips>50].index, axis=0)\n",
    "            df = df.drop(df[df.sl_pips<5].index, axis=0)\n",
    "            df = df.drop(df.loc['2021-12-22'].index, axis=0) # outlier\n",
    "            return df\n",
    "        cleanse = base_filter\n",
    "\n",
    "    results = list()\n",
    "    for p in given:\n",
    "        res = _determine_position_result(p, partials=partials, ignore=ignore)\n",
    "        entry = p['entry']['execution']['price']\n",
    "        entry_time = p['entry']['execution']['time']\n",
    "        if not isinstance(p['entry']['execution']['time'], datetime):\n",
    "            p['entry']['execution']['time'] = datetime.fromisoformat(entry_time)\n",
    "        \n",
    "        open_ = pd.to_datetime(p['time'], utc=True)\n",
    "        close_ = pd.to_datetime(res[0], utc=True)\n",
    "        \n",
    "        better_sl_R = None\n",
    "        better_tp_R = None\n",
    "        if only is None or any([x in y for x in ('best', 'better') for y in only]):\n",
    "            if not pd.api.types.is_datetime64_any_dtype(p['rates']['time'].dtype):\n",
    "                p['rates']['time'] = pd.to_datetime(p['rates']['time'])\n",
    "            # finds better sl for tp0\n",
    "            better_sl = find_best_sl(p, for_tp=0)\n",
    "            # finds better tp for current sl\n",
    "            better_tp = find_best_tp(p)\n",
    "            try: # they can return None\n",
    "                better_sl_R = abs(better_sl-entry)/p['sl_delta']\n",
    "                better_tp_R = abs(better_tp-entry)/p['sl_delta']\n",
    "            except TypeError:\n",
    "                pass\n",
    "        \n",
    "        best_sl_R = None\n",
    "        best_tp_R = None\n",
    "        if only is None or any(['best' in x for x in only]):\n",
    "            # absolute best R possible (very expensive)\n",
    "            x = find_absolute_best_params(p, (better_sl, better_tp))\n",
    "            try: # find_absolute_best_params can return (None, None)\n",
    "                best_sl_R = abs(x[0] - entry) / p['sl_delta'] # compared to original sl\n",
    "                best_tp_R = abs(x[1] - entry) / abs(x[0] - entry) # compared to best_sl\n",
    "            except TypeError:\n",
    "                pass\n",
    "        \n",
    "        results.append(dict(open=open_,\n",
    "                            close=close_,\n",
    "                            symbol=p['symbol']['name'],\n",
    "                            side=p['side'],\n",
    "                            sl_pips=p['sl_delta']/p['symbol']['info']['trade_tick_size']/10,\n",
    "                            result=float(res[1]),\n",
    "                            result_type=str(res[2]),\n",
    "                            better_sl_R=better_sl_R,\n",
    "                            better_tp_R=better_tp_R,\n",
    "                            best_sl_R=best_sl_R,\n",
    "                            best_tp_R=best_tp_R))\n",
    "\n",
    "    df = pd.DataFrame(results).set_index('open', drop=True).sort_index()\n",
    "    if cleanse is not None:\n",
    "        df = cleanse(df)\n",
    "    \n",
    "    if only is None: \n",
    "        only = df.columns.tolist()\n",
    "    relevant_cols = df.columns[df.columns.str.contains('|'.join(only))].tolist()\n",
    "    \n",
    "    return df[relevant_cols]\n",
    "print('Defining make_results() function ...')"
   ]
  },
  {
   "cell_type": "markdown",
   "id": "47f72e8e",
   "metadata": {
    "papermill": {
     "duration": 0.02562,
     "end_time": "2022-02-25T16:57:20.283453",
     "exception": false,
     "start_time": "2022-02-25T16:57:20.257833",
     "status": "completed"
    },
    "tags": []
   },
   "source": [
    "# Analisi Risultati Daniel Savage FX\n",
    "## 23 6451 - Le basi\n",
    "Partiamo ipotizzando di seguire \"alla lettera\" (ammesso un certo margine di errore) i segnali e ipotizziamo i parziali a:\n",
    "- 60% TP1\n",
    "- 40% TP2"
   ]
  },
  {
   "cell_type": "code",
   "execution_count": 13,
   "id": "abdf8651",
   "metadata": {
    "execution": {
     "iopub.execute_input": "2022-02-25T16:57:20.350839Z",
     "iopub.status.busy": "2022-02-25T16:57:20.349851Z",
     "iopub.status.idle": "2022-02-25T16:57:34.468785Z",
     "shell.execute_reply": "2022-02-25T16:57:34.468204Z",
     "shell.execute_reply.started": "2022-02-25T16:15:01.204034Z"
    },
    "papermill": {
     "duration": 14.159525,
     "end_time": "2022-02-25T16:57:34.468939",
     "exception": false,
     "start_time": "2022-02-25T16:57:20.309414",
     "status": "completed"
    },
    "tags": []
   },
   "outputs": [],
   "source": [
    "full_daniel = make_results(data[:], partials=[0.6, 0.4])"
   ]
  },
  {
   "cell_type": "code",
   "execution_count": 14,
   "id": "c4ef9755",
   "metadata": {
    "execution": {
     "iopub.execute_input": "2022-02-25T16:57:34.527806Z",
     "iopub.status.busy": "2022-02-25T16:57:34.526776Z",
     "iopub.status.idle": "2022-02-25T16:57:35.452278Z",
     "shell.execute_reply": "2022-02-25T16:57:35.452838Z",
     "shell.execute_reply.started": "2022-02-25T16:15:15.550460Z"
    },
    "papermill": {
     "duration": 0.957516,
     "end_time": "2022-02-25T16:57:35.453033",
     "exception": false,
     "start_time": "2022-02-25T16:57:34.495517",
     "status": "completed"
    },
    "tags": []
   },
   "outputs": [
    {
     "data": {
      "application/vnd.plotly.v1+json": {
       "config": {
        "linkText": "Export to plot.ly",
        "plotlyServerURL": "https://plot.ly",
        "showLink": false
       },
       "data": [
        {
         "marker": {
          "color": "rgba(219, 64, 82, 1.0)",
          "line": {
           "width": 1.3
          },
          "opacity": 0.8,
          "size": 6,
          "symbol": "circle"
         },
         "mode": "markers",
         "name": "SL",
         "textfont": {
          "color": "#4D5663"
         },
         "type": "scatter",
         "x": [
          "2020-11-05T13:05:00.000000000",
          "2020-11-05T13:42:00.000000000",
          "2020-11-11T00:06:00.000000000",
          "2020-11-11T01:02:00.000000000",
          "2020-12-01T07:07:00.000000000",
          "2020-12-04T13:30:00.000000000",
          "2020-12-10T15:32:00.000000000",
          "2020-12-17T14:22:00.000000000",
          "2020-12-17T15:04:00.000000000",
          "2020-12-18T08:27:00.000000000",
          "2020-12-22T14:57:00.000000000",
          "2020-12-22T16:01:00.000000000",
          "2020-12-31T07:59:00.000000000",
          "2021-01-08T05:17:00.000000000",
          "2021-01-11T15:19:00.000000000",
          "2021-01-19T07:24:00.000000000",
          "2021-01-21T13:33:00.000000000",
          "2021-01-22T13:16:00.000000000",
          "2021-01-28T01:10:00.000000000",
          "2021-01-29T06:48:00.000000000",
          "2021-01-29T08:08:00.000000000",
          "2021-02-01T08:51:00.000000000",
          "2021-02-01T12:16:00.000000000",
          "2021-02-01T13:16:00.000000000",
          "2021-02-02T08:20:00.000000000",
          "2021-02-05T08:00:00.000000000",
          "2021-02-09T07:00:00.000000000",
          "2021-02-16T14:00:00.000000000",
          "2021-02-25T07:00:00.000000000",
          "2021-02-25T08:00:00.000000000",
          "2021-03-01T13:00:00.000000000",
          "2021-03-09T05:00:00.000000000",
          "2021-03-10T06:00:00.000000000",
          "2021-03-12T09:00:00.000000000",
          "2021-03-16T05:44:00.000000000",
          "2021-03-17T13:50:00.000000000",
          "2021-03-18T03:35:00.000000000",
          "2021-03-19T04:22:00.000000000",
          "2021-03-22T05:36:00.000000000",
          "2021-03-22T06:48:00.000000000",
          "2021-03-23T04:27:00.000000000",
          "2021-03-24T02:36:00.000000000",
          "2021-03-26T06:49:00.000000000",
          "2021-03-30T05:55:00.000000000",
          "2021-04-01T07:00:00.000000000",
          "2021-04-07T05:51:00.000000000",
          "2021-04-07T06:30:00.000000000",
          "2021-04-08T08:46:00.000000000",
          "2021-04-12T02:14:00.000000000",
          "2021-04-12T05:45:00.000000000",
          "2021-04-13T10:00:00.000000000",
          "2021-04-14T06:38:00.000000000",
          "2021-04-14T07:00:00.000000000",
          "2021-04-19T08:00:00.000000000",
          "2021-04-19T08:54:00.000000000",
          "2021-04-20T13:00:00.000000000",
          "2021-04-22T12:00:00.000000000",
          "2021-04-22T12:33:00.000000000",
          "2021-04-23T12:00:00.000000000",
          "2021-04-23T12:22:00.000000000",
          "2021-04-26T11:00:00.000000000",
          "2021-04-28T13:00:00.000000000",
          "2021-04-29T16:00:00.000000000",
          "2021-04-30T01:00:00.000000000",
          "2021-04-30T06:18:00.000000000",
          "2021-04-30T10:08:00.000000000",
          "2021-04-30T14:52:00.000000000",
          "2021-05-05T13:36:00.000000000",
          "2021-05-06T10:00:00.000000000",
          "2021-05-10T05:00:00.000000000",
          "2021-05-10T06:00:00.000000000",
          "2021-05-11T08:00:00.000000000",
          "2021-05-11T10:00:00.000000000",
          "2021-05-11T12:00:00.000000000",
          "2021-05-12T12:00:00.000000000",
          "2021-05-13T05:00:00.000000000",
          "2021-05-14T06:00:00.000000000",
          "2021-05-19T00:00:00.000000000",
          "2021-05-27T07:00:00.000000000",
          "2021-05-27T02:41:00.000000000",
          "2021-06-08T07:00:00.000000000",
          "2021-06-08T07:00:00.000000000",
          "2021-06-08T10:00:00.000000000",
          "2021-06-08T12:00:00.000000000",
          "2021-06-08T13:00:00.000000000",
          "2021-06-17T07:00:00.000000000",
          "2021-06-21T03:00:00.000000000",
          "2021-06-22T05:00:00.000000000",
          "2021-06-22T07:00:00.000000000",
          "2021-06-30T07:00:00.000000000",
          "2021-07-01T07:00:00.000000000",
          "2021-07-01T11:00:00.000000000",
          "2021-07-06T16:00:00.000000000",
          "2021-07-07T04:00:00.000000000",
          "2021-07-09T07:27:00.000000000",
          "2021-07-12T07:00:00.000000000",
          "2021-07-12T07:28:00.000000000",
          "2021-07-12T10:00:00.000000000",
          "2021-07-19T06:00:00.000000000",
          "2021-07-20T03:28:00.000000000",
          "2021-07-23T07:21:00.000000000",
          "2021-07-27T06:00:00.000000000",
          "2021-07-27T07:00:00.000000000",
          "2021-07-27T08:20:00.000000000",
          "2021-07-27T13:00:00.000000000",
          "2021-08-11T12:00:00.000000000",
          "2021-08-12T11:00:00.000000000",
          "2021-08-12T13:00:00.000000000",
          "2021-08-12T14:00:00.000000000",
          "2021-08-16T06:00:00.000000000",
          "2021-08-17T06:00:00.000000000",
          "2021-08-17T07:06:00.000000000",
          "2021-08-17T10:00:00.000000000",
          "2021-08-17T16:00:00.000000000",
          "2021-08-19T06:00:00.000000000",
          "2021-08-19T06:27:00.000000000",
          "2021-08-19T07:00:00.000000000",
          "2021-08-19T07:57:00.000000000",
          "2021-08-19T14:00:00.000000000",
          "2021-08-20T05:00:00.000000000",
          "2021-08-20T11:00:00.000000000",
          "2021-08-20T08:00:00.000000000",
          "2021-08-24T07:00:00.000000000",
          "2021-08-24T13:31:00.000000000",
          "2021-08-26T12:36:00.000000000",
          "2021-09-01T07:00:00.000000000",
          "2021-09-17T13:54:00.000000000",
          "2021-09-20T06:10:00.000000000",
          "2021-09-20T06:45:00.000000000",
          "2021-09-23T10:11:00.000000000",
          "2021-09-28T09:50:00.000000000",
          "2021-09-29T13:34:00.000000000",
          "2021-10-01T06:54:00.000000000",
          "2021-10-12T06:45:00.000000000",
          "2021-10-25T08:56:00.000000000",
          "2021-10-25T13:50:00.000000000",
          "2021-10-27T08:42:00.000000000",
          "2021-10-27T09:01:00.000000000",
          "2021-10-27T10:48:00.000000000",
          "2021-10-28T07:59:00.000000000",
          "2021-11-02T08:52:00.000000000",
          "2021-11-04T08:44:00.000000000",
          "2021-11-04T10:09:00.000000000",
          "2021-11-04T12:00:00.000000000",
          "2021-11-04T11:36:00.000000000",
          "2021-11-09T14:54:00.000000000",
          "2021-11-18T05:05:00.000000000",
          "2021-11-22T11:48:00.000000000",
          "2021-11-24T04:01:00.000000000",
          "2021-11-24T07:58:00.000000000",
          "2021-11-24T08:00:00.000000000",
          "2021-11-30T05:19:00.000000000",
          "2021-11-30T06:01:00.000000000",
          "2021-11-30T11:15:00.000000000",
          "2021-11-30T13:32:00.000000000",
          "2021-11-30T14:45:00.000000000",
          "2021-12-02T13:45:00.000000000",
          "2021-12-03T11:02:00.000000000",
          "2021-12-07T08:33:00.000000000",
          "2021-12-07T09:09:00.000000000",
          "2021-12-07T10:52:00.000000000",
          "2021-12-07T11:23:00.000000000",
          "2021-12-07T13:18:00.000000000",
          "2021-12-09T10:42:00.000000000",
          "2021-12-09T10:48:00.000000000",
          "2021-12-15T14:59:00.000000000",
          "2021-12-17T10:03:00.000000000",
          "2022-01-05T10:37:00.000000000",
          "2022-01-14T12:28:00.000000000",
          "2022-01-17T12:06:00.000000000",
          "2022-01-20T08:21:00.000000000",
          "2022-01-20T10:35:00.000000000",
          "2022-01-20T11:56:00.000000000",
          "2022-01-24T13:31:00.000000000"
         ],
         "y": [
          -0.9999999999999464,
          -1.0036496350364132,
          -1.000000000000084,
          -1.004999999999825,
          -1.0045871559632757,
          -0.9954128440368871,
          -0.9950495049506031,
          -1.0000000000000144,
          -1.0000000000000062,
          -0.9964539007092409,
          -0.9999999999999486,
          -1.0017985611510063,
          -1.0029761904761578,
          -0.9999999999999981,
          -1.0000000000000018,
          -1.000000000000077,
          -1.0039370078739978,
          -1.0051546391752226,
          -1.0029940119759866,
          -0.9999999999999981,
          -1.0000000000000935,
          -1.001851851851836,
          -0.9999999999999909,
          -1.0034246575340737,
          -0.9964539007092409,
          -1.003448275862058,
          -0.9989106753812715,
          -1.000000000000038,
          -0.9946236559139907,
          -0.9974874371860507,
          -1.0000000000000187,
          -0.9999999999998226,
          -1.000000000000038,
          -1.0000000000000369,
          -1.0000000000001756,
          -0.9999999999998422,
          -0.9999999999998124,
          -0.9952380952381105,
          1.0092592592590781,
          -0.9912280701756996,
          -1.000000000000146,
          -0.9930555555557578,
          -1.0028735632183607,
          -0.995934959349612,
          -1.00303030303028,
          -1.0000000000000693,
          -0.9999999999998513,
          -0.9999999999999517,
          -1.0000000000001907,
          -1.00000000000009,
          -1.0032051282050902,
          -0.996644295302099,
          -0.9964539007092409,
          -1.003448275862058,
          -1.0000000000003084,
          -1.0036231884057492,
          -0.9964539007092409,
          -1.000000000000161,
          -0.9999999999999712,
          -0.9950000000000614,
          -0.996987951807281,
          -1.0000000000000138,
          -0.9999999999999627,
          -1.0035714285712465,
          -0.9934210526316478,
          -1.000000000000084,
          -0.9977477477478389,
          -1.002577319587508,
          -0.9979423868313038,
          -1.0030674846625711,
          -0.9971751412429624,
          -1.00277777777775,
          -1.0000000000000033,
          -0.9999999999999681,
          -1.0020080321284794,
          -1.0000000000001907,
          -1.0049504950493788,
          -0.9958333333334698,
          -1.000000000000059,
          -1.0020746887966654,
          -0.9999999999999739,
          -0.9999999999997818,
          -1.003184713375789,
          -1.0038167938930411,
          -1.0000000000000866,
          -1.0039062499999847,
          -0.9999999999998445,
          -1.000000000000038,
          -0.9999999999999923,
          -1.000000000000038,
          -1.002688172042985,
          -1.0000000000000138,
          -1.0029585798816527,
          -1.0035971223021452,
          -0.9999999999997885,
          -0.9999999999998513,
          -1.0028571428571402,
          -1.0000000000000164,
          -0.9999999999999671,
          -0.9999999999998964,
          -1.0000000000001534,
          -0.999999999999988,
          -1.0021929824561264,
          -0.9980769230769335,
          -0.997524752475297,
          -0.9964788732394911,
          -0.9970930232558656,
          -1.0000000000000009,
          -0.9999999999998319,
          -1.0000000000001086,
          -0.9999999999999517,
          -0.9999999999997818,
          -1.002577319587508,
          -0.9999999999999223,
          -0.9967741935484707,
          -0.9961832061069622,
          -1.0037593984962252,
          -1.003968253968198,
          -0.9972826086957028,
          -0.9970930232558656,
          -1.0000000000000455,
          -1.0033783783782724,
          -1.0000000000000122,
          -1.0000000000000884,
          -0.9978991596638656,
          -1.0000000000000884,
          -0.9999999999999509,
          -0.999999999999965,
          -1.0034965034964256,
          -0.9999999999999829,
          -1.000000000000113,
          -0.9974226804123723,
          -1.0000000000000138,
          -1.000000000000057,
          -0.9982517482517944,
          -1.000000000000038,
          -1.0014662756598134,
          -1.0000000000000107,
          -0.9999999999999277,
          -1.0031446540879245,
          -0.9979838709677511,
          -1.000000000000065,
          -1.0000000000000617,
          -0.9999999999999712,
          -0.9999999999999681,
          -0.997716894977196,
          -1.0022727272726684,
          -0.9975000000000023,
          -1.000000000000017,
          -0.9967320261438132,
          -0.9999999999999712,
          -0.9999999999999577,
          -1.0000000000000813,
          -1.0000000000000642,
          -0.9973544973545226,
          -0.9970238095239178,
          -1.0000000000000122,
          -1.0023923444975664,
          -0.9972067039106921,
          -1.0025252525252306,
          -0.9999999999999692,
          -1.0035971223021452,
          -0.9978260869565286,
          -0.9999999999999413,
          -0.9975728155339839,
          -0.9999999999999287,
          -0.9977678571428632,
          -0.9963235294118198,
          -0.9974358974359231,
          -0.997716894977196,
          -1.0025380710659437,
          -1.0020920502091737,
          -1.0000000000000377,
          -1.0024154589371101
         ]
        },
        {
         "marker": {
          "color": "rgba(55, 128, 191, 1.0)",
          "line": {
           "width": 1.3
          },
          "opacity": 0.8,
          "size": 6,
          "symbol": "circle"
         },
         "mode": "markers",
         "name": "CLOSE",
         "textfont": {
          "color": "#4D5663"
         },
         "type": "scatter",
         "x": [
          "2020-11-06T03:27:00.000000000",
          "2020-12-01T12:58:00.000000000",
          "2020-12-30T13:50:00.000000000",
          "2021-01-15T15:08:00.000000000",
          "2021-01-25T15:50:00.000000000",
          "2021-01-26T14:17:00.000000000",
          "2021-02-01T13:15:00.000000000",
          "2021-02-01T13:13:00.000000000",
          "2021-02-03T04:40:00.000000000",
          "2021-03-09T16:00:00.000000000",
          "2021-03-29T05:00:00.000000000",
          "2021-04-14T08:17:00.000000000",
          "2021-04-20T13:00:00.000000000",
          "2021-04-22T07:00:00.000000000",
          "2021-04-30T06:00:00.000000000",
          "2021-05-04T13:00:00.000000000",
          "2021-07-13T05:00:00.000000000",
          "2021-07-23T12:38:00.000000000",
          "2021-08-18T08:00:00.000000000",
          "2021-09-06T15:04:00.000000000",
          "2021-09-07T10:00:00.000000000",
          "2021-09-23T08:12:00.000000000",
          "2021-09-30T15:12:00.000000000",
          "2021-10-04T07:06:00.000000000",
          "2021-10-25T09:23:00.000000000",
          "2021-11-18T06:11:00.000000000",
          "2022-01-12T13:06:00.000000000"
         ],
         "y": [
          -0.02213114754087961,
          0.327192982456132,
          0.13106796116506733,
          1.318954248365995,
          0.86800000000012,
          0.7820512820512631,
          0.37039106145255185,
          -0.28290155440417053,
          -0.17362637362636565,
          0.15164835164841986,
          0.3536723163842317,
          0.1484693877550714,
          -0.062234042553171165,
          0.04793814432990604,
          -0.24485294117644849,
          0.0,
          -0.1031250000000483,
          1.318965517241356,
          0.36919191919194516,
          0.14482758620690206,
          -0.030612244897931344,
          0.5048458149780335,
          0.21541666666666498,
          0.5230769230768846,
          -0.16342412451360275,
          0.030000000000012066,
          0.43277777777777576
         ]
        },
        {
         "marker": {
          "color": "rgba(128, 0, 128, 1.0)",
          "line": {
           "width": 1.3
          },
          "opacity": 0.8,
          "size": 6,
          "symbol": "circle"
         },
         "mode": "markers",
         "name": "SL_TO_BE",
         "textfont": {
          "color": "#4D5663"
         },
         "type": "scatter",
         "x": [
          "2020-11-09T09:57:00.000000000",
          "2021-02-25T08:36:00.000000000",
          "2021-03-24T08:20:00.000000000",
          "2021-03-25T04:48:00.000000000",
          "2021-11-01T10:59:00.000000000",
          "2021-12-03T12:01:00.000000000",
          "2022-01-24T11:26:00.000000000"
         ],
         "y": [
          -0.036290322580589236,
          -0.016666666666678577,
          -0.07589285714283887,
          -0.06000000000009702,
          -0.027149321266969353,
          -0.052132701421780475,
          -0.03846153846158547
         ]
        },
        {
         "marker": {
          "color": "rgba(0, 128, 0, 1.0)",
          "line": {
           "width": 1.3
          },
          "opacity": 0.8,
          "size": 6,
          "symbol": "circle"
         },
         "mode": "markers",
         "name": "TP",
         "textfont": {
          "color": "#4D5663"
         },
         "type": "scatter",
         "x": [
          "2020-11-30T07:16:00.000000000",
          "2020-12-01T14:22:00.000000000",
          "2020-12-07T12:48:00.000000000",
          "2020-12-09T07:48:00.000000000",
          "2020-12-11T07:36:00.000000000",
          "2020-12-16T07:52:00.000000000",
          "2020-12-17T16:07:00.000000000",
          "2020-12-21T14:22:00.000000000",
          "2021-01-04T08:34:00.000000000",
          "2021-01-05T11:14:00.000000000",
          "2021-01-07T16:42:00.000000000",
          "2021-01-08T17:09:00.000000000",
          "2021-01-11T12:18:00.000000000",
          "2021-01-12T09:53:00.000000000",
          "2021-01-20T14:22:00.000000000",
          "2021-01-21T14:19:00.000000000",
          "2021-02-03T08:04:00.000000000",
          "2021-02-08T10:27:00.000000000",
          "2021-02-17T12:43:00.000000000",
          "2021-02-18T08:00:00.000000000",
          "2021-02-22T07:10:00.000000000",
          "2021-02-23T07:00:00.000000000",
          "2021-02-23T10:00:00.000000000",
          "2021-02-24T08:12:00.000000000",
          "2021-03-01T13:00:00.000000000",
          "2021-03-02T08:56:00.000000000",
          "2021-03-02T15:00:00.000000000",
          "2021-03-03T11:39:00.000000000",
          "2021-03-03T15:59:00.000000000",
          "2021-03-05T13:00:00.000000000",
          "2021-03-09T08:00:00.000000000",
          "2021-03-09T07:36:00.000000000",
          "2021-03-10T14:00:00.000000000",
          "2021-03-10T08:00:00.000000000",
          "2021-03-12T16:42:00.000000000",
          "2021-03-15T10:55:00.000000000",
          "2021-03-16T07:57:00.000000000",
          "2021-03-17T07:04:00.000000000",
          "2021-03-18T05:27:00.000000000",
          "2021-03-19T08:00:00.000000000",
          "2021-03-22T12:03:00.000000000",
          "2021-03-23T06:16:00.000000000",
          "2021-03-29T07:51:00.000000000",
          "2021-03-30T08:00:00.000000000",
          "2021-03-31T13:00:00.000000000",
          "2021-04-01T08:00:00.000000000",
          "2021-04-05T12:00:00.000000000",
          "2021-04-06T14:00:00.000000000",
          "2021-04-06T13:45:00.000000000",
          "2021-04-07T07:00:00.000000000",
          "2021-04-08T07:00:00.000000000",
          "2021-04-08T09:37:00.000000000",
          "2021-04-09T12:00:00.000000000",
          "2021-04-12T08:00:00.000000000",
          "2021-04-13T07:00:00.000000000",
          "2021-04-13T07:57:00.000000000",
          "2021-04-13T10:00:00.000000000",
          "2021-04-13T10:00:00.000000000",
          "2021-04-14T09:41:00.000000000",
          "2021-04-16T10:00:00.000000000",
          "2021-04-19T10:00:00.000000000",
          "2021-04-20T06:00:00.000000000",
          "2021-04-21T07:00:00.000000000",
          "2021-04-21T07:57:00.000000000",
          "2021-04-22T08:42:00.000000000",
          "2021-04-26T12:40:00.000000000",
          "2021-04-27T14:00:00.000000000",
          "2021-05-03T12:44:00.000000000",
          "2021-05-04T13:49:00.000000000",
          "2021-05-04T15:00:00.000000000",
          "2021-05-05T14:00:00.000000000",
          "2021-05-06T14:00:00.000000000",
          "2021-05-07T12:00:00.000000000",
          "2021-05-10T14:00:00.000000000",
          "2021-05-11T13:19:00.000000000",
          "2021-05-13T07:53:00.000000000",
          "2021-05-14T13:00:00.000000000",
          "2021-05-17T15:00:00.000000000",
          "2021-05-19T12:00:00.000000000",
          "2021-05-20T09:00:00.000000000",
          "2021-05-24T13:47:00.000000000",
          "2021-05-26T07:14:00.000000000",
          "2021-05-26T13:00:00.000000000",
          "2021-05-27T07:00:00.000000000",
          "2021-06-09T08:00:00.000000000",
          "2021-06-10T12:00:00.000000000",
          "2021-06-11T16:00:00.000000000",
          "2021-06-15T08:00:00.000000000",
          "2021-06-15T13:38:00.000000000",
          "2021-06-21T06:00:00.000000000",
          "2021-06-22T08:00:00.000000000",
          "2021-07-06T07:00:00.000000000",
          "2021-07-07T05:56:00.000000000",
          "2021-07-07T13:50:00.000000000",
          "2021-07-08T13:36:00.000000000",
          "2021-07-09T10:00:00.000000000",
          "2021-07-12T13:00:00.000000000",
          "2021-07-14T13:00:00.000000000",
          "2021-07-15T07:27:00.000000000",
          "2021-07-16T07:51:00.000000000",
          "2021-07-20T14:01:00.000000000",
          "2021-07-21T07:00:00.000000000",
          "2021-07-22T07:00:00.000000000",
          "2021-07-26T09:00:00.000000000",
          "2021-07-26T08:44:00.000000000",
          "2021-07-27T14:50:00.000000000",
          "2021-07-29T08:00:00.000000000",
          "2021-07-30T07:00:00.000000000",
          "2021-08-02T09:00:00.000000000",
          "2021-08-03T08:00:00.000000000",
          "2021-08-04T12:00:00.000000000",
          "2021-08-05T14:00:00.000000000",
          "2021-08-09T08:00:00.000000000",
          "2021-08-09T09:28:00.000000000",
          "2021-08-10T08:00:00.000000000",
          "2021-08-13T07:00:00.000000000",
          "2021-08-16T11:00:00.000000000",
          "2021-08-18T08:00:00.000000000",
          "2021-08-18T11:49:00.000000000",
          "2021-08-19T12:41:00.000000000",
          "2021-08-20T13:00:00.000000000",
          "2021-08-20T13:46:00.000000000",
          "2021-08-23T06:00:00.000000000",
          "2021-08-23T14:00:00.000000000",
          "2021-08-24T08:00:00.000000000",
          "2021-08-24T10:00:00.000000000",
          "2021-08-25T14:00:00.000000000",
          "2021-08-26T11:00:00.000000000",
          "2021-08-27T06:56:00.000000000",
          "2021-08-31T06:34:00.000000000",
          "2021-09-02T07:38:00.000000000",
          "2021-09-07T16:00:00.000000000",
          "2021-09-08T14:00:00.000000000",
          "2021-09-13T10:00:00.000000000",
          "2021-09-13T06:41:00.000000000",
          "2021-09-15T13:55:00.000000000",
          "2021-09-16T11:35:00.000000000",
          "2021-09-23T11:08:00.000000000",
          "2021-09-23T10:49:00.000000000",
          "2021-09-24T13:33:00.000000000",
          "2021-09-27T11:13:00.000000000",
          "2021-09-29T14:45:00.000000000",
          "2021-10-01T09:35:00.000000000",
          "2021-10-04T08:00:00.000000000",
          "2021-10-05T14:45:00.000000000",
          "2021-10-07T09:17:00.000000000",
          "2021-10-08T14:05:00.000000000",
          "2021-10-12T09:12:00.000000000",
          "2021-10-12T12:04:00.000000000",
          "2021-10-13T10:16:00.000000000",
          "2021-10-25T10:50:00.000000000",
          "2021-11-01T09:00:00.000000000",
          "2021-11-02T12:00:00.000000000",
          "2021-11-03T12:56:00.000000000",
          "2021-11-04T08:15:00.000000000",
          "2021-11-08T15:28:00.000000000",
          "2021-11-11T17:29:00.000000000",
          "2021-11-18T09:20:00.000000000",
          "2021-11-29T10:55:00.000000000",
          "2021-12-02T17:10:00.000000000",
          "2021-12-06T16:19:00.000000000",
          "2021-12-08T10:36:00.000000000",
          "2021-12-08T13:54:00.000000000",
          "2021-12-09T14:24:00.000000000",
          "2021-12-13T10:17:00.000000000",
          "2021-12-14T11:10:00.000000000",
          "2021-12-16T08:15:00.000000000",
          "2021-12-17T12:47:00.000000000",
          "2021-12-20T13:14:00.000000000",
          "2021-12-21T16:13:00.000000000",
          "2021-12-27T12:32:00.000000000",
          "2022-01-04T09:45:00.000000000",
          "2022-01-04T08:01:00.000000000",
          "2022-01-05T16:20:00.000000000",
          "2022-01-06T10:13:00.000000000",
          "2022-01-13T12:01:00.000000000",
          "2022-01-14T12:24:00.000000000",
          "2022-01-17T15:28:00.000000000",
          "2022-01-18T08:15:00.000000000",
          "2022-01-19T09:45:00.000000000",
          "2022-01-24T15:11:00.000000000",
          "2022-01-25T11:55:00.000000000",
          "2022-01-26T16:23:00.000000000",
          "2022-01-27T11:38:00.000000000",
          "2022-01-31T16:42:00.000000000",
          "2022-02-01T15:25:00.000000000"
         ],
         "y": [
          1.8809523809524027,
          2.4155844155844335,
          0.5004424778761188,
          0.40000000000001507,
          0.36652173913044245,
          2.4600000000000932,
          2.169172932330863,
          0.9927184466020047,
          1.4171974522292414,
          0.4296874999999644,
          0.5162011173184236,
          0.4960893854748474,
          1.485950413223189,
          0.9680306905371053,
          0.9137931034482287,
          0.5979729729730052,
          0.9814102564101873,
          0.8345744680850246,
          1.30660377358479,
          1.4166666666667047,
          1.4033112582780891,
          0.5999999999999338,
          0.8575757575758043,
          0.5029411764706072,
          0.6707589285714275,
          0.4143968871595543,
          0.6499999999999334,
          0.5907488986784177,
          1.949152542372891,
          0.5714285714285932,
          1.210526315789474,
          0.7336633663366755,
          1.3333333333332482,
          1.0647773279351864,
          0.7011428571428827,
          0.14137931034483497,
          0.18644067796613134,
          1.9007633587787387,
          0.4205020920502073,
          0.019465648854957142,
          0.06403162055335788,
          0.5311688311688313,
          1.2154255319148464,
          2.147435897435912,
          1.2412790697675358,
          1.6468926553672323,
          0.8767857142857168,
          2.060483870967703,
          0.5044692737429962,
          0.9615819209040501,
          0.5865671641791054,
          1.1391812865496953,
          1.438650306748448,
          1.380281690140764,
          0.5651162790697558,
          0.6766423357663829,
          0.6707317073171563,
          0.6737288135592873,
          1.6087999999999738,
          0.7996323529411389,
          1.2222222222222685,
          1.6710743801652823,
          1.4402515723269853,
          2.1230769230768285,
          0.7650306748465996,
          0.8999999999999219,
          1.3957219251336364,
          0.39374999999998356,
          0.6128571428571864,
          1.526315789473702,
          0.7214285714285649,
          1.043835616438318,
          0.6275862068966082,
          0.7124999999999915,
          0.30219780219782993,
          0.6265193370166308,
          0.9306049822063704,
          0.5707317073170532,
          1.5070422535211174,
          1.8521505376343987,
          0.9086956521738805,
          0.6572093023255493,
          0.9129213483146068,
          0.5593548387096527,
          1.6340206185567845,
          2.022900763358776,
          0.5819672131146907,
          0.5510638297872537,
          0.752903225806471,
          1.0981735159817227,
          0.5328671328671729,
          0.4359605911329444,
          1.0380952380951873,
          0.4975609756097403,
          0.9814814814814076,
          0.902439024390255,
          1.6215469613259366,
          0.7035714285714383,
          1.2672955974842681,
          0.8201923076923161,
          0.09360730593609175,
          1.3224852071005326,
          1.3731884057971704,
          1.3115183246073574,
          1.4483870967741965,
          0.3941379310345124,
          2.1902654867256337,
          1.1666666666667485,
          0.24440894568693292,
          0.973568281938317,
          0.5231092436974332,
          1.2286245353160088,
          0.5748603351955605,
          0.8855218855219031,
          1.1642512077295355,
          0.5427745664740665,
          1.3274853801170148,
          0.9384615384615012,
          0.4659898477157104,
          0.24999999999998057,
          0.5142857142856999,
          0.7907284768212408,
          1.4129213483146819,
          0.49790575916231505,
          1.665354330708579,
          0.7410447761193859,
          0.4840206185566827,
          0.7655844155844723,
          1.282165605095563,
          1.263057324840767,
          1.0415204678361942,
          1.8308270676690466,
          0.6561290322580619,
          0.5731843575418736,
          0.22795275590549247,
          0.8301587301586789,
          1.1218487394959245,
          0.4612781954886885,
          0.48717948717953596,
          0.6260204081632527,
          0.5091743119266118,
          0.570129870129824,
          1.7215189873417893,
          1.8999999999999577,
          1.4034334763948908,
          0.9295774647887478,
          1.6229508196721771,
          1.289237668161435,
          1.348809523809479,
          1.445414847161573,
          0.5438848920863515,
          0.47295918367350903,
          1.2421524663676793,
          1.614525139664765,
          0.7636363636364248,
          0.6014285714285603,
          0.8906832298136808,
          0.5660633484162532,
          0.8333333333333097,
          1.219758064516074,
          1.222222222222295,
          1.1651982378854295,
          1.2665094339622653,
          0.6411764705882038,
          1.3392344497607007,
          1.4082568807339158,
          1.3271028037383328,
          2.8994565217391814,
          1.0948616600790442,
          1.458536585365858,
          1.2365384615384902,
          1.5022321428571468,
          1.2354368932038637,
          1.4477611940298065,
          1.3625468164794559,
          0.7043478260869831,
          0.6043062200956827,
          0.6714285714285744,
          0.48676470588237836,
          1.968553459119494,
          0.5675324675324829,
          0.5933628318584107,
          1.2535211267605175,
          0.5893401015228433,
          0.3929752066115793,
          1.443661971830954
         ]
        },
        {
         "marker": {
          "color": "rgba(128, 128, 128, 1.0)",
          "line": {
           "width": 1.3
          },
          "opacity": 0.8,
          "size": 6,
          "symbol": "circle"
         },
         "mode": "markers",
         "name": "PARTIALS",
         "textfont": {
          "color": "#4D5663"
         },
         "type": "scatter",
         "x": [
          "2020-12-18T07:16:00.000000000",
          "2021-03-01T15:59:00.000000000",
          "2021-11-09T08:12:00.000000000"
         ],
         "y": [
          -0.15197368421052274,
          0.37428571428567425,
          0.3362385321100676
         ]
        },
        {
         "marker": {
          "color": "rgba(0, 0, 0, 1.0)",
          "line": {
           "width": 1.3
          },
          "opacity": 0.8,
          "size": 6,
          "symbol": "circle"
         },
         "mode": "markers",
         "name": "EOP",
         "textfont": {
          "color": "#4D5663"
         },
         "type": "scatter",
         "x": [
          "2021-02-03T17:29:00.000000000",
          "2021-04-29T16:29:00.000000000",
          "2021-06-14T16:29:00.000000000",
          "2021-08-11T16:29:00.000000000",
          "2021-08-30T16:29:00.000000000",
          "2021-08-30T16:29:00.000000000",
          "2021-09-08T16:29:00.000000000",
          "2021-11-08T17:29:00.000000000",
          "2021-11-17T17:29:00.000000000",
          "2021-11-24T17:29:00.000000000"
         ],
         "y": [
          0.6358024691357389,
          0.08834586466159515,
          -0.026785714285757593,
          -0.172839506172963,
          0.09547738693455796,
          0.812154696132549,
          1.6871508379889437,
          0.003496503496520192,
          0.09248554913289672,
          -0.5684210526316005
         ]
        }
       ],
       "layout": {
        "legend": {
         "bgcolor": "#FFFFFF",
         "font": {
          "color": "#4D5663"
         }
        },
        "paper_bgcolor": "#FFFFFF",
        "plot_bgcolor": "#FFFFFF",
        "template": {
         "data": {
          "bar": [
           {
            "error_x": {
             "color": "#2a3f5f"
            },
            "error_y": {
             "color": "#2a3f5f"
            },
            "marker": {
             "line": {
              "color": "#E5ECF6",
              "width": 0.5
             },
             "pattern": {
              "fillmode": "overlay",
              "size": 10,
              "solidity": 0.2
             }
            },
            "type": "bar"
           }
          ],
          "barpolar": [
           {
            "marker": {
             "line": {
              "color": "#E5ECF6",
              "width": 0.5
             },
             "pattern": {
              "fillmode": "overlay",
              "size": 10,
              "solidity": 0.2
             }
            },
            "type": "barpolar"
           }
          ],
          "carpet": [
           {
            "aaxis": {
             "endlinecolor": "#2a3f5f",
             "gridcolor": "white",
             "linecolor": "white",
             "minorgridcolor": "white",
             "startlinecolor": "#2a3f5f"
            },
            "baxis": {
             "endlinecolor": "#2a3f5f",
             "gridcolor": "white",
             "linecolor": "white",
             "minorgridcolor": "white",
             "startlinecolor": "#2a3f5f"
            },
            "type": "carpet"
           }
          ],
          "choropleth": [
           {
            "colorbar": {
             "outlinewidth": 0,
             "ticks": ""
            },
            "type": "choropleth"
           }
          ],
          "contour": [
           {
            "colorbar": {
             "outlinewidth": 0,
             "ticks": ""
            },
            "colorscale": [
             [
              0.0,
              "#0d0887"
             ],
             [
              0.1111111111111111,
              "#46039f"
             ],
             [
              0.2222222222222222,
              "#7201a8"
             ],
             [
              0.3333333333333333,
              "#9c179e"
             ],
             [
              0.4444444444444444,
              "#bd3786"
             ],
             [
              0.5555555555555556,
              "#d8576b"
             ],
             [
              0.6666666666666666,
              "#ed7953"
             ],
             [
              0.7777777777777778,
              "#fb9f3a"
             ],
             [
              0.8888888888888888,
              "#fdca26"
             ],
             [
              1.0,
              "#f0f921"
             ]
            ],
            "type": "contour"
           }
          ],
          "contourcarpet": [
           {
            "colorbar": {
             "outlinewidth": 0,
             "ticks": ""
            },
            "type": "contourcarpet"
           }
          ],
          "heatmap": [
           {
            "colorbar": {
             "outlinewidth": 0,
             "ticks": ""
            },
            "colorscale": [
             [
              0.0,
              "#0d0887"
             ],
             [
              0.1111111111111111,
              "#46039f"
             ],
             [
              0.2222222222222222,
              "#7201a8"
             ],
             [
              0.3333333333333333,
              "#9c179e"
             ],
             [
              0.4444444444444444,
              "#bd3786"
             ],
             [
              0.5555555555555556,
              "#d8576b"
             ],
             [
              0.6666666666666666,
              "#ed7953"
             ],
             [
              0.7777777777777778,
              "#fb9f3a"
             ],
             [
              0.8888888888888888,
              "#fdca26"
             ],
             [
              1.0,
              "#f0f921"
             ]
            ],
            "type": "heatmap"
           }
          ],
          "heatmapgl": [
           {
            "colorbar": {
             "outlinewidth": 0,
             "ticks": ""
            },
            "colorscale": [
             [
              0.0,
              "#0d0887"
             ],
             [
              0.1111111111111111,
              "#46039f"
             ],
             [
              0.2222222222222222,
              "#7201a8"
             ],
             [
              0.3333333333333333,
              "#9c179e"
             ],
             [
              0.4444444444444444,
              "#bd3786"
             ],
             [
              0.5555555555555556,
              "#d8576b"
             ],
             [
              0.6666666666666666,
              "#ed7953"
             ],
             [
              0.7777777777777778,
              "#fb9f3a"
             ],
             [
              0.8888888888888888,
              "#fdca26"
             ],
             [
              1.0,
              "#f0f921"
             ]
            ],
            "type": "heatmapgl"
           }
          ],
          "histogram": [
           {
            "marker": {
             "pattern": {
              "fillmode": "overlay",
              "size": 10,
              "solidity": 0.2
             }
            },
            "type": "histogram"
           }
          ],
          "histogram2d": [
           {
            "colorbar": {
             "outlinewidth": 0,
             "ticks": ""
            },
            "colorscale": [
             [
              0.0,
              "#0d0887"
             ],
             [
              0.1111111111111111,
              "#46039f"
             ],
             [
              0.2222222222222222,
              "#7201a8"
             ],
             [
              0.3333333333333333,
              "#9c179e"
             ],
             [
              0.4444444444444444,
              "#bd3786"
             ],
             [
              0.5555555555555556,
              "#d8576b"
             ],
             [
              0.6666666666666666,
              "#ed7953"
             ],
             [
              0.7777777777777778,
              "#fb9f3a"
             ],
             [
              0.8888888888888888,
              "#fdca26"
             ],
             [
              1.0,
              "#f0f921"
             ]
            ],
            "type": "histogram2d"
           }
          ],
          "histogram2dcontour": [
           {
            "colorbar": {
             "outlinewidth": 0,
             "ticks": ""
            },
            "colorscale": [
             [
              0.0,
              "#0d0887"
             ],
             [
              0.1111111111111111,
              "#46039f"
             ],
             [
              0.2222222222222222,
              "#7201a8"
             ],
             [
              0.3333333333333333,
              "#9c179e"
             ],
             [
              0.4444444444444444,
              "#bd3786"
             ],
             [
              0.5555555555555556,
              "#d8576b"
             ],
             [
              0.6666666666666666,
              "#ed7953"
             ],
             [
              0.7777777777777778,
              "#fb9f3a"
             ],
             [
              0.8888888888888888,
              "#fdca26"
             ],
             [
              1.0,
              "#f0f921"
             ]
            ],
            "type": "histogram2dcontour"
           }
          ],
          "mesh3d": [
           {
            "colorbar": {
             "outlinewidth": 0,
             "ticks": ""
            },
            "type": "mesh3d"
           }
          ],
          "parcoords": [
           {
            "line": {
             "colorbar": {
              "outlinewidth": 0,
              "ticks": ""
             }
            },
            "type": "parcoords"
           }
          ],
          "pie": [
           {
            "automargin": true,
            "type": "pie"
           }
          ],
          "scatter": [
           {
            "marker": {
             "colorbar": {
              "outlinewidth": 0,
              "ticks": ""
             }
            },
            "type": "scatter"
           }
          ],
          "scatter3d": [
           {
            "line": {
             "colorbar": {
              "outlinewidth": 0,
              "ticks": ""
             }
            },
            "marker": {
             "colorbar": {
              "outlinewidth": 0,
              "ticks": ""
             }
            },
            "type": "scatter3d"
           }
          ],
          "scattercarpet": [
           {
            "marker": {
             "colorbar": {
              "outlinewidth": 0,
              "ticks": ""
             }
            },
            "type": "scattercarpet"
           }
          ],
          "scattergeo": [
           {
            "marker": {
             "colorbar": {
              "outlinewidth": 0,
              "ticks": ""
             }
            },
            "type": "scattergeo"
           }
          ],
          "scattergl": [
           {
            "marker": {
             "colorbar": {
              "outlinewidth": 0,
              "ticks": ""
             }
            },
            "type": "scattergl"
           }
          ],
          "scattermapbox": [
           {
            "marker": {
             "colorbar": {
              "outlinewidth": 0,
              "ticks": ""
             }
            },
            "type": "scattermapbox"
           }
          ],
          "scatterpolar": [
           {
            "marker": {
             "colorbar": {
              "outlinewidth": 0,
              "ticks": ""
             }
            },
            "type": "scatterpolar"
           }
          ],
          "scatterpolargl": [
           {
            "marker": {
             "colorbar": {
              "outlinewidth": 0,
              "ticks": ""
             }
            },
            "type": "scatterpolargl"
           }
          ],
          "scatterternary": [
           {
            "marker": {
             "colorbar": {
              "outlinewidth": 0,
              "ticks": ""
             }
            },
            "type": "scatterternary"
           }
          ],
          "surface": [
           {
            "colorbar": {
             "outlinewidth": 0,
             "ticks": ""
            },
            "colorscale": [
             [
              0.0,
              "#0d0887"
             ],
             [
              0.1111111111111111,
              "#46039f"
             ],
             [
              0.2222222222222222,
              "#7201a8"
             ],
             [
              0.3333333333333333,
              "#9c179e"
             ],
             [
              0.4444444444444444,
              "#bd3786"
             ],
             [
              0.5555555555555556,
              "#d8576b"
             ],
             [
              0.6666666666666666,
              "#ed7953"
             ],
             [
              0.7777777777777778,
              "#fb9f3a"
             ],
             [
              0.8888888888888888,
              "#fdca26"
             ],
             [
              1.0,
              "#f0f921"
             ]
            ],
            "type": "surface"
           }
          ],
          "table": [
           {
            "cells": {
             "fill": {
              "color": "#EBF0F8"
             },
             "line": {
              "color": "white"
             }
            },
            "header": {
             "fill": {
              "color": "#C8D4E3"
             },
             "line": {
              "color": "white"
             }
            },
            "type": "table"
           }
          ]
         },
         "layout": {
          "annotationdefaults": {
           "arrowcolor": "#2a3f5f",
           "arrowhead": 0,
           "arrowwidth": 1
          },
          "autotypenumbers": "strict",
          "coloraxis": {
           "colorbar": {
            "outlinewidth": 0,
            "ticks": ""
           }
          },
          "colorscale": {
           "diverging": [
            [
             0,
             "#8e0152"
            ],
            [
             0.1,
             "#c51b7d"
            ],
            [
             0.2,
             "#de77ae"
            ],
            [
             0.3,
             "#f1b6da"
            ],
            [
             0.4,
             "#fde0ef"
            ],
            [
             0.5,
             "#f7f7f7"
            ],
            [
             0.6,
             "#e6f5d0"
            ],
            [
             0.7,
             "#b8e186"
            ],
            [
             0.8,
             "#7fbc41"
            ],
            [
             0.9,
             "#4d9221"
            ],
            [
             1,
             "#276419"
            ]
           ],
           "sequential": [
            [
             0.0,
             "#0d0887"
            ],
            [
             0.1111111111111111,
             "#46039f"
            ],
            [
             0.2222222222222222,
             "#7201a8"
            ],
            [
             0.3333333333333333,
             "#9c179e"
            ],
            [
             0.4444444444444444,
             "#bd3786"
            ],
            [
             0.5555555555555556,
             "#d8576b"
            ],
            [
             0.6666666666666666,
             "#ed7953"
            ],
            [
             0.7777777777777778,
             "#fb9f3a"
            ],
            [
             0.8888888888888888,
             "#fdca26"
            ],
            [
             1.0,
             "#f0f921"
            ]
           ],
           "sequentialminus": [
            [
             0.0,
             "#0d0887"
            ],
            [
             0.1111111111111111,
             "#46039f"
            ],
            [
             0.2222222222222222,
             "#7201a8"
            ],
            [
             0.3333333333333333,
             "#9c179e"
            ],
            [
             0.4444444444444444,
             "#bd3786"
            ],
            [
             0.5555555555555556,
             "#d8576b"
            ],
            [
             0.6666666666666666,
             "#ed7953"
            ],
            [
             0.7777777777777778,
             "#fb9f3a"
            ],
            [
             0.8888888888888888,
             "#fdca26"
            ],
            [
             1.0,
             "#f0f921"
            ]
           ]
          },
          "colorway": [
           "#636efa",
           "#EF553B",
           "#00cc96",
           "#ab63fa",
           "#FFA15A",
           "#19d3f3",
           "#FF6692",
           "#B6E880",
           "#FF97FF",
           "#FECB52"
          ],
          "font": {
           "color": "#2a3f5f"
          },
          "geo": {
           "bgcolor": "white",
           "lakecolor": "white",
           "landcolor": "#E5ECF6",
           "showlakes": true,
           "showland": true,
           "subunitcolor": "white"
          },
          "hoverlabel": {
           "align": "left"
          },
          "hovermode": "closest",
          "mapbox": {
           "style": "light"
          },
          "paper_bgcolor": "white",
          "plot_bgcolor": "#E5ECF6",
          "polar": {
           "angularaxis": {
            "gridcolor": "white",
            "linecolor": "white",
            "ticks": ""
           },
           "bgcolor": "#E5ECF6",
           "radialaxis": {
            "gridcolor": "white",
            "linecolor": "white",
            "ticks": ""
           }
          },
          "scene": {
           "xaxis": {
            "backgroundcolor": "#E5ECF6",
            "gridcolor": "white",
            "gridwidth": 2,
            "linecolor": "white",
            "showbackground": true,
            "ticks": "",
            "zerolinecolor": "white"
           },
           "yaxis": {
            "backgroundcolor": "#E5ECF6",
            "gridcolor": "white",
            "gridwidth": 2,
            "linecolor": "white",
            "showbackground": true,
            "ticks": "",
            "zerolinecolor": "white"
           },
           "zaxis": {
            "backgroundcolor": "#E5ECF6",
            "gridcolor": "white",
            "gridwidth": 2,
            "linecolor": "white",
            "showbackground": true,
            "ticks": "",
            "zerolinecolor": "white"
           }
          },
          "shapedefaults": {
           "line": {
            "color": "#2a3f5f"
           }
          },
          "ternary": {
           "aaxis": {
            "gridcolor": "white",
            "linecolor": "white",
            "ticks": ""
           },
           "baxis": {
            "gridcolor": "white",
            "linecolor": "white",
            "ticks": ""
           },
           "bgcolor": "#E5ECF6",
           "caxis": {
            "gridcolor": "white",
            "linecolor": "white",
            "ticks": ""
           }
          },
          "title": {
           "x": 0.05
          },
          "xaxis": {
           "automargin": true,
           "gridcolor": "white",
           "linecolor": "white",
           "ticks": "",
           "title": {
            "standoff": 15
           },
           "zerolinecolor": "white",
           "zerolinewidth": 2
          },
          "yaxis": {
           "automargin": true,
           "gridcolor": "white",
           "linecolor": "white",
           "ticks": "",
           "title": {
            "standoff": 15
           },
           "zerolinecolor": "white",
           "zerolinewidth": 2
          }
         }
        },
        "title": {
         "font": {
          "color": "#4D5663"
         },
         "text": "Risultati (R) in base al tipo di chiusura"
        },
        "xaxis": {
         "gridcolor": "#E1E5ED",
         "showgrid": true,
         "tickfont": {
          "color": "#4D5663"
         },
         "title": {
          "font": {
           "color": "#4D5663"
          },
          "text": ""
         },
         "zerolinecolor": "#E1E5ED"
        },
        "yaxis": {
         "gridcolor": "#E1E5ED",
         "showgrid": true,
         "tickfont": {
          "color": "#4D5663"
         },
         "title": {
          "font": {
           "color": "#4D5663"
          },
          "text": "R"
         },
         "zerolinecolor": "#E1E5ED"
        }
       }
      },
      "text/html": [
       "<div>                            <div id=\"cfd73d30-9e8b-45eb-b967-69eb6b73cbc0\" class=\"plotly-graph-div\" style=\"height:525px; width:100%;\"></div>            <script type=\"text/javascript\">                require([\"plotly\"], function(Plotly) {                    window.PLOTLYENV=window.PLOTLYENV || {};                                    if (document.getElementById(\"cfd73d30-9e8b-45eb-b967-69eb6b73cbc0\")) {                    Plotly.newPlot(                        \"cfd73d30-9e8b-45eb-b967-69eb6b73cbc0\",                        [{\"marker\":{\"color\":\"rgba(219, 64, 82, 1.0)\",\"line\":{\"width\":1.3},\"opacity\":0.8,\"size\":6,\"symbol\":\"circle\"},\"mode\":\"markers\",\"name\":\"SL\",\"textfont\":{\"color\":\"#4D5663\"},\"x\":[\"2020-11-05T13:05:00.000000000\",\"2020-11-05T13:42:00.000000000\",\"2020-11-11T00:06:00.000000000\",\"2020-11-11T01:02:00.000000000\",\"2020-12-01T07:07:00.000000000\",\"2020-12-04T13:30:00.000000000\",\"2020-12-10T15:32:00.000000000\",\"2020-12-17T14:22:00.000000000\",\"2020-12-17T15:04:00.000000000\",\"2020-12-18T08:27:00.000000000\",\"2020-12-22T14:57:00.000000000\",\"2020-12-22T16:01:00.000000000\",\"2020-12-31T07:59:00.000000000\",\"2021-01-08T05:17:00.000000000\",\"2021-01-11T15:19:00.000000000\",\"2021-01-19T07:24:00.000000000\",\"2021-01-21T13:33:00.000000000\",\"2021-01-22T13:16:00.000000000\",\"2021-01-28T01:10:00.000000000\",\"2021-01-29T06:48:00.000000000\",\"2021-01-29T08:08:00.000000000\",\"2021-02-01T08:51:00.000000000\",\"2021-02-01T12:16:00.000000000\",\"2021-02-01T13:16:00.000000000\",\"2021-02-02T08:20:00.000000000\",\"2021-02-05T08:00:00.000000000\",\"2021-02-09T07:00:00.000000000\",\"2021-02-16T14:00:00.000000000\",\"2021-02-25T07:00:00.000000000\",\"2021-02-25T08:00:00.000000000\",\"2021-03-01T13:00:00.000000000\",\"2021-03-09T05:00:00.000000000\",\"2021-03-10T06:00:00.000000000\",\"2021-03-12T09:00:00.000000000\",\"2021-03-16T05:44:00.000000000\",\"2021-03-17T13:50:00.000000000\",\"2021-03-18T03:35:00.000000000\",\"2021-03-19T04:22:00.000000000\",\"2021-03-22T05:36:00.000000000\",\"2021-03-22T06:48:00.000000000\",\"2021-03-23T04:27:00.000000000\",\"2021-03-24T02:36:00.000000000\",\"2021-03-26T06:49:00.000000000\",\"2021-03-30T05:55:00.000000000\",\"2021-04-01T07:00:00.000000000\",\"2021-04-07T05:51:00.000000000\",\"2021-04-07T06:30:00.000000000\",\"2021-04-08T08:46:00.000000000\",\"2021-04-12T02:14:00.000000000\",\"2021-04-12T05:45:00.000000000\",\"2021-04-13T10:00:00.000000000\",\"2021-04-14T06:38:00.000000000\",\"2021-04-14T07:00:00.000000000\",\"2021-04-19T08:00:00.000000000\",\"2021-04-19T08:54:00.000000000\",\"2021-04-20T13:00:00.000000000\",\"2021-04-22T12:00:00.000000000\",\"2021-04-22T12:33:00.000000000\",\"2021-04-23T12:00:00.000000000\",\"2021-04-23T12:22:00.000000000\",\"2021-04-26T11:00:00.000000000\",\"2021-04-28T13:00:00.000000000\",\"2021-04-29T16:00:00.000000000\",\"2021-04-30T01:00:00.000000000\",\"2021-04-30T06:18:00.000000000\",\"2021-04-30T10:08:00.000000000\",\"2021-04-30T14:52:00.000000000\",\"2021-05-05T13:36:00.000000000\",\"2021-05-06T10:00:00.000000000\",\"2021-05-10T05:00:00.000000000\",\"2021-05-10T06:00:00.000000000\",\"2021-05-11T08:00:00.000000000\",\"2021-05-11T10:00:00.000000000\",\"2021-05-11T12:00:00.000000000\",\"2021-05-12T12:00:00.000000000\",\"2021-05-13T05:00:00.000000000\",\"2021-05-14T06:00:00.000000000\",\"2021-05-19T00:00:00.000000000\",\"2021-05-27T07:00:00.000000000\",\"2021-05-27T02:41:00.000000000\",\"2021-06-08T07:00:00.000000000\",\"2021-06-08T07:00:00.000000000\",\"2021-06-08T10:00:00.000000000\",\"2021-06-08T12:00:00.000000000\",\"2021-06-08T13:00:00.000000000\",\"2021-06-17T07:00:00.000000000\",\"2021-06-21T03:00:00.000000000\",\"2021-06-22T05:00:00.000000000\",\"2021-06-22T07:00:00.000000000\",\"2021-06-30T07:00:00.000000000\",\"2021-07-01T07:00:00.000000000\",\"2021-07-01T11:00:00.000000000\",\"2021-07-06T16:00:00.000000000\",\"2021-07-07T04:00:00.000000000\",\"2021-07-09T07:27:00.000000000\",\"2021-07-12T07:00:00.000000000\",\"2021-07-12T07:28:00.000000000\",\"2021-07-12T10:00:00.000000000\",\"2021-07-19T06:00:00.000000000\",\"2021-07-20T03:28:00.000000000\",\"2021-07-23T07:21:00.000000000\",\"2021-07-27T06:00:00.000000000\",\"2021-07-27T07:00:00.000000000\",\"2021-07-27T08:20:00.000000000\",\"2021-07-27T13:00:00.000000000\",\"2021-08-11T12:00:00.000000000\",\"2021-08-12T11:00:00.000000000\",\"2021-08-12T13:00:00.000000000\",\"2021-08-12T14:00:00.000000000\",\"2021-08-16T06:00:00.000000000\",\"2021-08-17T06:00:00.000000000\",\"2021-08-17T07:06:00.000000000\",\"2021-08-17T10:00:00.000000000\",\"2021-08-17T16:00:00.000000000\",\"2021-08-19T06:00:00.000000000\",\"2021-08-19T06:27:00.000000000\",\"2021-08-19T07:00:00.000000000\",\"2021-08-19T07:57:00.000000000\",\"2021-08-19T14:00:00.000000000\",\"2021-08-20T05:00:00.000000000\",\"2021-08-20T11:00:00.000000000\",\"2021-08-20T08:00:00.000000000\",\"2021-08-24T07:00:00.000000000\",\"2021-08-24T13:31:00.000000000\",\"2021-08-26T12:36:00.000000000\",\"2021-09-01T07:00:00.000000000\",\"2021-09-17T13:54:00.000000000\",\"2021-09-20T06:10:00.000000000\",\"2021-09-20T06:45:00.000000000\",\"2021-09-23T10:11:00.000000000\",\"2021-09-28T09:50:00.000000000\",\"2021-09-29T13:34:00.000000000\",\"2021-10-01T06:54:00.000000000\",\"2021-10-12T06:45:00.000000000\",\"2021-10-25T08:56:00.000000000\",\"2021-10-25T13:50:00.000000000\",\"2021-10-27T08:42:00.000000000\",\"2021-10-27T09:01:00.000000000\",\"2021-10-27T10:48:00.000000000\",\"2021-10-28T07:59:00.000000000\",\"2021-11-02T08:52:00.000000000\",\"2021-11-04T08:44:00.000000000\",\"2021-11-04T10:09:00.000000000\",\"2021-11-04T12:00:00.000000000\",\"2021-11-04T11:36:00.000000000\",\"2021-11-09T14:54:00.000000000\",\"2021-11-18T05:05:00.000000000\",\"2021-11-22T11:48:00.000000000\",\"2021-11-24T04:01:00.000000000\",\"2021-11-24T07:58:00.000000000\",\"2021-11-24T08:00:00.000000000\",\"2021-11-30T05:19:00.000000000\",\"2021-11-30T06:01:00.000000000\",\"2021-11-30T11:15:00.000000000\",\"2021-11-30T13:32:00.000000000\",\"2021-11-30T14:45:00.000000000\",\"2021-12-02T13:45:00.000000000\",\"2021-12-03T11:02:00.000000000\",\"2021-12-07T08:33:00.000000000\",\"2021-12-07T09:09:00.000000000\",\"2021-12-07T10:52:00.000000000\",\"2021-12-07T11:23:00.000000000\",\"2021-12-07T13:18:00.000000000\",\"2021-12-09T10:42:00.000000000\",\"2021-12-09T10:48:00.000000000\",\"2021-12-15T14:59:00.000000000\",\"2021-12-17T10:03:00.000000000\",\"2022-01-05T10:37:00.000000000\",\"2022-01-14T12:28:00.000000000\",\"2022-01-17T12:06:00.000000000\",\"2022-01-20T08:21:00.000000000\",\"2022-01-20T10:35:00.000000000\",\"2022-01-20T11:56:00.000000000\",\"2022-01-24T13:31:00.000000000\"],\"y\":[-0.9999999999999464,-1.0036496350364132,-1.000000000000084,-1.004999999999825,-1.0045871559632757,-0.9954128440368871,-0.9950495049506031,-1.0000000000000144,-1.0000000000000062,-0.9964539007092409,-0.9999999999999486,-1.0017985611510063,-1.0029761904761578,-0.9999999999999981,-1.0000000000000018,-1.000000000000077,-1.0039370078739978,-1.0051546391752226,-1.0029940119759866,-0.9999999999999981,-1.0000000000000935,-1.001851851851836,-0.9999999999999909,-1.0034246575340737,-0.9964539007092409,-1.003448275862058,-0.9989106753812715,-1.000000000000038,-0.9946236559139907,-0.9974874371860507,-1.0000000000000187,-0.9999999999998226,-1.000000000000038,-1.0000000000000369,-1.0000000000001756,-0.9999999999998422,-0.9999999999998124,-0.9952380952381105,1.0092592592590781,-0.9912280701756996,-1.000000000000146,-0.9930555555557578,-1.0028735632183607,-0.995934959349612,-1.00303030303028,-1.0000000000000693,-0.9999999999998513,-0.9999999999999517,-1.0000000000001907,-1.00000000000009,-1.0032051282050902,-0.996644295302099,-0.9964539007092409,-1.003448275862058,-1.0000000000003084,-1.0036231884057492,-0.9964539007092409,-1.000000000000161,-0.9999999999999712,-0.9950000000000614,-0.996987951807281,-1.0000000000000138,-0.9999999999999627,-1.0035714285712465,-0.9934210526316478,-1.000000000000084,-0.9977477477478389,-1.002577319587508,-0.9979423868313038,-1.0030674846625711,-0.9971751412429624,-1.00277777777775,-1.0000000000000033,-0.9999999999999681,-1.0020080321284794,-1.0000000000001907,-1.0049504950493788,-0.9958333333334698,-1.000000000000059,-1.0020746887966654,-0.9999999999999739,-0.9999999999997818,-1.003184713375789,-1.0038167938930411,-1.0000000000000866,-1.0039062499999847,-0.9999999999998445,-1.000000000000038,-0.9999999999999923,-1.000000000000038,-1.002688172042985,-1.0000000000000138,-1.0029585798816527,-1.0035971223021452,-0.9999999999997885,-0.9999999999998513,-1.0028571428571402,-1.0000000000000164,-0.9999999999999671,-0.9999999999998964,-1.0000000000001534,-0.999999999999988,-1.0021929824561264,-0.9980769230769335,-0.997524752475297,-0.9964788732394911,-0.9970930232558656,-1.0000000000000009,-0.9999999999998319,-1.0000000000001086,-0.9999999999999517,-0.9999999999997818,-1.002577319587508,-0.9999999999999223,-0.9967741935484707,-0.9961832061069622,-1.0037593984962252,-1.003968253968198,-0.9972826086957028,-0.9970930232558656,-1.0000000000000455,-1.0033783783782724,-1.0000000000000122,-1.0000000000000884,-0.9978991596638656,-1.0000000000000884,-0.9999999999999509,-0.999999999999965,-1.0034965034964256,-0.9999999999999829,-1.000000000000113,-0.9974226804123723,-1.0000000000000138,-1.000000000000057,-0.9982517482517944,-1.000000000000038,-1.0014662756598134,-1.0000000000000107,-0.9999999999999277,-1.0031446540879245,-0.9979838709677511,-1.000000000000065,-1.0000000000000617,-0.9999999999999712,-0.9999999999999681,-0.997716894977196,-1.0022727272726684,-0.9975000000000023,-1.000000000000017,-0.9967320261438132,-0.9999999999999712,-0.9999999999999577,-1.0000000000000813,-1.0000000000000642,-0.9973544973545226,-0.9970238095239178,-1.0000000000000122,-1.0023923444975664,-0.9972067039106921,-1.0025252525252306,-0.9999999999999692,-1.0035971223021452,-0.9978260869565286,-0.9999999999999413,-0.9975728155339839,-0.9999999999999287,-0.9977678571428632,-0.9963235294118198,-0.9974358974359231,-0.997716894977196,-1.0025380710659437,-1.0020920502091737,-1.0000000000000377,-1.0024154589371101],\"type\":\"scatter\"},{\"marker\":{\"color\":\"rgba(55, 128, 191, 1.0)\",\"line\":{\"width\":1.3},\"opacity\":0.8,\"size\":6,\"symbol\":\"circle\"},\"mode\":\"markers\",\"name\":\"CLOSE\",\"textfont\":{\"color\":\"#4D5663\"},\"x\":[\"2020-11-06T03:27:00.000000000\",\"2020-12-01T12:58:00.000000000\",\"2020-12-30T13:50:00.000000000\",\"2021-01-15T15:08:00.000000000\",\"2021-01-25T15:50:00.000000000\",\"2021-01-26T14:17:00.000000000\",\"2021-02-01T13:15:00.000000000\",\"2021-02-01T13:13:00.000000000\",\"2021-02-03T04:40:00.000000000\",\"2021-03-09T16:00:00.000000000\",\"2021-03-29T05:00:00.000000000\",\"2021-04-14T08:17:00.000000000\",\"2021-04-20T13:00:00.000000000\",\"2021-04-22T07:00:00.000000000\",\"2021-04-30T06:00:00.000000000\",\"2021-05-04T13:00:00.000000000\",\"2021-07-13T05:00:00.000000000\",\"2021-07-23T12:38:00.000000000\",\"2021-08-18T08:00:00.000000000\",\"2021-09-06T15:04:00.000000000\",\"2021-09-07T10:00:00.000000000\",\"2021-09-23T08:12:00.000000000\",\"2021-09-30T15:12:00.000000000\",\"2021-10-04T07:06:00.000000000\",\"2021-10-25T09:23:00.000000000\",\"2021-11-18T06:11:00.000000000\",\"2022-01-12T13:06:00.000000000\"],\"y\":[-0.02213114754087961,0.327192982456132,0.13106796116506733,1.318954248365995,0.86800000000012,0.7820512820512631,0.37039106145255185,-0.28290155440417053,-0.17362637362636565,0.15164835164841986,0.3536723163842317,0.1484693877550714,-0.062234042553171165,0.04793814432990604,-0.24485294117644849,0.0,-0.1031250000000483,1.318965517241356,0.36919191919194516,0.14482758620690206,-0.030612244897931344,0.5048458149780335,0.21541666666666498,0.5230769230768846,-0.16342412451360275,0.030000000000012066,0.43277777777777576],\"type\":\"scatter\"},{\"marker\":{\"color\":\"rgba(128, 0, 128, 1.0)\",\"line\":{\"width\":1.3},\"opacity\":0.8,\"size\":6,\"symbol\":\"circle\"},\"mode\":\"markers\",\"name\":\"SL_TO_BE\",\"textfont\":{\"color\":\"#4D5663\"},\"x\":[\"2020-11-09T09:57:00.000000000\",\"2021-02-25T08:36:00.000000000\",\"2021-03-24T08:20:00.000000000\",\"2021-03-25T04:48:00.000000000\",\"2021-11-01T10:59:00.000000000\",\"2021-12-03T12:01:00.000000000\",\"2022-01-24T11:26:00.000000000\"],\"y\":[-0.036290322580589236,-0.016666666666678577,-0.07589285714283887,-0.06000000000009702,-0.027149321266969353,-0.052132701421780475,-0.03846153846158547],\"type\":\"scatter\"},{\"marker\":{\"color\":\"rgba(0, 128, 0, 1.0)\",\"line\":{\"width\":1.3},\"opacity\":0.8,\"size\":6,\"symbol\":\"circle\"},\"mode\":\"markers\",\"name\":\"TP\",\"textfont\":{\"color\":\"#4D5663\"},\"x\":[\"2020-11-30T07:16:00.000000000\",\"2020-12-01T14:22:00.000000000\",\"2020-12-07T12:48:00.000000000\",\"2020-12-09T07:48:00.000000000\",\"2020-12-11T07:36:00.000000000\",\"2020-12-16T07:52:00.000000000\",\"2020-12-17T16:07:00.000000000\",\"2020-12-21T14:22:00.000000000\",\"2021-01-04T08:34:00.000000000\",\"2021-01-05T11:14:00.000000000\",\"2021-01-07T16:42:00.000000000\",\"2021-01-08T17:09:00.000000000\",\"2021-01-11T12:18:00.000000000\",\"2021-01-12T09:53:00.000000000\",\"2021-01-20T14:22:00.000000000\",\"2021-01-21T14:19:00.000000000\",\"2021-02-03T08:04:00.000000000\",\"2021-02-08T10:27:00.000000000\",\"2021-02-17T12:43:00.000000000\",\"2021-02-18T08:00:00.000000000\",\"2021-02-22T07:10:00.000000000\",\"2021-02-23T07:00:00.000000000\",\"2021-02-23T10:00:00.000000000\",\"2021-02-24T08:12:00.000000000\",\"2021-03-01T13:00:00.000000000\",\"2021-03-02T08:56:00.000000000\",\"2021-03-02T15:00:00.000000000\",\"2021-03-03T11:39:00.000000000\",\"2021-03-03T15:59:00.000000000\",\"2021-03-05T13:00:00.000000000\",\"2021-03-09T08:00:00.000000000\",\"2021-03-09T07:36:00.000000000\",\"2021-03-10T14:00:00.000000000\",\"2021-03-10T08:00:00.000000000\",\"2021-03-12T16:42:00.000000000\",\"2021-03-15T10:55:00.000000000\",\"2021-03-16T07:57:00.000000000\",\"2021-03-17T07:04:00.000000000\",\"2021-03-18T05:27:00.000000000\",\"2021-03-19T08:00:00.000000000\",\"2021-03-22T12:03:00.000000000\",\"2021-03-23T06:16:00.000000000\",\"2021-03-29T07:51:00.000000000\",\"2021-03-30T08:00:00.000000000\",\"2021-03-31T13:00:00.000000000\",\"2021-04-01T08:00:00.000000000\",\"2021-04-05T12:00:00.000000000\",\"2021-04-06T14:00:00.000000000\",\"2021-04-06T13:45:00.000000000\",\"2021-04-07T07:00:00.000000000\",\"2021-04-08T07:00:00.000000000\",\"2021-04-08T09:37:00.000000000\",\"2021-04-09T12:00:00.000000000\",\"2021-04-12T08:00:00.000000000\",\"2021-04-13T07:00:00.000000000\",\"2021-04-13T07:57:00.000000000\",\"2021-04-13T10:00:00.000000000\",\"2021-04-13T10:00:00.000000000\",\"2021-04-14T09:41:00.000000000\",\"2021-04-16T10:00:00.000000000\",\"2021-04-19T10:00:00.000000000\",\"2021-04-20T06:00:00.000000000\",\"2021-04-21T07:00:00.000000000\",\"2021-04-21T07:57:00.000000000\",\"2021-04-22T08:42:00.000000000\",\"2021-04-26T12:40:00.000000000\",\"2021-04-27T14:00:00.000000000\",\"2021-05-03T12:44:00.000000000\",\"2021-05-04T13:49:00.000000000\",\"2021-05-04T15:00:00.000000000\",\"2021-05-05T14:00:00.000000000\",\"2021-05-06T14:00:00.000000000\",\"2021-05-07T12:00:00.000000000\",\"2021-05-10T14:00:00.000000000\",\"2021-05-11T13:19:00.000000000\",\"2021-05-13T07:53:00.000000000\",\"2021-05-14T13:00:00.000000000\",\"2021-05-17T15:00:00.000000000\",\"2021-05-19T12:00:00.000000000\",\"2021-05-20T09:00:00.000000000\",\"2021-05-24T13:47:00.000000000\",\"2021-05-26T07:14:00.000000000\",\"2021-05-26T13:00:00.000000000\",\"2021-05-27T07:00:00.000000000\",\"2021-06-09T08:00:00.000000000\",\"2021-06-10T12:00:00.000000000\",\"2021-06-11T16:00:00.000000000\",\"2021-06-15T08:00:00.000000000\",\"2021-06-15T13:38:00.000000000\",\"2021-06-21T06:00:00.000000000\",\"2021-06-22T08:00:00.000000000\",\"2021-07-06T07:00:00.000000000\",\"2021-07-07T05:56:00.000000000\",\"2021-07-07T13:50:00.000000000\",\"2021-07-08T13:36:00.000000000\",\"2021-07-09T10:00:00.000000000\",\"2021-07-12T13:00:00.000000000\",\"2021-07-14T13:00:00.000000000\",\"2021-07-15T07:27:00.000000000\",\"2021-07-16T07:51:00.000000000\",\"2021-07-20T14:01:00.000000000\",\"2021-07-21T07:00:00.000000000\",\"2021-07-22T07:00:00.000000000\",\"2021-07-26T09:00:00.000000000\",\"2021-07-26T08:44:00.000000000\",\"2021-07-27T14:50:00.000000000\",\"2021-07-29T08:00:00.000000000\",\"2021-07-30T07:00:00.000000000\",\"2021-08-02T09:00:00.000000000\",\"2021-08-03T08:00:00.000000000\",\"2021-08-04T12:00:00.000000000\",\"2021-08-05T14:00:00.000000000\",\"2021-08-09T08:00:00.000000000\",\"2021-08-09T09:28:00.000000000\",\"2021-08-10T08:00:00.000000000\",\"2021-08-13T07:00:00.000000000\",\"2021-08-16T11:00:00.000000000\",\"2021-08-18T08:00:00.000000000\",\"2021-08-18T11:49:00.000000000\",\"2021-08-19T12:41:00.000000000\",\"2021-08-20T13:00:00.000000000\",\"2021-08-20T13:46:00.000000000\",\"2021-08-23T06:00:00.000000000\",\"2021-08-23T14:00:00.000000000\",\"2021-08-24T08:00:00.000000000\",\"2021-08-24T10:00:00.000000000\",\"2021-08-25T14:00:00.000000000\",\"2021-08-26T11:00:00.000000000\",\"2021-08-27T06:56:00.000000000\",\"2021-08-31T06:34:00.000000000\",\"2021-09-02T07:38:00.000000000\",\"2021-09-07T16:00:00.000000000\",\"2021-09-08T14:00:00.000000000\",\"2021-09-13T10:00:00.000000000\",\"2021-09-13T06:41:00.000000000\",\"2021-09-15T13:55:00.000000000\",\"2021-09-16T11:35:00.000000000\",\"2021-09-23T11:08:00.000000000\",\"2021-09-23T10:49:00.000000000\",\"2021-09-24T13:33:00.000000000\",\"2021-09-27T11:13:00.000000000\",\"2021-09-29T14:45:00.000000000\",\"2021-10-01T09:35:00.000000000\",\"2021-10-04T08:00:00.000000000\",\"2021-10-05T14:45:00.000000000\",\"2021-10-07T09:17:00.000000000\",\"2021-10-08T14:05:00.000000000\",\"2021-10-12T09:12:00.000000000\",\"2021-10-12T12:04:00.000000000\",\"2021-10-13T10:16:00.000000000\",\"2021-10-25T10:50:00.000000000\",\"2021-11-01T09:00:00.000000000\",\"2021-11-02T12:00:00.000000000\",\"2021-11-03T12:56:00.000000000\",\"2021-11-04T08:15:00.000000000\",\"2021-11-08T15:28:00.000000000\",\"2021-11-11T17:29:00.000000000\",\"2021-11-18T09:20:00.000000000\",\"2021-11-29T10:55:00.000000000\",\"2021-12-02T17:10:00.000000000\",\"2021-12-06T16:19:00.000000000\",\"2021-12-08T10:36:00.000000000\",\"2021-12-08T13:54:00.000000000\",\"2021-12-09T14:24:00.000000000\",\"2021-12-13T10:17:00.000000000\",\"2021-12-14T11:10:00.000000000\",\"2021-12-16T08:15:00.000000000\",\"2021-12-17T12:47:00.000000000\",\"2021-12-20T13:14:00.000000000\",\"2021-12-21T16:13:00.000000000\",\"2021-12-27T12:32:00.000000000\",\"2022-01-04T09:45:00.000000000\",\"2022-01-04T08:01:00.000000000\",\"2022-01-05T16:20:00.000000000\",\"2022-01-06T10:13:00.000000000\",\"2022-01-13T12:01:00.000000000\",\"2022-01-14T12:24:00.000000000\",\"2022-01-17T15:28:00.000000000\",\"2022-01-18T08:15:00.000000000\",\"2022-01-19T09:45:00.000000000\",\"2022-01-24T15:11:00.000000000\",\"2022-01-25T11:55:00.000000000\",\"2022-01-26T16:23:00.000000000\",\"2022-01-27T11:38:00.000000000\",\"2022-01-31T16:42:00.000000000\",\"2022-02-01T15:25:00.000000000\"],\"y\":[1.8809523809524027,2.4155844155844335,0.5004424778761188,0.40000000000001507,0.36652173913044245,2.4600000000000932,2.169172932330863,0.9927184466020047,1.4171974522292414,0.4296874999999644,0.5162011173184236,0.4960893854748474,1.485950413223189,0.9680306905371053,0.9137931034482287,0.5979729729730052,0.9814102564101873,0.8345744680850246,1.30660377358479,1.4166666666667047,1.4033112582780891,0.5999999999999338,0.8575757575758043,0.5029411764706072,0.6707589285714275,0.4143968871595543,0.6499999999999334,0.5907488986784177,1.949152542372891,0.5714285714285932,1.210526315789474,0.7336633663366755,1.3333333333332482,1.0647773279351864,0.7011428571428827,0.14137931034483497,0.18644067796613134,1.9007633587787387,0.4205020920502073,0.019465648854957142,0.06403162055335788,0.5311688311688313,1.2154255319148464,2.147435897435912,1.2412790697675358,1.6468926553672323,0.8767857142857168,2.060483870967703,0.5044692737429962,0.9615819209040501,0.5865671641791054,1.1391812865496953,1.438650306748448,1.380281690140764,0.5651162790697558,0.6766423357663829,0.6707317073171563,0.6737288135592873,1.6087999999999738,0.7996323529411389,1.2222222222222685,1.6710743801652823,1.4402515723269853,2.1230769230768285,0.7650306748465996,0.8999999999999219,1.3957219251336364,0.39374999999998356,0.6128571428571864,1.526315789473702,0.7214285714285649,1.043835616438318,0.6275862068966082,0.7124999999999915,0.30219780219782993,0.6265193370166308,0.9306049822063704,0.5707317073170532,1.5070422535211174,1.8521505376343987,0.9086956521738805,0.6572093023255493,0.9129213483146068,0.5593548387096527,1.6340206185567845,2.022900763358776,0.5819672131146907,0.5510638297872537,0.752903225806471,1.0981735159817227,0.5328671328671729,0.4359605911329444,1.0380952380951873,0.4975609756097403,0.9814814814814076,0.902439024390255,1.6215469613259366,0.7035714285714383,1.2672955974842681,0.8201923076923161,0.09360730593609175,1.3224852071005326,1.3731884057971704,1.3115183246073574,1.4483870967741965,0.3941379310345124,2.1902654867256337,1.1666666666667485,0.24440894568693292,0.973568281938317,0.5231092436974332,1.2286245353160088,0.5748603351955605,0.8855218855219031,1.1642512077295355,0.5427745664740665,1.3274853801170148,0.9384615384615012,0.4659898477157104,0.24999999999998057,0.5142857142856999,0.7907284768212408,1.4129213483146819,0.49790575916231505,1.665354330708579,0.7410447761193859,0.4840206185566827,0.7655844155844723,1.282165605095563,1.263057324840767,1.0415204678361942,1.8308270676690466,0.6561290322580619,0.5731843575418736,0.22795275590549247,0.8301587301586789,1.1218487394959245,0.4612781954886885,0.48717948717953596,0.6260204081632527,0.5091743119266118,0.570129870129824,1.7215189873417893,1.8999999999999577,1.4034334763948908,0.9295774647887478,1.6229508196721771,1.289237668161435,1.348809523809479,1.445414847161573,0.5438848920863515,0.47295918367350903,1.2421524663676793,1.614525139664765,0.7636363636364248,0.6014285714285603,0.8906832298136808,0.5660633484162532,0.8333333333333097,1.219758064516074,1.222222222222295,1.1651982378854295,1.2665094339622653,0.6411764705882038,1.3392344497607007,1.4082568807339158,1.3271028037383328,2.8994565217391814,1.0948616600790442,1.458536585365858,1.2365384615384902,1.5022321428571468,1.2354368932038637,1.4477611940298065,1.3625468164794559,0.7043478260869831,0.6043062200956827,0.6714285714285744,0.48676470588237836,1.968553459119494,0.5675324675324829,0.5933628318584107,1.2535211267605175,0.5893401015228433,0.3929752066115793,1.443661971830954],\"type\":\"scatter\"},{\"marker\":{\"color\":\"rgba(128, 128, 128, 1.0)\",\"line\":{\"width\":1.3},\"opacity\":0.8,\"size\":6,\"symbol\":\"circle\"},\"mode\":\"markers\",\"name\":\"PARTIALS\",\"textfont\":{\"color\":\"#4D5663\"},\"x\":[\"2020-12-18T07:16:00.000000000\",\"2021-03-01T15:59:00.000000000\",\"2021-11-09T08:12:00.000000000\"],\"y\":[-0.15197368421052274,0.37428571428567425,0.3362385321100676],\"type\":\"scatter\"},{\"marker\":{\"color\":\"rgba(0, 0, 0, 1.0)\",\"line\":{\"width\":1.3},\"opacity\":0.8,\"size\":6,\"symbol\":\"circle\"},\"mode\":\"markers\",\"name\":\"EOP\",\"textfont\":{\"color\":\"#4D5663\"},\"x\":[\"2021-02-03T17:29:00.000000000\",\"2021-04-29T16:29:00.000000000\",\"2021-06-14T16:29:00.000000000\",\"2021-08-11T16:29:00.000000000\",\"2021-08-30T16:29:00.000000000\",\"2021-08-30T16:29:00.000000000\",\"2021-09-08T16:29:00.000000000\",\"2021-11-08T17:29:00.000000000\",\"2021-11-17T17:29:00.000000000\",\"2021-11-24T17:29:00.000000000\"],\"y\":[0.6358024691357389,0.08834586466159515,-0.026785714285757593,-0.172839506172963,0.09547738693455796,0.812154696132549,1.6871508379889437,0.003496503496520192,0.09248554913289672,-0.5684210526316005],\"type\":\"scatter\"}],                        {\"legend\":{\"bgcolor\":\"#FFFFFF\",\"font\":{\"color\":\"#4D5663\"}},\"paper_bgcolor\":\"#FFFFFF\",\"plot_bgcolor\":\"#FFFFFF\",\"template\":{\"data\":{\"barpolar\":[{\"marker\":{\"line\":{\"color\":\"#E5ECF6\",\"width\":0.5},\"pattern\":{\"fillmode\":\"overlay\",\"size\":10,\"solidity\":0.2}},\"type\":\"barpolar\"}],\"bar\":[{\"error_x\":{\"color\":\"#2a3f5f\"},\"error_y\":{\"color\":\"#2a3f5f\"},\"marker\":{\"line\":{\"color\":\"#E5ECF6\",\"width\":0.5},\"pattern\":{\"fillmode\":\"overlay\",\"size\":10,\"solidity\":0.2}},\"type\":\"bar\"}],\"carpet\":[{\"aaxis\":{\"endlinecolor\":\"#2a3f5f\",\"gridcolor\":\"white\",\"linecolor\":\"white\",\"minorgridcolor\":\"white\",\"startlinecolor\":\"#2a3f5f\"},\"baxis\":{\"endlinecolor\":\"#2a3f5f\",\"gridcolor\":\"white\",\"linecolor\":\"white\",\"minorgridcolor\":\"white\",\"startlinecolor\":\"#2a3f5f\"},\"type\":\"carpet\"}],\"choropleth\":[{\"colorbar\":{\"outlinewidth\":0,\"ticks\":\"\"},\"type\":\"choropleth\"}],\"contourcarpet\":[{\"colorbar\":{\"outlinewidth\":0,\"ticks\":\"\"},\"type\":\"contourcarpet\"}],\"contour\":[{\"colorbar\":{\"outlinewidth\":0,\"ticks\":\"\"},\"colorscale\":[[0.0,\"#0d0887\"],[0.1111111111111111,\"#46039f\"],[0.2222222222222222,\"#7201a8\"],[0.3333333333333333,\"#9c179e\"],[0.4444444444444444,\"#bd3786\"],[0.5555555555555556,\"#d8576b\"],[0.6666666666666666,\"#ed7953\"],[0.7777777777777778,\"#fb9f3a\"],[0.8888888888888888,\"#fdca26\"],[1.0,\"#f0f921\"]],\"type\":\"contour\"}],\"heatmapgl\":[{\"colorbar\":{\"outlinewidth\":0,\"ticks\":\"\"},\"colorscale\":[[0.0,\"#0d0887\"],[0.1111111111111111,\"#46039f\"],[0.2222222222222222,\"#7201a8\"],[0.3333333333333333,\"#9c179e\"],[0.4444444444444444,\"#bd3786\"],[0.5555555555555556,\"#d8576b\"],[0.6666666666666666,\"#ed7953\"],[0.7777777777777778,\"#fb9f3a\"],[0.8888888888888888,\"#fdca26\"],[1.0,\"#f0f921\"]],\"type\":\"heatmapgl\"}],\"heatmap\":[{\"colorbar\":{\"outlinewidth\":0,\"ticks\":\"\"},\"colorscale\":[[0.0,\"#0d0887\"],[0.1111111111111111,\"#46039f\"],[0.2222222222222222,\"#7201a8\"],[0.3333333333333333,\"#9c179e\"],[0.4444444444444444,\"#bd3786\"],[0.5555555555555556,\"#d8576b\"],[0.6666666666666666,\"#ed7953\"],[0.7777777777777778,\"#fb9f3a\"],[0.8888888888888888,\"#fdca26\"],[1.0,\"#f0f921\"]],\"type\":\"heatmap\"}],\"histogram2dcontour\":[{\"colorbar\":{\"outlinewidth\":0,\"ticks\":\"\"},\"colorscale\":[[0.0,\"#0d0887\"],[0.1111111111111111,\"#46039f\"],[0.2222222222222222,\"#7201a8\"],[0.3333333333333333,\"#9c179e\"],[0.4444444444444444,\"#bd3786\"],[0.5555555555555556,\"#d8576b\"],[0.6666666666666666,\"#ed7953\"],[0.7777777777777778,\"#fb9f3a\"],[0.8888888888888888,\"#fdca26\"],[1.0,\"#f0f921\"]],\"type\":\"histogram2dcontour\"}],\"histogram2d\":[{\"colorbar\":{\"outlinewidth\":0,\"ticks\":\"\"},\"colorscale\":[[0.0,\"#0d0887\"],[0.1111111111111111,\"#46039f\"],[0.2222222222222222,\"#7201a8\"],[0.3333333333333333,\"#9c179e\"],[0.4444444444444444,\"#bd3786\"],[0.5555555555555556,\"#d8576b\"],[0.6666666666666666,\"#ed7953\"],[0.7777777777777778,\"#fb9f3a\"],[0.8888888888888888,\"#fdca26\"],[1.0,\"#f0f921\"]],\"type\":\"histogram2d\"}],\"histogram\":[{\"marker\":{\"pattern\":{\"fillmode\":\"overlay\",\"size\":10,\"solidity\":0.2}},\"type\":\"histogram\"}],\"mesh3d\":[{\"colorbar\":{\"outlinewidth\":0,\"ticks\":\"\"},\"type\":\"mesh3d\"}],\"parcoords\":[{\"line\":{\"colorbar\":{\"outlinewidth\":0,\"ticks\":\"\"}},\"type\":\"parcoords\"}],\"pie\":[{\"automargin\":true,\"type\":\"pie\"}],\"scatter3d\":[{\"line\":{\"colorbar\":{\"outlinewidth\":0,\"ticks\":\"\"}},\"marker\":{\"colorbar\":{\"outlinewidth\":0,\"ticks\":\"\"}},\"type\":\"scatter3d\"}],\"scattercarpet\":[{\"marker\":{\"colorbar\":{\"outlinewidth\":0,\"ticks\":\"\"}},\"type\":\"scattercarpet\"}],\"scattergeo\":[{\"marker\":{\"colorbar\":{\"outlinewidth\":0,\"ticks\":\"\"}},\"type\":\"scattergeo\"}],\"scattergl\":[{\"marker\":{\"colorbar\":{\"outlinewidth\":0,\"ticks\":\"\"}},\"type\":\"scattergl\"}],\"scattermapbox\":[{\"marker\":{\"colorbar\":{\"outlinewidth\":0,\"ticks\":\"\"}},\"type\":\"scattermapbox\"}],\"scatterpolargl\":[{\"marker\":{\"colorbar\":{\"outlinewidth\":0,\"ticks\":\"\"}},\"type\":\"scatterpolargl\"}],\"scatterpolar\":[{\"marker\":{\"colorbar\":{\"outlinewidth\":0,\"ticks\":\"\"}},\"type\":\"scatterpolar\"}],\"scatter\":[{\"marker\":{\"colorbar\":{\"outlinewidth\":0,\"ticks\":\"\"}},\"type\":\"scatter\"}],\"scatterternary\":[{\"marker\":{\"colorbar\":{\"outlinewidth\":0,\"ticks\":\"\"}},\"type\":\"scatterternary\"}],\"surface\":[{\"colorbar\":{\"outlinewidth\":0,\"ticks\":\"\"},\"colorscale\":[[0.0,\"#0d0887\"],[0.1111111111111111,\"#46039f\"],[0.2222222222222222,\"#7201a8\"],[0.3333333333333333,\"#9c179e\"],[0.4444444444444444,\"#bd3786\"],[0.5555555555555556,\"#d8576b\"],[0.6666666666666666,\"#ed7953\"],[0.7777777777777778,\"#fb9f3a\"],[0.8888888888888888,\"#fdca26\"],[1.0,\"#f0f921\"]],\"type\":\"surface\"}],\"table\":[{\"cells\":{\"fill\":{\"color\":\"#EBF0F8\"},\"line\":{\"color\":\"white\"}},\"header\":{\"fill\":{\"color\":\"#C8D4E3\"},\"line\":{\"color\":\"white\"}},\"type\":\"table\"}]},\"layout\":{\"annotationdefaults\":{\"arrowcolor\":\"#2a3f5f\",\"arrowhead\":0,\"arrowwidth\":1},\"autotypenumbers\":\"strict\",\"coloraxis\":{\"colorbar\":{\"outlinewidth\":0,\"ticks\":\"\"}},\"colorscale\":{\"diverging\":[[0,\"#8e0152\"],[0.1,\"#c51b7d\"],[0.2,\"#de77ae\"],[0.3,\"#f1b6da\"],[0.4,\"#fde0ef\"],[0.5,\"#f7f7f7\"],[0.6,\"#e6f5d0\"],[0.7,\"#b8e186\"],[0.8,\"#7fbc41\"],[0.9,\"#4d9221\"],[1,\"#276419\"]],\"sequential\":[[0.0,\"#0d0887\"],[0.1111111111111111,\"#46039f\"],[0.2222222222222222,\"#7201a8\"],[0.3333333333333333,\"#9c179e\"],[0.4444444444444444,\"#bd3786\"],[0.5555555555555556,\"#d8576b\"],[0.6666666666666666,\"#ed7953\"],[0.7777777777777778,\"#fb9f3a\"],[0.8888888888888888,\"#fdca26\"],[1.0,\"#f0f921\"]],\"sequentialminus\":[[0.0,\"#0d0887\"],[0.1111111111111111,\"#46039f\"],[0.2222222222222222,\"#7201a8\"],[0.3333333333333333,\"#9c179e\"],[0.4444444444444444,\"#bd3786\"],[0.5555555555555556,\"#d8576b\"],[0.6666666666666666,\"#ed7953\"],[0.7777777777777778,\"#fb9f3a\"],[0.8888888888888888,\"#fdca26\"],[1.0,\"#f0f921\"]]},\"colorway\":[\"#636efa\",\"#EF553B\",\"#00cc96\",\"#ab63fa\",\"#FFA15A\",\"#19d3f3\",\"#FF6692\",\"#B6E880\",\"#FF97FF\",\"#FECB52\"],\"font\":{\"color\":\"#2a3f5f\"},\"geo\":{\"bgcolor\":\"white\",\"lakecolor\":\"white\",\"landcolor\":\"#E5ECF6\",\"showlakes\":true,\"showland\":true,\"subunitcolor\":\"white\"},\"hoverlabel\":{\"align\":\"left\"},\"hovermode\":\"closest\",\"mapbox\":{\"style\":\"light\"},\"paper_bgcolor\":\"white\",\"plot_bgcolor\":\"#E5ECF6\",\"polar\":{\"angularaxis\":{\"gridcolor\":\"white\",\"linecolor\":\"white\",\"ticks\":\"\"},\"bgcolor\":\"#E5ECF6\",\"radialaxis\":{\"gridcolor\":\"white\",\"linecolor\":\"white\",\"ticks\":\"\"}},\"scene\":{\"xaxis\":{\"backgroundcolor\":\"#E5ECF6\",\"gridcolor\":\"white\",\"gridwidth\":2,\"linecolor\":\"white\",\"showbackground\":true,\"ticks\":\"\",\"zerolinecolor\":\"white\"},\"yaxis\":{\"backgroundcolor\":\"#E5ECF6\",\"gridcolor\":\"white\",\"gridwidth\":2,\"linecolor\":\"white\",\"showbackground\":true,\"ticks\":\"\",\"zerolinecolor\":\"white\"},\"zaxis\":{\"backgroundcolor\":\"#E5ECF6\",\"gridcolor\":\"white\",\"gridwidth\":2,\"linecolor\":\"white\",\"showbackground\":true,\"ticks\":\"\",\"zerolinecolor\":\"white\"}},\"shapedefaults\":{\"line\":{\"color\":\"#2a3f5f\"}},\"ternary\":{\"aaxis\":{\"gridcolor\":\"white\",\"linecolor\":\"white\",\"ticks\":\"\"},\"baxis\":{\"gridcolor\":\"white\",\"linecolor\":\"white\",\"ticks\":\"\"},\"bgcolor\":\"#E5ECF6\",\"caxis\":{\"gridcolor\":\"white\",\"linecolor\":\"white\",\"ticks\":\"\"}},\"title\":{\"x\":0.05},\"xaxis\":{\"automargin\":true,\"gridcolor\":\"white\",\"linecolor\":\"white\",\"ticks\":\"\",\"title\":{\"standoff\":15},\"zerolinecolor\":\"white\",\"zerolinewidth\":2},\"yaxis\":{\"automargin\":true,\"gridcolor\":\"white\",\"linecolor\":\"white\",\"ticks\":\"\",\"title\":{\"standoff\":15},\"zerolinecolor\":\"white\",\"zerolinewidth\":2}}},\"title\":{\"font\":{\"color\":\"#4D5663\"},\"text\":\"Risultati (R) in base al tipo di chiusura\"},\"xaxis\":{\"gridcolor\":\"#E1E5ED\",\"showgrid\":true,\"tickfont\":{\"color\":\"#4D5663\"},\"title\":{\"font\":{\"color\":\"#4D5663\"},\"text\":\"\"},\"zerolinecolor\":\"#E1E5ED\"},\"yaxis\":{\"gridcolor\":\"#E1E5ED\",\"showgrid\":true,\"tickfont\":{\"color\":\"#4D5663\"},\"title\":{\"font\":{\"color\":\"#4D5663\"},\"text\":\"R\"},\"zerolinecolor\":\"#E1E5ED\"}},                        {\"responsive\": true}                    ).then(function(){\n",
       "                            \n",
       "var gd = document.getElementById('cfd73d30-9e8b-45eb-b967-69eb6b73cbc0');\n",
       "var x = new MutationObserver(function (mutations, observer) {{\n",
       "        var display = window.getComputedStyle(gd).display;\n",
       "        if (!display || display === 'none') {{\n",
       "            console.log([gd, 'removed!']);\n",
       "            Plotly.purge(gd);\n",
       "            observer.disconnect();\n",
       "        }}\n",
       "}});\n",
       "\n",
       "// Listen for the removal of the full notebook cells\n",
       "var notebookContainer = gd.closest('#notebook-container');\n",
       "if (notebookContainer) {{\n",
       "    x.observe(notebookContainer, {childList: true});\n",
       "}}\n",
       "\n",
       "// Listen for the clearing of the current output cell\n",
       "var outputEl = gd.closest('.output');\n",
       "if (outputEl) {{\n",
       "    x.observe(outputEl, {childList: true});\n",
       "}}\n",
       "\n",
       "                        })                };                });            </script>        </div>"
      ]
     },
     "metadata": {},
     "output_type": "display_data"
    }
   ],
   "source": [
    "full_daniel.iplot(kind='scatter', mode='markers', x='close', title='Risultati (R) in base al tipo di chiusura', yTitle='R',\n",
    "              y='result', categories='result_type', size=6, colors='red blue purple green grey black'.split(' '))"
   ]
  },
  {
   "cell_type": "code",
   "execution_count": 15,
   "id": "aa954d6c",
   "metadata": {
    "execution": {
     "iopub.execute_input": "2022-02-25T16:57:35.531073Z",
     "iopub.status.busy": "2022-02-25T16:57:35.530339Z",
     "iopub.status.idle": "2022-02-25T16:57:35.535362Z",
     "shell.execute_reply": "2022-02-25T16:57:35.536100Z",
     "shell.execute_reply.started": "2022-02-25T16:15:16.375711Z"
    },
    "papermill": {
     "duration": 0.045454,
     "end_time": "2022-02-25T16:57:35.536284",
     "exception": false,
     "start_time": "2022-02-25T16:57:35.490830",
     "status": "completed"
    },
    "tags": []
   },
   "outputs": [],
   "source": [
    "full_daniel_by_close = full_daniel.set_index('close').sort_index()"
   ]
  },
  {
   "cell_type": "code",
   "execution_count": 16,
   "id": "25a7c855",
   "metadata": {
    "execution": {
     "iopub.execute_input": "2022-02-25T16:57:35.613224Z",
     "iopub.status.busy": "2022-02-25T16:57:35.612515Z",
     "iopub.status.idle": "2022-02-25T16:57:35.696536Z",
     "shell.execute_reply": "2022-02-25T16:57:35.697144Z",
     "shell.execute_reply.started": "2022-02-25T16:55:39.851827Z"
    },
    "papermill": {
     "duration": 0.12431,
     "end_time": "2022-02-25T16:57:35.697322",
     "exception": false,
     "start_time": "2022-02-25T16:57:35.573012",
     "status": "completed"
    },
    "tags": []
   },
   "outputs": [
    {
     "data": {
      "application/vnd.plotly.v1+json": {
       "config": {
        "linkText": "Export to plot.ly",
        "plotlyServerURL": "https://plot.ly",
        "showLink": false
       },
       "data": [
        {
         "fill": "tozeroy",
         "fillcolor": "rgba(55, 128, 191, 0.3)",
         "line": {
          "color": "rgba(55, 128, 191, 1.0)",
          "dash": "solid",
          "shape": "linear",
          "width": 2
         },
         "mode": "lines",
         "name": "result",
         "text": "",
         "type": "scatter",
         "x": [
          "2020-11-05 00:00:00+00:00",
          "2020-11-06 00:00:00+00:00",
          "2020-11-07 00:00:00+00:00",
          "2020-11-08 00:00:00+00:00",
          "2020-11-09 00:00:00+00:00",
          "2020-11-10 00:00:00+00:00",
          "2020-11-11 00:00:00+00:00",
          "2020-11-12 00:00:00+00:00",
          "2020-11-13 00:00:00+00:00",
          "2020-11-14 00:00:00+00:00",
          "2020-11-15 00:00:00+00:00",
          "2020-11-16 00:00:00+00:00",
          "2020-11-17 00:00:00+00:00",
          "2020-11-18 00:00:00+00:00",
          "2020-11-19 00:00:00+00:00",
          "2020-11-20 00:00:00+00:00",
          "2020-11-21 00:00:00+00:00",
          "2020-11-22 00:00:00+00:00",
          "2020-11-23 00:00:00+00:00",
          "2020-11-24 00:00:00+00:00",
          "2020-11-25 00:00:00+00:00",
          "2020-11-26 00:00:00+00:00",
          "2020-11-27 00:00:00+00:00",
          "2020-11-28 00:00:00+00:00",
          "2020-11-29 00:00:00+00:00",
          "2020-11-30 00:00:00+00:00",
          "2020-12-01 00:00:00+00:00",
          "2020-12-02 00:00:00+00:00",
          "2020-12-03 00:00:00+00:00",
          "2020-12-04 00:00:00+00:00",
          "2020-12-05 00:00:00+00:00",
          "2020-12-06 00:00:00+00:00",
          "2020-12-07 00:00:00+00:00",
          "2020-12-08 00:00:00+00:00",
          "2020-12-09 00:00:00+00:00",
          "2020-12-10 00:00:00+00:00",
          "2020-12-11 00:00:00+00:00",
          "2020-12-12 00:00:00+00:00",
          "2020-12-13 00:00:00+00:00",
          "2020-12-14 00:00:00+00:00",
          "2020-12-15 00:00:00+00:00",
          "2020-12-16 00:00:00+00:00",
          "2020-12-17 00:00:00+00:00",
          "2020-12-18 00:00:00+00:00",
          "2020-12-19 00:00:00+00:00",
          "2020-12-20 00:00:00+00:00",
          "2020-12-21 00:00:00+00:00",
          "2020-12-22 00:00:00+00:00",
          "2020-12-23 00:00:00+00:00",
          "2020-12-24 00:00:00+00:00",
          "2020-12-25 00:00:00+00:00",
          "2020-12-26 00:00:00+00:00",
          "2020-12-27 00:00:00+00:00",
          "2020-12-28 00:00:00+00:00",
          "2020-12-29 00:00:00+00:00",
          "2020-12-30 00:00:00+00:00",
          "2020-12-31 00:00:00+00:00",
          "2021-01-01 00:00:00+00:00",
          "2021-01-02 00:00:00+00:00",
          "2021-01-03 00:00:00+00:00",
          "2021-01-04 00:00:00+00:00",
          "2021-01-05 00:00:00+00:00",
          "2021-01-06 00:00:00+00:00",
          "2021-01-07 00:00:00+00:00",
          "2021-01-08 00:00:00+00:00",
          "2021-01-09 00:00:00+00:00",
          "2021-01-10 00:00:00+00:00",
          "2021-01-11 00:00:00+00:00",
          "2021-01-12 00:00:00+00:00",
          "2021-01-13 00:00:00+00:00",
          "2021-01-14 00:00:00+00:00",
          "2021-01-15 00:00:00+00:00",
          "2021-01-16 00:00:00+00:00",
          "2021-01-17 00:00:00+00:00",
          "2021-01-18 00:00:00+00:00",
          "2021-01-19 00:00:00+00:00",
          "2021-01-20 00:00:00+00:00",
          "2021-01-21 00:00:00+00:00",
          "2021-01-22 00:00:00+00:00",
          "2021-01-23 00:00:00+00:00",
          "2021-01-24 00:00:00+00:00",
          "2021-01-25 00:00:00+00:00",
          "2021-01-26 00:00:00+00:00",
          "2021-01-27 00:00:00+00:00",
          "2021-01-28 00:00:00+00:00",
          "2021-01-29 00:00:00+00:00",
          "2021-01-30 00:00:00+00:00",
          "2021-01-31 00:00:00+00:00",
          "2021-02-01 00:00:00+00:00",
          "2021-02-02 00:00:00+00:00",
          "2021-02-03 00:00:00+00:00",
          "2021-02-04 00:00:00+00:00",
          "2021-02-05 00:00:00+00:00",
          "2021-02-06 00:00:00+00:00",
          "2021-02-07 00:00:00+00:00",
          "2021-02-08 00:00:00+00:00",
          "2021-02-09 00:00:00+00:00",
          "2021-02-10 00:00:00+00:00",
          "2021-02-11 00:00:00+00:00",
          "2021-02-12 00:00:00+00:00",
          "2021-02-13 00:00:00+00:00",
          "2021-02-14 00:00:00+00:00",
          "2021-02-15 00:00:00+00:00",
          "2021-02-16 00:00:00+00:00",
          "2021-02-17 00:00:00+00:00",
          "2021-02-18 00:00:00+00:00",
          "2021-02-19 00:00:00+00:00",
          "2021-02-20 00:00:00+00:00",
          "2021-02-21 00:00:00+00:00",
          "2021-02-22 00:00:00+00:00",
          "2021-02-23 00:00:00+00:00",
          "2021-02-24 00:00:00+00:00",
          "2021-02-25 00:00:00+00:00",
          "2021-02-26 00:00:00+00:00",
          "2021-02-27 00:00:00+00:00",
          "2021-02-28 00:00:00+00:00",
          "2021-03-01 00:00:00+00:00",
          "2021-03-02 00:00:00+00:00",
          "2021-03-03 00:00:00+00:00",
          "2021-03-04 00:00:00+00:00",
          "2021-03-05 00:00:00+00:00",
          "2021-03-06 00:00:00+00:00",
          "2021-03-07 00:00:00+00:00",
          "2021-03-08 00:00:00+00:00",
          "2021-03-09 00:00:00+00:00",
          "2021-03-10 00:00:00+00:00",
          "2021-03-11 00:00:00+00:00",
          "2021-03-12 00:00:00+00:00",
          "2021-03-13 00:00:00+00:00",
          "2021-03-14 00:00:00+00:00",
          "2021-03-15 00:00:00+00:00",
          "2021-03-16 00:00:00+00:00",
          "2021-03-17 00:00:00+00:00",
          "2021-03-18 00:00:00+00:00",
          "2021-03-19 00:00:00+00:00",
          "2021-03-20 00:00:00+00:00",
          "2021-03-21 00:00:00+00:00",
          "2021-03-22 00:00:00+00:00",
          "2021-03-23 00:00:00+00:00",
          "2021-03-24 00:00:00+00:00",
          "2021-03-25 00:00:00+00:00",
          "2021-03-26 00:00:00+00:00",
          "2021-03-27 00:00:00+00:00",
          "2021-03-28 00:00:00+00:00",
          "2021-03-29 00:00:00+00:00",
          "2021-03-30 00:00:00+00:00",
          "2021-03-31 00:00:00+00:00",
          "2021-04-01 00:00:00+00:00",
          "2021-04-02 00:00:00+00:00",
          "2021-04-03 00:00:00+00:00",
          "2021-04-04 00:00:00+00:00",
          "2021-04-05 00:00:00+00:00",
          "2021-04-06 00:00:00+00:00",
          "2021-04-07 00:00:00+00:00",
          "2021-04-08 00:00:00+00:00",
          "2021-04-09 00:00:00+00:00",
          "2021-04-10 00:00:00+00:00",
          "2021-04-11 00:00:00+00:00",
          "2021-04-12 00:00:00+00:00",
          "2021-04-13 00:00:00+00:00",
          "2021-04-14 00:00:00+00:00",
          "2021-04-15 00:00:00+00:00",
          "2021-04-16 00:00:00+00:00",
          "2021-04-17 00:00:00+00:00",
          "2021-04-18 00:00:00+00:00",
          "2021-04-19 00:00:00+00:00",
          "2021-04-20 00:00:00+00:00",
          "2021-04-21 00:00:00+00:00",
          "2021-04-22 00:00:00+00:00",
          "2021-04-23 00:00:00+00:00",
          "2021-04-24 00:00:00+00:00",
          "2021-04-25 00:00:00+00:00",
          "2021-04-26 00:00:00+00:00",
          "2021-04-27 00:00:00+00:00",
          "2021-04-28 00:00:00+00:00",
          "2021-04-29 00:00:00+00:00",
          "2021-04-30 00:00:00+00:00",
          "2021-05-01 00:00:00+00:00",
          "2021-05-02 00:00:00+00:00",
          "2021-05-03 00:00:00+00:00",
          "2021-05-04 00:00:00+00:00",
          "2021-05-05 00:00:00+00:00",
          "2021-05-06 00:00:00+00:00",
          "2021-05-07 00:00:00+00:00",
          "2021-05-08 00:00:00+00:00",
          "2021-05-09 00:00:00+00:00",
          "2021-05-10 00:00:00+00:00",
          "2021-05-11 00:00:00+00:00",
          "2021-05-12 00:00:00+00:00",
          "2021-05-13 00:00:00+00:00",
          "2021-05-14 00:00:00+00:00",
          "2021-05-15 00:00:00+00:00",
          "2021-05-16 00:00:00+00:00",
          "2021-05-17 00:00:00+00:00",
          "2021-05-18 00:00:00+00:00",
          "2021-05-19 00:00:00+00:00",
          "2021-05-20 00:00:00+00:00",
          "2021-05-21 00:00:00+00:00",
          "2021-05-22 00:00:00+00:00",
          "2021-05-23 00:00:00+00:00",
          "2021-05-24 00:00:00+00:00",
          "2021-05-25 00:00:00+00:00",
          "2021-05-26 00:00:00+00:00",
          "2021-05-27 00:00:00+00:00",
          "2021-05-28 00:00:00+00:00",
          "2021-05-29 00:00:00+00:00",
          "2021-05-30 00:00:00+00:00",
          "2021-05-31 00:00:00+00:00",
          "2021-06-01 00:00:00+00:00",
          "2021-06-02 00:00:00+00:00",
          "2021-06-03 00:00:00+00:00",
          "2021-06-04 00:00:00+00:00",
          "2021-06-05 00:00:00+00:00",
          "2021-06-06 00:00:00+00:00",
          "2021-06-07 00:00:00+00:00",
          "2021-06-08 00:00:00+00:00",
          "2021-06-09 00:00:00+00:00",
          "2021-06-10 00:00:00+00:00",
          "2021-06-11 00:00:00+00:00",
          "2021-06-12 00:00:00+00:00",
          "2021-06-13 00:00:00+00:00",
          "2021-06-14 00:00:00+00:00",
          "2021-06-15 00:00:00+00:00",
          "2021-06-16 00:00:00+00:00",
          "2021-06-17 00:00:00+00:00",
          "2021-06-18 00:00:00+00:00",
          "2021-06-19 00:00:00+00:00",
          "2021-06-20 00:00:00+00:00",
          "2021-06-21 00:00:00+00:00",
          "2021-06-22 00:00:00+00:00",
          "2021-06-23 00:00:00+00:00",
          "2021-06-24 00:00:00+00:00",
          "2021-06-25 00:00:00+00:00",
          "2021-06-26 00:00:00+00:00",
          "2021-06-27 00:00:00+00:00",
          "2021-06-28 00:00:00+00:00",
          "2021-06-29 00:00:00+00:00",
          "2021-06-30 00:00:00+00:00",
          "2021-07-01 00:00:00+00:00",
          "2021-07-02 00:00:00+00:00",
          "2021-07-03 00:00:00+00:00",
          "2021-07-04 00:00:00+00:00",
          "2021-07-05 00:00:00+00:00",
          "2021-07-06 00:00:00+00:00",
          "2021-07-07 00:00:00+00:00",
          "2021-07-08 00:00:00+00:00",
          "2021-07-09 00:00:00+00:00",
          "2021-07-10 00:00:00+00:00",
          "2021-07-11 00:00:00+00:00",
          "2021-07-12 00:00:00+00:00",
          "2021-07-13 00:00:00+00:00",
          "2021-07-14 00:00:00+00:00",
          "2021-07-15 00:00:00+00:00",
          "2021-07-16 00:00:00+00:00",
          "2021-07-17 00:00:00+00:00",
          "2021-07-18 00:00:00+00:00",
          "2021-07-19 00:00:00+00:00",
          "2021-07-20 00:00:00+00:00",
          "2021-07-21 00:00:00+00:00",
          "2021-07-22 00:00:00+00:00",
          "2021-07-23 00:00:00+00:00",
          "2021-07-24 00:00:00+00:00",
          "2021-07-25 00:00:00+00:00",
          "2021-07-26 00:00:00+00:00",
          "2021-07-27 00:00:00+00:00",
          "2021-07-28 00:00:00+00:00",
          "2021-07-29 00:00:00+00:00",
          "2021-07-30 00:00:00+00:00",
          "2021-07-31 00:00:00+00:00",
          "2021-08-01 00:00:00+00:00",
          "2021-08-02 00:00:00+00:00",
          "2021-08-03 00:00:00+00:00",
          "2021-08-04 00:00:00+00:00",
          "2021-08-05 00:00:00+00:00",
          "2021-08-06 00:00:00+00:00",
          "2021-08-07 00:00:00+00:00",
          "2021-08-08 00:00:00+00:00",
          "2021-08-09 00:00:00+00:00",
          "2021-08-10 00:00:00+00:00",
          "2021-08-11 00:00:00+00:00",
          "2021-08-12 00:00:00+00:00",
          "2021-08-13 00:00:00+00:00",
          "2021-08-14 00:00:00+00:00",
          "2021-08-15 00:00:00+00:00",
          "2021-08-16 00:00:00+00:00",
          "2021-08-17 00:00:00+00:00",
          "2021-08-18 00:00:00+00:00",
          "2021-08-19 00:00:00+00:00",
          "2021-08-20 00:00:00+00:00",
          "2021-08-21 00:00:00+00:00",
          "2021-08-22 00:00:00+00:00",
          "2021-08-23 00:00:00+00:00",
          "2021-08-24 00:00:00+00:00",
          "2021-08-25 00:00:00+00:00",
          "2021-08-26 00:00:00+00:00",
          "2021-08-27 00:00:00+00:00",
          "2021-08-28 00:00:00+00:00",
          "2021-08-29 00:00:00+00:00",
          "2021-08-30 00:00:00+00:00",
          "2021-08-31 00:00:00+00:00",
          "2021-09-01 00:00:00+00:00",
          "2021-09-02 00:00:00+00:00",
          "2021-09-03 00:00:00+00:00",
          "2021-09-04 00:00:00+00:00",
          "2021-09-05 00:00:00+00:00",
          "2021-09-06 00:00:00+00:00",
          "2021-09-07 00:00:00+00:00",
          "2021-09-08 00:00:00+00:00",
          "2021-09-09 00:00:00+00:00",
          "2021-09-10 00:00:00+00:00",
          "2021-09-11 00:00:00+00:00",
          "2021-09-12 00:00:00+00:00",
          "2021-09-13 00:00:00+00:00",
          "2021-09-14 00:00:00+00:00",
          "2021-09-15 00:00:00+00:00",
          "2021-09-16 00:00:00+00:00",
          "2021-09-17 00:00:00+00:00",
          "2021-09-18 00:00:00+00:00",
          "2021-09-19 00:00:00+00:00",
          "2021-09-20 00:00:00+00:00",
          "2021-09-21 00:00:00+00:00",
          "2021-09-22 00:00:00+00:00",
          "2021-09-23 00:00:00+00:00",
          "2021-09-24 00:00:00+00:00",
          "2021-09-25 00:00:00+00:00",
          "2021-09-26 00:00:00+00:00",
          "2021-09-27 00:00:00+00:00",
          "2021-09-28 00:00:00+00:00",
          "2021-09-29 00:00:00+00:00",
          "2021-09-30 00:00:00+00:00",
          "2021-10-01 00:00:00+00:00",
          "2021-10-02 00:00:00+00:00",
          "2021-10-03 00:00:00+00:00",
          "2021-10-04 00:00:00+00:00",
          "2021-10-05 00:00:00+00:00",
          "2021-10-06 00:00:00+00:00",
          "2021-10-07 00:00:00+00:00",
          "2021-10-08 00:00:00+00:00",
          "2021-10-09 00:00:00+00:00",
          "2021-10-10 00:00:00+00:00",
          "2021-10-11 00:00:00+00:00",
          "2021-10-12 00:00:00+00:00",
          "2021-10-13 00:00:00+00:00",
          "2021-10-14 00:00:00+00:00",
          "2021-10-15 00:00:00+00:00",
          "2021-10-16 00:00:00+00:00",
          "2021-10-17 00:00:00+00:00",
          "2021-10-18 00:00:00+00:00",
          "2021-10-19 00:00:00+00:00",
          "2021-10-20 00:00:00+00:00",
          "2021-10-21 00:00:00+00:00",
          "2021-10-22 00:00:00+00:00",
          "2021-10-23 00:00:00+00:00",
          "2021-10-24 00:00:00+00:00",
          "2021-10-25 00:00:00+00:00",
          "2021-10-26 00:00:00+00:00",
          "2021-10-27 00:00:00+00:00",
          "2021-10-28 00:00:00+00:00",
          "2021-10-29 00:00:00+00:00",
          "2021-10-30 00:00:00+00:00",
          "2021-10-31 00:00:00+00:00",
          "2021-11-01 00:00:00+00:00",
          "2021-11-02 00:00:00+00:00",
          "2021-11-03 00:00:00+00:00",
          "2021-11-04 00:00:00+00:00",
          "2021-11-05 00:00:00+00:00",
          "2021-11-06 00:00:00+00:00",
          "2021-11-07 00:00:00+00:00",
          "2021-11-08 00:00:00+00:00",
          "2021-11-09 00:00:00+00:00",
          "2021-11-10 00:00:00+00:00",
          "2021-11-11 00:00:00+00:00",
          "2021-11-12 00:00:00+00:00",
          "2021-11-13 00:00:00+00:00",
          "2021-11-14 00:00:00+00:00",
          "2021-11-15 00:00:00+00:00",
          "2021-11-16 00:00:00+00:00",
          "2021-11-17 00:00:00+00:00",
          "2021-11-18 00:00:00+00:00",
          "2021-11-19 00:00:00+00:00",
          "2021-11-20 00:00:00+00:00",
          "2021-11-21 00:00:00+00:00",
          "2021-11-22 00:00:00+00:00",
          "2021-11-23 00:00:00+00:00",
          "2021-11-24 00:00:00+00:00",
          "2021-11-25 00:00:00+00:00",
          "2021-11-26 00:00:00+00:00",
          "2021-11-27 00:00:00+00:00",
          "2021-11-28 00:00:00+00:00",
          "2021-11-29 00:00:00+00:00",
          "2021-11-30 00:00:00+00:00",
          "2021-12-01 00:00:00+00:00",
          "2021-12-02 00:00:00+00:00",
          "2021-12-03 00:00:00+00:00",
          "2021-12-04 00:00:00+00:00",
          "2021-12-05 00:00:00+00:00",
          "2021-12-06 00:00:00+00:00",
          "2021-12-07 00:00:00+00:00",
          "2021-12-08 00:00:00+00:00",
          "2021-12-09 00:00:00+00:00",
          "2021-12-10 00:00:00+00:00",
          "2021-12-11 00:00:00+00:00",
          "2021-12-12 00:00:00+00:00",
          "2021-12-13 00:00:00+00:00",
          "2021-12-14 00:00:00+00:00",
          "2021-12-15 00:00:00+00:00",
          "2021-12-16 00:00:00+00:00",
          "2021-12-17 00:00:00+00:00",
          "2021-12-18 00:00:00+00:00",
          "2021-12-19 00:00:00+00:00",
          "2021-12-20 00:00:00+00:00",
          "2021-12-21 00:00:00+00:00",
          "2021-12-22 00:00:00+00:00",
          "2021-12-23 00:00:00+00:00",
          "2021-12-24 00:00:00+00:00",
          "2021-12-25 00:00:00+00:00",
          "2021-12-26 00:00:00+00:00",
          "2021-12-27 00:00:00+00:00",
          "2021-12-28 00:00:00+00:00",
          "2021-12-29 00:00:00+00:00",
          "2021-12-30 00:00:00+00:00",
          "2021-12-31 00:00:00+00:00",
          "2022-01-01 00:00:00+00:00",
          "2022-01-02 00:00:00+00:00",
          "2022-01-03 00:00:00+00:00",
          "2022-01-04 00:00:00+00:00",
          "2022-01-05 00:00:00+00:00",
          "2022-01-06 00:00:00+00:00",
          "2022-01-07 00:00:00+00:00",
          "2022-01-08 00:00:00+00:00",
          "2022-01-09 00:00:00+00:00",
          "2022-01-10 00:00:00+00:00",
          "2022-01-11 00:00:00+00:00",
          "2022-01-12 00:00:00+00:00",
          "2022-01-13 00:00:00+00:00",
          "2022-01-14 00:00:00+00:00",
          "2022-01-15 00:00:00+00:00",
          "2022-01-16 00:00:00+00:00",
          "2022-01-17 00:00:00+00:00",
          "2022-01-18 00:00:00+00:00",
          "2022-01-19 00:00:00+00:00",
          "2022-01-20 00:00:00+00:00",
          "2022-01-21 00:00:00+00:00",
          "2022-01-22 00:00:00+00:00",
          "2022-01-23 00:00:00+00:00",
          "2022-01-24 00:00:00+00:00",
          "2022-01-25 00:00:00+00:00",
          "2022-01-26 00:00:00+00:00",
          "2022-01-27 00:00:00+00:00",
          "2022-01-28 00:00:00+00:00",
          "2022-01-29 00:00:00+00:00",
          "2022-01-30 00:00:00+00:00",
          "2022-01-31 00:00:00+00:00",
          "2022-02-01 00:00:00+00:00"
         ],
         "y": [
          -1.501824817518153,
          -2.025780782577239,
          -2.025780782577239,
          -2.025780782577239,
          -2.062071105157828,
          -2.062071105157828,
          -3.5645711051578246,
          -3.5645711051578246,
          -3.5645711051578246,
          -3.5645711051578246,
          -3.5645711051578246,
          -3.5645711051578246,
          -3.5645711051578246,
          -3.5645711051578246,
          -3.5645711051578246,
          -3.5645711051578246,
          -3.5645711051578246,
          -3.5645711051578246,
          -3.5645711051578246,
          -3.5645711051578246,
          -3.5645711051578246,
          -3.5645711051578246,
          -3.5645711051578246,
          -3.5645711051578246,
          -3.5645711051578246,
          -2.1861187242053344,
          -2.1673824200030443,
          -2.1673824200030443,
          -2.1673824200030443,
          -1.4433413261649317,
          -1.4433413261649317,
          -1.4433413261649317,
          -0.9428988482888129,
          -0.9428988482888129,
          -0.5428988482887978,
          -1.537948353239401,
          -1.1714266141089584,
          -1.1714266141089584,
          -1.1714266141089584,
          -1.1714266141089584,
          -1.1714266141089584,
          1.2885733858911348,
          0.3449643633347372,
          0.8075456836568338,
          0.8075456836568338,
          0.8075456836568338,
          1.302037179904218,
          -0.19886210067123367,
          -0.19886210067123367,
          -0.19886210067123367,
          -0.19886210067123367,
          -0.19886210067123367,
          -0.19886210067123367,
          -0.19886210067123367,
          -0.19886210067123367,
          -0.5686934200816695,
          -1.5716696105578274,
          -1.5716696105578274,
          -1.5716696105578274,
          -1.5716696105578274,
          -0.15447215832858596,
          0.27521534167137846,
          0.27521534167137846,
          0.7914164589898021,
          0.03946115172722764,
          0.03946115172722764,
          0.03946115172722764,
          1.2734562576878394,
          1.741486948224944,
          1.741486948224944,
          1.741486948224944,
          3.060441196590939,
          3.060441196590939,
          3.060441196590939,
          3.060441196590939,
          2.060441196590862,
          2.9742343000390905,
          2.2692837786515954,
          1.5631156259628756,
          1.5631156259628756,
          1.5631156259628756,
          2.4311156259629954,
          3.2131669080142586,
          3.2131669080142586,
          2.210172896038272,
          0.7101728960382271,
          0.7101728960382271,
          0.7101728960382271,
          -1.8139483953819446,
          -3.7040680070085794,
          -3.011486719982907,
          -3.011486719982907,
          -3.263929930951077,
          -3.263929930951077,
          -3.263929930951077,
          -2.4293554628660528,
          -3.4282661382473245,
          -3.4282661382473245,
          -3.4282661382473245,
          -3.4282661382473245,
          -3.4282661382473245,
          -3.4282661382473245,
          -3.4282661382473245,
          -4.428266138247363,
          -3.1216623646625727,
          -1.704995697995868,
          -1.704995697995868,
          -1.704995697995868,
          -1.704995697995868,
          -0.3016844397177789,
          0.727103439070057,
          1.6588324943285664,
          -0.006338341931684329,
          -0.006338341931684329,
          -0.006338341931684329,
          -0.006338341931684329,
          -0.2210910987715138,
          0.4344962645784505,
          2.3248214344432805,
          2.3248214344432805,
          3.8708262770583195,
          3.8708262770583195,
          3.8708262770583195,
          3.8708262770583195,
          4.064249047617846,
          5.120960307234236,
          5.120960307234236,
          5.715346400672868,
          5.715346400672868,
          5.715346400672868,
          6.207297139589143,
          5.300517478572033,
          6.794501176333917,
          5.504752222359286,
          4.729497997573759,
          4.729497997573759,
          4.729497997573759,
          5.1090152413276355,
          4.0868780472222435,
          3.3214604786794815,
          3.223514050107965,
          2.2206404868896046,
          2.2206404868896046,
          2.2206404868896046,
          3.18202556923126,
          3.8675213245570266,
          6.182518343042519,
          6.002934367695856,
          6.002934367695856,
          6.002934367695856,
          6.002934367695856,
          7.703166409665188,
          9.237877618892036,
          8.921980194677268,
          9.529329068309053,
          11.394100232757314,
          11.394100232757314,
          11.394100232757314,
          10.187527462803985,
          12.35210159475365,
          11.089845903448788,
          11.089845903448788,
          12.921199475090132,
          12.921199475090132,
          12.921199475090132,
          11.658491939968625,
          13.121220995160428,
          15.246980604521795,
          16.182003266170405,
          13.62753398452731,
          13.62753398452731,
          13.62753398452731,
          12.58304603271996,
          14.428767957853555,
          13.428767957853541,
          12.472940890184375,
          10.122057859874179,
          10.122057859874179,
          10.122057859874179,
          8.671270652387891,
          9.588614010783916,
          10.168580550845553,
          10.053270257947691,
          11.202774273063458,
          11.202774273063458,
          11.202774273063458,
          9.772423360905576,
          7.737803319929636,
          6.212443639449544,
          5.525703307957668,
          5.299314972519791,
          5.299314972519791,
          5.299314972519791,
          6.335349170940029,
          6.335349170940029,
          6.093036964367118,
          8.698708628762075,
          8.698708628762075,
          8.698708628762075,
          8.698708628762075,
          9.607404280935956,
          9.607404280935956,
          10.72107425741881,
          9.695245189015958,
          9.695245189015958,
          9.695245189015958,
          9.695245189015958,
          9.695245189015958,
          9.695245189015958,
          9.695245189015958,
          9.695245189015958,
          9.695245189015958,
          9.695245189015958,
          9.695245189015958,
          9.695245189015958,
          6.731377535906536,
          6.361834192777154,
          8.38473495613593,
          8.96670216925062,
          8.96670216925062,
          8.96670216925062,
          8.939916454964862,
          9.86743189765535,
          9.86743189765535,
          9.239977260558602,
          9.239977260558602,
          9.239977260558602,
          9.239977260558602,
          8.78906401854962,
          7.849106487496172,
          7.849106487496172,
          7.849106487496172,
          7.849106487496172,
          7.849106487496172,
          7.849106487496172,
          7.849106487496172,
          7.849106487496172,
          6.871017909407586,
          5.3683297373645935,
          5.3683297373645935,
          5.3683297373645935,
          5.3683297373645935,
          5.3683297373645935,
          4.802811038556705,
          4.155651776913771,
          5.814872321500068,
          5.266091833695407,
          5.266091833695407,
          5.266091833695407,
          3.8705552290793035,
          4.232876164359414,
          4.936447592930852,
          6.20374319041512,
          7.023935498107436,
          7.023935498107436,
          7.023935498107436,
          6.023935498107469,
          5.070739151075619,
          6.440028011144197,
          7.813216416941367,
          7.472699175561891,
          7.472699175561891,
          7.472699175561891,
          10.236328193260444,
          8.171304500969857,
          8.171304500969857,
          9.478696115315925,
          10.645362781982673,
          10.645362781982673,
          10.645362781982673,
          10.889771727669606,
          11.863340009607922,
          12.386449253305356,
          13.615073788621364,
          13.615073788621364,
          13.615073788621364,
          13.615073788621364,
          14.632695066577877,
          16.239707217068364,
          15.156808590742392,
          13.0732958144001,
          12.61607038087428,
          12.61607038087428,
          12.61607038087428,
          12.27981307093268,
          10.442267101197665,
          10.09114133547554,
          7.633657387371368,
          3.930718341077619,
          3.930718341077619,
          3.930718341077619,
          5.933071103326199,
          6.551562118998449,
          7.072443708291903,
          7.339078544044442,
          8.122294569308073,
          8.122294569308073,
          8.122294569308073,
          8.623849304308905,
          10.292983977215947,
          9.292983977215858,
          10.334504445052053,
          10.334504445052053,
          10.334504445052053,
          10.334504445052053,
          10.479332031258956,
          11.364133320195549,
          13.779251305282603,
          13.779251305282603,
          13.779251305282603,
          13.779251305282603,
          13.779251305282603,
          15.137371658953505,
          15.137371658953505,
          16.25412256788312,
          17.375971307379043,
          16.375971307379093,
          16.375971307379093,
          16.375971307379093,
          14.874223055630916,
          14.874223055630916,
          14.874223055630916,
          14.486229911322688,
          15.45179870969223,
          15.45179870969223,
          15.45179870969223,
          15.960973021618843,
          14.960973021618729,
          14.24861527627127,
          14.749096878002845,
          14.609856371673725,
          14.609856371673725,
          14.609856371673725,
          16.943692788421483,
          19.297126264816352,
          19.297126264816352,
          20.2267037296051,
          21.849654549277275,
          21.849654549277275,
          21.849654549277275,
          21.849654549277275,
          22.15874950265467,
          24.933116588409703,
          24.933116588409703,
          24.933116588409703,
          24.933116588409703,
          24.933116588409703,
          24.933116588409703,
          24.933116588409703,
          24.933116588409703,
          24.933116588409703,
          24.933116588409703,
          24.933116588409703,
          24.933116588409703,
          23.834239192815872,
          23.834239192815872,
          21.313859332070823,
          19.31071467798294,
          19.31071467798294,
          19.31071467798294,
          19.31071467798294,
          19.770099201022965,
          19.37961690260557,
          21.615218275454172,
          20.378854639090527,
          20.378854639090527,
          20.378854639090527,
          20.378854639090527,
          18.982031462267354,
          18.821159798637083,
          18.821159798637083,
          19.212984580962168,
          19.212984580962168,
          19.212984580962168,
          19.212984580962168,
          19.212984580962168,
          19.212984580962168,
          19.305470130095063,
          18.511885185627822,
          18.511885185627822,
          18.511885185627822,
          18.511885185627822,
          17.90176075123866,
          17.90176075123866,
          15.512106468472894,
          15.512106468472894,
          15.512106468472894,
          15.512106468472894,
          15.512106468472894,
          15.169941005796563,
          12.171594444949909,
          12.171594444949909,
          9.785441731176043,
          9.366862068225622,
          9.366862068225622,
          9.366862068225622,
          10.563017939737026,
          7.562786967494004,
          7.360315728909022,
          6.542247392396959,
          6.542247392396959,
          6.542247392396959,
          6.542247392396959,
          7.976408550705134,
          9.38466543143905,
          8.384665431439121,
          9.711768235177454,
          10.163728638904182,
          10.163728638904182,
          10.163728638904182,
          12.708318559852817,
          14.166855145218674,
          14.166855145218674,
          14.166855145218674,
          14.166855145218674,
          14.166855145218674,
          14.166855145218674,
          15.403393606757165,
          15.403393606757165,
          15.403393606757165,
          15.403393606757165,
          15.403393606757165,
          15.403393606757165,
          15.403393606757165,
          15.403393606757165,
          17.3899465713896,
          17.868619710421257,
          19.955047123915612,
          19.955047123915612,
          19.955047123915612,
          19.955047123915612,
          19.955047123915612,
          19.955047123915612,
          20.38782490169339,
          21.092172727780373,
          21.197760999158092,
          21.197760999158092,
          21.197760999158092,
          20.037040441177226,
          20.85951943277389,
          22.828072891893385,
          20.824140120687982,
          20.824140120687982,
          20.824140120687982,
          20.824140120687982,
          19.305881748709396,
          19.943461072610425,
          21.196982199370943,
          21.786322300893787,
          21.786322300893787,
          21.786322300893787,
          21.786322300893787,
          22.179297507505368,
          23.622959479336323
         ]
        }
       ],
       "layout": {
        "legend": {
         "bgcolor": "#FFFFFF",
         "font": {
          "color": "#4D5663"
         }
        },
        "paper_bgcolor": "#FFFFFF",
        "plot_bgcolor": "#FFFFFF",
        "template": {
         "data": {
          "bar": [
           {
            "error_x": {
             "color": "#2a3f5f"
            },
            "error_y": {
             "color": "#2a3f5f"
            },
            "marker": {
             "line": {
              "color": "#E5ECF6",
              "width": 0.5
             },
             "pattern": {
              "fillmode": "overlay",
              "size": 10,
              "solidity": 0.2
             }
            },
            "type": "bar"
           }
          ],
          "barpolar": [
           {
            "marker": {
             "line": {
              "color": "#E5ECF6",
              "width": 0.5
             },
             "pattern": {
              "fillmode": "overlay",
              "size": 10,
              "solidity": 0.2
             }
            },
            "type": "barpolar"
           }
          ],
          "carpet": [
           {
            "aaxis": {
             "endlinecolor": "#2a3f5f",
             "gridcolor": "white",
             "linecolor": "white",
             "minorgridcolor": "white",
             "startlinecolor": "#2a3f5f"
            },
            "baxis": {
             "endlinecolor": "#2a3f5f",
             "gridcolor": "white",
             "linecolor": "white",
             "minorgridcolor": "white",
             "startlinecolor": "#2a3f5f"
            },
            "type": "carpet"
           }
          ],
          "choropleth": [
           {
            "colorbar": {
             "outlinewidth": 0,
             "ticks": ""
            },
            "type": "choropleth"
           }
          ],
          "contour": [
           {
            "colorbar": {
             "outlinewidth": 0,
             "ticks": ""
            },
            "colorscale": [
             [
              0.0,
              "#0d0887"
             ],
             [
              0.1111111111111111,
              "#46039f"
             ],
             [
              0.2222222222222222,
              "#7201a8"
             ],
             [
              0.3333333333333333,
              "#9c179e"
             ],
             [
              0.4444444444444444,
              "#bd3786"
             ],
             [
              0.5555555555555556,
              "#d8576b"
             ],
             [
              0.6666666666666666,
              "#ed7953"
             ],
             [
              0.7777777777777778,
              "#fb9f3a"
             ],
             [
              0.8888888888888888,
              "#fdca26"
             ],
             [
              1.0,
              "#f0f921"
             ]
            ],
            "type": "contour"
           }
          ],
          "contourcarpet": [
           {
            "colorbar": {
             "outlinewidth": 0,
             "ticks": ""
            },
            "type": "contourcarpet"
           }
          ],
          "heatmap": [
           {
            "colorbar": {
             "outlinewidth": 0,
             "ticks": ""
            },
            "colorscale": [
             [
              0.0,
              "#0d0887"
             ],
             [
              0.1111111111111111,
              "#46039f"
             ],
             [
              0.2222222222222222,
              "#7201a8"
             ],
             [
              0.3333333333333333,
              "#9c179e"
             ],
             [
              0.4444444444444444,
              "#bd3786"
             ],
             [
              0.5555555555555556,
              "#d8576b"
             ],
             [
              0.6666666666666666,
              "#ed7953"
             ],
             [
              0.7777777777777778,
              "#fb9f3a"
             ],
             [
              0.8888888888888888,
              "#fdca26"
             ],
             [
              1.0,
              "#f0f921"
             ]
            ],
            "type": "heatmap"
           }
          ],
          "heatmapgl": [
           {
            "colorbar": {
             "outlinewidth": 0,
             "ticks": ""
            },
            "colorscale": [
             [
              0.0,
              "#0d0887"
             ],
             [
              0.1111111111111111,
              "#46039f"
             ],
             [
              0.2222222222222222,
              "#7201a8"
             ],
             [
              0.3333333333333333,
              "#9c179e"
             ],
             [
              0.4444444444444444,
              "#bd3786"
             ],
             [
              0.5555555555555556,
              "#d8576b"
             ],
             [
              0.6666666666666666,
              "#ed7953"
             ],
             [
              0.7777777777777778,
              "#fb9f3a"
             ],
             [
              0.8888888888888888,
              "#fdca26"
             ],
             [
              1.0,
              "#f0f921"
             ]
            ],
            "type": "heatmapgl"
           }
          ],
          "histogram": [
           {
            "marker": {
             "pattern": {
              "fillmode": "overlay",
              "size": 10,
              "solidity": 0.2
             }
            },
            "type": "histogram"
           }
          ],
          "histogram2d": [
           {
            "colorbar": {
             "outlinewidth": 0,
             "ticks": ""
            },
            "colorscale": [
             [
              0.0,
              "#0d0887"
             ],
             [
              0.1111111111111111,
              "#46039f"
             ],
             [
              0.2222222222222222,
              "#7201a8"
             ],
             [
              0.3333333333333333,
              "#9c179e"
             ],
             [
              0.4444444444444444,
              "#bd3786"
             ],
             [
              0.5555555555555556,
              "#d8576b"
             ],
             [
              0.6666666666666666,
              "#ed7953"
             ],
             [
              0.7777777777777778,
              "#fb9f3a"
             ],
             [
              0.8888888888888888,
              "#fdca26"
             ],
             [
              1.0,
              "#f0f921"
             ]
            ],
            "type": "histogram2d"
           }
          ],
          "histogram2dcontour": [
           {
            "colorbar": {
             "outlinewidth": 0,
             "ticks": ""
            },
            "colorscale": [
             [
              0.0,
              "#0d0887"
             ],
             [
              0.1111111111111111,
              "#46039f"
             ],
             [
              0.2222222222222222,
              "#7201a8"
             ],
             [
              0.3333333333333333,
              "#9c179e"
             ],
             [
              0.4444444444444444,
              "#bd3786"
             ],
             [
              0.5555555555555556,
              "#d8576b"
             ],
             [
              0.6666666666666666,
              "#ed7953"
             ],
             [
              0.7777777777777778,
              "#fb9f3a"
             ],
             [
              0.8888888888888888,
              "#fdca26"
             ],
             [
              1.0,
              "#f0f921"
             ]
            ],
            "type": "histogram2dcontour"
           }
          ],
          "mesh3d": [
           {
            "colorbar": {
             "outlinewidth": 0,
             "ticks": ""
            },
            "type": "mesh3d"
           }
          ],
          "parcoords": [
           {
            "line": {
             "colorbar": {
              "outlinewidth": 0,
              "ticks": ""
             }
            },
            "type": "parcoords"
           }
          ],
          "pie": [
           {
            "automargin": true,
            "type": "pie"
           }
          ],
          "scatter": [
           {
            "marker": {
             "colorbar": {
              "outlinewidth": 0,
              "ticks": ""
             }
            },
            "type": "scatter"
           }
          ],
          "scatter3d": [
           {
            "line": {
             "colorbar": {
              "outlinewidth": 0,
              "ticks": ""
             }
            },
            "marker": {
             "colorbar": {
              "outlinewidth": 0,
              "ticks": ""
             }
            },
            "type": "scatter3d"
           }
          ],
          "scattercarpet": [
           {
            "marker": {
             "colorbar": {
              "outlinewidth": 0,
              "ticks": ""
             }
            },
            "type": "scattercarpet"
           }
          ],
          "scattergeo": [
           {
            "marker": {
             "colorbar": {
              "outlinewidth": 0,
              "ticks": ""
             }
            },
            "type": "scattergeo"
           }
          ],
          "scattergl": [
           {
            "marker": {
             "colorbar": {
              "outlinewidth": 0,
              "ticks": ""
             }
            },
            "type": "scattergl"
           }
          ],
          "scattermapbox": [
           {
            "marker": {
             "colorbar": {
              "outlinewidth": 0,
              "ticks": ""
             }
            },
            "type": "scattermapbox"
           }
          ],
          "scatterpolar": [
           {
            "marker": {
             "colorbar": {
              "outlinewidth": 0,
              "ticks": ""
             }
            },
            "type": "scatterpolar"
           }
          ],
          "scatterpolargl": [
           {
            "marker": {
             "colorbar": {
              "outlinewidth": 0,
              "ticks": ""
             }
            },
            "type": "scatterpolargl"
           }
          ],
          "scatterternary": [
           {
            "marker": {
             "colorbar": {
              "outlinewidth": 0,
              "ticks": ""
             }
            },
            "type": "scatterternary"
           }
          ],
          "surface": [
           {
            "colorbar": {
             "outlinewidth": 0,
             "ticks": ""
            },
            "colorscale": [
             [
              0.0,
              "#0d0887"
             ],
             [
              0.1111111111111111,
              "#46039f"
             ],
             [
              0.2222222222222222,
              "#7201a8"
             ],
             [
              0.3333333333333333,
              "#9c179e"
             ],
             [
              0.4444444444444444,
              "#bd3786"
             ],
             [
              0.5555555555555556,
              "#d8576b"
             ],
             [
              0.6666666666666666,
              "#ed7953"
             ],
             [
              0.7777777777777778,
              "#fb9f3a"
             ],
             [
              0.8888888888888888,
              "#fdca26"
             ],
             [
              1.0,
              "#f0f921"
             ]
            ],
            "type": "surface"
           }
          ],
          "table": [
           {
            "cells": {
             "fill": {
              "color": "#EBF0F8"
             },
             "line": {
              "color": "white"
             }
            },
            "header": {
             "fill": {
              "color": "#C8D4E3"
             },
             "line": {
              "color": "white"
             }
            },
            "type": "table"
           }
          ]
         },
         "layout": {
          "annotationdefaults": {
           "arrowcolor": "#2a3f5f",
           "arrowhead": 0,
           "arrowwidth": 1
          },
          "autotypenumbers": "strict",
          "coloraxis": {
           "colorbar": {
            "outlinewidth": 0,
            "ticks": ""
           }
          },
          "colorscale": {
           "diverging": [
            [
             0,
             "#8e0152"
            ],
            [
             0.1,
             "#c51b7d"
            ],
            [
             0.2,
             "#de77ae"
            ],
            [
             0.3,
             "#f1b6da"
            ],
            [
             0.4,
             "#fde0ef"
            ],
            [
             0.5,
             "#f7f7f7"
            ],
            [
             0.6,
             "#e6f5d0"
            ],
            [
             0.7,
             "#b8e186"
            ],
            [
             0.8,
             "#7fbc41"
            ],
            [
             0.9,
             "#4d9221"
            ],
            [
             1,
             "#276419"
            ]
           ],
           "sequential": [
            [
             0.0,
             "#0d0887"
            ],
            [
             0.1111111111111111,
             "#46039f"
            ],
            [
             0.2222222222222222,
             "#7201a8"
            ],
            [
             0.3333333333333333,
             "#9c179e"
            ],
            [
             0.4444444444444444,
             "#bd3786"
            ],
            [
             0.5555555555555556,
             "#d8576b"
            ],
            [
             0.6666666666666666,
             "#ed7953"
            ],
            [
             0.7777777777777778,
             "#fb9f3a"
            ],
            [
             0.8888888888888888,
             "#fdca26"
            ],
            [
             1.0,
             "#f0f921"
            ]
           ],
           "sequentialminus": [
            [
             0.0,
             "#0d0887"
            ],
            [
             0.1111111111111111,
             "#46039f"
            ],
            [
             0.2222222222222222,
             "#7201a8"
            ],
            [
             0.3333333333333333,
             "#9c179e"
            ],
            [
             0.4444444444444444,
             "#bd3786"
            ],
            [
             0.5555555555555556,
             "#d8576b"
            ],
            [
             0.6666666666666666,
             "#ed7953"
            ],
            [
             0.7777777777777778,
             "#fb9f3a"
            ],
            [
             0.8888888888888888,
             "#fdca26"
            ],
            [
             1.0,
             "#f0f921"
            ]
           ]
          },
          "colorway": [
           "#636efa",
           "#EF553B",
           "#00cc96",
           "#ab63fa",
           "#FFA15A",
           "#19d3f3",
           "#FF6692",
           "#B6E880",
           "#FF97FF",
           "#FECB52"
          ],
          "font": {
           "color": "#2a3f5f"
          },
          "geo": {
           "bgcolor": "white",
           "lakecolor": "white",
           "landcolor": "#E5ECF6",
           "showlakes": true,
           "showland": true,
           "subunitcolor": "white"
          },
          "hoverlabel": {
           "align": "left"
          },
          "hovermode": "closest",
          "mapbox": {
           "style": "light"
          },
          "paper_bgcolor": "white",
          "plot_bgcolor": "#E5ECF6",
          "polar": {
           "angularaxis": {
            "gridcolor": "white",
            "linecolor": "white",
            "ticks": ""
           },
           "bgcolor": "#E5ECF6",
           "radialaxis": {
            "gridcolor": "white",
            "linecolor": "white",
            "ticks": ""
           }
          },
          "scene": {
           "xaxis": {
            "backgroundcolor": "#E5ECF6",
            "gridcolor": "white",
            "gridwidth": 2,
            "linecolor": "white",
            "showbackground": true,
            "ticks": "",
            "zerolinecolor": "white"
           },
           "yaxis": {
            "backgroundcolor": "#E5ECF6",
            "gridcolor": "white",
            "gridwidth": 2,
            "linecolor": "white",
            "showbackground": true,
            "ticks": "",
            "zerolinecolor": "white"
           },
           "zaxis": {
            "backgroundcolor": "#E5ECF6",
            "gridcolor": "white",
            "gridwidth": 2,
            "linecolor": "white",
            "showbackground": true,
            "ticks": "",
            "zerolinecolor": "white"
           }
          },
          "shapedefaults": {
           "line": {
            "color": "#2a3f5f"
           }
          },
          "ternary": {
           "aaxis": {
            "gridcolor": "white",
            "linecolor": "white",
            "ticks": ""
           },
           "baxis": {
            "gridcolor": "white",
            "linecolor": "white",
            "ticks": ""
           },
           "bgcolor": "#E5ECF6",
           "caxis": {
            "gridcolor": "white",
            "linecolor": "white",
            "ticks": ""
           }
          },
          "title": {
           "x": 0.05
          },
          "xaxis": {
           "automargin": true,
           "gridcolor": "white",
           "linecolor": "white",
           "ticks": "",
           "title": {
            "standoff": 15
           },
           "zerolinecolor": "white",
           "zerolinewidth": 2
          },
          "yaxis": {
           "automargin": true,
           "gridcolor": "white",
           "linecolor": "white",
           "ticks": "",
           "title": {
            "standoff": 15
           },
           "zerolinecolor": "white",
           "zerolinewidth": 2
          }
         }
        },
        "title": {
         "font": {
          "color": "#4D5663"
         },
         "text": "Risultato cumulativo (R)"
        },
        "xaxis": {
         "gridcolor": "#E1E5ED",
         "showgrid": true,
         "tickfont": {
          "color": "#4D5663"
         },
         "title": {
          "font": {
           "color": "#4D5663"
          },
          "text": ""
         },
         "zerolinecolor": "grey"
        },
        "yaxis": {
         "gridcolor": "#E1E5ED",
         "showgrid": true,
         "tickfont": {
          "color": "#4D5663"
         },
         "title": {
          "font": {
           "color": "#4D5663"
          },
          "text": "R"
         },
         "zerolinecolor": "grey"
        }
       }
      },
      "text/html": [
       "<div>                            <div id=\"b211375a-875d-4f9e-9f2d-ea0d1c2f842c\" class=\"plotly-graph-div\" style=\"height:525px; width:100%;\"></div>            <script type=\"text/javascript\">                require([\"plotly\"], function(Plotly) {                    window.PLOTLYENV=window.PLOTLYENV || {};                                    if (document.getElementById(\"b211375a-875d-4f9e-9f2d-ea0d1c2f842c\")) {                    Plotly.newPlot(                        \"b211375a-875d-4f9e-9f2d-ea0d1c2f842c\",                        [{\"fill\":\"tozeroy\",\"fillcolor\":\"rgba(55, 128, 191, 0.3)\",\"line\":{\"color\":\"rgba(55, 128, 191, 1.0)\",\"dash\":\"solid\",\"shape\":\"linear\",\"width\":2},\"mode\":\"lines\",\"name\":\"result\",\"text\":\"\",\"x\":[\"2020-11-05 00:00:00+00:00\",\"2020-11-06 00:00:00+00:00\",\"2020-11-07 00:00:00+00:00\",\"2020-11-08 00:00:00+00:00\",\"2020-11-09 00:00:00+00:00\",\"2020-11-10 00:00:00+00:00\",\"2020-11-11 00:00:00+00:00\",\"2020-11-12 00:00:00+00:00\",\"2020-11-13 00:00:00+00:00\",\"2020-11-14 00:00:00+00:00\",\"2020-11-15 00:00:00+00:00\",\"2020-11-16 00:00:00+00:00\",\"2020-11-17 00:00:00+00:00\",\"2020-11-18 00:00:00+00:00\",\"2020-11-19 00:00:00+00:00\",\"2020-11-20 00:00:00+00:00\",\"2020-11-21 00:00:00+00:00\",\"2020-11-22 00:00:00+00:00\",\"2020-11-23 00:00:00+00:00\",\"2020-11-24 00:00:00+00:00\",\"2020-11-25 00:00:00+00:00\",\"2020-11-26 00:00:00+00:00\",\"2020-11-27 00:00:00+00:00\",\"2020-11-28 00:00:00+00:00\",\"2020-11-29 00:00:00+00:00\",\"2020-11-30 00:00:00+00:00\",\"2020-12-01 00:00:00+00:00\",\"2020-12-02 00:00:00+00:00\",\"2020-12-03 00:00:00+00:00\",\"2020-12-04 00:00:00+00:00\",\"2020-12-05 00:00:00+00:00\",\"2020-12-06 00:00:00+00:00\",\"2020-12-07 00:00:00+00:00\",\"2020-12-08 00:00:00+00:00\",\"2020-12-09 00:00:00+00:00\",\"2020-12-10 00:00:00+00:00\",\"2020-12-11 00:00:00+00:00\",\"2020-12-12 00:00:00+00:00\",\"2020-12-13 00:00:00+00:00\",\"2020-12-14 00:00:00+00:00\",\"2020-12-15 00:00:00+00:00\",\"2020-12-16 00:00:00+00:00\",\"2020-12-17 00:00:00+00:00\",\"2020-12-18 00:00:00+00:00\",\"2020-12-19 00:00:00+00:00\",\"2020-12-20 00:00:00+00:00\",\"2020-12-21 00:00:00+00:00\",\"2020-12-22 00:00:00+00:00\",\"2020-12-23 00:00:00+00:00\",\"2020-12-24 00:00:00+00:00\",\"2020-12-25 00:00:00+00:00\",\"2020-12-26 00:00:00+00:00\",\"2020-12-27 00:00:00+00:00\",\"2020-12-28 00:00:00+00:00\",\"2020-12-29 00:00:00+00:00\",\"2020-12-30 00:00:00+00:00\",\"2020-12-31 00:00:00+00:00\",\"2021-01-01 00:00:00+00:00\",\"2021-01-02 00:00:00+00:00\",\"2021-01-03 00:00:00+00:00\",\"2021-01-04 00:00:00+00:00\",\"2021-01-05 00:00:00+00:00\",\"2021-01-06 00:00:00+00:00\",\"2021-01-07 00:00:00+00:00\",\"2021-01-08 00:00:00+00:00\",\"2021-01-09 00:00:00+00:00\",\"2021-01-10 00:00:00+00:00\",\"2021-01-11 00:00:00+00:00\",\"2021-01-12 00:00:00+00:00\",\"2021-01-13 00:00:00+00:00\",\"2021-01-14 00:00:00+00:00\",\"2021-01-15 00:00:00+00:00\",\"2021-01-16 00:00:00+00:00\",\"2021-01-17 00:00:00+00:00\",\"2021-01-18 00:00:00+00:00\",\"2021-01-19 00:00:00+00:00\",\"2021-01-20 00:00:00+00:00\",\"2021-01-21 00:00:00+00:00\",\"2021-01-22 00:00:00+00:00\",\"2021-01-23 00:00:00+00:00\",\"2021-01-24 00:00:00+00:00\",\"2021-01-25 00:00:00+00:00\",\"2021-01-26 00:00:00+00:00\",\"2021-01-27 00:00:00+00:00\",\"2021-01-28 00:00:00+00:00\",\"2021-01-29 00:00:00+00:00\",\"2021-01-30 00:00:00+00:00\",\"2021-01-31 00:00:00+00:00\",\"2021-02-01 00:00:00+00:00\",\"2021-02-02 00:00:00+00:00\",\"2021-02-03 00:00:00+00:00\",\"2021-02-04 00:00:00+00:00\",\"2021-02-05 00:00:00+00:00\",\"2021-02-06 00:00:00+00:00\",\"2021-02-07 00:00:00+00:00\",\"2021-02-08 00:00:00+00:00\",\"2021-02-09 00:00:00+00:00\",\"2021-02-10 00:00:00+00:00\",\"2021-02-11 00:00:00+00:00\",\"2021-02-12 00:00:00+00:00\",\"2021-02-13 00:00:00+00:00\",\"2021-02-14 00:00:00+00:00\",\"2021-02-15 00:00:00+00:00\",\"2021-02-16 00:00:00+00:00\",\"2021-02-17 00:00:00+00:00\",\"2021-02-18 00:00:00+00:00\",\"2021-02-19 00:00:00+00:00\",\"2021-02-20 00:00:00+00:00\",\"2021-02-21 00:00:00+00:00\",\"2021-02-22 00:00:00+00:00\",\"2021-02-23 00:00:00+00:00\",\"2021-02-24 00:00:00+00:00\",\"2021-02-25 00:00:00+00:00\",\"2021-02-26 00:00:00+00:00\",\"2021-02-27 00:00:00+00:00\",\"2021-02-28 00:00:00+00:00\",\"2021-03-01 00:00:00+00:00\",\"2021-03-02 00:00:00+00:00\",\"2021-03-03 00:00:00+00:00\",\"2021-03-04 00:00:00+00:00\",\"2021-03-05 00:00:00+00:00\",\"2021-03-06 00:00:00+00:00\",\"2021-03-07 00:00:00+00:00\",\"2021-03-08 00:00:00+00:00\",\"2021-03-09 00:00:00+00:00\",\"2021-03-10 00:00:00+00:00\",\"2021-03-11 00:00:00+00:00\",\"2021-03-12 00:00:00+00:00\",\"2021-03-13 00:00:00+00:00\",\"2021-03-14 00:00:00+00:00\",\"2021-03-15 00:00:00+00:00\",\"2021-03-16 00:00:00+00:00\",\"2021-03-17 00:00:00+00:00\",\"2021-03-18 00:00:00+00:00\",\"2021-03-19 00:00:00+00:00\",\"2021-03-20 00:00:00+00:00\",\"2021-03-21 00:00:00+00:00\",\"2021-03-22 00:00:00+00:00\",\"2021-03-23 00:00:00+00:00\",\"2021-03-24 00:00:00+00:00\",\"2021-03-25 00:00:00+00:00\",\"2021-03-26 00:00:00+00:00\",\"2021-03-27 00:00:00+00:00\",\"2021-03-28 00:00:00+00:00\",\"2021-03-29 00:00:00+00:00\",\"2021-03-30 00:00:00+00:00\",\"2021-03-31 00:00:00+00:00\",\"2021-04-01 00:00:00+00:00\",\"2021-04-02 00:00:00+00:00\",\"2021-04-03 00:00:00+00:00\",\"2021-04-04 00:00:00+00:00\",\"2021-04-05 00:00:00+00:00\",\"2021-04-06 00:00:00+00:00\",\"2021-04-07 00:00:00+00:00\",\"2021-04-08 00:00:00+00:00\",\"2021-04-09 00:00:00+00:00\",\"2021-04-10 00:00:00+00:00\",\"2021-04-11 00:00:00+00:00\",\"2021-04-12 00:00:00+00:00\",\"2021-04-13 00:00:00+00:00\",\"2021-04-14 00:00:00+00:00\",\"2021-04-15 00:00:00+00:00\",\"2021-04-16 00:00:00+00:00\",\"2021-04-17 00:00:00+00:00\",\"2021-04-18 00:00:00+00:00\",\"2021-04-19 00:00:00+00:00\",\"2021-04-20 00:00:00+00:00\",\"2021-04-21 00:00:00+00:00\",\"2021-04-22 00:00:00+00:00\",\"2021-04-23 00:00:00+00:00\",\"2021-04-24 00:00:00+00:00\",\"2021-04-25 00:00:00+00:00\",\"2021-04-26 00:00:00+00:00\",\"2021-04-27 00:00:00+00:00\",\"2021-04-28 00:00:00+00:00\",\"2021-04-29 00:00:00+00:00\",\"2021-04-30 00:00:00+00:00\",\"2021-05-01 00:00:00+00:00\",\"2021-05-02 00:00:00+00:00\",\"2021-05-03 00:00:00+00:00\",\"2021-05-04 00:00:00+00:00\",\"2021-05-05 00:00:00+00:00\",\"2021-05-06 00:00:00+00:00\",\"2021-05-07 00:00:00+00:00\",\"2021-05-08 00:00:00+00:00\",\"2021-05-09 00:00:00+00:00\",\"2021-05-10 00:00:00+00:00\",\"2021-05-11 00:00:00+00:00\",\"2021-05-12 00:00:00+00:00\",\"2021-05-13 00:00:00+00:00\",\"2021-05-14 00:00:00+00:00\",\"2021-05-15 00:00:00+00:00\",\"2021-05-16 00:00:00+00:00\",\"2021-05-17 00:00:00+00:00\",\"2021-05-18 00:00:00+00:00\",\"2021-05-19 00:00:00+00:00\",\"2021-05-20 00:00:00+00:00\",\"2021-05-21 00:00:00+00:00\",\"2021-05-22 00:00:00+00:00\",\"2021-05-23 00:00:00+00:00\",\"2021-05-24 00:00:00+00:00\",\"2021-05-25 00:00:00+00:00\",\"2021-05-26 00:00:00+00:00\",\"2021-05-27 00:00:00+00:00\",\"2021-05-28 00:00:00+00:00\",\"2021-05-29 00:00:00+00:00\",\"2021-05-30 00:00:00+00:00\",\"2021-05-31 00:00:00+00:00\",\"2021-06-01 00:00:00+00:00\",\"2021-06-02 00:00:00+00:00\",\"2021-06-03 00:00:00+00:00\",\"2021-06-04 00:00:00+00:00\",\"2021-06-05 00:00:00+00:00\",\"2021-06-06 00:00:00+00:00\",\"2021-06-07 00:00:00+00:00\",\"2021-06-08 00:00:00+00:00\",\"2021-06-09 00:00:00+00:00\",\"2021-06-10 00:00:00+00:00\",\"2021-06-11 00:00:00+00:00\",\"2021-06-12 00:00:00+00:00\",\"2021-06-13 00:00:00+00:00\",\"2021-06-14 00:00:00+00:00\",\"2021-06-15 00:00:00+00:00\",\"2021-06-16 00:00:00+00:00\",\"2021-06-17 00:00:00+00:00\",\"2021-06-18 00:00:00+00:00\",\"2021-06-19 00:00:00+00:00\",\"2021-06-20 00:00:00+00:00\",\"2021-06-21 00:00:00+00:00\",\"2021-06-22 00:00:00+00:00\",\"2021-06-23 00:00:00+00:00\",\"2021-06-24 00:00:00+00:00\",\"2021-06-25 00:00:00+00:00\",\"2021-06-26 00:00:00+00:00\",\"2021-06-27 00:00:00+00:00\",\"2021-06-28 00:00:00+00:00\",\"2021-06-29 00:00:00+00:00\",\"2021-06-30 00:00:00+00:00\",\"2021-07-01 00:00:00+00:00\",\"2021-07-02 00:00:00+00:00\",\"2021-07-03 00:00:00+00:00\",\"2021-07-04 00:00:00+00:00\",\"2021-07-05 00:00:00+00:00\",\"2021-07-06 00:00:00+00:00\",\"2021-07-07 00:00:00+00:00\",\"2021-07-08 00:00:00+00:00\",\"2021-07-09 00:00:00+00:00\",\"2021-07-10 00:00:00+00:00\",\"2021-07-11 00:00:00+00:00\",\"2021-07-12 00:00:00+00:00\",\"2021-07-13 00:00:00+00:00\",\"2021-07-14 00:00:00+00:00\",\"2021-07-15 00:00:00+00:00\",\"2021-07-16 00:00:00+00:00\",\"2021-07-17 00:00:00+00:00\",\"2021-07-18 00:00:00+00:00\",\"2021-07-19 00:00:00+00:00\",\"2021-07-20 00:00:00+00:00\",\"2021-07-21 00:00:00+00:00\",\"2021-07-22 00:00:00+00:00\",\"2021-07-23 00:00:00+00:00\",\"2021-07-24 00:00:00+00:00\",\"2021-07-25 00:00:00+00:00\",\"2021-07-26 00:00:00+00:00\",\"2021-07-27 00:00:00+00:00\",\"2021-07-28 00:00:00+00:00\",\"2021-07-29 00:00:00+00:00\",\"2021-07-30 00:00:00+00:00\",\"2021-07-31 00:00:00+00:00\",\"2021-08-01 00:00:00+00:00\",\"2021-08-02 00:00:00+00:00\",\"2021-08-03 00:00:00+00:00\",\"2021-08-04 00:00:00+00:00\",\"2021-08-05 00:00:00+00:00\",\"2021-08-06 00:00:00+00:00\",\"2021-08-07 00:00:00+00:00\",\"2021-08-08 00:00:00+00:00\",\"2021-08-09 00:00:00+00:00\",\"2021-08-10 00:00:00+00:00\",\"2021-08-11 00:00:00+00:00\",\"2021-08-12 00:00:00+00:00\",\"2021-08-13 00:00:00+00:00\",\"2021-08-14 00:00:00+00:00\",\"2021-08-15 00:00:00+00:00\",\"2021-08-16 00:00:00+00:00\",\"2021-08-17 00:00:00+00:00\",\"2021-08-18 00:00:00+00:00\",\"2021-08-19 00:00:00+00:00\",\"2021-08-20 00:00:00+00:00\",\"2021-08-21 00:00:00+00:00\",\"2021-08-22 00:00:00+00:00\",\"2021-08-23 00:00:00+00:00\",\"2021-08-24 00:00:00+00:00\",\"2021-08-25 00:00:00+00:00\",\"2021-08-26 00:00:00+00:00\",\"2021-08-27 00:00:00+00:00\",\"2021-08-28 00:00:00+00:00\",\"2021-08-29 00:00:00+00:00\",\"2021-08-30 00:00:00+00:00\",\"2021-08-31 00:00:00+00:00\",\"2021-09-01 00:00:00+00:00\",\"2021-09-02 00:00:00+00:00\",\"2021-09-03 00:00:00+00:00\",\"2021-09-04 00:00:00+00:00\",\"2021-09-05 00:00:00+00:00\",\"2021-09-06 00:00:00+00:00\",\"2021-09-07 00:00:00+00:00\",\"2021-09-08 00:00:00+00:00\",\"2021-09-09 00:00:00+00:00\",\"2021-09-10 00:00:00+00:00\",\"2021-09-11 00:00:00+00:00\",\"2021-09-12 00:00:00+00:00\",\"2021-09-13 00:00:00+00:00\",\"2021-09-14 00:00:00+00:00\",\"2021-09-15 00:00:00+00:00\",\"2021-09-16 00:00:00+00:00\",\"2021-09-17 00:00:00+00:00\",\"2021-09-18 00:00:00+00:00\",\"2021-09-19 00:00:00+00:00\",\"2021-09-20 00:00:00+00:00\",\"2021-09-21 00:00:00+00:00\",\"2021-09-22 00:00:00+00:00\",\"2021-09-23 00:00:00+00:00\",\"2021-09-24 00:00:00+00:00\",\"2021-09-25 00:00:00+00:00\",\"2021-09-26 00:00:00+00:00\",\"2021-09-27 00:00:00+00:00\",\"2021-09-28 00:00:00+00:00\",\"2021-09-29 00:00:00+00:00\",\"2021-09-30 00:00:00+00:00\",\"2021-10-01 00:00:00+00:00\",\"2021-10-02 00:00:00+00:00\",\"2021-10-03 00:00:00+00:00\",\"2021-10-04 00:00:00+00:00\",\"2021-10-05 00:00:00+00:00\",\"2021-10-06 00:00:00+00:00\",\"2021-10-07 00:00:00+00:00\",\"2021-10-08 00:00:00+00:00\",\"2021-10-09 00:00:00+00:00\",\"2021-10-10 00:00:00+00:00\",\"2021-10-11 00:00:00+00:00\",\"2021-10-12 00:00:00+00:00\",\"2021-10-13 00:00:00+00:00\",\"2021-10-14 00:00:00+00:00\",\"2021-10-15 00:00:00+00:00\",\"2021-10-16 00:00:00+00:00\",\"2021-10-17 00:00:00+00:00\",\"2021-10-18 00:00:00+00:00\",\"2021-10-19 00:00:00+00:00\",\"2021-10-20 00:00:00+00:00\",\"2021-10-21 00:00:00+00:00\",\"2021-10-22 00:00:00+00:00\",\"2021-10-23 00:00:00+00:00\",\"2021-10-24 00:00:00+00:00\",\"2021-10-25 00:00:00+00:00\",\"2021-10-26 00:00:00+00:00\",\"2021-10-27 00:00:00+00:00\",\"2021-10-28 00:00:00+00:00\",\"2021-10-29 00:00:00+00:00\",\"2021-10-30 00:00:00+00:00\",\"2021-10-31 00:00:00+00:00\",\"2021-11-01 00:00:00+00:00\",\"2021-11-02 00:00:00+00:00\",\"2021-11-03 00:00:00+00:00\",\"2021-11-04 00:00:00+00:00\",\"2021-11-05 00:00:00+00:00\",\"2021-11-06 00:00:00+00:00\",\"2021-11-07 00:00:00+00:00\",\"2021-11-08 00:00:00+00:00\",\"2021-11-09 00:00:00+00:00\",\"2021-11-10 00:00:00+00:00\",\"2021-11-11 00:00:00+00:00\",\"2021-11-12 00:00:00+00:00\",\"2021-11-13 00:00:00+00:00\",\"2021-11-14 00:00:00+00:00\",\"2021-11-15 00:00:00+00:00\",\"2021-11-16 00:00:00+00:00\",\"2021-11-17 00:00:00+00:00\",\"2021-11-18 00:00:00+00:00\",\"2021-11-19 00:00:00+00:00\",\"2021-11-20 00:00:00+00:00\",\"2021-11-21 00:00:00+00:00\",\"2021-11-22 00:00:00+00:00\",\"2021-11-23 00:00:00+00:00\",\"2021-11-24 00:00:00+00:00\",\"2021-11-25 00:00:00+00:00\",\"2021-11-26 00:00:00+00:00\",\"2021-11-27 00:00:00+00:00\",\"2021-11-28 00:00:00+00:00\",\"2021-11-29 00:00:00+00:00\",\"2021-11-30 00:00:00+00:00\",\"2021-12-01 00:00:00+00:00\",\"2021-12-02 00:00:00+00:00\",\"2021-12-03 00:00:00+00:00\",\"2021-12-04 00:00:00+00:00\",\"2021-12-05 00:00:00+00:00\",\"2021-12-06 00:00:00+00:00\",\"2021-12-07 00:00:00+00:00\",\"2021-12-08 00:00:00+00:00\",\"2021-12-09 00:00:00+00:00\",\"2021-12-10 00:00:00+00:00\",\"2021-12-11 00:00:00+00:00\",\"2021-12-12 00:00:00+00:00\",\"2021-12-13 00:00:00+00:00\",\"2021-12-14 00:00:00+00:00\",\"2021-12-15 00:00:00+00:00\",\"2021-12-16 00:00:00+00:00\",\"2021-12-17 00:00:00+00:00\",\"2021-12-18 00:00:00+00:00\",\"2021-12-19 00:00:00+00:00\",\"2021-12-20 00:00:00+00:00\",\"2021-12-21 00:00:00+00:00\",\"2021-12-22 00:00:00+00:00\",\"2021-12-23 00:00:00+00:00\",\"2021-12-24 00:00:00+00:00\",\"2021-12-25 00:00:00+00:00\",\"2021-12-26 00:00:00+00:00\",\"2021-12-27 00:00:00+00:00\",\"2021-12-28 00:00:00+00:00\",\"2021-12-29 00:00:00+00:00\",\"2021-12-30 00:00:00+00:00\",\"2021-12-31 00:00:00+00:00\",\"2022-01-01 00:00:00+00:00\",\"2022-01-02 00:00:00+00:00\",\"2022-01-03 00:00:00+00:00\",\"2022-01-04 00:00:00+00:00\",\"2022-01-05 00:00:00+00:00\",\"2022-01-06 00:00:00+00:00\",\"2022-01-07 00:00:00+00:00\",\"2022-01-08 00:00:00+00:00\",\"2022-01-09 00:00:00+00:00\",\"2022-01-10 00:00:00+00:00\",\"2022-01-11 00:00:00+00:00\",\"2022-01-12 00:00:00+00:00\",\"2022-01-13 00:00:00+00:00\",\"2022-01-14 00:00:00+00:00\",\"2022-01-15 00:00:00+00:00\",\"2022-01-16 00:00:00+00:00\",\"2022-01-17 00:00:00+00:00\",\"2022-01-18 00:00:00+00:00\",\"2022-01-19 00:00:00+00:00\",\"2022-01-20 00:00:00+00:00\",\"2022-01-21 00:00:00+00:00\",\"2022-01-22 00:00:00+00:00\",\"2022-01-23 00:00:00+00:00\",\"2022-01-24 00:00:00+00:00\",\"2022-01-25 00:00:00+00:00\",\"2022-01-26 00:00:00+00:00\",\"2022-01-27 00:00:00+00:00\",\"2022-01-28 00:00:00+00:00\",\"2022-01-29 00:00:00+00:00\",\"2022-01-30 00:00:00+00:00\",\"2022-01-31 00:00:00+00:00\",\"2022-02-01 00:00:00+00:00\"],\"y\":[-1.501824817518153,-2.025780782577239,-2.025780782577239,-2.025780782577239,-2.062071105157828,-2.062071105157828,-3.5645711051578246,-3.5645711051578246,-3.5645711051578246,-3.5645711051578246,-3.5645711051578246,-3.5645711051578246,-3.5645711051578246,-3.5645711051578246,-3.5645711051578246,-3.5645711051578246,-3.5645711051578246,-3.5645711051578246,-3.5645711051578246,-3.5645711051578246,-3.5645711051578246,-3.5645711051578246,-3.5645711051578246,-3.5645711051578246,-3.5645711051578246,-2.1861187242053344,-2.1673824200030443,-2.1673824200030443,-2.1673824200030443,-1.4433413261649317,-1.4433413261649317,-1.4433413261649317,-0.9428988482888129,-0.9428988482888129,-0.5428988482887978,-1.537948353239401,-1.1714266141089584,-1.1714266141089584,-1.1714266141089584,-1.1714266141089584,-1.1714266141089584,1.2885733858911348,0.3449643633347372,0.8075456836568338,0.8075456836568338,0.8075456836568338,1.302037179904218,-0.19886210067123367,-0.19886210067123367,-0.19886210067123367,-0.19886210067123367,-0.19886210067123367,-0.19886210067123367,-0.19886210067123367,-0.19886210067123367,-0.5686934200816695,-1.5716696105578274,-1.5716696105578274,-1.5716696105578274,-1.5716696105578274,-0.15447215832858596,0.27521534167137846,0.27521534167137846,0.7914164589898021,0.03946115172722764,0.03946115172722764,0.03946115172722764,1.2734562576878394,1.741486948224944,1.741486948224944,1.741486948224944,3.060441196590939,3.060441196590939,3.060441196590939,3.060441196590939,2.060441196590862,2.9742343000390905,2.2692837786515954,1.5631156259628756,1.5631156259628756,1.5631156259628756,2.4311156259629954,3.2131669080142586,3.2131669080142586,2.210172896038272,0.7101728960382271,0.7101728960382271,0.7101728960382271,-1.8139483953819446,-3.7040680070085794,-3.011486719982907,-3.011486719982907,-3.263929930951077,-3.263929930951077,-3.263929930951077,-2.4293554628660528,-3.4282661382473245,-3.4282661382473245,-3.4282661382473245,-3.4282661382473245,-3.4282661382473245,-3.4282661382473245,-3.4282661382473245,-4.428266138247363,-3.1216623646625727,-1.704995697995868,-1.704995697995868,-1.704995697995868,-1.704995697995868,-0.3016844397177789,0.727103439070057,1.6588324943285664,-0.006338341931684329,-0.006338341931684329,-0.006338341931684329,-0.006338341931684329,-0.2210910987715138,0.4344962645784505,2.3248214344432805,2.3248214344432805,3.8708262770583195,3.8708262770583195,3.8708262770583195,3.8708262770583195,4.064249047617846,5.120960307234236,5.120960307234236,5.715346400672868,5.715346400672868,5.715346400672868,6.207297139589143,5.300517478572033,6.794501176333917,5.504752222359286,4.729497997573759,4.729497997573759,4.729497997573759,5.1090152413276355,4.0868780472222435,3.3214604786794815,3.223514050107965,2.2206404868896046,2.2206404868896046,2.2206404868896046,3.18202556923126,3.8675213245570266,6.182518343042519,6.002934367695856,6.002934367695856,6.002934367695856,6.002934367695856,7.703166409665188,9.237877618892036,8.921980194677268,9.529329068309053,11.394100232757314,11.394100232757314,11.394100232757314,10.187527462803985,12.35210159475365,11.089845903448788,11.089845903448788,12.921199475090132,12.921199475090132,12.921199475090132,11.658491939968625,13.121220995160428,15.246980604521795,16.182003266170405,13.62753398452731,13.62753398452731,13.62753398452731,12.58304603271996,14.428767957853555,13.428767957853541,12.472940890184375,10.122057859874179,10.122057859874179,10.122057859874179,8.671270652387891,9.588614010783916,10.168580550845553,10.053270257947691,11.202774273063458,11.202774273063458,11.202774273063458,9.772423360905576,7.737803319929636,6.212443639449544,5.525703307957668,5.299314972519791,5.299314972519791,5.299314972519791,6.335349170940029,6.335349170940029,6.093036964367118,8.698708628762075,8.698708628762075,8.698708628762075,8.698708628762075,9.607404280935956,9.607404280935956,10.72107425741881,9.695245189015958,9.695245189015958,9.695245189015958,9.695245189015958,9.695245189015958,9.695245189015958,9.695245189015958,9.695245189015958,9.695245189015958,9.695245189015958,9.695245189015958,9.695245189015958,6.731377535906536,6.361834192777154,8.38473495613593,8.96670216925062,8.96670216925062,8.96670216925062,8.939916454964862,9.86743189765535,9.86743189765535,9.239977260558602,9.239977260558602,9.239977260558602,9.239977260558602,8.78906401854962,7.849106487496172,7.849106487496172,7.849106487496172,7.849106487496172,7.849106487496172,7.849106487496172,7.849106487496172,7.849106487496172,6.871017909407586,5.3683297373645935,5.3683297373645935,5.3683297373645935,5.3683297373645935,5.3683297373645935,4.802811038556705,4.155651776913771,5.814872321500068,5.266091833695407,5.266091833695407,5.266091833695407,3.8705552290793035,4.232876164359414,4.936447592930852,6.20374319041512,7.023935498107436,7.023935498107436,7.023935498107436,6.023935498107469,5.070739151075619,6.440028011144197,7.813216416941367,7.472699175561891,7.472699175561891,7.472699175561891,10.236328193260444,8.171304500969857,8.171304500969857,9.478696115315925,10.645362781982673,10.645362781982673,10.645362781982673,10.889771727669606,11.863340009607922,12.386449253305356,13.615073788621364,13.615073788621364,13.615073788621364,13.615073788621364,14.632695066577877,16.239707217068364,15.156808590742392,13.0732958144001,12.61607038087428,12.61607038087428,12.61607038087428,12.27981307093268,10.442267101197665,10.09114133547554,7.633657387371368,3.930718341077619,3.930718341077619,3.930718341077619,5.933071103326199,6.551562118998449,7.072443708291903,7.339078544044442,8.122294569308073,8.122294569308073,8.122294569308073,8.623849304308905,10.292983977215947,9.292983977215858,10.334504445052053,10.334504445052053,10.334504445052053,10.334504445052053,10.479332031258956,11.364133320195549,13.779251305282603,13.779251305282603,13.779251305282603,13.779251305282603,13.779251305282603,15.137371658953505,15.137371658953505,16.25412256788312,17.375971307379043,16.375971307379093,16.375971307379093,16.375971307379093,14.874223055630916,14.874223055630916,14.874223055630916,14.486229911322688,15.45179870969223,15.45179870969223,15.45179870969223,15.960973021618843,14.960973021618729,14.24861527627127,14.749096878002845,14.609856371673725,14.609856371673725,14.609856371673725,16.943692788421483,19.297126264816352,19.297126264816352,20.2267037296051,21.849654549277275,21.849654549277275,21.849654549277275,21.849654549277275,22.15874950265467,24.933116588409703,24.933116588409703,24.933116588409703,24.933116588409703,24.933116588409703,24.933116588409703,24.933116588409703,24.933116588409703,24.933116588409703,24.933116588409703,24.933116588409703,24.933116588409703,23.834239192815872,23.834239192815872,21.313859332070823,19.31071467798294,19.31071467798294,19.31071467798294,19.31071467798294,19.770099201022965,19.37961690260557,21.615218275454172,20.378854639090527,20.378854639090527,20.378854639090527,20.378854639090527,18.982031462267354,18.821159798637083,18.821159798637083,19.212984580962168,19.212984580962168,19.212984580962168,19.212984580962168,19.212984580962168,19.212984580962168,19.305470130095063,18.511885185627822,18.511885185627822,18.511885185627822,18.511885185627822,17.90176075123866,17.90176075123866,15.512106468472894,15.512106468472894,15.512106468472894,15.512106468472894,15.512106468472894,15.169941005796563,12.171594444949909,12.171594444949909,9.785441731176043,9.366862068225622,9.366862068225622,9.366862068225622,10.563017939737026,7.562786967494004,7.360315728909022,6.542247392396959,6.542247392396959,6.542247392396959,6.542247392396959,7.976408550705134,9.38466543143905,8.384665431439121,9.711768235177454,10.163728638904182,10.163728638904182,10.163728638904182,12.708318559852817,14.166855145218674,14.166855145218674,14.166855145218674,14.166855145218674,14.166855145218674,14.166855145218674,15.403393606757165,15.403393606757165,15.403393606757165,15.403393606757165,15.403393606757165,15.403393606757165,15.403393606757165,15.403393606757165,17.3899465713896,17.868619710421257,19.955047123915612,19.955047123915612,19.955047123915612,19.955047123915612,19.955047123915612,19.955047123915612,20.38782490169339,21.092172727780373,21.197760999158092,21.197760999158092,21.197760999158092,20.037040441177226,20.85951943277389,22.828072891893385,20.824140120687982,20.824140120687982,20.824140120687982,20.824140120687982,19.305881748709396,19.943461072610425,21.196982199370943,21.786322300893787,21.786322300893787,21.786322300893787,21.786322300893787,22.179297507505368,23.622959479336323],\"type\":\"scatter\"}],                        {\"legend\":{\"bgcolor\":\"#FFFFFF\",\"font\":{\"color\":\"#4D5663\"}},\"paper_bgcolor\":\"#FFFFFF\",\"plot_bgcolor\":\"#FFFFFF\",\"template\":{\"data\":{\"barpolar\":[{\"marker\":{\"line\":{\"color\":\"#E5ECF6\",\"width\":0.5},\"pattern\":{\"fillmode\":\"overlay\",\"size\":10,\"solidity\":0.2}},\"type\":\"barpolar\"}],\"bar\":[{\"error_x\":{\"color\":\"#2a3f5f\"},\"error_y\":{\"color\":\"#2a3f5f\"},\"marker\":{\"line\":{\"color\":\"#E5ECF6\",\"width\":0.5},\"pattern\":{\"fillmode\":\"overlay\",\"size\":10,\"solidity\":0.2}},\"type\":\"bar\"}],\"carpet\":[{\"aaxis\":{\"endlinecolor\":\"#2a3f5f\",\"gridcolor\":\"white\",\"linecolor\":\"white\",\"minorgridcolor\":\"white\",\"startlinecolor\":\"#2a3f5f\"},\"baxis\":{\"endlinecolor\":\"#2a3f5f\",\"gridcolor\":\"white\",\"linecolor\":\"white\",\"minorgridcolor\":\"white\",\"startlinecolor\":\"#2a3f5f\"},\"type\":\"carpet\"}],\"choropleth\":[{\"colorbar\":{\"outlinewidth\":0,\"ticks\":\"\"},\"type\":\"choropleth\"}],\"contourcarpet\":[{\"colorbar\":{\"outlinewidth\":0,\"ticks\":\"\"},\"type\":\"contourcarpet\"}],\"contour\":[{\"colorbar\":{\"outlinewidth\":0,\"ticks\":\"\"},\"colorscale\":[[0.0,\"#0d0887\"],[0.1111111111111111,\"#46039f\"],[0.2222222222222222,\"#7201a8\"],[0.3333333333333333,\"#9c179e\"],[0.4444444444444444,\"#bd3786\"],[0.5555555555555556,\"#d8576b\"],[0.6666666666666666,\"#ed7953\"],[0.7777777777777778,\"#fb9f3a\"],[0.8888888888888888,\"#fdca26\"],[1.0,\"#f0f921\"]],\"type\":\"contour\"}],\"heatmapgl\":[{\"colorbar\":{\"outlinewidth\":0,\"ticks\":\"\"},\"colorscale\":[[0.0,\"#0d0887\"],[0.1111111111111111,\"#46039f\"],[0.2222222222222222,\"#7201a8\"],[0.3333333333333333,\"#9c179e\"],[0.4444444444444444,\"#bd3786\"],[0.5555555555555556,\"#d8576b\"],[0.6666666666666666,\"#ed7953\"],[0.7777777777777778,\"#fb9f3a\"],[0.8888888888888888,\"#fdca26\"],[1.0,\"#f0f921\"]],\"type\":\"heatmapgl\"}],\"heatmap\":[{\"colorbar\":{\"outlinewidth\":0,\"ticks\":\"\"},\"colorscale\":[[0.0,\"#0d0887\"],[0.1111111111111111,\"#46039f\"],[0.2222222222222222,\"#7201a8\"],[0.3333333333333333,\"#9c179e\"],[0.4444444444444444,\"#bd3786\"],[0.5555555555555556,\"#d8576b\"],[0.6666666666666666,\"#ed7953\"],[0.7777777777777778,\"#fb9f3a\"],[0.8888888888888888,\"#fdca26\"],[1.0,\"#f0f921\"]],\"type\":\"heatmap\"}],\"histogram2dcontour\":[{\"colorbar\":{\"outlinewidth\":0,\"ticks\":\"\"},\"colorscale\":[[0.0,\"#0d0887\"],[0.1111111111111111,\"#46039f\"],[0.2222222222222222,\"#7201a8\"],[0.3333333333333333,\"#9c179e\"],[0.4444444444444444,\"#bd3786\"],[0.5555555555555556,\"#d8576b\"],[0.6666666666666666,\"#ed7953\"],[0.7777777777777778,\"#fb9f3a\"],[0.8888888888888888,\"#fdca26\"],[1.0,\"#f0f921\"]],\"type\":\"histogram2dcontour\"}],\"histogram2d\":[{\"colorbar\":{\"outlinewidth\":0,\"ticks\":\"\"},\"colorscale\":[[0.0,\"#0d0887\"],[0.1111111111111111,\"#46039f\"],[0.2222222222222222,\"#7201a8\"],[0.3333333333333333,\"#9c179e\"],[0.4444444444444444,\"#bd3786\"],[0.5555555555555556,\"#d8576b\"],[0.6666666666666666,\"#ed7953\"],[0.7777777777777778,\"#fb9f3a\"],[0.8888888888888888,\"#fdca26\"],[1.0,\"#f0f921\"]],\"type\":\"histogram2d\"}],\"histogram\":[{\"marker\":{\"pattern\":{\"fillmode\":\"overlay\",\"size\":10,\"solidity\":0.2}},\"type\":\"histogram\"}],\"mesh3d\":[{\"colorbar\":{\"outlinewidth\":0,\"ticks\":\"\"},\"type\":\"mesh3d\"}],\"parcoords\":[{\"line\":{\"colorbar\":{\"outlinewidth\":0,\"ticks\":\"\"}},\"type\":\"parcoords\"}],\"pie\":[{\"automargin\":true,\"type\":\"pie\"}],\"scatter3d\":[{\"line\":{\"colorbar\":{\"outlinewidth\":0,\"ticks\":\"\"}},\"marker\":{\"colorbar\":{\"outlinewidth\":0,\"ticks\":\"\"}},\"type\":\"scatter3d\"}],\"scattercarpet\":[{\"marker\":{\"colorbar\":{\"outlinewidth\":0,\"ticks\":\"\"}},\"type\":\"scattercarpet\"}],\"scattergeo\":[{\"marker\":{\"colorbar\":{\"outlinewidth\":0,\"ticks\":\"\"}},\"type\":\"scattergeo\"}],\"scattergl\":[{\"marker\":{\"colorbar\":{\"outlinewidth\":0,\"ticks\":\"\"}},\"type\":\"scattergl\"}],\"scattermapbox\":[{\"marker\":{\"colorbar\":{\"outlinewidth\":0,\"ticks\":\"\"}},\"type\":\"scattermapbox\"}],\"scatterpolargl\":[{\"marker\":{\"colorbar\":{\"outlinewidth\":0,\"ticks\":\"\"}},\"type\":\"scatterpolargl\"}],\"scatterpolar\":[{\"marker\":{\"colorbar\":{\"outlinewidth\":0,\"ticks\":\"\"}},\"type\":\"scatterpolar\"}],\"scatter\":[{\"marker\":{\"colorbar\":{\"outlinewidth\":0,\"ticks\":\"\"}},\"type\":\"scatter\"}],\"scatterternary\":[{\"marker\":{\"colorbar\":{\"outlinewidth\":0,\"ticks\":\"\"}},\"type\":\"scatterternary\"}],\"surface\":[{\"colorbar\":{\"outlinewidth\":0,\"ticks\":\"\"},\"colorscale\":[[0.0,\"#0d0887\"],[0.1111111111111111,\"#46039f\"],[0.2222222222222222,\"#7201a8\"],[0.3333333333333333,\"#9c179e\"],[0.4444444444444444,\"#bd3786\"],[0.5555555555555556,\"#d8576b\"],[0.6666666666666666,\"#ed7953\"],[0.7777777777777778,\"#fb9f3a\"],[0.8888888888888888,\"#fdca26\"],[1.0,\"#f0f921\"]],\"type\":\"surface\"}],\"table\":[{\"cells\":{\"fill\":{\"color\":\"#EBF0F8\"},\"line\":{\"color\":\"white\"}},\"header\":{\"fill\":{\"color\":\"#C8D4E3\"},\"line\":{\"color\":\"white\"}},\"type\":\"table\"}]},\"layout\":{\"annotationdefaults\":{\"arrowcolor\":\"#2a3f5f\",\"arrowhead\":0,\"arrowwidth\":1},\"autotypenumbers\":\"strict\",\"coloraxis\":{\"colorbar\":{\"outlinewidth\":0,\"ticks\":\"\"}},\"colorscale\":{\"diverging\":[[0,\"#8e0152\"],[0.1,\"#c51b7d\"],[0.2,\"#de77ae\"],[0.3,\"#f1b6da\"],[0.4,\"#fde0ef\"],[0.5,\"#f7f7f7\"],[0.6,\"#e6f5d0\"],[0.7,\"#b8e186\"],[0.8,\"#7fbc41\"],[0.9,\"#4d9221\"],[1,\"#276419\"]],\"sequential\":[[0.0,\"#0d0887\"],[0.1111111111111111,\"#46039f\"],[0.2222222222222222,\"#7201a8\"],[0.3333333333333333,\"#9c179e\"],[0.4444444444444444,\"#bd3786\"],[0.5555555555555556,\"#d8576b\"],[0.6666666666666666,\"#ed7953\"],[0.7777777777777778,\"#fb9f3a\"],[0.8888888888888888,\"#fdca26\"],[1.0,\"#f0f921\"]],\"sequentialminus\":[[0.0,\"#0d0887\"],[0.1111111111111111,\"#46039f\"],[0.2222222222222222,\"#7201a8\"],[0.3333333333333333,\"#9c179e\"],[0.4444444444444444,\"#bd3786\"],[0.5555555555555556,\"#d8576b\"],[0.6666666666666666,\"#ed7953\"],[0.7777777777777778,\"#fb9f3a\"],[0.8888888888888888,\"#fdca26\"],[1.0,\"#f0f921\"]]},\"colorway\":[\"#636efa\",\"#EF553B\",\"#00cc96\",\"#ab63fa\",\"#FFA15A\",\"#19d3f3\",\"#FF6692\",\"#B6E880\",\"#FF97FF\",\"#FECB52\"],\"font\":{\"color\":\"#2a3f5f\"},\"geo\":{\"bgcolor\":\"white\",\"lakecolor\":\"white\",\"landcolor\":\"#E5ECF6\",\"showlakes\":true,\"showland\":true,\"subunitcolor\":\"white\"},\"hoverlabel\":{\"align\":\"left\"},\"hovermode\":\"closest\",\"mapbox\":{\"style\":\"light\"},\"paper_bgcolor\":\"white\",\"plot_bgcolor\":\"#E5ECF6\",\"polar\":{\"angularaxis\":{\"gridcolor\":\"white\",\"linecolor\":\"white\",\"ticks\":\"\"},\"bgcolor\":\"#E5ECF6\",\"radialaxis\":{\"gridcolor\":\"white\",\"linecolor\":\"white\",\"ticks\":\"\"}},\"scene\":{\"xaxis\":{\"backgroundcolor\":\"#E5ECF6\",\"gridcolor\":\"white\",\"gridwidth\":2,\"linecolor\":\"white\",\"showbackground\":true,\"ticks\":\"\",\"zerolinecolor\":\"white\"},\"yaxis\":{\"backgroundcolor\":\"#E5ECF6\",\"gridcolor\":\"white\",\"gridwidth\":2,\"linecolor\":\"white\",\"showbackground\":true,\"ticks\":\"\",\"zerolinecolor\":\"white\"},\"zaxis\":{\"backgroundcolor\":\"#E5ECF6\",\"gridcolor\":\"white\",\"gridwidth\":2,\"linecolor\":\"white\",\"showbackground\":true,\"ticks\":\"\",\"zerolinecolor\":\"white\"}},\"shapedefaults\":{\"line\":{\"color\":\"#2a3f5f\"}},\"ternary\":{\"aaxis\":{\"gridcolor\":\"white\",\"linecolor\":\"white\",\"ticks\":\"\"},\"baxis\":{\"gridcolor\":\"white\",\"linecolor\":\"white\",\"ticks\":\"\"},\"bgcolor\":\"#E5ECF6\",\"caxis\":{\"gridcolor\":\"white\",\"linecolor\":\"white\",\"ticks\":\"\"}},\"title\":{\"x\":0.05},\"xaxis\":{\"automargin\":true,\"gridcolor\":\"white\",\"linecolor\":\"white\",\"ticks\":\"\",\"title\":{\"standoff\":15},\"zerolinecolor\":\"white\",\"zerolinewidth\":2},\"yaxis\":{\"automargin\":true,\"gridcolor\":\"white\",\"linecolor\":\"white\",\"ticks\":\"\",\"title\":{\"standoff\":15},\"zerolinecolor\":\"white\",\"zerolinewidth\":2}}},\"title\":{\"font\":{\"color\":\"#4D5663\"},\"text\":\"Risultato cumulativo (R)\"},\"xaxis\":{\"gridcolor\":\"#E1E5ED\",\"showgrid\":true,\"tickfont\":{\"color\":\"#4D5663\"},\"title\":{\"font\":{\"color\":\"#4D5663\"},\"text\":\"\"},\"zerolinecolor\":\"grey\"},\"yaxis\":{\"gridcolor\":\"#E1E5ED\",\"showgrid\":true,\"tickfont\":{\"color\":\"#4D5663\"},\"title\":{\"font\":{\"color\":\"#4D5663\"},\"text\":\"R\"},\"zerolinecolor\":\"grey\"}},                        {\"responsive\": true}                    ).then(function(){\n",
       "                            \n",
       "var gd = document.getElementById('b211375a-875d-4f9e-9f2d-ea0d1c2f842c');\n",
       "var x = new MutationObserver(function (mutations, observer) {{\n",
       "        var display = window.getComputedStyle(gd).display;\n",
       "        if (!display || display === 'none') {{\n",
       "            console.log([gd, 'removed!']);\n",
       "            Plotly.purge(gd);\n",
       "            observer.disconnect();\n",
       "        }}\n",
       "}});\n",
       "\n",
       "// Listen for the removal of the full notebook cells\n",
       "var notebookContainer = gd.closest('#notebook-container');\n",
       "if (notebookContainer) {{\n",
       "    x.observe(notebookContainer, {childList: true});\n",
       "}}\n",
       "\n",
       "// Listen for the clearing of the current output cell\n",
       "var outputEl = gd.closest('.output');\n",
       "if (outputEl) {{\n",
       "    x.observe(outputEl, {childList: true});\n",
       "}}\n",
       "\n",
       "                        })                };                });            </script>        </div>"
      ]
     },
     "metadata": {},
     "output_type": "display_data"
    }
   ],
   "source": [
    "df = full_daniel_by_close.cumsum().resample('1440T').mean().interpolate('pad')\n",
    "df.iplot(kind='scatter', y=['result'], title='Risultato cumulativo (R)', width=2,\n",
    "         yTitle='R', fill=True, color='blue', zerolinecolor='grey', opacity=1)"
   ]
  },
  {
   "cell_type": "code",
   "execution_count": 17,
   "id": "ef323f49",
   "metadata": {
    "execution": {
     "iopub.execute_input": "2022-02-25T16:57:35.796562Z",
     "iopub.status.busy": "2022-02-25T16:57:35.795860Z",
     "iopub.status.idle": "2022-02-25T16:57:35.851685Z",
     "shell.execute_reply": "2022-02-25T16:57:35.852256Z",
     "shell.execute_reply.started": "2022-02-25T16:56:00.277060Z"
    },
    "papermill": {
     "duration": 0.10765,
     "end_time": "2022-02-25T16:57:35.852449",
     "exception": false,
     "start_time": "2022-02-25T16:57:35.744799",
     "status": "completed"
    },
    "tags": []
   },
   "outputs": [
    {
     "data": {
      "application/vnd.plotly.v1+json": {
       "config": {
        "linkText": "Export to plot.ly",
        "plotlyServerURL": "https://plot.ly",
        "showLink": false
       },
       "data": [
        {
         "marker": {
          "color": "rgba(55, 128, 191, 1)",
          "line": {
           "color": "rgba(55, 128, 191, 1.0)",
           "width": 1
          }
         },
         "name": "result",
         "orientation": "v",
         "text": "",
         "type": "bar",
         "x": [
          "2020-11-30 00:00:00+00:00",
          "2020-12-31 00:00:00+00:00",
          "2021-01-31 00:00:00+00:00",
          "2021-02-28 00:00:00+00:00",
          "2021-03-31 00:00:00+00:00",
          "2021-04-30 00:00:00+00:00",
          "2021-05-31 00:00:00+00:00",
          "2021-06-30 00:00:00+00:00",
          "2021-07-31 00:00:00+00:00",
          "2021-08-31 00:00:00+00:00",
          "2021-09-30 00:00:00+00:00",
          "2021-10-31 00:00:00+00:00",
          "2021-11-30 00:00:00+00:00",
          "2021-12-31 00:00:00+00:00",
          "2022-01-31 00:00:00+00:00",
          "2022-02-28 00:00:00+00:00"
         ],
         "y": [
          -2.1861187242053344,
          0.614449113647507,
          1.781842506596008,
          -0.5601181614763333,
          6.532463608480672,
          2.0950023093453938,
          1.4572944291011347,
          -2.863797172081456,
          3.7743448725750897,
          -0.35237880476672956,
          4.4561129007869,
          4.5616177999801035,
          -9.13515197906492,
          5.227830907839149,
          6.775903900748205,
          1.443661971830954
         ]
        }
       ],
       "layout": {
        "legend": {
         "bgcolor": "#FFFFFF",
         "font": {
          "color": "#4D5663"
         }
        },
        "paper_bgcolor": "#FFFFFF",
        "plot_bgcolor": "#FFFFFF",
        "template": {
         "data": {
          "bar": [
           {
            "error_x": {
             "color": "#2a3f5f"
            },
            "error_y": {
             "color": "#2a3f5f"
            },
            "marker": {
             "line": {
              "color": "#E5ECF6",
              "width": 0.5
             },
             "pattern": {
              "fillmode": "overlay",
              "size": 10,
              "solidity": 0.2
             }
            },
            "type": "bar"
           }
          ],
          "barpolar": [
           {
            "marker": {
             "line": {
              "color": "#E5ECF6",
              "width": 0.5
             },
             "pattern": {
              "fillmode": "overlay",
              "size": 10,
              "solidity": 0.2
             }
            },
            "type": "barpolar"
           }
          ],
          "carpet": [
           {
            "aaxis": {
             "endlinecolor": "#2a3f5f",
             "gridcolor": "white",
             "linecolor": "white",
             "minorgridcolor": "white",
             "startlinecolor": "#2a3f5f"
            },
            "baxis": {
             "endlinecolor": "#2a3f5f",
             "gridcolor": "white",
             "linecolor": "white",
             "minorgridcolor": "white",
             "startlinecolor": "#2a3f5f"
            },
            "type": "carpet"
           }
          ],
          "choropleth": [
           {
            "colorbar": {
             "outlinewidth": 0,
             "ticks": ""
            },
            "type": "choropleth"
           }
          ],
          "contour": [
           {
            "colorbar": {
             "outlinewidth": 0,
             "ticks": ""
            },
            "colorscale": [
             [
              0.0,
              "#0d0887"
             ],
             [
              0.1111111111111111,
              "#46039f"
             ],
             [
              0.2222222222222222,
              "#7201a8"
             ],
             [
              0.3333333333333333,
              "#9c179e"
             ],
             [
              0.4444444444444444,
              "#bd3786"
             ],
             [
              0.5555555555555556,
              "#d8576b"
             ],
             [
              0.6666666666666666,
              "#ed7953"
             ],
             [
              0.7777777777777778,
              "#fb9f3a"
             ],
             [
              0.8888888888888888,
              "#fdca26"
             ],
             [
              1.0,
              "#f0f921"
             ]
            ],
            "type": "contour"
           }
          ],
          "contourcarpet": [
           {
            "colorbar": {
             "outlinewidth": 0,
             "ticks": ""
            },
            "type": "contourcarpet"
           }
          ],
          "heatmap": [
           {
            "colorbar": {
             "outlinewidth": 0,
             "ticks": ""
            },
            "colorscale": [
             [
              0.0,
              "#0d0887"
             ],
             [
              0.1111111111111111,
              "#46039f"
             ],
             [
              0.2222222222222222,
              "#7201a8"
             ],
             [
              0.3333333333333333,
              "#9c179e"
             ],
             [
              0.4444444444444444,
              "#bd3786"
             ],
             [
              0.5555555555555556,
              "#d8576b"
             ],
             [
              0.6666666666666666,
              "#ed7953"
             ],
             [
              0.7777777777777778,
              "#fb9f3a"
             ],
             [
              0.8888888888888888,
              "#fdca26"
             ],
             [
              1.0,
              "#f0f921"
             ]
            ],
            "type": "heatmap"
           }
          ],
          "heatmapgl": [
           {
            "colorbar": {
             "outlinewidth": 0,
             "ticks": ""
            },
            "colorscale": [
             [
              0.0,
              "#0d0887"
             ],
             [
              0.1111111111111111,
              "#46039f"
             ],
             [
              0.2222222222222222,
              "#7201a8"
             ],
             [
              0.3333333333333333,
              "#9c179e"
             ],
             [
              0.4444444444444444,
              "#bd3786"
             ],
             [
              0.5555555555555556,
              "#d8576b"
             ],
             [
              0.6666666666666666,
              "#ed7953"
             ],
             [
              0.7777777777777778,
              "#fb9f3a"
             ],
             [
              0.8888888888888888,
              "#fdca26"
             ],
             [
              1.0,
              "#f0f921"
             ]
            ],
            "type": "heatmapgl"
           }
          ],
          "histogram": [
           {
            "marker": {
             "pattern": {
              "fillmode": "overlay",
              "size": 10,
              "solidity": 0.2
             }
            },
            "type": "histogram"
           }
          ],
          "histogram2d": [
           {
            "colorbar": {
             "outlinewidth": 0,
             "ticks": ""
            },
            "colorscale": [
             [
              0.0,
              "#0d0887"
             ],
             [
              0.1111111111111111,
              "#46039f"
             ],
             [
              0.2222222222222222,
              "#7201a8"
             ],
             [
              0.3333333333333333,
              "#9c179e"
             ],
             [
              0.4444444444444444,
              "#bd3786"
             ],
             [
              0.5555555555555556,
              "#d8576b"
             ],
             [
              0.6666666666666666,
              "#ed7953"
             ],
             [
              0.7777777777777778,
              "#fb9f3a"
             ],
             [
              0.8888888888888888,
              "#fdca26"
             ],
             [
              1.0,
              "#f0f921"
             ]
            ],
            "type": "histogram2d"
           }
          ],
          "histogram2dcontour": [
           {
            "colorbar": {
             "outlinewidth": 0,
             "ticks": ""
            },
            "colorscale": [
             [
              0.0,
              "#0d0887"
             ],
             [
              0.1111111111111111,
              "#46039f"
             ],
             [
              0.2222222222222222,
              "#7201a8"
             ],
             [
              0.3333333333333333,
              "#9c179e"
             ],
             [
              0.4444444444444444,
              "#bd3786"
             ],
             [
              0.5555555555555556,
              "#d8576b"
             ],
             [
              0.6666666666666666,
              "#ed7953"
             ],
             [
              0.7777777777777778,
              "#fb9f3a"
             ],
             [
              0.8888888888888888,
              "#fdca26"
             ],
             [
              1.0,
              "#f0f921"
             ]
            ],
            "type": "histogram2dcontour"
           }
          ],
          "mesh3d": [
           {
            "colorbar": {
             "outlinewidth": 0,
             "ticks": ""
            },
            "type": "mesh3d"
           }
          ],
          "parcoords": [
           {
            "line": {
             "colorbar": {
              "outlinewidth": 0,
              "ticks": ""
             }
            },
            "type": "parcoords"
           }
          ],
          "pie": [
           {
            "automargin": true,
            "type": "pie"
           }
          ],
          "scatter": [
           {
            "marker": {
             "colorbar": {
              "outlinewidth": 0,
              "ticks": ""
             }
            },
            "type": "scatter"
           }
          ],
          "scatter3d": [
           {
            "line": {
             "colorbar": {
              "outlinewidth": 0,
              "ticks": ""
             }
            },
            "marker": {
             "colorbar": {
              "outlinewidth": 0,
              "ticks": ""
             }
            },
            "type": "scatter3d"
           }
          ],
          "scattercarpet": [
           {
            "marker": {
             "colorbar": {
              "outlinewidth": 0,
              "ticks": ""
             }
            },
            "type": "scattercarpet"
           }
          ],
          "scattergeo": [
           {
            "marker": {
             "colorbar": {
              "outlinewidth": 0,
              "ticks": ""
             }
            },
            "type": "scattergeo"
           }
          ],
          "scattergl": [
           {
            "marker": {
             "colorbar": {
              "outlinewidth": 0,
              "ticks": ""
             }
            },
            "type": "scattergl"
           }
          ],
          "scattermapbox": [
           {
            "marker": {
             "colorbar": {
              "outlinewidth": 0,
              "ticks": ""
             }
            },
            "type": "scattermapbox"
           }
          ],
          "scatterpolar": [
           {
            "marker": {
             "colorbar": {
              "outlinewidth": 0,
              "ticks": ""
             }
            },
            "type": "scatterpolar"
           }
          ],
          "scatterpolargl": [
           {
            "marker": {
             "colorbar": {
              "outlinewidth": 0,
              "ticks": ""
             }
            },
            "type": "scatterpolargl"
           }
          ],
          "scatterternary": [
           {
            "marker": {
             "colorbar": {
              "outlinewidth": 0,
              "ticks": ""
             }
            },
            "type": "scatterternary"
           }
          ],
          "surface": [
           {
            "colorbar": {
             "outlinewidth": 0,
             "ticks": ""
            },
            "colorscale": [
             [
              0.0,
              "#0d0887"
             ],
             [
              0.1111111111111111,
              "#46039f"
             ],
             [
              0.2222222222222222,
              "#7201a8"
             ],
             [
              0.3333333333333333,
              "#9c179e"
             ],
             [
              0.4444444444444444,
              "#bd3786"
             ],
             [
              0.5555555555555556,
              "#d8576b"
             ],
             [
              0.6666666666666666,
              "#ed7953"
             ],
             [
              0.7777777777777778,
              "#fb9f3a"
             ],
             [
              0.8888888888888888,
              "#fdca26"
             ],
             [
              1.0,
              "#f0f921"
             ]
            ],
            "type": "surface"
           }
          ],
          "table": [
           {
            "cells": {
             "fill": {
              "color": "#EBF0F8"
             },
             "line": {
              "color": "white"
             }
            },
            "header": {
             "fill": {
              "color": "#C8D4E3"
             },
             "line": {
              "color": "white"
             }
            },
            "type": "table"
           }
          ]
         },
         "layout": {
          "annotationdefaults": {
           "arrowcolor": "#2a3f5f",
           "arrowhead": 0,
           "arrowwidth": 1
          },
          "autotypenumbers": "strict",
          "coloraxis": {
           "colorbar": {
            "outlinewidth": 0,
            "ticks": ""
           }
          },
          "colorscale": {
           "diverging": [
            [
             0,
             "#8e0152"
            ],
            [
             0.1,
             "#c51b7d"
            ],
            [
             0.2,
             "#de77ae"
            ],
            [
             0.3,
             "#f1b6da"
            ],
            [
             0.4,
             "#fde0ef"
            ],
            [
             0.5,
             "#f7f7f7"
            ],
            [
             0.6,
             "#e6f5d0"
            ],
            [
             0.7,
             "#b8e186"
            ],
            [
             0.8,
             "#7fbc41"
            ],
            [
             0.9,
             "#4d9221"
            ],
            [
             1,
             "#276419"
            ]
           ],
           "sequential": [
            [
             0.0,
             "#0d0887"
            ],
            [
             0.1111111111111111,
             "#46039f"
            ],
            [
             0.2222222222222222,
             "#7201a8"
            ],
            [
             0.3333333333333333,
             "#9c179e"
            ],
            [
             0.4444444444444444,
             "#bd3786"
            ],
            [
             0.5555555555555556,
             "#d8576b"
            ],
            [
             0.6666666666666666,
             "#ed7953"
            ],
            [
             0.7777777777777778,
             "#fb9f3a"
            ],
            [
             0.8888888888888888,
             "#fdca26"
            ],
            [
             1.0,
             "#f0f921"
            ]
           ],
           "sequentialminus": [
            [
             0.0,
             "#0d0887"
            ],
            [
             0.1111111111111111,
             "#46039f"
            ],
            [
             0.2222222222222222,
             "#7201a8"
            ],
            [
             0.3333333333333333,
             "#9c179e"
            ],
            [
             0.4444444444444444,
             "#bd3786"
            ],
            [
             0.5555555555555556,
             "#d8576b"
            ],
            [
             0.6666666666666666,
             "#ed7953"
            ],
            [
             0.7777777777777778,
             "#fb9f3a"
            ],
            [
             0.8888888888888888,
             "#fdca26"
            ],
            [
             1.0,
             "#f0f921"
            ]
           ]
          },
          "colorway": [
           "#636efa",
           "#EF553B",
           "#00cc96",
           "#ab63fa",
           "#FFA15A",
           "#19d3f3",
           "#FF6692",
           "#B6E880",
           "#FF97FF",
           "#FECB52"
          ],
          "font": {
           "color": "#2a3f5f"
          },
          "geo": {
           "bgcolor": "white",
           "lakecolor": "white",
           "landcolor": "#E5ECF6",
           "showlakes": true,
           "showland": true,
           "subunitcolor": "white"
          },
          "hoverlabel": {
           "align": "left"
          },
          "hovermode": "closest",
          "mapbox": {
           "style": "light"
          },
          "paper_bgcolor": "white",
          "plot_bgcolor": "#E5ECF6",
          "polar": {
           "angularaxis": {
            "gridcolor": "white",
            "linecolor": "white",
            "ticks": ""
           },
           "bgcolor": "#E5ECF6",
           "radialaxis": {
            "gridcolor": "white",
            "linecolor": "white",
            "ticks": ""
           }
          },
          "scene": {
           "xaxis": {
            "backgroundcolor": "#E5ECF6",
            "gridcolor": "white",
            "gridwidth": 2,
            "linecolor": "white",
            "showbackground": true,
            "ticks": "",
            "zerolinecolor": "white"
           },
           "yaxis": {
            "backgroundcolor": "#E5ECF6",
            "gridcolor": "white",
            "gridwidth": 2,
            "linecolor": "white",
            "showbackground": true,
            "ticks": "",
            "zerolinecolor": "white"
           },
           "zaxis": {
            "backgroundcolor": "#E5ECF6",
            "gridcolor": "white",
            "gridwidth": 2,
            "linecolor": "white",
            "showbackground": true,
            "ticks": "",
            "zerolinecolor": "white"
           }
          },
          "shapedefaults": {
           "line": {
            "color": "#2a3f5f"
           }
          },
          "ternary": {
           "aaxis": {
            "gridcolor": "white",
            "linecolor": "white",
            "ticks": ""
           },
           "baxis": {
            "gridcolor": "white",
            "linecolor": "white",
            "ticks": ""
           },
           "bgcolor": "#E5ECF6",
           "caxis": {
            "gridcolor": "white",
            "linecolor": "white",
            "ticks": ""
           }
          },
          "title": {
           "x": 0.05
          },
          "xaxis": {
           "automargin": true,
           "gridcolor": "white",
           "linecolor": "white",
           "ticks": "",
           "title": {
            "standoff": 15
           },
           "zerolinecolor": "white",
           "zerolinewidth": 2
          },
          "yaxis": {
           "automargin": true,
           "gridcolor": "white",
           "linecolor": "white",
           "ticks": "",
           "title": {
            "standoff": 15
           },
           "zerolinecolor": "white",
           "zerolinewidth": 2
          }
         }
        },
        "title": {
         "font": {
          "color": "#4D5663"
         },
         "text": "Risultato mensile (R)"
        },
        "xaxis": {
         "gridcolor": "#E1E5ED",
         "showgrid": true,
         "tickfont": {
          "color": "#4D5663"
         },
         "title": {
          "font": {
           "color": "#4D5663"
          },
          "text": ""
         },
         "zerolinecolor": "grey"
        },
        "yaxis": {
         "gridcolor": "#E1E5ED",
         "showgrid": true,
         "tickfont": {
          "color": "#4D5663"
         },
         "title": {
          "font": {
           "color": "#4D5663"
          },
          "text": "R"
         },
         "zerolinecolor": "grey"
        }
       }
      },
      "text/html": [
       "<div>                            <div id=\"c9cb9a5e-c797-4b37-b918-2b8cc84e4d27\" class=\"plotly-graph-div\" style=\"height:525px; width:100%;\"></div>            <script type=\"text/javascript\">                require([\"plotly\"], function(Plotly) {                    window.PLOTLYENV=window.PLOTLYENV || {};                                    if (document.getElementById(\"c9cb9a5e-c797-4b37-b918-2b8cc84e4d27\")) {                    Plotly.newPlot(                        \"c9cb9a5e-c797-4b37-b918-2b8cc84e4d27\",                        [{\"marker\":{\"color\":\"rgba(55, 128, 191, 1)\",\"line\":{\"color\":\"rgba(55, 128, 191, 1.0)\",\"width\":1}},\"name\":\"result\",\"orientation\":\"v\",\"text\":\"\",\"x\":[\"2020-11-30 00:00:00+00:00\",\"2020-12-31 00:00:00+00:00\",\"2021-01-31 00:00:00+00:00\",\"2021-02-28 00:00:00+00:00\",\"2021-03-31 00:00:00+00:00\",\"2021-04-30 00:00:00+00:00\",\"2021-05-31 00:00:00+00:00\",\"2021-06-30 00:00:00+00:00\",\"2021-07-31 00:00:00+00:00\",\"2021-08-31 00:00:00+00:00\",\"2021-09-30 00:00:00+00:00\",\"2021-10-31 00:00:00+00:00\",\"2021-11-30 00:00:00+00:00\",\"2021-12-31 00:00:00+00:00\",\"2022-01-31 00:00:00+00:00\",\"2022-02-28 00:00:00+00:00\"],\"y\":[-2.1861187242053344,0.614449113647507,1.781842506596008,-0.5601181614763333,6.532463608480672,2.0950023093453938,1.4572944291011347,-2.863797172081456,3.7743448725750897,-0.35237880476672956,4.4561129007869,4.5616177999801035,-9.13515197906492,5.227830907839149,6.775903900748205,1.443661971830954],\"type\":\"bar\"}],                        {\"legend\":{\"bgcolor\":\"#FFFFFF\",\"font\":{\"color\":\"#4D5663\"}},\"paper_bgcolor\":\"#FFFFFF\",\"plot_bgcolor\":\"#FFFFFF\",\"template\":{\"data\":{\"barpolar\":[{\"marker\":{\"line\":{\"color\":\"#E5ECF6\",\"width\":0.5},\"pattern\":{\"fillmode\":\"overlay\",\"size\":10,\"solidity\":0.2}},\"type\":\"barpolar\"}],\"bar\":[{\"error_x\":{\"color\":\"#2a3f5f\"},\"error_y\":{\"color\":\"#2a3f5f\"},\"marker\":{\"line\":{\"color\":\"#E5ECF6\",\"width\":0.5},\"pattern\":{\"fillmode\":\"overlay\",\"size\":10,\"solidity\":0.2}},\"type\":\"bar\"}],\"carpet\":[{\"aaxis\":{\"endlinecolor\":\"#2a3f5f\",\"gridcolor\":\"white\",\"linecolor\":\"white\",\"minorgridcolor\":\"white\",\"startlinecolor\":\"#2a3f5f\"},\"baxis\":{\"endlinecolor\":\"#2a3f5f\",\"gridcolor\":\"white\",\"linecolor\":\"white\",\"minorgridcolor\":\"white\",\"startlinecolor\":\"#2a3f5f\"},\"type\":\"carpet\"}],\"choropleth\":[{\"colorbar\":{\"outlinewidth\":0,\"ticks\":\"\"},\"type\":\"choropleth\"}],\"contourcarpet\":[{\"colorbar\":{\"outlinewidth\":0,\"ticks\":\"\"},\"type\":\"contourcarpet\"}],\"contour\":[{\"colorbar\":{\"outlinewidth\":0,\"ticks\":\"\"},\"colorscale\":[[0.0,\"#0d0887\"],[0.1111111111111111,\"#46039f\"],[0.2222222222222222,\"#7201a8\"],[0.3333333333333333,\"#9c179e\"],[0.4444444444444444,\"#bd3786\"],[0.5555555555555556,\"#d8576b\"],[0.6666666666666666,\"#ed7953\"],[0.7777777777777778,\"#fb9f3a\"],[0.8888888888888888,\"#fdca26\"],[1.0,\"#f0f921\"]],\"type\":\"contour\"}],\"heatmapgl\":[{\"colorbar\":{\"outlinewidth\":0,\"ticks\":\"\"},\"colorscale\":[[0.0,\"#0d0887\"],[0.1111111111111111,\"#46039f\"],[0.2222222222222222,\"#7201a8\"],[0.3333333333333333,\"#9c179e\"],[0.4444444444444444,\"#bd3786\"],[0.5555555555555556,\"#d8576b\"],[0.6666666666666666,\"#ed7953\"],[0.7777777777777778,\"#fb9f3a\"],[0.8888888888888888,\"#fdca26\"],[1.0,\"#f0f921\"]],\"type\":\"heatmapgl\"}],\"heatmap\":[{\"colorbar\":{\"outlinewidth\":0,\"ticks\":\"\"},\"colorscale\":[[0.0,\"#0d0887\"],[0.1111111111111111,\"#46039f\"],[0.2222222222222222,\"#7201a8\"],[0.3333333333333333,\"#9c179e\"],[0.4444444444444444,\"#bd3786\"],[0.5555555555555556,\"#d8576b\"],[0.6666666666666666,\"#ed7953\"],[0.7777777777777778,\"#fb9f3a\"],[0.8888888888888888,\"#fdca26\"],[1.0,\"#f0f921\"]],\"type\":\"heatmap\"}],\"histogram2dcontour\":[{\"colorbar\":{\"outlinewidth\":0,\"ticks\":\"\"},\"colorscale\":[[0.0,\"#0d0887\"],[0.1111111111111111,\"#46039f\"],[0.2222222222222222,\"#7201a8\"],[0.3333333333333333,\"#9c179e\"],[0.4444444444444444,\"#bd3786\"],[0.5555555555555556,\"#d8576b\"],[0.6666666666666666,\"#ed7953\"],[0.7777777777777778,\"#fb9f3a\"],[0.8888888888888888,\"#fdca26\"],[1.0,\"#f0f921\"]],\"type\":\"histogram2dcontour\"}],\"histogram2d\":[{\"colorbar\":{\"outlinewidth\":0,\"ticks\":\"\"},\"colorscale\":[[0.0,\"#0d0887\"],[0.1111111111111111,\"#46039f\"],[0.2222222222222222,\"#7201a8\"],[0.3333333333333333,\"#9c179e\"],[0.4444444444444444,\"#bd3786\"],[0.5555555555555556,\"#d8576b\"],[0.6666666666666666,\"#ed7953\"],[0.7777777777777778,\"#fb9f3a\"],[0.8888888888888888,\"#fdca26\"],[1.0,\"#f0f921\"]],\"type\":\"histogram2d\"}],\"histogram\":[{\"marker\":{\"pattern\":{\"fillmode\":\"overlay\",\"size\":10,\"solidity\":0.2}},\"type\":\"histogram\"}],\"mesh3d\":[{\"colorbar\":{\"outlinewidth\":0,\"ticks\":\"\"},\"type\":\"mesh3d\"}],\"parcoords\":[{\"line\":{\"colorbar\":{\"outlinewidth\":0,\"ticks\":\"\"}},\"type\":\"parcoords\"}],\"pie\":[{\"automargin\":true,\"type\":\"pie\"}],\"scatter3d\":[{\"line\":{\"colorbar\":{\"outlinewidth\":0,\"ticks\":\"\"}},\"marker\":{\"colorbar\":{\"outlinewidth\":0,\"ticks\":\"\"}},\"type\":\"scatter3d\"}],\"scattercarpet\":[{\"marker\":{\"colorbar\":{\"outlinewidth\":0,\"ticks\":\"\"}},\"type\":\"scattercarpet\"}],\"scattergeo\":[{\"marker\":{\"colorbar\":{\"outlinewidth\":0,\"ticks\":\"\"}},\"type\":\"scattergeo\"}],\"scattergl\":[{\"marker\":{\"colorbar\":{\"outlinewidth\":0,\"ticks\":\"\"}},\"type\":\"scattergl\"}],\"scattermapbox\":[{\"marker\":{\"colorbar\":{\"outlinewidth\":0,\"ticks\":\"\"}},\"type\":\"scattermapbox\"}],\"scatterpolargl\":[{\"marker\":{\"colorbar\":{\"outlinewidth\":0,\"ticks\":\"\"}},\"type\":\"scatterpolargl\"}],\"scatterpolar\":[{\"marker\":{\"colorbar\":{\"outlinewidth\":0,\"ticks\":\"\"}},\"type\":\"scatterpolar\"}],\"scatter\":[{\"marker\":{\"colorbar\":{\"outlinewidth\":0,\"ticks\":\"\"}},\"type\":\"scatter\"}],\"scatterternary\":[{\"marker\":{\"colorbar\":{\"outlinewidth\":0,\"ticks\":\"\"}},\"type\":\"scatterternary\"}],\"surface\":[{\"colorbar\":{\"outlinewidth\":0,\"ticks\":\"\"},\"colorscale\":[[0.0,\"#0d0887\"],[0.1111111111111111,\"#46039f\"],[0.2222222222222222,\"#7201a8\"],[0.3333333333333333,\"#9c179e\"],[0.4444444444444444,\"#bd3786\"],[0.5555555555555556,\"#d8576b\"],[0.6666666666666666,\"#ed7953\"],[0.7777777777777778,\"#fb9f3a\"],[0.8888888888888888,\"#fdca26\"],[1.0,\"#f0f921\"]],\"type\":\"surface\"}],\"table\":[{\"cells\":{\"fill\":{\"color\":\"#EBF0F8\"},\"line\":{\"color\":\"white\"}},\"header\":{\"fill\":{\"color\":\"#C8D4E3\"},\"line\":{\"color\":\"white\"}},\"type\":\"table\"}]},\"layout\":{\"annotationdefaults\":{\"arrowcolor\":\"#2a3f5f\",\"arrowhead\":0,\"arrowwidth\":1},\"autotypenumbers\":\"strict\",\"coloraxis\":{\"colorbar\":{\"outlinewidth\":0,\"ticks\":\"\"}},\"colorscale\":{\"diverging\":[[0,\"#8e0152\"],[0.1,\"#c51b7d\"],[0.2,\"#de77ae\"],[0.3,\"#f1b6da\"],[0.4,\"#fde0ef\"],[0.5,\"#f7f7f7\"],[0.6,\"#e6f5d0\"],[0.7,\"#b8e186\"],[0.8,\"#7fbc41\"],[0.9,\"#4d9221\"],[1,\"#276419\"]],\"sequential\":[[0.0,\"#0d0887\"],[0.1111111111111111,\"#46039f\"],[0.2222222222222222,\"#7201a8\"],[0.3333333333333333,\"#9c179e\"],[0.4444444444444444,\"#bd3786\"],[0.5555555555555556,\"#d8576b\"],[0.6666666666666666,\"#ed7953\"],[0.7777777777777778,\"#fb9f3a\"],[0.8888888888888888,\"#fdca26\"],[1.0,\"#f0f921\"]],\"sequentialminus\":[[0.0,\"#0d0887\"],[0.1111111111111111,\"#46039f\"],[0.2222222222222222,\"#7201a8\"],[0.3333333333333333,\"#9c179e\"],[0.4444444444444444,\"#bd3786\"],[0.5555555555555556,\"#d8576b\"],[0.6666666666666666,\"#ed7953\"],[0.7777777777777778,\"#fb9f3a\"],[0.8888888888888888,\"#fdca26\"],[1.0,\"#f0f921\"]]},\"colorway\":[\"#636efa\",\"#EF553B\",\"#00cc96\",\"#ab63fa\",\"#FFA15A\",\"#19d3f3\",\"#FF6692\",\"#B6E880\",\"#FF97FF\",\"#FECB52\"],\"font\":{\"color\":\"#2a3f5f\"},\"geo\":{\"bgcolor\":\"white\",\"lakecolor\":\"white\",\"landcolor\":\"#E5ECF6\",\"showlakes\":true,\"showland\":true,\"subunitcolor\":\"white\"},\"hoverlabel\":{\"align\":\"left\"},\"hovermode\":\"closest\",\"mapbox\":{\"style\":\"light\"},\"paper_bgcolor\":\"white\",\"plot_bgcolor\":\"#E5ECF6\",\"polar\":{\"angularaxis\":{\"gridcolor\":\"white\",\"linecolor\":\"white\",\"ticks\":\"\"},\"bgcolor\":\"#E5ECF6\",\"radialaxis\":{\"gridcolor\":\"white\",\"linecolor\":\"white\",\"ticks\":\"\"}},\"scene\":{\"xaxis\":{\"backgroundcolor\":\"#E5ECF6\",\"gridcolor\":\"white\",\"gridwidth\":2,\"linecolor\":\"white\",\"showbackground\":true,\"ticks\":\"\",\"zerolinecolor\":\"white\"},\"yaxis\":{\"backgroundcolor\":\"#E5ECF6\",\"gridcolor\":\"white\",\"gridwidth\":2,\"linecolor\":\"white\",\"showbackground\":true,\"ticks\":\"\",\"zerolinecolor\":\"white\"},\"zaxis\":{\"backgroundcolor\":\"#E5ECF6\",\"gridcolor\":\"white\",\"gridwidth\":2,\"linecolor\":\"white\",\"showbackground\":true,\"ticks\":\"\",\"zerolinecolor\":\"white\"}},\"shapedefaults\":{\"line\":{\"color\":\"#2a3f5f\"}},\"ternary\":{\"aaxis\":{\"gridcolor\":\"white\",\"linecolor\":\"white\",\"ticks\":\"\"},\"baxis\":{\"gridcolor\":\"white\",\"linecolor\":\"white\",\"ticks\":\"\"},\"bgcolor\":\"#E5ECF6\",\"caxis\":{\"gridcolor\":\"white\",\"linecolor\":\"white\",\"ticks\":\"\"}},\"title\":{\"x\":0.05},\"xaxis\":{\"automargin\":true,\"gridcolor\":\"white\",\"linecolor\":\"white\",\"ticks\":\"\",\"title\":{\"standoff\":15},\"zerolinecolor\":\"white\",\"zerolinewidth\":2},\"yaxis\":{\"automargin\":true,\"gridcolor\":\"white\",\"linecolor\":\"white\",\"ticks\":\"\",\"title\":{\"standoff\":15},\"zerolinecolor\":\"white\",\"zerolinewidth\":2}}},\"title\":{\"font\":{\"color\":\"#4D5663\"},\"text\":\"Risultato mensile (R)\"},\"xaxis\":{\"gridcolor\":\"#E1E5ED\",\"showgrid\":true,\"tickfont\":{\"color\":\"#4D5663\"},\"title\":{\"font\":{\"color\":\"#4D5663\"},\"text\":\"\"},\"zerolinecolor\":\"grey\"},\"yaxis\":{\"gridcolor\":\"#E1E5ED\",\"showgrid\":true,\"tickfont\":{\"color\":\"#4D5663\"},\"title\":{\"font\":{\"color\":\"#4D5663\"},\"text\":\"R\"},\"zerolinecolor\":\"grey\"}},                        {\"responsive\": true}                    ).then(function(){\n",
       "                            \n",
       "var gd = document.getElementById('c9cb9a5e-c797-4b37-b918-2b8cc84e4d27');\n",
       "var x = new MutationObserver(function (mutations, observer) {{\n",
       "        var display = window.getComputedStyle(gd).display;\n",
       "        if (!display || display === 'none') {{\n",
       "            console.log([gd, 'removed!']);\n",
       "            Plotly.purge(gd);\n",
       "            observer.disconnect();\n",
       "        }}\n",
       "}});\n",
       "\n",
       "// Listen for the removal of the full notebook cells\n",
       "var notebookContainer = gd.closest('#notebook-container');\n",
       "if (notebookContainer) {{\n",
       "    x.observe(notebookContainer, {childList: true});\n",
       "}}\n",
       "\n",
       "// Listen for the clearing of the current output cell\n",
       "var outputEl = gd.closest('.output');\n",
       "if (outputEl) {{\n",
       "    x.observe(outputEl, {childList: true});\n",
       "}}\n",
       "\n",
       "                        })                };                });            </script>        </div>"
      ]
     },
     "metadata": {},
     "output_type": "display_data"
    }
   ],
   "source": [
    "df = full_daniel_by_close.groupby(pd.Grouper(freq='M')).sum()\n",
    "df.iplot(kind='bar', y='result', color='blue', opacity=1, title='Risultato mensile (R)',\n",
    "         yTitle='R', zerolinecolor='grey')"
   ]
  },
  {
   "cell_type": "code",
   "execution_count": 18,
   "id": "2d199046",
   "metadata": {
    "execution": {
     "iopub.execute_input": "2022-02-25T16:57:35.971897Z",
     "iopub.status.busy": "2022-02-25T16:57:35.971228Z",
     "iopub.status.idle": "2022-02-25T16:57:36.018484Z",
     "shell.execute_reply": "2022-02-25T16:57:36.019064Z",
     "shell.execute_reply.started": "2022-02-25T16:56:27.195861Z"
    },
    "papermill": {
     "duration": 0.112782,
     "end_time": "2022-02-25T16:57:36.019258",
     "exception": false,
     "start_time": "2022-02-25T16:57:35.906476",
     "status": "completed"
    },
    "tags": []
   },
   "outputs": [
    {
     "data": {
      "application/vnd.plotly.v1+json": {
       "config": {
        "linkText": "Export to plot.ly",
        "plotlyServerURL": "https://plot.ly",
        "showLink": false
       },
       "data": [
        {
         "marker": {
          "color": "rgba(55, 128, 191, 1)",
          "line": {
           "color": "rgba(55, 128, 191, 1.0)",
           "width": 1
          }
         },
         "name": "result",
         "orientation": "v",
         "text": "",
         "type": "bar",
         "x": [
          "2020-11-08 00:00:00+00:00",
          "2020-11-15 00:00:00+00:00",
          "2020-11-22 00:00:00+00:00",
          "2020-11-29 00:00:00+00:00",
          "2020-12-06 00:00:00+00:00",
          "2020-12-13 00:00:00+00:00",
          "2020-12-20 00:00:00+00:00",
          "2020-12-27 00:00:00+00:00",
          "2021-01-03 00:00:00+00:00",
          "2021-01-10 00:00:00+00:00",
          "2021-01-17 00:00:00+00:00",
          "2021-01-24 00:00:00+00:00",
          "2021-01-31 00:00:00+00:00",
          "2021-02-07 00:00:00+00:00",
          "2021-02-14 00:00:00+00:00",
          "2021-02-21 00:00:00+00:00",
          "2021-02-28 00:00:00+00:00",
          "2021-03-07 00:00:00+00:00",
          "2021-03-14 00:00:00+00:00",
          "2021-03-21 00:00:00+00:00",
          "2021-03-28 00:00:00+00:00",
          "2021-04-04 00:00:00+00:00",
          "2021-04-11 00:00:00+00:00",
          "2021-04-18 00:00:00+00:00",
          "2021-04-25 00:00:00+00:00",
          "2021-05-02 00:00:00+00:00",
          "2021-05-09 00:00:00+00:00",
          "2021-05-16 00:00:00+00:00",
          "2021-05-23 00:00:00+00:00",
          "2021-05-30 00:00:00+00:00",
          "2021-06-06 00:00:00+00:00",
          "2021-06-13 00:00:00+00:00",
          "2021-06-20 00:00:00+00:00",
          "2021-06-27 00:00:00+00:00",
          "2021-07-04 00:00:00+00:00",
          "2021-07-11 00:00:00+00:00",
          "2021-07-18 00:00:00+00:00",
          "2021-07-25 00:00:00+00:00",
          "2021-08-01 00:00:00+00:00",
          "2021-08-08 00:00:00+00:00",
          "2021-08-15 00:00:00+00:00",
          "2021-08-22 00:00:00+00:00",
          "2021-08-29 00:00:00+00:00",
          "2021-09-05 00:00:00+00:00",
          "2021-09-12 00:00:00+00:00",
          "2021-09-19 00:00:00+00:00",
          "2021-09-26 00:00:00+00:00",
          "2021-10-03 00:00:00+00:00",
          "2021-10-10 00:00:00+00:00",
          "2021-10-17 00:00:00+00:00",
          "2021-10-24 00:00:00+00:00",
          "2021-10-31 00:00:00+00:00",
          "2021-11-07 00:00:00+00:00",
          "2021-11-14 00:00:00+00:00",
          "2021-11-21 00:00:00+00:00",
          "2021-11-28 00:00:00+00:00",
          "2021-12-05 00:00:00+00:00",
          "2021-12-12 00:00:00+00:00",
          "2021-12-19 00:00:00+00:00",
          "2021-12-26 00:00:00+00:00",
          "2022-01-02 00:00:00+00:00",
          "2022-01-09 00:00:00+00:00",
          "2022-01-16 00:00:00+00:00",
          "2022-01-23 00:00:00+00:00",
          "2022-01-30 00:00:00+00:00",
          "2022-02-06 00:00:00+00:00"
         ],
         "y": [
          -2.025780782577239,
          -2.0412903225804984,
          0.0,
          0.0,
          2.6237297789928054,
          0.27191471205597323,
          1.480745347411172,
          -1.0090801145489503,
          -0.8719082293110905,
          1.8591754550224788,
          2.7729353521262876,
          -1.4973255706280635,
          -1.352942729924695,
          -3.4741028269892578,
          -0.16433620729624698,
          1.7232704402514567,
          1.3550504325577144,
          4.220771542496473,
          2.195091552185989,
          -1.3266870072430714,
          -2.5185903351116328,
          4.605740208489866,
          4.567719537377842,
          1.5270992423328196,
          0.2088345094371492,
          -4.852513332139369,
          2.9252536206755515,
          -5.438156809440481,
          2.9340911651390993,
          1.036106452726965,
          0.0,
          -0.7681129122384214,
          0.27327509130798244,
          -1.3689593511509792,
          -3.0026881720430367,
          0.8489816085259482,
          1.3066241522169029,
          1.1082464360751336,
          2.513180847800103,
          2.969711006638692,
          -0.999003407747087,
          -8.344873505443921,
          3.8510976938777137,
          2.21220987574398,
          4.288322279225023,
          1.7531445831020185,
          -0.9241725976868629,
          0.01881715565239106,
          6.379038683932658,
          3.08346203913243,
          0.0,
          -5.62240191042676,
          -0.9318600388924085,
          0.8341299418716329,
          -0.31372382972350643,
          -4.562653078775404,
          -4.995811954948519,
          -2.7036216165702975,
          4.976282798829339,
          2.5533982454449022,
          1.2365384615384902,
          4.551653517158453,
          0.7439959265245184,
          -0.8756002798219045,
          1.9628795302755586,
          1.8366371784425333
         ]
        }
       ],
       "layout": {
        "legend": {
         "bgcolor": "#FFFFFF",
         "font": {
          "color": "#4D5663"
         }
        },
        "paper_bgcolor": "#FFFFFF",
        "plot_bgcolor": "#FFFFFF",
        "template": {
         "data": {
          "bar": [
           {
            "error_x": {
             "color": "#2a3f5f"
            },
            "error_y": {
             "color": "#2a3f5f"
            },
            "marker": {
             "line": {
              "color": "#E5ECF6",
              "width": 0.5
             },
             "pattern": {
              "fillmode": "overlay",
              "size": 10,
              "solidity": 0.2
             }
            },
            "type": "bar"
           }
          ],
          "barpolar": [
           {
            "marker": {
             "line": {
              "color": "#E5ECF6",
              "width": 0.5
             },
             "pattern": {
              "fillmode": "overlay",
              "size": 10,
              "solidity": 0.2
             }
            },
            "type": "barpolar"
           }
          ],
          "carpet": [
           {
            "aaxis": {
             "endlinecolor": "#2a3f5f",
             "gridcolor": "white",
             "linecolor": "white",
             "minorgridcolor": "white",
             "startlinecolor": "#2a3f5f"
            },
            "baxis": {
             "endlinecolor": "#2a3f5f",
             "gridcolor": "white",
             "linecolor": "white",
             "minorgridcolor": "white",
             "startlinecolor": "#2a3f5f"
            },
            "type": "carpet"
           }
          ],
          "choropleth": [
           {
            "colorbar": {
             "outlinewidth": 0,
             "ticks": ""
            },
            "type": "choropleth"
           }
          ],
          "contour": [
           {
            "colorbar": {
             "outlinewidth": 0,
             "ticks": ""
            },
            "colorscale": [
             [
              0.0,
              "#0d0887"
             ],
             [
              0.1111111111111111,
              "#46039f"
             ],
             [
              0.2222222222222222,
              "#7201a8"
             ],
             [
              0.3333333333333333,
              "#9c179e"
             ],
             [
              0.4444444444444444,
              "#bd3786"
             ],
             [
              0.5555555555555556,
              "#d8576b"
             ],
             [
              0.6666666666666666,
              "#ed7953"
             ],
             [
              0.7777777777777778,
              "#fb9f3a"
             ],
             [
              0.8888888888888888,
              "#fdca26"
             ],
             [
              1.0,
              "#f0f921"
             ]
            ],
            "type": "contour"
           }
          ],
          "contourcarpet": [
           {
            "colorbar": {
             "outlinewidth": 0,
             "ticks": ""
            },
            "type": "contourcarpet"
           }
          ],
          "heatmap": [
           {
            "colorbar": {
             "outlinewidth": 0,
             "ticks": ""
            },
            "colorscale": [
             [
              0.0,
              "#0d0887"
             ],
             [
              0.1111111111111111,
              "#46039f"
             ],
             [
              0.2222222222222222,
              "#7201a8"
             ],
             [
              0.3333333333333333,
              "#9c179e"
             ],
             [
              0.4444444444444444,
              "#bd3786"
             ],
             [
              0.5555555555555556,
              "#d8576b"
             ],
             [
              0.6666666666666666,
              "#ed7953"
             ],
             [
              0.7777777777777778,
              "#fb9f3a"
             ],
             [
              0.8888888888888888,
              "#fdca26"
             ],
             [
              1.0,
              "#f0f921"
             ]
            ],
            "type": "heatmap"
           }
          ],
          "heatmapgl": [
           {
            "colorbar": {
             "outlinewidth": 0,
             "ticks": ""
            },
            "colorscale": [
             [
              0.0,
              "#0d0887"
             ],
             [
              0.1111111111111111,
              "#46039f"
             ],
             [
              0.2222222222222222,
              "#7201a8"
             ],
             [
              0.3333333333333333,
              "#9c179e"
             ],
             [
              0.4444444444444444,
              "#bd3786"
             ],
             [
              0.5555555555555556,
              "#d8576b"
             ],
             [
              0.6666666666666666,
              "#ed7953"
             ],
             [
              0.7777777777777778,
              "#fb9f3a"
             ],
             [
              0.8888888888888888,
              "#fdca26"
             ],
             [
              1.0,
              "#f0f921"
             ]
            ],
            "type": "heatmapgl"
           }
          ],
          "histogram": [
           {
            "marker": {
             "pattern": {
              "fillmode": "overlay",
              "size": 10,
              "solidity": 0.2
             }
            },
            "type": "histogram"
           }
          ],
          "histogram2d": [
           {
            "colorbar": {
             "outlinewidth": 0,
             "ticks": ""
            },
            "colorscale": [
             [
              0.0,
              "#0d0887"
             ],
             [
              0.1111111111111111,
              "#46039f"
             ],
             [
              0.2222222222222222,
              "#7201a8"
             ],
             [
              0.3333333333333333,
              "#9c179e"
             ],
             [
              0.4444444444444444,
              "#bd3786"
             ],
             [
              0.5555555555555556,
              "#d8576b"
             ],
             [
              0.6666666666666666,
              "#ed7953"
             ],
             [
              0.7777777777777778,
              "#fb9f3a"
             ],
             [
              0.8888888888888888,
              "#fdca26"
             ],
             [
              1.0,
              "#f0f921"
             ]
            ],
            "type": "histogram2d"
           }
          ],
          "histogram2dcontour": [
           {
            "colorbar": {
             "outlinewidth": 0,
             "ticks": ""
            },
            "colorscale": [
             [
              0.0,
              "#0d0887"
             ],
             [
              0.1111111111111111,
              "#46039f"
             ],
             [
              0.2222222222222222,
              "#7201a8"
             ],
             [
              0.3333333333333333,
              "#9c179e"
             ],
             [
              0.4444444444444444,
              "#bd3786"
             ],
             [
              0.5555555555555556,
              "#d8576b"
             ],
             [
              0.6666666666666666,
              "#ed7953"
             ],
             [
              0.7777777777777778,
              "#fb9f3a"
             ],
             [
              0.8888888888888888,
              "#fdca26"
             ],
             [
              1.0,
              "#f0f921"
             ]
            ],
            "type": "histogram2dcontour"
           }
          ],
          "mesh3d": [
           {
            "colorbar": {
             "outlinewidth": 0,
             "ticks": ""
            },
            "type": "mesh3d"
           }
          ],
          "parcoords": [
           {
            "line": {
             "colorbar": {
              "outlinewidth": 0,
              "ticks": ""
             }
            },
            "type": "parcoords"
           }
          ],
          "pie": [
           {
            "automargin": true,
            "type": "pie"
           }
          ],
          "scatter": [
           {
            "marker": {
             "colorbar": {
              "outlinewidth": 0,
              "ticks": ""
             }
            },
            "type": "scatter"
           }
          ],
          "scatter3d": [
           {
            "line": {
             "colorbar": {
              "outlinewidth": 0,
              "ticks": ""
             }
            },
            "marker": {
             "colorbar": {
              "outlinewidth": 0,
              "ticks": ""
             }
            },
            "type": "scatter3d"
           }
          ],
          "scattercarpet": [
           {
            "marker": {
             "colorbar": {
              "outlinewidth": 0,
              "ticks": ""
             }
            },
            "type": "scattercarpet"
           }
          ],
          "scattergeo": [
           {
            "marker": {
             "colorbar": {
              "outlinewidth": 0,
              "ticks": ""
             }
            },
            "type": "scattergeo"
           }
          ],
          "scattergl": [
           {
            "marker": {
             "colorbar": {
              "outlinewidth": 0,
              "ticks": ""
             }
            },
            "type": "scattergl"
           }
          ],
          "scattermapbox": [
           {
            "marker": {
             "colorbar": {
              "outlinewidth": 0,
              "ticks": ""
             }
            },
            "type": "scattermapbox"
           }
          ],
          "scatterpolar": [
           {
            "marker": {
             "colorbar": {
              "outlinewidth": 0,
              "ticks": ""
             }
            },
            "type": "scatterpolar"
           }
          ],
          "scatterpolargl": [
           {
            "marker": {
             "colorbar": {
              "outlinewidth": 0,
              "ticks": ""
             }
            },
            "type": "scatterpolargl"
           }
          ],
          "scatterternary": [
           {
            "marker": {
             "colorbar": {
              "outlinewidth": 0,
              "ticks": ""
             }
            },
            "type": "scatterternary"
           }
          ],
          "surface": [
           {
            "colorbar": {
             "outlinewidth": 0,
             "ticks": ""
            },
            "colorscale": [
             [
              0.0,
              "#0d0887"
             ],
             [
              0.1111111111111111,
              "#46039f"
             ],
             [
              0.2222222222222222,
              "#7201a8"
             ],
             [
              0.3333333333333333,
              "#9c179e"
             ],
             [
              0.4444444444444444,
              "#bd3786"
             ],
             [
              0.5555555555555556,
              "#d8576b"
             ],
             [
              0.6666666666666666,
              "#ed7953"
             ],
             [
              0.7777777777777778,
              "#fb9f3a"
             ],
             [
              0.8888888888888888,
              "#fdca26"
             ],
             [
              1.0,
              "#f0f921"
             ]
            ],
            "type": "surface"
           }
          ],
          "table": [
           {
            "cells": {
             "fill": {
              "color": "#EBF0F8"
             },
             "line": {
              "color": "white"
             }
            },
            "header": {
             "fill": {
              "color": "#C8D4E3"
             },
             "line": {
              "color": "white"
             }
            },
            "type": "table"
           }
          ]
         },
         "layout": {
          "annotationdefaults": {
           "arrowcolor": "#2a3f5f",
           "arrowhead": 0,
           "arrowwidth": 1
          },
          "autotypenumbers": "strict",
          "coloraxis": {
           "colorbar": {
            "outlinewidth": 0,
            "ticks": ""
           }
          },
          "colorscale": {
           "diverging": [
            [
             0,
             "#8e0152"
            ],
            [
             0.1,
             "#c51b7d"
            ],
            [
             0.2,
             "#de77ae"
            ],
            [
             0.3,
             "#f1b6da"
            ],
            [
             0.4,
             "#fde0ef"
            ],
            [
             0.5,
             "#f7f7f7"
            ],
            [
             0.6,
             "#e6f5d0"
            ],
            [
             0.7,
             "#b8e186"
            ],
            [
             0.8,
             "#7fbc41"
            ],
            [
             0.9,
             "#4d9221"
            ],
            [
             1,
             "#276419"
            ]
           ],
           "sequential": [
            [
             0.0,
             "#0d0887"
            ],
            [
             0.1111111111111111,
             "#46039f"
            ],
            [
             0.2222222222222222,
             "#7201a8"
            ],
            [
             0.3333333333333333,
             "#9c179e"
            ],
            [
             0.4444444444444444,
             "#bd3786"
            ],
            [
             0.5555555555555556,
             "#d8576b"
            ],
            [
             0.6666666666666666,
             "#ed7953"
            ],
            [
             0.7777777777777778,
             "#fb9f3a"
            ],
            [
             0.8888888888888888,
             "#fdca26"
            ],
            [
             1.0,
             "#f0f921"
            ]
           ],
           "sequentialminus": [
            [
             0.0,
             "#0d0887"
            ],
            [
             0.1111111111111111,
             "#46039f"
            ],
            [
             0.2222222222222222,
             "#7201a8"
            ],
            [
             0.3333333333333333,
             "#9c179e"
            ],
            [
             0.4444444444444444,
             "#bd3786"
            ],
            [
             0.5555555555555556,
             "#d8576b"
            ],
            [
             0.6666666666666666,
             "#ed7953"
            ],
            [
             0.7777777777777778,
             "#fb9f3a"
            ],
            [
             0.8888888888888888,
             "#fdca26"
            ],
            [
             1.0,
             "#f0f921"
            ]
           ]
          },
          "colorway": [
           "#636efa",
           "#EF553B",
           "#00cc96",
           "#ab63fa",
           "#FFA15A",
           "#19d3f3",
           "#FF6692",
           "#B6E880",
           "#FF97FF",
           "#FECB52"
          ],
          "font": {
           "color": "#2a3f5f"
          },
          "geo": {
           "bgcolor": "white",
           "lakecolor": "white",
           "landcolor": "#E5ECF6",
           "showlakes": true,
           "showland": true,
           "subunitcolor": "white"
          },
          "hoverlabel": {
           "align": "left"
          },
          "hovermode": "closest",
          "mapbox": {
           "style": "light"
          },
          "paper_bgcolor": "white",
          "plot_bgcolor": "#E5ECF6",
          "polar": {
           "angularaxis": {
            "gridcolor": "white",
            "linecolor": "white",
            "ticks": ""
           },
           "bgcolor": "#E5ECF6",
           "radialaxis": {
            "gridcolor": "white",
            "linecolor": "white",
            "ticks": ""
           }
          },
          "scene": {
           "xaxis": {
            "backgroundcolor": "#E5ECF6",
            "gridcolor": "white",
            "gridwidth": 2,
            "linecolor": "white",
            "showbackground": true,
            "ticks": "",
            "zerolinecolor": "white"
           },
           "yaxis": {
            "backgroundcolor": "#E5ECF6",
            "gridcolor": "white",
            "gridwidth": 2,
            "linecolor": "white",
            "showbackground": true,
            "ticks": "",
            "zerolinecolor": "white"
           },
           "zaxis": {
            "backgroundcolor": "#E5ECF6",
            "gridcolor": "white",
            "gridwidth": 2,
            "linecolor": "white",
            "showbackground": true,
            "ticks": "",
            "zerolinecolor": "white"
           }
          },
          "shapedefaults": {
           "line": {
            "color": "#2a3f5f"
           }
          },
          "ternary": {
           "aaxis": {
            "gridcolor": "white",
            "linecolor": "white",
            "ticks": ""
           },
           "baxis": {
            "gridcolor": "white",
            "linecolor": "white",
            "ticks": ""
           },
           "bgcolor": "#E5ECF6",
           "caxis": {
            "gridcolor": "white",
            "linecolor": "white",
            "ticks": ""
           }
          },
          "title": {
           "x": 0.05
          },
          "xaxis": {
           "automargin": true,
           "gridcolor": "white",
           "linecolor": "white",
           "ticks": "",
           "title": {
            "standoff": 15
           },
           "zerolinecolor": "white",
           "zerolinewidth": 2
          },
          "yaxis": {
           "automargin": true,
           "gridcolor": "white",
           "linecolor": "white",
           "ticks": "",
           "title": {
            "standoff": 15
           },
           "zerolinecolor": "white",
           "zerolinewidth": 2
          }
         }
        },
        "title": {
         "font": {
          "color": "#4D5663"
         },
         "text": "Risultato settimanale (R)"
        },
        "xaxis": {
         "gridcolor": "#E1E5ED",
         "showgrid": true,
         "tickfont": {
          "color": "#4D5663"
         },
         "title": {
          "font": {
           "color": "#4D5663"
          },
          "text": ""
         },
         "zerolinecolor": "grey"
        },
        "yaxis": {
         "gridcolor": "#E1E5ED",
         "showgrid": true,
         "tickfont": {
          "color": "#4D5663"
         },
         "title": {
          "font": {
           "color": "#4D5663"
          },
          "text": "R"
         },
         "zerolinecolor": "grey"
        }
       }
      },
      "text/html": [
       "<div>                            <div id=\"c798c6da-545f-4a75-9634-3303973b058d\" class=\"plotly-graph-div\" style=\"height:525px; width:100%;\"></div>            <script type=\"text/javascript\">                require([\"plotly\"], function(Plotly) {                    window.PLOTLYENV=window.PLOTLYENV || {};                                    if (document.getElementById(\"c798c6da-545f-4a75-9634-3303973b058d\")) {                    Plotly.newPlot(                        \"c798c6da-545f-4a75-9634-3303973b058d\",                        [{\"marker\":{\"color\":\"rgba(55, 128, 191, 1)\",\"line\":{\"color\":\"rgba(55, 128, 191, 1.0)\",\"width\":1}},\"name\":\"result\",\"orientation\":\"v\",\"text\":\"\",\"x\":[\"2020-11-08 00:00:00+00:00\",\"2020-11-15 00:00:00+00:00\",\"2020-11-22 00:00:00+00:00\",\"2020-11-29 00:00:00+00:00\",\"2020-12-06 00:00:00+00:00\",\"2020-12-13 00:00:00+00:00\",\"2020-12-20 00:00:00+00:00\",\"2020-12-27 00:00:00+00:00\",\"2021-01-03 00:00:00+00:00\",\"2021-01-10 00:00:00+00:00\",\"2021-01-17 00:00:00+00:00\",\"2021-01-24 00:00:00+00:00\",\"2021-01-31 00:00:00+00:00\",\"2021-02-07 00:00:00+00:00\",\"2021-02-14 00:00:00+00:00\",\"2021-02-21 00:00:00+00:00\",\"2021-02-28 00:00:00+00:00\",\"2021-03-07 00:00:00+00:00\",\"2021-03-14 00:00:00+00:00\",\"2021-03-21 00:00:00+00:00\",\"2021-03-28 00:00:00+00:00\",\"2021-04-04 00:00:00+00:00\",\"2021-04-11 00:00:00+00:00\",\"2021-04-18 00:00:00+00:00\",\"2021-04-25 00:00:00+00:00\",\"2021-05-02 00:00:00+00:00\",\"2021-05-09 00:00:00+00:00\",\"2021-05-16 00:00:00+00:00\",\"2021-05-23 00:00:00+00:00\",\"2021-05-30 00:00:00+00:00\",\"2021-06-06 00:00:00+00:00\",\"2021-06-13 00:00:00+00:00\",\"2021-06-20 00:00:00+00:00\",\"2021-06-27 00:00:00+00:00\",\"2021-07-04 00:00:00+00:00\",\"2021-07-11 00:00:00+00:00\",\"2021-07-18 00:00:00+00:00\",\"2021-07-25 00:00:00+00:00\",\"2021-08-01 00:00:00+00:00\",\"2021-08-08 00:00:00+00:00\",\"2021-08-15 00:00:00+00:00\",\"2021-08-22 00:00:00+00:00\",\"2021-08-29 00:00:00+00:00\",\"2021-09-05 00:00:00+00:00\",\"2021-09-12 00:00:00+00:00\",\"2021-09-19 00:00:00+00:00\",\"2021-09-26 00:00:00+00:00\",\"2021-10-03 00:00:00+00:00\",\"2021-10-10 00:00:00+00:00\",\"2021-10-17 00:00:00+00:00\",\"2021-10-24 00:00:00+00:00\",\"2021-10-31 00:00:00+00:00\",\"2021-11-07 00:00:00+00:00\",\"2021-11-14 00:00:00+00:00\",\"2021-11-21 00:00:00+00:00\",\"2021-11-28 00:00:00+00:00\",\"2021-12-05 00:00:00+00:00\",\"2021-12-12 00:00:00+00:00\",\"2021-12-19 00:00:00+00:00\",\"2021-12-26 00:00:00+00:00\",\"2022-01-02 00:00:00+00:00\",\"2022-01-09 00:00:00+00:00\",\"2022-01-16 00:00:00+00:00\",\"2022-01-23 00:00:00+00:00\",\"2022-01-30 00:00:00+00:00\",\"2022-02-06 00:00:00+00:00\"],\"y\":[-2.025780782577239,-2.0412903225804984,0.0,0.0,2.6237297789928054,0.27191471205597323,1.480745347411172,-1.0090801145489503,-0.8719082293110905,1.8591754550224788,2.7729353521262876,-1.4973255706280635,-1.352942729924695,-3.4741028269892578,-0.16433620729624698,1.7232704402514567,1.3550504325577144,4.220771542496473,2.195091552185989,-1.3266870072430714,-2.5185903351116328,4.605740208489866,4.567719537377842,1.5270992423328196,0.2088345094371492,-4.852513332139369,2.9252536206755515,-5.438156809440481,2.9340911651390993,1.036106452726965,0.0,-0.7681129122384214,0.27327509130798244,-1.3689593511509792,-3.0026881720430367,0.8489816085259482,1.3066241522169029,1.1082464360751336,2.513180847800103,2.969711006638692,-0.999003407747087,-8.344873505443921,3.8510976938777137,2.21220987574398,4.288322279225023,1.7531445831020185,-0.9241725976868629,0.01881715565239106,6.379038683932658,3.08346203913243,0.0,-5.62240191042676,-0.9318600388924085,0.8341299418716329,-0.31372382972350643,-4.562653078775404,-4.995811954948519,-2.7036216165702975,4.976282798829339,2.5533982454449022,1.2365384615384902,4.551653517158453,0.7439959265245184,-0.8756002798219045,1.9628795302755586,1.8366371784425333],\"type\":\"bar\"}],                        {\"legend\":{\"bgcolor\":\"#FFFFFF\",\"font\":{\"color\":\"#4D5663\"}},\"paper_bgcolor\":\"#FFFFFF\",\"plot_bgcolor\":\"#FFFFFF\",\"template\":{\"data\":{\"barpolar\":[{\"marker\":{\"line\":{\"color\":\"#E5ECF6\",\"width\":0.5},\"pattern\":{\"fillmode\":\"overlay\",\"size\":10,\"solidity\":0.2}},\"type\":\"barpolar\"}],\"bar\":[{\"error_x\":{\"color\":\"#2a3f5f\"},\"error_y\":{\"color\":\"#2a3f5f\"},\"marker\":{\"line\":{\"color\":\"#E5ECF6\",\"width\":0.5},\"pattern\":{\"fillmode\":\"overlay\",\"size\":10,\"solidity\":0.2}},\"type\":\"bar\"}],\"carpet\":[{\"aaxis\":{\"endlinecolor\":\"#2a3f5f\",\"gridcolor\":\"white\",\"linecolor\":\"white\",\"minorgridcolor\":\"white\",\"startlinecolor\":\"#2a3f5f\"},\"baxis\":{\"endlinecolor\":\"#2a3f5f\",\"gridcolor\":\"white\",\"linecolor\":\"white\",\"minorgridcolor\":\"white\",\"startlinecolor\":\"#2a3f5f\"},\"type\":\"carpet\"}],\"choropleth\":[{\"colorbar\":{\"outlinewidth\":0,\"ticks\":\"\"},\"type\":\"choropleth\"}],\"contourcarpet\":[{\"colorbar\":{\"outlinewidth\":0,\"ticks\":\"\"},\"type\":\"contourcarpet\"}],\"contour\":[{\"colorbar\":{\"outlinewidth\":0,\"ticks\":\"\"},\"colorscale\":[[0.0,\"#0d0887\"],[0.1111111111111111,\"#46039f\"],[0.2222222222222222,\"#7201a8\"],[0.3333333333333333,\"#9c179e\"],[0.4444444444444444,\"#bd3786\"],[0.5555555555555556,\"#d8576b\"],[0.6666666666666666,\"#ed7953\"],[0.7777777777777778,\"#fb9f3a\"],[0.8888888888888888,\"#fdca26\"],[1.0,\"#f0f921\"]],\"type\":\"contour\"}],\"heatmapgl\":[{\"colorbar\":{\"outlinewidth\":0,\"ticks\":\"\"},\"colorscale\":[[0.0,\"#0d0887\"],[0.1111111111111111,\"#46039f\"],[0.2222222222222222,\"#7201a8\"],[0.3333333333333333,\"#9c179e\"],[0.4444444444444444,\"#bd3786\"],[0.5555555555555556,\"#d8576b\"],[0.6666666666666666,\"#ed7953\"],[0.7777777777777778,\"#fb9f3a\"],[0.8888888888888888,\"#fdca26\"],[1.0,\"#f0f921\"]],\"type\":\"heatmapgl\"}],\"heatmap\":[{\"colorbar\":{\"outlinewidth\":0,\"ticks\":\"\"},\"colorscale\":[[0.0,\"#0d0887\"],[0.1111111111111111,\"#46039f\"],[0.2222222222222222,\"#7201a8\"],[0.3333333333333333,\"#9c179e\"],[0.4444444444444444,\"#bd3786\"],[0.5555555555555556,\"#d8576b\"],[0.6666666666666666,\"#ed7953\"],[0.7777777777777778,\"#fb9f3a\"],[0.8888888888888888,\"#fdca26\"],[1.0,\"#f0f921\"]],\"type\":\"heatmap\"}],\"histogram2dcontour\":[{\"colorbar\":{\"outlinewidth\":0,\"ticks\":\"\"},\"colorscale\":[[0.0,\"#0d0887\"],[0.1111111111111111,\"#46039f\"],[0.2222222222222222,\"#7201a8\"],[0.3333333333333333,\"#9c179e\"],[0.4444444444444444,\"#bd3786\"],[0.5555555555555556,\"#d8576b\"],[0.6666666666666666,\"#ed7953\"],[0.7777777777777778,\"#fb9f3a\"],[0.8888888888888888,\"#fdca26\"],[1.0,\"#f0f921\"]],\"type\":\"histogram2dcontour\"}],\"histogram2d\":[{\"colorbar\":{\"outlinewidth\":0,\"ticks\":\"\"},\"colorscale\":[[0.0,\"#0d0887\"],[0.1111111111111111,\"#46039f\"],[0.2222222222222222,\"#7201a8\"],[0.3333333333333333,\"#9c179e\"],[0.4444444444444444,\"#bd3786\"],[0.5555555555555556,\"#d8576b\"],[0.6666666666666666,\"#ed7953\"],[0.7777777777777778,\"#fb9f3a\"],[0.8888888888888888,\"#fdca26\"],[1.0,\"#f0f921\"]],\"type\":\"histogram2d\"}],\"histogram\":[{\"marker\":{\"pattern\":{\"fillmode\":\"overlay\",\"size\":10,\"solidity\":0.2}},\"type\":\"histogram\"}],\"mesh3d\":[{\"colorbar\":{\"outlinewidth\":0,\"ticks\":\"\"},\"type\":\"mesh3d\"}],\"parcoords\":[{\"line\":{\"colorbar\":{\"outlinewidth\":0,\"ticks\":\"\"}},\"type\":\"parcoords\"}],\"pie\":[{\"automargin\":true,\"type\":\"pie\"}],\"scatter3d\":[{\"line\":{\"colorbar\":{\"outlinewidth\":0,\"ticks\":\"\"}},\"marker\":{\"colorbar\":{\"outlinewidth\":0,\"ticks\":\"\"}},\"type\":\"scatter3d\"}],\"scattercarpet\":[{\"marker\":{\"colorbar\":{\"outlinewidth\":0,\"ticks\":\"\"}},\"type\":\"scattercarpet\"}],\"scattergeo\":[{\"marker\":{\"colorbar\":{\"outlinewidth\":0,\"ticks\":\"\"}},\"type\":\"scattergeo\"}],\"scattergl\":[{\"marker\":{\"colorbar\":{\"outlinewidth\":0,\"ticks\":\"\"}},\"type\":\"scattergl\"}],\"scattermapbox\":[{\"marker\":{\"colorbar\":{\"outlinewidth\":0,\"ticks\":\"\"}},\"type\":\"scattermapbox\"}],\"scatterpolargl\":[{\"marker\":{\"colorbar\":{\"outlinewidth\":0,\"ticks\":\"\"}},\"type\":\"scatterpolargl\"}],\"scatterpolar\":[{\"marker\":{\"colorbar\":{\"outlinewidth\":0,\"ticks\":\"\"}},\"type\":\"scatterpolar\"}],\"scatter\":[{\"marker\":{\"colorbar\":{\"outlinewidth\":0,\"ticks\":\"\"}},\"type\":\"scatter\"}],\"scatterternary\":[{\"marker\":{\"colorbar\":{\"outlinewidth\":0,\"ticks\":\"\"}},\"type\":\"scatterternary\"}],\"surface\":[{\"colorbar\":{\"outlinewidth\":0,\"ticks\":\"\"},\"colorscale\":[[0.0,\"#0d0887\"],[0.1111111111111111,\"#46039f\"],[0.2222222222222222,\"#7201a8\"],[0.3333333333333333,\"#9c179e\"],[0.4444444444444444,\"#bd3786\"],[0.5555555555555556,\"#d8576b\"],[0.6666666666666666,\"#ed7953\"],[0.7777777777777778,\"#fb9f3a\"],[0.8888888888888888,\"#fdca26\"],[1.0,\"#f0f921\"]],\"type\":\"surface\"}],\"table\":[{\"cells\":{\"fill\":{\"color\":\"#EBF0F8\"},\"line\":{\"color\":\"white\"}},\"header\":{\"fill\":{\"color\":\"#C8D4E3\"},\"line\":{\"color\":\"white\"}},\"type\":\"table\"}]},\"layout\":{\"annotationdefaults\":{\"arrowcolor\":\"#2a3f5f\",\"arrowhead\":0,\"arrowwidth\":1},\"autotypenumbers\":\"strict\",\"coloraxis\":{\"colorbar\":{\"outlinewidth\":0,\"ticks\":\"\"}},\"colorscale\":{\"diverging\":[[0,\"#8e0152\"],[0.1,\"#c51b7d\"],[0.2,\"#de77ae\"],[0.3,\"#f1b6da\"],[0.4,\"#fde0ef\"],[0.5,\"#f7f7f7\"],[0.6,\"#e6f5d0\"],[0.7,\"#b8e186\"],[0.8,\"#7fbc41\"],[0.9,\"#4d9221\"],[1,\"#276419\"]],\"sequential\":[[0.0,\"#0d0887\"],[0.1111111111111111,\"#46039f\"],[0.2222222222222222,\"#7201a8\"],[0.3333333333333333,\"#9c179e\"],[0.4444444444444444,\"#bd3786\"],[0.5555555555555556,\"#d8576b\"],[0.6666666666666666,\"#ed7953\"],[0.7777777777777778,\"#fb9f3a\"],[0.8888888888888888,\"#fdca26\"],[1.0,\"#f0f921\"]],\"sequentialminus\":[[0.0,\"#0d0887\"],[0.1111111111111111,\"#46039f\"],[0.2222222222222222,\"#7201a8\"],[0.3333333333333333,\"#9c179e\"],[0.4444444444444444,\"#bd3786\"],[0.5555555555555556,\"#d8576b\"],[0.6666666666666666,\"#ed7953\"],[0.7777777777777778,\"#fb9f3a\"],[0.8888888888888888,\"#fdca26\"],[1.0,\"#f0f921\"]]},\"colorway\":[\"#636efa\",\"#EF553B\",\"#00cc96\",\"#ab63fa\",\"#FFA15A\",\"#19d3f3\",\"#FF6692\",\"#B6E880\",\"#FF97FF\",\"#FECB52\"],\"font\":{\"color\":\"#2a3f5f\"},\"geo\":{\"bgcolor\":\"white\",\"lakecolor\":\"white\",\"landcolor\":\"#E5ECF6\",\"showlakes\":true,\"showland\":true,\"subunitcolor\":\"white\"},\"hoverlabel\":{\"align\":\"left\"},\"hovermode\":\"closest\",\"mapbox\":{\"style\":\"light\"},\"paper_bgcolor\":\"white\",\"plot_bgcolor\":\"#E5ECF6\",\"polar\":{\"angularaxis\":{\"gridcolor\":\"white\",\"linecolor\":\"white\",\"ticks\":\"\"},\"bgcolor\":\"#E5ECF6\",\"radialaxis\":{\"gridcolor\":\"white\",\"linecolor\":\"white\",\"ticks\":\"\"}},\"scene\":{\"xaxis\":{\"backgroundcolor\":\"#E5ECF6\",\"gridcolor\":\"white\",\"gridwidth\":2,\"linecolor\":\"white\",\"showbackground\":true,\"ticks\":\"\",\"zerolinecolor\":\"white\"},\"yaxis\":{\"backgroundcolor\":\"#E5ECF6\",\"gridcolor\":\"white\",\"gridwidth\":2,\"linecolor\":\"white\",\"showbackground\":true,\"ticks\":\"\",\"zerolinecolor\":\"white\"},\"zaxis\":{\"backgroundcolor\":\"#E5ECF6\",\"gridcolor\":\"white\",\"gridwidth\":2,\"linecolor\":\"white\",\"showbackground\":true,\"ticks\":\"\",\"zerolinecolor\":\"white\"}},\"shapedefaults\":{\"line\":{\"color\":\"#2a3f5f\"}},\"ternary\":{\"aaxis\":{\"gridcolor\":\"white\",\"linecolor\":\"white\",\"ticks\":\"\"},\"baxis\":{\"gridcolor\":\"white\",\"linecolor\":\"white\",\"ticks\":\"\"},\"bgcolor\":\"#E5ECF6\",\"caxis\":{\"gridcolor\":\"white\",\"linecolor\":\"white\",\"ticks\":\"\"}},\"title\":{\"x\":0.05},\"xaxis\":{\"automargin\":true,\"gridcolor\":\"white\",\"linecolor\":\"white\",\"ticks\":\"\",\"title\":{\"standoff\":15},\"zerolinecolor\":\"white\",\"zerolinewidth\":2},\"yaxis\":{\"automargin\":true,\"gridcolor\":\"white\",\"linecolor\":\"white\",\"ticks\":\"\",\"title\":{\"standoff\":15},\"zerolinecolor\":\"white\",\"zerolinewidth\":2}}},\"title\":{\"font\":{\"color\":\"#4D5663\"},\"text\":\"Risultato settimanale (R)\"},\"xaxis\":{\"gridcolor\":\"#E1E5ED\",\"showgrid\":true,\"tickfont\":{\"color\":\"#4D5663\"},\"title\":{\"font\":{\"color\":\"#4D5663\"},\"text\":\"\"},\"zerolinecolor\":\"grey\"},\"yaxis\":{\"gridcolor\":\"#E1E5ED\",\"showgrid\":true,\"tickfont\":{\"color\":\"#4D5663\"},\"title\":{\"font\":{\"color\":\"#4D5663\"},\"text\":\"R\"},\"zerolinecolor\":\"grey\"}},                        {\"responsive\": true}                    ).then(function(){\n",
       "                            \n",
       "var gd = document.getElementById('c798c6da-545f-4a75-9634-3303973b058d');\n",
       "var x = new MutationObserver(function (mutations, observer) {{\n",
       "        var display = window.getComputedStyle(gd).display;\n",
       "        if (!display || display === 'none') {{\n",
       "            console.log([gd, 'removed!']);\n",
       "            Plotly.purge(gd);\n",
       "            observer.disconnect();\n",
       "        }}\n",
       "}});\n",
       "\n",
       "// Listen for the removal of the full notebook cells\n",
       "var notebookContainer = gd.closest('#notebook-container');\n",
       "if (notebookContainer) {{\n",
       "    x.observe(notebookContainer, {childList: true});\n",
       "}}\n",
       "\n",
       "// Listen for the clearing of the current output cell\n",
       "var outputEl = gd.closest('.output');\n",
       "if (outputEl) {{\n",
       "    x.observe(outputEl, {childList: true});\n",
       "}}\n",
       "\n",
       "                        })                };                });            </script>        </div>"
      ]
     },
     "metadata": {},
     "output_type": "display_data"
    }
   ],
   "source": [
    "df = full_daniel_by_close.groupby(pd.Grouper(freq='W')).sum()\n",
    "df.iplot(kind='bar', y='result', color='blue', opacity=1, title='Risultato settimanale (R)',\n",
    "         yTitle='R', zerolinecolor='grey')"
   ]
  },
  {
   "cell_type": "code",
   "execution_count": 19,
   "id": "6647bb20",
   "metadata": {
    "execution": {
     "iopub.execute_input": "2022-02-25T16:57:36.145157Z",
     "iopub.status.busy": "2022-02-25T16:57:36.144455Z",
     "iopub.status.idle": "2022-02-25T16:57:36.202852Z",
     "shell.execute_reply": "2022-02-25T16:57:36.203415Z",
     "shell.execute_reply.started": "2022-02-25T16:54:37.154332Z"
    },
    "papermill": {
     "duration": 0.124594,
     "end_time": "2022-02-25T16:57:36.203597",
     "exception": false,
     "start_time": "2022-02-25T16:57:36.079003",
     "status": "completed"
    },
    "tags": []
   },
   "outputs": [
    {
     "data": {
      "application/vnd.plotly.v1+json": {
       "config": {
        "linkText": "Export to plot.ly",
        "plotlyServerURL": "https://plot.ly",
        "showLink": false
       },
       "data": [
        {
         "marker": {
          "color": "rgba(55, 128, 191, 1)",
          "line": {
           "color": "rgba(55, 128, 191, 1.0)",
           "width": 1
          }
         },
         "name": "result",
         "orientation": "v",
         "text": "",
         "type": "bar",
         "x": [
          "2020-11-05 00:00:00+00:00",
          "2020-11-06 00:00:00+00:00",
          "2020-11-07 00:00:00+00:00",
          "2020-11-08 00:00:00+00:00",
          "2020-11-09 00:00:00+00:00",
          "2020-11-10 00:00:00+00:00",
          "2020-11-11 00:00:00+00:00",
          "2020-11-12 00:00:00+00:00",
          "2020-11-13 00:00:00+00:00",
          "2020-11-14 00:00:00+00:00",
          "2020-11-15 00:00:00+00:00",
          "2020-11-16 00:00:00+00:00",
          "2020-11-17 00:00:00+00:00",
          "2020-11-18 00:00:00+00:00",
          "2020-11-19 00:00:00+00:00",
          "2020-11-20 00:00:00+00:00",
          "2020-11-21 00:00:00+00:00",
          "2020-11-22 00:00:00+00:00",
          "2020-11-23 00:00:00+00:00",
          "2020-11-24 00:00:00+00:00",
          "2020-11-25 00:00:00+00:00",
          "2020-11-26 00:00:00+00:00",
          "2020-11-27 00:00:00+00:00",
          "2020-11-28 00:00:00+00:00",
          "2020-11-29 00:00:00+00:00",
          "2020-11-30 00:00:00+00:00",
          "2020-12-01 00:00:00+00:00",
          "2020-12-02 00:00:00+00:00",
          "2020-12-03 00:00:00+00:00",
          "2020-12-04 00:00:00+00:00",
          "2020-12-05 00:00:00+00:00",
          "2020-12-06 00:00:00+00:00",
          "2020-12-07 00:00:00+00:00",
          "2020-12-08 00:00:00+00:00",
          "2020-12-09 00:00:00+00:00",
          "2020-12-10 00:00:00+00:00",
          "2020-12-11 00:00:00+00:00",
          "2020-12-12 00:00:00+00:00",
          "2020-12-13 00:00:00+00:00",
          "2020-12-14 00:00:00+00:00",
          "2020-12-15 00:00:00+00:00",
          "2020-12-16 00:00:00+00:00",
          "2020-12-17 00:00:00+00:00",
          "2020-12-18 00:00:00+00:00",
          "2020-12-19 00:00:00+00:00",
          "2020-12-20 00:00:00+00:00",
          "2020-12-21 00:00:00+00:00",
          "2020-12-22 00:00:00+00:00",
          "2020-12-23 00:00:00+00:00",
          "2020-12-24 00:00:00+00:00",
          "2020-12-25 00:00:00+00:00",
          "2020-12-26 00:00:00+00:00",
          "2020-12-27 00:00:00+00:00",
          "2020-12-28 00:00:00+00:00",
          "2020-12-29 00:00:00+00:00",
          "2020-12-30 00:00:00+00:00",
          "2020-12-31 00:00:00+00:00",
          "2021-01-01 00:00:00+00:00",
          "2021-01-02 00:00:00+00:00",
          "2021-01-03 00:00:00+00:00",
          "2021-01-04 00:00:00+00:00",
          "2021-01-05 00:00:00+00:00",
          "2021-01-06 00:00:00+00:00",
          "2021-01-07 00:00:00+00:00",
          "2021-01-08 00:00:00+00:00",
          "2021-01-09 00:00:00+00:00",
          "2021-01-10 00:00:00+00:00",
          "2021-01-11 00:00:00+00:00",
          "2021-01-12 00:00:00+00:00",
          "2021-01-13 00:00:00+00:00",
          "2021-01-14 00:00:00+00:00",
          "2021-01-15 00:00:00+00:00",
          "2021-01-16 00:00:00+00:00",
          "2021-01-17 00:00:00+00:00",
          "2021-01-18 00:00:00+00:00",
          "2021-01-19 00:00:00+00:00",
          "2021-01-20 00:00:00+00:00",
          "2021-01-21 00:00:00+00:00",
          "2021-01-22 00:00:00+00:00",
          "2021-01-23 00:00:00+00:00",
          "2021-01-24 00:00:00+00:00",
          "2021-01-25 00:00:00+00:00",
          "2021-01-26 00:00:00+00:00",
          "2021-01-27 00:00:00+00:00",
          "2021-01-28 00:00:00+00:00",
          "2021-01-29 00:00:00+00:00",
          "2021-01-30 00:00:00+00:00",
          "2021-01-31 00:00:00+00:00",
          "2021-02-01 00:00:00+00:00",
          "2021-02-02 00:00:00+00:00",
          "2021-02-03 00:00:00+00:00",
          "2021-02-04 00:00:00+00:00",
          "2021-02-05 00:00:00+00:00",
          "2021-02-06 00:00:00+00:00",
          "2021-02-07 00:00:00+00:00",
          "2021-02-08 00:00:00+00:00",
          "2021-02-09 00:00:00+00:00",
          "2021-02-10 00:00:00+00:00",
          "2021-02-11 00:00:00+00:00",
          "2021-02-12 00:00:00+00:00",
          "2021-02-13 00:00:00+00:00",
          "2021-02-14 00:00:00+00:00",
          "2021-02-15 00:00:00+00:00",
          "2021-02-16 00:00:00+00:00",
          "2021-02-17 00:00:00+00:00",
          "2021-02-18 00:00:00+00:00",
          "2021-02-19 00:00:00+00:00",
          "2021-02-20 00:00:00+00:00",
          "2021-02-21 00:00:00+00:00",
          "2021-02-22 00:00:00+00:00",
          "2021-02-23 00:00:00+00:00",
          "2021-02-24 00:00:00+00:00",
          "2021-02-25 00:00:00+00:00",
          "2021-02-26 00:00:00+00:00",
          "2021-02-27 00:00:00+00:00",
          "2021-02-28 00:00:00+00:00",
          "2021-03-01 00:00:00+00:00",
          "2021-03-02 00:00:00+00:00",
          "2021-03-03 00:00:00+00:00",
          "2021-03-04 00:00:00+00:00",
          "2021-03-05 00:00:00+00:00",
          "2021-03-06 00:00:00+00:00",
          "2021-03-07 00:00:00+00:00",
          "2021-03-08 00:00:00+00:00",
          "2021-03-09 00:00:00+00:00",
          "2021-03-10 00:00:00+00:00",
          "2021-03-11 00:00:00+00:00",
          "2021-03-12 00:00:00+00:00",
          "2021-03-13 00:00:00+00:00",
          "2021-03-14 00:00:00+00:00",
          "2021-03-15 00:00:00+00:00",
          "2021-03-16 00:00:00+00:00",
          "2021-03-17 00:00:00+00:00",
          "2021-03-18 00:00:00+00:00",
          "2021-03-19 00:00:00+00:00",
          "2021-03-20 00:00:00+00:00",
          "2021-03-21 00:00:00+00:00",
          "2021-03-22 00:00:00+00:00",
          "2021-03-23 00:00:00+00:00",
          "2021-03-24 00:00:00+00:00",
          "2021-03-25 00:00:00+00:00",
          "2021-03-26 00:00:00+00:00",
          "2021-03-27 00:00:00+00:00",
          "2021-03-28 00:00:00+00:00",
          "2021-03-29 00:00:00+00:00",
          "2021-03-30 00:00:00+00:00",
          "2021-03-31 00:00:00+00:00",
          "2021-04-01 00:00:00+00:00",
          "2021-04-02 00:00:00+00:00",
          "2021-04-03 00:00:00+00:00",
          "2021-04-04 00:00:00+00:00",
          "2021-04-05 00:00:00+00:00",
          "2021-04-06 00:00:00+00:00",
          "2021-04-07 00:00:00+00:00",
          "2021-04-08 00:00:00+00:00",
          "2021-04-09 00:00:00+00:00",
          "2021-04-10 00:00:00+00:00",
          "2021-04-11 00:00:00+00:00",
          "2021-04-12 00:00:00+00:00",
          "2021-04-13 00:00:00+00:00",
          "2021-04-14 00:00:00+00:00",
          "2021-04-15 00:00:00+00:00",
          "2021-04-16 00:00:00+00:00",
          "2021-04-17 00:00:00+00:00",
          "2021-04-18 00:00:00+00:00",
          "2021-04-19 00:00:00+00:00",
          "2021-04-20 00:00:00+00:00",
          "2021-04-21 00:00:00+00:00",
          "2021-04-22 00:00:00+00:00",
          "2021-04-23 00:00:00+00:00",
          "2021-04-24 00:00:00+00:00",
          "2021-04-25 00:00:00+00:00",
          "2021-04-26 00:00:00+00:00",
          "2021-04-27 00:00:00+00:00",
          "2021-04-28 00:00:00+00:00",
          "2021-04-29 00:00:00+00:00",
          "2021-04-30 00:00:00+00:00",
          "2021-05-01 00:00:00+00:00",
          "2021-05-02 00:00:00+00:00",
          "2021-05-03 00:00:00+00:00",
          "2021-05-04 00:00:00+00:00",
          "2021-05-05 00:00:00+00:00",
          "2021-05-06 00:00:00+00:00",
          "2021-05-07 00:00:00+00:00",
          "2021-05-08 00:00:00+00:00",
          "2021-05-09 00:00:00+00:00",
          "2021-05-10 00:00:00+00:00",
          "2021-05-11 00:00:00+00:00",
          "2021-05-12 00:00:00+00:00",
          "2021-05-13 00:00:00+00:00",
          "2021-05-14 00:00:00+00:00",
          "2021-05-15 00:00:00+00:00",
          "2021-05-16 00:00:00+00:00",
          "2021-05-17 00:00:00+00:00",
          "2021-05-18 00:00:00+00:00",
          "2021-05-19 00:00:00+00:00",
          "2021-05-20 00:00:00+00:00",
          "2021-05-21 00:00:00+00:00",
          "2021-05-22 00:00:00+00:00",
          "2021-05-23 00:00:00+00:00",
          "2021-05-24 00:00:00+00:00",
          "2021-05-25 00:00:00+00:00",
          "2021-05-26 00:00:00+00:00",
          "2021-05-27 00:00:00+00:00",
          "2021-05-28 00:00:00+00:00",
          "2021-05-29 00:00:00+00:00",
          "2021-05-30 00:00:00+00:00",
          "2021-05-31 00:00:00+00:00",
          "2021-06-01 00:00:00+00:00",
          "2021-06-02 00:00:00+00:00",
          "2021-06-03 00:00:00+00:00",
          "2021-06-04 00:00:00+00:00",
          "2021-06-05 00:00:00+00:00",
          "2021-06-06 00:00:00+00:00",
          "2021-06-07 00:00:00+00:00",
          "2021-06-08 00:00:00+00:00",
          "2021-06-09 00:00:00+00:00",
          "2021-06-10 00:00:00+00:00",
          "2021-06-11 00:00:00+00:00",
          "2021-06-12 00:00:00+00:00",
          "2021-06-13 00:00:00+00:00",
          "2021-06-14 00:00:00+00:00",
          "2021-06-15 00:00:00+00:00",
          "2021-06-16 00:00:00+00:00",
          "2021-06-17 00:00:00+00:00",
          "2021-06-18 00:00:00+00:00",
          "2021-06-19 00:00:00+00:00",
          "2021-06-20 00:00:00+00:00",
          "2021-06-21 00:00:00+00:00",
          "2021-06-22 00:00:00+00:00",
          "2021-06-23 00:00:00+00:00",
          "2021-06-24 00:00:00+00:00",
          "2021-06-25 00:00:00+00:00",
          "2021-06-26 00:00:00+00:00",
          "2021-06-27 00:00:00+00:00",
          "2021-06-28 00:00:00+00:00",
          "2021-06-29 00:00:00+00:00",
          "2021-06-30 00:00:00+00:00",
          "2021-07-01 00:00:00+00:00",
          "2021-07-02 00:00:00+00:00",
          "2021-07-03 00:00:00+00:00",
          "2021-07-04 00:00:00+00:00",
          "2021-07-05 00:00:00+00:00",
          "2021-07-06 00:00:00+00:00",
          "2021-07-07 00:00:00+00:00",
          "2021-07-08 00:00:00+00:00",
          "2021-07-09 00:00:00+00:00",
          "2021-07-10 00:00:00+00:00",
          "2021-07-11 00:00:00+00:00",
          "2021-07-12 00:00:00+00:00",
          "2021-07-13 00:00:00+00:00",
          "2021-07-14 00:00:00+00:00",
          "2021-07-15 00:00:00+00:00",
          "2021-07-16 00:00:00+00:00",
          "2021-07-17 00:00:00+00:00",
          "2021-07-18 00:00:00+00:00",
          "2021-07-19 00:00:00+00:00",
          "2021-07-20 00:00:00+00:00",
          "2021-07-21 00:00:00+00:00",
          "2021-07-22 00:00:00+00:00",
          "2021-07-23 00:00:00+00:00",
          "2021-07-24 00:00:00+00:00",
          "2021-07-25 00:00:00+00:00",
          "2021-07-26 00:00:00+00:00",
          "2021-07-27 00:00:00+00:00",
          "2021-07-28 00:00:00+00:00",
          "2021-07-29 00:00:00+00:00",
          "2021-07-30 00:00:00+00:00",
          "2021-07-31 00:00:00+00:00",
          "2021-08-01 00:00:00+00:00",
          "2021-08-02 00:00:00+00:00",
          "2021-08-03 00:00:00+00:00",
          "2021-08-04 00:00:00+00:00",
          "2021-08-05 00:00:00+00:00",
          "2021-08-06 00:00:00+00:00",
          "2021-08-07 00:00:00+00:00",
          "2021-08-08 00:00:00+00:00",
          "2021-08-09 00:00:00+00:00",
          "2021-08-10 00:00:00+00:00",
          "2021-08-11 00:00:00+00:00",
          "2021-08-12 00:00:00+00:00",
          "2021-08-13 00:00:00+00:00",
          "2021-08-14 00:00:00+00:00",
          "2021-08-15 00:00:00+00:00",
          "2021-08-16 00:00:00+00:00",
          "2021-08-17 00:00:00+00:00",
          "2021-08-18 00:00:00+00:00",
          "2021-08-19 00:00:00+00:00",
          "2021-08-20 00:00:00+00:00",
          "2021-08-21 00:00:00+00:00",
          "2021-08-22 00:00:00+00:00",
          "2021-08-23 00:00:00+00:00",
          "2021-08-24 00:00:00+00:00",
          "2021-08-25 00:00:00+00:00",
          "2021-08-26 00:00:00+00:00",
          "2021-08-27 00:00:00+00:00",
          "2021-08-28 00:00:00+00:00",
          "2021-08-29 00:00:00+00:00",
          "2021-08-30 00:00:00+00:00",
          "2021-08-31 00:00:00+00:00",
          "2021-09-01 00:00:00+00:00",
          "2021-09-02 00:00:00+00:00",
          "2021-09-03 00:00:00+00:00",
          "2021-09-04 00:00:00+00:00",
          "2021-09-05 00:00:00+00:00",
          "2021-09-06 00:00:00+00:00",
          "2021-09-07 00:00:00+00:00",
          "2021-09-08 00:00:00+00:00",
          "2021-09-09 00:00:00+00:00",
          "2021-09-10 00:00:00+00:00",
          "2021-09-11 00:00:00+00:00",
          "2021-09-12 00:00:00+00:00",
          "2021-09-13 00:00:00+00:00",
          "2021-09-14 00:00:00+00:00",
          "2021-09-15 00:00:00+00:00",
          "2021-09-16 00:00:00+00:00",
          "2021-09-17 00:00:00+00:00",
          "2021-09-18 00:00:00+00:00",
          "2021-09-19 00:00:00+00:00",
          "2021-09-20 00:00:00+00:00",
          "2021-09-21 00:00:00+00:00",
          "2021-09-22 00:00:00+00:00",
          "2021-09-23 00:00:00+00:00",
          "2021-09-24 00:00:00+00:00",
          "2021-09-25 00:00:00+00:00",
          "2021-09-26 00:00:00+00:00",
          "2021-09-27 00:00:00+00:00",
          "2021-09-28 00:00:00+00:00",
          "2021-09-29 00:00:00+00:00",
          "2021-09-30 00:00:00+00:00",
          "2021-10-01 00:00:00+00:00",
          "2021-10-02 00:00:00+00:00",
          "2021-10-03 00:00:00+00:00",
          "2021-10-04 00:00:00+00:00",
          "2021-10-05 00:00:00+00:00",
          "2021-10-06 00:00:00+00:00",
          "2021-10-07 00:00:00+00:00",
          "2021-10-08 00:00:00+00:00",
          "2021-10-09 00:00:00+00:00",
          "2021-10-10 00:00:00+00:00",
          "2021-10-11 00:00:00+00:00",
          "2021-10-12 00:00:00+00:00",
          "2021-10-13 00:00:00+00:00",
          "2021-10-14 00:00:00+00:00",
          "2021-10-15 00:00:00+00:00",
          "2021-10-16 00:00:00+00:00",
          "2021-10-17 00:00:00+00:00",
          "2021-10-18 00:00:00+00:00",
          "2021-10-19 00:00:00+00:00",
          "2021-10-20 00:00:00+00:00",
          "2021-10-21 00:00:00+00:00",
          "2021-10-22 00:00:00+00:00",
          "2021-10-23 00:00:00+00:00",
          "2021-10-24 00:00:00+00:00",
          "2021-10-25 00:00:00+00:00",
          "2021-10-26 00:00:00+00:00",
          "2021-10-27 00:00:00+00:00",
          "2021-10-28 00:00:00+00:00",
          "2021-10-29 00:00:00+00:00",
          "2021-10-30 00:00:00+00:00",
          "2021-10-31 00:00:00+00:00",
          "2021-11-01 00:00:00+00:00",
          "2021-11-02 00:00:00+00:00",
          "2021-11-03 00:00:00+00:00",
          "2021-11-04 00:00:00+00:00",
          "2021-11-05 00:00:00+00:00",
          "2021-11-06 00:00:00+00:00",
          "2021-11-07 00:00:00+00:00",
          "2021-11-08 00:00:00+00:00",
          "2021-11-09 00:00:00+00:00",
          "2021-11-10 00:00:00+00:00",
          "2021-11-11 00:00:00+00:00",
          "2021-11-12 00:00:00+00:00",
          "2021-11-13 00:00:00+00:00",
          "2021-11-14 00:00:00+00:00",
          "2021-11-15 00:00:00+00:00",
          "2021-11-16 00:00:00+00:00",
          "2021-11-17 00:00:00+00:00",
          "2021-11-18 00:00:00+00:00",
          "2021-11-19 00:00:00+00:00",
          "2021-11-20 00:00:00+00:00",
          "2021-11-21 00:00:00+00:00",
          "2021-11-22 00:00:00+00:00",
          "2021-11-23 00:00:00+00:00",
          "2021-11-24 00:00:00+00:00",
          "2021-11-25 00:00:00+00:00",
          "2021-11-26 00:00:00+00:00",
          "2021-11-27 00:00:00+00:00",
          "2021-11-28 00:00:00+00:00",
          "2021-11-29 00:00:00+00:00",
          "2021-11-30 00:00:00+00:00",
          "2021-12-01 00:00:00+00:00",
          "2021-12-02 00:00:00+00:00",
          "2021-12-03 00:00:00+00:00",
          "2021-12-04 00:00:00+00:00",
          "2021-12-05 00:00:00+00:00",
          "2021-12-06 00:00:00+00:00",
          "2021-12-07 00:00:00+00:00",
          "2021-12-08 00:00:00+00:00",
          "2021-12-09 00:00:00+00:00",
          "2021-12-10 00:00:00+00:00",
          "2021-12-11 00:00:00+00:00",
          "2021-12-12 00:00:00+00:00",
          "2021-12-13 00:00:00+00:00",
          "2021-12-14 00:00:00+00:00",
          "2021-12-15 00:00:00+00:00",
          "2021-12-16 00:00:00+00:00",
          "2021-12-17 00:00:00+00:00",
          "2021-12-18 00:00:00+00:00",
          "2021-12-19 00:00:00+00:00",
          "2021-12-20 00:00:00+00:00",
          "2021-12-21 00:00:00+00:00",
          "2021-12-22 00:00:00+00:00",
          "2021-12-23 00:00:00+00:00",
          "2021-12-24 00:00:00+00:00",
          "2021-12-25 00:00:00+00:00",
          "2021-12-26 00:00:00+00:00",
          "2021-12-27 00:00:00+00:00",
          "2021-12-28 00:00:00+00:00",
          "2021-12-29 00:00:00+00:00",
          "2021-12-30 00:00:00+00:00",
          "2021-12-31 00:00:00+00:00",
          "2022-01-01 00:00:00+00:00",
          "2022-01-02 00:00:00+00:00",
          "2022-01-03 00:00:00+00:00",
          "2022-01-04 00:00:00+00:00",
          "2022-01-05 00:00:00+00:00",
          "2022-01-06 00:00:00+00:00",
          "2022-01-07 00:00:00+00:00",
          "2022-01-08 00:00:00+00:00",
          "2022-01-09 00:00:00+00:00",
          "2022-01-10 00:00:00+00:00",
          "2022-01-11 00:00:00+00:00",
          "2022-01-12 00:00:00+00:00",
          "2022-01-13 00:00:00+00:00",
          "2022-01-14 00:00:00+00:00",
          "2022-01-15 00:00:00+00:00",
          "2022-01-16 00:00:00+00:00",
          "2022-01-17 00:00:00+00:00",
          "2022-01-18 00:00:00+00:00",
          "2022-01-19 00:00:00+00:00",
          "2022-01-20 00:00:00+00:00",
          "2022-01-21 00:00:00+00:00",
          "2022-01-22 00:00:00+00:00",
          "2022-01-23 00:00:00+00:00",
          "2022-01-24 00:00:00+00:00",
          "2022-01-25 00:00:00+00:00",
          "2022-01-26 00:00:00+00:00",
          "2022-01-27 00:00:00+00:00",
          "2022-01-28 00:00:00+00:00",
          "2022-01-29 00:00:00+00:00",
          "2022-01-30 00:00:00+00:00",
          "2022-01-31 00:00:00+00:00",
          "2022-02-01 00:00:00+00:00"
         ],
         "y": [
          -2.0036496350363597,
          -0.02213114754087961,
          0.0,
          0.0,
          -0.036290322580589236,
          0.0,
          -2.004999999999909,
          0.0,
          0.0,
          0.0,
          0.0,
          0.0,
          0.0,
          0.0,
          0.0,
          0.0,
          0.0,
          0.0,
          0.0,
          0.0,
          0.0,
          0.0,
          0.0,
          0.0,
          0.0,
          1.8809523809524027,
          1.7381902420772897,
          0.0,
          0.0,
          -0.9954128440368871,
          0.0,
          0.0,
          0.5004424778761188,
          0.0,
          0.40000000000001507,
          -0.9950495049506031,
          0.36652173913044245,
          0.0,
          0.0,
          0.0,
          0.0,
          2.4600000000000932,
          0.1691729323308424,
          -1.1484275849197636,
          0.0,
          0.0,
          0.9927184466020047,
          -2.001798561150955,
          0.0,
          0.0,
          0.0,
          0.0,
          0.0,
          0.0,
          0.0,
          0.13106796116506733,
          -1.0029761904761578,
          0.0,
          0.0,
          0.0,
          1.4171974522292414,
          0.4296874999999644,
          0.0,
          0.5162011173184236,
          -0.5039106145251507,
          0.0,
          0.0,
          0.4859504132231873,
          0.9680306905371053,
          0.0,
          0.0,
          1.318954248365995,
          0.0,
          0.0,
          0.0,
          -1.000000000000077,
          0.9137931034482287,
          -0.40596403490099253,
          -1.0051546391752226,
          0.0,
          0.0,
          0.86800000000012,
          0.7820512820512631,
          0.0,
          -1.0029940119759866,
          -2.0000000000000915,
          0.0,
          0.0,
          -2.917787002337519,
          -0.9964539007092409,
          1.4435863519195604,
          0.0,
          -1.003448275862058,
          0.0,
          0.0,
          0.8345744680850246,
          -0.9989106753812715,
          0.0,
          0.0,
          0.0,
          0.0,
          0.0,
          0.0,
          -1.000000000000038,
          1.30660377358479,
          1.4166666666667047,
          0.0,
          0.0,
          0.0,
          1.4033112582780891,
          1.457575757575738,
          0.5029411764706072,
          -2.00877775976672,
          0.0,
          0.0,
          0.0,
          0.045044642857083095,
          1.0643968871594878,
          2.5399014410513088,
          0.0,
          0.5714285714285932,
          0.0,
          0.0,
          0.0,
          1.0958380337747466,
          1.3981106612683967,
          0.0,
          -0.29885714285715415,
          0.0,
          0.0,
          0.14137931034483497,
          -0.8135593220340442,
          0.9007633587788965,
          -0.5794979079496051,
          -0.9757724463831533,
          0.0,
          0.0,
          0.08206280963673641,
          -0.4688311688313148,
          -1.0689484126985966,
          -0.06000000000009702,
          -1.0028735632183607,
          0.0,
          0.0,
          1.569097848299078,
          1.1515009380863002,
          1.2412790697675358,
          0.6438623523369522,
          0.0,
          0.0,
          0.0,
          0.8767857142857168,
          2.564953144710699,
          -1.0384180790958704,
          0.725748450728849,
          1.438650306748448,
          0.0,
          0.0,
          -0.6197183098595167,
          1.5830140075074919,
          -0.2358288082562947,
          0.0,
          0.7996323529411389,
          0.0,
          0.0,
          -0.7812260536400979,
          0.605217149206362,
          3.563328495403814,
          -1.183485081532896,
          -1.9950000000000325,
          0.0,
          0.0,
          -0.09698795180735909,
          1.3957219251336364,
          -1.0000000000000138,
          -0.9116541353383676,
          -4.239593170127265,
          0.0,
          0.0,
          0.39374999999998356,
          2.1391729323308883,
          -0.2811487481589432,
          0.04589322960701425,
          0.6275862068966082,
          0.0,
          0.0,
          -1.287742625905542,
          -2.7005799755798914,
          -1.0020080321284794,
          -0.37348066298356,
          -0.07434551284300839,
          0.0,
          0.0,
          0.5707317073170532,
          0.0,
          0.5112089201876476,
          1.8521505376343987,
          0.0,
          0.0,
          0.0,
          0.9086956521738805,
          0.0,
          1.5701306506401562,
          -1.4427198500870717,
          0.0,
          0.0,
          0.0,
          0.0,
          0.0,
          0.0,
          0.0,
          0.0,
          0.0,
          0.0,
          0.0,
          -5.007001507268672,
          1.6340206185567845,
          2.022900763358776,
          0.5819672131146907,
          0.0,
          0.0,
          -0.026785714285757593,
          1.3039670555937246,
          0.0,
          -1.0039062499999847,
          0.0,
          0.0,
          0.0,
          0.09817351598187829,
          -1.4671328671328574,
          0.0,
          0.0,
          0.0,
          0.0,
          0.0,
          0.0,
          0.0,
          -1.000000000000038,
          -2.0026881720429985,
          0.0,
          0.0,
          0.0,
          0.0,
          -0.5669979887487083,
          0.5320590914027825,
          0.9814814814814076,
          -0.09756097560953347,
          0.0,
          0.0,
          -1.3813101815310713,
          -0.1031250000000483,
          0.7035714285714383,
          1.2672955974842681,
          0.8201923076923161,
          0.0,
          0.0,
          -0.9999999999999671,
          -0.9063926940638046,
          1.3224852071005326,
          1.3731884057971704,
          0.3189655172412025,
          0.0,
          0.0,
          2.759905421381554,
          -3.6036567269738327,
          0.0,
          2.1902654867256337,
          1.1666666666667485,
          0.0,
          0.0,
          0.24440894568693292,
          0.973568281938317,
          0.5231092436974332,
          1.2286245353160088,
          0.0,
          0.0,
          0.0,
          1.4603822207174635,
          1.1642512077295355,
          -1.1693183794124542,
          -2.9970930232556983,
          0.5427745664740665,
          0.0,
          0.0,
          0.3274853801169062,
          -4.002577319587164,
          1.7736433053691567,
          -4.747967660815578,
          -1.695457210527243,
          0.0,
          0.0,
          1.910827107476997,
          0.4063991068278643,
          0.4840206185566827,
          -0.23231474407939323,
          1.282165605095563,
          0.0,
          0.0,
          0.907632083067107,
          1.263057324840767,
          -1.0000000000000884,
          1.0415204678361942,
          0.0,
          0.0,
          0.0,
          0.14482758620690206,
          1.8002148227711152,
          2.3432798702470055,
          0.0,
          0.0,
          0.0,
          0.0,
          0.801137113447366,
          0.0,
          0.8301587301586789,
          1.1218487394959245,
          -0.9999999999999509,
          0.0,
          0.0,
          -2.0034965034963905,
          0.0,
          0.0,
          0.45330349764627503,
          0.6260204081632527,
          0.0,
          0.0,
          0.5091743119266118,
          -1.000000000000113,
          -0.4272928102825483,
          0.21541666666666498,
          0.7215189873417756,
          0.0,
          0.0,
          2.4230769230768425,
          1.4034334763948908,
          0.0,
          0.9295774647887478,
          1.6229508196721771,
          0.0,
          0.0,
          0.0,
          1.638047191970857,
          1.445414847161573,
          0.0,
          0.0,
          0.0,
          0.0,
          0.0,
          0.0,
          0.0,
          0.0,
          0.0,
          0.0,
          0.0,
          -1.6177909806790836,
          0.0,
          -3.0014662756597517,
          -1.0031446540879245,
          0.0,
          0.0,
          0.0,
          0.4458098624065397,
          0.2441685953999282,
          1.614525139664765,
          -3.2363636363636417,
          0.0,
          0.0,
          0.0,
          0.6049250749250805,
          -0.6614783628671284,
          0.0,
          0.8906832298136808,
          0.0,
          0.0,
          0.0,
          0.0,
          0.0,
          0.09248554913289672,
          -0.4062093788564032,
          0.0,
          0.0,
          0.0,
          -0.9975000000000023,
          0.0,
          -3.5651530787754018,
          0.0,
          0.0,
          0.0,
          0.0,
          0.8333333333333097,
          -4.994378306878543,
          0.0,
          0.21975806451606172,
          -1.054525045919347,
          0.0,
          0.0,
          1.222222222222295,
          -5.001155165694566,
          2.431707671847695,
          -1.3563963449457215,
          0.0,
          0.0,
          0.0,
          1.3392344497607007,
          1.4082568807339158,
          -0.9999999999999287,
          1.3271028037383328,
          1.9016886645963182,
          0.0,
          0.0,
          1.0948616600790442,
          1.458536585365858,
          0.0,
          0.0,
          0.0,
          0.0,
          0.0,
          1.2365384615384902,
          0.0,
          0.0,
          0.0,
          0.0,
          0.0,
          0.0,
          0.0,
          2.7376690360610105,
          0.45143766461798673,
          1.3625468164794559,
          0.0,
          0.0,
          0.0,
          0.0,
          0.0,
          0.43277777777777576,
          0.7043478260869831,
          -0.3931296773402404,
          0.0,
          0.0,
          -0.3262883235486216,
          0.48676470588237836,
          1.968553459119494,
          -3.004630121275155,
          0.0,
          0.0,
          0.0,
          -0.47334452986621267,
          0.5933628318584107,
          1.2535211267605175,
          0.5893401015228433,
          0.0,
          0.0,
          0.0,
          0.3929752066115793,
          1.443661971830954
         ]
        }
       ],
       "layout": {
        "legend": {
         "bgcolor": "#FFFFFF",
         "font": {
          "color": "#4D5663"
         }
        },
        "paper_bgcolor": "#FFFFFF",
        "plot_bgcolor": "#FFFFFF",
        "template": {
         "data": {
          "bar": [
           {
            "error_x": {
             "color": "#2a3f5f"
            },
            "error_y": {
             "color": "#2a3f5f"
            },
            "marker": {
             "line": {
              "color": "#E5ECF6",
              "width": 0.5
             },
             "pattern": {
              "fillmode": "overlay",
              "size": 10,
              "solidity": 0.2
             }
            },
            "type": "bar"
           }
          ],
          "barpolar": [
           {
            "marker": {
             "line": {
              "color": "#E5ECF6",
              "width": 0.5
             },
             "pattern": {
              "fillmode": "overlay",
              "size": 10,
              "solidity": 0.2
             }
            },
            "type": "barpolar"
           }
          ],
          "carpet": [
           {
            "aaxis": {
             "endlinecolor": "#2a3f5f",
             "gridcolor": "white",
             "linecolor": "white",
             "minorgridcolor": "white",
             "startlinecolor": "#2a3f5f"
            },
            "baxis": {
             "endlinecolor": "#2a3f5f",
             "gridcolor": "white",
             "linecolor": "white",
             "minorgridcolor": "white",
             "startlinecolor": "#2a3f5f"
            },
            "type": "carpet"
           }
          ],
          "choropleth": [
           {
            "colorbar": {
             "outlinewidth": 0,
             "ticks": ""
            },
            "type": "choropleth"
           }
          ],
          "contour": [
           {
            "colorbar": {
             "outlinewidth": 0,
             "ticks": ""
            },
            "colorscale": [
             [
              0.0,
              "#0d0887"
             ],
             [
              0.1111111111111111,
              "#46039f"
             ],
             [
              0.2222222222222222,
              "#7201a8"
             ],
             [
              0.3333333333333333,
              "#9c179e"
             ],
             [
              0.4444444444444444,
              "#bd3786"
             ],
             [
              0.5555555555555556,
              "#d8576b"
             ],
             [
              0.6666666666666666,
              "#ed7953"
             ],
             [
              0.7777777777777778,
              "#fb9f3a"
             ],
             [
              0.8888888888888888,
              "#fdca26"
             ],
             [
              1.0,
              "#f0f921"
             ]
            ],
            "type": "contour"
           }
          ],
          "contourcarpet": [
           {
            "colorbar": {
             "outlinewidth": 0,
             "ticks": ""
            },
            "type": "contourcarpet"
           }
          ],
          "heatmap": [
           {
            "colorbar": {
             "outlinewidth": 0,
             "ticks": ""
            },
            "colorscale": [
             [
              0.0,
              "#0d0887"
             ],
             [
              0.1111111111111111,
              "#46039f"
             ],
             [
              0.2222222222222222,
              "#7201a8"
             ],
             [
              0.3333333333333333,
              "#9c179e"
             ],
             [
              0.4444444444444444,
              "#bd3786"
             ],
             [
              0.5555555555555556,
              "#d8576b"
             ],
             [
              0.6666666666666666,
              "#ed7953"
             ],
             [
              0.7777777777777778,
              "#fb9f3a"
             ],
             [
              0.8888888888888888,
              "#fdca26"
             ],
             [
              1.0,
              "#f0f921"
             ]
            ],
            "type": "heatmap"
           }
          ],
          "heatmapgl": [
           {
            "colorbar": {
             "outlinewidth": 0,
             "ticks": ""
            },
            "colorscale": [
             [
              0.0,
              "#0d0887"
             ],
             [
              0.1111111111111111,
              "#46039f"
             ],
             [
              0.2222222222222222,
              "#7201a8"
             ],
             [
              0.3333333333333333,
              "#9c179e"
             ],
             [
              0.4444444444444444,
              "#bd3786"
             ],
             [
              0.5555555555555556,
              "#d8576b"
             ],
             [
              0.6666666666666666,
              "#ed7953"
             ],
             [
              0.7777777777777778,
              "#fb9f3a"
             ],
             [
              0.8888888888888888,
              "#fdca26"
             ],
             [
              1.0,
              "#f0f921"
             ]
            ],
            "type": "heatmapgl"
           }
          ],
          "histogram": [
           {
            "marker": {
             "pattern": {
              "fillmode": "overlay",
              "size": 10,
              "solidity": 0.2
             }
            },
            "type": "histogram"
           }
          ],
          "histogram2d": [
           {
            "colorbar": {
             "outlinewidth": 0,
             "ticks": ""
            },
            "colorscale": [
             [
              0.0,
              "#0d0887"
             ],
             [
              0.1111111111111111,
              "#46039f"
             ],
             [
              0.2222222222222222,
              "#7201a8"
             ],
             [
              0.3333333333333333,
              "#9c179e"
             ],
             [
              0.4444444444444444,
              "#bd3786"
             ],
             [
              0.5555555555555556,
              "#d8576b"
             ],
             [
              0.6666666666666666,
              "#ed7953"
             ],
             [
              0.7777777777777778,
              "#fb9f3a"
             ],
             [
              0.8888888888888888,
              "#fdca26"
             ],
             [
              1.0,
              "#f0f921"
             ]
            ],
            "type": "histogram2d"
           }
          ],
          "histogram2dcontour": [
           {
            "colorbar": {
             "outlinewidth": 0,
             "ticks": ""
            },
            "colorscale": [
             [
              0.0,
              "#0d0887"
             ],
             [
              0.1111111111111111,
              "#46039f"
             ],
             [
              0.2222222222222222,
              "#7201a8"
             ],
             [
              0.3333333333333333,
              "#9c179e"
             ],
             [
              0.4444444444444444,
              "#bd3786"
             ],
             [
              0.5555555555555556,
              "#d8576b"
             ],
             [
              0.6666666666666666,
              "#ed7953"
             ],
             [
              0.7777777777777778,
              "#fb9f3a"
             ],
             [
              0.8888888888888888,
              "#fdca26"
             ],
             [
              1.0,
              "#f0f921"
             ]
            ],
            "type": "histogram2dcontour"
           }
          ],
          "mesh3d": [
           {
            "colorbar": {
             "outlinewidth": 0,
             "ticks": ""
            },
            "type": "mesh3d"
           }
          ],
          "parcoords": [
           {
            "line": {
             "colorbar": {
              "outlinewidth": 0,
              "ticks": ""
             }
            },
            "type": "parcoords"
           }
          ],
          "pie": [
           {
            "automargin": true,
            "type": "pie"
           }
          ],
          "scatter": [
           {
            "marker": {
             "colorbar": {
              "outlinewidth": 0,
              "ticks": ""
             }
            },
            "type": "scatter"
           }
          ],
          "scatter3d": [
           {
            "line": {
             "colorbar": {
              "outlinewidth": 0,
              "ticks": ""
             }
            },
            "marker": {
             "colorbar": {
              "outlinewidth": 0,
              "ticks": ""
             }
            },
            "type": "scatter3d"
           }
          ],
          "scattercarpet": [
           {
            "marker": {
             "colorbar": {
              "outlinewidth": 0,
              "ticks": ""
             }
            },
            "type": "scattercarpet"
           }
          ],
          "scattergeo": [
           {
            "marker": {
             "colorbar": {
              "outlinewidth": 0,
              "ticks": ""
             }
            },
            "type": "scattergeo"
           }
          ],
          "scattergl": [
           {
            "marker": {
             "colorbar": {
              "outlinewidth": 0,
              "ticks": ""
             }
            },
            "type": "scattergl"
           }
          ],
          "scattermapbox": [
           {
            "marker": {
             "colorbar": {
              "outlinewidth": 0,
              "ticks": ""
             }
            },
            "type": "scattermapbox"
           }
          ],
          "scatterpolar": [
           {
            "marker": {
             "colorbar": {
              "outlinewidth": 0,
              "ticks": ""
             }
            },
            "type": "scatterpolar"
           }
          ],
          "scatterpolargl": [
           {
            "marker": {
             "colorbar": {
              "outlinewidth": 0,
              "ticks": ""
             }
            },
            "type": "scatterpolargl"
           }
          ],
          "scatterternary": [
           {
            "marker": {
             "colorbar": {
              "outlinewidth": 0,
              "ticks": ""
             }
            },
            "type": "scatterternary"
           }
          ],
          "surface": [
           {
            "colorbar": {
             "outlinewidth": 0,
             "ticks": ""
            },
            "colorscale": [
             [
              0.0,
              "#0d0887"
             ],
             [
              0.1111111111111111,
              "#46039f"
             ],
             [
              0.2222222222222222,
              "#7201a8"
             ],
             [
              0.3333333333333333,
              "#9c179e"
             ],
             [
              0.4444444444444444,
              "#bd3786"
             ],
             [
              0.5555555555555556,
              "#d8576b"
             ],
             [
              0.6666666666666666,
              "#ed7953"
             ],
             [
              0.7777777777777778,
              "#fb9f3a"
             ],
             [
              0.8888888888888888,
              "#fdca26"
             ],
             [
              1.0,
              "#f0f921"
             ]
            ],
            "type": "surface"
           }
          ],
          "table": [
           {
            "cells": {
             "fill": {
              "color": "#EBF0F8"
             },
             "line": {
              "color": "white"
             }
            },
            "header": {
             "fill": {
              "color": "#C8D4E3"
             },
             "line": {
              "color": "white"
             }
            },
            "type": "table"
           }
          ]
         },
         "layout": {
          "annotationdefaults": {
           "arrowcolor": "#2a3f5f",
           "arrowhead": 0,
           "arrowwidth": 1
          },
          "autotypenumbers": "strict",
          "coloraxis": {
           "colorbar": {
            "outlinewidth": 0,
            "ticks": ""
           }
          },
          "colorscale": {
           "diverging": [
            [
             0,
             "#8e0152"
            ],
            [
             0.1,
             "#c51b7d"
            ],
            [
             0.2,
             "#de77ae"
            ],
            [
             0.3,
             "#f1b6da"
            ],
            [
             0.4,
             "#fde0ef"
            ],
            [
             0.5,
             "#f7f7f7"
            ],
            [
             0.6,
             "#e6f5d0"
            ],
            [
             0.7,
             "#b8e186"
            ],
            [
             0.8,
             "#7fbc41"
            ],
            [
             0.9,
             "#4d9221"
            ],
            [
             1,
             "#276419"
            ]
           ],
           "sequential": [
            [
             0.0,
             "#0d0887"
            ],
            [
             0.1111111111111111,
             "#46039f"
            ],
            [
             0.2222222222222222,
             "#7201a8"
            ],
            [
             0.3333333333333333,
             "#9c179e"
            ],
            [
             0.4444444444444444,
             "#bd3786"
            ],
            [
             0.5555555555555556,
             "#d8576b"
            ],
            [
             0.6666666666666666,
             "#ed7953"
            ],
            [
             0.7777777777777778,
             "#fb9f3a"
            ],
            [
             0.8888888888888888,
             "#fdca26"
            ],
            [
             1.0,
             "#f0f921"
            ]
           ],
           "sequentialminus": [
            [
             0.0,
             "#0d0887"
            ],
            [
             0.1111111111111111,
             "#46039f"
            ],
            [
             0.2222222222222222,
             "#7201a8"
            ],
            [
             0.3333333333333333,
             "#9c179e"
            ],
            [
             0.4444444444444444,
             "#bd3786"
            ],
            [
             0.5555555555555556,
             "#d8576b"
            ],
            [
             0.6666666666666666,
             "#ed7953"
            ],
            [
             0.7777777777777778,
             "#fb9f3a"
            ],
            [
             0.8888888888888888,
             "#fdca26"
            ],
            [
             1.0,
             "#f0f921"
            ]
           ]
          },
          "colorway": [
           "#636efa",
           "#EF553B",
           "#00cc96",
           "#ab63fa",
           "#FFA15A",
           "#19d3f3",
           "#FF6692",
           "#B6E880",
           "#FF97FF",
           "#FECB52"
          ],
          "font": {
           "color": "#2a3f5f"
          },
          "geo": {
           "bgcolor": "white",
           "lakecolor": "white",
           "landcolor": "#E5ECF6",
           "showlakes": true,
           "showland": true,
           "subunitcolor": "white"
          },
          "hoverlabel": {
           "align": "left"
          },
          "hovermode": "closest",
          "mapbox": {
           "style": "light"
          },
          "paper_bgcolor": "white",
          "plot_bgcolor": "#E5ECF6",
          "polar": {
           "angularaxis": {
            "gridcolor": "white",
            "linecolor": "white",
            "ticks": ""
           },
           "bgcolor": "#E5ECF6",
           "radialaxis": {
            "gridcolor": "white",
            "linecolor": "white",
            "ticks": ""
           }
          },
          "scene": {
           "xaxis": {
            "backgroundcolor": "#E5ECF6",
            "gridcolor": "white",
            "gridwidth": 2,
            "linecolor": "white",
            "showbackground": true,
            "ticks": "",
            "zerolinecolor": "white"
           },
           "yaxis": {
            "backgroundcolor": "#E5ECF6",
            "gridcolor": "white",
            "gridwidth": 2,
            "linecolor": "white",
            "showbackground": true,
            "ticks": "",
            "zerolinecolor": "white"
           },
           "zaxis": {
            "backgroundcolor": "#E5ECF6",
            "gridcolor": "white",
            "gridwidth": 2,
            "linecolor": "white",
            "showbackground": true,
            "ticks": "",
            "zerolinecolor": "white"
           }
          },
          "shapedefaults": {
           "line": {
            "color": "#2a3f5f"
           }
          },
          "ternary": {
           "aaxis": {
            "gridcolor": "white",
            "linecolor": "white",
            "ticks": ""
           },
           "baxis": {
            "gridcolor": "white",
            "linecolor": "white",
            "ticks": ""
           },
           "bgcolor": "#E5ECF6",
           "caxis": {
            "gridcolor": "white",
            "linecolor": "white",
            "ticks": ""
           }
          },
          "title": {
           "x": 0.05
          },
          "xaxis": {
           "automargin": true,
           "gridcolor": "white",
           "linecolor": "white",
           "ticks": "",
           "title": {
            "standoff": 15
           },
           "zerolinecolor": "white",
           "zerolinewidth": 2
          },
          "yaxis": {
           "automargin": true,
           "gridcolor": "white",
           "linecolor": "white",
           "ticks": "",
           "title": {
            "standoff": 15
           },
           "zerolinecolor": "white",
           "zerolinewidth": 2
          }
         }
        },
        "title": {
         "font": {
          "color": "#4D5663"
         },
         "text": "Risultato giornaliero (R)"
        },
        "xaxis": {
         "gridcolor": "#E1E5ED",
         "showgrid": true,
         "tickfont": {
          "color": "#4D5663"
         },
         "title": {
          "font": {
           "color": "#4D5663"
          },
          "text": ""
         },
         "zerolinecolor": "grey"
        },
        "yaxis": {
         "gridcolor": "#E1E5ED",
         "showgrid": true,
         "tickfont": {
          "color": "#4D5663"
         },
         "title": {
          "font": {
           "color": "#4D5663"
          },
          "text": "R"
         },
         "zerolinecolor": "grey"
        }
       }
      },
      "text/html": [
       "<div>                            <div id=\"7e505de6-7522-495d-a18c-17fe8c680a9e\" class=\"plotly-graph-div\" style=\"height:525px; width:100%;\"></div>            <script type=\"text/javascript\">                require([\"plotly\"], function(Plotly) {                    window.PLOTLYENV=window.PLOTLYENV || {};                                    if (document.getElementById(\"7e505de6-7522-495d-a18c-17fe8c680a9e\")) {                    Plotly.newPlot(                        \"7e505de6-7522-495d-a18c-17fe8c680a9e\",                        [{\"marker\":{\"color\":\"rgba(55, 128, 191, 1)\",\"line\":{\"color\":\"rgba(55, 128, 191, 1.0)\",\"width\":1}},\"name\":\"result\",\"orientation\":\"v\",\"text\":\"\",\"x\":[\"2020-11-05 00:00:00+00:00\",\"2020-11-06 00:00:00+00:00\",\"2020-11-07 00:00:00+00:00\",\"2020-11-08 00:00:00+00:00\",\"2020-11-09 00:00:00+00:00\",\"2020-11-10 00:00:00+00:00\",\"2020-11-11 00:00:00+00:00\",\"2020-11-12 00:00:00+00:00\",\"2020-11-13 00:00:00+00:00\",\"2020-11-14 00:00:00+00:00\",\"2020-11-15 00:00:00+00:00\",\"2020-11-16 00:00:00+00:00\",\"2020-11-17 00:00:00+00:00\",\"2020-11-18 00:00:00+00:00\",\"2020-11-19 00:00:00+00:00\",\"2020-11-20 00:00:00+00:00\",\"2020-11-21 00:00:00+00:00\",\"2020-11-22 00:00:00+00:00\",\"2020-11-23 00:00:00+00:00\",\"2020-11-24 00:00:00+00:00\",\"2020-11-25 00:00:00+00:00\",\"2020-11-26 00:00:00+00:00\",\"2020-11-27 00:00:00+00:00\",\"2020-11-28 00:00:00+00:00\",\"2020-11-29 00:00:00+00:00\",\"2020-11-30 00:00:00+00:00\",\"2020-12-01 00:00:00+00:00\",\"2020-12-02 00:00:00+00:00\",\"2020-12-03 00:00:00+00:00\",\"2020-12-04 00:00:00+00:00\",\"2020-12-05 00:00:00+00:00\",\"2020-12-06 00:00:00+00:00\",\"2020-12-07 00:00:00+00:00\",\"2020-12-08 00:00:00+00:00\",\"2020-12-09 00:00:00+00:00\",\"2020-12-10 00:00:00+00:00\",\"2020-12-11 00:00:00+00:00\",\"2020-12-12 00:00:00+00:00\",\"2020-12-13 00:00:00+00:00\",\"2020-12-14 00:00:00+00:00\",\"2020-12-15 00:00:00+00:00\",\"2020-12-16 00:00:00+00:00\",\"2020-12-17 00:00:00+00:00\",\"2020-12-18 00:00:00+00:00\",\"2020-12-19 00:00:00+00:00\",\"2020-12-20 00:00:00+00:00\",\"2020-12-21 00:00:00+00:00\",\"2020-12-22 00:00:00+00:00\",\"2020-12-23 00:00:00+00:00\",\"2020-12-24 00:00:00+00:00\",\"2020-12-25 00:00:00+00:00\",\"2020-12-26 00:00:00+00:00\",\"2020-12-27 00:00:00+00:00\",\"2020-12-28 00:00:00+00:00\",\"2020-12-29 00:00:00+00:00\",\"2020-12-30 00:00:00+00:00\",\"2020-12-31 00:00:00+00:00\",\"2021-01-01 00:00:00+00:00\",\"2021-01-02 00:00:00+00:00\",\"2021-01-03 00:00:00+00:00\",\"2021-01-04 00:00:00+00:00\",\"2021-01-05 00:00:00+00:00\",\"2021-01-06 00:00:00+00:00\",\"2021-01-07 00:00:00+00:00\",\"2021-01-08 00:00:00+00:00\",\"2021-01-09 00:00:00+00:00\",\"2021-01-10 00:00:00+00:00\",\"2021-01-11 00:00:00+00:00\",\"2021-01-12 00:00:00+00:00\",\"2021-01-13 00:00:00+00:00\",\"2021-01-14 00:00:00+00:00\",\"2021-01-15 00:00:00+00:00\",\"2021-01-16 00:00:00+00:00\",\"2021-01-17 00:00:00+00:00\",\"2021-01-18 00:00:00+00:00\",\"2021-01-19 00:00:00+00:00\",\"2021-01-20 00:00:00+00:00\",\"2021-01-21 00:00:00+00:00\",\"2021-01-22 00:00:00+00:00\",\"2021-01-23 00:00:00+00:00\",\"2021-01-24 00:00:00+00:00\",\"2021-01-25 00:00:00+00:00\",\"2021-01-26 00:00:00+00:00\",\"2021-01-27 00:00:00+00:00\",\"2021-01-28 00:00:00+00:00\",\"2021-01-29 00:00:00+00:00\",\"2021-01-30 00:00:00+00:00\",\"2021-01-31 00:00:00+00:00\",\"2021-02-01 00:00:00+00:00\",\"2021-02-02 00:00:00+00:00\",\"2021-02-03 00:00:00+00:00\",\"2021-02-04 00:00:00+00:00\",\"2021-02-05 00:00:00+00:00\",\"2021-02-06 00:00:00+00:00\",\"2021-02-07 00:00:00+00:00\",\"2021-02-08 00:00:00+00:00\",\"2021-02-09 00:00:00+00:00\",\"2021-02-10 00:00:00+00:00\",\"2021-02-11 00:00:00+00:00\",\"2021-02-12 00:00:00+00:00\",\"2021-02-13 00:00:00+00:00\",\"2021-02-14 00:00:00+00:00\",\"2021-02-15 00:00:00+00:00\",\"2021-02-16 00:00:00+00:00\",\"2021-02-17 00:00:00+00:00\",\"2021-02-18 00:00:00+00:00\",\"2021-02-19 00:00:00+00:00\",\"2021-02-20 00:00:00+00:00\",\"2021-02-21 00:00:00+00:00\",\"2021-02-22 00:00:00+00:00\",\"2021-02-23 00:00:00+00:00\",\"2021-02-24 00:00:00+00:00\",\"2021-02-25 00:00:00+00:00\",\"2021-02-26 00:00:00+00:00\",\"2021-02-27 00:00:00+00:00\",\"2021-02-28 00:00:00+00:00\",\"2021-03-01 00:00:00+00:00\",\"2021-03-02 00:00:00+00:00\",\"2021-03-03 00:00:00+00:00\",\"2021-03-04 00:00:00+00:00\",\"2021-03-05 00:00:00+00:00\",\"2021-03-06 00:00:00+00:00\",\"2021-03-07 00:00:00+00:00\",\"2021-03-08 00:00:00+00:00\",\"2021-03-09 00:00:00+00:00\",\"2021-03-10 00:00:00+00:00\",\"2021-03-11 00:00:00+00:00\",\"2021-03-12 00:00:00+00:00\",\"2021-03-13 00:00:00+00:00\",\"2021-03-14 00:00:00+00:00\",\"2021-03-15 00:00:00+00:00\",\"2021-03-16 00:00:00+00:00\",\"2021-03-17 00:00:00+00:00\",\"2021-03-18 00:00:00+00:00\",\"2021-03-19 00:00:00+00:00\",\"2021-03-20 00:00:00+00:00\",\"2021-03-21 00:00:00+00:00\",\"2021-03-22 00:00:00+00:00\",\"2021-03-23 00:00:00+00:00\",\"2021-03-24 00:00:00+00:00\",\"2021-03-25 00:00:00+00:00\",\"2021-03-26 00:00:00+00:00\",\"2021-03-27 00:00:00+00:00\",\"2021-03-28 00:00:00+00:00\",\"2021-03-29 00:00:00+00:00\",\"2021-03-30 00:00:00+00:00\",\"2021-03-31 00:00:00+00:00\",\"2021-04-01 00:00:00+00:00\",\"2021-04-02 00:00:00+00:00\",\"2021-04-03 00:00:00+00:00\",\"2021-04-04 00:00:00+00:00\",\"2021-04-05 00:00:00+00:00\",\"2021-04-06 00:00:00+00:00\",\"2021-04-07 00:00:00+00:00\",\"2021-04-08 00:00:00+00:00\",\"2021-04-09 00:00:00+00:00\",\"2021-04-10 00:00:00+00:00\",\"2021-04-11 00:00:00+00:00\",\"2021-04-12 00:00:00+00:00\",\"2021-04-13 00:00:00+00:00\",\"2021-04-14 00:00:00+00:00\",\"2021-04-15 00:00:00+00:00\",\"2021-04-16 00:00:00+00:00\",\"2021-04-17 00:00:00+00:00\",\"2021-04-18 00:00:00+00:00\",\"2021-04-19 00:00:00+00:00\",\"2021-04-20 00:00:00+00:00\",\"2021-04-21 00:00:00+00:00\",\"2021-04-22 00:00:00+00:00\",\"2021-04-23 00:00:00+00:00\",\"2021-04-24 00:00:00+00:00\",\"2021-04-25 00:00:00+00:00\",\"2021-04-26 00:00:00+00:00\",\"2021-04-27 00:00:00+00:00\",\"2021-04-28 00:00:00+00:00\",\"2021-04-29 00:00:00+00:00\",\"2021-04-30 00:00:00+00:00\",\"2021-05-01 00:00:00+00:00\",\"2021-05-02 00:00:00+00:00\",\"2021-05-03 00:00:00+00:00\",\"2021-05-04 00:00:00+00:00\",\"2021-05-05 00:00:00+00:00\",\"2021-05-06 00:00:00+00:00\",\"2021-05-07 00:00:00+00:00\",\"2021-05-08 00:00:00+00:00\",\"2021-05-09 00:00:00+00:00\",\"2021-05-10 00:00:00+00:00\",\"2021-05-11 00:00:00+00:00\",\"2021-05-12 00:00:00+00:00\",\"2021-05-13 00:00:00+00:00\",\"2021-05-14 00:00:00+00:00\",\"2021-05-15 00:00:00+00:00\",\"2021-05-16 00:00:00+00:00\",\"2021-05-17 00:00:00+00:00\",\"2021-05-18 00:00:00+00:00\",\"2021-05-19 00:00:00+00:00\",\"2021-05-20 00:00:00+00:00\",\"2021-05-21 00:00:00+00:00\",\"2021-05-22 00:00:00+00:00\",\"2021-05-23 00:00:00+00:00\",\"2021-05-24 00:00:00+00:00\",\"2021-05-25 00:00:00+00:00\",\"2021-05-26 00:00:00+00:00\",\"2021-05-27 00:00:00+00:00\",\"2021-05-28 00:00:00+00:00\",\"2021-05-29 00:00:00+00:00\",\"2021-05-30 00:00:00+00:00\",\"2021-05-31 00:00:00+00:00\",\"2021-06-01 00:00:00+00:00\",\"2021-06-02 00:00:00+00:00\",\"2021-06-03 00:00:00+00:00\",\"2021-06-04 00:00:00+00:00\",\"2021-06-05 00:00:00+00:00\",\"2021-06-06 00:00:00+00:00\",\"2021-06-07 00:00:00+00:00\",\"2021-06-08 00:00:00+00:00\",\"2021-06-09 00:00:00+00:00\",\"2021-06-10 00:00:00+00:00\",\"2021-06-11 00:00:00+00:00\",\"2021-06-12 00:00:00+00:00\",\"2021-06-13 00:00:00+00:00\",\"2021-06-14 00:00:00+00:00\",\"2021-06-15 00:00:00+00:00\",\"2021-06-16 00:00:00+00:00\",\"2021-06-17 00:00:00+00:00\",\"2021-06-18 00:00:00+00:00\",\"2021-06-19 00:00:00+00:00\",\"2021-06-20 00:00:00+00:00\",\"2021-06-21 00:00:00+00:00\",\"2021-06-22 00:00:00+00:00\",\"2021-06-23 00:00:00+00:00\",\"2021-06-24 00:00:00+00:00\",\"2021-06-25 00:00:00+00:00\",\"2021-06-26 00:00:00+00:00\",\"2021-06-27 00:00:00+00:00\",\"2021-06-28 00:00:00+00:00\",\"2021-06-29 00:00:00+00:00\",\"2021-06-30 00:00:00+00:00\",\"2021-07-01 00:00:00+00:00\",\"2021-07-02 00:00:00+00:00\",\"2021-07-03 00:00:00+00:00\",\"2021-07-04 00:00:00+00:00\",\"2021-07-05 00:00:00+00:00\",\"2021-07-06 00:00:00+00:00\",\"2021-07-07 00:00:00+00:00\",\"2021-07-08 00:00:00+00:00\",\"2021-07-09 00:00:00+00:00\",\"2021-07-10 00:00:00+00:00\",\"2021-07-11 00:00:00+00:00\",\"2021-07-12 00:00:00+00:00\",\"2021-07-13 00:00:00+00:00\",\"2021-07-14 00:00:00+00:00\",\"2021-07-15 00:00:00+00:00\",\"2021-07-16 00:00:00+00:00\",\"2021-07-17 00:00:00+00:00\",\"2021-07-18 00:00:00+00:00\",\"2021-07-19 00:00:00+00:00\",\"2021-07-20 00:00:00+00:00\",\"2021-07-21 00:00:00+00:00\",\"2021-07-22 00:00:00+00:00\",\"2021-07-23 00:00:00+00:00\",\"2021-07-24 00:00:00+00:00\",\"2021-07-25 00:00:00+00:00\",\"2021-07-26 00:00:00+00:00\",\"2021-07-27 00:00:00+00:00\",\"2021-07-28 00:00:00+00:00\",\"2021-07-29 00:00:00+00:00\",\"2021-07-30 00:00:00+00:00\",\"2021-07-31 00:00:00+00:00\",\"2021-08-01 00:00:00+00:00\",\"2021-08-02 00:00:00+00:00\",\"2021-08-03 00:00:00+00:00\",\"2021-08-04 00:00:00+00:00\",\"2021-08-05 00:00:00+00:00\",\"2021-08-06 00:00:00+00:00\",\"2021-08-07 00:00:00+00:00\",\"2021-08-08 00:00:00+00:00\",\"2021-08-09 00:00:00+00:00\",\"2021-08-10 00:00:00+00:00\",\"2021-08-11 00:00:00+00:00\",\"2021-08-12 00:00:00+00:00\",\"2021-08-13 00:00:00+00:00\",\"2021-08-14 00:00:00+00:00\",\"2021-08-15 00:00:00+00:00\",\"2021-08-16 00:00:00+00:00\",\"2021-08-17 00:00:00+00:00\",\"2021-08-18 00:00:00+00:00\",\"2021-08-19 00:00:00+00:00\",\"2021-08-20 00:00:00+00:00\",\"2021-08-21 00:00:00+00:00\",\"2021-08-22 00:00:00+00:00\",\"2021-08-23 00:00:00+00:00\",\"2021-08-24 00:00:00+00:00\",\"2021-08-25 00:00:00+00:00\",\"2021-08-26 00:00:00+00:00\",\"2021-08-27 00:00:00+00:00\",\"2021-08-28 00:00:00+00:00\",\"2021-08-29 00:00:00+00:00\",\"2021-08-30 00:00:00+00:00\",\"2021-08-31 00:00:00+00:00\",\"2021-09-01 00:00:00+00:00\",\"2021-09-02 00:00:00+00:00\",\"2021-09-03 00:00:00+00:00\",\"2021-09-04 00:00:00+00:00\",\"2021-09-05 00:00:00+00:00\",\"2021-09-06 00:00:00+00:00\",\"2021-09-07 00:00:00+00:00\",\"2021-09-08 00:00:00+00:00\",\"2021-09-09 00:00:00+00:00\",\"2021-09-10 00:00:00+00:00\",\"2021-09-11 00:00:00+00:00\",\"2021-09-12 00:00:00+00:00\",\"2021-09-13 00:00:00+00:00\",\"2021-09-14 00:00:00+00:00\",\"2021-09-15 00:00:00+00:00\",\"2021-09-16 00:00:00+00:00\",\"2021-09-17 00:00:00+00:00\",\"2021-09-18 00:00:00+00:00\",\"2021-09-19 00:00:00+00:00\",\"2021-09-20 00:00:00+00:00\",\"2021-09-21 00:00:00+00:00\",\"2021-09-22 00:00:00+00:00\",\"2021-09-23 00:00:00+00:00\",\"2021-09-24 00:00:00+00:00\",\"2021-09-25 00:00:00+00:00\",\"2021-09-26 00:00:00+00:00\",\"2021-09-27 00:00:00+00:00\",\"2021-09-28 00:00:00+00:00\",\"2021-09-29 00:00:00+00:00\",\"2021-09-30 00:00:00+00:00\",\"2021-10-01 00:00:00+00:00\",\"2021-10-02 00:00:00+00:00\",\"2021-10-03 00:00:00+00:00\",\"2021-10-04 00:00:00+00:00\",\"2021-10-05 00:00:00+00:00\",\"2021-10-06 00:00:00+00:00\",\"2021-10-07 00:00:00+00:00\",\"2021-10-08 00:00:00+00:00\",\"2021-10-09 00:00:00+00:00\",\"2021-10-10 00:00:00+00:00\",\"2021-10-11 00:00:00+00:00\",\"2021-10-12 00:00:00+00:00\",\"2021-10-13 00:00:00+00:00\",\"2021-10-14 00:00:00+00:00\",\"2021-10-15 00:00:00+00:00\",\"2021-10-16 00:00:00+00:00\",\"2021-10-17 00:00:00+00:00\",\"2021-10-18 00:00:00+00:00\",\"2021-10-19 00:00:00+00:00\",\"2021-10-20 00:00:00+00:00\",\"2021-10-21 00:00:00+00:00\",\"2021-10-22 00:00:00+00:00\",\"2021-10-23 00:00:00+00:00\",\"2021-10-24 00:00:00+00:00\",\"2021-10-25 00:00:00+00:00\",\"2021-10-26 00:00:00+00:00\",\"2021-10-27 00:00:00+00:00\",\"2021-10-28 00:00:00+00:00\",\"2021-10-29 00:00:00+00:00\",\"2021-10-30 00:00:00+00:00\",\"2021-10-31 00:00:00+00:00\",\"2021-11-01 00:00:00+00:00\",\"2021-11-02 00:00:00+00:00\",\"2021-11-03 00:00:00+00:00\",\"2021-11-04 00:00:00+00:00\",\"2021-11-05 00:00:00+00:00\",\"2021-11-06 00:00:00+00:00\",\"2021-11-07 00:00:00+00:00\",\"2021-11-08 00:00:00+00:00\",\"2021-11-09 00:00:00+00:00\",\"2021-11-10 00:00:00+00:00\",\"2021-11-11 00:00:00+00:00\",\"2021-11-12 00:00:00+00:00\",\"2021-11-13 00:00:00+00:00\",\"2021-11-14 00:00:00+00:00\",\"2021-11-15 00:00:00+00:00\",\"2021-11-16 00:00:00+00:00\",\"2021-11-17 00:00:00+00:00\",\"2021-11-18 00:00:00+00:00\",\"2021-11-19 00:00:00+00:00\",\"2021-11-20 00:00:00+00:00\",\"2021-11-21 00:00:00+00:00\",\"2021-11-22 00:00:00+00:00\",\"2021-11-23 00:00:00+00:00\",\"2021-11-24 00:00:00+00:00\",\"2021-11-25 00:00:00+00:00\",\"2021-11-26 00:00:00+00:00\",\"2021-11-27 00:00:00+00:00\",\"2021-11-28 00:00:00+00:00\",\"2021-11-29 00:00:00+00:00\",\"2021-11-30 00:00:00+00:00\",\"2021-12-01 00:00:00+00:00\",\"2021-12-02 00:00:00+00:00\",\"2021-12-03 00:00:00+00:00\",\"2021-12-04 00:00:00+00:00\",\"2021-12-05 00:00:00+00:00\",\"2021-12-06 00:00:00+00:00\",\"2021-12-07 00:00:00+00:00\",\"2021-12-08 00:00:00+00:00\",\"2021-12-09 00:00:00+00:00\",\"2021-12-10 00:00:00+00:00\",\"2021-12-11 00:00:00+00:00\",\"2021-12-12 00:00:00+00:00\",\"2021-12-13 00:00:00+00:00\",\"2021-12-14 00:00:00+00:00\",\"2021-12-15 00:00:00+00:00\",\"2021-12-16 00:00:00+00:00\",\"2021-12-17 00:00:00+00:00\",\"2021-12-18 00:00:00+00:00\",\"2021-12-19 00:00:00+00:00\",\"2021-12-20 00:00:00+00:00\",\"2021-12-21 00:00:00+00:00\",\"2021-12-22 00:00:00+00:00\",\"2021-12-23 00:00:00+00:00\",\"2021-12-24 00:00:00+00:00\",\"2021-12-25 00:00:00+00:00\",\"2021-12-26 00:00:00+00:00\",\"2021-12-27 00:00:00+00:00\",\"2021-12-28 00:00:00+00:00\",\"2021-12-29 00:00:00+00:00\",\"2021-12-30 00:00:00+00:00\",\"2021-12-31 00:00:00+00:00\",\"2022-01-01 00:00:00+00:00\",\"2022-01-02 00:00:00+00:00\",\"2022-01-03 00:00:00+00:00\",\"2022-01-04 00:00:00+00:00\",\"2022-01-05 00:00:00+00:00\",\"2022-01-06 00:00:00+00:00\",\"2022-01-07 00:00:00+00:00\",\"2022-01-08 00:00:00+00:00\",\"2022-01-09 00:00:00+00:00\",\"2022-01-10 00:00:00+00:00\",\"2022-01-11 00:00:00+00:00\",\"2022-01-12 00:00:00+00:00\",\"2022-01-13 00:00:00+00:00\",\"2022-01-14 00:00:00+00:00\",\"2022-01-15 00:00:00+00:00\",\"2022-01-16 00:00:00+00:00\",\"2022-01-17 00:00:00+00:00\",\"2022-01-18 00:00:00+00:00\",\"2022-01-19 00:00:00+00:00\",\"2022-01-20 00:00:00+00:00\",\"2022-01-21 00:00:00+00:00\",\"2022-01-22 00:00:00+00:00\",\"2022-01-23 00:00:00+00:00\",\"2022-01-24 00:00:00+00:00\",\"2022-01-25 00:00:00+00:00\",\"2022-01-26 00:00:00+00:00\",\"2022-01-27 00:00:00+00:00\",\"2022-01-28 00:00:00+00:00\",\"2022-01-29 00:00:00+00:00\",\"2022-01-30 00:00:00+00:00\",\"2022-01-31 00:00:00+00:00\",\"2022-02-01 00:00:00+00:00\"],\"y\":[-2.0036496350363597,-0.02213114754087961,0.0,0.0,-0.036290322580589236,0.0,-2.004999999999909,0.0,0.0,0.0,0.0,0.0,0.0,0.0,0.0,0.0,0.0,0.0,0.0,0.0,0.0,0.0,0.0,0.0,0.0,1.8809523809524027,1.7381902420772897,0.0,0.0,-0.9954128440368871,0.0,0.0,0.5004424778761188,0.0,0.40000000000001507,-0.9950495049506031,0.36652173913044245,0.0,0.0,0.0,0.0,2.4600000000000932,0.1691729323308424,-1.1484275849197636,0.0,0.0,0.9927184466020047,-2.001798561150955,0.0,0.0,0.0,0.0,0.0,0.0,0.0,0.13106796116506733,-1.0029761904761578,0.0,0.0,0.0,1.4171974522292414,0.4296874999999644,0.0,0.5162011173184236,-0.5039106145251507,0.0,0.0,0.4859504132231873,0.9680306905371053,0.0,0.0,1.318954248365995,0.0,0.0,0.0,-1.000000000000077,0.9137931034482287,-0.40596403490099253,-1.0051546391752226,0.0,0.0,0.86800000000012,0.7820512820512631,0.0,-1.0029940119759866,-2.0000000000000915,0.0,0.0,-2.917787002337519,-0.9964539007092409,1.4435863519195604,0.0,-1.003448275862058,0.0,0.0,0.8345744680850246,-0.9989106753812715,0.0,0.0,0.0,0.0,0.0,0.0,-1.000000000000038,1.30660377358479,1.4166666666667047,0.0,0.0,0.0,1.4033112582780891,1.457575757575738,0.5029411764706072,-2.00877775976672,0.0,0.0,0.0,0.045044642857083095,1.0643968871594878,2.5399014410513088,0.0,0.5714285714285932,0.0,0.0,0.0,1.0958380337747466,1.3981106612683967,0.0,-0.29885714285715415,0.0,0.0,0.14137931034483497,-0.8135593220340442,0.9007633587788965,-0.5794979079496051,-0.9757724463831533,0.0,0.0,0.08206280963673641,-0.4688311688313148,-1.0689484126985966,-0.06000000000009702,-1.0028735632183607,0.0,0.0,1.569097848299078,1.1515009380863002,1.2412790697675358,0.6438623523369522,0.0,0.0,0.0,0.8767857142857168,2.564953144710699,-1.0384180790958704,0.725748450728849,1.438650306748448,0.0,0.0,-0.6197183098595167,1.5830140075074919,-0.2358288082562947,0.0,0.7996323529411389,0.0,0.0,-0.7812260536400979,0.605217149206362,3.563328495403814,-1.183485081532896,-1.9950000000000325,0.0,0.0,-0.09698795180735909,1.3957219251336364,-1.0000000000000138,-0.9116541353383676,-4.239593170127265,0.0,0.0,0.39374999999998356,2.1391729323308883,-0.2811487481589432,0.04589322960701425,0.6275862068966082,0.0,0.0,-1.287742625905542,-2.7005799755798914,-1.0020080321284794,-0.37348066298356,-0.07434551284300839,0.0,0.0,0.5707317073170532,0.0,0.5112089201876476,1.8521505376343987,0.0,0.0,0.0,0.9086956521738805,0.0,1.5701306506401562,-1.4427198500870717,0.0,0.0,0.0,0.0,0.0,0.0,0.0,0.0,0.0,0.0,0.0,-5.007001507268672,1.6340206185567845,2.022900763358776,0.5819672131146907,0.0,0.0,-0.026785714285757593,1.3039670555937246,0.0,-1.0039062499999847,0.0,0.0,0.0,0.09817351598187829,-1.4671328671328574,0.0,0.0,0.0,0.0,0.0,0.0,0.0,-1.000000000000038,-2.0026881720429985,0.0,0.0,0.0,0.0,-0.5669979887487083,0.5320590914027825,0.9814814814814076,-0.09756097560953347,0.0,0.0,-1.3813101815310713,-0.1031250000000483,0.7035714285714383,1.2672955974842681,0.8201923076923161,0.0,0.0,-0.9999999999999671,-0.9063926940638046,1.3224852071005326,1.3731884057971704,0.3189655172412025,0.0,0.0,2.759905421381554,-3.6036567269738327,0.0,2.1902654867256337,1.1666666666667485,0.0,0.0,0.24440894568693292,0.973568281938317,0.5231092436974332,1.2286245353160088,0.0,0.0,0.0,1.4603822207174635,1.1642512077295355,-1.1693183794124542,-2.9970930232556983,0.5427745664740665,0.0,0.0,0.3274853801169062,-4.002577319587164,1.7736433053691567,-4.747967660815578,-1.695457210527243,0.0,0.0,1.910827107476997,0.4063991068278643,0.4840206185566827,-0.23231474407939323,1.282165605095563,0.0,0.0,0.907632083067107,1.263057324840767,-1.0000000000000884,1.0415204678361942,0.0,0.0,0.0,0.14482758620690206,1.8002148227711152,2.3432798702470055,0.0,0.0,0.0,0.0,0.801137113447366,0.0,0.8301587301586789,1.1218487394959245,-0.9999999999999509,0.0,0.0,-2.0034965034963905,0.0,0.0,0.45330349764627503,0.6260204081632527,0.0,0.0,0.5091743119266118,-1.000000000000113,-0.4272928102825483,0.21541666666666498,0.7215189873417756,0.0,0.0,2.4230769230768425,1.4034334763948908,0.0,0.9295774647887478,1.6229508196721771,0.0,0.0,0.0,1.638047191970857,1.445414847161573,0.0,0.0,0.0,0.0,0.0,0.0,0.0,0.0,0.0,0.0,0.0,-1.6177909806790836,0.0,-3.0014662756597517,-1.0031446540879245,0.0,0.0,0.0,0.4458098624065397,0.2441685953999282,1.614525139664765,-3.2363636363636417,0.0,0.0,0.0,0.6049250749250805,-0.6614783628671284,0.0,0.8906832298136808,0.0,0.0,0.0,0.0,0.0,0.09248554913289672,-0.4062093788564032,0.0,0.0,0.0,-0.9975000000000023,0.0,-3.5651530787754018,0.0,0.0,0.0,0.0,0.8333333333333097,-4.994378306878543,0.0,0.21975806451606172,-1.054525045919347,0.0,0.0,1.222222222222295,-5.001155165694566,2.431707671847695,-1.3563963449457215,0.0,0.0,0.0,1.3392344497607007,1.4082568807339158,-0.9999999999999287,1.3271028037383328,1.9016886645963182,0.0,0.0,1.0948616600790442,1.458536585365858,0.0,0.0,0.0,0.0,0.0,1.2365384615384902,0.0,0.0,0.0,0.0,0.0,0.0,0.0,2.7376690360610105,0.45143766461798673,1.3625468164794559,0.0,0.0,0.0,0.0,0.0,0.43277777777777576,0.7043478260869831,-0.3931296773402404,0.0,0.0,-0.3262883235486216,0.48676470588237836,1.968553459119494,-3.004630121275155,0.0,0.0,0.0,-0.47334452986621267,0.5933628318584107,1.2535211267605175,0.5893401015228433,0.0,0.0,0.0,0.3929752066115793,1.443661971830954],\"type\":\"bar\"}],                        {\"legend\":{\"bgcolor\":\"#FFFFFF\",\"font\":{\"color\":\"#4D5663\"}},\"paper_bgcolor\":\"#FFFFFF\",\"plot_bgcolor\":\"#FFFFFF\",\"template\":{\"data\":{\"barpolar\":[{\"marker\":{\"line\":{\"color\":\"#E5ECF6\",\"width\":0.5},\"pattern\":{\"fillmode\":\"overlay\",\"size\":10,\"solidity\":0.2}},\"type\":\"barpolar\"}],\"bar\":[{\"error_x\":{\"color\":\"#2a3f5f\"},\"error_y\":{\"color\":\"#2a3f5f\"},\"marker\":{\"line\":{\"color\":\"#E5ECF6\",\"width\":0.5},\"pattern\":{\"fillmode\":\"overlay\",\"size\":10,\"solidity\":0.2}},\"type\":\"bar\"}],\"carpet\":[{\"aaxis\":{\"endlinecolor\":\"#2a3f5f\",\"gridcolor\":\"white\",\"linecolor\":\"white\",\"minorgridcolor\":\"white\",\"startlinecolor\":\"#2a3f5f\"},\"baxis\":{\"endlinecolor\":\"#2a3f5f\",\"gridcolor\":\"white\",\"linecolor\":\"white\",\"minorgridcolor\":\"white\",\"startlinecolor\":\"#2a3f5f\"},\"type\":\"carpet\"}],\"choropleth\":[{\"colorbar\":{\"outlinewidth\":0,\"ticks\":\"\"},\"type\":\"choropleth\"}],\"contourcarpet\":[{\"colorbar\":{\"outlinewidth\":0,\"ticks\":\"\"},\"type\":\"contourcarpet\"}],\"contour\":[{\"colorbar\":{\"outlinewidth\":0,\"ticks\":\"\"},\"colorscale\":[[0.0,\"#0d0887\"],[0.1111111111111111,\"#46039f\"],[0.2222222222222222,\"#7201a8\"],[0.3333333333333333,\"#9c179e\"],[0.4444444444444444,\"#bd3786\"],[0.5555555555555556,\"#d8576b\"],[0.6666666666666666,\"#ed7953\"],[0.7777777777777778,\"#fb9f3a\"],[0.8888888888888888,\"#fdca26\"],[1.0,\"#f0f921\"]],\"type\":\"contour\"}],\"heatmapgl\":[{\"colorbar\":{\"outlinewidth\":0,\"ticks\":\"\"},\"colorscale\":[[0.0,\"#0d0887\"],[0.1111111111111111,\"#46039f\"],[0.2222222222222222,\"#7201a8\"],[0.3333333333333333,\"#9c179e\"],[0.4444444444444444,\"#bd3786\"],[0.5555555555555556,\"#d8576b\"],[0.6666666666666666,\"#ed7953\"],[0.7777777777777778,\"#fb9f3a\"],[0.8888888888888888,\"#fdca26\"],[1.0,\"#f0f921\"]],\"type\":\"heatmapgl\"}],\"heatmap\":[{\"colorbar\":{\"outlinewidth\":0,\"ticks\":\"\"},\"colorscale\":[[0.0,\"#0d0887\"],[0.1111111111111111,\"#46039f\"],[0.2222222222222222,\"#7201a8\"],[0.3333333333333333,\"#9c179e\"],[0.4444444444444444,\"#bd3786\"],[0.5555555555555556,\"#d8576b\"],[0.6666666666666666,\"#ed7953\"],[0.7777777777777778,\"#fb9f3a\"],[0.8888888888888888,\"#fdca26\"],[1.0,\"#f0f921\"]],\"type\":\"heatmap\"}],\"histogram2dcontour\":[{\"colorbar\":{\"outlinewidth\":0,\"ticks\":\"\"},\"colorscale\":[[0.0,\"#0d0887\"],[0.1111111111111111,\"#46039f\"],[0.2222222222222222,\"#7201a8\"],[0.3333333333333333,\"#9c179e\"],[0.4444444444444444,\"#bd3786\"],[0.5555555555555556,\"#d8576b\"],[0.6666666666666666,\"#ed7953\"],[0.7777777777777778,\"#fb9f3a\"],[0.8888888888888888,\"#fdca26\"],[1.0,\"#f0f921\"]],\"type\":\"histogram2dcontour\"}],\"histogram2d\":[{\"colorbar\":{\"outlinewidth\":0,\"ticks\":\"\"},\"colorscale\":[[0.0,\"#0d0887\"],[0.1111111111111111,\"#46039f\"],[0.2222222222222222,\"#7201a8\"],[0.3333333333333333,\"#9c179e\"],[0.4444444444444444,\"#bd3786\"],[0.5555555555555556,\"#d8576b\"],[0.6666666666666666,\"#ed7953\"],[0.7777777777777778,\"#fb9f3a\"],[0.8888888888888888,\"#fdca26\"],[1.0,\"#f0f921\"]],\"type\":\"histogram2d\"}],\"histogram\":[{\"marker\":{\"pattern\":{\"fillmode\":\"overlay\",\"size\":10,\"solidity\":0.2}},\"type\":\"histogram\"}],\"mesh3d\":[{\"colorbar\":{\"outlinewidth\":0,\"ticks\":\"\"},\"type\":\"mesh3d\"}],\"parcoords\":[{\"line\":{\"colorbar\":{\"outlinewidth\":0,\"ticks\":\"\"}},\"type\":\"parcoords\"}],\"pie\":[{\"automargin\":true,\"type\":\"pie\"}],\"scatter3d\":[{\"line\":{\"colorbar\":{\"outlinewidth\":0,\"ticks\":\"\"}},\"marker\":{\"colorbar\":{\"outlinewidth\":0,\"ticks\":\"\"}},\"type\":\"scatter3d\"}],\"scattercarpet\":[{\"marker\":{\"colorbar\":{\"outlinewidth\":0,\"ticks\":\"\"}},\"type\":\"scattercarpet\"}],\"scattergeo\":[{\"marker\":{\"colorbar\":{\"outlinewidth\":0,\"ticks\":\"\"}},\"type\":\"scattergeo\"}],\"scattergl\":[{\"marker\":{\"colorbar\":{\"outlinewidth\":0,\"ticks\":\"\"}},\"type\":\"scattergl\"}],\"scattermapbox\":[{\"marker\":{\"colorbar\":{\"outlinewidth\":0,\"ticks\":\"\"}},\"type\":\"scattermapbox\"}],\"scatterpolargl\":[{\"marker\":{\"colorbar\":{\"outlinewidth\":0,\"ticks\":\"\"}},\"type\":\"scatterpolargl\"}],\"scatterpolar\":[{\"marker\":{\"colorbar\":{\"outlinewidth\":0,\"ticks\":\"\"}},\"type\":\"scatterpolar\"}],\"scatter\":[{\"marker\":{\"colorbar\":{\"outlinewidth\":0,\"ticks\":\"\"}},\"type\":\"scatter\"}],\"scatterternary\":[{\"marker\":{\"colorbar\":{\"outlinewidth\":0,\"ticks\":\"\"}},\"type\":\"scatterternary\"}],\"surface\":[{\"colorbar\":{\"outlinewidth\":0,\"ticks\":\"\"},\"colorscale\":[[0.0,\"#0d0887\"],[0.1111111111111111,\"#46039f\"],[0.2222222222222222,\"#7201a8\"],[0.3333333333333333,\"#9c179e\"],[0.4444444444444444,\"#bd3786\"],[0.5555555555555556,\"#d8576b\"],[0.6666666666666666,\"#ed7953\"],[0.7777777777777778,\"#fb9f3a\"],[0.8888888888888888,\"#fdca26\"],[1.0,\"#f0f921\"]],\"type\":\"surface\"}],\"table\":[{\"cells\":{\"fill\":{\"color\":\"#EBF0F8\"},\"line\":{\"color\":\"white\"}},\"header\":{\"fill\":{\"color\":\"#C8D4E3\"},\"line\":{\"color\":\"white\"}},\"type\":\"table\"}]},\"layout\":{\"annotationdefaults\":{\"arrowcolor\":\"#2a3f5f\",\"arrowhead\":0,\"arrowwidth\":1},\"autotypenumbers\":\"strict\",\"coloraxis\":{\"colorbar\":{\"outlinewidth\":0,\"ticks\":\"\"}},\"colorscale\":{\"diverging\":[[0,\"#8e0152\"],[0.1,\"#c51b7d\"],[0.2,\"#de77ae\"],[0.3,\"#f1b6da\"],[0.4,\"#fde0ef\"],[0.5,\"#f7f7f7\"],[0.6,\"#e6f5d0\"],[0.7,\"#b8e186\"],[0.8,\"#7fbc41\"],[0.9,\"#4d9221\"],[1,\"#276419\"]],\"sequential\":[[0.0,\"#0d0887\"],[0.1111111111111111,\"#46039f\"],[0.2222222222222222,\"#7201a8\"],[0.3333333333333333,\"#9c179e\"],[0.4444444444444444,\"#bd3786\"],[0.5555555555555556,\"#d8576b\"],[0.6666666666666666,\"#ed7953\"],[0.7777777777777778,\"#fb9f3a\"],[0.8888888888888888,\"#fdca26\"],[1.0,\"#f0f921\"]],\"sequentialminus\":[[0.0,\"#0d0887\"],[0.1111111111111111,\"#46039f\"],[0.2222222222222222,\"#7201a8\"],[0.3333333333333333,\"#9c179e\"],[0.4444444444444444,\"#bd3786\"],[0.5555555555555556,\"#d8576b\"],[0.6666666666666666,\"#ed7953\"],[0.7777777777777778,\"#fb9f3a\"],[0.8888888888888888,\"#fdca26\"],[1.0,\"#f0f921\"]]},\"colorway\":[\"#636efa\",\"#EF553B\",\"#00cc96\",\"#ab63fa\",\"#FFA15A\",\"#19d3f3\",\"#FF6692\",\"#B6E880\",\"#FF97FF\",\"#FECB52\"],\"font\":{\"color\":\"#2a3f5f\"},\"geo\":{\"bgcolor\":\"white\",\"lakecolor\":\"white\",\"landcolor\":\"#E5ECF6\",\"showlakes\":true,\"showland\":true,\"subunitcolor\":\"white\"},\"hoverlabel\":{\"align\":\"left\"},\"hovermode\":\"closest\",\"mapbox\":{\"style\":\"light\"},\"paper_bgcolor\":\"white\",\"plot_bgcolor\":\"#E5ECF6\",\"polar\":{\"angularaxis\":{\"gridcolor\":\"white\",\"linecolor\":\"white\",\"ticks\":\"\"},\"bgcolor\":\"#E5ECF6\",\"radialaxis\":{\"gridcolor\":\"white\",\"linecolor\":\"white\",\"ticks\":\"\"}},\"scene\":{\"xaxis\":{\"backgroundcolor\":\"#E5ECF6\",\"gridcolor\":\"white\",\"gridwidth\":2,\"linecolor\":\"white\",\"showbackground\":true,\"ticks\":\"\",\"zerolinecolor\":\"white\"},\"yaxis\":{\"backgroundcolor\":\"#E5ECF6\",\"gridcolor\":\"white\",\"gridwidth\":2,\"linecolor\":\"white\",\"showbackground\":true,\"ticks\":\"\",\"zerolinecolor\":\"white\"},\"zaxis\":{\"backgroundcolor\":\"#E5ECF6\",\"gridcolor\":\"white\",\"gridwidth\":2,\"linecolor\":\"white\",\"showbackground\":true,\"ticks\":\"\",\"zerolinecolor\":\"white\"}},\"shapedefaults\":{\"line\":{\"color\":\"#2a3f5f\"}},\"ternary\":{\"aaxis\":{\"gridcolor\":\"white\",\"linecolor\":\"white\",\"ticks\":\"\"},\"baxis\":{\"gridcolor\":\"white\",\"linecolor\":\"white\",\"ticks\":\"\"},\"bgcolor\":\"#E5ECF6\",\"caxis\":{\"gridcolor\":\"white\",\"linecolor\":\"white\",\"ticks\":\"\"}},\"title\":{\"x\":0.05},\"xaxis\":{\"automargin\":true,\"gridcolor\":\"white\",\"linecolor\":\"white\",\"ticks\":\"\",\"title\":{\"standoff\":15},\"zerolinecolor\":\"white\",\"zerolinewidth\":2},\"yaxis\":{\"automargin\":true,\"gridcolor\":\"white\",\"linecolor\":\"white\",\"ticks\":\"\",\"title\":{\"standoff\":15},\"zerolinecolor\":\"white\",\"zerolinewidth\":2}}},\"title\":{\"font\":{\"color\":\"#4D5663\"},\"text\":\"Risultato giornaliero (R)\"},\"xaxis\":{\"gridcolor\":\"#E1E5ED\",\"showgrid\":true,\"tickfont\":{\"color\":\"#4D5663\"},\"title\":{\"font\":{\"color\":\"#4D5663\"},\"text\":\"\"},\"zerolinecolor\":\"grey\"},\"yaxis\":{\"gridcolor\":\"#E1E5ED\",\"showgrid\":true,\"tickfont\":{\"color\":\"#4D5663\"},\"title\":{\"font\":{\"color\":\"#4D5663\"},\"text\":\"R\"},\"zerolinecolor\":\"grey\"}},                        {\"responsive\": true}                    ).then(function(){\n",
       "                            \n",
       "var gd = document.getElementById('7e505de6-7522-495d-a18c-17fe8c680a9e');\n",
       "var x = new MutationObserver(function (mutations, observer) {{\n",
       "        var display = window.getComputedStyle(gd).display;\n",
       "        if (!display || display === 'none') {{\n",
       "            console.log([gd, 'removed!']);\n",
       "            Plotly.purge(gd);\n",
       "            observer.disconnect();\n",
       "        }}\n",
       "}});\n",
       "\n",
       "// Listen for the removal of the full notebook cells\n",
       "var notebookContainer = gd.closest('#notebook-container');\n",
       "if (notebookContainer) {{\n",
       "    x.observe(notebookContainer, {childList: true});\n",
       "}}\n",
       "\n",
       "// Listen for the clearing of the current output cell\n",
       "var outputEl = gd.closest('.output');\n",
       "if (outputEl) {{\n",
       "    x.observe(outputEl, {childList: true});\n",
       "}}\n",
       "\n",
       "                        })                };                });            </script>        </div>"
      ]
     },
     "metadata": {},
     "output_type": "display_data"
    }
   ],
   "source": [
    "df = full_daniel_by_close.groupby(pd.Grouper(freq='D')).sum()\n",
    "df.iplot(kind='bar', y='result', color='blue', opacity=1, title='Risultato giornaliero (R)',\n",
    "         yTitle='R', zerolinecolor='grey')"
   ]
  }
 ],
 "metadata": {
  "kernelspec": {
   "display_name": "Python 3",
   "language": "python",
   "name": "python3"
  },
  "language_info": {
   "codemirror_mode": {
    "name": "ipython",
    "version": 3
   },
   "file_extension": ".py",
   "mimetype": "text/x-python",
   "name": "python",
   "nbconvert_exporter": "python",
   "pygments_lexer": "ipython3",
   "version": "3.7.12"
  },
  "papermill": {
   "default_parameters": {},
   "duration": 32.074414,
   "end_time": "2022-02-25T16:57:37.184820",
   "environment_variables": {},
   "exception": null,
   "input_path": "__notebook__.ipynb",
   "output_path": "__notebook__.ipynb",
   "parameters": {},
   "start_time": "2022-02-25T16:57:05.110406",
   "version": "2.3.3"
  }
 },
 "nbformat": 4,
 "nbformat_minor": 5
}
