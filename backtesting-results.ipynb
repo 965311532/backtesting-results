{
 "cells": [
  {
   "cell_type": "code",
   "execution_count": 1,
   "id": "50bdf138",
   "metadata": {
    "execution": {
     "iopub.execute_input": "2022-02-26T11:14:17.764706Z",
     "iopub.status.busy": "2022-02-26T11:14:17.763055Z",
     "iopub.status.idle": "2022-02-26T11:14:17.778351Z",
     "shell.execute_reply": "2022-02-26T11:14:17.778938Z",
     "shell.execute_reply.started": "2022-02-26T11:01:41.812654Z"
    },
    "papermill": {
     "duration": 0.064758,
     "end_time": "2022-02-26T11:14:17.779268",
     "exception": false,
     "start_time": "2022-02-26T11:14:17.714510",
     "status": "completed"
    },
    "tags": []
   },
   "outputs": [
    {
     "name": "stdout",
     "output_type": "stream",
     "text": [
      "Disabling code cells ...\n"
     ]
    },
    {
     "data": {
      "text/html": [
       "<script>\n",
       "code_show=true; \n",
       "function code_toggle() {\n",
       " if (code_show){\n",
       " $('div.input').hide();\n",
       " } else {\n",
       " $('div.input').show();\n",
       " }\n",
       " code_show = !code_show\n",
       "} \n",
       "$( document ).ready(code_toggle);\n",
       "</script>"
      ],
      "text/plain": [
       "<IPython.core.display.HTML object>"
      ]
     },
     "execution_count": 1,
     "metadata": {},
     "output_type": "execute_result"
    }
   ],
   "source": [
    "from IPython.display import HTML\n",
    "print('Disabling code cells ...')\n",
    "HTML('''<script>\n",
    "code_show=true; \n",
    "function code_toggle() {\n",
    " if (code_show){\n",
    " $('div.input').hide();\n",
    " } else {\n",
    " $('div.input').show();\n",
    " }\n",
    " code_show = !code_show\n",
    "} \n",
    "$( document ).ready(code_toggle);\n",
    "</script>''')"
   ]
  },
  {
   "cell_type": "code",
   "execution_count": 2,
   "id": "1601efe2",
   "metadata": {
    "_cell_guid": "b1076dfc-b9ad-4769-8c92-a6c4dae69d19",
    "_uuid": "8f2839f25d086af736a60e9eeb907d3b93b6e0e5",
    "execution": {
     "iopub.execute_input": "2022-02-26T11:14:17.845914Z",
     "iopub.status.busy": "2022-02-26T11:14:17.844959Z",
     "iopub.status.idle": "2022-02-26T11:14:21.232193Z",
     "shell.execute_reply": "2022-02-26T11:14:21.231591Z",
     "shell.execute_reply.started": "2022-02-26T09:23:11.519305Z"
    },
    "papermill": {
     "duration": 3.419698,
     "end_time": "2022-02-26T11:14:21.232355",
     "exception": false,
     "start_time": "2022-02-26T11:14:17.812657",
     "status": "completed"
    },
    "tags": []
   },
   "outputs": [
    {
     "data": {
      "text/html": [
       "        <script type=\"text/javascript\">\n",
       "        window.PlotlyConfig = {MathJaxConfig: 'local'};\n",
       "        if (window.MathJax) {MathJax.Hub.Config({SVG: {font: \"STIX-Web\"}});}\n",
       "        if (typeof require !== 'undefined') {\n",
       "        require.undef(\"plotly\");\n",
       "        requirejs.config({\n",
       "            paths: {\n",
       "                'plotly': ['https://cdn.plot.ly/plotly-2.8.3.min']\n",
       "            }\n",
       "        });\n",
       "        require(['plotly'], function(Plotly) {\n",
       "            window._Plotly = Plotly;\n",
       "        });\n",
       "        }\n",
       "        </script>\n",
       "        "
      ]
     },
     "metadata": {},
     "output_type": "display_data"
    },
    {
     "name": "stdout",
     "output_type": "stream",
     "text": [
      "Importing modules ...\n"
     ]
    }
   ],
   "source": [
    "%reload_ext line_profiler\n",
    "import pandas as pd\n",
    "import json\n",
    "import numpy as np\n",
    "import warnings\n",
    "from typing import Optional, List, Union, Callable\n",
    "from datetime import datetime, timedelta\n",
    "import pytz\n",
    "warnings.filterwarnings(\"ignore\")\n",
    "import cufflinks as cf\n",
    "cf.set_config_file(offline=True, offline_show_link=False, theme='white', sharing='secret')\n",
    "cf_colors = ['#3F93CA', '#DB3A34', '#466365', '#FFCAB1', '#C0E5C8']\n",
    "print('Importing modules ...')"
   ]
  },
  {
   "cell_type": "code",
   "execution_count": 3,
   "id": "5e9db9eb",
   "metadata": {
    "execution": {
     "iopub.execute_input": "2022-02-26T11:14:21.290607Z",
     "iopub.status.busy": "2022-02-26T11:14:21.289911Z",
     "iopub.status.idle": "2022-02-26T11:14:22.137450Z",
     "shell.execute_reply": "2022-02-26T11:14:22.138021Z",
     "shell.execute_reply.started": "2022-02-26T09:08:37.861002Z"
    },
    "papermill": {
     "duration": 0.878631,
     "end_time": "2022-02-26T11:14:22.138211",
     "exception": false,
     "start_time": "2022-02-26T11:14:21.259580",
     "status": "completed"
    },
    "tags": []
   },
   "outputs": [
    {
     "name": "stdout",
     "output_type": "stream",
     "text": [
      "Loading dataset ...\n"
     ]
    }
   ],
   "source": [
    "with open('../input/main-test-daniel-dataset-json/test.json', 'r', encoding='utf-8') as f:\n",
    "    data = json.load(f)\n",
    "print('Loading dataset ...')"
   ]
  },
  {
   "cell_type": "code",
   "execution_count": 4,
   "id": "59afc069",
   "metadata": {
    "execution": {
     "iopub.execute_input": "2022-02-26T11:14:22.199666Z",
     "iopub.status.busy": "2022-02-26T11:14:22.198624Z",
     "iopub.status.idle": "2022-02-26T11:14:22.202472Z",
     "shell.execute_reply": "2022-02-26T11:14:22.202948Z",
     "shell.execute_reply.started": "2022-02-26T09:08:39.070874Z"
    },
    "papermill": {
     "duration": 0.038822,
     "end_time": "2022-02-26T11:14:22.203125",
     "exception": false,
     "start_time": "2022-02-26T11:14:22.164303",
     "status": "completed"
    },
    "tags": []
   },
   "outputs": [
    {
     "name": "stdout",
     "output_type": "stream",
     "text": [
      "Defining plot_pos() function ...\n"
     ]
    }
   ],
   "source": [
    "def plot_pos(p, sl=None, tp=None, hline=None):\n",
    "    if tp is None:\n",
    "        tp = get_position_tps(p)[0]\n",
    "    if sl is None:\n",
    "        sl = p['sl']['price']\n",
    "        \n",
    "    open_ = pd.to_datetime(p['entry']['execution']['time'])\n",
    "    close_ = open_ + timedelta(hours=1)\n",
    "    \n",
    "    sl_shape = cf.tools.get_shape(x0=open_, x1=close_, yref='close', y0=sl, y1=p['entry']['price'], kind='rect', fill=True, opacity=0.3, color='red', width=0.1)\n",
    "    tp_shape = cf.tools.get_shape(x0=open_, x1=close_, yref='close', y0=tp, y1=p['entry']['price'], kind='rect', fill=True, opacity=0.3, color='green', width=0.1)\n",
    "    shapes = [s for s in [sl_shape, tp_shape, hline] if s is not None]\n",
    "    return p['rates'].set_index(pd.to_datetime(p['rates']['time'])).iplot(kind='candle', shapes=shapes, width=0.1)\n",
    "print('Defining plot_pos() function ...')"
   ]
  },
  {
   "cell_type": "code",
   "execution_count": 5,
   "id": "dbdf13c3",
   "metadata": {
    "execution": {
     "iopub.execute_input": "2022-02-26T11:14:22.259981Z",
     "iopub.status.busy": "2022-02-26T11:14:22.259388Z",
     "iopub.status.idle": "2022-02-26T11:14:22.264279Z",
     "shell.execute_reply": "2022-02-26T11:14:22.264738Z",
     "shell.execute_reply.started": "2022-02-26T09:08:39.085607Z"
    },
    "papermill": {
     "duration": 0.035148,
     "end_time": "2022-02-26T11:14:22.264898",
     "exception": false,
     "start_time": "2022-02-26T11:14:22.229750",
     "status": "completed"
    },
    "tags": []
   },
   "outputs": [
    {
     "name": "stdout",
     "output_type": "stream",
     "text": [
      "Defining _candle_mean() function ...\n"
     ]
    }
   ],
   "source": [
    "def _candle_mean(candle: Union[pd.Series, dict]) -> float:\n",
    "    avg = candle[\"low\"] + (candle[\"high\"] - candle[\"low\"]) / 2\n",
    "    return round(avg, 6)\n",
    "print('Defining _candle_mean() function ...')"
   ]
  },
  {
   "cell_type": "code",
   "execution_count": 6,
   "id": "8c752fb9",
   "metadata": {
    "execution": {
     "iopub.execute_input": "2022-02-26T11:14:22.326858Z",
     "iopub.status.busy": "2022-02-26T11:14:22.325911Z",
     "iopub.status.idle": "2022-02-26T11:14:22.328971Z",
     "shell.execute_reply": "2022-02-26T11:14:22.329440Z",
     "shell.execute_reply.started": "2022-02-26T09:08:39.101102Z"
    },
    "papermill": {
     "duration": 0.036361,
     "end_time": "2022-02-26T11:14:22.329613",
     "exception": false,
     "start_time": "2022-02-26T11:14:22.293252",
     "status": "completed"
    },
    "tags": []
   },
   "outputs": [
    {
     "name": "stdout",
     "output_type": "stream",
     "text": [
      "Defining _get_executed_orders() function ...\n"
     ]
    }
   ],
   "source": [
    "def _get_executed_orders(p: dict, ignore: List[str] = None):\n",
    "    \n",
    "    if ignore is None:\n",
    "        ignore = list()\n",
    "        \n",
    "    executed = [o for o in p['orders'] if o.get('execution') != dict()]\n",
    "    sorted_executed = sorted(executed, key=lambda x: pd.to_datetime(x['execution']['time']))\n",
    "    return [e for e in sorted_executed if e['name'] not in ignore]\n",
    "print('Defining _get_executed_orders() function ...')"
   ]
  },
  {
   "cell_type": "code",
   "execution_count": 7,
   "id": "65d09b84",
   "metadata": {
    "execution": {
     "iopub.execute_input": "2022-02-26T11:14:22.395015Z",
     "iopub.status.busy": "2022-02-26T11:14:22.386587Z",
     "iopub.status.idle": "2022-02-26T11:14:22.397930Z",
     "shell.execute_reply": "2022-02-26T11:14:22.397370Z",
     "shell.execute_reply.started": "2022-02-26T09:08:39.121624Z"
    },
    "papermill": {
     "duration": 0.041439,
     "end_time": "2022-02-26T11:14:22.398073",
     "exception": false,
     "start_time": "2022-02-26T11:14:22.356634",
     "status": "completed"
    },
    "tags": []
   },
   "outputs": [
    {
     "name": "stdout",
     "output_type": "stream",
     "text": [
      "Defining _determine_position_result() function ...\n"
     ]
    }
   ],
   "source": [
    "def _determine_position_result(p: dict, partials: List[float], ignore: List[str]):\n",
    "    \n",
    "    SIDE = 1 if p['side'].upper() == 'BUY' else -1\n",
    "    \n",
    "    # get events (orders) in execution order\n",
    "    events = _get_executed_orders(p, ignore=ignore)\n",
    "    \n",
    "    # makes the rates attr back into a df\n",
    "    p['rates'] = pd.DataFrame(p['rates'])\n",
    "\n",
    "    if len(events) == 0:\n",
    "        last_candle = p['rates'].iloc[-1]\n",
    "        r = SIDE * (_candle_mean(last_candle) - p['entry']['execution']['price']) / p['sl_delta']\n",
    "        return (pd.to_datetime(last_candle.time, utc=True), r, 'EOP')\n",
    "\n",
    "    result = 0\n",
    "    for i, partial in enumerate(partials):\n",
    "\n",
    "        if i > len(events) - 1:\n",
    "            break\n",
    "\n",
    "        if i == 0:\n",
    "            result_type = events[i]['name']\n",
    "\n",
    "        close = pd.to_datetime(events[i]['execution']['time'], utc=True)\n",
    "        r = SIDE * (events[i]['execution']['price'] - p['entry']['execution']['price']) / p['sl_delta']\n",
    "\n",
    "        # Closing events\n",
    "        if events[i]['name'].upper() in ['SL', 'SL_TO_BE']:\n",
    "            # if it's the first event record the loss,\n",
    "            # otherwise i'm assuming the second losing \n",
    "            # partial is always at breakeven\n",
    "            if i == 0:\n",
    "                result = r\n",
    "            break\n",
    "        elif events[i]['name'].upper() == ['CLOSE']:\n",
    "            result = r * (1 - sum(partials[0:i]))\n",
    "            break\n",
    "\n",
    "        else: result += r * partial\n",
    "\n",
    "    return (close, result, result_type)\n",
    "print('Defining _determine_position_result() function ...')"
   ]
  },
  {
   "cell_type": "code",
   "execution_count": 8,
   "id": "acb8b06e",
   "metadata": {
    "execution": {
     "iopub.execute_input": "2022-02-26T11:14:22.457844Z",
     "iopub.status.busy": "2022-02-26T11:14:22.457223Z",
     "iopub.status.idle": "2022-02-26T11:14:22.459902Z",
     "shell.execute_reply": "2022-02-26T11:14:22.460455Z",
     "shell.execute_reply.started": "2022-02-26T09:08:39.140260Z"
    },
    "papermill": {
     "duration": 0.035356,
     "end_time": "2022-02-26T11:14:22.460619",
     "exception": false,
     "start_time": "2022-02-26T11:14:22.425263",
     "status": "completed"
    },
    "tags": []
   },
   "outputs": [
    {
     "name": "stdout",
     "output_type": "stream",
     "text": [
      "Defining get_position_tps() function ...\n"
     ]
    }
   ],
   "source": [
    "def get_position_tps(p):\n",
    "    return sorted(set([o['price'] for o in p['orders'] if o['name'].upper() == 'TP']))\n",
    "print('Defining get_position_tps() function ...')"
   ]
  },
  {
   "cell_type": "code",
   "execution_count": 9,
   "id": "abb8928a",
   "metadata": {
    "execution": {
     "iopub.execute_input": "2022-02-26T11:14:22.520895Z",
     "iopub.status.busy": "2022-02-26T11:14:22.520296Z",
     "iopub.status.idle": "2022-02-26T11:14:22.530363Z",
     "shell.execute_reply": "2022-02-26T11:14:22.530863Z",
     "shell.execute_reply.started": "2022-02-26T09:08:39.161566Z"
    },
    "papermill": {
     "duration": 0.042058,
     "end_time": "2022-02-26T11:14:22.531028",
     "exception": false,
     "start_time": "2022-02-26T11:14:22.488970",
     "status": "completed"
    },
    "tags": []
   },
   "outputs": [
    {
     "name": "stdout",
     "output_type": "stream",
     "text": [
      "Defining find_best_sl() function ...\n"
     ]
    }
   ],
   "source": [
    "def find_best_sl(p, for_tp=0, tp=None):\n",
    "    '''Tries to find the SL price at which \"for_tp\" wouldve been hit.\n",
    "    Returns None if the direction was wrong (tp wouldve never been hit)\n",
    "    Returns the new SL price expressed as % of the size of the current one'''\n",
    "    \n",
    "    if not isinstance(p['rates'], pd.DataFrame):\n",
    "        p['rates'] = pd.DataFrame(p['rates'])\n",
    "\n",
    "    if tp is None:\n",
    "        try:\n",
    "            tp = get_position_tps(p)[for_tp]\n",
    "        except AttributeError:\n",
    "            # if for_tp is not there, pick last tp\n",
    "            tp = get_position_tps(p)[-1]\n",
    "        \n",
    "    bound = p['rates']\n",
    "    SIDE = 1 if p['side'].upper() == 'BUY' else -1\n",
    "    spread = 20 * p['symbol']['info']['trade_tick_size'] # let's just say 2 pips\n",
    "    entry_hit = p['entry']['execution']['time']\n",
    "    \n",
    "    if SIDE == 1:\n",
    "        tp_hit = (bound.high >= tp)\n",
    "        if tp_hit.any():\n",
    "            window = ~tp_hit.cumsum().astype(bool)\n",
    "            new_sl = bound.loc[(bound.time > entry_hit) & window, 'low'].min() - spread\n",
    "    \n",
    "    elif SIDE == -1:\n",
    "        tp_hit = (bound.low <= tp)\n",
    "        if tp_hit.any():\n",
    "            window = ~tp_hit.cumsum().astype(bool)\n",
    "            new_sl = bound.loc[(bound.time > entry_hit) & window, 'high'].max() + spread\n",
    "    \n",
    "    \n",
    "    # if there's no tp in rates that hit\n",
    "    # there's no sl that could've saved the trade\n",
    "    # the direction was just wrong\n",
    "    try:\n",
    "        if not pd.isnull(new_sl):\n",
    "            return new_sl\n",
    "    except UnboundLocalError:\n",
    "        pass\n",
    "    return None\n",
    "print('Defining find_best_sl() function ...')"
   ]
  },
  {
   "cell_type": "code",
   "execution_count": 10,
   "id": "a12594ca",
   "metadata": {
    "execution": {
     "iopub.execute_input": "2022-02-26T11:14:22.596597Z",
     "iopub.status.busy": "2022-02-26T11:14:22.595675Z",
     "iopub.status.idle": "2022-02-26T11:14:22.599808Z",
     "shell.execute_reply": "2022-02-26T11:14:22.600270Z",
     "shell.execute_reply.started": "2022-02-26T09:08:39.182040Z"
    },
    "papermill": {
     "duration": 0.041476,
     "end_time": "2022-02-26T11:14:22.600455",
     "exception": false,
     "start_time": "2022-02-26T11:14:22.558979",
     "status": "completed"
    },
    "tags": []
   },
   "outputs": [
    {
     "name": "stdout",
     "output_type": "stream",
     "text": [
      "Defining find_best_tp() function ...\n"
     ]
    }
   ],
   "source": [
    "def find_best_tp(p, sl=None):\n",
    "    '''Tries to find the TP price at which \"sl\" wouldve never been hit.\n",
    "    Returns None if the trade went straight into loss\n",
    "    Returns the new TP price expressed in R compared to for_sl'''\n",
    "    \n",
    "    if not isinstance(p['rates'], pd.DataFrame):\n",
    "        p['rates'] = pd.DataFrame(p['rates'])\n",
    "        \n",
    "    if sl is None:\n",
    "        sl = p['sl']['price']\n",
    "    \n",
    "    bound = p['rates']\n",
    "    SIDE = 1 if p['side'].upper() == 'BUY' else -1\n",
    "    spread = 20 * p['symbol']['info']['trade_tick_size'] # let's just say 2 pips\n",
    "    entry_hit = p['entry']['execution']['time']\n",
    "    \n",
    "    if SIDE == 1:      \n",
    "        sl_hit_cond = (bound.low <= sl + spread/2)\n",
    "        if len(sl_hit_cond) == 0:\n",
    "            sl_hit_cond = True\n",
    "        # this means: take the sl_hit series, which is gonna look\n",
    "        # something like 0,0,0,0,1,1,1,0,1,0,0,0,1,0 and make the\n",
    "        # cumsum and then turn it into bools, which is gonna make\n",
    "        # it look like False,False,False,False,True,True,True,True etc.\n",
    "        # then take the inverse, which is what we want (all of this\n",
    "        # works because 2 is considere True after booleanization)\n",
    "        window = ~sl_hit_cond.cumsum().astype(bool)\n",
    "        new_tp = bound.loc[(bound.time > entry_hit) & window, 'high'].max() - spread\n",
    "        \n",
    "    elif SIDE == -1:\n",
    "        sl_hit_cond = (bound.high >= sl - spread/2)\n",
    "        if len(sl_hit_cond) == 0:\n",
    "            sl_hit_cond = True\n",
    "        window = ~sl_hit_cond.cumsum().astype(bool)\n",
    "        new_tp = bound.loc[(bound.time > entry_hit) & window, 'low'].min() + spread\n",
    "        \n",
    "    # if the tp is lower than the entry that means that\n",
    "    # the trade went straight to sl, so return none\n",
    "    if SIDE * (new_tp - p['entry']['execution']['price']) < 0:\n",
    "        return None\n",
    "    return new_tp\n",
    "print('Defining find_best_tp() function ...')"
   ]
  },
  {
   "cell_type": "code",
   "execution_count": 11,
   "id": "d337fe35",
   "metadata": {
    "execution": {
     "iopub.execute_input": "2022-02-26T11:14:22.666803Z",
     "iopub.status.busy": "2022-02-26T11:14:22.666063Z",
     "iopub.status.idle": "2022-02-26T11:14:22.669428Z",
     "shell.execute_reply": "2022-02-26T11:14:22.670096Z",
     "shell.execute_reply.started": "2022-02-26T11:07:44.633256Z"
    },
    "papermill": {
     "duration": 0.041499,
     "end_time": "2022-02-26T11:14:22.670390",
     "exception": false,
     "start_time": "2022-02-26T11:14:22.628891",
     "status": "completed"
    },
    "tags": []
   },
   "outputs": [
    {
     "name": "stdout",
     "output_type": "stream",
     "text": [
      "Defining find_absolute_best_params() function ...\n"
     ]
    }
   ],
   "source": [
    "def find_absolute_best_params(p, previous_best: tuple):\n",
    "    SIDE = 1 if p['side'].upper() == 'BUY' else -1\n",
    "    entry = p['entry']['execution']['price']\n",
    "    pairs = [previous_best]\n",
    "    \n",
    "    better_sl = previous_best[0]\n",
    "    for i in range(100):\n",
    "        if better_sl is not None:\n",
    "            better_tp = find_best_tp(p, sl=better_sl)\n",
    "        else:\n",
    "            better_tp = previous_best[1]\n",
    "            better_sl = find_best_sl(p, tp=better_tp)\n",
    "        if better_tp is not None and better_sl is not None:\n",
    "            commit = (better_sl, better_tp)\n",
    "            pairs.append(commit)\n",
    "            # when the results are equal, stop iteration\n",
    "            if (i != 0 and\n",
    "                abs(commit[0] - pairs[-2][0]) < 1e-7 and\n",
    "                abs(commit[1] - pairs[-2][1]) < 1e-7):\n",
    "                    break\n",
    "            better_sl = find_best_sl(p, tp=better_tp)\n",
    "\n",
    "    pairs = [pair for pair in pairs if None not in pair]\n",
    "    \n",
    "    if len(pairs) == 0:\n",
    "        return (None, None)\n",
    "    \n",
    "    return sorted(pairs, key=lambda x: abs(x[0] - entry) / abs(x[1] - entry))[0]\n",
    "print('Defining find_absolute_best_params() function ...')"
   ]
  },
  {
   "cell_type": "code",
   "execution_count": 12,
   "id": "92e7000b",
   "metadata": {
    "execution": {
     "iopub.execute_input": "2022-02-26T11:14:22.732688Z",
     "iopub.status.busy": "2022-02-26T11:14:22.731641Z",
     "iopub.status.idle": "2022-02-26T11:14:22.751833Z",
     "shell.execute_reply": "2022-02-26T11:14:22.751053Z",
     "shell.execute_reply.started": "2022-02-26T09:08:39.229645Z"
    },
    "papermill": {
     "duration": 0.051797,
     "end_time": "2022-02-26T11:14:22.752018",
     "exception": false,
     "start_time": "2022-02-26T11:14:22.700221",
     "status": "completed"
    },
    "tags": []
   },
   "outputs": [
    {
     "name": "stdout",
     "output_type": "stream",
     "text": [
      "Defining make_results() function ...\n"
     ]
    }
   ],
   "source": [
    "def make_results(given: List['Position'] = None,\n",
    "                 partials: List[float] = None,\n",
    "                 ignore: List[str] = None,\n",
    "                 cleanse: Optional[Callable] = True,\n",
    "                 only: Optional[list] = None):\n",
    "\n",
    "    if given is None:\n",
    "        given = data[:]\n",
    "    \n",
    "    if partials is None:\n",
    "        partials = [1]\n",
    "\n",
    "    if ignore is None:\n",
    "        ignore = list()\n",
    "          \n",
    "    if cleanse is True:\n",
    "        def base_filter(df: pd.DataFrame) -> pd.DataFrame:\n",
    "            df = df.drop(df[df.result>4].index, axis=0)\n",
    "            df = df.drop(df[df.sl_pips>50].index, axis=0)\n",
    "            df = df.drop(df[df.sl_pips<5].index, axis=0)\n",
    "            df = df.drop(df.loc['2021-12-22'].index, axis=0) # outlier\n",
    "            return df\n",
    "        cleanse = base_filter\n",
    "\n",
    "    results = list()\n",
    "    for p in given:\n",
    "        res = _determine_position_result(p, partials=partials, ignore=ignore)\n",
    "        entry = p['entry']['execution']['price']\n",
    "        entry_time = p['entry']['execution']['time']\n",
    "        if not isinstance(p['entry']['execution']['time'], datetime):\n",
    "            p['entry']['execution']['time'] = datetime.fromisoformat(entry_time)\n",
    "        \n",
    "        open_ = pd.to_datetime(p['time'], utc=True)\n",
    "        close_ = pd.to_datetime(res[0], utc=True)\n",
    "        \n",
    "        better_sl_R = None\n",
    "        better_tp_R = None\n",
    "        if only is None or any([x in y for x in ('best', 'better') for y in only]):\n",
    "            if not pd.api.types.is_datetime64_any_dtype(p['rates']['time'].dtype):\n",
    "                p['rates']['time'] = pd.to_datetime(p['rates']['time'])\n",
    "            # finds better sl for tp0\n",
    "            better_sl = find_best_sl(p, for_tp=0)\n",
    "            # finds better tp for current sl\n",
    "            better_tp = find_best_tp(p)\n",
    "            try: # they can return None\n",
    "                better_sl_R = abs(better_sl-entry)/p['sl_delta']\n",
    "                better_tp_R = abs(better_tp-entry)/p['sl_delta']\n",
    "            except TypeError:\n",
    "                pass\n",
    "        \n",
    "        best_sl_R = None\n",
    "        best_tp_R = None\n",
    "        if only is None or any(['best' in x for x in only]):\n",
    "            # absolute best R possible (very expensive)\n",
    "            x = find_absolute_best_params(p, (better_sl, better_tp))\n",
    "            try: # find_absolute_best_params can return (None, None)\n",
    "                best_sl_R = abs(x[0] - entry) / p['sl_delta'] # compared to original sl\n",
    "                best_tp_R = abs(x[1] - entry) / abs(x[0] - entry) # compared to best_sl\n",
    "            except TypeError:\n",
    "                pass\n",
    "        \n",
    "        results.append(dict(open=open_,\n",
    "                            close=close_,\n",
    "                            symbol=p['symbol']['name'],\n",
    "                            side=p['side'],\n",
    "                            sl_pips=p['sl_delta']/p['symbol']['info']['trade_tick_size']/10,\n",
    "                            result=float(res[1]),\n",
    "                            result_type=str(res[2]),\n",
    "                            better_sl_R=better_sl_R,\n",
    "                            better_tp_R=better_tp_R,\n",
    "                            best_sl_R=best_sl_R,\n",
    "                            best_tp_R=best_tp_R))\n",
    "\n",
    "    df = pd.DataFrame(results).set_index('open', drop=True).sort_index()\n",
    "    if cleanse is not None:\n",
    "        df = cleanse(df)\n",
    "    \n",
    "    if only is None: \n",
    "        only = df.columns.tolist()\n",
    "    relevant_cols = df.columns[df.columns.str.contains('|'.join(only))].tolist()\n",
    "    \n",
    "    return df[relevant_cols]\n",
    "print('Defining make_results() function ...')"
   ]
  },
  {
   "cell_type": "code",
   "execution_count": 13,
   "id": "f69ab92a",
   "metadata": {
    "execution": {
     "iopub.execute_input": "2022-02-26T11:14:22.817511Z",
     "iopub.status.busy": "2022-02-26T11:14:22.816636Z",
     "iopub.status.idle": "2022-02-26T11:14:22.820674Z",
     "shell.execute_reply": "2022-02-26T11:14:22.820091Z",
     "shell.execute_reply.started": "2022-02-26T11:11:07.691329Z"
    },
    "papermill": {
     "duration": 0.039012,
     "end_time": "2022-02-26T11:14:22.820806",
     "exception": false,
     "start_time": "2022-02-26T11:14:22.781794",
     "status": "completed"
    },
    "tags": []
   },
   "outputs": [
    {
     "name": "stdout",
     "output_type": "stream",
     "text": [
      "Defining merge() function ...\n"
     ]
    }
   ],
   "source": [
    "def merge(data: dict, mode='mean'):\n",
    "    x = [getattr(df.resample('T'), mode)() for df in data.values()]\n",
    "    x = [df.add_suffix(f'_{name}') for name, df in zip(data.keys(), x)]\n",
    "    return pd.concat(x, axis=1).dropna(how='all').sort_index()\n",
    "print('Defining merge() function ...')"
   ]
  },
  {
   "cell_type": "markdown",
   "id": "86cb86e8",
   "metadata": {
    "papermill": {
     "duration": 0.028864,
     "end_time": "2022-02-26T11:14:22.879363",
     "exception": false,
     "start_time": "2022-02-26T11:14:22.850499",
     "status": "completed"
    },
    "tags": []
   },
   "source": [
    "***\n",
    "# Analisi Risultati Daniel Savage FX\n",
    "## 23 6451 - Le basi\n",
    "Partiamo ipotizzando di seguire \"alla lettera\" (ammesso un certo margine di errore) i segnali e iniziamo con lo studiare le due varianti più importanti:\n",
    "- Alla lettera, chiudendo l'intera posizione a TP1\n",
    "- Alla lettera, chiudendo il 60% della posizione a TP1 e il 40% a TP2"
   ]
  },
  {
   "cell_type": "code",
   "execution_count": 14,
   "id": "49e5e6b9",
   "metadata": {
    "execution": {
     "iopub.execute_input": "2022-02-26T11:14:22.946656Z",
     "iopub.status.busy": "2022-02-26T11:14:22.946033Z",
     "iopub.status.idle": "2022-02-26T11:14:23.883453Z",
     "shell.execute_reply": "2022-02-26T11:14:23.882811Z",
     "shell.execute_reply.started": "2022-02-26T09:08:39.257622Z"
    },
    "papermill": {
     "duration": 0.974627,
     "end_time": "2022-02-26T11:14:23.883599",
     "exception": false,
     "start_time": "2022-02-26T11:14:22.908972",
     "status": "completed"
    },
    "tags": []
   },
   "outputs": [],
   "source": [
    "df_60_40 = make_results(data[:], partials=[0.6, 0.4], only=['close', 'result'])\n",
    "df_100 = make_results(data[:], partials=[1], only=['close', 'result'])"
   ]
  },
  {
   "cell_type": "code",
   "execution_count": 15,
   "id": "b9e40d8c",
   "metadata": {
    "execution": {
     "iopub.execute_input": "2022-02-26T11:14:23.948260Z",
     "iopub.status.busy": "2022-02-26T11:14:23.947640Z",
     "iopub.status.idle": "2022-02-26T11:14:24.981852Z",
     "shell.execute_reply": "2022-02-26T11:14:24.982550Z",
     "shell.execute_reply.started": "2022-02-26T10:04:36.478335Z"
    },
    "papermill": {
     "duration": 1.070192,
     "end_time": "2022-02-26T11:14:24.982754",
     "exception": false,
     "start_time": "2022-02-26T11:14:23.912562",
     "status": "completed"
    },
    "tags": []
   },
   "outputs": [
    {
     "data": {
      "application/vnd.plotly.v1+json": {
       "config": {
        "linkText": "Export to plot.ly",
        "plotlyServerURL": "https://plot.ly",
        "showLink": false
       },
       "data": [
        {
         "connectgaps": true,
         "fill": "tozeroy",
         "fillcolor": "rgba(63, 147, 202, 0.3)",
         "line": {
          "color": "rgba(63, 147, 202, 1.0)",
          "dash": "solid",
          "shape": "hv",
          "width": 2
         },
         "mode": "lines",
         "name": "result_60_40",
         "text": "",
         "type": "scatter",
         "x": [
          "2020-11-05 13:05:00+00:00",
          "2020-11-05 13:42:00+00:00",
          "2020-11-06 02:31:00+00:00",
          "2020-11-06 03:27:00+00:00",
          "2020-11-09 09:57:00+00:00",
          "2020-11-11 00:06:00+00:00",
          "2020-11-11 01:02:00+00:00",
          "2020-11-30 06:35:00+00:00",
          "2020-11-30 07:16:00+00:00",
          "2020-12-01 07:07:00+00:00",
          "2020-12-01 12:38:00+00:00",
          "2020-12-01 12:58:00+00:00",
          "2020-12-01 13:46:00+00:00",
          "2020-12-01 14:22:00+00:00",
          "2020-12-04 13:30:00+00:00",
          "2020-12-07 12:13:00+00:00",
          "2020-12-07 12:48:00+00:00",
          "2020-12-09 07:15:00+00:00",
          "2020-12-09 07:48:00+00:00",
          "2020-12-10 15:32:00+00:00",
          "2020-12-11 06:53:00+00:00",
          "2020-12-11 07:36:00+00:00",
          "2020-12-16 06:34:00+00:00",
          "2020-12-16 07:52:00+00:00",
          "2020-12-17 14:22:00+00:00",
          "2020-12-17 15:04:00+00:00",
          "2020-12-17 16:00:00+00:00",
          "2020-12-17 16:07:00+00:00",
          "2020-12-18 05:01:00+00:00",
          "2020-12-18 07:16:00+00:00",
          "2020-12-18 08:27:00+00:00",
          "2020-12-21 13:33:00+00:00",
          "2020-12-21 14:22:00+00:00",
          "2020-12-22 14:57:00+00:00",
          "2020-12-22 16:01:00+00:00",
          "2020-12-30 13:32:00+00:00",
          "2020-12-30 13:50:00+00:00",
          "2020-12-31 07:59:00+00:00",
          "2021-01-04 07:53:00+00:00",
          "2021-01-04 08:34:00+00:00",
          "2021-01-05 08:51:00+00:00",
          "2021-01-05 11:14:00+00:00",
          "2021-01-07 14:27:00+00:00",
          "2021-01-07 16:42:00+00:00",
          "2021-01-08 05:17:00+00:00",
          "2021-01-08 17:09:00+00:00",
          "2021-01-11 07:33:00+00:00",
          "2021-01-11 12:18:00+00:00",
          "2021-01-11 15:19:00+00:00",
          "2021-01-12 09:49:00+00:00",
          "2021-01-12 09:53:00+00:00",
          "2021-01-15 12:50:00+00:00",
          "2021-01-15 15:08:00+00:00",
          "2021-01-19 07:24:00+00:00",
          "2021-01-20 14:14:00+00:00",
          "2021-01-20 14:22:00+00:00",
          "2021-01-21 13:33:00+00:00",
          "2021-01-21 14:19:00+00:00",
          "2021-01-22 13:16:00+00:00",
          "2021-01-25 15:29:00+00:00",
          "2021-01-25 15:50:00+00:00",
          "2021-01-26 14:15:00+00:00",
          "2021-01-26 14:17:00+00:00",
          "2021-01-28 01:10:00+00:00",
          "2021-01-29 06:48:00+00:00",
          "2021-01-29 08:08:00+00:00",
          "2021-02-01 08:51:00+00:00",
          "2021-02-01 10:50:00+00:00",
          "2021-02-01 11:34:00+00:00",
          "2021-02-01 12:16:00+00:00",
          "2021-02-01 13:13:00+00:00",
          "2021-02-01 13:15:00+00:00",
          "2021-02-01 13:16:00+00:00",
          "2021-02-02 08:20:00+00:00",
          "2021-02-03 03:58:00+00:00",
          "2021-02-03 04:40:00+00:00",
          "2021-02-03 07:59:00+00:00",
          "2021-02-03 08:04:00+00:00",
          "2021-02-03 17:29:00+00:00",
          "2021-02-05 08:00:00+00:00",
          "2021-02-08 10:00:00+00:00",
          "2021-02-08 10:27:00+00:00",
          "2021-02-09 07:00:00+00:00",
          "2021-02-16 14:00:00+00:00",
          "2021-02-17 12:23:00+00:00",
          "2021-02-17 12:43:00+00:00",
          "2021-02-18 08:00:00+00:00",
          "2021-02-22 07:00:00+00:00",
          "2021-02-22 07:10:00+00:00",
          "2021-02-23 06:24:00+00:00",
          "2021-02-23 07:00:00+00:00",
          "2021-02-23 09:55:00+00:00",
          "2021-02-23 10:00:00+00:00",
          "2021-02-24 08:00:00+00:00",
          "2021-02-24 08:12:00+00:00",
          "2021-02-25 07:00:00+00:00",
          "2021-02-25 08:00:00+00:00",
          "2021-02-25 08:36:00+00:00",
          "2021-03-01 08:32:00+00:00",
          "2021-03-01 13:00:00+00:00",
          "2021-03-01 15:48:00+00:00",
          "2021-03-01 15:59:00+00:00",
          "2021-03-02 08:00:00+00:00",
          "2021-03-02 08:56:00+00:00",
          "2021-03-02 14:40:00+00:00",
          "2021-03-02 15:00:00+00:00",
          "2021-03-03 10:17:00+00:00",
          "2021-03-03 11:39:00+00:00",
          "2021-03-03 15:46:00+00:00",
          "2021-03-03 15:59:00+00:00",
          "2021-03-05 11:01:00+00:00",
          "2021-03-05 13:00:00+00:00",
          "2021-03-09 05:00:00+00:00",
          "2021-03-09 07:00:00+00:00",
          "2021-03-09 07:36:00+00:00",
          "2021-03-09 08:00:00+00:00",
          "2021-03-09 15:09:00+00:00",
          "2021-03-09 16:00:00+00:00",
          "2021-03-10 06:00:00+00:00",
          "2021-03-10 07:00:00+00:00",
          "2021-03-10 08:00:00+00:00",
          "2021-03-10 10:00:00+00:00",
          "2021-03-10 14:00:00+00:00",
          "2021-03-12 09:00:00+00:00",
          "2021-03-12 16:42:00+00:00",
          "2021-03-15 07:06:00+00:00",
          "2021-03-15 10:55:00+00:00",
          "2021-03-16 05:44:00+00:00",
          "2021-03-16 07:01:00+00:00",
          "2021-03-16 07:57:00+00:00",
          "2021-03-17 05:59:00+00:00",
          "2021-03-17 07:04:00+00:00",
          "2021-03-17 13:50:00+00:00",
          "2021-03-18 03:35:00+00:00",
          "2021-03-18 04:01:00+00:00",
          "2021-03-18 05:27:00+00:00",
          "2021-03-19 04:22:00+00:00",
          "2021-03-19 07:01:00+00:00",
          "2021-03-19 08:00:00+00:00",
          "2021-03-22 05:36:00+00:00",
          "2021-03-22 06:48:00+00:00",
          "2021-03-22 08:04:00+00:00",
          "2021-03-22 12:03:00+00:00",
          "2021-03-23 04:27:00+00:00",
          "2021-03-23 06:04:00+00:00",
          "2021-03-23 06:16:00+00:00",
          "2021-03-24 02:36:00+00:00",
          "2021-03-24 08:20:00+00:00",
          "2021-03-25 04:48:00+00:00",
          "2021-03-26 06:49:00+00:00",
          "2021-03-29 03:50:00+00:00",
          "2021-03-29 05:00:00+00:00",
          "2021-03-29 07:49:00+00:00",
          "2021-03-29 07:51:00+00:00",
          "2021-03-30 05:55:00+00:00",
          "2021-03-30 06:40:00+00:00",
          "2021-03-30 08:00:00+00:00",
          "2021-03-31 08:00:00+00:00",
          "2021-03-31 13:00:00+00:00",
          "2021-04-01 07:00:00+00:00",
          "2021-04-01 07:28:00+00:00",
          "2021-04-01 08:00:00+00:00",
          "2021-04-05 08:00:00+00:00",
          "2021-04-05 12:00:00+00:00",
          "2021-04-06 12:00:00+00:00",
          "2021-04-06 13:45:00+00:00",
          "2021-04-06 14:00:00+00:00",
          "2021-04-07 05:51:00+00:00",
          "2021-04-07 06:30:00+00:00",
          "2021-04-07 07:00:00+00:00",
          "2021-04-08 06:47:00+00:00",
          "2021-04-08 07:00:00+00:00",
          "2021-04-08 08:46:00+00:00",
          "2021-04-08 09:00:00+00:00",
          "2021-04-08 09:37:00+00:00",
          "2021-04-09 10:00:00+00:00",
          "2021-04-09 12:00:00+00:00",
          "2021-04-12 02:14:00+00:00",
          "2021-04-12 05:45:00+00:00",
          "2021-04-12 06:00:00+00:00",
          "2021-04-12 08:00:00+00:00",
          "2021-04-13 05:59:00+00:00",
          "2021-04-13 07:00:00+00:00",
          "2021-04-13 07:57:00+00:00",
          "2021-04-13 09:00:00+00:00",
          "2021-04-13 10:00:00+00:00",
          "2021-04-14 06:38:00+00:00",
          "2021-04-14 07:00:00+00:00",
          "2021-04-14 08:03:00+00:00",
          "2021-04-14 08:17:00+00:00",
          "2021-04-14 09:00:00+00:00",
          "2021-04-14 09:41:00+00:00",
          "2021-04-16 07:57:00+00:00",
          "2021-04-16 10:00:00+00:00",
          "2021-04-19 08:00:00+00:00",
          "2021-04-19 08:54:00+00:00",
          "2021-04-19 09:55:00+00:00",
          "2021-04-19 10:00:00+00:00",
          "2021-04-20 06:00:00+00:00",
          "2021-04-20 10:54:00+00:00",
          "2021-04-20 13:00:00+00:00",
          "2021-04-21 06:00:00+00:00",
          "2021-04-21 07:00:00+00:00",
          "2021-04-21 07:45:00+00:00",
          "2021-04-21 07:57:00+00:00",
          "2021-04-22 06:22:00+00:00",
          "2021-04-22 07:00:00+00:00",
          "2021-04-22 08:00:00+00:00",
          "2021-04-22 08:42:00+00:00",
          "2021-04-22 12:00:00+00:00",
          "2021-04-22 12:33:00+00:00",
          "2021-04-23 12:00:00+00:00",
          "2021-04-23 12:22:00+00:00",
          "2021-04-26 11:00:00+00:00",
          "2021-04-26 12:00:00+00:00",
          "2021-04-26 12:40:00+00:00",
          "2021-04-27 13:50:00+00:00",
          "2021-04-27 14:00:00+00:00",
          "2021-04-28 13:00:00+00:00",
          "2021-04-29 16:00:00+00:00",
          "2021-04-29 16:29:00+00:00",
          "2021-04-30 01:00:00+00:00",
          "2021-04-30 05:33:00+00:00",
          "2021-04-30 06:00:00+00:00",
          "2021-04-30 06:18:00+00:00",
          "2021-04-30 10:08:00+00:00",
          "2021-04-30 14:52:00+00:00",
          "2021-05-03 12:00:00+00:00",
          "2021-05-03 12:44:00+00:00",
          "2021-05-04 12:55:00+00:00",
          "2021-05-04 13:00:00+00:00",
          "2021-05-04 13:35:00+00:00",
          "2021-05-04 13:49:00+00:00",
          "2021-05-04 14:42:00+00:00",
          "2021-05-04 15:00:00+00:00",
          "2021-05-05 13:36:00+00:00",
          "2021-05-05 14:00:00+00:00",
          "2021-05-06 10:00:00+00:00",
          "2021-05-06 11:10:00+00:00",
          "2021-05-06 14:00:00+00:00",
          "2021-05-07 07:00:00+00:00",
          "2021-05-07 12:00:00+00:00",
          "2021-05-10 05:00:00+00:00",
          "2021-05-10 06:00:00+00:00",
          "2021-05-10 14:00:00+00:00",
          "2021-05-11 08:00:00+00:00",
          "2021-05-11 10:00:00+00:00",
          "2021-05-11 12:00:00+00:00",
          "2021-05-11 13:02:00+00:00",
          "2021-05-11 13:19:00+00:00",
          "2021-05-12 12:00:00+00:00",
          "2021-05-13 05:00:00+00:00",
          "2021-05-13 07:00:00+00:00",
          "2021-05-13 07:53:00+00:00",
          "2021-05-14 06:00:00+00:00",
          "2021-05-14 12:00:00+00:00",
          "2021-05-14 13:00:00+00:00",
          "2021-05-17 12:00:00+00:00",
          "2021-05-17 15:00:00+00:00",
          "2021-05-19 00:00:00+00:00",
          "2021-05-19 02:00:00+00:00",
          "2021-05-19 12:00:00+00:00",
          "2021-05-20 08:00:00+00:00",
          "2021-05-20 09:00:00+00:00",
          "2021-05-24 13:00:00+00:00",
          "2021-05-24 13:47:00+00:00",
          "2021-05-26 07:00:00+00:00",
          "2021-05-26 07:14:00+00:00",
          "2021-05-26 12:00:00+00:00",
          "2021-05-26 13:00:00+00:00",
          "2021-05-27 02:41:00+00:00",
          "2021-05-27 06:00:00+00:00",
          "2021-05-27 07:00:00+00:00",
          "2021-06-08 07:00:00+00:00",
          "2021-06-08 10:00:00+00:00",
          "2021-06-08 12:00:00+00:00",
          "2021-06-08 13:00:00+00:00",
          "2021-06-09 06:00:00+00:00",
          "2021-06-09 08:00:00+00:00",
          "2021-06-10 12:00:00+00:00",
          "2021-06-11 16:00:00+00:00",
          "2021-06-14 16:29:00+00:00",
          "2021-06-15 06:00:00+00:00",
          "2021-06-15 08:00:00+00:00",
          "2021-06-15 13:38:00+00:00",
          "2021-06-17 07:00:00+00:00",
          "2021-06-21 03:00:00+00:00",
          "2021-06-21 05:00:00+00:00",
          "2021-06-21 06:00:00+00:00",
          "2021-06-22 05:00:00+00:00",
          "2021-06-22 07:00:00+00:00",
          "2021-06-22 07:43:00+00:00",
          "2021-06-22 08:00:00+00:00",
          "2021-06-30 07:00:00+00:00",
          "2021-07-01 07:00:00+00:00",
          "2021-07-01 11:00:00+00:00",
          "2021-07-06 03:00:00+00:00",
          "2021-07-06 07:00:00+00:00",
          "2021-07-06 16:00:00+00:00",
          "2021-07-07 04:00:00+00:00",
          "2021-07-07 05:00:00+00:00",
          "2021-07-07 05:56:00+00:00",
          "2021-07-07 13:00:00+00:00",
          "2021-07-07 13:50:00+00:00",
          "2021-07-08 13:34:00+00:00",
          "2021-07-08 13:36:00+00:00",
          "2021-07-09 07:27:00+00:00",
          "2021-07-09 08:00:00+00:00",
          "2021-07-09 10:00:00+00:00",
          "2021-07-12 07:00:00+00:00",
          "2021-07-12 07:28:00+00:00",
          "2021-07-12 10:00:00+00:00",
          "2021-07-12 13:00:00+00:00",
          "2021-07-13 04:10:00+00:00",
          "2021-07-13 05:00:00+00:00",
          "2021-07-14 10:00:00+00:00",
          "2021-07-14 13:00:00+00:00",
          "2021-07-15 07:23:00+00:00",
          "2021-07-15 07:27:00+00:00",
          "2021-07-16 07:49:00+00:00",
          "2021-07-16 07:51:00+00:00",
          "2021-07-19 06:00:00+00:00",
          "2021-07-20 03:28:00+00:00",
          "2021-07-20 14:01:00+00:00",
          "2021-07-21 06:46:00+00:00",
          "2021-07-21 07:00:00+00:00",
          "2021-07-22 06:00:00+00:00",
          "2021-07-22 07:00:00+00:00",
          "2021-07-23 07:21:00+00:00",
          "2021-07-23 12:38:00+00:00",
          "2021-07-26 08:00:00+00:00",
          "2021-07-26 08:34:00+00:00",
          "2021-07-26 08:44:00+00:00",
          "2021-07-26 09:00:00+00:00",
          "2021-07-27 06:00:00+00:00",
          "2021-07-27 07:00:00+00:00",
          "2021-07-27 08:20:00+00:00",
          "2021-07-27 13:00:00+00:00",
          "2021-07-27 14:50:00+00:00",
          "2021-07-29 07:00:00+00:00",
          "2021-07-29 08:00:00+00:00",
          "2021-07-30 06:58:00+00:00",
          "2021-07-30 07:00:00+00:00",
          "2021-08-02 08:01:00+00:00",
          "2021-08-02 09:00:00+00:00",
          "2021-08-03 07:33:00+00:00",
          "2021-08-03 08:00:00+00:00",
          "2021-08-04 06:00:00+00:00",
          "2021-08-04 12:00:00+00:00",
          "2021-08-05 07:00:00+00:00",
          "2021-08-05 14:00:00+00:00",
          "2021-08-09 07:00:00+00:00",
          "2021-08-09 08:00:00+00:00",
          "2021-08-09 09:00:00+00:00",
          "2021-08-09 09:28:00+00:00",
          "2021-08-10 07:00:00+00:00",
          "2021-08-10 08:00:00+00:00",
          "2021-08-11 12:00:00+00:00",
          "2021-08-11 16:29:00+00:00",
          "2021-08-12 11:00:00+00:00",
          "2021-08-12 13:00:00+00:00",
          "2021-08-12 14:00:00+00:00",
          "2021-08-13 07:00:00+00:00",
          "2021-08-16 06:00:00+00:00",
          "2021-08-16 07:00:00+00:00",
          "2021-08-16 11:00:00+00:00",
          "2021-08-17 06:00:00+00:00",
          "2021-08-17 07:06:00+00:00",
          "2021-08-17 10:00:00+00:00",
          "2021-08-17 16:00:00+00:00",
          "2021-08-18 05:33:00+00:00",
          "2021-08-18 08:00:00+00:00",
          "2021-08-18 11:49:00+00:00",
          "2021-08-19 06:00:00+00:00",
          "2021-08-19 06:27:00+00:00",
          "2021-08-19 07:00:00+00:00",
          "2021-08-19 07:57:00+00:00",
          "2021-08-19 12:20:00+00:00",
          "2021-08-19 12:41:00+00:00",
          "2021-08-19 14:00:00+00:00",
          "2021-08-20 05:00:00+00:00",
          "2021-08-20 08:00:00+00:00",
          "2021-08-20 11:00:00+00:00",
          "2021-08-20 13:00:00+00:00",
          "2021-08-20 13:46:00+00:00",
          "2021-08-23 00:00:00+00:00",
          "2021-08-23 06:00:00+00:00",
          "2021-08-23 14:00:00+00:00",
          "2021-08-24 07:00:00+00:00",
          "2021-08-24 08:00:00+00:00",
          "2021-08-24 10:00:00+00:00",
          "2021-08-24 13:31:00+00:00",
          "2021-08-25 14:00:00+00:00",
          "2021-08-26 07:38:00+00:00",
          "2021-08-26 11:00:00+00:00",
          "2021-08-26 12:36:00+00:00",
          "2021-08-27 06:00:00+00:00",
          "2021-08-27 06:56:00+00:00",
          "2021-08-30 16:29:00+00:00",
          "2021-08-31 05:00:00+00:00",
          "2021-08-31 06:34:00+00:00",
          "2021-09-01 07:00:00+00:00",
          "2021-09-02 07:00:00+00:00",
          "2021-09-02 07:38:00+00:00",
          "2021-09-06 15:04:00+00:00",
          "2021-09-07 00:48:00+00:00",
          "2021-09-07 10:00:00+00:00",
          "2021-09-07 12:58:00+00:00",
          "2021-09-07 16:00:00+00:00",
          "2021-09-08 11:00:00+00:00",
          "2021-09-08 14:00:00+00:00",
          "2021-09-08 16:29:00+00:00",
          "2021-09-13 06:41:00+00:00",
          "2021-09-13 10:00:00+00:00",
          "2021-09-15 13:55:00+00:00",
          "2021-09-16 07:19:00+00:00",
          "2021-09-16 11:35:00+00:00",
          "2021-09-17 13:54:00+00:00",
          "2021-09-20 06:10:00+00:00",
          "2021-09-20 06:45:00+00:00",
          "2021-09-23 07:22:00+00:00",
          "2021-09-23 08:12:00+00:00",
          "2021-09-23 10:11:00+00:00",
          "2021-09-23 10:38:00+00:00",
          "2021-09-23 10:49:00+00:00",
          "2021-09-23 11:08:00+00:00",
          "2021-09-24 10:00:00+00:00",
          "2021-09-24 13:33:00+00:00",
          "2021-09-27 11:13:00+00:00",
          "2021-09-28 09:50:00+00:00",
          "2021-09-29 13:34:00+00:00",
          "2021-09-29 14:45:00+00:00",
          "2021-09-30 14:57:00+00:00",
          "2021-09-30 15:12:00+00:00",
          "2021-10-01 06:54:00+00:00",
          "2021-10-01 07:57:00+00:00",
          "2021-10-01 09:35:00+00:00",
          "2021-10-04 06:00:00+00:00",
          "2021-10-04 07:06:00+00:00",
          "2021-10-04 08:00:00+00:00",
          "2021-10-05 13:55:00+00:00",
          "2021-10-05 14:45:00+00:00",
          "2021-10-07 09:16:00+00:00",
          "2021-10-07 09:17:00+00:00",
          "2021-10-08 09:53:00+00:00",
          "2021-10-08 14:05:00+00:00",
          "2021-10-12 06:45:00+00:00",
          "2021-10-12 08:30:00+00:00",
          "2021-10-12 09:12:00+00:00",
          "2021-10-12 11:35:00+00:00",
          "2021-10-12 12:04:00+00:00",
          "2021-10-13 07:38:00+00:00",
          "2021-10-13 10:16:00+00:00",
          "2021-10-25 08:53:00+00:00",
          "2021-10-25 08:56:00+00:00",
          "2021-10-25 09:23:00+00:00",
          "2021-10-25 10:50:00+00:00",
          "2021-10-25 13:50:00+00:00",
          "2021-10-27 08:42:00+00:00",
          "2021-10-27 09:01:00+00:00",
          "2021-10-27 10:48:00+00:00",
          "2021-10-28 07:59:00+00:00",
          "2021-11-01 08:01:00+00:00",
          "2021-11-01 09:00:00+00:00",
          "2021-11-01 10:59:00+00:00",
          "2021-11-02 08:52:00+00:00",
          "2021-11-02 11:53:00+00:00",
          "2021-11-02 12:00:00+00:00",
          "2021-11-03 11:51:00+00:00",
          "2021-11-03 12:56:00+00:00",
          "2021-11-04 07:15:00+00:00",
          "2021-11-04 08:15:00+00:00",
          "2021-11-04 08:44:00+00:00",
          "2021-11-04 10:09:00+00:00",
          "2021-11-04 11:36:00+00:00",
          "2021-11-04 12:00:00+00:00",
          "2021-11-08 15:28:00+00:00",
          "2021-11-08 17:29:00+00:00",
          "2021-11-09 07:14:00+00:00",
          "2021-11-09 08:12:00+00:00",
          "2021-11-09 14:54:00+00:00",
          "2021-11-11 10:09:00+00:00",
          "2021-11-11 17:29:00+00:00",
          "2021-11-17 17:29:00+00:00",
          "2021-11-18 05:05:00+00:00",
          "2021-11-18 06:11:00+00:00",
          "2021-11-18 09:20:00+00:00",
          "2021-11-22 11:48:00+00:00",
          "2021-11-24 04:01:00+00:00",
          "2021-11-24 07:58:00+00:00",
          "2021-11-24 08:00:00+00:00",
          "2021-11-24 17:29:00+00:00",
          "2021-11-29 07:57:00+00:00",
          "2021-11-29 10:55:00+00:00",
          "2021-11-30 05:19:00+00:00",
          "2021-11-30 06:01:00+00:00",
          "2021-11-30 11:15:00+00:00",
          "2021-11-30 13:32:00+00:00",
          "2021-11-30 14:45:00+00:00",
          "2021-12-02 13:45:00+00:00",
          "2021-12-02 14:59:00+00:00",
          "2021-12-02 17:10:00+00:00",
          "2021-12-03 11:02:00+00:00",
          "2021-12-03 12:01:00+00:00",
          "2021-12-06 15:13:00+00:00",
          "2021-12-06 16:19:00+00:00",
          "2021-12-07 08:33:00+00:00",
          "2021-12-07 09:09:00+00:00",
          "2021-12-07 10:52:00+00:00",
          "2021-12-07 11:23:00+00:00",
          "2021-12-07 13:18:00+00:00",
          "2021-12-08 10:24:00+00:00",
          "2021-12-08 10:36:00+00:00",
          "2021-12-08 13:40:00+00:00",
          "2021-12-08 13:54:00+00:00",
          "2021-12-09 10:42:00+00:00",
          "2021-12-09 10:48:00+00:00",
          "2021-12-09 14:24:00+00:00",
          "2021-12-13 08:12:00+00:00",
          "2021-12-13 10:17:00+00:00",
          "2021-12-14 06:46:00+00:00",
          "2021-12-14 11:10:00+00:00",
          "2021-12-15 14:59:00+00:00",
          "2021-12-16 07:15:00+00:00",
          "2021-12-16 08:15:00+00:00",
          "2021-12-17 10:03:00+00:00",
          "2021-12-17 11:48:00+00:00",
          "2021-12-17 12:47:00+00:00",
          "2021-12-20 11:37:00+00:00",
          "2021-12-20 13:14:00+00:00",
          "2021-12-21 14:21:00+00:00",
          "2021-12-21 16:13:00+00:00",
          "2021-12-27 08:15:00+00:00",
          "2021-12-27 12:32:00+00:00",
          "2022-01-04 07:52:00+00:00",
          "2022-01-04 08:01:00+00:00",
          "2022-01-04 09:45:00+00:00",
          "2022-01-05 10:37:00+00:00",
          "2022-01-05 13:24:00+00:00",
          "2022-01-05 16:20:00+00:00",
          "2022-01-06 10:11:00+00:00",
          "2022-01-06 10:13:00+00:00",
          "2022-01-12 11:10:00+00:00",
          "2022-01-12 13:06:00+00:00",
          "2022-01-13 08:43:00+00:00",
          "2022-01-13 12:01:00+00:00",
          "2022-01-14 09:18:00+00:00",
          "2022-01-14 12:24:00+00:00",
          "2022-01-14 12:28:00+00:00",
          "2022-01-17 12:06:00+00:00",
          "2022-01-17 14:37:00+00:00",
          "2022-01-17 15:28:00+00:00",
          "2022-01-18 06:46:00+00:00",
          "2022-01-18 08:15:00+00:00",
          "2022-01-19 09:05:00+00:00",
          "2022-01-19 09:45:00+00:00",
          "2022-01-20 08:21:00+00:00",
          "2022-01-20 10:35:00+00:00",
          "2022-01-20 11:56:00+00:00",
          "2022-01-24 11:26:00+00:00",
          "2022-01-24 13:31:00+00:00",
          "2022-01-24 14:39:00+00:00",
          "2022-01-24 15:11:00+00:00",
          "2022-01-25 09:22:00+00:00",
          "2022-01-25 11:55:00+00:00",
          "2022-01-26 11:20:00+00:00",
          "2022-01-26 16:23:00+00:00",
          "2022-01-27 10:37:00+00:00",
          "2022-01-27 11:38:00+00:00",
          "2022-01-31 16:42:00+00:00",
          "2022-02-01 07:28:00+00:00",
          "2022-02-01 15:25:00+00:00"
         ],
         "y": [
          -0.9999999999999464,
          -2.0036496350363597,
          "",
          -2.025780782577239,
          -2.062071105157828,
          -3.062071105157912,
          -4.067071105157737,
          "",
          -2.1861187242053344,
          -3.1907058801686103,
          "",
          -2.863512897712478,
          "",
          -0.4479284821280447,
          -1.4433413261649317,
          "",
          -0.9428988482888129,
          "",
          -0.5428988482887978,
          -1.537948353239401,
          "",
          -1.1714266141089584,
          "",
          1.2885733858911348,
          0.28857338589112036,
          -0.7114266141088859,
          "",
          1.457746318221977,
          "",
          1.3057726340114542,
          0.30931873330221327,
          "",
          1.302037179904218,
          0.3020371799042695,
          -0.6997613812467368,
          "",
          -0.5686934200816695,
          -1.5716696105578274,
          "",
          -0.15447215832858596,
          "",
          0.27521534167137846,
          "",
          0.7914164589898021,
          -0.20858354101019605,
          0.28750584446465133,
          "",
          1.7734562576878403,
          0.7734562576878385,
          "",
          1.741486948224944,
          "",
          3.060441196590939,
          2.060441196590862,
          "",
          2.9742343000390905,
          1.9702972921650928,
          2.568270265138098,
          1.5631156259628756,
          "",
          2.4311156259629954,
          "",
          3.2131669080142586,
          2.210172896038272,
          1.2101728960382738,
          0.21017289603818035,
          -0.7916789558136557,
          "",
          "",
          -1.7916789558136466,
          -2.074580510217817,
          -1.7041894487652651,
          -2.7076141062993386,
          -3.7040680070085794,
          "",
          -3.877694380634945,
          "",
          -2.8962841242247577,
          -2.260481655089019,
          -3.263929930951077,
          "",
          -2.4293554628660528,
          -3.4282661382473245,
          -4.428266138247363,
          "",
          -3.1216623646625727,
          -1.704995697995868,
          "",
          -0.3016844397177789,
          "",
          0.2983155602821549,
          "",
          1.155891317857959,
          "",
          1.6588324943285664,
          0.6642088384145757,
          -0.33327859877147503,
          -0.34994526543815363,
          "",
          -0.5145658011524492,
          "",
          -0.14028008686677496,
          "",
          0.27411680029277935,
          "",
          0.9241168002927127,
          "",
          1.5148656989711304,
          "",
          3.4640182413440215,
          "",
          4.035446812772615,
          3.0354468127727925,
          "",
          3.769110179109468,
          4.9796364948989424,
          "",
          5.131284846547362,
          4.131284846547324,
          "",
          5.19606217448251,
          "",
          6.529395507815758,
          5.529395507815721,
          6.230538364958604,
          "",
          6.371917675303439,
          5.371917675303263,
          "",
          5.558358353269394,
          "",
          7.459121712048133,
          6.459121712048291,
          5.4591217120484785,
          "",
          5.879623804098686,
          4.8843857088605755,
          "",
          4.903851357715532,
          5.913110616974611,
          4.921882546798911,
          "",
          4.985914167352269,
          3.985914167352123,
          "",
          4.517082998520954,
          3.5240274429651963,
          3.4481345858223573,
          3.3881345858222605,
          2.3852610226039,
          "",
          2.7389333389881316,
          "",
          3.954358870902978,
          2.9584239115533664,
          "",
          5.105859808989278,
          "",
          6.347138878756814,
          5.344108575726534,
          "",
          6.991001231093767,
          "",
          7.867786945379484,
          "",
          8.37225621912248,
          10.432740090090183,
          9.432740090090114,
          8.432740090090263,
          9.394322010994314,
          "",
          9.980889175173418,
          8.980889175173466,
          "",
          10.120070461723161,
          "",
          11.55872076847161,
          10.558720768471419,
          9.558720768471328,
          "",
          10.939002458612093,
          "",
          11.504118737681848,
          12.180761073448231,
          "",
          12.294512871005349,
          11.29786857570325,
          10.301414674994009,
          "",
          10.44988406274908,
          "",
          12.058684062749053,
          "",
          12.858316415690192,
          11.854868139828135,
          10.854868139827826,
          "",
          12.077090362050093,
          13.748164742215376,
          "",
          13.215236126735917,
          "",
          14.655487699062903,
          "",
          16.778564622139733,
          "",
          16.826502766469638,
          "",
          17.591533441316237,
          16.595079540606996,
          15.595079540606834,
          14.595079540606863,
          13.600079540606801,
          12.60309158879952,
          "",
          13.503091588799442,
          "",
          14.898813513933078,
          13.898813513933064,
          12.898813513933101,
          12.987159378594697,
          11.98358795002345,
          "",
          11.738735008847001,
          10.745313956215353,
          9.74531395621527,
          8.74756620846743,
          "",
          9.141316208467414,
          "",
          9.141316208467414,
          "",
          9.7541733513246,
          "",
          11.280489140798302,
          10.277911821210793,
          10.999340392639358,
          10.001398005808054,
          "",
          11.045233622246373,
          "",
          11.67281982914298,
          10.66975234448041,
          9.672577203237447,
          10.385077203237438,
          9.382299425459689,
          8.382299425459685,
          7.382299425459717,
          "",
          7.6844972276575465,
          6.682489195529067,
          5.682489195528876,
          "",
          6.309008532545507,
          5.304058037496128,
          "",
          6.234663019702499,
          "",
          6.805394727019552,
          5.809561393686082,
          "",
          7.3166036472072,
          "",
          9.168754184841598,
          "",
          10.077449837015479,
          "",
          10.734659139341028,
          "",
          11.647580487655635,
          10.64550579885897,
          "",
          10.425183218213768,
          9.42518321821389,
          8.4219985048381,
          7.41818171094506,
          6.418181710944973,
          "",
          8.052202329501757,
          10.075103092860534,
          10.657070305975225,
          10.630284591689467,
          "",
          11.18134842147672,
          11.93425164728319,
          10.930345397283206,
          9.930345397283363,
          "",
          11.028518913265085,
          10.028518913265048,
          9.028518913265055,
          "",
          9.561386046132228,
          8.56138604613219,
          7.558697874089205,
          6.558697874089191,
          "",
          6.994658465222135,
          5.991699885340482,
          4.988102763038337,
          "",
          6.026198001133524,
          "",
          6.523758976743265,
          "",
          7.505240458224672,
          6.5052404582248835,
          "",
          7.407679482615139,
          6.407679482615287,
          5.404822339758147,
          4.40482233975813,
          6.026369301084067,
          "",
          5.923244301084019,
          "",
          6.626815729655457,
          "",
          7.894111327139725,
          "",
          8.71430363483204,
          7.714303634832073,
          6.714303634832177,
          6.807910940768269,
          "",
          8.130396147868801,
          "",
          9.503584553665972,
          8.503584553665819,
          9.822550070907175,
          "",
          "",
          11.270937167681371,
          12.582455492288728,
          11.58245549228874,
          10.580262509832615,
          9.582185586755681,
          8.584660834280385,
          8.978798765314897,
          "",
          11.169064252040531,
          "",
          12.335730918707279,
          "",
          12.580139864394212,
          "",
          13.553708146332529,
          "",
          14.076817390029962,
          "",
          15.30544192534597,
          "",
          15.880302260541532,
          "",
          16.765824146063434,
          "",
          17.93007535379297,
          16.933596480553476,
          16.760756974380513,
          15.763663951124647,
          14.763663951124645,
          13.763663951124814,
          14.306438517598881,
          13.306438517598773,
          "",
          14.633923897715787,
          13.633923897715835,
          12.633923897716054,
          11.631346578128547,
          10.631346578128625,
          "",
          11.285173306955349,
          11.751163154671058,
          10.754388961122588,
          9.758205755015625,
          8.7544463565194,
          7.750478102551202,
          "",
          8.000478102551183,
          7.00319549385548,
          6.006102470599615,
          5.002724092221342,
          4.002724092221297,
          4.517009806506997,
          5.307738283328238,
          "",
          6.72065963164292,
          7.218565390805235,
          6.218565390805223,
          7.883919721513802,
          8.624964497633188,
          7.6249644976330995,
          8.108985116189782,
          "",
          8.874569531774254,
          7.876670372110389,
          "",
          9.158835977205952,
          9.612652018739505,
          "",
          10.875709343580272,
          9.875709343580183,
          "",
          10.917229811416378,
          11.062057397623281,
          "",
          11.03144515272535,
          "",
          12.862272220394397,
          "",
          13.518401252652458,
          15.205552090641401,
          15.433504846546894,
          16.00668920408877,
          16.836847934247448,
          "",
          17.958696673743372,
          16.95869667374342,
          15.958696673743457,
          14.955200170247032,
          "",
          15.460045985225065,
          14.460045985225083,
          "",
          14.947225472404618,
          15.408503667893306,
          "",
          16.03452407605656,
          16.54369838798317,
          15.543698387983056,
          14.546275707570684,
          15.116405577700508,
          "",
          15.331822244367173,
          14.331822244367158,
          "",
          16.05334123170895,
          "",
          16.576418154785834,
          18.47641815478579,
          "",
          19.87985163118068,
          "",
          20.809429095969428,
          "",
          22.432379915641604,
          21.432379915641548,
          "",
          22.72161758380298,
          "",
          24.07042710761246,
          "",
          25.515841954774032,
          "",
          24.51759020652224,
          24.354166082008636,
          24.898050974094986,
          23.898050974094946,
          22.896584698435134,
          21.896584698435124,
          20.896584698435195,
          19.89344004434727,
          "",
          20.36639922802078,
          20.33924990675381,
          19.34126603578606,
          "",
          20.583418502153737,
          "",
          22.1979436418185,
          "",
          22.961580005454927,
          21.961580005454863,
          20.961580005454802,
          19.961580005454834,
          18.961580005454863,
          19.563008576883423,
          19.566505080379944,
          "",
          19.90274361249001,
          18.905026717512815,
          "",
          19.795709947326497,
          19.888195496459392,
          18.885922769186724,
          18.915922769186736,
          19.48198611760299,
          18.484486117602987,
          17.48448611760297,
          16.487754091459156,
          15.487754091459184,
          14.919333038827583,
          "",
          15.752666372160892,
          14.752666372160935,
          13.752666372160853,
          12.752666372160789,
          11.755311874806265,
          10.758288065282347,
          9.758288065282335,
          "",
          10.978046129798408,
          9.97565378530084,
          9.923521083879061,
          "",
          11.145743306101355,
          10.148536602190664,
          9.146011349665432,
          8.146011349665462,
          7.142414227363317,
          6.144588140406788,
          "",
          7.309786378292218,
          "",
          8.576295812254482,
          7.576295812254541,
          6.578722996720557,
          7.21989946730876,
          "",
          8.559133917069461,
          "",
          9.967390797803377,
          8.967390797803448,
          "",
          10.294493601541781,
          9.296725744398918,
          "",
          12.196182266138099,
          "",
          13.291043926217142,
          "",
          14.749580511583,
          "",
          15.98611897312149,
          "",
          17.221555866325353,
          18.7237880091825,
          17.727464479770678,
          "",
          19.175225673800483,
          "",
          20.537772490279938,
          "",
          20.970550268057714,
          "",
          21.674898094144698,
          "",
          22.27920431424038,
          21.281768416804457,
          20.284051521827262,
          "",
          20.955480093255836,
          "",
          21.442244799138216,
          "",
          23.41079825825771,
          22.408260187191765,
          21.40616813698259,
          20.40616813698255,
          20.367706598520964,
          19.365291139583853,
          "",
          19.932823607116337,
          "",
          20.526186438974747,
          "",
          21.779707565735265,
          "",
          22.36904766725811,
          22.76202287386969,
          "",
          24.205684845700645
         ]
        },
        {
         "connectgaps": true,
         "fill": "tozeroy",
         "fillcolor": "rgba(219, 58, 52, 0.3)",
         "line": {
          "color": "rgba(219, 58, 52, 1.0)",
          "dash": "solid",
          "shape": "hv",
          "width": 2
         },
         "mode": "lines",
         "name": "result_100",
         "text": "",
         "type": "scatter",
         "x": [
          "2020-11-05 13:05:00+00:00",
          "2020-11-05 13:42:00+00:00",
          "2020-11-06 02:31:00+00:00",
          "2020-11-06 03:27:00+00:00",
          "2020-11-09 09:57:00+00:00",
          "2020-11-11 00:06:00+00:00",
          "2020-11-11 01:02:00+00:00",
          "2020-11-30 06:35:00+00:00",
          "2020-11-30 07:16:00+00:00",
          "2020-12-01 07:07:00+00:00",
          "2020-12-01 12:38:00+00:00",
          "2020-12-01 12:58:00+00:00",
          "2020-12-01 13:46:00+00:00",
          "2020-12-01 14:22:00+00:00",
          "2020-12-04 13:30:00+00:00",
          "2020-12-07 12:13:00+00:00",
          "2020-12-07 12:48:00+00:00",
          "2020-12-09 07:15:00+00:00",
          "2020-12-09 07:48:00+00:00",
          "2020-12-10 15:32:00+00:00",
          "2020-12-11 06:53:00+00:00",
          "2020-12-11 07:36:00+00:00",
          "2020-12-16 06:34:00+00:00",
          "2020-12-16 07:52:00+00:00",
          "2020-12-17 14:22:00+00:00",
          "2020-12-17 15:04:00+00:00",
          "2020-12-17 16:00:00+00:00",
          "2020-12-17 16:07:00+00:00",
          "2020-12-18 05:01:00+00:00",
          "2020-12-18 07:16:00+00:00",
          "2020-12-18 08:27:00+00:00",
          "2020-12-21 13:33:00+00:00",
          "2020-12-21 14:22:00+00:00",
          "2020-12-22 14:57:00+00:00",
          "2020-12-22 16:01:00+00:00",
          "2020-12-30 13:32:00+00:00",
          "2020-12-30 13:50:00+00:00",
          "2020-12-31 07:59:00+00:00",
          "2021-01-04 07:53:00+00:00",
          "2021-01-04 08:34:00+00:00",
          "2021-01-05 08:51:00+00:00",
          "2021-01-05 11:14:00+00:00",
          "2021-01-07 14:27:00+00:00",
          "2021-01-07 16:42:00+00:00",
          "2021-01-08 05:17:00+00:00",
          "2021-01-08 17:09:00+00:00",
          "2021-01-11 07:33:00+00:00",
          "2021-01-11 12:18:00+00:00",
          "2021-01-11 15:19:00+00:00",
          "2021-01-12 09:49:00+00:00",
          "2021-01-12 09:53:00+00:00",
          "2021-01-15 12:50:00+00:00",
          "2021-01-15 15:08:00+00:00",
          "2021-01-19 07:24:00+00:00",
          "2021-01-20 14:14:00+00:00",
          "2021-01-20 14:22:00+00:00",
          "2021-01-21 13:33:00+00:00",
          "2021-01-21 14:19:00+00:00",
          "2021-01-22 13:16:00+00:00",
          "2021-01-25 15:29:00+00:00",
          "2021-01-25 15:50:00+00:00",
          "2021-01-26 14:15:00+00:00",
          "2021-01-26 14:17:00+00:00",
          "2021-01-28 01:10:00+00:00",
          "2021-01-29 06:48:00+00:00",
          "2021-01-29 08:08:00+00:00",
          "2021-02-01 08:51:00+00:00",
          "2021-02-01 10:50:00+00:00",
          "2021-02-01 11:34:00+00:00",
          "2021-02-01 12:16:00+00:00",
          "2021-02-01 13:13:00+00:00",
          "2021-02-01 13:15:00+00:00",
          "2021-02-01 13:16:00+00:00",
          "2021-02-02 08:20:00+00:00",
          "2021-02-03 03:58:00+00:00",
          "2021-02-03 04:40:00+00:00",
          "2021-02-03 07:59:00+00:00",
          "2021-02-03 08:04:00+00:00",
          "2021-02-03 17:29:00+00:00",
          "2021-02-05 08:00:00+00:00",
          "2021-02-08 10:00:00+00:00",
          "2021-02-08 10:27:00+00:00",
          "2021-02-09 07:00:00+00:00",
          "2021-02-16 14:00:00+00:00",
          "2021-02-17 12:23:00+00:00",
          "2021-02-17 12:43:00+00:00",
          "2021-02-18 08:00:00+00:00",
          "2021-02-22 07:00:00+00:00",
          "2021-02-22 07:10:00+00:00",
          "2021-02-23 06:24:00+00:00",
          "2021-02-23 07:00:00+00:00",
          "2021-02-23 09:55:00+00:00",
          "2021-02-23 10:00:00+00:00",
          "2021-02-24 08:00:00+00:00",
          "2021-02-24 08:12:00+00:00",
          "2021-02-25 07:00:00+00:00",
          "2021-02-25 08:00:00+00:00",
          "2021-02-25 08:36:00+00:00",
          "2021-03-01 08:32:00+00:00",
          "2021-03-01 13:00:00+00:00",
          "2021-03-01 15:48:00+00:00",
          "2021-03-01 15:59:00+00:00",
          "2021-03-02 08:00:00+00:00",
          "2021-03-02 08:56:00+00:00",
          "2021-03-02 14:40:00+00:00",
          "2021-03-02 15:00:00+00:00",
          "2021-03-03 10:17:00+00:00",
          "2021-03-03 11:39:00+00:00",
          "2021-03-03 15:46:00+00:00",
          "2021-03-03 15:59:00+00:00",
          "2021-03-05 11:01:00+00:00",
          "2021-03-05 13:00:00+00:00",
          "2021-03-09 05:00:00+00:00",
          "2021-03-09 07:00:00+00:00",
          "2021-03-09 07:36:00+00:00",
          "2021-03-09 08:00:00+00:00",
          "2021-03-09 15:09:00+00:00",
          "2021-03-09 16:00:00+00:00",
          "2021-03-10 06:00:00+00:00",
          "2021-03-10 07:00:00+00:00",
          "2021-03-10 08:00:00+00:00",
          "2021-03-10 10:00:00+00:00",
          "2021-03-10 14:00:00+00:00",
          "2021-03-12 09:00:00+00:00",
          "2021-03-12 16:42:00+00:00",
          "2021-03-15 07:06:00+00:00",
          "2021-03-15 10:55:00+00:00",
          "2021-03-16 05:44:00+00:00",
          "2021-03-16 07:01:00+00:00",
          "2021-03-16 07:57:00+00:00",
          "2021-03-17 05:59:00+00:00",
          "2021-03-17 07:04:00+00:00",
          "2021-03-17 13:50:00+00:00",
          "2021-03-18 03:35:00+00:00",
          "2021-03-18 04:01:00+00:00",
          "2021-03-18 05:27:00+00:00",
          "2021-03-19 04:22:00+00:00",
          "2021-03-19 07:01:00+00:00",
          "2021-03-19 08:00:00+00:00",
          "2021-03-22 05:36:00+00:00",
          "2021-03-22 06:48:00+00:00",
          "2021-03-22 08:04:00+00:00",
          "2021-03-22 12:03:00+00:00",
          "2021-03-23 04:27:00+00:00",
          "2021-03-23 06:04:00+00:00",
          "2021-03-23 06:16:00+00:00",
          "2021-03-24 02:36:00+00:00",
          "2021-03-24 08:20:00+00:00",
          "2021-03-25 04:48:00+00:00",
          "2021-03-26 06:49:00+00:00",
          "2021-03-29 03:50:00+00:00",
          "2021-03-29 05:00:00+00:00",
          "2021-03-29 07:49:00+00:00",
          "2021-03-29 07:51:00+00:00",
          "2021-03-30 05:55:00+00:00",
          "2021-03-30 06:40:00+00:00",
          "2021-03-30 08:00:00+00:00",
          "2021-03-31 08:00:00+00:00",
          "2021-03-31 13:00:00+00:00",
          "2021-04-01 07:00:00+00:00",
          "2021-04-01 07:28:00+00:00",
          "2021-04-01 08:00:00+00:00",
          "2021-04-05 08:00:00+00:00",
          "2021-04-05 12:00:00+00:00",
          "2021-04-06 12:00:00+00:00",
          "2021-04-06 13:45:00+00:00",
          "2021-04-06 14:00:00+00:00",
          "2021-04-07 05:51:00+00:00",
          "2021-04-07 06:30:00+00:00",
          "2021-04-07 07:00:00+00:00",
          "2021-04-08 06:47:00+00:00",
          "2021-04-08 07:00:00+00:00",
          "2021-04-08 08:46:00+00:00",
          "2021-04-08 09:00:00+00:00",
          "2021-04-08 09:37:00+00:00",
          "2021-04-09 10:00:00+00:00",
          "2021-04-09 12:00:00+00:00",
          "2021-04-12 02:14:00+00:00",
          "2021-04-12 05:45:00+00:00",
          "2021-04-12 06:00:00+00:00",
          "2021-04-12 08:00:00+00:00",
          "2021-04-13 05:59:00+00:00",
          "2021-04-13 07:00:00+00:00",
          "2021-04-13 07:57:00+00:00",
          "2021-04-13 09:00:00+00:00",
          "2021-04-13 10:00:00+00:00",
          "2021-04-14 06:38:00+00:00",
          "2021-04-14 07:00:00+00:00",
          "2021-04-14 08:03:00+00:00",
          "2021-04-14 08:17:00+00:00",
          "2021-04-14 09:00:00+00:00",
          "2021-04-14 09:41:00+00:00",
          "2021-04-16 07:57:00+00:00",
          "2021-04-16 10:00:00+00:00",
          "2021-04-19 08:00:00+00:00",
          "2021-04-19 08:54:00+00:00",
          "2021-04-19 09:55:00+00:00",
          "2021-04-19 10:00:00+00:00",
          "2021-04-20 06:00:00+00:00",
          "2021-04-20 10:54:00+00:00",
          "2021-04-20 13:00:00+00:00",
          "2021-04-21 06:00:00+00:00",
          "2021-04-21 07:00:00+00:00",
          "2021-04-21 07:45:00+00:00",
          "2021-04-21 07:57:00+00:00",
          "2021-04-22 06:22:00+00:00",
          "2021-04-22 07:00:00+00:00",
          "2021-04-22 08:00:00+00:00",
          "2021-04-22 08:42:00+00:00",
          "2021-04-22 12:00:00+00:00",
          "2021-04-22 12:33:00+00:00",
          "2021-04-23 12:00:00+00:00",
          "2021-04-23 12:22:00+00:00",
          "2021-04-26 11:00:00+00:00",
          "2021-04-26 12:00:00+00:00",
          "2021-04-26 12:40:00+00:00",
          "2021-04-27 13:50:00+00:00",
          "2021-04-27 14:00:00+00:00",
          "2021-04-28 13:00:00+00:00",
          "2021-04-29 16:00:00+00:00",
          "2021-04-29 16:29:00+00:00",
          "2021-04-30 01:00:00+00:00",
          "2021-04-30 05:33:00+00:00",
          "2021-04-30 06:00:00+00:00",
          "2021-04-30 06:18:00+00:00",
          "2021-04-30 10:08:00+00:00",
          "2021-04-30 14:52:00+00:00",
          "2021-05-03 12:00:00+00:00",
          "2021-05-03 12:44:00+00:00",
          "2021-05-04 12:55:00+00:00",
          "2021-05-04 13:00:00+00:00",
          "2021-05-04 13:35:00+00:00",
          "2021-05-04 13:49:00+00:00",
          "2021-05-04 14:42:00+00:00",
          "2021-05-04 15:00:00+00:00",
          "2021-05-05 13:36:00+00:00",
          "2021-05-05 14:00:00+00:00",
          "2021-05-06 10:00:00+00:00",
          "2021-05-06 11:10:00+00:00",
          "2021-05-06 14:00:00+00:00",
          "2021-05-07 07:00:00+00:00",
          "2021-05-07 12:00:00+00:00",
          "2021-05-10 05:00:00+00:00",
          "2021-05-10 06:00:00+00:00",
          "2021-05-10 14:00:00+00:00",
          "2021-05-11 08:00:00+00:00",
          "2021-05-11 10:00:00+00:00",
          "2021-05-11 12:00:00+00:00",
          "2021-05-11 13:02:00+00:00",
          "2021-05-11 13:19:00+00:00",
          "2021-05-12 12:00:00+00:00",
          "2021-05-13 05:00:00+00:00",
          "2021-05-13 07:00:00+00:00",
          "2021-05-13 07:53:00+00:00",
          "2021-05-14 06:00:00+00:00",
          "2021-05-14 12:00:00+00:00",
          "2021-05-14 13:00:00+00:00",
          "2021-05-17 12:00:00+00:00",
          "2021-05-17 15:00:00+00:00",
          "2021-05-19 00:00:00+00:00",
          "2021-05-19 02:00:00+00:00",
          "2021-05-19 12:00:00+00:00",
          "2021-05-20 08:00:00+00:00",
          "2021-05-20 09:00:00+00:00",
          "2021-05-24 13:00:00+00:00",
          "2021-05-24 13:47:00+00:00",
          "2021-05-26 07:00:00+00:00",
          "2021-05-26 07:14:00+00:00",
          "2021-05-26 12:00:00+00:00",
          "2021-05-26 13:00:00+00:00",
          "2021-05-27 02:41:00+00:00",
          "2021-05-27 06:00:00+00:00",
          "2021-05-27 07:00:00+00:00",
          "2021-06-08 07:00:00+00:00",
          "2021-06-08 10:00:00+00:00",
          "2021-06-08 12:00:00+00:00",
          "2021-06-08 13:00:00+00:00",
          "2021-06-09 06:00:00+00:00",
          "2021-06-09 08:00:00+00:00",
          "2021-06-10 12:00:00+00:00",
          "2021-06-11 16:00:00+00:00",
          "2021-06-14 16:29:00+00:00",
          "2021-06-15 06:00:00+00:00",
          "2021-06-15 08:00:00+00:00",
          "2021-06-15 13:38:00+00:00",
          "2021-06-17 07:00:00+00:00",
          "2021-06-21 03:00:00+00:00",
          "2021-06-21 05:00:00+00:00",
          "2021-06-21 06:00:00+00:00",
          "2021-06-22 05:00:00+00:00",
          "2021-06-22 07:00:00+00:00",
          "2021-06-22 07:43:00+00:00",
          "2021-06-22 08:00:00+00:00",
          "2021-06-30 07:00:00+00:00",
          "2021-07-01 07:00:00+00:00",
          "2021-07-01 11:00:00+00:00",
          "2021-07-06 03:00:00+00:00",
          "2021-07-06 07:00:00+00:00",
          "2021-07-06 16:00:00+00:00",
          "2021-07-07 04:00:00+00:00",
          "2021-07-07 05:00:00+00:00",
          "2021-07-07 05:56:00+00:00",
          "2021-07-07 13:00:00+00:00",
          "2021-07-07 13:50:00+00:00",
          "2021-07-08 13:34:00+00:00",
          "2021-07-08 13:36:00+00:00",
          "2021-07-09 07:27:00+00:00",
          "2021-07-09 08:00:00+00:00",
          "2021-07-09 10:00:00+00:00",
          "2021-07-12 07:00:00+00:00",
          "2021-07-12 07:28:00+00:00",
          "2021-07-12 10:00:00+00:00",
          "2021-07-12 13:00:00+00:00",
          "2021-07-13 04:10:00+00:00",
          "2021-07-13 05:00:00+00:00",
          "2021-07-14 10:00:00+00:00",
          "2021-07-14 13:00:00+00:00",
          "2021-07-15 07:23:00+00:00",
          "2021-07-15 07:27:00+00:00",
          "2021-07-16 07:49:00+00:00",
          "2021-07-16 07:51:00+00:00",
          "2021-07-19 06:00:00+00:00",
          "2021-07-20 03:28:00+00:00",
          "2021-07-20 14:01:00+00:00",
          "2021-07-21 06:46:00+00:00",
          "2021-07-21 07:00:00+00:00",
          "2021-07-22 06:00:00+00:00",
          "2021-07-22 07:00:00+00:00",
          "2021-07-23 07:21:00+00:00",
          "2021-07-23 12:38:00+00:00",
          "2021-07-26 08:00:00+00:00",
          "2021-07-26 08:34:00+00:00",
          "2021-07-26 08:44:00+00:00",
          "2021-07-26 09:00:00+00:00",
          "2021-07-27 06:00:00+00:00",
          "2021-07-27 07:00:00+00:00",
          "2021-07-27 08:20:00+00:00",
          "2021-07-27 13:00:00+00:00",
          "2021-07-27 14:50:00+00:00",
          "2021-07-29 07:00:00+00:00",
          "2021-07-29 08:00:00+00:00",
          "2021-07-30 06:58:00+00:00",
          "2021-07-30 07:00:00+00:00",
          "2021-08-02 08:01:00+00:00",
          "2021-08-02 09:00:00+00:00",
          "2021-08-03 07:33:00+00:00",
          "2021-08-03 08:00:00+00:00",
          "2021-08-04 06:00:00+00:00",
          "2021-08-04 12:00:00+00:00",
          "2021-08-05 07:00:00+00:00",
          "2021-08-05 14:00:00+00:00",
          "2021-08-09 07:00:00+00:00",
          "2021-08-09 08:00:00+00:00",
          "2021-08-09 09:00:00+00:00",
          "2021-08-09 09:28:00+00:00",
          "2021-08-10 07:00:00+00:00",
          "2021-08-10 08:00:00+00:00",
          "2021-08-11 12:00:00+00:00",
          "2021-08-11 16:29:00+00:00",
          "2021-08-12 11:00:00+00:00",
          "2021-08-12 13:00:00+00:00",
          "2021-08-12 14:00:00+00:00",
          "2021-08-13 07:00:00+00:00",
          "2021-08-16 06:00:00+00:00",
          "2021-08-16 07:00:00+00:00",
          "2021-08-16 11:00:00+00:00",
          "2021-08-17 06:00:00+00:00",
          "2021-08-17 07:06:00+00:00",
          "2021-08-17 10:00:00+00:00",
          "2021-08-17 16:00:00+00:00",
          "2021-08-18 05:33:00+00:00",
          "2021-08-18 08:00:00+00:00",
          "2021-08-18 11:49:00+00:00",
          "2021-08-19 06:00:00+00:00",
          "2021-08-19 06:27:00+00:00",
          "2021-08-19 07:00:00+00:00",
          "2021-08-19 07:57:00+00:00",
          "2021-08-19 12:20:00+00:00",
          "2021-08-19 12:41:00+00:00",
          "2021-08-19 14:00:00+00:00",
          "2021-08-20 05:00:00+00:00",
          "2021-08-20 08:00:00+00:00",
          "2021-08-20 11:00:00+00:00",
          "2021-08-20 13:00:00+00:00",
          "2021-08-20 13:46:00+00:00",
          "2021-08-23 00:00:00+00:00",
          "2021-08-23 06:00:00+00:00",
          "2021-08-23 14:00:00+00:00",
          "2021-08-24 07:00:00+00:00",
          "2021-08-24 08:00:00+00:00",
          "2021-08-24 10:00:00+00:00",
          "2021-08-24 13:31:00+00:00",
          "2021-08-25 14:00:00+00:00",
          "2021-08-26 07:38:00+00:00",
          "2021-08-26 11:00:00+00:00",
          "2021-08-26 12:36:00+00:00",
          "2021-08-27 06:00:00+00:00",
          "2021-08-27 06:56:00+00:00",
          "2021-08-30 16:29:00+00:00",
          "2021-08-31 05:00:00+00:00",
          "2021-08-31 06:34:00+00:00",
          "2021-09-01 07:00:00+00:00",
          "2021-09-02 07:00:00+00:00",
          "2021-09-02 07:38:00+00:00",
          "2021-09-06 15:04:00+00:00",
          "2021-09-07 00:48:00+00:00",
          "2021-09-07 10:00:00+00:00",
          "2021-09-07 12:58:00+00:00",
          "2021-09-07 16:00:00+00:00",
          "2021-09-08 11:00:00+00:00",
          "2021-09-08 14:00:00+00:00",
          "2021-09-08 16:29:00+00:00",
          "2021-09-13 06:41:00+00:00",
          "2021-09-13 10:00:00+00:00",
          "2021-09-15 13:55:00+00:00",
          "2021-09-16 07:19:00+00:00",
          "2021-09-16 11:35:00+00:00",
          "2021-09-17 13:54:00+00:00",
          "2021-09-20 06:10:00+00:00",
          "2021-09-20 06:45:00+00:00",
          "2021-09-23 07:22:00+00:00",
          "2021-09-23 08:12:00+00:00",
          "2021-09-23 10:11:00+00:00",
          "2021-09-23 10:38:00+00:00",
          "2021-09-23 10:49:00+00:00",
          "2021-09-23 11:08:00+00:00",
          "2021-09-24 10:00:00+00:00",
          "2021-09-24 13:33:00+00:00",
          "2021-09-27 11:13:00+00:00",
          "2021-09-28 09:50:00+00:00",
          "2021-09-29 13:34:00+00:00",
          "2021-09-29 14:45:00+00:00",
          "2021-09-30 14:57:00+00:00",
          "2021-09-30 15:12:00+00:00",
          "2021-10-01 06:54:00+00:00",
          "2021-10-01 07:57:00+00:00",
          "2021-10-01 09:35:00+00:00",
          "2021-10-04 06:00:00+00:00",
          "2021-10-04 07:06:00+00:00",
          "2021-10-04 08:00:00+00:00",
          "2021-10-05 13:55:00+00:00",
          "2021-10-05 14:45:00+00:00",
          "2021-10-07 09:16:00+00:00",
          "2021-10-07 09:17:00+00:00",
          "2021-10-08 09:53:00+00:00",
          "2021-10-08 14:05:00+00:00",
          "2021-10-12 06:45:00+00:00",
          "2021-10-12 08:30:00+00:00",
          "2021-10-12 09:12:00+00:00",
          "2021-10-12 11:35:00+00:00",
          "2021-10-12 12:04:00+00:00",
          "2021-10-13 07:38:00+00:00",
          "2021-10-13 10:16:00+00:00",
          "2021-10-25 08:53:00+00:00",
          "2021-10-25 08:56:00+00:00",
          "2021-10-25 09:23:00+00:00",
          "2021-10-25 10:50:00+00:00",
          "2021-10-25 13:50:00+00:00",
          "2021-10-27 08:42:00+00:00",
          "2021-10-27 09:01:00+00:00",
          "2021-10-27 10:48:00+00:00",
          "2021-10-28 07:59:00+00:00",
          "2021-11-01 08:01:00+00:00",
          "2021-11-01 09:00:00+00:00",
          "2021-11-01 10:59:00+00:00",
          "2021-11-02 08:52:00+00:00",
          "2021-11-02 11:53:00+00:00",
          "2021-11-02 12:00:00+00:00",
          "2021-11-03 11:51:00+00:00",
          "2021-11-03 12:56:00+00:00",
          "2021-11-04 07:15:00+00:00",
          "2021-11-04 08:15:00+00:00",
          "2021-11-04 08:44:00+00:00",
          "2021-11-04 10:09:00+00:00",
          "2021-11-04 11:36:00+00:00",
          "2021-11-04 12:00:00+00:00",
          "2021-11-08 15:28:00+00:00",
          "2021-11-08 17:29:00+00:00",
          "2021-11-09 07:14:00+00:00",
          "2021-11-09 08:12:00+00:00",
          "2021-11-09 14:54:00+00:00",
          "2021-11-11 10:09:00+00:00",
          "2021-11-11 17:29:00+00:00",
          "2021-11-17 17:29:00+00:00",
          "2021-11-18 05:05:00+00:00",
          "2021-11-18 06:11:00+00:00",
          "2021-11-18 09:20:00+00:00",
          "2021-11-22 11:48:00+00:00",
          "2021-11-24 04:01:00+00:00",
          "2021-11-24 07:58:00+00:00",
          "2021-11-24 08:00:00+00:00",
          "2021-11-24 17:29:00+00:00",
          "2021-11-29 07:57:00+00:00",
          "2021-11-29 10:55:00+00:00",
          "2021-11-30 05:19:00+00:00",
          "2021-11-30 06:01:00+00:00",
          "2021-11-30 11:15:00+00:00",
          "2021-11-30 13:32:00+00:00",
          "2021-11-30 14:45:00+00:00",
          "2021-12-02 13:45:00+00:00",
          "2021-12-02 14:59:00+00:00",
          "2021-12-02 17:10:00+00:00",
          "2021-12-03 11:02:00+00:00",
          "2021-12-03 12:01:00+00:00",
          "2021-12-06 15:13:00+00:00",
          "2021-12-06 16:19:00+00:00",
          "2021-12-07 08:33:00+00:00",
          "2021-12-07 09:09:00+00:00",
          "2021-12-07 10:52:00+00:00",
          "2021-12-07 11:23:00+00:00",
          "2021-12-07 13:18:00+00:00",
          "2021-12-08 10:24:00+00:00",
          "2021-12-08 10:36:00+00:00",
          "2021-12-08 13:40:00+00:00",
          "2021-12-08 13:54:00+00:00",
          "2021-12-09 10:42:00+00:00",
          "2021-12-09 10:48:00+00:00",
          "2021-12-09 14:24:00+00:00",
          "2021-12-13 08:12:00+00:00",
          "2021-12-13 10:17:00+00:00",
          "2021-12-14 06:46:00+00:00",
          "2021-12-14 11:10:00+00:00",
          "2021-12-15 14:59:00+00:00",
          "2021-12-16 07:15:00+00:00",
          "2021-12-16 08:15:00+00:00",
          "2021-12-17 10:03:00+00:00",
          "2021-12-17 11:48:00+00:00",
          "2021-12-17 12:47:00+00:00",
          "2021-12-20 11:37:00+00:00",
          "2021-12-20 13:14:00+00:00",
          "2021-12-21 14:21:00+00:00",
          "2021-12-21 16:13:00+00:00",
          "2021-12-27 08:15:00+00:00",
          "2021-12-27 12:32:00+00:00",
          "2022-01-04 07:52:00+00:00",
          "2022-01-04 08:01:00+00:00",
          "2022-01-04 09:45:00+00:00",
          "2022-01-05 10:37:00+00:00",
          "2022-01-05 13:24:00+00:00",
          "2022-01-05 16:20:00+00:00",
          "2022-01-06 10:11:00+00:00",
          "2022-01-06 10:13:00+00:00",
          "2022-01-12 11:10:00+00:00",
          "2022-01-12 13:06:00+00:00",
          "2022-01-13 08:43:00+00:00",
          "2022-01-13 12:01:00+00:00",
          "2022-01-14 09:18:00+00:00",
          "2022-01-14 12:24:00+00:00",
          "2022-01-14 12:28:00+00:00",
          "2022-01-17 12:06:00+00:00",
          "2022-01-17 14:37:00+00:00",
          "2022-01-17 15:28:00+00:00",
          "2022-01-18 06:46:00+00:00",
          "2022-01-18 08:15:00+00:00",
          "2022-01-19 09:05:00+00:00",
          "2022-01-19 09:45:00+00:00",
          "2022-01-20 08:21:00+00:00",
          "2022-01-20 10:35:00+00:00",
          "2022-01-20 11:56:00+00:00",
          "2022-01-24 11:26:00+00:00",
          "2022-01-24 13:31:00+00:00",
          "2022-01-24 14:39:00+00:00",
          "2022-01-24 15:11:00+00:00",
          "2022-01-25 09:22:00+00:00",
          "2022-01-25 11:55:00+00:00",
          "2022-01-26 11:20:00+00:00",
          "2022-01-26 16:23:00+00:00",
          "2022-01-27 10:37:00+00:00",
          "2022-01-27 11:38:00+00:00",
          "2022-01-31 16:42:00+00:00",
          "2022-02-01 07:28:00+00:00",
          "2022-02-01 15:25:00+00:00"
         ],
         "y": [
          -0.9999999999999464,
          -2.0036496350363597,
          -2.040534880937826,
          "",
          -2.076825203518415,
          -3.076825203518499,
          -4.081825203518324,
          -2.9818252035183503,
          "",
          -3.9864123594816263,
          -3.9995702542184066,
          "",
          -2.467102721750939,
          "",
          -3.462515565787826,
          -2.6284447693276283,
          "",
          -1.9617781026609364,
          "",
          -2.9568276076115394,
          -2.3459580423941353,
          "",
          -0.24595804239405572,
          "",
          -1.2459580423940702,
          -2.2459580423940766,
          -0.4677625536722225,
          "",
          -0.7210520273564271,
          "",
          -1.717505928065668,
          -1.0160496173859492,
          "",
          -2.0160496173858977,
          -3.0178481785369042,
          -3.105226819313607,
          "",
          -4.108203009789765,
          -3.2005596976879556,
          "",
          -2.4844138643546816,
          "",
          -1.6240786688239757,
          "",
          -2.624078668823974,
          -1.7972630263658949,
          -0.9129655057047434,
          "",
          -1.9129655057047452,
          -1.2006892908709648,
          "",
          -0.29872850655720506,
          "",
          -1.298728506557282,
          -0.4883836789711261,
          "",
          -1.4923206868451238,
          -0.4956990652234483,
          -1.500853704398671,
          -0.7208537043984709,
          "",
          0.00991552637078763,
          "",
          -0.993078485605199,
          -1.993078485605197,
          -2.9930784856052908,
          -3.994930337457127,
          -3.9753772648314145,
          -4.446879855505032,
          -5.446879855505023,
          "",
          "",
          -6.450304513039097,
          -7.446758413748338,
          -7.46873643572634,
          "",
          -6.5488646408546165,
          "",
          -5.913062171718877,
          -6.916510447580936,
          -6.158531724176765,
          "",
          -7.157442399558036,
          -8.157442399558073,
          -7.265932965595977,
          "",
          -6.349266298929196,
          -5.359200073763706,
          "",
          -4.359200073763816,
          "",
          -2.9299071444708087,
          "",
          -2.09167185035313,
          "",
          -3.0862955062671205,
          -4.083782943453171,
          -4.100449610119849,
          -3.536833538691283,
          -4.536833538691301,
          -4.629690681548481,
          "",
          -3.9390292029492238,
          "",
          -2.8556958696160013,
          "",
          -2.5803654731402306,
          "",
          -1.207484117207975,
          "",
          -0.9217698314936785,
          "",
          -1.921769831493501,
          -0.8705340688194527,
          "",
          "",
          -0.6177868160720863,
          "",
          -1.6177868160721243,
          -0.7959244678939962,
          "",
          0.2411125691429471,
          "",
          -0.7588874308570898,
          0.40968399771438146,
          0.6453161816224398,
          "",
          -0.3546838183777359,
          -0.3377346658353147,
          "",
          1.4866928150808032,
          "",
          0.48669281508096096,
          -0.5133071849188514,
          -0.2601691096050838,
          "",
          -1.2554072048431943,
          -1.2229644567515991,
          "",
          -0.21370519749252104,
          -1.2049332676682205,
          -1.0982139000792908,
          "",
          -2.098213900079437,
          -1.580897882763395,
          "",
          -2.573953438319153,
          -2.649846295461992,
          -2.7098462954620888,
          -3.7127198586804493,
          -3.701420423652147,
          "",
          -2.783867232162864,
          "",
          -3.7798021915124758,
          -2.0554432171534662,
          "",
          -1.256024612502204,
          "",
          -2.2590549155324844,
          -0.9963430511257121,
          "",
          -0.3909859082685685,
          "",
          1.0243366723765532,
          1.865118795281547,
          "",
          0.8651187952814776,
          -0.13488120471837373,
          0.6278306596885151,
          1.605442599987024,
          "",
          0.6054425999870724,
          1.5762028339051823,
          "",
          2.7203746130462574,
          "",
          1.7203746130460666,
          0.7203746130459767,
          1.7626281341726433,
          "",
          2.704488599288903,
          3.8322258255662076,
          "",
          4.952609592963244,
          3.949404464758153,
          2.952760169456054,
          1.9563062687468133,
          2.203755248338599,
          "",
          3.4157552483385882,
          "",
          3.943328777750312,
          "",
          2.939880501888254,
          1.9398805018879457,
          2.79173235373983,
          "",
          3.8743769818390055,
          3.77065357758372,
          2.767030389177971,
          3.6538228420081036,
          "",
          5.192284380469554,
          "",
          5.272181287686064,
          "",
          6.26297883369827,
          "",
          5.266524932989029,
          4.266524932988868,
          3.266524932988897,
          2.2715249329888354,
          1.2745369811815546,
          2.7745369811814244,
          "",
          3.806622542678663,
          "",
          2.806622542678649,
          1.8066225426786864,
          1.8949684073402815,
          0.891396978769035,
          0.48330874347495417,
          "",
          -0.5101123091566937,
          -1.5101123091567776,
          -2.5078600569046166,
          -1.851610056904644,
          "",
          -1.851610056904644,
          "",
          -0.8301814854760001,
          "",
          0.27508167241877857,
          "",
          -0.7274956471687295,
          0.47488530521221195,
          -0.5230570816190918,
          1.2166689457781048,
          "",
          2.2626459572724515,
          "",
          1.2595784726098804,
          0.26240333136691807,
          1.4499033313669039,
          0.44712555358915385,
          -0.5528744464108495,
          -1.5528744464108177,
          -1.049211442747768,
          "",
          -2.0512194748762473,
          -3.0512194748764383,
          -2.0070205798487204,
          "",
          -3.0119710748980992,
          -2.2664194734746266,
          "",
          -1.315199961279538,
          "",
          -2.311033294613008,
          -1.4800473791200854,
          "",
          -0.05800436836740719,
          "",
          0.8022440788375428,
          "",
          1.4324766369770754,
          "",
          2.1206788841680995,
          "",
          1.118604195371434,
          2.050862259887522,
          1.050862259887463,
          0.05086225988758519,
          -0.9523224534882038,
          -1.956139247381245,
          -2.9561392473813317,
          -1.8994382164534414,
          "",
          0.6120121652259596,
          1.5819575204171108,
          1.5551718061313533,
          2.4736115224434427,
          "",
          3.7284502321208945,
          2.7245439821209096,
          1.724543982121065,
          2.5487448953630514,
          "",
          1.5487448953630134,
          0.5487448953630211,
          1.4368567834749761,
          "",
          0.43685678347493817,
          -0.5658313885680468,
          -1.5658313885680606,
          -0.8392304033464866,
          "",
          -1.8421889832281393,
          -2.8457861055302844,
          -2.0362622960065346,
          "",
          -1.2069940033236342,
          "",
          -0.22962774817967135,
          "",
          -1.22962774817946,
          -0.6198716506184844,
          "",
          -1.6198716506183357,
          -2.622728793475476,
          -3.6227287934754924,
          -2.4652702299396285,
          -2.637145229939709,
          "",
          -1.464526182320645,
          "",
          -0.5745890754023574,
          "",
          0.3484878476746007,
          "",
          -0.6515121523253664,
          -1.651512152325263,
          -1.7405532482156447,
          -0.844103544073641,
          "",
          0.1812587747669946,
          "",
          -0.8187412252331588,
          1.3795346368357677,
          2.3140896106578297,
          3.2463476751739178,
          "",
          "",
          2.2463476751739297,
          1.2441546927178033,
          0.2460777696408698,
          -0.7514469828344272,
          -0.09455043111023986,
          1.3877504538454217,
          "",
          2.2369568030518407,
          "",
          2.2896724580039423,
          "",
          2.9636812685765923,
          "",
          3.8355300080723143,
          "",
          4.692407331492412,
          "",
          5.65050789015168,
          "",
          6.334009573653373,
          "",
          7.266376723411885,
          "",
          6.269897850172394,
          6.097058343999431,
          5.099965320743566,
          4.099965320743565,
          3.099965320743733,
          4.004589598200511,
          3.0045895982004023,
          3.8174550952764843,
          "",
          2.8174550952765327,
          1.8174550952767508,
          0.8148777756892427,
          -0.1851222243106796,
          -0.08158687077533411,
          1.482515693327168,
          2.2591654395200185,
          1.2623912459715476,
          0.2662080398645854,
          -0.7375513586316398,
          -1.7415196125998378,
          -1.6744464418681568,
          "",
          -2.67172905056386,
          -3.6688220738197255,
          -4.672200452197998,
          -5.672200452198044,
          -4.81505759505521,
          -3.4971768003531416,
          -2.533693654285651,
          "",
          -1.7038507223484591,
          -2.7038507223484713,
          -1.5449748262385292,
          "",
          -2.544974826238618,
          -1.7382737953108132,
          -0.4622997693366926,
          "",
          -1.4601989290005581,
          -0.2977785468349241,
          "",
          0.15603749469862938,
          1.1273750743164856,
          "",
          0.12737507431639727,
          1.1770826766555214,
          "",
          1.418461987000358,
          1.3674415788371392,
          "",
          2.476464135227963,
          "",
          3.570012522324733,
          "",
          5.257163360313677,
          5.637084620156164,
          6.592391882725954,
          7.975989766323752,
          8.820527581449895,
          "",
          7.8205275814499435,
          6.820527581449978,
          5.817031077953553,
          6.006458390728951,
          "",
          5.006458390728968,
          5.609022493293123,
          "",
          6.377819485774271,
          7.421186832713026,
          "",
          8.269810685924046,
          7.269810685923933,
          6.272388005511561,
          7.222604455727935,
          7.137187789061275,
          "",
          6.137187789061262,
          7.352377662479029,
          "",
          7.557505867607193,
          8.629919660710568,
          "",
          9.6900054976205,
          "",
          10.380146342690916,
          "",
          11.565938692417763,
          "",
          10.565938692417706,
          11.406745867305599,
          "",
          12.468253803813472,
          "",
          13.564323672809126,
          "",
          13.29195013195312,
          12.293698383701326,
          "",
          13.200173203845244,
          12.200173203845207,
          11.198706928185393,
          10.198706928185382,
          9.198706928185455,
          8.195562274097531,
          8.983827580220046,
          "",
          8.956678258953076,
          7.958694387985325,
          8.752416361079462,
          "",
          9.875321389012386,
          "",
          11.148048661739761,
          "",
          10.148048661739695,
          9.148048661739633,
          8.148048661739665,
          7.148048661739693,
          8.150429614120627,
          8.153926117617146,
          8.156219695598743,
          "",
          7.158502800621547,
          8.642974850311015,
          "",
          8.735460399443912,
          7.733187672171244,
          7.783187672171264,
          8.726626586198353,
          7.729126586198351,
          6.729126586198334,
          5.732394560054521,
          4.73239456005455,
          4.163973507422949,
          4.830640174089602,
          "",
          3.8306401740896443,
          2.830640174089563,
          1.8306401740894989,
          0.8332856767349762,
          -0.16373813278894156,
          -1.1637381327889538,
          -0.3472058747244926,
          "",
          -1.349598219222059,
          -1.4017309206438395,
          -0.6424716613845076,
          "",
          -1.6396783652951998,
          -2.6422036178204307,
          -3.6422036178204,
          -4.645800740122545,
          -5.643626827079074,
          -4.883714932806011,
          "",
          -3.9945639894097624,
          "",
          -4.994563989409704,
          -5.992136804943688,
          -4.9235093539633485,
          -3.978533277408368,
          "",
          -3.0289919930047273,
          "",
          -4.028991993004656,
          -3.019646198612094,
          "",
          -4.017414055754958,
          -1.5962184035809912,
          "",
          -0.8175622770987669,
          "",
          0.13365723509632177,
          "",
          1.2009649274040544,
          "",
          2.145139684685632,
          3.111657541828473,
          "",
          2.1153340124166533,
          3.1053837636603543,
          "",
          4.390027958416975,
          "",
          4.481694625083684,
          "",
          5.65560766856199,
          "",
          6.662784702054794,
          "",
          5.665348804618871,
          4.667631909641675,
          5.786679528689299,
          "",
          6.597954038493263,
          "",
          7.987891145411525,
          "",
          6.985353074345581,
          5.983261024136407,
          4.98326102413637,
          4.944799485674785,
          3.9423840267376744,
          4.888271472625146,
          "",
          5.877209525722497,
          "",
          6.755143798022889,
          "",
          7.737377300560961,
          "",
          8.392335978246926,
          9.272617668387772,
          ""
         ]
        }
       ],
       "layout": {
        "legend": {
         "bgcolor": "#FFFFFF",
         "font": {
          "color": "#4D5663"
         },
         "orientation": "h",
         "x": 0.3,
         "y": 0.95,
         "yanchor": "bottom"
        },
        "paper_bgcolor": "#FFFFFF",
        "plot_bgcolor": "#FFFFFF",
        "showlegend": true,
        "template": {
         "data": {
          "bar": [
           {
            "error_x": {
             "color": "#2a3f5f"
            },
            "error_y": {
             "color": "#2a3f5f"
            },
            "marker": {
             "line": {
              "color": "#E5ECF6",
              "width": 0.5
             },
             "pattern": {
              "fillmode": "overlay",
              "size": 10,
              "solidity": 0.2
             }
            },
            "type": "bar"
           }
          ],
          "barpolar": [
           {
            "marker": {
             "line": {
              "color": "#E5ECF6",
              "width": 0.5
             },
             "pattern": {
              "fillmode": "overlay",
              "size": 10,
              "solidity": 0.2
             }
            },
            "type": "barpolar"
           }
          ],
          "carpet": [
           {
            "aaxis": {
             "endlinecolor": "#2a3f5f",
             "gridcolor": "white",
             "linecolor": "white",
             "minorgridcolor": "white",
             "startlinecolor": "#2a3f5f"
            },
            "baxis": {
             "endlinecolor": "#2a3f5f",
             "gridcolor": "white",
             "linecolor": "white",
             "minorgridcolor": "white",
             "startlinecolor": "#2a3f5f"
            },
            "type": "carpet"
           }
          ],
          "choropleth": [
           {
            "colorbar": {
             "outlinewidth": 0,
             "ticks": ""
            },
            "type": "choropleth"
           }
          ],
          "contour": [
           {
            "colorbar": {
             "outlinewidth": 0,
             "ticks": ""
            },
            "colorscale": [
             [
              0.0,
              "#0d0887"
             ],
             [
              0.1111111111111111,
              "#46039f"
             ],
             [
              0.2222222222222222,
              "#7201a8"
             ],
             [
              0.3333333333333333,
              "#9c179e"
             ],
             [
              0.4444444444444444,
              "#bd3786"
             ],
             [
              0.5555555555555556,
              "#d8576b"
             ],
             [
              0.6666666666666666,
              "#ed7953"
             ],
             [
              0.7777777777777778,
              "#fb9f3a"
             ],
             [
              0.8888888888888888,
              "#fdca26"
             ],
             [
              1.0,
              "#f0f921"
             ]
            ],
            "type": "contour"
           }
          ],
          "contourcarpet": [
           {
            "colorbar": {
             "outlinewidth": 0,
             "ticks": ""
            },
            "type": "contourcarpet"
           }
          ],
          "heatmap": [
           {
            "colorbar": {
             "outlinewidth": 0,
             "ticks": ""
            },
            "colorscale": [
             [
              0.0,
              "#0d0887"
             ],
             [
              0.1111111111111111,
              "#46039f"
             ],
             [
              0.2222222222222222,
              "#7201a8"
             ],
             [
              0.3333333333333333,
              "#9c179e"
             ],
             [
              0.4444444444444444,
              "#bd3786"
             ],
             [
              0.5555555555555556,
              "#d8576b"
             ],
             [
              0.6666666666666666,
              "#ed7953"
             ],
             [
              0.7777777777777778,
              "#fb9f3a"
             ],
             [
              0.8888888888888888,
              "#fdca26"
             ],
             [
              1.0,
              "#f0f921"
             ]
            ],
            "type": "heatmap"
           }
          ],
          "heatmapgl": [
           {
            "colorbar": {
             "outlinewidth": 0,
             "ticks": ""
            },
            "colorscale": [
             [
              0.0,
              "#0d0887"
             ],
             [
              0.1111111111111111,
              "#46039f"
             ],
             [
              0.2222222222222222,
              "#7201a8"
             ],
             [
              0.3333333333333333,
              "#9c179e"
             ],
             [
              0.4444444444444444,
              "#bd3786"
             ],
             [
              0.5555555555555556,
              "#d8576b"
             ],
             [
              0.6666666666666666,
              "#ed7953"
             ],
             [
              0.7777777777777778,
              "#fb9f3a"
             ],
             [
              0.8888888888888888,
              "#fdca26"
             ],
             [
              1.0,
              "#f0f921"
             ]
            ],
            "type": "heatmapgl"
           }
          ],
          "histogram": [
           {
            "marker": {
             "pattern": {
              "fillmode": "overlay",
              "size": 10,
              "solidity": 0.2
             }
            },
            "type": "histogram"
           }
          ],
          "histogram2d": [
           {
            "colorbar": {
             "outlinewidth": 0,
             "ticks": ""
            },
            "colorscale": [
             [
              0.0,
              "#0d0887"
             ],
             [
              0.1111111111111111,
              "#46039f"
             ],
             [
              0.2222222222222222,
              "#7201a8"
             ],
             [
              0.3333333333333333,
              "#9c179e"
             ],
             [
              0.4444444444444444,
              "#bd3786"
             ],
             [
              0.5555555555555556,
              "#d8576b"
             ],
             [
              0.6666666666666666,
              "#ed7953"
             ],
             [
              0.7777777777777778,
              "#fb9f3a"
             ],
             [
              0.8888888888888888,
              "#fdca26"
             ],
             [
              1.0,
              "#f0f921"
             ]
            ],
            "type": "histogram2d"
           }
          ],
          "histogram2dcontour": [
           {
            "colorbar": {
             "outlinewidth": 0,
             "ticks": ""
            },
            "colorscale": [
             [
              0.0,
              "#0d0887"
             ],
             [
              0.1111111111111111,
              "#46039f"
             ],
             [
              0.2222222222222222,
              "#7201a8"
             ],
             [
              0.3333333333333333,
              "#9c179e"
             ],
             [
              0.4444444444444444,
              "#bd3786"
             ],
             [
              0.5555555555555556,
              "#d8576b"
             ],
             [
              0.6666666666666666,
              "#ed7953"
             ],
             [
              0.7777777777777778,
              "#fb9f3a"
             ],
             [
              0.8888888888888888,
              "#fdca26"
             ],
             [
              1.0,
              "#f0f921"
             ]
            ],
            "type": "histogram2dcontour"
           }
          ],
          "mesh3d": [
           {
            "colorbar": {
             "outlinewidth": 0,
             "ticks": ""
            },
            "type": "mesh3d"
           }
          ],
          "parcoords": [
           {
            "line": {
             "colorbar": {
              "outlinewidth": 0,
              "ticks": ""
             }
            },
            "type": "parcoords"
           }
          ],
          "pie": [
           {
            "automargin": true,
            "type": "pie"
           }
          ],
          "scatter": [
           {
            "marker": {
             "colorbar": {
              "outlinewidth": 0,
              "ticks": ""
             }
            },
            "type": "scatter"
           }
          ],
          "scatter3d": [
           {
            "line": {
             "colorbar": {
              "outlinewidth": 0,
              "ticks": ""
             }
            },
            "marker": {
             "colorbar": {
              "outlinewidth": 0,
              "ticks": ""
             }
            },
            "type": "scatter3d"
           }
          ],
          "scattercarpet": [
           {
            "marker": {
             "colorbar": {
              "outlinewidth": 0,
              "ticks": ""
             }
            },
            "type": "scattercarpet"
           }
          ],
          "scattergeo": [
           {
            "marker": {
             "colorbar": {
              "outlinewidth": 0,
              "ticks": ""
             }
            },
            "type": "scattergeo"
           }
          ],
          "scattergl": [
           {
            "marker": {
             "colorbar": {
              "outlinewidth": 0,
              "ticks": ""
             }
            },
            "type": "scattergl"
           }
          ],
          "scattermapbox": [
           {
            "marker": {
             "colorbar": {
              "outlinewidth": 0,
              "ticks": ""
             }
            },
            "type": "scattermapbox"
           }
          ],
          "scatterpolar": [
           {
            "marker": {
             "colorbar": {
              "outlinewidth": 0,
              "ticks": ""
             }
            },
            "type": "scatterpolar"
           }
          ],
          "scatterpolargl": [
           {
            "marker": {
             "colorbar": {
              "outlinewidth": 0,
              "ticks": ""
             }
            },
            "type": "scatterpolargl"
           }
          ],
          "scatterternary": [
           {
            "marker": {
             "colorbar": {
              "outlinewidth": 0,
              "ticks": ""
             }
            },
            "type": "scatterternary"
           }
          ],
          "surface": [
           {
            "colorbar": {
             "outlinewidth": 0,
             "ticks": ""
            },
            "colorscale": [
             [
              0.0,
              "#0d0887"
             ],
             [
              0.1111111111111111,
              "#46039f"
             ],
             [
              0.2222222222222222,
              "#7201a8"
             ],
             [
              0.3333333333333333,
              "#9c179e"
             ],
             [
              0.4444444444444444,
              "#bd3786"
             ],
             [
              0.5555555555555556,
              "#d8576b"
             ],
             [
              0.6666666666666666,
              "#ed7953"
             ],
             [
              0.7777777777777778,
              "#fb9f3a"
             ],
             [
              0.8888888888888888,
              "#fdca26"
             ],
             [
              1.0,
              "#f0f921"
             ]
            ],
            "type": "surface"
           }
          ],
          "table": [
           {
            "cells": {
             "fill": {
              "color": "#EBF0F8"
             },
             "line": {
              "color": "white"
             }
            },
            "header": {
             "fill": {
              "color": "#C8D4E3"
             },
             "line": {
              "color": "white"
             }
            },
            "type": "table"
           }
          ]
         },
         "layout": {
          "annotationdefaults": {
           "arrowcolor": "#2a3f5f",
           "arrowhead": 0,
           "arrowwidth": 1
          },
          "autotypenumbers": "strict",
          "coloraxis": {
           "colorbar": {
            "outlinewidth": 0,
            "ticks": ""
           }
          },
          "colorscale": {
           "diverging": [
            [
             0,
             "#8e0152"
            ],
            [
             0.1,
             "#c51b7d"
            ],
            [
             0.2,
             "#de77ae"
            ],
            [
             0.3,
             "#f1b6da"
            ],
            [
             0.4,
             "#fde0ef"
            ],
            [
             0.5,
             "#f7f7f7"
            ],
            [
             0.6,
             "#e6f5d0"
            ],
            [
             0.7,
             "#b8e186"
            ],
            [
             0.8,
             "#7fbc41"
            ],
            [
             0.9,
             "#4d9221"
            ],
            [
             1,
             "#276419"
            ]
           ],
           "sequential": [
            [
             0.0,
             "#0d0887"
            ],
            [
             0.1111111111111111,
             "#46039f"
            ],
            [
             0.2222222222222222,
             "#7201a8"
            ],
            [
             0.3333333333333333,
             "#9c179e"
            ],
            [
             0.4444444444444444,
             "#bd3786"
            ],
            [
             0.5555555555555556,
             "#d8576b"
            ],
            [
             0.6666666666666666,
             "#ed7953"
            ],
            [
             0.7777777777777778,
             "#fb9f3a"
            ],
            [
             0.8888888888888888,
             "#fdca26"
            ],
            [
             1.0,
             "#f0f921"
            ]
           ],
           "sequentialminus": [
            [
             0.0,
             "#0d0887"
            ],
            [
             0.1111111111111111,
             "#46039f"
            ],
            [
             0.2222222222222222,
             "#7201a8"
            ],
            [
             0.3333333333333333,
             "#9c179e"
            ],
            [
             0.4444444444444444,
             "#bd3786"
            ],
            [
             0.5555555555555556,
             "#d8576b"
            ],
            [
             0.6666666666666666,
             "#ed7953"
            ],
            [
             0.7777777777777778,
             "#fb9f3a"
            ],
            [
             0.8888888888888888,
             "#fdca26"
            ],
            [
             1.0,
             "#f0f921"
            ]
           ]
          },
          "colorway": [
           "#636efa",
           "#EF553B",
           "#00cc96",
           "#ab63fa",
           "#FFA15A",
           "#19d3f3",
           "#FF6692",
           "#B6E880",
           "#FF97FF",
           "#FECB52"
          ],
          "font": {
           "color": "#2a3f5f"
          },
          "geo": {
           "bgcolor": "white",
           "lakecolor": "white",
           "landcolor": "#E5ECF6",
           "showlakes": true,
           "showland": true,
           "subunitcolor": "white"
          },
          "hoverlabel": {
           "align": "left"
          },
          "hovermode": "closest",
          "mapbox": {
           "style": "light"
          },
          "paper_bgcolor": "white",
          "plot_bgcolor": "#E5ECF6",
          "polar": {
           "angularaxis": {
            "gridcolor": "white",
            "linecolor": "white",
            "ticks": ""
           },
           "bgcolor": "#E5ECF6",
           "radialaxis": {
            "gridcolor": "white",
            "linecolor": "white",
            "ticks": ""
           }
          },
          "scene": {
           "xaxis": {
            "backgroundcolor": "#E5ECF6",
            "gridcolor": "white",
            "gridwidth": 2,
            "linecolor": "white",
            "showbackground": true,
            "ticks": "",
            "zerolinecolor": "white"
           },
           "yaxis": {
            "backgroundcolor": "#E5ECF6",
            "gridcolor": "white",
            "gridwidth": 2,
            "linecolor": "white",
            "showbackground": true,
            "ticks": "",
            "zerolinecolor": "white"
           },
           "zaxis": {
            "backgroundcolor": "#E5ECF6",
            "gridcolor": "white",
            "gridwidth": 2,
            "linecolor": "white",
            "showbackground": true,
            "ticks": "",
            "zerolinecolor": "white"
           }
          },
          "shapedefaults": {
           "line": {
            "color": "#2a3f5f"
           }
          },
          "ternary": {
           "aaxis": {
            "gridcolor": "white",
            "linecolor": "white",
            "ticks": ""
           },
           "baxis": {
            "gridcolor": "white",
            "linecolor": "white",
            "ticks": ""
           },
           "bgcolor": "#E5ECF6",
           "caxis": {
            "gridcolor": "white",
            "linecolor": "white",
            "ticks": ""
           }
          },
          "title": {
           "x": 0.05
          },
          "xaxis": {
           "automargin": true,
           "gridcolor": "white",
           "linecolor": "white",
           "ticks": "",
           "title": {
            "standoff": 15
           },
           "zerolinecolor": "white",
           "zerolinewidth": 2
          },
          "yaxis": {
           "automargin": true,
           "gridcolor": "white",
           "linecolor": "white",
           "ticks": "",
           "title": {
            "standoff": 15
           },
           "zerolinecolor": "white",
           "zerolinewidth": 2
          }
         }
        },
        "title": {
         "font": {
          "color": "#4D5663"
         },
         "text": "Risultato cumulativo (R) [by Close]"
        },
        "xaxis": {
         "gridcolor": "#E1E5ED",
         "showgrid": true,
         "tickfont": {
          "color": "#4D5663"
         },
         "title": {
          "font": {
           "color": "#4D5663"
          },
          "text": ""
         },
         "zerolinecolor": "grey"
        },
        "yaxis": {
         "gridcolor": "#E1E5ED",
         "showgrid": true,
         "tickfont": {
          "color": "#4D5663"
         },
         "title": {
          "font": {
           "color": "#4D5663"
          },
          "text": "R"
         },
         "zerolinecolor": "grey"
        }
       }
      },
      "text/html": [
       "<div>                            <div id=\"6de18c99-5bbb-4305-8bf6-45d9a37ccab3\" class=\"plotly-graph-div\" style=\"height:525px; width:100%;\"></div>            <script type=\"text/javascript\">                require([\"plotly\"], function(Plotly) {                    window.PLOTLYENV=window.PLOTLYENV || {};                                    if (document.getElementById(\"6de18c99-5bbb-4305-8bf6-45d9a37ccab3\")) {                    Plotly.newPlot(                        \"6de18c99-5bbb-4305-8bf6-45d9a37ccab3\",                        [{\"connectgaps\":true,\"fill\":\"tozeroy\",\"fillcolor\":\"rgba(63, 147, 202, 0.3)\",\"line\":{\"color\":\"rgba(63, 147, 202, 1.0)\",\"dash\":\"solid\",\"shape\":\"hv\",\"width\":2},\"mode\":\"lines\",\"name\":\"result_60_40\",\"text\":\"\",\"x\":[\"2020-11-05 13:05:00+00:00\",\"2020-11-05 13:42:00+00:00\",\"2020-11-06 02:31:00+00:00\",\"2020-11-06 03:27:00+00:00\",\"2020-11-09 09:57:00+00:00\",\"2020-11-11 00:06:00+00:00\",\"2020-11-11 01:02:00+00:00\",\"2020-11-30 06:35:00+00:00\",\"2020-11-30 07:16:00+00:00\",\"2020-12-01 07:07:00+00:00\",\"2020-12-01 12:38:00+00:00\",\"2020-12-01 12:58:00+00:00\",\"2020-12-01 13:46:00+00:00\",\"2020-12-01 14:22:00+00:00\",\"2020-12-04 13:30:00+00:00\",\"2020-12-07 12:13:00+00:00\",\"2020-12-07 12:48:00+00:00\",\"2020-12-09 07:15:00+00:00\",\"2020-12-09 07:48:00+00:00\",\"2020-12-10 15:32:00+00:00\",\"2020-12-11 06:53:00+00:00\",\"2020-12-11 07:36:00+00:00\",\"2020-12-16 06:34:00+00:00\",\"2020-12-16 07:52:00+00:00\",\"2020-12-17 14:22:00+00:00\",\"2020-12-17 15:04:00+00:00\",\"2020-12-17 16:00:00+00:00\",\"2020-12-17 16:07:00+00:00\",\"2020-12-18 05:01:00+00:00\",\"2020-12-18 07:16:00+00:00\",\"2020-12-18 08:27:00+00:00\",\"2020-12-21 13:33:00+00:00\",\"2020-12-21 14:22:00+00:00\",\"2020-12-22 14:57:00+00:00\",\"2020-12-22 16:01:00+00:00\",\"2020-12-30 13:32:00+00:00\",\"2020-12-30 13:50:00+00:00\",\"2020-12-31 07:59:00+00:00\",\"2021-01-04 07:53:00+00:00\",\"2021-01-04 08:34:00+00:00\",\"2021-01-05 08:51:00+00:00\",\"2021-01-05 11:14:00+00:00\",\"2021-01-07 14:27:00+00:00\",\"2021-01-07 16:42:00+00:00\",\"2021-01-08 05:17:00+00:00\",\"2021-01-08 17:09:00+00:00\",\"2021-01-11 07:33:00+00:00\",\"2021-01-11 12:18:00+00:00\",\"2021-01-11 15:19:00+00:00\",\"2021-01-12 09:49:00+00:00\",\"2021-01-12 09:53:00+00:00\",\"2021-01-15 12:50:00+00:00\",\"2021-01-15 15:08:00+00:00\",\"2021-01-19 07:24:00+00:00\",\"2021-01-20 14:14:00+00:00\",\"2021-01-20 14:22:00+00:00\",\"2021-01-21 13:33:00+00:00\",\"2021-01-21 14:19:00+00:00\",\"2021-01-22 13:16:00+00:00\",\"2021-01-25 15:29:00+00:00\",\"2021-01-25 15:50:00+00:00\",\"2021-01-26 14:15:00+00:00\",\"2021-01-26 14:17:00+00:00\",\"2021-01-28 01:10:00+00:00\",\"2021-01-29 06:48:00+00:00\",\"2021-01-29 08:08:00+00:00\",\"2021-02-01 08:51:00+00:00\",\"2021-02-01 10:50:00+00:00\",\"2021-02-01 11:34:00+00:00\",\"2021-02-01 12:16:00+00:00\",\"2021-02-01 13:13:00+00:00\",\"2021-02-01 13:15:00+00:00\",\"2021-02-01 13:16:00+00:00\",\"2021-02-02 08:20:00+00:00\",\"2021-02-03 03:58:00+00:00\",\"2021-02-03 04:40:00+00:00\",\"2021-02-03 07:59:00+00:00\",\"2021-02-03 08:04:00+00:00\",\"2021-02-03 17:29:00+00:00\",\"2021-02-05 08:00:00+00:00\",\"2021-02-08 10:00:00+00:00\",\"2021-02-08 10:27:00+00:00\",\"2021-02-09 07:00:00+00:00\",\"2021-02-16 14:00:00+00:00\",\"2021-02-17 12:23:00+00:00\",\"2021-02-17 12:43:00+00:00\",\"2021-02-18 08:00:00+00:00\",\"2021-02-22 07:00:00+00:00\",\"2021-02-22 07:10:00+00:00\",\"2021-02-23 06:24:00+00:00\",\"2021-02-23 07:00:00+00:00\",\"2021-02-23 09:55:00+00:00\",\"2021-02-23 10:00:00+00:00\",\"2021-02-24 08:00:00+00:00\",\"2021-02-24 08:12:00+00:00\",\"2021-02-25 07:00:00+00:00\",\"2021-02-25 08:00:00+00:00\",\"2021-02-25 08:36:00+00:00\",\"2021-03-01 08:32:00+00:00\",\"2021-03-01 13:00:00+00:00\",\"2021-03-01 15:48:00+00:00\",\"2021-03-01 15:59:00+00:00\",\"2021-03-02 08:00:00+00:00\",\"2021-03-02 08:56:00+00:00\",\"2021-03-02 14:40:00+00:00\",\"2021-03-02 15:00:00+00:00\",\"2021-03-03 10:17:00+00:00\",\"2021-03-03 11:39:00+00:00\",\"2021-03-03 15:46:00+00:00\",\"2021-03-03 15:59:00+00:00\",\"2021-03-05 11:01:00+00:00\",\"2021-03-05 13:00:00+00:00\",\"2021-03-09 05:00:00+00:00\",\"2021-03-09 07:00:00+00:00\",\"2021-03-09 07:36:00+00:00\",\"2021-03-09 08:00:00+00:00\",\"2021-03-09 15:09:00+00:00\",\"2021-03-09 16:00:00+00:00\",\"2021-03-10 06:00:00+00:00\",\"2021-03-10 07:00:00+00:00\",\"2021-03-10 08:00:00+00:00\",\"2021-03-10 10:00:00+00:00\",\"2021-03-10 14:00:00+00:00\",\"2021-03-12 09:00:00+00:00\",\"2021-03-12 16:42:00+00:00\",\"2021-03-15 07:06:00+00:00\",\"2021-03-15 10:55:00+00:00\",\"2021-03-16 05:44:00+00:00\",\"2021-03-16 07:01:00+00:00\",\"2021-03-16 07:57:00+00:00\",\"2021-03-17 05:59:00+00:00\",\"2021-03-17 07:04:00+00:00\",\"2021-03-17 13:50:00+00:00\",\"2021-03-18 03:35:00+00:00\",\"2021-03-18 04:01:00+00:00\",\"2021-03-18 05:27:00+00:00\",\"2021-03-19 04:22:00+00:00\",\"2021-03-19 07:01:00+00:00\",\"2021-03-19 08:00:00+00:00\",\"2021-03-22 05:36:00+00:00\",\"2021-03-22 06:48:00+00:00\",\"2021-03-22 08:04:00+00:00\",\"2021-03-22 12:03:00+00:00\",\"2021-03-23 04:27:00+00:00\",\"2021-03-23 06:04:00+00:00\",\"2021-03-23 06:16:00+00:00\",\"2021-03-24 02:36:00+00:00\",\"2021-03-24 08:20:00+00:00\",\"2021-03-25 04:48:00+00:00\",\"2021-03-26 06:49:00+00:00\",\"2021-03-29 03:50:00+00:00\",\"2021-03-29 05:00:00+00:00\",\"2021-03-29 07:49:00+00:00\",\"2021-03-29 07:51:00+00:00\",\"2021-03-30 05:55:00+00:00\",\"2021-03-30 06:40:00+00:00\",\"2021-03-30 08:00:00+00:00\",\"2021-03-31 08:00:00+00:00\",\"2021-03-31 13:00:00+00:00\",\"2021-04-01 07:00:00+00:00\",\"2021-04-01 07:28:00+00:00\",\"2021-04-01 08:00:00+00:00\",\"2021-04-05 08:00:00+00:00\",\"2021-04-05 12:00:00+00:00\",\"2021-04-06 12:00:00+00:00\",\"2021-04-06 13:45:00+00:00\",\"2021-04-06 14:00:00+00:00\",\"2021-04-07 05:51:00+00:00\",\"2021-04-07 06:30:00+00:00\",\"2021-04-07 07:00:00+00:00\",\"2021-04-08 06:47:00+00:00\",\"2021-04-08 07:00:00+00:00\",\"2021-04-08 08:46:00+00:00\",\"2021-04-08 09:00:00+00:00\",\"2021-04-08 09:37:00+00:00\",\"2021-04-09 10:00:00+00:00\",\"2021-04-09 12:00:00+00:00\",\"2021-04-12 02:14:00+00:00\",\"2021-04-12 05:45:00+00:00\",\"2021-04-12 06:00:00+00:00\",\"2021-04-12 08:00:00+00:00\",\"2021-04-13 05:59:00+00:00\",\"2021-04-13 07:00:00+00:00\",\"2021-04-13 07:57:00+00:00\",\"2021-04-13 09:00:00+00:00\",\"2021-04-13 10:00:00+00:00\",\"2021-04-14 06:38:00+00:00\",\"2021-04-14 07:00:00+00:00\",\"2021-04-14 08:03:00+00:00\",\"2021-04-14 08:17:00+00:00\",\"2021-04-14 09:00:00+00:00\",\"2021-04-14 09:41:00+00:00\",\"2021-04-16 07:57:00+00:00\",\"2021-04-16 10:00:00+00:00\",\"2021-04-19 08:00:00+00:00\",\"2021-04-19 08:54:00+00:00\",\"2021-04-19 09:55:00+00:00\",\"2021-04-19 10:00:00+00:00\",\"2021-04-20 06:00:00+00:00\",\"2021-04-20 10:54:00+00:00\",\"2021-04-20 13:00:00+00:00\",\"2021-04-21 06:00:00+00:00\",\"2021-04-21 07:00:00+00:00\",\"2021-04-21 07:45:00+00:00\",\"2021-04-21 07:57:00+00:00\",\"2021-04-22 06:22:00+00:00\",\"2021-04-22 07:00:00+00:00\",\"2021-04-22 08:00:00+00:00\",\"2021-04-22 08:42:00+00:00\",\"2021-04-22 12:00:00+00:00\",\"2021-04-22 12:33:00+00:00\",\"2021-04-23 12:00:00+00:00\",\"2021-04-23 12:22:00+00:00\",\"2021-04-26 11:00:00+00:00\",\"2021-04-26 12:00:00+00:00\",\"2021-04-26 12:40:00+00:00\",\"2021-04-27 13:50:00+00:00\",\"2021-04-27 14:00:00+00:00\",\"2021-04-28 13:00:00+00:00\",\"2021-04-29 16:00:00+00:00\",\"2021-04-29 16:29:00+00:00\",\"2021-04-30 01:00:00+00:00\",\"2021-04-30 05:33:00+00:00\",\"2021-04-30 06:00:00+00:00\",\"2021-04-30 06:18:00+00:00\",\"2021-04-30 10:08:00+00:00\",\"2021-04-30 14:52:00+00:00\",\"2021-05-03 12:00:00+00:00\",\"2021-05-03 12:44:00+00:00\",\"2021-05-04 12:55:00+00:00\",\"2021-05-04 13:00:00+00:00\",\"2021-05-04 13:35:00+00:00\",\"2021-05-04 13:49:00+00:00\",\"2021-05-04 14:42:00+00:00\",\"2021-05-04 15:00:00+00:00\",\"2021-05-05 13:36:00+00:00\",\"2021-05-05 14:00:00+00:00\",\"2021-05-06 10:00:00+00:00\",\"2021-05-06 11:10:00+00:00\",\"2021-05-06 14:00:00+00:00\",\"2021-05-07 07:00:00+00:00\",\"2021-05-07 12:00:00+00:00\",\"2021-05-10 05:00:00+00:00\",\"2021-05-10 06:00:00+00:00\",\"2021-05-10 14:00:00+00:00\",\"2021-05-11 08:00:00+00:00\",\"2021-05-11 10:00:00+00:00\",\"2021-05-11 12:00:00+00:00\",\"2021-05-11 13:02:00+00:00\",\"2021-05-11 13:19:00+00:00\",\"2021-05-12 12:00:00+00:00\",\"2021-05-13 05:00:00+00:00\",\"2021-05-13 07:00:00+00:00\",\"2021-05-13 07:53:00+00:00\",\"2021-05-14 06:00:00+00:00\",\"2021-05-14 12:00:00+00:00\",\"2021-05-14 13:00:00+00:00\",\"2021-05-17 12:00:00+00:00\",\"2021-05-17 15:00:00+00:00\",\"2021-05-19 00:00:00+00:00\",\"2021-05-19 02:00:00+00:00\",\"2021-05-19 12:00:00+00:00\",\"2021-05-20 08:00:00+00:00\",\"2021-05-20 09:00:00+00:00\",\"2021-05-24 13:00:00+00:00\",\"2021-05-24 13:47:00+00:00\",\"2021-05-26 07:00:00+00:00\",\"2021-05-26 07:14:00+00:00\",\"2021-05-26 12:00:00+00:00\",\"2021-05-26 13:00:00+00:00\",\"2021-05-27 02:41:00+00:00\",\"2021-05-27 06:00:00+00:00\",\"2021-05-27 07:00:00+00:00\",\"2021-06-08 07:00:00+00:00\",\"2021-06-08 10:00:00+00:00\",\"2021-06-08 12:00:00+00:00\",\"2021-06-08 13:00:00+00:00\",\"2021-06-09 06:00:00+00:00\",\"2021-06-09 08:00:00+00:00\",\"2021-06-10 12:00:00+00:00\",\"2021-06-11 16:00:00+00:00\",\"2021-06-14 16:29:00+00:00\",\"2021-06-15 06:00:00+00:00\",\"2021-06-15 08:00:00+00:00\",\"2021-06-15 13:38:00+00:00\",\"2021-06-17 07:00:00+00:00\",\"2021-06-21 03:00:00+00:00\",\"2021-06-21 05:00:00+00:00\",\"2021-06-21 06:00:00+00:00\",\"2021-06-22 05:00:00+00:00\",\"2021-06-22 07:00:00+00:00\",\"2021-06-22 07:43:00+00:00\",\"2021-06-22 08:00:00+00:00\",\"2021-06-30 07:00:00+00:00\",\"2021-07-01 07:00:00+00:00\",\"2021-07-01 11:00:00+00:00\",\"2021-07-06 03:00:00+00:00\",\"2021-07-06 07:00:00+00:00\",\"2021-07-06 16:00:00+00:00\",\"2021-07-07 04:00:00+00:00\",\"2021-07-07 05:00:00+00:00\",\"2021-07-07 05:56:00+00:00\",\"2021-07-07 13:00:00+00:00\",\"2021-07-07 13:50:00+00:00\",\"2021-07-08 13:34:00+00:00\",\"2021-07-08 13:36:00+00:00\",\"2021-07-09 07:27:00+00:00\",\"2021-07-09 08:00:00+00:00\",\"2021-07-09 10:00:00+00:00\",\"2021-07-12 07:00:00+00:00\",\"2021-07-12 07:28:00+00:00\",\"2021-07-12 10:00:00+00:00\",\"2021-07-12 13:00:00+00:00\",\"2021-07-13 04:10:00+00:00\",\"2021-07-13 05:00:00+00:00\",\"2021-07-14 10:00:00+00:00\",\"2021-07-14 13:00:00+00:00\",\"2021-07-15 07:23:00+00:00\",\"2021-07-15 07:27:00+00:00\",\"2021-07-16 07:49:00+00:00\",\"2021-07-16 07:51:00+00:00\",\"2021-07-19 06:00:00+00:00\",\"2021-07-20 03:28:00+00:00\",\"2021-07-20 14:01:00+00:00\",\"2021-07-21 06:46:00+00:00\",\"2021-07-21 07:00:00+00:00\",\"2021-07-22 06:00:00+00:00\",\"2021-07-22 07:00:00+00:00\",\"2021-07-23 07:21:00+00:00\",\"2021-07-23 12:38:00+00:00\",\"2021-07-26 08:00:00+00:00\",\"2021-07-26 08:34:00+00:00\",\"2021-07-26 08:44:00+00:00\",\"2021-07-26 09:00:00+00:00\",\"2021-07-27 06:00:00+00:00\",\"2021-07-27 07:00:00+00:00\",\"2021-07-27 08:20:00+00:00\",\"2021-07-27 13:00:00+00:00\",\"2021-07-27 14:50:00+00:00\",\"2021-07-29 07:00:00+00:00\",\"2021-07-29 08:00:00+00:00\",\"2021-07-30 06:58:00+00:00\",\"2021-07-30 07:00:00+00:00\",\"2021-08-02 08:01:00+00:00\",\"2021-08-02 09:00:00+00:00\",\"2021-08-03 07:33:00+00:00\",\"2021-08-03 08:00:00+00:00\",\"2021-08-04 06:00:00+00:00\",\"2021-08-04 12:00:00+00:00\",\"2021-08-05 07:00:00+00:00\",\"2021-08-05 14:00:00+00:00\",\"2021-08-09 07:00:00+00:00\",\"2021-08-09 08:00:00+00:00\",\"2021-08-09 09:00:00+00:00\",\"2021-08-09 09:28:00+00:00\",\"2021-08-10 07:00:00+00:00\",\"2021-08-10 08:00:00+00:00\",\"2021-08-11 12:00:00+00:00\",\"2021-08-11 16:29:00+00:00\",\"2021-08-12 11:00:00+00:00\",\"2021-08-12 13:00:00+00:00\",\"2021-08-12 14:00:00+00:00\",\"2021-08-13 07:00:00+00:00\",\"2021-08-16 06:00:00+00:00\",\"2021-08-16 07:00:00+00:00\",\"2021-08-16 11:00:00+00:00\",\"2021-08-17 06:00:00+00:00\",\"2021-08-17 07:06:00+00:00\",\"2021-08-17 10:00:00+00:00\",\"2021-08-17 16:00:00+00:00\",\"2021-08-18 05:33:00+00:00\",\"2021-08-18 08:00:00+00:00\",\"2021-08-18 11:49:00+00:00\",\"2021-08-19 06:00:00+00:00\",\"2021-08-19 06:27:00+00:00\",\"2021-08-19 07:00:00+00:00\",\"2021-08-19 07:57:00+00:00\",\"2021-08-19 12:20:00+00:00\",\"2021-08-19 12:41:00+00:00\",\"2021-08-19 14:00:00+00:00\",\"2021-08-20 05:00:00+00:00\",\"2021-08-20 08:00:00+00:00\",\"2021-08-20 11:00:00+00:00\",\"2021-08-20 13:00:00+00:00\",\"2021-08-20 13:46:00+00:00\",\"2021-08-23 00:00:00+00:00\",\"2021-08-23 06:00:00+00:00\",\"2021-08-23 14:00:00+00:00\",\"2021-08-24 07:00:00+00:00\",\"2021-08-24 08:00:00+00:00\",\"2021-08-24 10:00:00+00:00\",\"2021-08-24 13:31:00+00:00\",\"2021-08-25 14:00:00+00:00\",\"2021-08-26 07:38:00+00:00\",\"2021-08-26 11:00:00+00:00\",\"2021-08-26 12:36:00+00:00\",\"2021-08-27 06:00:00+00:00\",\"2021-08-27 06:56:00+00:00\",\"2021-08-30 16:29:00+00:00\",\"2021-08-31 05:00:00+00:00\",\"2021-08-31 06:34:00+00:00\",\"2021-09-01 07:00:00+00:00\",\"2021-09-02 07:00:00+00:00\",\"2021-09-02 07:38:00+00:00\",\"2021-09-06 15:04:00+00:00\",\"2021-09-07 00:48:00+00:00\",\"2021-09-07 10:00:00+00:00\",\"2021-09-07 12:58:00+00:00\",\"2021-09-07 16:00:00+00:00\",\"2021-09-08 11:00:00+00:00\",\"2021-09-08 14:00:00+00:00\",\"2021-09-08 16:29:00+00:00\",\"2021-09-13 06:41:00+00:00\",\"2021-09-13 10:00:00+00:00\",\"2021-09-15 13:55:00+00:00\",\"2021-09-16 07:19:00+00:00\",\"2021-09-16 11:35:00+00:00\",\"2021-09-17 13:54:00+00:00\",\"2021-09-20 06:10:00+00:00\",\"2021-09-20 06:45:00+00:00\",\"2021-09-23 07:22:00+00:00\",\"2021-09-23 08:12:00+00:00\",\"2021-09-23 10:11:00+00:00\",\"2021-09-23 10:38:00+00:00\",\"2021-09-23 10:49:00+00:00\",\"2021-09-23 11:08:00+00:00\",\"2021-09-24 10:00:00+00:00\",\"2021-09-24 13:33:00+00:00\",\"2021-09-27 11:13:00+00:00\",\"2021-09-28 09:50:00+00:00\",\"2021-09-29 13:34:00+00:00\",\"2021-09-29 14:45:00+00:00\",\"2021-09-30 14:57:00+00:00\",\"2021-09-30 15:12:00+00:00\",\"2021-10-01 06:54:00+00:00\",\"2021-10-01 07:57:00+00:00\",\"2021-10-01 09:35:00+00:00\",\"2021-10-04 06:00:00+00:00\",\"2021-10-04 07:06:00+00:00\",\"2021-10-04 08:00:00+00:00\",\"2021-10-05 13:55:00+00:00\",\"2021-10-05 14:45:00+00:00\",\"2021-10-07 09:16:00+00:00\",\"2021-10-07 09:17:00+00:00\",\"2021-10-08 09:53:00+00:00\",\"2021-10-08 14:05:00+00:00\",\"2021-10-12 06:45:00+00:00\",\"2021-10-12 08:30:00+00:00\",\"2021-10-12 09:12:00+00:00\",\"2021-10-12 11:35:00+00:00\",\"2021-10-12 12:04:00+00:00\",\"2021-10-13 07:38:00+00:00\",\"2021-10-13 10:16:00+00:00\",\"2021-10-25 08:53:00+00:00\",\"2021-10-25 08:56:00+00:00\",\"2021-10-25 09:23:00+00:00\",\"2021-10-25 10:50:00+00:00\",\"2021-10-25 13:50:00+00:00\",\"2021-10-27 08:42:00+00:00\",\"2021-10-27 09:01:00+00:00\",\"2021-10-27 10:48:00+00:00\",\"2021-10-28 07:59:00+00:00\",\"2021-11-01 08:01:00+00:00\",\"2021-11-01 09:00:00+00:00\",\"2021-11-01 10:59:00+00:00\",\"2021-11-02 08:52:00+00:00\",\"2021-11-02 11:53:00+00:00\",\"2021-11-02 12:00:00+00:00\",\"2021-11-03 11:51:00+00:00\",\"2021-11-03 12:56:00+00:00\",\"2021-11-04 07:15:00+00:00\",\"2021-11-04 08:15:00+00:00\",\"2021-11-04 08:44:00+00:00\",\"2021-11-04 10:09:00+00:00\",\"2021-11-04 11:36:00+00:00\",\"2021-11-04 12:00:00+00:00\",\"2021-11-08 15:28:00+00:00\",\"2021-11-08 17:29:00+00:00\",\"2021-11-09 07:14:00+00:00\",\"2021-11-09 08:12:00+00:00\",\"2021-11-09 14:54:00+00:00\",\"2021-11-11 10:09:00+00:00\",\"2021-11-11 17:29:00+00:00\",\"2021-11-17 17:29:00+00:00\",\"2021-11-18 05:05:00+00:00\",\"2021-11-18 06:11:00+00:00\",\"2021-11-18 09:20:00+00:00\",\"2021-11-22 11:48:00+00:00\",\"2021-11-24 04:01:00+00:00\",\"2021-11-24 07:58:00+00:00\",\"2021-11-24 08:00:00+00:00\",\"2021-11-24 17:29:00+00:00\",\"2021-11-29 07:57:00+00:00\",\"2021-11-29 10:55:00+00:00\",\"2021-11-30 05:19:00+00:00\",\"2021-11-30 06:01:00+00:00\",\"2021-11-30 11:15:00+00:00\",\"2021-11-30 13:32:00+00:00\",\"2021-11-30 14:45:00+00:00\",\"2021-12-02 13:45:00+00:00\",\"2021-12-02 14:59:00+00:00\",\"2021-12-02 17:10:00+00:00\",\"2021-12-03 11:02:00+00:00\",\"2021-12-03 12:01:00+00:00\",\"2021-12-06 15:13:00+00:00\",\"2021-12-06 16:19:00+00:00\",\"2021-12-07 08:33:00+00:00\",\"2021-12-07 09:09:00+00:00\",\"2021-12-07 10:52:00+00:00\",\"2021-12-07 11:23:00+00:00\",\"2021-12-07 13:18:00+00:00\",\"2021-12-08 10:24:00+00:00\",\"2021-12-08 10:36:00+00:00\",\"2021-12-08 13:40:00+00:00\",\"2021-12-08 13:54:00+00:00\",\"2021-12-09 10:42:00+00:00\",\"2021-12-09 10:48:00+00:00\",\"2021-12-09 14:24:00+00:00\",\"2021-12-13 08:12:00+00:00\",\"2021-12-13 10:17:00+00:00\",\"2021-12-14 06:46:00+00:00\",\"2021-12-14 11:10:00+00:00\",\"2021-12-15 14:59:00+00:00\",\"2021-12-16 07:15:00+00:00\",\"2021-12-16 08:15:00+00:00\",\"2021-12-17 10:03:00+00:00\",\"2021-12-17 11:48:00+00:00\",\"2021-12-17 12:47:00+00:00\",\"2021-12-20 11:37:00+00:00\",\"2021-12-20 13:14:00+00:00\",\"2021-12-21 14:21:00+00:00\",\"2021-12-21 16:13:00+00:00\",\"2021-12-27 08:15:00+00:00\",\"2021-12-27 12:32:00+00:00\",\"2022-01-04 07:52:00+00:00\",\"2022-01-04 08:01:00+00:00\",\"2022-01-04 09:45:00+00:00\",\"2022-01-05 10:37:00+00:00\",\"2022-01-05 13:24:00+00:00\",\"2022-01-05 16:20:00+00:00\",\"2022-01-06 10:11:00+00:00\",\"2022-01-06 10:13:00+00:00\",\"2022-01-12 11:10:00+00:00\",\"2022-01-12 13:06:00+00:00\",\"2022-01-13 08:43:00+00:00\",\"2022-01-13 12:01:00+00:00\",\"2022-01-14 09:18:00+00:00\",\"2022-01-14 12:24:00+00:00\",\"2022-01-14 12:28:00+00:00\",\"2022-01-17 12:06:00+00:00\",\"2022-01-17 14:37:00+00:00\",\"2022-01-17 15:28:00+00:00\",\"2022-01-18 06:46:00+00:00\",\"2022-01-18 08:15:00+00:00\",\"2022-01-19 09:05:00+00:00\",\"2022-01-19 09:45:00+00:00\",\"2022-01-20 08:21:00+00:00\",\"2022-01-20 10:35:00+00:00\",\"2022-01-20 11:56:00+00:00\",\"2022-01-24 11:26:00+00:00\",\"2022-01-24 13:31:00+00:00\",\"2022-01-24 14:39:00+00:00\",\"2022-01-24 15:11:00+00:00\",\"2022-01-25 09:22:00+00:00\",\"2022-01-25 11:55:00+00:00\",\"2022-01-26 11:20:00+00:00\",\"2022-01-26 16:23:00+00:00\",\"2022-01-27 10:37:00+00:00\",\"2022-01-27 11:38:00+00:00\",\"2022-01-31 16:42:00+00:00\",\"2022-02-01 07:28:00+00:00\",\"2022-02-01 15:25:00+00:00\"],\"y\":[-0.9999999999999464,-2.0036496350363597,\"\",-2.025780782577239,-2.062071105157828,-3.062071105157912,-4.067071105157737,\"\",-2.1861187242053344,-3.1907058801686103,\"\",-2.863512897712478,\"\",-0.4479284821280447,-1.4433413261649317,\"\",-0.9428988482888129,\"\",-0.5428988482887978,-1.537948353239401,\"\",-1.1714266141089584,\"\",1.2885733858911348,0.28857338589112036,-0.7114266141088859,\"\",1.457746318221977,\"\",1.3057726340114542,0.30931873330221327,\"\",1.302037179904218,0.3020371799042695,-0.6997613812467368,\"\",-0.5686934200816695,-1.5716696105578274,\"\",-0.15447215832858596,\"\",0.27521534167137846,\"\",0.7914164589898021,-0.20858354101019605,0.28750584446465133,\"\",1.7734562576878403,0.7734562576878385,\"\",1.741486948224944,\"\",3.060441196590939,2.060441196590862,\"\",2.9742343000390905,1.9702972921650928,2.568270265138098,1.5631156259628756,\"\",2.4311156259629954,\"\",3.2131669080142586,2.210172896038272,1.2101728960382738,0.21017289603818035,-0.7916789558136557,\"\",\"\",-1.7916789558136466,-2.074580510217817,-1.7041894487652651,-2.7076141062993386,-3.7040680070085794,\"\",-3.877694380634945,\"\",-2.8962841242247577,-2.260481655089019,-3.263929930951077,\"\",-2.4293554628660528,-3.4282661382473245,-4.428266138247363,\"\",-3.1216623646625727,-1.704995697995868,\"\",-0.3016844397177789,\"\",0.2983155602821549,\"\",1.155891317857959,\"\",1.6588324943285664,0.6642088384145757,-0.33327859877147503,-0.34994526543815363,\"\",-0.5145658011524492,\"\",-0.14028008686677496,\"\",0.27411680029277935,\"\",0.9241168002927127,\"\",1.5148656989711304,\"\",3.4640182413440215,\"\",4.035446812772615,3.0354468127727925,\"\",3.769110179109468,4.9796364948989424,\"\",5.131284846547362,4.131284846547324,\"\",5.19606217448251,\"\",6.529395507815758,5.529395507815721,6.230538364958604,\"\",6.371917675303439,5.371917675303263,\"\",5.558358353269394,\"\",7.459121712048133,6.459121712048291,5.4591217120484785,\"\",5.879623804098686,4.8843857088605755,\"\",4.903851357715532,5.913110616974611,4.921882546798911,\"\",4.985914167352269,3.985914167352123,\"\",4.517082998520954,3.5240274429651963,3.4481345858223573,3.3881345858222605,2.3852610226039,\"\",2.7389333389881316,\"\",3.954358870902978,2.9584239115533664,\"\",5.105859808989278,\"\",6.347138878756814,5.344108575726534,\"\",6.991001231093767,\"\",7.867786945379484,\"\",8.37225621912248,10.432740090090183,9.432740090090114,8.432740090090263,9.394322010994314,\"\",9.980889175173418,8.980889175173466,\"\",10.120070461723161,\"\",11.55872076847161,10.558720768471419,9.558720768471328,\"\",10.939002458612093,\"\",11.504118737681848,12.180761073448231,\"\",12.294512871005349,11.29786857570325,10.301414674994009,\"\",10.44988406274908,\"\",12.058684062749053,\"\",12.858316415690192,11.854868139828135,10.854868139827826,\"\",12.077090362050093,13.748164742215376,\"\",13.215236126735917,\"\",14.655487699062903,\"\",16.778564622139733,\"\",16.826502766469638,\"\",17.591533441316237,16.595079540606996,15.595079540606834,14.595079540606863,13.600079540606801,12.60309158879952,\"\",13.503091588799442,\"\",14.898813513933078,13.898813513933064,12.898813513933101,12.987159378594697,11.98358795002345,\"\",11.738735008847001,10.745313956215353,9.74531395621527,8.74756620846743,\"\",9.141316208467414,\"\",9.141316208467414,\"\",9.7541733513246,\"\",11.280489140798302,10.277911821210793,10.999340392639358,10.001398005808054,\"\",11.045233622246373,\"\",11.67281982914298,10.66975234448041,9.672577203237447,10.385077203237438,9.382299425459689,8.382299425459685,7.382299425459717,\"\",7.6844972276575465,6.682489195529067,5.682489195528876,\"\",6.309008532545507,5.304058037496128,\"\",6.234663019702499,\"\",6.805394727019552,5.809561393686082,\"\",7.3166036472072,\"\",9.168754184841598,\"\",10.077449837015479,\"\",10.734659139341028,\"\",11.647580487655635,10.64550579885897,\"\",10.425183218213768,9.42518321821389,8.4219985048381,7.41818171094506,6.418181710944973,\"\",8.052202329501757,10.075103092860534,10.657070305975225,10.630284591689467,\"\",11.18134842147672,11.93425164728319,10.930345397283206,9.930345397283363,\"\",11.028518913265085,10.028518913265048,9.028518913265055,\"\",9.561386046132228,8.56138604613219,7.558697874089205,6.558697874089191,\"\",6.994658465222135,5.991699885340482,4.988102763038337,\"\",6.026198001133524,\"\",6.523758976743265,\"\",7.505240458224672,6.5052404582248835,\"\",7.407679482615139,6.407679482615287,5.404822339758147,4.40482233975813,6.026369301084067,\"\",5.923244301084019,\"\",6.626815729655457,\"\",7.894111327139725,\"\",8.71430363483204,7.714303634832073,6.714303634832177,6.807910940768269,\"\",8.130396147868801,\"\",9.503584553665972,8.503584553665819,9.822550070907175,\"\",\"\",11.270937167681371,12.582455492288728,11.58245549228874,10.580262509832615,9.582185586755681,8.584660834280385,8.978798765314897,\"\",11.169064252040531,\"\",12.335730918707279,\"\",12.580139864394212,\"\",13.553708146332529,\"\",14.076817390029962,\"\",15.30544192534597,\"\",15.880302260541532,\"\",16.765824146063434,\"\",17.93007535379297,16.933596480553476,16.760756974380513,15.763663951124647,14.763663951124645,13.763663951124814,14.306438517598881,13.306438517598773,\"\",14.633923897715787,13.633923897715835,12.633923897716054,11.631346578128547,10.631346578128625,\"\",11.285173306955349,11.751163154671058,10.754388961122588,9.758205755015625,8.7544463565194,7.750478102551202,\"\",8.000478102551183,7.00319549385548,6.006102470599615,5.002724092221342,4.002724092221297,4.517009806506997,5.307738283328238,\"\",6.72065963164292,7.218565390805235,6.218565390805223,7.883919721513802,8.624964497633188,7.6249644976330995,8.108985116189782,\"\",8.874569531774254,7.876670372110389,\"\",9.158835977205952,9.612652018739505,\"\",10.875709343580272,9.875709343580183,\"\",10.917229811416378,11.062057397623281,\"\",11.03144515272535,\"\",12.862272220394397,\"\",13.518401252652458,15.205552090641401,15.433504846546894,16.00668920408877,16.836847934247448,\"\",17.958696673743372,16.95869667374342,15.958696673743457,14.955200170247032,\"\",15.460045985225065,14.460045985225083,\"\",14.947225472404618,15.408503667893306,\"\",16.03452407605656,16.54369838798317,15.543698387983056,14.546275707570684,15.116405577700508,\"\",15.331822244367173,14.331822244367158,\"\",16.05334123170895,\"\",16.576418154785834,18.47641815478579,\"\",19.87985163118068,\"\",20.809429095969428,\"\",22.432379915641604,21.432379915641548,\"\",22.72161758380298,\"\",24.07042710761246,\"\",25.515841954774032,\"\",24.51759020652224,24.354166082008636,24.898050974094986,23.898050974094946,22.896584698435134,21.896584698435124,20.896584698435195,19.89344004434727,\"\",20.36639922802078,20.33924990675381,19.34126603578606,\"\",20.583418502153737,\"\",22.1979436418185,\"\",22.961580005454927,21.961580005454863,20.961580005454802,19.961580005454834,18.961580005454863,19.563008576883423,19.566505080379944,\"\",19.90274361249001,18.905026717512815,\"\",19.795709947326497,19.888195496459392,18.885922769186724,18.915922769186736,19.48198611760299,18.484486117602987,17.48448611760297,16.487754091459156,15.487754091459184,14.919333038827583,\"\",15.752666372160892,14.752666372160935,13.752666372160853,12.752666372160789,11.755311874806265,10.758288065282347,9.758288065282335,\"\",10.978046129798408,9.97565378530084,9.923521083879061,\"\",11.145743306101355,10.148536602190664,9.146011349665432,8.146011349665462,7.142414227363317,6.144588140406788,\"\",7.309786378292218,\"\",8.576295812254482,7.576295812254541,6.578722996720557,7.21989946730876,\"\",8.559133917069461,\"\",9.967390797803377,8.967390797803448,\"\",10.294493601541781,9.296725744398918,\"\",12.196182266138099,\"\",13.291043926217142,\"\",14.749580511583,\"\",15.98611897312149,\"\",17.221555866325353,18.7237880091825,17.727464479770678,\"\",19.175225673800483,\"\",20.537772490279938,\"\",20.970550268057714,\"\",21.674898094144698,\"\",22.27920431424038,21.281768416804457,20.284051521827262,\"\",20.955480093255836,\"\",21.442244799138216,\"\",23.41079825825771,22.408260187191765,21.40616813698259,20.40616813698255,20.367706598520964,19.365291139583853,\"\",19.932823607116337,\"\",20.526186438974747,\"\",21.779707565735265,\"\",22.36904766725811,22.76202287386969,\"\",24.205684845700645],\"type\":\"scatter\"},{\"connectgaps\":true,\"fill\":\"tozeroy\",\"fillcolor\":\"rgba(219, 58, 52, 0.3)\",\"line\":{\"color\":\"rgba(219, 58, 52, 1.0)\",\"dash\":\"solid\",\"shape\":\"hv\",\"width\":2},\"mode\":\"lines\",\"name\":\"result_100\",\"text\":\"\",\"x\":[\"2020-11-05 13:05:00+00:00\",\"2020-11-05 13:42:00+00:00\",\"2020-11-06 02:31:00+00:00\",\"2020-11-06 03:27:00+00:00\",\"2020-11-09 09:57:00+00:00\",\"2020-11-11 00:06:00+00:00\",\"2020-11-11 01:02:00+00:00\",\"2020-11-30 06:35:00+00:00\",\"2020-11-30 07:16:00+00:00\",\"2020-12-01 07:07:00+00:00\",\"2020-12-01 12:38:00+00:00\",\"2020-12-01 12:58:00+00:00\",\"2020-12-01 13:46:00+00:00\",\"2020-12-01 14:22:00+00:00\",\"2020-12-04 13:30:00+00:00\",\"2020-12-07 12:13:00+00:00\",\"2020-12-07 12:48:00+00:00\",\"2020-12-09 07:15:00+00:00\",\"2020-12-09 07:48:00+00:00\",\"2020-12-10 15:32:00+00:00\",\"2020-12-11 06:53:00+00:00\",\"2020-12-11 07:36:00+00:00\",\"2020-12-16 06:34:00+00:00\",\"2020-12-16 07:52:00+00:00\",\"2020-12-17 14:22:00+00:00\",\"2020-12-17 15:04:00+00:00\",\"2020-12-17 16:00:00+00:00\",\"2020-12-17 16:07:00+00:00\",\"2020-12-18 05:01:00+00:00\",\"2020-12-18 07:16:00+00:00\",\"2020-12-18 08:27:00+00:00\",\"2020-12-21 13:33:00+00:00\",\"2020-12-21 14:22:00+00:00\",\"2020-12-22 14:57:00+00:00\",\"2020-12-22 16:01:00+00:00\",\"2020-12-30 13:32:00+00:00\",\"2020-12-30 13:50:00+00:00\",\"2020-12-31 07:59:00+00:00\",\"2021-01-04 07:53:00+00:00\",\"2021-01-04 08:34:00+00:00\",\"2021-01-05 08:51:00+00:00\",\"2021-01-05 11:14:00+00:00\",\"2021-01-07 14:27:00+00:00\",\"2021-01-07 16:42:00+00:00\",\"2021-01-08 05:17:00+00:00\",\"2021-01-08 17:09:00+00:00\",\"2021-01-11 07:33:00+00:00\",\"2021-01-11 12:18:00+00:00\",\"2021-01-11 15:19:00+00:00\",\"2021-01-12 09:49:00+00:00\",\"2021-01-12 09:53:00+00:00\",\"2021-01-15 12:50:00+00:00\",\"2021-01-15 15:08:00+00:00\",\"2021-01-19 07:24:00+00:00\",\"2021-01-20 14:14:00+00:00\",\"2021-01-20 14:22:00+00:00\",\"2021-01-21 13:33:00+00:00\",\"2021-01-21 14:19:00+00:00\",\"2021-01-22 13:16:00+00:00\",\"2021-01-25 15:29:00+00:00\",\"2021-01-25 15:50:00+00:00\",\"2021-01-26 14:15:00+00:00\",\"2021-01-26 14:17:00+00:00\",\"2021-01-28 01:10:00+00:00\",\"2021-01-29 06:48:00+00:00\",\"2021-01-29 08:08:00+00:00\",\"2021-02-01 08:51:00+00:00\",\"2021-02-01 10:50:00+00:00\",\"2021-02-01 11:34:00+00:00\",\"2021-02-01 12:16:00+00:00\",\"2021-02-01 13:13:00+00:00\",\"2021-02-01 13:15:00+00:00\",\"2021-02-01 13:16:00+00:00\",\"2021-02-02 08:20:00+00:00\",\"2021-02-03 03:58:00+00:00\",\"2021-02-03 04:40:00+00:00\",\"2021-02-03 07:59:00+00:00\",\"2021-02-03 08:04:00+00:00\",\"2021-02-03 17:29:00+00:00\",\"2021-02-05 08:00:00+00:00\",\"2021-02-08 10:00:00+00:00\",\"2021-02-08 10:27:00+00:00\",\"2021-02-09 07:00:00+00:00\",\"2021-02-16 14:00:00+00:00\",\"2021-02-17 12:23:00+00:00\",\"2021-02-17 12:43:00+00:00\",\"2021-02-18 08:00:00+00:00\",\"2021-02-22 07:00:00+00:00\",\"2021-02-22 07:10:00+00:00\",\"2021-02-23 06:24:00+00:00\",\"2021-02-23 07:00:00+00:00\",\"2021-02-23 09:55:00+00:00\",\"2021-02-23 10:00:00+00:00\",\"2021-02-24 08:00:00+00:00\",\"2021-02-24 08:12:00+00:00\",\"2021-02-25 07:00:00+00:00\",\"2021-02-25 08:00:00+00:00\",\"2021-02-25 08:36:00+00:00\",\"2021-03-01 08:32:00+00:00\",\"2021-03-01 13:00:00+00:00\",\"2021-03-01 15:48:00+00:00\",\"2021-03-01 15:59:00+00:00\",\"2021-03-02 08:00:00+00:00\",\"2021-03-02 08:56:00+00:00\",\"2021-03-02 14:40:00+00:00\",\"2021-03-02 15:00:00+00:00\",\"2021-03-03 10:17:00+00:00\",\"2021-03-03 11:39:00+00:00\",\"2021-03-03 15:46:00+00:00\",\"2021-03-03 15:59:00+00:00\",\"2021-03-05 11:01:00+00:00\",\"2021-03-05 13:00:00+00:00\",\"2021-03-09 05:00:00+00:00\",\"2021-03-09 07:00:00+00:00\",\"2021-03-09 07:36:00+00:00\",\"2021-03-09 08:00:00+00:00\",\"2021-03-09 15:09:00+00:00\",\"2021-03-09 16:00:00+00:00\",\"2021-03-10 06:00:00+00:00\",\"2021-03-10 07:00:00+00:00\",\"2021-03-10 08:00:00+00:00\",\"2021-03-10 10:00:00+00:00\",\"2021-03-10 14:00:00+00:00\",\"2021-03-12 09:00:00+00:00\",\"2021-03-12 16:42:00+00:00\",\"2021-03-15 07:06:00+00:00\",\"2021-03-15 10:55:00+00:00\",\"2021-03-16 05:44:00+00:00\",\"2021-03-16 07:01:00+00:00\",\"2021-03-16 07:57:00+00:00\",\"2021-03-17 05:59:00+00:00\",\"2021-03-17 07:04:00+00:00\",\"2021-03-17 13:50:00+00:00\",\"2021-03-18 03:35:00+00:00\",\"2021-03-18 04:01:00+00:00\",\"2021-03-18 05:27:00+00:00\",\"2021-03-19 04:22:00+00:00\",\"2021-03-19 07:01:00+00:00\",\"2021-03-19 08:00:00+00:00\",\"2021-03-22 05:36:00+00:00\",\"2021-03-22 06:48:00+00:00\",\"2021-03-22 08:04:00+00:00\",\"2021-03-22 12:03:00+00:00\",\"2021-03-23 04:27:00+00:00\",\"2021-03-23 06:04:00+00:00\",\"2021-03-23 06:16:00+00:00\",\"2021-03-24 02:36:00+00:00\",\"2021-03-24 08:20:00+00:00\",\"2021-03-25 04:48:00+00:00\",\"2021-03-26 06:49:00+00:00\",\"2021-03-29 03:50:00+00:00\",\"2021-03-29 05:00:00+00:00\",\"2021-03-29 07:49:00+00:00\",\"2021-03-29 07:51:00+00:00\",\"2021-03-30 05:55:00+00:00\",\"2021-03-30 06:40:00+00:00\",\"2021-03-30 08:00:00+00:00\",\"2021-03-31 08:00:00+00:00\",\"2021-03-31 13:00:00+00:00\",\"2021-04-01 07:00:00+00:00\",\"2021-04-01 07:28:00+00:00\",\"2021-04-01 08:00:00+00:00\",\"2021-04-05 08:00:00+00:00\",\"2021-04-05 12:00:00+00:00\",\"2021-04-06 12:00:00+00:00\",\"2021-04-06 13:45:00+00:00\",\"2021-04-06 14:00:00+00:00\",\"2021-04-07 05:51:00+00:00\",\"2021-04-07 06:30:00+00:00\",\"2021-04-07 07:00:00+00:00\",\"2021-04-08 06:47:00+00:00\",\"2021-04-08 07:00:00+00:00\",\"2021-04-08 08:46:00+00:00\",\"2021-04-08 09:00:00+00:00\",\"2021-04-08 09:37:00+00:00\",\"2021-04-09 10:00:00+00:00\",\"2021-04-09 12:00:00+00:00\",\"2021-04-12 02:14:00+00:00\",\"2021-04-12 05:45:00+00:00\",\"2021-04-12 06:00:00+00:00\",\"2021-04-12 08:00:00+00:00\",\"2021-04-13 05:59:00+00:00\",\"2021-04-13 07:00:00+00:00\",\"2021-04-13 07:57:00+00:00\",\"2021-04-13 09:00:00+00:00\",\"2021-04-13 10:00:00+00:00\",\"2021-04-14 06:38:00+00:00\",\"2021-04-14 07:00:00+00:00\",\"2021-04-14 08:03:00+00:00\",\"2021-04-14 08:17:00+00:00\",\"2021-04-14 09:00:00+00:00\",\"2021-04-14 09:41:00+00:00\",\"2021-04-16 07:57:00+00:00\",\"2021-04-16 10:00:00+00:00\",\"2021-04-19 08:00:00+00:00\",\"2021-04-19 08:54:00+00:00\",\"2021-04-19 09:55:00+00:00\",\"2021-04-19 10:00:00+00:00\",\"2021-04-20 06:00:00+00:00\",\"2021-04-20 10:54:00+00:00\",\"2021-04-20 13:00:00+00:00\",\"2021-04-21 06:00:00+00:00\",\"2021-04-21 07:00:00+00:00\",\"2021-04-21 07:45:00+00:00\",\"2021-04-21 07:57:00+00:00\",\"2021-04-22 06:22:00+00:00\",\"2021-04-22 07:00:00+00:00\",\"2021-04-22 08:00:00+00:00\",\"2021-04-22 08:42:00+00:00\",\"2021-04-22 12:00:00+00:00\",\"2021-04-22 12:33:00+00:00\",\"2021-04-23 12:00:00+00:00\",\"2021-04-23 12:22:00+00:00\",\"2021-04-26 11:00:00+00:00\",\"2021-04-26 12:00:00+00:00\",\"2021-04-26 12:40:00+00:00\",\"2021-04-27 13:50:00+00:00\",\"2021-04-27 14:00:00+00:00\",\"2021-04-28 13:00:00+00:00\",\"2021-04-29 16:00:00+00:00\",\"2021-04-29 16:29:00+00:00\",\"2021-04-30 01:00:00+00:00\",\"2021-04-30 05:33:00+00:00\",\"2021-04-30 06:00:00+00:00\",\"2021-04-30 06:18:00+00:00\",\"2021-04-30 10:08:00+00:00\",\"2021-04-30 14:52:00+00:00\",\"2021-05-03 12:00:00+00:00\",\"2021-05-03 12:44:00+00:00\",\"2021-05-04 12:55:00+00:00\",\"2021-05-04 13:00:00+00:00\",\"2021-05-04 13:35:00+00:00\",\"2021-05-04 13:49:00+00:00\",\"2021-05-04 14:42:00+00:00\",\"2021-05-04 15:00:00+00:00\",\"2021-05-05 13:36:00+00:00\",\"2021-05-05 14:00:00+00:00\",\"2021-05-06 10:00:00+00:00\",\"2021-05-06 11:10:00+00:00\",\"2021-05-06 14:00:00+00:00\",\"2021-05-07 07:00:00+00:00\",\"2021-05-07 12:00:00+00:00\",\"2021-05-10 05:00:00+00:00\",\"2021-05-10 06:00:00+00:00\",\"2021-05-10 14:00:00+00:00\",\"2021-05-11 08:00:00+00:00\",\"2021-05-11 10:00:00+00:00\",\"2021-05-11 12:00:00+00:00\",\"2021-05-11 13:02:00+00:00\",\"2021-05-11 13:19:00+00:00\",\"2021-05-12 12:00:00+00:00\",\"2021-05-13 05:00:00+00:00\",\"2021-05-13 07:00:00+00:00\",\"2021-05-13 07:53:00+00:00\",\"2021-05-14 06:00:00+00:00\",\"2021-05-14 12:00:00+00:00\",\"2021-05-14 13:00:00+00:00\",\"2021-05-17 12:00:00+00:00\",\"2021-05-17 15:00:00+00:00\",\"2021-05-19 00:00:00+00:00\",\"2021-05-19 02:00:00+00:00\",\"2021-05-19 12:00:00+00:00\",\"2021-05-20 08:00:00+00:00\",\"2021-05-20 09:00:00+00:00\",\"2021-05-24 13:00:00+00:00\",\"2021-05-24 13:47:00+00:00\",\"2021-05-26 07:00:00+00:00\",\"2021-05-26 07:14:00+00:00\",\"2021-05-26 12:00:00+00:00\",\"2021-05-26 13:00:00+00:00\",\"2021-05-27 02:41:00+00:00\",\"2021-05-27 06:00:00+00:00\",\"2021-05-27 07:00:00+00:00\",\"2021-06-08 07:00:00+00:00\",\"2021-06-08 10:00:00+00:00\",\"2021-06-08 12:00:00+00:00\",\"2021-06-08 13:00:00+00:00\",\"2021-06-09 06:00:00+00:00\",\"2021-06-09 08:00:00+00:00\",\"2021-06-10 12:00:00+00:00\",\"2021-06-11 16:00:00+00:00\",\"2021-06-14 16:29:00+00:00\",\"2021-06-15 06:00:00+00:00\",\"2021-06-15 08:00:00+00:00\",\"2021-06-15 13:38:00+00:00\",\"2021-06-17 07:00:00+00:00\",\"2021-06-21 03:00:00+00:00\",\"2021-06-21 05:00:00+00:00\",\"2021-06-21 06:00:00+00:00\",\"2021-06-22 05:00:00+00:00\",\"2021-06-22 07:00:00+00:00\",\"2021-06-22 07:43:00+00:00\",\"2021-06-22 08:00:00+00:00\",\"2021-06-30 07:00:00+00:00\",\"2021-07-01 07:00:00+00:00\",\"2021-07-01 11:00:00+00:00\",\"2021-07-06 03:00:00+00:00\",\"2021-07-06 07:00:00+00:00\",\"2021-07-06 16:00:00+00:00\",\"2021-07-07 04:00:00+00:00\",\"2021-07-07 05:00:00+00:00\",\"2021-07-07 05:56:00+00:00\",\"2021-07-07 13:00:00+00:00\",\"2021-07-07 13:50:00+00:00\",\"2021-07-08 13:34:00+00:00\",\"2021-07-08 13:36:00+00:00\",\"2021-07-09 07:27:00+00:00\",\"2021-07-09 08:00:00+00:00\",\"2021-07-09 10:00:00+00:00\",\"2021-07-12 07:00:00+00:00\",\"2021-07-12 07:28:00+00:00\",\"2021-07-12 10:00:00+00:00\",\"2021-07-12 13:00:00+00:00\",\"2021-07-13 04:10:00+00:00\",\"2021-07-13 05:00:00+00:00\",\"2021-07-14 10:00:00+00:00\",\"2021-07-14 13:00:00+00:00\",\"2021-07-15 07:23:00+00:00\",\"2021-07-15 07:27:00+00:00\",\"2021-07-16 07:49:00+00:00\",\"2021-07-16 07:51:00+00:00\",\"2021-07-19 06:00:00+00:00\",\"2021-07-20 03:28:00+00:00\",\"2021-07-20 14:01:00+00:00\",\"2021-07-21 06:46:00+00:00\",\"2021-07-21 07:00:00+00:00\",\"2021-07-22 06:00:00+00:00\",\"2021-07-22 07:00:00+00:00\",\"2021-07-23 07:21:00+00:00\",\"2021-07-23 12:38:00+00:00\",\"2021-07-26 08:00:00+00:00\",\"2021-07-26 08:34:00+00:00\",\"2021-07-26 08:44:00+00:00\",\"2021-07-26 09:00:00+00:00\",\"2021-07-27 06:00:00+00:00\",\"2021-07-27 07:00:00+00:00\",\"2021-07-27 08:20:00+00:00\",\"2021-07-27 13:00:00+00:00\",\"2021-07-27 14:50:00+00:00\",\"2021-07-29 07:00:00+00:00\",\"2021-07-29 08:00:00+00:00\",\"2021-07-30 06:58:00+00:00\",\"2021-07-30 07:00:00+00:00\",\"2021-08-02 08:01:00+00:00\",\"2021-08-02 09:00:00+00:00\",\"2021-08-03 07:33:00+00:00\",\"2021-08-03 08:00:00+00:00\",\"2021-08-04 06:00:00+00:00\",\"2021-08-04 12:00:00+00:00\",\"2021-08-05 07:00:00+00:00\",\"2021-08-05 14:00:00+00:00\",\"2021-08-09 07:00:00+00:00\",\"2021-08-09 08:00:00+00:00\",\"2021-08-09 09:00:00+00:00\",\"2021-08-09 09:28:00+00:00\",\"2021-08-10 07:00:00+00:00\",\"2021-08-10 08:00:00+00:00\",\"2021-08-11 12:00:00+00:00\",\"2021-08-11 16:29:00+00:00\",\"2021-08-12 11:00:00+00:00\",\"2021-08-12 13:00:00+00:00\",\"2021-08-12 14:00:00+00:00\",\"2021-08-13 07:00:00+00:00\",\"2021-08-16 06:00:00+00:00\",\"2021-08-16 07:00:00+00:00\",\"2021-08-16 11:00:00+00:00\",\"2021-08-17 06:00:00+00:00\",\"2021-08-17 07:06:00+00:00\",\"2021-08-17 10:00:00+00:00\",\"2021-08-17 16:00:00+00:00\",\"2021-08-18 05:33:00+00:00\",\"2021-08-18 08:00:00+00:00\",\"2021-08-18 11:49:00+00:00\",\"2021-08-19 06:00:00+00:00\",\"2021-08-19 06:27:00+00:00\",\"2021-08-19 07:00:00+00:00\",\"2021-08-19 07:57:00+00:00\",\"2021-08-19 12:20:00+00:00\",\"2021-08-19 12:41:00+00:00\",\"2021-08-19 14:00:00+00:00\",\"2021-08-20 05:00:00+00:00\",\"2021-08-20 08:00:00+00:00\",\"2021-08-20 11:00:00+00:00\",\"2021-08-20 13:00:00+00:00\",\"2021-08-20 13:46:00+00:00\",\"2021-08-23 00:00:00+00:00\",\"2021-08-23 06:00:00+00:00\",\"2021-08-23 14:00:00+00:00\",\"2021-08-24 07:00:00+00:00\",\"2021-08-24 08:00:00+00:00\",\"2021-08-24 10:00:00+00:00\",\"2021-08-24 13:31:00+00:00\",\"2021-08-25 14:00:00+00:00\",\"2021-08-26 07:38:00+00:00\",\"2021-08-26 11:00:00+00:00\",\"2021-08-26 12:36:00+00:00\",\"2021-08-27 06:00:00+00:00\",\"2021-08-27 06:56:00+00:00\",\"2021-08-30 16:29:00+00:00\",\"2021-08-31 05:00:00+00:00\",\"2021-08-31 06:34:00+00:00\",\"2021-09-01 07:00:00+00:00\",\"2021-09-02 07:00:00+00:00\",\"2021-09-02 07:38:00+00:00\",\"2021-09-06 15:04:00+00:00\",\"2021-09-07 00:48:00+00:00\",\"2021-09-07 10:00:00+00:00\",\"2021-09-07 12:58:00+00:00\",\"2021-09-07 16:00:00+00:00\",\"2021-09-08 11:00:00+00:00\",\"2021-09-08 14:00:00+00:00\",\"2021-09-08 16:29:00+00:00\",\"2021-09-13 06:41:00+00:00\",\"2021-09-13 10:00:00+00:00\",\"2021-09-15 13:55:00+00:00\",\"2021-09-16 07:19:00+00:00\",\"2021-09-16 11:35:00+00:00\",\"2021-09-17 13:54:00+00:00\",\"2021-09-20 06:10:00+00:00\",\"2021-09-20 06:45:00+00:00\",\"2021-09-23 07:22:00+00:00\",\"2021-09-23 08:12:00+00:00\",\"2021-09-23 10:11:00+00:00\",\"2021-09-23 10:38:00+00:00\",\"2021-09-23 10:49:00+00:00\",\"2021-09-23 11:08:00+00:00\",\"2021-09-24 10:00:00+00:00\",\"2021-09-24 13:33:00+00:00\",\"2021-09-27 11:13:00+00:00\",\"2021-09-28 09:50:00+00:00\",\"2021-09-29 13:34:00+00:00\",\"2021-09-29 14:45:00+00:00\",\"2021-09-30 14:57:00+00:00\",\"2021-09-30 15:12:00+00:00\",\"2021-10-01 06:54:00+00:00\",\"2021-10-01 07:57:00+00:00\",\"2021-10-01 09:35:00+00:00\",\"2021-10-04 06:00:00+00:00\",\"2021-10-04 07:06:00+00:00\",\"2021-10-04 08:00:00+00:00\",\"2021-10-05 13:55:00+00:00\",\"2021-10-05 14:45:00+00:00\",\"2021-10-07 09:16:00+00:00\",\"2021-10-07 09:17:00+00:00\",\"2021-10-08 09:53:00+00:00\",\"2021-10-08 14:05:00+00:00\",\"2021-10-12 06:45:00+00:00\",\"2021-10-12 08:30:00+00:00\",\"2021-10-12 09:12:00+00:00\",\"2021-10-12 11:35:00+00:00\",\"2021-10-12 12:04:00+00:00\",\"2021-10-13 07:38:00+00:00\",\"2021-10-13 10:16:00+00:00\",\"2021-10-25 08:53:00+00:00\",\"2021-10-25 08:56:00+00:00\",\"2021-10-25 09:23:00+00:00\",\"2021-10-25 10:50:00+00:00\",\"2021-10-25 13:50:00+00:00\",\"2021-10-27 08:42:00+00:00\",\"2021-10-27 09:01:00+00:00\",\"2021-10-27 10:48:00+00:00\",\"2021-10-28 07:59:00+00:00\",\"2021-11-01 08:01:00+00:00\",\"2021-11-01 09:00:00+00:00\",\"2021-11-01 10:59:00+00:00\",\"2021-11-02 08:52:00+00:00\",\"2021-11-02 11:53:00+00:00\",\"2021-11-02 12:00:00+00:00\",\"2021-11-03 11:51:00+00:00\",\"2021-11-03 12:56:00+00:00\",\"2021-11-04 07:15:00+00:00\",\"2021-11-04 08:15:00+00:00\",\"2021-11-04 08:44:00+00:00\",\"2021-11-04 10:09:00+00:00\",\"2021-11-04 11:36:00+00:00\",\"2021-11-04 12:00:00+00:00\",\"2021-11-08 15:28:00+00:00\",\"2021-11-08 17:29:00+00:00\",\"2021-11-09 07:14:00+00:00\",\"2021-11-09 08:12:00+00:00\",\"2021-11-09 14:54:00+00:00\",\"2021-11-11 10:09:00+00:00\",\"2021-11-11 17:29:00+00:00\",\"2021-11-17 17:29:00+00:00\",\"2021-11-18 05:05:00+00:00\",\"2021-11-18 06:11:00+00:00\",\"2021-11-18 09:20:00+00:00\",\"2021-11-22 11:48:00+00:00\",\"2021-11-24 04:01:00+00:00\",\"2021-11-24 07:58:00+00:00\",\"2021-11-24 08:00:00+00:00\",\"2021-11-24 17:29:00+00:00\",\"2021-11-29 07:57:00+00:00\",\"2021-11-29 10:55:00+00:00\",\"2021-11-30 05:19:00+00:00\",\"2021-11-30 06:01:00+00:00\",\"2021-11-30 11:15:00+00:00\",\"2021-11-30 13:32:00+00:00\",\"2021-11-30 14:45:00+00:00\",\"2021-12-02 13:45:00+00:00\",\"2021-12-02 14:59:00+00:00\",\"2021-12-02 17:10:00+00:00\",\"2021-12-03 11:02:00+00:00\",\"2021-12-03 12:01:00+00:00\",\"2021-12-06 15:13:00+00:00\",\"2021-12-06 16:19:00+00:00\",\"2021-12-07 08:33:00+00:00\",\"2021-12-07 09:09:00+00:00\",\"2021-12-07 10:52:00+00:00\",\"2021-12-07 11:23:00+00:00\",\"2021-12-07 13:18:00+00:00\",\"2021-12-08 10:24:00+00:00\",\"2021-12-08 10:36:00+00:00\",\"2021-12-08 13:40:00+00:00\",\"2021-12-08 13:54:00+00:00\",\"2021-12-09 10:42:00+00:00\",\"2021-12-09 10:48:00+00:00\",\"2021-12-09 14:24:00+00:00\",\"2021-12-13 08:12:00+00:00\",\"2021-12-13 10:17:00+00:00\",\"2021-12-14 06:46:00+00:00\",\"2021-12-14 11:10:00+00:00\",\"2021-12-15 14:59:00+00:00\",\"2021-12-16 07:15:00+00:00\",\"2021-12-16 08:15:00+00:00\",\"2021-12-17 10:03:00+00:00\",\"2021-12-17 11:48:00+00:00\",\"2021-12-17 12:47:00+00:00\",\"2021-12-20 11:37:00+00:00\",\"2021-12-20 13:14:00+00:00\",\"2021-12-21 14:21:00+00:00\",\"2021-12-21 16:13:00+00:00\",\"2021-12-27 08:15:00+00:00\",\"2021-12-27 12:32:00+00:00\",\"2022-01-04 07:52:00+00:00\",\"2022-01-04 08:01:00+00:00\",\"2022-01-04 09:45:00+00:00\",\"2022-01-05 10:37:00+00:00\",\"2022-01-05 13:24:00+00:00\",\"2022-01-05 16:20:00+00:00\",\"2022-01-06 10:11:00+00:00\",\"2022-01-06 10:13:00+00:00\",\"2022-01-12 11:10:00+00:00\",\"2022-01-12 13:06:00+00:00\",\"2022-01-13 08:43:00+00:00\",\"2022-01-13 12:01:00+00:00\",\"2022-01-14 09:18:00+00:00\",\"2022-01-14 12:24:00+00:00\",\"2022-01-14 12:28:00+00:00\",\"2022-01-17 12:06:00+00:00\",\"2022-01-17 14:37:00+00:00\",\"2022-01-17 15:28:00+00:00\",\"2022-01-18 06:46:00+00:00\",\"2022-01-18 08:15:00+00:00\",\"2022-01-19 09:05:00+00:00\",\"2022-01-19 09:45:00+00:00\",\"2022-01-20 08:21:00+00:00\",\"2022-01-20 10:35:00+00:00\",\"2022-01-20 11:56:00+00:00\",\"2022-01-24 11:26:00+00:00\",\"2022-01-24 13:31:00+00:00\",\"2022-01-24 14:39:00+00:00\",\"2022-01-24 15:11:00+00:00\",\"2022-01-25 09:22:00+00:00\",\"2022-01-25 11:55:00+00:00\",\"2022-01-26 11:20:00+00:00\",\"2022-01-26 16:23:00+00:00\",\"2022-01-27 10:37:00+00:00\",\"2022-01-27 11:38:00+00:00\",\"2022-01-31 16:42:00+00:00\",\"2022-02-01 07:28:00+00:00\",\"2022-02-01 15:25:00+00:00\"],\"y\":[-0.9999999999999464,-2.0036496350363597,-2.040534880937826,\"\",-2.076825203518415,-3.076825203518499,-4.081825203518324,-2.9818252035183503,\"\",-3.9864123594816263,-3.9995702542184066,\"\",-2.467102721750939,\"\",-3.462515565787826,-2.6284447693276283,\"\",-1.9617781026609364,\"\",-2.9568276076115394,-2.3459580423941353,\"\",-0.24595804239405572,\"\",-1.2459580423940702,-2.2459580423940766,-0.4677625536722225,\"\",-0.7210520273564271,\"\",-1.717505928065668,-1.0160496173859492,\"\",-2.0160496173858977,-3.0178481785369042,-3.105226819313607,\"\",-4.108203009789765,-3.2005596976879556,\"\",-2.4844138643546816,\"\",-1.6240786688239757,\"\",-2.624078668823974,-1.7972630263658949,-0.9129655057047434,\"\",-1.9129655057047452,-1.2006892908709648,\"\",-0.29872850655720506,\"\",-1.298728506557282,-0.4883836789711261,\"\",-1.4923206868451238,-0.4956990652234483,-1.500853704398671,-0.7208537043984709,\"\",0.00991552637078763,\"\",-0.993078485605199,-1.993078485605197,-2.9930784856052908,-3.994930337457127,-3.9753772648314145,-4.446879855505032,-5.446879855505023,\"\",\"\",-6.450304513039097,-7.446758413748338,-7.46873643572634,\"\",-6.5488646408546165,\"\",-5.913062171718877,-6.916510447580936,-6.158531724176765,\"\",-7.157442399558036,-8.157442399558073,-7.265932965595977,\"\",-6.349266298929196,-5.359200073763706,\"\",-4.359200073763816,\"\",-2.9299071444708087,\"\",-2.09167185035313,\"\",-3.0862955062671205,-4.083782943453171,-4.100449610119849,-3.536833538691283,-4.536833538691301,-4.629690681548481,\"\",-3.9390292029492238,\"\",-2.8556958696160013,\"\",-2.5803654731402306,\"\",-1.207484117207975,\"\",-0.9217698314936785,\"\",-1.921769831493501,-0.8705340688194527,\"\",\"\",-0.6177868160720863,\"\",-1.6177868160721243,-0.7959244678939962,\"\",0.2411125691429471,\"\",-0.7588874308570898,0.40968399771438146,0.6453161816224398,\"\",-0.3546838183777359,-0.3377346658353147,\"\",1.4866928150808032,\"\",0.48669281508096096,-0.5133071849188514,-0.2601691096050838,\"\",-1.2554072048431943,-1.2229644567515991,\"\",-0.21370519749252104,-1.2049332676682205,-1.0982139000792908,\"\",-2.098213900079437,-1.580897882763395,\"\",-2.573953438319153,-2.649846295461992,-2.7098462954620888,-3.7127198586804493,-3.701420423652147,\"\",-2.783867232162864,\"\",-3.7798021915124758,-2.0554432171534662,\"\",-1.256024612502204,\"\",-2.2590549155324844,-0.9963430511257121,\"\",-0.3909859082685685,\"\",1.0243366723765532,1.865118795281547,\"\",0.8651187952814776,-0.13488120471837373,0.6278306596885151,1.605442599987024,\"\",0.6054425999870724,1.5762028339051823,\"\",2.7203746130462574,\"\",1.7203746130460666,0.7203746130459767,1.7626281341726433,\"\",2.704488599288903,3.8322258255662076,\"\",4.952609592963244,3.949404464758153,2.952760169456054,1.9563062687468133,2.203755248338599,\"\",3.4157552483385882,\"\",3.943328777750312,\"\",2.939880501888254,1.9398805018879457,2.79173235373983,\"\",3.8743769818390055,3.77065357758372,2.767030389177971,3.6538228420081036,\"\",5.192284380469554,\"\",5.272181287686064,\"\",6.26297883369827,\"\",5.266524932989029,4.266524932988868,3.266524932988897,2.2715249329888354,1.2745369811815546,2.7745369811814244,\"\",3.806622542678663,\"\",2.806622542678649,1.8066225426786864,1.8949684073402815,0.891396978769035,0.48330874347495417,\"\",-0.5101123091566937,-1.5101123091567776,-2.5078600569046166,-1.851610056904644,\"\",-1.851610056904644,\"\",-0.8301814854760001,\"\",0.27508167241877857,\"\",-0.7274956471687295,0.47488530521221195,-0.5230570816190918,1.2166689457781048,\"\",2.2626459572724515,\"\",1.2595784726098804,0.26240333136691807,1.4499033313669039,0.44712555358915385,-0.5528744464108495,-1.5528744464108177,-1.049211442747768,\"\",-2.0512194748762473,-3.0512194748764383,-2.0070205798487204,\"\",-3.0119710748980992,-2.2664194734746266,\"\",-1.315199961279538,\"\",-2.311033294613008,-1.4800473791200854,\"\",-0.05800436836740719,\"\",0.8022440788375428,\"\",1.4324766369770754,\"\",2.1206788841680995,\"\",1.118604195371434,2.050862259887522,1.050862259887463,0.05086225988758519,-0.9523224534882038,-1.956139247381245,-2.9561392473813317,-1.8994382164534414,\"\",0.6120121652259596,1.5819575204171108,1.5551718061313533,2.4736115224434427,\"\",3.7284502321208945,2.7245439821209096,1.724543982121065,2.5487448953630514,\"\",1.5487448953630134,0.5487448953630211,1.4368567834749761,\"\",0.43685678347493817,-0.5658313885680468,-1.5658313885680606,-0.8392304033464866,\"\",-1.8421889832281393,-2.8457861055302844,-2.0362622960065346,\"\",-1.2069940033236342,\"\",-0.22962774817967135,\"\",-1.22962774817946,-0.6198716506184844,\"\",-1.6198716506183357,-2.622728793475476,-3.6227287934754924,-2.4652702299396285,-2.637145229939709,\"\",-1.464526182320645,\"\",-0.5745890754023574,\"\",0.3484878476746007,\"\",-0.6515121523253664,-1.651512152325263,-1.7405532482156447,-0.844103544073641,\"\",0.1812587747669946,\"\",-0.8187412252331588,1.3795346368357677,2.3140896106578297,3.2463476751739178,\"\",\"\",2.2463476751739297,1.2441546927178033,0.2460777696408698,-0.7514469828344272,-0.09455043111023986,1.3877504538454217,\"\",2.2369568030518407,\"\",2.2896724580039423,\"\",2.9636812685765923,\"\",3.8355300080723143,\"\",4.692407331492412,\"\",5.65050789015168,\"\",6.334009573653373,\"\",7.266376723411885,\"\",6.269897850172394,6.097058343999431,5.099965320743566,4.099965320743565,3.099965320743733,4.004589598200511,3.0045895982004023,3.8174550952764843,\"\",2.8174550952765327,1.8174550952767508,0.8148777756892427,-0.1851222243106796,-0.08158687077533411,1.482515693327168,2.2591654395200185,1.2623912459715476,0.2662080398645854,-0.7375513586316398,-1.7415196125998378,-1.6744464418681568,\"\",-2.67172905056386,-3.6688220738197255,-4.672200452197998,-5.672200452198044,-4.81505759505521,-3.4971768003531416,-2.533693654285651,\"\",-1.7038507223484591,-2.7038507223484713,-1.5449748262385292,\"\",-2.544974826238618,-1.7382737953108132,-0.4622997693366926,\"\",-1.4601989290005581,-0.2977785468349241,\"\",0.15603749469862938,1.1273750743164856,\"\",0.12737507431639727,1.1770826766555214,\"\",1.418461987000358,1.3674415788371392,\"\",2.476464135227963,\"\",3.570012522324733,\"\",5.257163360313677,5.637084620156164,6.592391882725954,7.975989766323752,8.820527581449895,\"\",7.8205275814499435,6.820527581449978,5.817031077953553,6.006458390728951,\"\",5.006458390728968,5.609022493293123,\"\",6.377819485774271,7.421186832713026,\"\",8.269810685924046,7.269810685923933,6.272388005511561,7.222604455727935,7.137187789061275,\"\",6.137187789061262,7.352377662479029,\"\",7.557505867607193,8.629919660710568,\"\",9.6900054976205,\"\",10.380146342690916,\"\",11.565938692417763,\"\",10.565938692417706,11.406745867305599,\"\",12.468253803813472,\"\",13.564323672809126,\"\",13.29195013195312,12.293698383701326,\"\",13.200173203845244,12.200173203845207,11.198706928185393,10.198706928185382,9.198706928185455,8.195562274097531,8.983827580220046,\"\",8.956678258953076,7.958694387985325,8.752416361079462,\"\",9.875321389012386,\"\",11.148048661739761,\"\",10.148048661739695,9.148048661739633,8.148048661739665,7.148048661739693,8.150429614120627,8.153926117617146,8.156219695598743,\"\",7.158502800621547,8.642974850311015,\"\",8.735460399443912,7.733187672171244,7.783187672171264,8.726626586198353,7.729126586198351,6.729126586198334,5.732394560054521,4.73239456005455,4.163973507422949,4.830640174089602,\"\",3.8306401740896443,2.830640174089563,1.8306401740894989,0.8332856767349762,-0.16373813278894156,-1.1637381327889538,-0.3472058747244926,\"\",-1.349598219222059,-1.4017309206438395,-0.6424716613845076,\"\",-1.6396783652951998,-2.6422036178204307,-3.6422036178204,-4.645800740122545,-5.643626827079074,-4.883714932806011,\"\",-3.9945639894097624,\"\",-4.994563989409704,-5.992136804943688,-4.9235093539633485,-3.978533277408368,\"\",-3.0289919930047273,\"\",-4.028991993004656,-3.019646198612094,\"\",-4.017414055754958,-1.5962184035809912,\"\",-0.8175622770987669,\"\",0.13365723509632177,\"\",1.2009649274040544,\"\",2.145139684685632,3.111657541828473,\"\",2.1153340124166533,3.1053837636603543,\"\",4.390027958416975,\"\",4.481694625083684,\"\",5.65560766856199,\"\",6.662784702054794,\"\",5.665348804618871,4.667631909641675,5.786679528689299,\"\",6.597954038493263,\"\",7.987891145411525,\"\",6.985353074345581,5.983261024136407,4.98326102413637,4.944799485674785,3.9423840267376744,4.888271472625146,\"\",5.877209525722497,\"\",6.755143798022889,\"\",7.737377300560961,\"\",8.392335978246926,9.272617668387772,\"\"],\"type\":\"scatter\"}],                        {\"legend\":{\"bgcolor\":\"#FFFFFF\",\"font\":{\"color\":\"#4D5663\"},\"orientation\":\"h\",\"x\":0.3,\"y\":0.95,\"yanchor\":\"bottom\"},\"paper_bgcolor\":\"#FFFFFF\",\"plot_bgcolor\":\"#FFFFFF\",\"showlegend\":true,\"template\":{\"data\":{\"barpolar\":[{\"marker\":{\"line\":{\"color\":\"#E5ECF6\",\"width\":0.5},\"pattern\":{\"fillmode\":\"overlay\",\"size\":10,\"solidity\":0.2}},\"type\":\"barpolar\"}],\"bar\":[{\"error_x\":{\"color\":\"#2a3f5f\"},\"error_y\":{\"color\":\"#2a3f5f\"},\"marker\":{\"line\":{\"color\":\"#E5ECF6\",\"width\":0.5},\"pattern\":{\"fillmode\":\"overlay\",\"size\":10,\"solidity\":0.2}},\"type\":\"bar\"}],\"carpet\":[{\"aaxis\":{\"endlinecolor\":\"#2a3f5f\",\"gridcolor\":\"white\",\"linecolor\":\"white\",\"minorgridcolor\":\"white\",\"startlinecolor\":\"#2a3f5f\"},\"baxis\":{\"endlinecolor\":\"#2a3f5f\",\"gridcolor\":\"white\",\"linecolor\":\"white\",\"minorgridcolor\":\"white\",\"startlinecolor\":\"#2a3f5f\"},\"type\":\"carpet\"}],\"choropleth\":[{\"colorbar\":{\"outlinewidth\":0,\"ticks\":\"\"},\"type\":\"choropleth\"}],\"contourcarpet\":[{\"colorbar\":{\"outlinewidth\":0,\"ticks\":\"\"},\"type\":\"contourcarpet\"}],\"contour\":[{\"colorbar\":{\"outlinewidth\":0,\"ticks\":\"\"},\"colorscale\":[[0.0,\"#0d0887\"],[0.1111111111111111,\"#46039f\"],[0.2222222222222222,\"#7201a8\"],[0.3333333333333333,\"#9c179e\"],[0.4444444444444444,\"#bd3786\"],[0.5555555555555556,\"#d8576b\"],[0.6666666666666666,\"#ed7953\"],[0.7777777777777778,\"#fb9f3a\"],[0.8888888888888888,\"#fdca26\"],[1.0,\"#f0f921\"]],\"type\":\"contour\"}],\"heatmapgl\":[{\"colorbar\":{\"outlinewidth\":0,\"ticks\":\"\"},\"colorscale\":[[0.0,\"#0d0887\"],[0.1111111111111111,\"#46039f\"],[0.2222222222222222,\"#7201a8\"],[0.3333333333333333,\"#9c179e\"],[0.4444444444444444,\"#bd3786\"],[0.5555555555555556,\"#d8576b\"],[0.6666666666666666,\"#ed7953\"],[0.7777777777777778,\"#fb9f3a\"],[0.8888888888888888,\"#fdca26\"],[1.0,\"#f0f921\"]],\"type\":\"heatmapgl\"}],\"heatmap\":[{\"colorbar\":{\"outlinewidth\":0,\"ticks\":\"\"},\"colorscale\":[[0.0,\"#0d0887\"],[0.1111111111111111,\"#46039f\"],[0.2222222222222222,\"#7201a8\"],[0.3333333333333333,\"#9c179e\"],[0.4444444444444444,\"#bd3786\"],[0.5555555555555556,\"#d8576b\"],[0.6666666666666666,\"#ed7953\"],[0.7777777777777778,\"#fb9f3a\"],[0.8888888888888888,\"#fdca26\"],[1.0,\"#f0f921\"]],\"type\":\"heatmap\"}],\"histogram2dcontour\":[{\"colorbar\":{\"outlinewidth\":0,\"ticks\":\"\"},\"colorscale\":[[0.0,\"#0d0887\"],[0.1111111111111111,\"#46039f\"],[0.2222222222222222,\"#7201a8\"],[0.3333333333333333,\"#9c179e\"],[0.4444444444444444,\"#bd3786\"],[0.5555555555555556,\"#d8576b\"],[0.6666666666666666,\"#ed7953\"],[0.7777777777777778,\"#fb9f3a\"],[0.8888888888888888,\"#fdca26\"],[1.0,\"#f0f921\"]],\"type\":\"histogram2dcontour\"}],\"histogram2d\":[{\"colorbar\":{\"outlinewidth\":0,\"ticks\":\"\"},\"colorscale\":[[0.0,\"#0d0887\"],[0.1111111111111111,\"#46039f\"],[0.2222222222222222,\"#7201a8\"],[0.3333333333333333,\"#9c179e\"],[0.4444444444444444,\"#bd3786\"],[0.5555555555555556,\"#d8576b\"],[0.6666666666666666,\"#ed7953\"],[0.7777777777777778,\"#fb9f3a\"],[0.8888888888888888,\"#fdca26\"],[1.0,\"#f0f921\"]],\"type\":\"histogram2d\"}],\"histogram\":[{\"marker\":{\"pattern\":{\"fillmode\":\"overlay\",\"size\":10,\"solidity\":0.2}},\"type\":\"histogram\"}],\"mesh3d\":[{\"colorbar\":{\"outlinewidth\":0,\"ticks\":\"\"},\"type\":\"mesh3d\"}],\"parcoords\":[{\"line\":{\"colorbar\":{\"outlinewidth\":0,\"ticks\":\"\"}},\"type\":\"parcoords\"}],\"pie\":[{\"automargin\":true,\"type\":\"pie\"}],\"scatter3d\":[{\"line\":{\"colorbar\":{\"outlinewidth\":0,\"ticks\":\"\"}},\"marker\":{\"colorbar\":{\"outlinewidth\":0,\"ticks\":\"\"}},\"type\":\"scatter3d\"}],\"scattercarpet\":[{\"marker\":{\"colorbar\":{\"outlinewidth\":0,\"ticks\":\"\"}},\"type\":\"scattercarpet\"}],\"scattergeo\":[{\"marker\":{\"colorbar\":{\"outlinewidth\":0,\"ticks\":\"\"}},\"type\":\"scattergeo\"}],\"scattergl\":[{\"marker\":{\"colorbar\":{\"outlinewidth\":0,\"ticks\":\"\"}},\"type\":\"scattergl\"}],\"scattermapbox\":[{\"marker\":{\"colorbar\":{\"outlinewidth\":0,\"ticks\":\"\"}},\"type\":\"scattermapbox\"}],\"scatterpolargl\":[{\"marker\":{\"colorbar\":{\"outlinewidth\":0,\"ticks\":\"\"}},\"type\":\"scatterpolargl\"}],\"scatterpolar\":[{\"marker\":{\"colorbar\":{\"outlinewidth\":0,\"ticks\":\"\"}},\"type\":\"scatterpolar\"}],\"scatter\":[{\"marker\":{\"colorbar\":{\"outlinewidth\":0,\"ticks\":\"\"}},\"type\":\"scatter\"}],\"scatterternary\":[{\"marker\":{\"colorbar\":{\"outlinewidth\":0,\"ticks\":\"\"}},\"type\":\"scatterternary\"}],\"surface\":[{\"colorbar\":{\"outlinewidth\":0,\"ticks\":\"\"},\"colorscale\":[[0.0,\"#0d0887\"],[0.1111111111111111,\"#46039f\"],[0.2222222222222222,\"#7201a8\"],[0.3333333333333333,\"#9c179e\"],[0.4444444444444444,\"#bd3786\"],[0.5555555555555556,\"#d8576b\"],[0.6666666666666666,\"#ed7953\"],[0.7777777777777778,\"#fb9f3a\"],[0.8888888888888888,\"#fdca26\"],[1.0,\"#f0f921\"]],\"type\":\"surface\"}],\"table\":[{\"cells\":{\"fill\":{\"color\":\"#EBF0F8\"},\"line\":{\"color\":\"white\"}},\"header\":{\"fill\":{\"color\":\"#C8D4E3\"},\"line\":{\"color\":\"white\"}},\"type\":\"table\"}]},\"layout\":{\"annotationdefaults\":{\"arrowcolor\":\"#2a3f5f\",\"arrowhead\":0,\"arrowwidth\":1},\"autotypenumbers\":\"strict\",\"coloraxis\":{\"colorbar\":{\"outlinewidth\":0,\"ticks\":\"\"}},\"colorscale\":{\"diverging\":[[0,\"#8e0152\"],[0.1,\"#c51b7d\"],[0.2,\"#de77ae\"],[0.3,\"#f1b6da\"],[0.4,\"#fde0ef\"],[0.5,\"#f7f7f7\"],[0.6,\"#e6f5d0\"],[0.7,\"#b8e186\"],[0.8,\"#7fbc41\"],[0.9,\"#4d9221\"],[1,\"#276419\"]],\"sequential\":[[0.0,\"#0d0887\"],[0.1111111111111111,\"#46039f\"],[0.2222222222222222,\"#7201a8\"],[0.3333333333333333,\"#9c179e\"],[0.4444444444444444,\"#bd3786\"],[0.5555555555555556,\"#d8576b\"],[0.6666666666666666,\"#ed7953\"],[0.7777777777777778,\"#fb9f3a\"],[0.8888888888888888,\"#fdca26\"],[1.0,\"#f0f921\"]],\"sequentialminus\":[[0.0,\"#0d0887\"],[0.1111111111111111,\"#46039f\"],[0.2222222222222222,\"#7201a8\"],[0.3333333333333333,\"#9c179e\"],[0.4444444444444444,\"#bd3786\"],[0.5555555555555556,\"#d8576b\"],[0.6666666666666666,\"#ed7953\"],[0.7777777777777778,\"#fb9f3a\"],[0.8888888888888888,\"#fdca26\"],[1.0,\"#f0f921\"]]},\"colorway\":[\"#636efa\",\"#EF553B\",\"#00cc96\",\"#ab63fa\",\"#FFA15A\",\"#19d3f3\",\"#FF6692\",\"#B6E880\",\"#FF97FF\",\"#FECB52\"],\"font\":{\"color\":\"#2a3f5f\"},\"geo\":{\"bgcolor\":\"white\",\"lakecolor\":\"white\",\"landcolor\":\"#E5ECF6\",\"showlakes\":true,\"showland\":true,\"subunitcolor\":\"white\"},\"hoverlabel\":{\"align\":\"left\"},\"hovermode\":\"closest\",\"mapbox\":{\"style\":\"light\"},\"paper_bgcolor\":\"white\",\"plot_bgcolor\":\"#E5ECF6\",\"polar\":{\"angularaxis\":{\"gridcolor\":\"white\",\"linecolor\":\"white\",\"ticks\":\"\"},\"bgcolor\":\"#E5ECF6\",\"radialaxis\":{\"gridcolor\":\"white\",\"linecolor\":\"white\",\"ticks\":\"\"}},\"scene\":{\"xaxis\":{\"backgroundcolor\":\"#E5ECF6\",\"gridcolor\":\"white\",\"gridwidth\":2,\"linecolor\":\"white\",\"showbackground\":true,\"ticks\":\"\",\"zerolinecolor\":\"white\"},\"yaxis\":{\"backgroundcolor\":\"#E5ECF6\",\"gridcolor\":\"white\",\"gridwidth\":2,\"linecolor\":\"white\",\"showbackground\":true,\"ticks\":\"\",\"zerolinecolor\":\"white\"},\"zaxis\":{\"backgroundcolor\":\"#E5ECF6\",\"gridcolor\":\"white\",\"gridwidth\":2,\"linecolor\":\"white\",\"showbackground\":true,\"ticks\":\"\",\"zerolinecolor\":\"white\"}},\"shapedefaults\":{\"line\":{\"color\":\"#2a3f5f\"}},\"ternary\":{\"aaxis\":{\"gridcolor\":\"white\",\"linecolor\":\"white\",\"ticks\":\"\"},\"baxis\":{\"gridcolor\":\"white\",\"linecolor\":\"white\",\"ticks\":\"\"},\"bgcolor\":\"#E5ECF6\",\"caxis\":{\"gridcolor\":\"white\",\"linecolor\":\"white\",\"ticks\":\"\"}},\"title\":{\"x\":0.05},\"xaxis\":{\"automargin\":true,\"gridcolor\":\"white\",\"linecolor\":\"white\",\"ticks\":\"\",\"title\":{\"standoff\":15},\"zerolinecolor\":\"white\",\"zerolinewidth\":2},\"yaxis\":{\"automargin\":true,\"gridcolor\":\"white\",\"linecolor\":\"white\",\"ticks\":\"\",\"title\":{\"standoff\":15},\"zerolinecolor\":\"white\",\"zerolinewidth\":2}}},\"title\":{\"font\":{\"color\":\"#4D5663\"},\"text\":\"Risultato cumulativo (R) [by Close]\"},\"xaxis\":{\"gridcolor\":\"#E1E5ED\",\"showgrid\":true,\"tickfont\":{\"color\":\"#4D5663\"},\"title\":{\"font\":{\"color\":\"#4D5663\"},\"text\":\"\"},\"zerolinecolor\":\"grey\"},\"yaxis\":{\"gridcolor\":\"#E1E5ED\",\"showgrid\":true,\"tickfont\":{\"color\":\"#4D5663\"},\"title\":{\"font\":{\"color\":\"#4D5663\"},\"text\":\"R\"},\"zerolinecolor\":\"grey\"}},                        {\"responsive\": true}                    ).then(function(){\n",
       "                            \n",
       "var gd = document.getElementById('6de18c99-5bbb-4305-8bf6-45d9a37ccab3');\n",
       "var x = new MutationObserver(function (mutations, observer) {{\n",
       "        var display = window.getComputedStyle(gd).display;\n",
       "        if (!display || display === 'none') {{\n",
       "            console.log([gd, 'removed!']);\n",
       "            Plotly.purge(gd);\n",
       "            observer.disconnect();\n",
       "        }}\n",
       "}});\n",
       "\n",
       "// Listen for the removal of the full notebook cells\n",
       "var notebookContainer = gd.closest('#notebook-container');\n",
       "if (notebookContainer) {{\n",
       "    x.observe(notebookContainer, {childList: true});\n",
       "}}\n",
       "\n",
       "// Listen for the clearing of the current output cell\n",
       "var outputEl = gd.closest('.output');\n",
       "if (outputEl) {{\n",
       "    x.observe(outputEl, {childList: true});\n",
       "}}\n",
       "\n",
       "                        })                };                });            </script>        </div>"
      ]
     },
     "metadata": {},
     "output_type": "display_data"
    }
   ],
   "source": [
    "df_60_40_by_close = df_60_40.set_index('close').sort_index()\n",
    "df_100_by_close = df_100.set_index('close').sort_index()\n",
    "\n",
    "merged = merge({'60_40': df_60_40_by_close, '100': df_100_by_close})   \n",
    "merged.cumsum().iplot(kind='scatter', connectgaps=True, interpolation='hv', \n",
    "                      title='Risultato cumulativo (R) [by Close]', width=2, legend='top',\n",
    "                      yTitle='R', fill=True, zerolinecolor='grey', opacity=1, colors=cf_colors)"
   ]
  },
  {
   "cell_type": "code",
   "execution_count": 16,
   "id": "be61ef93",
   "metadata": {
    "execution": {
     "iopub.execute_input": "2022-02-26T11:14:25.074147Z",
     "iopub.status.busy": "2022-02-26T11:14:25.073530Z",
     "iopub.status.idle": "2022-02-26T11:14:25.126661Z",
     "shell.execute_reply": "2022-02-26T11:14:25.127228Z",
     "shell.execute_reply.started": "2022-02-26T10:04:17.664171Z"
    },
    "papermill": {
     "duration": 0.103556,
     "end_time": "2022-02-26T11:14:25.127399",
     "exception": false,
     "start_time": "2022-02-26T11:14:25.023843",
     "status": "completed"
    },
    "tags": []
   },
   "outputs": [
    {
     "data": {
      "application/vnd.plotly.v1+json": {
       "config": {
        "linkText": "Export to plot.ly",
        "plotlyServerURL": "https://plot.ly",
        "showLink": false
       },
       "data": [
        {
         "marker": {
          "color": "rgba(63, 147, 202, 1)",
          "line": {
           "color": "rgba(63, 147, 202, 1.0)",
           "width": 1
          }
         },
         "name": "result_60_40",
         "orientation": "v",
         "text": "",
         "type": "bar",
         "x": [
          "Nov 2020",
          "Dec 2020",
          "Jan 2021",
          "Feb 2021",
          "Mar 2021",
          "Apr 2021",
          "May 2021",
          "Jun 2021",
          "Jul 2021",
          "Aug 2021",
          "Sep 2021",
          "Oct 2021",
          "Nov 2021",
          "Dec 2021",
          "Jan 2022",
          "Feb 2022"
         ],
         "y": [
          -2.1861187242053344,
          0.614449113647507,
          1.781842506596008,
          -0.5601181614763333,
          6.697084144194967,
          2.4004273297106185,
          1.6776170097463379,
          -1.8637971720815778,
          3.7743448725750897,
          -1.460021575127006,
          4.4561129007869,
          4.5616177999801035,
          -9.13515197906492,
          5.227830907839149,
          6.775903900748205,
          1.443661971830954
         ]
        },
        {
         "marker": {
          "color": "rgba(219, 58, 52, 1)",
          "line": {
           "color": "rgba(219, 58, 52, 1.0)",
           "width": 1
          }
         },
         "name": "result_100",
         "orientation": "v",
         "text": "",
         "type": "bar",
         "x": [
          "Nov 2020",
          "Dec 2020",
          "Jan 2021",
          "Feb 2021",
          "Mar 2021",
          "Apr 2021",
          "May 2021",
          "Jun 2021",
          "Jul 2021",
          "Aug 2021",
          "Sep 2021",
          "Oct 2021",
          "Nov 2021",
          "Dec 2021",
          "Jan 2022",
          "Feb 2022"
         ],
         "y": [
          -2.9818252035183495,
          -1.1263778062714132,
          1.1151245241844747,
          -1.1073711245145597,
          2.844424997617644,
          -1.2518354444024102,
          3.5587223167920805,
          -0.6140054764125248,
          1.8001000195769026,
          -1.109581728735356,
          6.009812714744786,
          1.0583744850362553,
          -8.35930040688647,
          1.3647030601929973,
          7.191371050842871,
          0.8802816901408451
         ]
        }
       ],
       "layout": {
        "legend": {
         "bgcolor": "#FFFFFF",
         "font": {
          "color": "#4D5663"
         },
         "orientation": "h",
         "x": 0.3,
         "y": 0.95,
         "yanchor": "bottom"
        },
        "paper_bgcolor": "#FFFFFF",
        "plot_bgcolor": "#FFFFFF",
        "showlegend": true,
        "template": {
         "data": {
          "bar": [
           {
            "error_x": {
             "color": "#2a3f5f"
            },
            "error_y": {
             "color": "#2a3f5f"
            },
            "marker": {
             "line": {
              "color": "#E5ECF6",
              "width": 0.5
             },
             "pattern": {
              "fillmode": "overlay",
              "size": 10,
              "solidity": 0.2
             }
            },
            "type": "bar"
           }
          ],
          "barpolar": [
           {
            "marker": {
             "line": {
              "color": "#E5ECF6",
              "width": 0.5
             },
             "pattern": {
              "fillmode": "overlay",
              "size": 10,
              "solidity": 0.2
             }
            },
            "type": "barpolar"
           }
          ],
          "carpet": [
           {
            "aaxis": {
             "endlinecolor": "#2a3f5f",
             "gridcolor": "white",
             "linecolor": "white",
             "minorgridcolor": "white",
             "startlinecolor": "#2a3f5f"
            },
            "baxis": {
             "endlinecolor": "#2a3f5f",
             "gridcolor": "white",
             "linecolor": "white",
             "minorgridcolor": "white",
             "startlinecolor": "#2a3f5f"
            },
            "type": "carpet"
           }
          ],
          "choropleth": [
           {
            "colorbar": {
             "outlinewidth": 0,
             "ticks": ""
            },
            "type": "choropleth"
           }
          ],
          "contour": [
           {
            "colorbar": {
             "outlinewidth": 0,
             "ticks": ""
            },
            "colorscale": [
             [
              0.0,
              "#0d0887"
             ],
             [
              0.1111111111111111,
              "#46039f"
             ],
             [
              0.2222222222222222,
              "#7201a8"
             ],
             [
              0.3333333333333333,
              "#9c179e"
             ],
             [
              0.4444444444444444,
              "#bd3786"
             ],
             [
              0.5555555555555556,
              "#d8576b"
             ],
             [
              0.6666666666666666,
              "#ed7953"
             ],
             [
              0.7777777777777778,
              "#fb9f3a"
             ],
             [
              0.8888888888888888,
              "#fdca26"
             ],
             [
              1.0,
              "#f0f921"
             ]
            ],
            "type": "contour"
           }
          ],
          "contourcarpet": [
           {
            "colorbar": {
             "outlinewidth": 0,
             "ticks": ""
            },
            "type": "contourcarpet"
           }
          ],
          "heatmap": [
           {
            "colorbar": {
             "outlinewidth": 0,
             "ticks": ""
            },
            "colorscale": [
             [
              0.0,
              "#0d0887"
             ],
             [
              0.1111111111111111,
              "#46039f"
             ],
             [
              0.2222222222222222,
              "#7201a8"
             ],
             [
              0.3333333333333333,
              "#9c179e"
             ],
             [
              0.4444444444444444,
              "#bd3786"
             ],
             [
              0.5555555555555556,
              "#d8576b"
             ],
             [
              0.6666666666666666,
              "#ed7953"
             ],
             [
              0.7777777777777778,
              "#fb9f3a"
             ],
             [
              0.8888888888888888,
              "#fdca26"
             ],
             [
              1.0,
              "#f0f921"
             ]
            ],
            "type": "heatmap"
           }
          ],
          "heatmapgl": [
           {
            "colorbar": {
             "outlinewidth": 0,
             "ticks": ""
            },
            "colorscale": [
             [
              0.0,
              "#0d0887"
             ],
             [
              0.1111111111111111,
              "#46039f"
             ],
             [
              0.2222222222222222,
              "#7201a8"
             ],
             [
              0.3333333333333333,
              "#9c179e"
             ],
             [
              0.4444444444444444,
              "#bd3786"
             ],
             [
              0.5555555555555556,
              "#d8576b"
             ],
             [
              0.6666666666666666,
              "#ed7953"
             ],
             [
              0.7777777777777778,
              "#fb9f3a"
             ],
             [
              0.8888888888888888,
              "#fdca26"
             ],
             [
              1.0,
              "#f0f921"
             ]
            ],
            "type": "heatmapgl"
           }
          ],
          "histogram": [
           {
            "marker": {
             "pattern": {
              "fillmode": "overlay",
              "size": 10,
              "solidity": 0.2
             }
            },
            "type": "histogram"
           }
          ],
          "histogram2d": [
           {
            "colorbar": {
             "outlinewidth": 0,
             "ticks": ""
            },
            "colorscale": [
             [
              0.0,
              "#0d0887"
             ],
             [
              0.1111111111111111,
              "#46039f"
             ],
             [
              0.2222222222222222,
              "#7201a8"
             ],
             [
              0.3333333333333333,
              "#9c179e"
             ],
             [
              0.4444444444444444,
              "#bd3786"
             ],
             [
              0.5555555555555556,
              "#d8576b"
             ],
             [
              0.6666666666666666,
              "#ed7953"
             ],
             [
              0.7777777777777778,
              "#fb9f3a"
             ],
             [
              0.8888888888888888,
              "#fdca26"
             ],
             [
              1.0,
              "#f0f921"
             ]
            ],
            "type": "histogram2d"
           }
          ],
          "histogram2dcontour": [
           {
            "colorbar": {
             "outlinewidth": 0,
             "ticks": ""
            },
            "colorscale": [
             [
              0.0,
              "#0d0887"
             ],
             [
              0.1111111111111111,
              "#46039f"
             ],
             [
              0.2222222222222222,
              "#7201a8"
             ],
             [
              0.3333333333333333,
              "#9c179e"
             ],
             [
              0.4444444444444444,
              "#bd3786"
             ],
             [
              0.5555555555555556,
              "#d8576b"
             ],
             [
              0.6666666666666666,
              "#ed7953"
             ],
             [
              0.7777777777777778,
              "#fb9f3a"
             ],
             [
              0.8888888888888888,
              "#fdca26"
             ],
             [
              1.0,
              "#f0f921"
             ]
            ],
            "type": "histogram2dcontour"
           }
          ],
          "mesh3d": [
           {
            "colorbar": {
             "outlinewidth": 0,
             "ticks": ""
            },
            "type": "mesh3d"
           }
          ],
          "parcoords": [
           {
            "line": {
             "colorbar": {
              "outlinewidth": 0,
              "ticks": ""
             }
            },
            "type": "parcoords"
           }
          ],
          "pie": [
           {
            "automargin": true,
            "type": "pie"
           }
          ],
          "scatter": [
           {
            "marker": {
             "colorbar": {
              "outlinewidth": 0,
              "ticks": ""
             }
            },
            "type": "scatter"
           }
          ],
          "scatter3d": [
           {
            "line": {
             "colorbar": {
              "outlinewidth": 0,
              "ticks": ""
             }
            },
            "marker": {
             "colorbar": {
              "outlinewidth": 0,
              "ticks": ""
             }
            },
            "type": "scatter3d"
           }
          ],
          "scattercarpet": [
           {
            "marker": {
             "colorbar": {
              "outlinewidth": 0,
              "ticks": ""
             }
            },
            "type": "scattercarpet"
           }
          ],
          "scattergeo": [
           {
            "marker": {
             "colorbar": {
              "outlinewidth": 0,
              "ticks": ""
             }
            },
            "type": "scattergeo"
           }
          ],
          "scattergl": [
           {
            "marker": {
             "colorbar": {
              "outlinewidth": 0,
              "ticks": ""
             }
            },
            "type": "scattergl"
           }
          ],
          "scattermapbox": [
           {
            "marker": {
             "colorbar": {
              "outlinewidth": 0,
              "ticks": ""
             }
            },
            "type": "scattermapbox"
           }
          ],
          "scatterpolar": [
           {
            "marker": {
             "colorbar": {
              "outlinewidth": 0,
              "ticks": ""
             }
            },
            "type": "scatterpolar"
           }
          ],
          "scatterpolargl": [
           {
            "marker": {
             "colorbar": {
              "outlinewidth": 0,
              "ticks": ""
             }
            },
            "type": "scatterpolargl"
           }
          ],
          "scatterternary": [
           {
            "marker": {
             "colorbar": {
              "outlinewidth": 0,
              "ticks": ""
             }
            },
            "type": "scatterternary"
           }
          ],
          "surface": [
           {
            "colorbar": {
             "outlinewidth": 0,
             "ticks": ""
            },
            "colorscale": [
             [
              0.0,
              "#0d0887"
             ],
             [
              0.1111111111111111,
              "#46039f"
             ],
             [
              0.2222222222222222,
              "#7201a8"
             ],
             [
              0.3333333333333333,
              "#9c179e"
             ],
             [
              0.4444444444444444,
              "#bd3786"
             ],
             [
              0.5555555555555556,
              "#d8576b"
             ],
             [
              0.6666666666666666,
              "#ed7953"
             ],
             [
              0.7777777777777778,
              "#fb9f3a"
             ],
             [
              0.8888888888888888,
              "#fdca26"
             ],
             [
              1.0,
              "#f0f921"
             ]
            ],
            "type": "surface"
           }
          ],
          "table": [
           {
            "cells": {
             "fill": {
              "color": "#EBF0F8"
             },
             "line": {
              "color": "white"
             }
            },
            "header": {
             "fill": {
              "color": "#C8D4E3"
             },
             "line": {
              "color": "white"
             }
            },
            "type": "table"
           }
          ]
         },
         "layout": {
          "annotationdefaults": {
           "arrowcolor": "#2a3f5f",
           "arrowhead": 0,
           "arrowwidth": 1
          },
          "autotypenumbers": "strict",
          "coloraxis": {
           "colorbar": {
            "outlinewidth": 0,
            "ticks": ""
           }
          },
          "colorscale": {
           "diverging": [
            [
             0,
             "#8e0152"
            ],
            [
             0.1,
             "#c51b7d"
            ],
            [
             0.2,
             "#de77ae"
            ],
            [
             0.3,
             "#f1b6da"
            ],
            [
             0.4,
             "#fde0ef"
            ],
            [
             0.5,
             "#f7f7f7"
            ],
            [
             0.6,
             "#e6f5d0"
            ],
            [
             0.7,
             "#b8e186"
            ],
            [
             0.8,
             "#7fbc41"
            ],
            [
             0.9,
             "#4d9221"
            ],
            [
             1,
             "#276419"
            ]
           ],
           "sequential": [
            [
             0.0,
             "#0d0887"
            ],
            [
             0.1111111111111111,
             "#46039f"
            ],
            [
             0.2222222222222222,
             "#7201a8"
            ],
            [
             0.3333333333333333,
             "#9c179e"
            ],
            [
             0.4444444444444444,
             "#bd3786"
            ],
            [
             0.5555555555555556,
             "#d8576b"
            ],
            [
             0.6666666666666666,
             "#ed7953"
            ],
            [
             0.7777777777777778,
             "#fb9f3a"
            ],
            [
             0.8888888888888888,
             "#fdca26"
            ],
            [
             1.0,
             "#f0f921"
            ]
           ],
           "sequentialminus": [
            [
             0.0,
             "#0d0887"
            ],
            [
             0.1111111111111111,
             "#46039f"
            ],
            [
             0.2222222222222222,
             "#7201a8"
            ],
            [
             0.3333333333333333,
             "#9c179e"
            ],
            [
             0.4444444444444444,
             "#bd3786"
            ],
            [
             0.5555555555555556,
             "#d8576b"
            ],
            [
             0.6666666666666666,
             "#ed7953"
            ],
            [
             0.7777777777777778,
             "#fb9f3a"
            ],
            [
             0.8888888888888888,
             "#fdca26"
            ],
            [
             1.0,
             "#f0f921"
            ]
           ]
          },
          "colorway": [
           "#636efa",
           "#EF553B",
           "#00cc96",
           "#ab63fa",
           "#FFA15A",
           "#19d3f3",
           "#FF6692",
           "#B6E880",
           "#FF97FF",
           "#FECB52"
          ],
          "font": {
           "color": "#2a3f5f"
          },
          "geo": {
           "bgcolor": "white",
           "lakecolor": "white",
           "landcolor": "#E5ECF6",
           "showlakes": true,
           "showland": true,
           "subunitcolor": "white"
          },
          "hoverlabel": {
           "align": "left"
          },
          "hovermode": "closest",
          "mapbox": {
           "style": "light"
          },
          "paper_bgcolor": "white",
          "plot_bgcolor": "#E5ECF6",
          "polar": {
           "angularaxis": {
            "gridcolor": "white",
            "linecolor": "white",
            "ticks": ""
           },
           "bgcolor": "#E5ECF6",
           "radialaxis": {
            "gridcolor": "white",
            "linecolor": "white",
            "ticks": ""
           }
          },
          "scene": {
           "xaxis": {
            "backgroundcolor": "#E5ECF6",
            "gridcolor": "white",
            "gridwidth": 2,
            "linecolor": "white",
            "showbackground": true,
            "ticks": "",
            "zerolinecolor": "white"
           },
           "yaxis": {
            "backgroundcolor": "#E5ECF6",
            "gridcolor": "white",
            "gridwidth": 2,
            "linecolor": "white",
            "showbackground": true,
            "ticks": "",
            "zerolinecolor": "white"
           },
           "zaxis": {
            "backgroundcolor": "#E5ECF6",
            "gridcolor": "white",
            "gridwidth": 2,
            "linecolor": "white",
            "showbackground": true,
            "ticks": "",
            "zerolinecolor": "white"
           }
          },
          "shapedefaults": {
           "line": {
            "color": "#2a3f5f"
           }
          },
          "ternary": {
           "aaxis": {
            "gridcolor": "white",
            "linecolor": "white",
            "ticks": ""
           },
           "baxis": {
            "gridcolor": "white",
            "linecolor": "white",
            "ticks": ""
           },
           "bgcolor": "#E5ECF6",
           "caxis": {
            "gridcolor": "white",
            "linecolor": "white",
            "ticks": ""
           }
          },
          "title": {
           "x": 0.05
          },
          "xaxis": {
           "automargin": true,
           "gridcolor": "white",
           "linecolor": "white",
           "ticks": "",
           "title": {
            "standoff": 15
           },
           "zerolinecolor": "white",
           "zerolinewidth": 2
          },
          "yaxis": {
           "automargin": true,
           "gridcolor": "white",
           "linecolor": "white",
           "ticks": "",
           "title": {
            "standoff": 15
           },
           "zerolinecolor": "white",
           "zerolinewidth": 2
          }
         }
        },
        "title": {
         "font": {
          "color": "#4D5663"
         },
         "text": "Risultato mensile (R) [by Close]"
        },
        "xaxis": {
         "gridcolor": "#E1E5ED",
         "showgrid": true,
         "tickfont": {
          "color": "#4D5663"
         },
         "title": {
          "font": {
           "color": "#4D5663"
          },
          "text": "month"
         },
         "zerolinecolor": "grey"
        },
        "yaxis": {
         "gridcolor": "#E1E5ED",
         "showgrid": true,
         "tickfont": {
          "color": "#4D5663"
         },
         "title": {
          "font": {
           "color": "#4D5663"
          },
          "text": "R"
         },
         "zerolinecolor": "grey"
        }
       }
      },
      "text/html": [
       "<div>                            <div id=\"b432480e-825c-434f-84ba-b16578a9f9ec\" class=\"plotly-graph-div\" style=\"height:525px; width:100%;\"></div>            <script type=\"text/javascript\">                require([\"plotly\"], function(Plotly) {                    window.PLOTLYENV=window.PLOTLYENV || {};                                    if (document.getElementById(\"b432480e-825c-434f-84ba-b16578a9f9ec\")) {                    Plotly.newPlot(                        \"b432480e-825c-434f-84ba-b16578a9f9ec\",                        [{\"marker\":{\"color\":\"rgba(63, 147, 202, 1)\",\"line\":{\"color\":\"rgba(63, 147, 202, 1.0)\",\"width\":1}},\"name\":\"result_60_40\",\"orientation\":\"v\",\"text\":\"\",\"x\":[\"Nov 2020\",\"Dec 2020\",\"Jan 2021\",\"Feb 2021\",\"Mar 2021\",\"Apr 2021\",\"May 2021\",\"Jun 2021\",\"Jul 2021\",\"Aug 2021\",\"Sep 2021\",\"Oct 2021\",\"Nov 2021\",\"Dec 2021\",\"Jan 2022\",\"Feb 2022\"],\"y\":[-2.1861187242053344,0.614449113647507,1.781842506596008,-0.5601181614763333,6.697084144194967,2.4004273297106185,1.6776170097463379,-1.8637971720815778,3.7743448725750897,-1.460021575127006,4.4561129007869,4.5616177999801035,-9.13515197906492,5.227830907839149,6.775903900748205,1.443661971830954],\"type\":\"bar\"},{\"marker\":{\"color\":\"rgba(219, 58, 52, 1)\",\"line\":{\"color\":\"rgba(219, 58, 52, 1.0)\",\"width\":1}},\"name\":\"result_100\",\"orientation\":\"v\",\"text\":\"\",\"x\":[\"Nov 2020\",\"Dec 2020\",\"Jan 2021\",\"Feb 2021\",\"Mar 2021\",\"Apr 2021\",\"May 2021\",\"Jun 2021\",\"Jul 2021\",\"Aug 2021\",\"Sep 2021\",\"Oct 2021\",\"Nov 2021\",\"Dec 2021\",\"Jan 2022\",\"Feb 2022\"],\"y\":[-2.9818252035183495,-1.1263778062714132,1.1151245241844747,-1.1073711245145597,2.844424997617644,-1.2518354444024102,3.5587223167920805,-0.6140054764125248,1.8001000195769026,-1.109581728735356,6.009812714744786,1.0583744850362553,-8.35930040688647,1.3647030601929973,7.191371050842871,0.8802816901408451],\"type\":\"bar\"}],                        {\"legend\":{\"bgcolor\":\"#FFFFFF\",\"font\":{\"color\":\"#4D5663\"},\"orientation\":\"h\",\"x\":0.3,\"y\":0.95,\"yanchor\":\"bottom\"},\"paper_bgcolor\":\"#FFFFFF\",\"plot_bgcolor\":\"#FFFFFF\",\"showlegend\":true,\"template\":{\"data\":{\"barpolar\":[{\"marker\":{\"line\":{\"color\":\"#E5ECF6\",\"width\":0.5},\"pattern\":{\"fillmode\":\"overlay\",\"size\":10,\"solidity\":0.2}},\"type\":\"barpolar\"}],\"bar\":[{\"error_x\":{\"color\":\"#2a3f5f\"},\"error_y\":{\"color\":\"#2a3f5f\"},\"marker\":{\"line\":{\"color\":\"#E5ECF6\",\"width\":0.5},\"pattern\":{\"fillmode\":\"overlay\",\"size\":10,\"solidity\":0.2}},\"type\":\"bar\"}],\"carpet\":[{\"aaxis\":{\"endlinecolor\":\"#2a3f5f\",\"gridcolor\":\"white\",\"linecolor\":\"white\",\"minorgridcolor\":\"white\",\"startlinecolor\":\"#2a3f5f\"},\"baxis\":{\"endlinecolor\":\"#2a3f5f\",\"gridcolor\":\"white\",\"linecolor\":\"white\",\"minorgridcolor\":\"white\",\"startlinecolor\":\"#2a3f5f\"},\"type\":\"carpet\"}],\"choropleth\":[{\"colorbar\":{\"outlinewidth\":0,\"ticks\":\"\"},\"type\":\"choropleth\"}],\"contourcarpet\":[{\"colorbar\":{\"outlinewidth\":0,\"ticks\":\"\"},\"type\":\"contourcarpet\"}],\"contour\":[{\"colorbar\":{\"outlinewidth\":0,\"ticks\":\"\"},\"colorscale\":[[0.0,\"#0d0887\"],[0.1111111111111111,\"#46039f\"],[0.2222222222222222,\"#7201a8\"],[0.3333333333333333,\"#9c179e\"],[0.4444444444444444,\"#bd3786\"],[0.5555555555555556,\"#d8576b\"],[0.6666666666666666,\"#ed7953\"],[0.7777777777777778,\"#fb9f3a\"],[0.8888888888888888,\"#fdca26\"],[1.0,\"#f0f921\"]],\"type\":\"contour\"}],\"heatmapgl\":[{\"colorbar\":{\"outlinewidth\":0,\"ticks\":\"\"},\"colorscale\":[[0.0,\"#0d0887\"],[0.1111111111111111,\"#46039f\"],[0.2222222222222222,\"#7201a8\"],[0.3333333333333333,\"#9c179e\"],[0.4444444444444444,\"#bd3786\"],[0.5555555555555556,\"#d8576b\"],[0.6666666666666666,\"#ed7953\"],[0.7777777777777778,\"#fb9f3a\"],[0.8888888888888888,\"#fdca26\"],[1.0,\"#f0f921\"]],\"type\":\"heatmapgl\"}],\"heatmap\":[{\"colorbar\":{\"outlinewidth\":0,\"ticks\":\"\"},\"colorscale\":[[0.0,\"#0d0887\"],[0.1111111111111111,\"#46039f\"],[0.2222222222222222,\"#7201a8\"],[0.3333333333333333,\"#9c179e\"],[0.4444444444444444,\"#bd3786\"],[0.5555555555555556,\"#d8576b\"],[0.6666666666666666,\"#ed7953\"],[0.7777777777777778,\"#fb9f3a\"],[0.8888888888888888,\"#fdca26\"],[1.0,\"#f0f921\"]],\"type\":\"heatmap\"}],\"histogram2dcontour\":[{\"colorbar\":{\"outlinewidth\":0,\"ticks\":\"\"},\"colorscale\":[[0.0,\"#0d0887\"],[0.1111111111111111,\"#46039f\"],[0.2222222222222222,\"#7201a8\"],[0.3333333333333333,\"#9c179e\"],[0.4444444444444444,\"#bd3786\"],[0.5555555555555556,\"#d8576b\"],[0.6666666666666666,\"#ed7953\"],[0.7777777777777778,\"#fb9f3a\"],[0.8888888888888888,\"#fdca26\"],[1.0,\"#f0f921\"]],\"type\":\"histogram2dcontour\"}],\"histogram2d\":[{\"colorbar\":{\"outlinewidth\":0,\"ticks\":\"\"},\"colorscale\":[[0.0,\"#0d0887\"],[0.1111111111111111,\"#46039f\"],[0.2222222222222222,\"#7201a8\"],[0.3333333333333333,\"#9c179e\"],[0.4444444444444444,\"#bd3786\"],[0.5555555555555556,\"#d8576b\"],[0.6666666666666666,\"#ed7953\"],[0.7777777777777778,\"#fb9f3a\"],[0.8888888888888888,\"#fdca26\"],[1.0,\"#f0f921\"]],\"type\":\"histogram2d\"}],\"histogram\":[{\"marker\":{\"pattern\":{\"fillmode\":\"overlay\",\"size\":10,\"solidity\":0.2}},\"type\":\"histogram\"}],\"mesh3d\":[{\"colorbar\":{\"outlinewidth\":0,\"ticks\":\"\"},\"type\":\"mesh3d\"}],\"parcoords\":[{\"line\":{\"colorbar\":{\"outlinewidth\":0,\"ticks\":\"\"}},\"type\":\"parcoords\"}],\"pie\":[{\"automargin\":true,\"type\":\"pie\"}],\"scatter3d\":[{\"line\":{\"colorbar\":{\"outlinewidth\":0,\"ticks\":\"\"}},\"marker\":{\"colorbar\":{\"outlinewidth\":0,\"ticks\":\"\"}},\"type\":\"scatter3d\"}],\"scattercarpet\":[{\"marker\":{\"colorbar\":{\"outlinewidth\":0,\"ticks\":\"\"}},\"type\":\"scattercarpet\"}],\"scattergeo\":[{\"marker\":{\"colorbar\":{\"outlinewidth\":0,\"ticks\":\"\"}},\"type\":\"scattergeo\"}],\"scattergl\":[{\"marker\":{\"colorbar\":{\"outlinewidth\":0,\"ticks\":\"\"}},\"type\":\"scattergl\"}],\"scattermapbox\":[{\"marker\":{\"colorbar\":{\"outlinewidth\":0,\"ticks\":\"\"}},\"type\":\"scattermapbox\"}],\"scatterpolargl\":[{\"marker\":{\"colorbar\":{\"outlinewidth\":0,\"ticks\":\"\"}},\"type\":\"scatterpolargl\"}],\"scatterpolar\":[{\"marker\":{\"colorbar\":{\"outlinewidth\":0,\"ticks\":\"\"}},\"type\":\"scatterpolar\"}],\"scatter\":[{\"marker\":{\"colorbar\":{\"outlinewidth\":0,\"ticks\":\"\"}},\"type\":\"scatter\"}],\"scatterternary\":[{\"marker\":{\"colorbar\":{\"outlinewidth\":0,\"ticks\":\"\"}},\"type\":\"scatterternary\"}],\"surface\":[{\"colorbar\":{\"outlinewidth\":0,\"ticks\":\"\"},\"colorscale\":[[0.0,\"#0d0887\"],[0.1111111111111111,\"#46039f\"],[0.2222222222222222,\"#7201a8\"],[0.3333333333333333,\"#9c179e\"],[0.4444444444444444,\"#bd3786\"],[0.5555555555555556,\"#d8576b\"],[0.6666666666666666,\"#ed7953\"],[0.7777777777777778,\"#fb9f3a\"],[0.8888888888888888,\"#fdca26\"],[1.0,\"#f0f921\"]],\"type\":\"surface\"}],\"table\":[{\"cells\":{\"fill\":{\"color\":\"#EBF0F8\"},\"line\":{\"color\":\"white\"}},\"header\":{\"fill\":{\"color\":\"#C8D4E3\"},\"line\":{\"color\":\"white\"}},\"type\":\"table\"}]},\"layout\":{\"annotationdefaults\":{\"arrowcolor\":\"#2a3f5f\",\"arrowhead\":0,\"arrowwidth\":1},\"autotypenumbers\":\"strict\",\"coloraxis\":{\"colorbar\":{\"outlinewidth\":0,\"ticks\":\"\"}},\"colorscale\":{\"diverging\":[[0,\"#8e0152\"],[0.1,\"#c51b7d\"],[0.2,\"#de77ae\"],[0.3,\"#f1b6da\"],[0.4,\"#fde0ef\"],[0.5,\"#f7f7f7\"],[0.6,\"#e6f5d0\"],[0.7,\"#b8e186\"],[0.8,\"#7fbc41\"],[0.9,\"#4d9221\"],[1,\"#276419\"]],\"sequential\":[[0.0,\"#0d0887\"],[0.1111111111111111,\"#46039f\"],[0.2222222222222222,\"#7201a8\"],[0.3333333333333333,\"#9c179e\"],[0.4444444444444444,\"#bd3786\"],[0.5555555555555556,\"#d8576b\"],[0.6666666666666666,\"#ed7953\"],[0.7777777777777778,\"#fb9f3a\"],[0.8888888888888888,\"#fdca26\"],[1.0,\"#f0f921\"]],\"sequentialminus\":[[0.0,\"#0d0887\"],[0.1111111111111111,\"#46039f\"],[0.2222222222222222,\"#7201a8\"],[0.3333333333333333,\"#9c179e\"],[0.4444444444444444,\"#bd3786\"],[0.5555555555555556,\"#d8576b\"],[0.6666666666666666,\"#ed7953\"],[0.7777777777777778,\"#fb9f3a\"],[0.8888888888888888,\"#fdca26\"],[1.0,\"#f0f921\"]]},\"colorway\":[\"#636efa\",\"#EF553B\",\"#00cc96\",\"#ab63fa\",\"#FFA15A\",\"#19d3f3\",\"#FF6692\",\"#B6E880\",\"#FF97FF\",\"#FECB52\"],\"font\":{\"color\":\"#2a3f5f\"},\"geo\":{\"bgcolor\":\"white\",\"lakecolor\":\"white\",\"landcolor\":\"#E5ECF6\",\"showlakes\":true,\"showland\":true,\"subunitcolor\":\"white\"},\"hoverlabel\":{\"align\":\"left\"},\"hovermode\":\"closest\",\"mapbox\":{\"style\":\"light\"},\"paper_bgcolor\":\"white\",\"plot_bgcolor\":\"#E5ECF6\",\"polar\":{\"angularaxis\":{\"gridcolor\":\"white\",\"linecolor\":\"white\",\"ticks\":\"\"},\"bgcolor\":\"#E5ECF6\",\"radialaxis\":{\"gridcolor\":\"white\",\"linecolor\":\"white\",\"ticks\":\"\"}},\"scene\":{\"xaxis\":{\"backgroundcolor\":\"#E5ECF6\",\"gridcolor\":\"white\",\"gridwidth\":2,\"linecolor\":\"white\",\"showbackground\":true,\"ticks\":\"\",\"zerolinecolor\":\"white\"},\"yaxis\":{\"backgroundcolor\":\"#E5ECF6\",\"gridcolor\":\"white\",\"gridwidth\":2,\"linecolor\":\"white\",\"showbackground\":true,\"ticks\":\"\",\"zerolinecolor\":\"white\"},\"zaxis\":{\"backgroundcolor\":\"#E5ECF6\",\"gridcolor\":\"white\",\"gridwidth\":2,\"linecolor\":\"white\",\"showbackground\":true,\"ticks\":\"\",\"zerolinecolor\":\"white\"}},\"shapedefaults\":{\"line\":{\"color\":\"#2a3f5f\"}},\"ternary\":{\"aaxis\":{\"gridcolor\":\"white\",\"linecolor\":\"white\",\"ticks\":\"\"},\"baxis\":{\"gridcolor\":\"white\",\"linecolor\":\"white\",\"ticks\":\"\"},\"bgcolor\":\"#E5ECF6\",\"caxis\":{\"gridcolor\":\"white\",\"linecolor\":\"white\",\"ticks\":\"\"}},\"title\":{\"x\":0.05},\"xaxis\":{\"automargin\":true,\"gridcolor\":\"white\",\"linecolor\":\"white\",\"ticks\":\"\",\"title\":{\"standoff\":15},\"zerolinecolor\":\"white\",\"zerolinewidth\":2},\"yaxis\":{\"automargin\":true,\"gridcolor\":\"white\",\"linecolor\":\"white\",\"ticks\":\"\",\"title\":{\"standoff\":15},\"zerolinecolor\":\"white\",\"zerolinewidth\":2}}},\"title\":{\"font\":{\"color\":\"#4D5663\"},\"text\":\"Risultato mensile (R) [by Close]\"},\"xaxis\":{\"gridcolor\":\"#E1E5ED\",\"showgrid\":true,\"tickfont\":{\"color\":\"#4D5663\"},\"title\":{\"font\":{\"color\":\"#4D5663\"},\"text\":\"month\"},\"zerolinecolor\":\"grey\"},\"yaxis\":{\"gridcolor\":\"#E1E5ED\",\"showgrid\":true,\"tickfont\":{\"color\":\"#4D5663\"},\"title\":{\"font\":{\"color\":\"#4D5663\"},\"text\":\"R\"},\"zerolinecolor\":\"grey\"}},                        {\"responsive\": true}                    ).then(function(){\n",
       "                            \n",
       "var gd = document.getElementById('b432480e-825c-434f-84ba-b16578a9f9ec');\n",
       "var x = new MutationObserver(function (mutations, observer) {{\n",
       "        var display = window.getComputedStyle(gd).display;\n",
       "        if (!display || display === 'none') {{\n",
       "            console.log([gd, 'removed!']);\n",
       "            Plotly.purge(gd);\n",
       "            observer.disconnect();\n",
       "        }}\n",
       "}});\n",
       "\n",
       "// Listen for the removal of the full notebook cells\n",
       "var notebookContainer = gd.closest('#notebook-container');\n",
       "if (notebookContainer) {{\n",
       "    x.observe(notebookContainer, {childList: true});\n",
       "}}\n",
       "\n",
       "// Listen for the clearing of the current output cell\n",
       "var outputEl = gd.closest('.output');\n",
       "if (outputEl) {{\n",
       "    x.observe(outputEl, {childList: true});\n",
       "}}\n",
       "\n",
       "                        })                };                });            </script>        </div>"
      ]
     },
     "metadata": {},
     "output_type": "display_data"
    }
   ],
   "source": [
    "df = merged.groupby(pd.Grouper(freq='M')).sum().reset_index()\n",
    "df['close'] = df.close.dt.strftime('%b %Y')\n",
    "df.iplot(kind='bar', x='close', opacity=1, title='Risultato mensile (R) [by Close]',\n",
    "         yTitle='R', zerolinecolor='grey', colors=cf_colors, xTitle='month', legend='top')"
   ]
  },
  {
   "cell_type": "code",
   "execution_count": 17,
   "id": "1ec5043d",
   "metadata": {
    "execution": {
     "iopub.execute_input": "2022-02-26T11:14:25.225176Z",
     "iopub.status.busy": "2022-02-26T11:14:25.224566Z",
     "iopub.status.idle": "2022-02-26T11:14:25.263755Z",
     "shell.execute_reply": "2022-02-26T11:14:25.264212Z",
     "shell.execute_reply.started": "2022-02-26T10:04:08.680680Z"
    },
    "papermill": {
     "duration": 0.092646,
     "end_time": "2022-02-26T11:14:25.264386",
     "exception": false,
     "start_time": "2022-02-26T11:14:25.171740",
     "status": "completed"
    },
    "tags": []
   },
   "outputs": [
    {
     "data": {
      "application/vnd.plotly.v1+json": {
       "config": {
        "linkText": "Export to plot.ly",
        "plotlyServerURL": "https://plot.ly",
        "showLink": false
       },
       "data": [
        {
         "marker": {
          "color": "rgba(63, 147, 202, 1)",
          "line": {
           "color": "rgba(63, 147, 202, 1.0)",
           "width": 1
          }
         },
         "name": "result_60_40",
         "orientation": "v",
         "text": "",
         "type": "bar",
         "x": [
          "45-20",
          "46-20",
          "47-20",
          "48-20",
          "49-20",
          "50-20",
          "51-20",
          "52-20",
          "01-21",
          "02-21",
          "03-21",
          "04-21",
          "05-21",
          "06-21",
          "07-21",
          "08-21",
          "09-21",
          "10-21",
          "11-21",
          "12-21",
          "13-21",
          "14-21",
          "15-21",
          "16-21",
          "17-21",
          "18-21",
          "19-21",
          "20-21",
          "21-21",
          "22-21",
          "23-21",
          "24-21",
          "25-21",
          "26-21",
          "27-21",
          "28-21",
          "29-21",
          "30-21",
          "31-21",
          "32-21",
          "33-21",
          "34-21",
          "35-21",
          "36-21",
          "37-21",
          "38-21",
          "39-21",
          "40-21",
          "41-21",
          "42-21",
          "43-21",
          "44-21",
          "45-21",
          "46-21",
          "47-21",
          "48-21",
          "49-21",
          "50-21",
          "51-21",
          "52-21",
          "01-22",
          "02-22",
          "03-22",
          "04-22",
          "05-22",
          "06-22"
         ],
         "y": [
          -2.062071105157828,
          -2.004999999999909,
          0.0,
          1.8809523809524027,
          1.2432198759165214,
          -0.2285277658201456,
          2.4734637940131767,
          -2.001798561150955,
          0.545289222918151,
          0.9279284160164247,
          2.2869849389031005,
          -0.6293255706279435,
          -5.138729732262334,
          0.2782586434332862,
          -0.9989106753812715,
          3.126581698529546,
          0.161404352851004,
          4.17572689963939,
          2.336470862530824,
          -1.3860035079511699,
          -1.0315552964492911,
          3.913428074476505,
          3.071215513232609,
          1.1380879034380027,
          1.4260012267493485,
          -4.361775380332027,
          1.2437609947700257,
          -3.5796824762178865,
          3.272055109995927,
          0.34773338119828767,
          0.0,
          0.20510137347569934,
          0.3982343215756182,
          -1.4671328671328574,
          -3.0026881720430367,
          -0.5323285730051233,
          1.687934333748007,
          4.868151857456655,
          -0.0023156278945175857,
          4.185684281669222,
          -2.1319002483476446,
          -7.415358506910555,
          2.3940866279342705,
          1.449405378883775,
          4.944631806465487,
          -1.0514890338417384,
          1.5884982177361395,
          1.9327197668026215,
          3.955961760855816,
          3.08346203913243,
          -1.6177909806790836,
          -3.5588010673411365,
          -0.7727448263738677,
          0.2292048669465524,
          -1.3112238297235086,
          -2.7318197454420923,
          -4.606923066059534,
          -2.5866093890318917,
          4.731910009147683,
          2.695075046904348,
          0.0,
          4.551653517158453,
          0.4177076029758968,
          -1.0226564861394958,
          2.8291992667533505,
          1.443661971830954
         ]
        },
        {
         "marker": {
          "color": "rgba(219, 58, 52, 1)",
          "line": {
           "color": "rgba(219, 58, 52, 1.0)",
           "width": 1
          }
         },
         "name": "result_100",
         "orientation": "v",
         "text": "",
         "type": "bar",
         "x": [
          "45-20",
          "46-20",
          "47-20",
          "48-20",
          "49-20",
          "50-20",
          "51-20",
          "52-20",
          "01-21",
          "02-21",
          "03-21",
          "04-21",
          "05-21",
          "06-21",
          "07-21",
          "08-21",
          "09-21",
          "10-21",
          "11-21",
          "12-21",
          "13-21",
          "14-21",
          "15-21",
          "16-21",
          "17-21",
          "18-21",
          "19-21",
          "20-21",
          "21-21",
          "22-21",
          "23-21",
          "24-21",
          "25-21",
          "26-21",
          "27-21",
          "28-21",
          "29-21",
          "30-21",
          "31-21",
          "32-21",
          "33-21",
          "34-21",
          "35-21",
          "36-21",
          "37-21",
          "38-21",
          "39-21",
          "40-21",
          "41-21",
          "42-21",
          "43-21",
          "44-21",
          "45-21",
          "46-21",
          "47-21",
          "48-21",
          "49-21",
          "50-21",
          "51-21",
          "52-21",
          "01-22",
          "02-22",
          "03-22",
          "04-22",
          "05-22",
          "06-22"
         ],
         "y": [
          -2.076825203518415,
          -2.004999999999909,
          0.0,
          1.099999999999974,
          0.3533804341907224,
          0.28248672693349286,
          1.3299084250081865,
          -2.001798561150955,
          -0.18271151915105066,
          1.2875941919832106,
          1.6142369991475403,
          -0.4221251978412659,
          -5.7294508086406255,
          0.29177278886233204,
          -0.9989106753812715,
          1.7982423257943299,
          0.7295093922152233,
          3.7079208500548027,
          1.5670860131161184,
          -1.7435300817017305,
          -1.685653332083573,
          2.3928813238942954,
          2.1536140424412116,
          1.0291042195671871,
          -0.017195372558404642,
          -4.626147038086068,
          3.301513388271548,
          -2.765103292646441,
          2.117444040117081,
          0.2486181810499204,
          0.0,
          0.5043095462438906,
          0.9935730892316982,
          -1.1118881118880752,
          -3.0026881720430367,
          -0.8994388413715677,
          1.8137580776142619,
          3.897859827499284,
          -0.9566752171699756,
          4.044337115649431,
          -2.5165544783768894,
          -5.521305817624944,
          1.8598882170470887,
          1.2624244923017285,
          5.173929895725595,
          -0.7753608047724012,
          2.452779607970492,
          0.3601089747865206,
          2.936019031707194,
          1.998384980391363,
          -1.364150468963918,
          -3.2434949448921304,
          -0.8027521413359275,
          0.48904873269386906,
          -0.9138482641126652,
          -2.8984864121087495,
          -5.47311183547411,
          -3.3360616160238594,
          3.160971000309601,
          2.0185272045028215,
          0.0,
          3.18906303101292,
          1.3966515702723243,
          -0.8984080560641535,
          3.5040645056217805,
          0.8802816901408451
         ]
        }
       ],
       "layout": {
        "legend": {
         "bgcolor": "#FFFFFF",
         "font": {
          "color": "#4D5663"
         },
         "orientation": "h",
         "x": 0.3,
         "y": 0.95,
         "yanchor": "bottom"
        },
        "paper_bgcolor": "#FFFFFF",
        "plot_bgcolor": "#FFFFFF",
        "showlegend": true,
        "template": {
         "data": {
          "bar": [
           {
            "error_x": {
             "color": "#2a3f5f"
            },
            "error_y": {
             "color": "#2a3f5f"
            },
            "marker": {
             "line": {
              "color": "#E5ECF6",
              "width": 0.5
             },
             "pattern": {
              "fillmode": "overlay",
              "size": 10,
              "solidity": 0.2
             }
            },
            "type": "bar"
           }
          ],
          "barpolar": [
           {
            "marker": {
             "line": {
              "color": "#E5ECF6",
              "width": 0.5
             },
             "pattern": {
              "fillmode": "overlay",
              "size": 10,
              "solidity": 0.2
             }
            },
            "type": "barpolar"
           }
          ],
          "carpet": [
           {
            "aaxis": {
             "endlinecolor": "#2a3f5f",
             "gridcolor": "white",
             "linecolor": "white",
             "minorgridcolor": "white",
             "startlinecolor": "#2a3f5f"
            },
            "baxis": {
             "endlinecolor": "#2a3f5f",
             "gridcolor": "white",
             "linecolor": "white",
             "minorgridcolor": "white",
             "startlinecolor": "#2a3f5f"
            },
            "type": "carpet"
           }
          ],
          "choropleth": [
           {
            "colorbar": {
             "outlinewidth": 0,
             "ticks": ""
            },
            "type": "choropleth"
           }
          ],
          "contour": [
           {
            "colorbar": {
             "outlinewidth": 0,
             "ticks": ""
            },
            "colorscale": [
             [
              0.0,
              "#0d0887"
             ],
             [
              0.1111111111111111,
              "#46039f"
             ],
             [
              0.2222222222222222,
              "#7201a8"
             ],
             [
              0.3333333333333333,
              "#9c179e"
             ],
             [
              0.4444444444444444,
              "#bd3786"
             ],
             [
              0.5555555555555556,
              "#d8576b"
             ],
             [
              0.6666666666666666,
              "#ed7953"
             ],
             [
              0.7777777777777778,
              "#fb9f3a"
             ],
             [
              0.8888888888888888,
              "#fdca26"
             ],
             [
              1.0,
              "#f0f921"
             ]
            ],
            "type": "contour"
           }
          ],
          "contourcarpet": [
           {
            "colorbar": {
             "outlinewidth": 0,
             "ticks": ""
            },
            "type": "contourcarpet"
           }
          ],
          "heatmap": [
           {
            "colorbar": {
             "outlinewidth": 0,
             "ticks": ""
            },
            "colorscale": [
             [
              0.0,
              "#0d0887"
             ],
             [
              0.1111111111111111,
              "#46039f"
             ],
             [
              0.2222222222222222,
              "#7201a8"
             ],
             [
              0.3333333333333333,
              "#9c179e"
             ],
             [
              0.4444444444444444,
              "#bd3786"
             ],
             [
              0.5555555555555556,
              "#d8576b"
             ],
             [
              0.6666666666666666,
              "#ed7953"
             ],
             [
              0.7777777777777778,
              "#fb9f3a"
             ],
             [
              0.8888888888888888,
              "#fdca26"
             ],
             [
              1.0,
              "#f0f921"
             ]
            ],
            "type": "heatmap"
           }
          ],
          "heatmapgl": [
           {
            "colorbar": {
             "outlinewidth": 0,
             "ticks": ""
            },
            "colorscale": [
             [
              0.0,
              "#0d0887"
             ],
             [
              0.1111111111111111,
              "#46039f"
             ],
             [
              0.2222222222222222,
              "#7201a8"
             ],
             [
              0.3333333333333333,
              "#9c179e"
             ],
             [
              0.4444444444444444,
              "#bd3786"
             ],
             [
              0.5555555555555556,
              "#d8576b"
             ],
             [
              0.6666666666666666,
              "#ed7953"
             ],
             [
              0.7777777777777778,
              "#fb9f3a"
             ],
             [
              0.8888888888888888,
              "#fdca26"
             ],
             [
              1.0,
              "#f0f921"
             ]
            ],
            "type": "heatmapgl"
           }
          ],
          "histogram": [
           {
            "marker": {
             "pattern": {
              "fillmode": "overlay",
              "size": 10,
              "solidity": 0.2
             }
            },
            "type": "histogram"
           }
          ],
          "histogram2d": [
           {
            "colorbar": {
             "outlinewidth": 0,
             "ticks": ""
            },
            "colorscale": [
             [
              0.0,
              "#0d0887"
             ],
             [
              0.1111111111111111,
              "#46039f"
             ],
             [
              0.2222222222222222,
              "#7201a8"
             ],
             [
              0.3333333333333333,
              "#9c179e"
             ],
             [
              0.4444444444444444,
              "#bd3786"
             ],
             [
              0.5555555555555556,
              "#d8576b"
             ],
             [
              0.6666666666666666,
              "#ed7953"
             ],
             [
              0.7777777777777778,
              "#fb9f3a"
             ],
             [
              0.8888888888888888,
              "#fdca26"
             ],
             [
              1.0,
              "#f0f921"
             ]
            ],
            "type": "histogram2d"
           }
          ],
          "histogram2dcontour": [
           {
            "colorbar": {
             "outlinewidth": 0,
             "ticks": ""
            },
            "colorscale": [
             [
              0.0,
              "#0d0887"
             ],
             [
              0.1111111111111111,
              "#46039f"
             ],
             [
              0.2222222222222222,
              "#7201a8"
             ],
             [
              0.3333333333333333,
              "#9c179e"
             ],
             [
              0.4444444444444444,
              "#bd3786"
             ],
             [
              0.5555555555555556,
              "#d8576b"
             ],
             [
              0.6666666666666666,
              "#ed7953"
             ],
             [
              0.7777777777777778,
              "#fb9f3a"
             ],
             [
              0.8888888888888888,
              "#fdca26"
             ],
             [
              1.0,
              "#f0f921"
             ]
            ],
            "type": "histogram2dcontour"
           }
          ],
          "mesh3d": [
           {
            "colorbar": {
             "outlinewidth": 0,
             "ticks": ""
            },
            "type": "mesh3d"
           }
          ],
          "parcoords": [
           {
            "line": {
             "colorbar": {
              "outlinewidth": 0,
              "ticks": ""
             }
            },
            "type": "parcoords"
           }
          ],
          "pie": [
           {
            "automargin": true,
            "type": "pie"
           }
          ],
          "scatter": [
           {
            "marker": {
             "colorbar": {
              "outlinewidth": 0,
              "ticks": ""
             }
            },
            "type": "scatter"
           }
          ],
          "scatter3d": [
           {
            "line": {
             "colorbar": {
              "outlinewidth": 0,
              "ticks": ""
             }
            },
            "marker": {
             "colorbar": {
              "outlinewidth": 0,
              "ticks": ""
             }
            },
            "type": "scatter3d"
           }
          ],
          "scattercarpet": [
           {
            "marker": {
             "colorbar": {
              "outlinewidth": 0,
              "ticks": ""
             }
            },
            "type": "scattercarpet"
           }
          ],
          "scattergeo": [
           {
            "marker": {
             "colorbar": {
              "outlinewidth": 0,
              "ticks": ""
             }
            },
            "type": "scattergeo"
           }
          ],
          "scattergl": [
           {
            "marker": {
             "colorbar": {
              "outlinewidth": 0,
              "ticks": ""
             }
            },
            "type": "scattergl"
           }
          ],
          "scattermapbox": [
           {
            "marker": {
             "colorbar": {
              "outlinewidth": 0,
              "ticks": ""
             }
            },
            "type": "scattermapbox"
           }
          ],
          "scatterpolar": [
           {
            "marker": {
             "colorbar": {
              "outlinewidth": 0,
              "ticks": ""
             }
            },
            "type": "scatterpolar"
           }
          ],
          "scatterpolargl": [
           {
            "marker": {
             "colorbar": {
              "outlinewidth": 0,
              "ticks": ""
             }
            },
            "type": "scatterpolargl"
           }
          ],
          "scatterternary": [
           {
            "marker": {
             "colorbar": {
              "outlinewidth": 0,
              "ticks": ""
             }
            },
            "type": "scatterternary"
           }
          ],
          "surface": [
           {
            "colorbar": {
             "outlinewidth": 0,
             "ticks": ""
            },
            "colorscale": [
             [
              0.0,
              "#0d0887"
             ],
             [
              0.1111111111111111,
              "#46039f"
             ],
             [
              0.2222222222222222,
              "#7201a8"
             ],
             [
              0.3333333333333333,
              "#9c179e"
             ],
             [
              0.4444444444444444,
              "#bd3786"
             ],
             [
              0.5555555555555556,
              "#d8576b"
             ],
             [
              0.6666666666666666,
              "#ed7953"
             ],
             [
              0.7777777777777778,
              "#fb9f3a"
             ],
             [
              0.8888888888888888,
              "#fdca26"
             ],
             [
              1.0,
              "#f0f921"
             ]
            ],
            "type": "surface"
           }
          ],
          "table": [
           {
            "cells": {
             "fill": {
              "color": "#EBF0F8"
             },
             "line": {
              "color": "white"
             }
            },
            "header": {
             "fill": {
              "color": "#C8D4E3"
             },
             "line": {
              "color": "white"
             }
            },
            "type": "table"
           }
          ]
         },
         "layout": {
          "annotationdefaults": {
           "arrowcolor": "#2a3f5f",
           "arrowhead": 0,
           "arrowwidth": 1
          },
          "autotypenumbers": "strict",
          "coloraxis": {
           "colorbar": {
            "outlinewidth": 0,
            "ticks": ""
           }
          },
          "colorscale": {
           "diverging": [
            [
             0,
             "#8e0152"
            ],
            [
             0.1,
             "#c51b7d"
            ],
            [
             0.2,
             "#de77ae"
            ],
            [
             0.3,
             "#f1b6da"
            ],
            [
             0.4,
             "#fde0ef"
            ],
            [
             0.5,
             "#f7f7f7"
            ],
            [
             0.6,
             "#e6f5d0"
            ],
            [
             0.7,
             "#b8e186"
            ],
            [
             0.8,
             "#7fbc41"
            ],
            [
             0.9,
             "#4d9221"
            ],
            [
             1,
             "#276419"
            ]
           ],
           "sequential": [
            [
             0.0,
             "#0d0887"
            ],
            [
             0.1111111111111111,
             "#46039f"
            ],
            [
             0.2222222222222222,
             "#7201a8"
            ],
            [
             0.3333333333333333,
             "#9c179e"
            ],
            [
             0.4444444444444444,
             "#bd3786"
            ],
            [
             0.5555555555555556,
             "#d8576b"
            ],
            [
             0.6666666666666666,
             "#ed7953"
            ],
            [
             0.7777777777777778,
             "#fb9f3a"
            ],
            [
             0.8888888888888888,
             "#fdca26"
            ],
            [
             1.0,
             "#f0f921"
            ]
           ],
           "sequentialminus": [
            [
             0.0,
             "#0d0887"
            ],
            [
             0.1111111111111111,
             "#46039f"
            ],
            [
             0.2222222222222222,
             "#7201a8"
            ],
            [
             0.3333333333333333,
             "#9c179e"
            ],
            [
             0.4444444444444444,
             "#bd3786"
            ],
            [
             0.5555555555555556,
             "#d8576b"
            ],
            [
             0.6666666666666666,
             "#ed7953"
            ],
            [
             0.7777777777777778,
             "#fb9f3a"
            ],
            [
             0.8888888888888888,
             "#fdca26"
            ],
            [
             1.0,
             "#f0f921"
            ]
           ]
          },
          "colorway": [
           "#636efa",
           "#EF553B",
           "#00cc96",
           "#ab63fa",
           "#FFA15A",
           "#19d3f3",
           "#FF6692",
           "#B6E880",
           "#FF97FF",
           "#FECB52"
          ],
          "font": {
           "color": "#2a3f5f"
          },
          "geo": {
           "bgcolor": "white",
           "lakecolor": "white",
           "landcolor": "#E5ECF6",
           "showlakes": true,
           "showland": true,
           "subunitcolor": "white"
          },
          "hoverlabel": {
           "align": "left"
          },
          "hovermode": "closest",
          "mapbox": {
           "style": "light"
          },
          "paper_bgcolor": "white",
          "plot_bgcolor": "#E5ECF6",
          "polar": {
           "angularaxis": {
            "gridcolor": "white",
            "linecolor": "white",
            "ticks": ""
           },
           "bgcolor": "#E5ECF6",
           "radialaxis": {
            "gridcolor": "white",
            "linecolor": "white",
            "ticks": ""
           }
          },
          "scene": {
           "xaxis": {
            "backgroundcolor": "#E5ECF6",
            "gridcolor": "white",
            "gridwidth": 2,
            "linecolor": "white",
            "showbackground": true,
            "ticks": "",
            "zerolinecolor": "white"
           },
           "yaxis": {
            "backgroundcolor": "#E5ECF6",
            "gridcolor": "white",
            "gridwidth": 2,
            "linecolor": "white",
            "showbackground": true,
            "ticks": "",
            "zerolinecolor": "white"
           },
           "zaxis": {
            "backgroundcolor": "#E5ECF6",
            "gridcolor": "white",
            "gridwidth": 2,
            "linecolor": "white",
            "showbackground": true,
            "ticks": "",
            "zerolinecolor": "white"
           }
          },
          "shapedefaults": {
           "line": {
            "color": "#2a3f5f"
           }
          },
          "ternary": {
           "aaxis": {
            "gridcolor": "white",
            "linecolor": "white",
            "ticks": ""
           },
           "baxis": {
            "gridcolor": "white",
            "linecolor": "white",
            "ticks": ""
           },
           "bgcolor": "#E5ECF6",
           "caxis": {
            "gridcolor": "white",
            "linecolor": "white",
            "ticks": ""
           }
          },
          "title": {
           "x": 0.05
          },
          "xaxis": {
           "automargin": true,
           "gridcolor": "white",
           "linecolor": "white",
           "ticks": "",
           "title": {
            "standoff": 15
           },
           "zerolinecolor": "white",
           "zerolinewidth": 2
          },
          "yaxis": {
           "automargin": true,
           "gridcolor": "white",
           "linecolor": "white",
           "ticks": "",
           "title": {
            "standoff": 15
           },
           "zerolinecolor": "white",
           "zerolinewidth": 2
          }
         }
        },
        "title": {
         "font": {
          "color": "#4D5663"
         },
         "text": "Risultato settimanale (R) [by Close]"
        },
        "xaxis": {
         "gridcolor": "#E1E5ED",
         "showgrid": true,
         "tickfont": {
          "color": "#4D5663"
         },
         "title": {
          "font": {
           "color": "#4D5663"
          },
          "text": "week number"
         },
         "zerolinecolor": "grey"
        },
        "yaxis": {
         "gridcolor": "#E1E5ED",
         "showgrid": true,
         "tickfont": {
          "color": "#4D5663"
         },
         "title": {
          "font": {
           "color": "#4D5663"
          },
          "text": "R"
         },
         "zerolinecolor": "grey"
        }
       }
      },
      "text/html": [
       "<div>                            <div id=\"44e97915-d2cc-4eca-9d7f-d5a9f52a2984\" class=\"plotly-graph-div\" style=\"height:525px; width:100%;\"></div>            <script type=\"text/javascript\">                require([\"plotly\"], function(Plotly) {                    window.PLOTLYENV=window.PLOTLYENV || {};                                    if (document.getElementById(\"44e97915-d2cc-4eca-9d7f-d5a9f52a2984\")) {                    Plotly.newPlot(                        \"44e97915-d2cc-4eca-9d7f-d5a9f52a2984\",                        [{\"marker\":{\"color\":\"rgba(63, 147, 202, 1)\",\"line\":{\"color\":\"rgba(63, 147, 202, 1.0)\",\"width\":1}},\"name\":\"result_60_40\",\"orientation\":\"v\",\"text\":\"\",\"x\":[\"45-20\",\"46-20\",\"47-20\",\"48-20\",\"49-20\",\"50-20\",\"51-20\",\"52-20\",\"01-21\",\"02-21\",\"03-21\",\"04-21\",\"05-21\",\"06-21\",\"07-21\",\"08-21\",\"09-21\",\"10-21\",\"11-21\",\"12-21\",\"13-21\",\"14-21\",\"15-21\",\"16-21\",\"17-21\",\"18-21\",\"19-21\",\"20-21\",\"21-21\",\"22-21\",\"23-21\",\"24-21\",\"25-21\",\"26-21\",\"27-21\",\"28-21\",\"29-21\",\"30-21\",\"31-21\",\"32-21\",\"33-21\",\"34-21\",\"35-21\",\"36-21\",\"37-21\",\"38-21\",\"39-21\",\"40-21\",\"41-21\",\"42-21\",\"43-21\",\"44-21\",\"45-21\",\"46-21\",\"47-21\",\"48-21\",\"49-21\",\"50-21\",\"51-21\",\"52-21\",\"01-22\",\"02-22\",\"03-22\",\"04-22\",\"05-22\",\"06-22\"],\"y\":[-2.062071105157828,-2.004999999999909,0.0,1.8809523809524027,1.2432198759165214,-0.2285277658201456,2.4734637940131767,-2.001798561150955,0.545289222918151,0.9279284160164247,2.2869849389031005,-0.6293255706279435,-5.138729732262334,0.2782586434332862,-0.9989106753812715,3.126581698529546,0.161404352851004,4.17572689963939,2.336470862530824,-1.3860035079511699,-1.0315552964492911,3.913428074476505,3.071215513232609,1.1380879034380027,1.4260012267493485,-4.361775380332027,1.2437609947700257,-3.5796824762178865,3.272055109995927,0.34773338119828767,0.0,0.20510137347569934,0.3982343215756182,-1.4671328671328574,-3.0026881720430367,-0.5323285730051233,1.687934333748007,4.868151857456655,-0.0023156278945175857,4.185684281669222,-2.1319002483476446,-7.415358506910555,2.3940866279342705,1.449405378883775,4.944631806465487,-1.0514890338417384,1.5884982177361395,1.9327197668026215,3.955961760855816,3.08346203913243,-1.6177909806790836,-3.5588010673411365,-0.7727448263738677,0.2292048669465524,-1.3112238297235086,-2.7318197454420923,-4.606923066059534,-2.5866093890318917,4.731910009147683,2.695075046904348,0.0,4.551653517158453,0.4177076029758968,-1.0226564861394958,2.8291992667533505,1.443661971830954],\"type\":\"bar\"},{\"marker\":{\"color\":\"rgba(219, 58, 52, 1)\",\"line\":{\"color\":\"rgba(219, 58, 52, 1.0)\",\"width\":1}},\"name\":\"result_100\",\"orientation\":\"v\",\"text\":\"\",\"x\":[\"45-20\",\"46-20\",\"47-20\",\"48-20\",\"49-20\",\"50-20\",\"51-20\",\"52-20\",\"01-21\",\"02-21\",\"03-21\",\"04-21\",\"05-21\",\"06-21\",\"07-21\",\"08-21\",\"09-21\",\"10-21\",\"11-21\",\"12-21\",\"13-21\",\"14-21\",\"15-21\",\"16-21\",\"17-21\",\"18-21\",\"19-21\",\"20-21\",\"21-21\",\"22-21\",\"23-21\",\"24-21\",\"25-21\",\"26-21\",\"27-21\",\"28-21\",\"29-21\",\"30-21\",\"31-21\",\"32-21\",\"33-21\",\"34-21\",\"35-21\",\"36-21\",\"37-21\",\"38-21\",\"39-21\",\"40-21\",\"41-21\",\"42-21\",\"43-21\",\"44-21\",\"45-21\",\"46-21\",\"47-21\",\"48-21\",\"49-21\",\"50-21\",\"51-21\",\"52-21\",\"01-22\",\"02-22\",\"03-22\",\"04-22\",\"05-22\",\"06-22\"],\"y\":[-2.076825203518415,-2.004999999999909,0.0,1.099999999999974,0.3533804341907224,0.28248672693349286,1.3299084250081865,-2.001798561150955,-0.18271151915105066,1.2875941919832106,1.6142369991475403,-0.4221251978412659,-5.7294508086406255,0.29177278886233204,-0.9989106753812715,1.7982423257943299,0.7295093922152233,3.7079208500548027,1.5670860131161184,-1.7435300817017305,-1.685653332083573,2.3928813238942954,2.1536140424412116,1.0291042195671871,-0.017195372558404642,-4.626147038086068,3.301513388271548,-2.765103292646441,2.117444040117081,0.2486181810499204,0.0,0.5043095462438906,0.9935730892316982,-1.1118881118880752,-3.0026881720430367,-0.8994388413715677,1.8137580776142619,3.897859827499284,-0.9566752171699756,4.044337115649431,-2.5165544783768894,-5.521305817624944,1.8598882170470887,1.2624244923017285,5.173929895725595,-0.7753608047724012,2.452779607970492,0.3601089747865206,2.936019031707194,1.998384980391363,-1.364150468963918,-3.2434949448921304,-0.8027521413359275,0.48904873269386906,-0.9138482641126652,-2.8984864121087495,-5.47311183547411,-3.3360616160238594,3.160971000309601,2.0185272045028215,0.0,3.18906303101292,1.3966515702723243,-0.8984080560641535,3.5040645056217805,0.8802816901408451],\"type\":\"bar\"}],                        {\"legend\":{\"bgcolor\":\"#FFFFFF\",\"font\":{\"color\":\"#4D5663\"},\"orientation\":\"h\",\"x\":0.3,\"y\":0.95,\"yanchor\":\"bottom\"},\"paper_bgcolor\":\"#FFFFFF\",\"plot_bgcolor\":\"#FFFFFF\",\"showlegend\":true,\"template\":{\"data\":{\"barpolar\":[{\"marker\":{\"line\":{\"color\":\"#E5ECF6\",\"width\":0.5},\"pattern\":{\"fillmode\":\"overlay\",\"size\":10,\"solidity\":0.2}},\"type\":\"barpolar\"}],\"bar\":[{\"error_x\":{\"color\":\"#2a3f5f\"},\"error_y\":{\"color\":\"#2a3f5f\"},\"marker\":{\"line\":{\"color\":\"#E5ECF6\",\"width\":0.5},\"pattern\":{\"fillmode\":\"overlay\",\"size\":10,\"solidity\":0.2}},\"type\":\"bar\"}],\"carpet\":[{\"aaxis\":{\"endlinecolor\":\"#2a3f5f\",\"gridcolor\":\"white\",\"linecolor\":\"white\",\"minorgridcolor\":\"white\",\"startlinecolor\":\"#2a3f5f\"},\"baxis\":{\"endlinecolor\":\"#2a3f5f\",\"gridcolor\":\"white\",\"linecolor\":\"white\",\"minorgridcolor\":\"white\",\"startlinecolor\":\"#2a3f5f\"},\"type\":\"carpet\"}],\"choropleth\":[{\"colorbar\":{\"outlinewidth\":0,\"ticks\":\"\"},\"type\":\"choropleth\"}],\"contourcarpet\":[{\"colorbar\":{\"outlinewidth\":0,\"ticks\":\"\"},\"type\":\"contourcarpet\"}],\"contour\":[{\"colorbar\":{\"outlinewidth\":0,\"ticks\":\"\"},\"colorscale\":[[0.0,\"#0d0887\"],[0.1111111111111111,\"#46039f\"],[0.2222222222222222,\"#7201a8\"],[0.3333333333333333,\"#9c179e\"],[0.4444444444444444,\"#bd3786\"],[0.5555555555555556,\"#d8576b\"],[0.6666666666666666,\"#ed7953\"],[0.7777777777777778,\"#fb9f3a\"],[0.8888888888888888,\"#fdca26\"],[1.0,\"#f0f921\"]],\"type\":\"contour\"}],\"heatmapgl\":[{\"colorbar\":{\"outlinewidth\":0,\"ticks\":\"\"},\"colorscale\":[[0.0,\"#0d0887\"],[0.1111111111111111,\"#46039f\"],[0.2222222222222222,\"#7201a8\"],[0.3333333333333333,\"#9c179e\"],[0.4444444444444444,\"#bd3786\"],[0.5555555555555556,\"#d8576b\"],[0.6666666666666666,\"#ed7953\"],[0.7777777777777778,\"#fb9f3a\"],[0.8888888888888888,\"#fdca26\"],[1.0,\"#f0f921\"]],\"type\":\"heatmapgl\"}],\"heatmap\":[{\"colorbar\":{\"outlinewidth\":0,\"ticks\":\"\"},\"colorscale\":[[0.0,\"#0d0887\"],[0.1111111111111111,\"#46039f\"],[0.2222222222222222,\"#7201a8\"],[0.3333333333333333,\"#9c179e\"],[0.4444444444444444,\"#bd3786\"],[0.5555555555555556,\"#d8576b\"],[0.6666666666666666,\"#ed7953\"],[0.7777777777777778,\"#fb9f3a\"],[0.8888888888888888,\"#fdca26\"],[1.0,\"#f0f921\"]],\"type\":\"heatmap\"}],\"histogram2dcontour\":[{\"colorbar\":{\"outlinewidth\":0,\"ticks\":\"\"},\"colorscale\":[[0.0,\"#0d0887\"],[0.1111111111111111,\"#46039f\"],[0.2222222222222222,\"#7201a8\"],[0.3333333333333333,\"#9c179e\"],[0.4444444444444444,\"#bd3786\"],[0.5555555555555556,\"#d8576b\"],[0.6666666666666666,\"#ed7953\"],[0.7777777777777778,\"#fb9f3a\"],[0.8888888888888888,\"#fdca26\"],[1.0,\"#f0f921\"]],\"type\":\"histogram2dcontour\"}],\"histogram2d\":[{\"colorbar\":{\"outlinewidth\":0,\"ticks\":\"\"},\"colorscale\":[[0.0,\"#0d0887\"],[0.1111111111111111,\"#46039f\"],[0.2222222222222222,\"#7201a8\"],[0.3333333333333333,\"#9c179e\"],[0.4444444444444444,\"#bd3786\"],[0.5555555555555556,\"#d8576b\"],[0.6666666666666666,\"#ed7953\"],[0.7777777777777778,\"#fb9f3a\"],[0.8888888888888888,\"#fdca26\"],[1.0,\"#f0f921\"]],\"type\":\"histogram2d\"}],\"histogram\":[{\"marker\":{\"pattern\":{\"fillmode\":\"overlay\",\"size\":10,\"solidity\":0.2}},\"type\":\"histogram\"}],\"mesh3d\":[{\"colorbar\":{\"outlinewidth\":0,\"ticks\":\"\"},\"type\":\"mesh3d\"}],\"parcoords\":[{\"line\":{\"colorbar\":{\"outlinewidth\":0,\"ticks\":\"\"}},\"type\":\"parcoords\"}],\"pie\":[{\"automargin\":true,\"type\":\"pie\"}],\"scatter3d\":[{\"line\":{\"colorbar\":{\"outlinewidth\":0,\"ticks\":\"\"}},\"marker\":{\"colorbar\":{\"outlinewidth\":0,\"ticks\":\"\"}},\"type\":\"scatter3d\"}],\"scattercarpet\":[{\"marker\":{\"colorbar\":{\"outlinewidth\":0,\"ticks\":\"\"}},\"type\":\"scattercarpet\"}],\"scattergeo\":[{\"marker\":{\"colorbar\":{\"outlinewidth\":0,\"ticks\":\"\"}},\"type\":\"scattergeo\"}],\"scattergl\":[{\"marker\":{\"colorbar\":{\"outlinewidth\":0,\"ticks\":\"\"}},\"type\":\"scattergl\"}],\"scattermapbox\":[{\"marker\":{\"colorbar\":{\"outlinewidth\":0,\"ticks\":\"\"}},\"type\":\"scattermapbox\"}],\"scatterpolargl\":[{\"marker\":{\"colorbar\":{\"outlinewidth\":0,\"ticks\":\"\"}},\"type\":\"scatterpolargl\"}],\"scatterpolar\":[{\"marker\":{\"colorbar\":{\"outlinewidth\":0,\"ticks\":\"\"}},\"type\":\"scatterpolar\"}],\"scatter\":[{\"marker\":{\"colorbar\":{\"outlinewidth\":0,\"ticks\":\"\"}},\"type\":\"scatter\"}],\"scatterternary\":[{\"marker\":{\"colorbar\":{\"outlinewidth\":0,\"ticks\":\"\"}},\"type\":\"scatterternary\"}],\"surface\":[{\"colorbar\":{\"outlinewidth\":0,\"ticks\":\"\"},\"colorscale\":[[0.0,\"#0d0887\"],[0.1111111111111111,\"#46039f\"],[0.2222222222222222,\"#7201a8\"],[0.3333333333333333,\"#9c179e\"],[0.4444444444444444,\"#bd3786\"],[0.5555555555555556,\"#d8576b\"],[0.6666666666666666,\"#ed7953\"],[0.7777777777777778,\"#fb9f3a\"],[0.8888888888888888,\"#fdca26\"],[1.0,\"#f0f921\"]],\"type\":\"surface\"}],\"table\":[{\"cells\":{\"fill\":{\"color\":\"#EBF0F8\"},\"line\":{\"color\":\"white\"}},\"header\":{\"fill\":{\"color\":\"#C8D4E3\"},\"line\":{\"color\":\"white\"}},\"type\":\"table\"}]},\"layout\":{\"annotationdefaults\":{\"arrowcolor\":\"#2a3f5f\",\"arrowhead\":0,\"arrowwidth\":1},\"autotypenumbers\":\"strict\",\"coloraxis\":{\"colorbar\":{\"outlinewidth\":0,\"ticks\":\"\"}},\"colorscale\":{\"diverging\":[[0,\"#8e0152\"],[0.1,\"#c51b7d\"],[0.2,\"#de77ae\"],[0.3,\"#f1b6da\"],[0.4,\"#fde0ef\"],[0.5,\"#f7f7f7\"],[0.6,\"#e6f5d0\"],[0.7,\"#b8e186\"],[0.8,\"#7fbc41\"],[0.9,\"#4d9221\"],[1,\"#276419\"]],\"sequential\":[[0.0,\"#0d0887\"],[0.1111111111111111,\"#46039f\"],[0.2222222222222222,\"#7201a8\"],[0.3333333333333333,\"#9c179e\"],[0.4444444444444444,\"#bd3786\"],[0.5555555555555556,\"#d8576b\"],[0.6666666666666666,\"#ed7953\"],[0.7777777777777778,\"#fb9f3a\"],[0.8888888888888888,\"#fdca26\"],[1.0,\"#f0f921\"]],\"sequentialminus\":[[0.0,\"#0d0887\"],[0.1111111111111111,\"#46039f\"],[0.2222222222222222,\"#7201a8\"],[0.3333333333333333,\"#9c179e\"],[0.4444444444444444,\"#bd3786\"],[0.5555555555555556,\"#d8576b\"],[0.6666666666666666,\"#ed7953\"],[0.7777777777777778,\"#fb9f3a\"],[0.8888888888888888,\"#fdca26\"],[1.0,\"#f0f921\"]]},\"colorway\":[\"#636efa\",\"#EF553B\",\"#00cc96\",\"#ab63fa\",\"#FFA15A\",\"#19d3f3\",\"#FF6692\",\"#B6E880\",\"#FF97FF\",\"#FECB52\"],\"font\":{\"color\":\"#2a3f5f\"},\"geo\":{\"bgcolor\":\"white\",\"lakecolor\":\"white\",\"landcolor\":\"#E5ECF6\",\"showlakes\":true,\"showland\":true,\"subunitcolor\":\"white\"},\"hoverlabel\":{\"align\":\"left\"},\"hovermode\":\"closest\",\"mapbox\":{\"style\":\"light\"},\"paper_bgcolor\":\"white\",\"plot_bgcolor\":\"#E5ECF6\",\"polar\":{\"angularaxis\":{\"gridcolor\":\"white\",\"linecolor\":\"white\",\"ticks\":\"\"},\"bgcolor\":\"#E5ECF6\",\"radialaxis\":{\"gridcolor\":\"white\",\"linecolor\":\"white\",\"ticks\":\"\"}},\"scene\":{\"xaxis\":{\"backgroundcolor\":\"#E5ECF6\",\"gridcolor\":\"white\",\"gridwidth\":2,\"linecolor\":\"white\",\"showbackground\":true,\"ticks\":\"\",\"zerolinecolor\":\"white\"},\"yaxis\":{\"backgroundcolor\":\"#E5ECF6\",\"gridcolor\":\"white\",\"gridwidth\":2,\"linecolor\":\"white\",\"showbackground\":true,\"ticks\":\"\",\"zerolinecolor\":\"white\"},\"zaxis\":{\"backgroundcolor\":\"#E5ECF6\",\"gridcolor\":\"white\",\"gridwidth\":2,\"linecolor\":\"white\",\"showbackground\":true,\"ticks\":\"\",\"zerolinecolor\":\"white\"}},\"shapedefaults\":{\"line\":{\"color\":\"#2a3f5f\"}},\"ternary\":{\"aaxis\":{\"gridcolor\":\"white\",\"linecolor\":\"white\",\"ticks\":\"\"},\"baxis\":{\"gridcolor\":\"white\",\"linecolor\":\"white\",\"ticks\":\"\"},\"bgcolor\":\"#E5ECF6\",\"caxis\":{\"gridcolor\":\"white\",\"linecolor\":\"white\",\"ticks\":\"\"}},\"title\":{\"x\":0.05},\"xaxis\":{\"automargin\":true,\"gridcolor\":\"white\",\"linecolor\":\"white\",\"ticks\":\"\",\"title\":{\"standoff\":15},\"zerolinecolor\":\"white\",\"zerolinewidth\":2},\"yaxis\":{\"automargin\":true,\"gridcolor\":\"white\",\"linecolor\":\"white\",\"ticks\":\"\",\"title\":{\"standoff\":15},\"zerolinecolor\":\"white\",\"zerolinewidth\":2}}},\"title\":{\"font\":{\"color\":\"#4D5663\"},\"text\":\"Risultato settimanale (R) [by Close]\"},\"xaxis\":{\"gridcolor\":\"#E1E5ED\",\"showgrid\":true,\"tickfont\":{\"color\":\"#4D5663\"},\"title\":{\"font\":{\"color\":\"#4D5663\"},\"text\":\"week number\"},\"zerolinecolor\":\"grey\"},\"yaxis\":{\"gridcolor\":\"#E1E5ED\",\"showgrid\":true,\"tickfont\":{\"color\":\"#4D5663\"},\"title\":{\"font\":{\"color\":\"#4D5663\"},\"text\":\"R\"},\"zerolinecolor\":\"grey\"}},                        {\"responsive\": true}                    ).then(function(){\n",
       "                            \n",
       "var gd = document.getElementById('44e97915-d2cc-4eca-9d7f-d5a9f52a2984');\n",
       "var x = new MutationObserver(function (mutations, observer) {{\n",
       "        var display = window.getComputedStyle(gd).display;\n",
       "        if (!display || display === 'none') {{\n",
       "            console.log([gd, 'removed!']);\n",
       "            Plotly.purge(gd);\n",
       "            observer.disconnect();\n",
       "        }}\n",
       "}});\n",
       "\n",
       "// Listen for the removal of the full notebook cells\n",
       "var notebookContainer = gd.closest('#notebook-container');\n",
       "if (notebookContainer) {{\n",
       "    x.observe(notebookContainer, {childList: true});\n",
       "}}\n",
       "\n",
       "// Listen for the clearing of the current output cell\n",
       "var outputEl = gd.closest('.output');\n",
       "if (outputEl) {{\n",
       "    x.observe(outputEl, {childList: true});\n",
       "}}\n",
       "\n",
       "                        })                };                });            </script>        </div>"
      ]
     },
     "metadata": {},
     "output_type": "display_data"
    }
   ],
   "source": [
    "df = merged.groupby(pd.Grouper(freq='W-MON')).sum().reset_index()\n",
    "df['close'] = df.close.dt.strftime('%W-%y')\n",
    "df.iplot(kind='bar', x='close', opacity=1, title='Risultato settimanale (R) [by Close]',\n",
    "         yTitle='R', zerolinecolor='grey', colors=cf_colors, xTitle='week number', legend='top')"
   ]
  },
  {
   "cell_type": "code",
   "execution_count": 18,
   "id": "e607fb25",
   "metadata": {
    "execution": {
     "iopub.execute_input": "2022-02-26T11:14:25.372519Z",
     "iopub.status.busy": "2022-02-26T11:14:25.371839Z",
     "iopub.status.idle": "2022-02-26T11:14:25.418011Z",
     "shell.execute_reply": "2022-02-26T11:14:25.418479Z",
     "shell.execute_reply.started": "2022-02-26T10:14:50.184342Z"
    },
    "papermill": {
     "duration": 0.104139,
     "end_time": "2022-02-26T11:14:25.418643",
     "exception": false,
     "start_time": "2022-02-26T11:14:25.314504",
     "status": "completed"
    },
    "tags": []
   },
   "outputs": [
    {
     "data": {
      "application/vnd.plotly.v1+json": {
       "config": {
        "linkText": "Export to plot.ly",
        "plotlyServerURL": "https://plot.ly",
        "showLink": false
       },
       "data": [
        {
         "marker": {
          "color": "rgba(63, 147, 202, 1)",
          "line": {
           "color": "rgba(63, 147, 202, 1.0)",
           "width": 1
          }
         },
         "name": "result_60_40",
         "orientation": "v",
         "text": "",
         "type": "bar",
         "x": [
          "05 Nov 2020",
          "06 Nov 2020",
          "09 Nov 2020",
          "11 Nov 2020",
          "30 Nov 2020",
          "01 Dec 2020",
          "04 Dec 2020",
          "07 Dec 2020",
          "09 Dec 2020",
          "10 Dec 2020",
          "11 Dec 2020",
          "16 Dec 2020",
          "17 Dec 2020",
          "18 Dec 2020",
          "21 Dec 2020",
          "22 Dec 2020",
          "30 Dec 2020",
          "31 Dec 2020",
          "04 Jan 2021",
          "05 Jan 2021",
          "07 Jan 2021",
          "08 Jan 2021",
          "11 Jan 2021",
          "12 Jan 2021",
          "15 Jan 2021",
          "19 Jan 2021",
          "20 Jan 2021",
          "21 Jan 2021",
          "22 Jan 2021",
          "25 Jan 2021",
          "26 Jan 2021",
          "28 Jan 2021",
          "29 Jan 2021",
          "01 Feb 2021",
          "02 Feb 2021",
          "03 Feb 2021",
          "05 Feb 2021",
          "08 Feb 2021",
          "09 Feb 2021",
          "16 Feb 2021",
          "17 Feb 2021",
          "18 Feb 2021",
          "22 Feb 2021",
          "23 Feb 2021",
          "24 Feb 2021",
          "25 Feb 2021",
          "01 Mar 2021",
          "02 Mar 2021",
          "03 Mar 2021",
          "05 Mar 2021",
          "09 Mar 2021",
          "10 Mar 2021",
          "12 Mar 2021",
          "15 Mar 2021",
          "16 Mar 2021",
          "17 Mar 2021",
          "18 Mar 2021",
          "19 Mar 2021",
          "22 Mar 2021",
          "23 Mar 2021",
          "24 Mar 2021",
          "25 Mar 2021",
          "26 Mar 2021",
          "29 Mar 2021",
          "30 Mar 2021",
          "31 Mar 2021",
          "01 Apr 2021",
          "05 Apr 2021",
          "06 Apr 2021",
          "07 Apr 2021",
          "08 Apr 2021",
          "09 Apr 2021",
          "12 Apr 2021",
          "13 Apr 2021",
          "14 Apr 2021",
          "16 Apr 2021",
          "19 Apr 2021",
          "20 Apr 2021",
          "21 Apr 2021",
          "22 Apr 2021",
          "23 Apr 2021",
          "26 Apr 2021",
          "27 Apr 2021",
          "28 Apr 2021",
          "29 Apr 2021",
          "30 Apr 2021",
          "03 May 2021",
          "04 May 2021",
          "05 May 2021",
          "06 May 2021",
          "07 May 2021",
          "10 May 2021",
          "11 May 2021",
          "12 May 2021",
          "13 May 2021",
          "14 May 2021",
          "17 May 2021",
          "19 May 2021",
          "20 May 2021",
          "24 May 2021",
          "26 May 2021",
          "27 May 2021",
          "08 Jun 2021",
          "09 Jun 2021",
          "10 Jun 2021",
          "11 Jun 2021",
          "14 Jun 2021",
          "15 Jun 2021",
          "17 Jun 2021",
          "21 Jun 2021",
          "22 Jun 2021",
          "30 Jun 2021",
          "01 Jul 2021",
          "06 Jul 2021",
          "07 Jul 2021",
          "08 Jul 2021",
          "09 Jul 2021",
          "12 Jul 2021",
          "13 Jul 2021",
          "14 Jul 2021",
          "15 Jul 2021",
          "16 Jul 2021",
          "19 Jul 2021",
          "20 Jul 2021",
          "21 Jul 2021",
          "22 Jul 2021",
          "23 Jul 2021",
          "26 Jul 2021",
          "27 Jul 2021",
          "29 Jul 2021",
          "30 Jul 2021",
          "02 Aug 2021",
          "03 Aug 2021",
          "04 Aug 2021",
          "05 Aug 2021",
          "09 Aug 2021",
          "10 Aug 2021",
          "11 Aug 2021",
          "12 Aug 2021",
          "13 Aug 2021",
          "16 Aug 2021",
          "17 Aug 2021",
          "18 Aug 2021",
          "19 Aug 2021",
          "20 Aug 2021",
          "23 Aug 2021",
          "24 Aug 2021",
          "25 Aug 2021",
          "26 Aug 2021",
          "27 Aug 2021",
          "30 Aug 2021",
          "31 Aug 2021",
          "01 Sep 2021",
          "02 Sep 2021",
          "06 Sep 2021",
          "07 Sep 2021",
          "08 Sep 2021",
          "13 Sep 2021",
          "15 Sep 2021",
          "16 Sep 2021",
          "17 Sep 2021",
          "20 Sep 2021",
          "23 Sep 2021",
          "24 Sep 2021",
          "27 Sep 2021",
          "28 Sep 2021",
          "29 Sep 2021",
          "30 Sep 2021",
          "01 Oct 2021",
          "04 Oct 2021",
          "05 Oct 2021",
          "07 Oct 2021",
          "08 Oct 2021",
          "12 Oct 2021",
          "13 Oct 2021",
          "25 Oct 2021",
          "27 Oct 2021",
          "28 Oct 2021",
          "01 Nov 2021",
          "02 Nov 2021",
          "03 Nov 2021",
          "04 Nov 2021",
          "08 Nov 2021",
          "09 Nov 2021",
          "11 Nov 2021",
          "17 Nov 2021",
          "18 Nov 2021",
          "22 Nov 2021",
          "24 Nov 2021",
          "29 Nov 2021",
          "30 Nov 2021",
          "02 Dec 2021",
          "03 Dec 2021",
          "06 Dec 2021",
          "07 Dec 2021",
          "08 Dec 2021",
          "09 Dec 2021",
          "13 Dec 2021",
          "14 Dec 2021",
          "15 Dec 2021",
          "16 Dec 2021",
          "17 Dec 2021",
          "20 Dec 2021",
          "21 Dec 2021",
          "27 Dec 2021",
          "04 Jan 2022",
          "05 Jan 2022",
          "06 Jan 2022",
          "12 Jan 2022",
          "13 Jan 2022",
          "14 Jan 2022",
          "17 Jan 2022",
          "18 Jan 2022",
          "19 Jan 2022",
          "20 Jan 2022",
          "24 Jan 2022",
          "25 Jan 2022",
          "26 Jan 2022",
          "27 Jan 2022",
          "31 Jan 2022",
          "01 Feb 2022"
         ],
         "y": [
          -2.0036496350363597,
          -0.02213114754087961,
          -0.036290322580589236,
          -2.004999999999909,
          1.8809523809524027,
          1.7381902420772897,
          -0.9954128440368871,
          0.5004424778761188,
          0.40000000000001507,
          -0.9950495049506031,
          0.36652173913044245,
          2.4600000000000932,
          0.1691729323308424,
          -1.1484275849197636,
          0.9927184466020047,
          -2.001798561150955,
          0.13106796116506733,
          -1.0029761904761578,
          1.4171974522292414,
          0.4296874999999644,
          0.5162011173184236,
          -0.5039106145251507,
          0.4859504132231873,
          0.9680306905371053,
          1.318954248365995,
          -1.000000000000077,
          0.9137931034482287,
          -0.40596403490099253,
          -1.0051546391752226,
          0.86800000000012,
          0.7820512820512631,
          -1.0029940119759866,
          -2.0000000000000915,
          -2.917787002337519,
          -0.9964539007092409,
          1.4435863519195604,
          -1.003448275862058,
          0.8345744680850246,
          -0.9989106753812715,
          -1.000000000000038,
          1.30660377358479,
          1.4166666666667047,
          1.4033112582780891,
          1.457575757575738,
          0.5029411764706072,
          -2.00877775976672,
          0.20966517857137867,
          1.0643968871594878,
          2.5399014410513088,
          0.5714285714285932,
          1.0958380337747466,
          1.3981106612683967,
          -0.29885714285715415,
          0.14137931034483497,
          -0.8135593220340442,
          0.9007633587788965,
          -0.5794979079496051,
          -0.9757724463831533,
          0.08206280963673641,
          -0.4688311688313148,
          -1.0689484126985966,
          -0.06000000000009702,
          -1.0028735632183607,
          1.569097848299078,
          1.1515009380863002,
          1.2412790697675358,
          0.6438623523369522,
          0.8767857142857168,
          2.564953144710699,
          -1.0384180790958704,
          0.725748450728849,
          1.438650306748448,
          -0.6197183098595167,
          1.3555104123932564,
          -0.2358288082562947,
          0.7996323529411389,
          -0.7812260536400979,
          1.1381457646858222,
          3.563328495403814,
          -1.183485081532896,
          -1.9950000000000325,
          -0.09698795180735909,
          1.3957219251336364,
          -1.0000000000000138,
          -0.9116541353383676,
          -4.239593170127265,
          0.39374999999998356,
          2.1391729323308883,
          -0.2811487481589432,
          0.04589322960701425,
          0.6275862068966082,
          -1.287742625905542,
          -2.7005799755798914,
          -1.0020080321284794,
          -0.37348066298356,
          -0.07434551284300839,
          0.5707317073170532,
          0.5112089201876476,
          1.8521505376343987,
          0.9086956521738805,
          1.5701306506401562,
          -1.2223972694418686,
          -4.007001507268795,
          1.6340206185567845,
          2.022900763358776,
          0.5819672131146907,
          -0.026785714285757593,
          1.3039670555937246,
          -1.0039062499999847,
          0.09817351598187829,
          -1.4671328671328574,
          -1.000000000000038,
          -2.0026881720429985,
          -0.5669979887487083,
          0.5320590914027825,
          0.9814814814814076,
          -0.09756097560953347,
          -1.3813101815310713,
          -0.1031250000000483,
          0.7035714285714383,
          1.2672955974842681,
          0.8201923076923161,
          -0.9999999999999671,
          -0.9063926940638046,
          1.3224852071005326,
          1.3731884057971704,
          0.3189655172412025,
          2.759905421381554,
          -3.6036567269738327,
          2.1902654867256337,
          1.1666666666667485,
          0.24440894568693292,
          0.973568281938317,
          0.5231092436974332,
          1.2286245353160088,
          1.4603822207174635,
          1.1642512077295355,
          -1.1693183794124542,
          -2.9970930232556983,
          0.5427745664740665,
          0.3274853801169062,
          -4.002577319587164,
          1.1198165765424335,
          -4.747967660815578,
          -1.695457210527243,
          1.910827107476997,
          0.4063991068278643,
          0.4840206185566827,
          -0.23231474407939323,
          1.282165605095563,
          0.4538160415335535,
          1.263057324840767,
          -1.0000000000000884,
          1.0415204678361942,
          0.14482758620690206,
          1.8002148227711152,
          2.3432798702470055,
          0.801137113447366,
          0.8301587301586789,
          1.1218487394959245,
          -0.9999999999999509,
          -2.0034965034963905,
          0.45330349764627503,
          0.6260204081632527,
          0.5091743119266118,
          -1.000000000000113,
          -0.4272928102825483,
          0.21541666666666498,
          0.7215189873417756,
          2.4230769230768425,
          1.4034334763948908,
          0.9295774647887478,
          1.6229508196721771,
          1.638047191970857,
          1.445414847161573,
          -1.6177909806790836,
          -3.0014662756597517,
          -1.0031446540879245,
          0.4458098624065397,
          0.2441685953999282,
          1.614525139664765,
          -3.2363636363636417,
          0.6049250749250805,
          -0.6614783628671284,
          0.8906832298136808,
          0.09248554913289672,
          -0.4062093788564032,
          -0.9975000000000023,
          -3.5651530787754018,
          0.8333333333333097,
          -4.994378306878543,
          0.21975806451606172,
          -1.054525045919347,
          1.222222222222295,
          -5.001155165694566,
          2.431707671847695,
          -1.3563963449457215,
          1.3392344497607007,
          1.4082568807339158,
          -0.9999999999999287,
          1.3271028037383328,
          1.9016886645963182,
          1.0948616600790442,
          1.458536585365858,
          1.2365384615384902,
          2.7376690360610105,
          0.45143766461798673,
          1.3625468164794559,
          0.43277777777777576,
          0.7043478260869831,
          -0.3931296773402404,
          -0.3262883235486216,
          0.48676470588237836,
          1.968553459119494,
          -3.004630121275155,
          -0.47334452986621267,
          0.5933628318584107,
          1.2535211267605175,
          0.5893401015228433,
          0.3929752066115793,
          1.443661971830954
         ]
        },
        {
         "marker": {
          "color": "rgba(219, 58, 52, 1)",
          "line": {
           "color": "rgba(219, 58, 52, 1.0)",
           "width": 1
          }
         },
         "name": "result_100",
         "orientation": "v",
         "text": "",
         "type": "bar",
         "x": [
          "05 Nov 2020",
          "06 Nov 2020",
          "09 Nov 2020",
          "11 Nov 2020",
          "30 Nov 2020",
          "01 Dec 2020",
          "04 Dec 2020",
          "07 Dec 2020",
          "09 Dec 2020",
          "10 Dec 2020",
          "11 Dec 2020",
          "16 Dec 2020",
          "17 Dec 2020",
          "18 Dec 2020",
          "21 Dec 2020",
          "22 Dec 2020",
          "30 Dec 2020",
          "31 Dec 2020",
          "04 Jan 2021",
          "05 Jan 2021",
          "07 Jan 2021",
          "08 Jan 2021",
          "11 Jan 2021",
          "12 Jan 2021",
          "15 Jan 2021",
          "19 Jan 2021",
          "20 Jan 2021",
          "21 Jan 2021",
          "22 Jan 2021",
          "25 Jan 2021",
          "26 Jan 2021",
          "28 Jan 2021",
          "29 Jan 2021",
          "01 Feb 2021",
          "02 Feb 2021",
          "03 Feb 2021",
          "05 Feb 2021",
          "08 Feb 2021",
          "09 Feb 2021",
          "16 Feb 2021",
          "17 Feb 2021",
          "18 Feb 2021",
          "22 Feb 2021",
          "23 Feb 2021",
          "24 Feb 2021",
          "25 Feb 2021",
          "01 Mar 2021",
          "02 Mar 2021",
          "03 Mar 2021",
          "05 Mar 2021",
          "09 Mar 2021",
          "10 Mar 2021",
          "12 Mar 2021",
          "15 Mar 2021",
          "16 Mar 2021",
          "17 Mar 2021",
          "18 Mar 2021",
          "19 Mar 2021",
          "22 Mar 2021",
          "23 Mar 2021",
          "24 Mar 2021",
          "25 Mar 2021",
          "26 Mar 2021",
          "29 Mar 2021",
          "30 Mar 2021",
          "31 Mar 2021",
          "01 Apr 2021",
          "05 Apr 2021",
          "06 Apr 2021",
          "07 Apr 2021",
          "08 Apr 2021",
          "09 Apr 2021",
          "12 Apr 2021",
          "13 Apr 2021",
          "14 Apr 2021",
          "16 Apr 2021",
          "19 Apr 2021",
          "20 Apr 2021",
          "21 Apr 2021",
          "22 Apr 2021",
          "23 Apr 2021",
          "26 Apr 2021",
          "27 Apr 2021",
          "28 Apr 2021",
          "29 Apr 2021",
          "30 Apr 2021",
          "03 May 2021",
          "04 May 2021",
          "05 May 2021",
          "06 May 2021",
          "07 May 2021",
          "10 May 2021",
          "11 May 2021",
          "12 May 2021",
          "13 May 2021",
          "14 May 2021",
          "17 May 2021",
          "19 May 2021",
          "20 May 2021",
          "24 May 2021",
          "26 May 2021",
          "27 May 2021",
          "08 Jun 2021",
          "09 Jun 2021",
          "10 Jun 2021",
          "11 Jun 2021",
          "14 Jun 2021",
          "15 Jun 2021",
          "17 Jun 2021",
          "21 Jun 2021",
          "22 Jun 2021",
          "30 Jun 2021",
          "01 Jul 2021",
          "06 Jul 2021",
          "07 Jul 2021",
          "08 Jul 2021",
          "09 Jul 2021",
          "12 Jul 2021",
          "13 Jul 2021",
          "14 Jul 2021",
          "15 Jul 2021",
          "16 Jul 2021",
          "19 Jul 2021",
          "20 Jul 2021",
          "21 Jul 2021",
          "22 Jul 2021",
          "23 Jul 2021",
          "26 Jul 2021",
          "27 Jul 2021",
          "29 Jul 2021",
          "30 Jul 2021",
          "02 Aug 2021",
          "03 Aug 2021",
          "04 Aug 2021",
          "05 Aug 2021",
          "09 Aug 2021",
          "10 Aug 2021",
          "11 Aug 2021",
          "12 Aug 2021",
          "13 Aug 2021",
          "16 Aug 2021",
          "17 Aug 2021",
          "18 Aug 2021",
          "19 Aug 2021",
          "20 Aug 2021",
          "23 Aug 2021",
          "24 Aug 2021",
          "25 Aug 2021",
          "26 Aug 2021",
          "27 Aug 2021",
          "30 Aug 2021",
          "31 Aug 2021",
          "01 Sep 2021",
          "02 Sep 2021",
          "06 Sep 2021",
          "07 Sep 2021",
          "08 Sep 2021",
          "13 Sep 2021",
          "15 Sep 2021",
          "16 Sep 2021",
          "17 Sep 2021",
          "20 Sep 2021",
          "23 Sep 2021",
          "24 Sep 2021",
          "27 Sep 2021",
          "28 Sep 2021",
          "29 Sep 2021",
          "30 Sep 2021",
          "01 Oct 2021",
          "04 Oct 2021",
          "05 Oct 2021",
          "07 Oct 2021",
          "08 Oct 2021",
          "12 Oct 2021",
          "13 Oct 2021",
          "25 Oct 2021",
          "27 Oct 2021",
          "28 Oct 2021",
          "01 Nov 2021",
          "02 Nov 2021",
          "03 Nov 2021",
          "04 Nov 2021",
          "08 Nov 2021",
          "09 Nov 2021",
          "11 Nov 2021",
          "17 Nov 2021",
          "18 Nov 2021",
          "22 Nov 2021",
          "24 Nov 2021",
          "29 Nov 2021",
          "30 Nov 2021",
          "02 Dec 2021",
          "03 Dec 2021",
          "06 Dec 2021",
          "07 Dec 2021",
          "08 Dec 2021",
          "09 Dec 2021",
          "13 Dec 2021",
          "14 Dec 2021",
          "15 Dec 2021",
          "16 Dec 2021",
          "17 Dec 2021",
          "20 Dec 2021",
          "21 Dec 2021",
          "27 Dec 2021",
          "04 Jan 2022",
          "05 Jan 2022",
          "06 Jan 2022",
          "12 Jan 2022",
          "13 Jan 2022",
          "14 Jan 2022",
          "17 Jan 2022",
          "18 Jan 2022",
          "19 Jan 2022",
          "20 Jan 2022",
          "24 Jan 2022",
          "25 Jan 2022",
          "26 Jan 2022",
          "27 Jan 2022",
          "31 Jan 2022",
          "01 Feb 2022"
         ],
         "y": [
          -2.0036496350363597,
          -0.03688524590146602,
          -0.036290322580589236,
          -2.004999999999909,
          1.099999999999974,
          0.5147224817674114,
          -0.9954128440368871,
          0.8340707964601981,
          0.6666666666666918,
          -0.9950495049506031,
          0.6108695652174041,
          2.1000000000000796,
          -0.22180451127816658,
          -1.2497433743934454,
          0.7014563106797188,
          -2.001798561150955,
          -0.08737864077670235,
          -1.0029761904761578,
          0.9076433121018095,
          0.7161458333332741,
          0.8603351955307059,
          -0.17318435754191908,
          -0.11570247933885036,
          0.7122762148337805,
          0.9019607843137597,
          -1.000000000000077,
          0.8103448275861559,
          -0.007315386252322309,
          -1.0051546391752226,
          0.7800000000002001,
          0.7307692307692585,
          -1.0029940119759866,
          -2.0000000000000915,
          -3.457226027433806,
          -0.9964539007092409,
          1.5336962420294604,
          -1.003448275862058,
          0.7579787234041706,
          -0.9989106753812715,
          -1.000000000000038,
          0.8915094339620968,
          0.9166666666667804,
          0.9900662251654907,
          2.429292929292897,
          0.8382352941176787,
          -2.00877775976672,
          -0.5292410714286325,
          1.7739948119324795,
          1.6482117524080264,
          0.2857142857142966,
          0.3039830154215921,
          0.8588993852150334,
          0.16857142857143437,
          0.23563218390805832,
          -0.9830508474577544,
          0.8244274809162756,
          -0.7468619246860448,
          -0.9627953471465153,
          0.12475055667230835,
          -0.48268398268410406,
          -1.0689484126985966,
          -0.06000000000009702,
          -1.0028735632183607,
          0.9288526265175856,
          0.7284240150093974,
          0.799418604651262,
          0.25968156137649223,
          0.6053571428571436,
          2.2561047035501156,
          -1.2372881355930319,
          0.9483721742166673,
          1.144171779141075,
          -0.9577464788736141,
          2.186776330585511,
          -0.533649216419565,
          0.5275735294117238,
          -1.1515964240104823,
          -0.024701964561858913,
          2.425253991291584,
          -0.9257594474806861,
          -1.9950000000000325,
          0.5030120481925889,
          1.0320855614972386,
          -1.0000000000000138,
          -0.9116541353383676,
          -4.402828464244898,
          0.6562499999999726,
          2.1266917293234227,
          0.19980363279343338,
          0.7417836405658929,
          1.045977011494347,
          -0.8127426259055477,
          -2.4991147741146715,
          -1.0020080321284794,
          0.04419889502752716,
          -0.2593988936259062,
          0.9512195121950887,
          -0.16484741784054724,
          1.4220430107526782,
          0.86024844720495,
          1.3184348053305568,
          -1.0698166242806364,
          -4.007001507268795,
          1.0567010309278904,
          2.511450381679401,
          0.9699453551911512,
          -0.026785714285757593,
          2.1732784259895412,
          -1.0039062499999847,
          -0.17579908675785816,
          -1.1118881118880752,
          -1.000000000000038,
          -2.0026881720429985,
          -0.2763575946600787,
          0.6351949799045054,
          0.9773662551439628,
          -0.3902439024388129,
          -1.845398579321144,
          -0.17187500000008052,
          1.1726190476190639,
          0.8899371069182876,
          0.9230769230769581,
          -0.9999999999999671,
          -1.0890410958902783,
          0.8964497041420038,
          1.0253623188406356,
          1.1982758620687732,
          1.86681303833815,
          -3.3408981062841576,
          1.4823008849556616,
          0.849206349206419,
          0.05271565495210138,
          0.6740088105726502,
          0.871848739495722,
          0.8568773234200979,
          1.6416022421609608,
          0.9323671497585123,
          -1.1693183794124542,
          -2.9970930232556983,
          0.9046242774567775,
          -0.18713450292402678,
          -4.002577319587164,
          2.444287663830698,
          -4.930894490083878,
          -0.8254477497892823,
          1.7933260780046822,
          -0.8411241038901585,
          0.8067010309278045,
          0.278074866310255,
          1.162420382165634,
          0.4538160415335535,
          0.9713375796178562,
          -1.0000000000000884,
          1.049707602339124,
          0.24137931034483676,
          1.0580021482276047,
          2.7806992250857134,
          1.3352285224122769,
          1.3835978835977982,
          0.8445378151261421,
          -0.9999999999999509,
          -2.0034965034963905,
          0.5607884078207179,
          1.0433673469387545,
          0.8486238532110196,
          -1.000000000000113,
          -0.0472062301959989,
          -0.08541666666666003,
          0.21518987341775375,
          1.277541998231539,
          1.0600858369099317,
          0.6901408450704154,
          1.1857923497268468,
          0.9023151113957087,
          1.096069868995654,
          -1.364150468963918,
          -3.0014662756597517,
          -1.0031446540879245,
          0.7611159848555458,
          -0.20426189787361437,
          1.122905027932924,
          -2.727272727272691,
          1.0058774558774541,
          -0.9954233169955988,
          1.4844720496894679,
          0.09248554913289672,
          -0.008833813245559652,
          -0.9975000000000023,
          -3.5651530787754018,
          0.6666666666666525,
          -4.994378306878543,
          -0.18346774193555104,
          -1.054525045919347,
          0.7592592592593319,
          -5.001155165694566,
          1.6490628376693115,
          -0.9289453645535855,
          0.9449760765549804,
          0.9495412844036405,
          -0.9999999999999287,
          1.0093457943925617,
          1.4234277950311032,
          0.7786561264822243,
          0.9512195121950887,
          1.0673076923077327,
          1.9106926144244185,
          -0.006273778168119026,
          1.2846441947566207,
          0.09166666666670961,
          1.1739130434783052,
          0.009741136056881428,
          0.121330724070428,
          0.811274509803964,
          1.3899371069182618,
          -3.004630121275155,
          -0.09498955151122412,
          0.9889380530973512,
          0.8779342723003916,
          0.9822335025380722,
          0.6549586776859655,
          0.8802816901408451
         ]
        }
       ],
       "layout": {
        "legend": {
         "bgcolor": "#FFFFFF",
         "font": {
          "color": "#4D5663"
         },
         "orientation": "h",
         "x": 0.3,
         "y": 0.95,
         "yanchor": "bottom"
        },
        "paper_bgcolor": "#FFFFFF",
        "plot_bgcolor": "#FFFFFF",
        "showlegend": true,
        "template": {
         "data": {
          "bar": [
           {
            "error_x": {
             "color": "#2a3f5f"
            },
            "error_y": {
             "color": "#2a3f5f"
            },
            "marker": {
             "line": {
              "color": "#E5ECF6",
              "width": 0.5
             },
             "pattern": {
              "fillmode": "overlay",
              "size": 10,
              "solidity": 0.2
             }
            },
            "type": "bar"
           }
          ],
          "barpolar": [
           {
            "marker": {
             "line": {
              "color": "#E5ECF6",
              "width": 0.5
             },
             "pattern": {
              "fillmode": "overlay",
              "size": 10,
              "solidity": 0.2
             }
            },
            "type": "barpolar"
           }
          ],
          "carpet": [
           {
            "aaxis": {
             "endlinecolor": "#2a3f5f",
             "gridcolor": "white",
             "linecolor": "white",
             "minorgridcolor": "white",
             "startlinecolor": "#2a3f5f"
            },
            "baxis": {
             "endlinecolor": "#2a3f5f",
             "gridcolor": "white",
             "linecolor": "white",
             "minorgridcolor": "white",
             "startlinecolor": "#2a3f5f"
            },
            "type": "carpet"
           }
          ],
          "choropleth": [
           {
            "colorbar": {
             "outlinewidth": 0,
             "ticks": ""
            },
            "type": "choropleth"
           }
          ],
          "contour": [
           {
            "colorbar": {
             "outlinewidth": 0,
             "ticks": ""
            },
            "colorscale": [
             [
              0.0,
              "#0d0887"
             ],
             [
              0.1111111111111111,
              "#46039f"
             ],
             [
              0.2222222222222222,
              "#7201a8"
             ],
             [
              0.3333333333333333,
              "#9c179e"
             ],
             [
              0.4444444444444444,
              "#bd3786"
             ],
             [
              0.5555555555555556,
              "#d8576b"
             ],
             [
              0.6666666666666666,
              "#ed7953"
             ],
             [
              0.7777777777777778,
              "#fb9f3a"
             ],
             [
              0.8888888888888888,
              "#fdca26"
             ],
             [
              1.0,
              "#f0f921"
             ]
            ],
            "type": "contour"
           }
          ],
          "contourcarpet": [
           {
            "colorbar": {
             "outlinewidth": 0,
             "ticks": ""
            },
            "type": "contourcarpet"
           }
          ],
          "heatmap": [
           {
            "colorbar": {
             "outlinewidth": 0,
             "ticks": ""
            },
            "colorscale": [
             [
              0.0,
              "#0d0887"
             ],
             [
              0.1111111111111111,
              "#46039f"
             ],
             [
              0.2222222222222222,
              "#7201a8"
             ],
             [
              0.3333333333333333,
              "#9c179e"
             ],
             [
              0.4444444444444444,
              "#bd3786"
             ],
             [
              0.5555555555555556,
              "#d8576b"
             ],
             [
              0.6666666666666666,
              "#ed7953"
             ],
             [
              0.7777777777777778,
              "#fb9f3a"
             ],
             [
              0.8888888888888888,
              "#fdca26"
             ],
             [
              1.0,
              "#f0f921"
             ]
            ],
            "type": "heatmap"
           }
          ],
          "heatmapgl": [
           {
            "colorbar": {
             "outlinewidth": 0,
             "ticks": ""
            },
            "colorscale": [
             [
              0.0,
              "#0d0887"
             ],
             [
              0.1111111111111111,
              "#46039f"
             ],
             [
              0.2222222222222222,
              "#7201a8"
             ],
             [
              0.3333333333333333,
              "#9c179e"
             ],
             [
              0.4444444444444444,
              "#bd3786"
             ],
             [
              0.5555555555555556,
              "#d8576b"
             ],
             [
              0.6666666666666666,
              "#ed7953"
             ],
             [
              0.7777777777777778,
              "#fb9f3a"
             ],
             [
              0.8888888888888888,
              "#fdca26"
             ],
             [
              1.0,
              "#f0f921"
             ]
            ],
            "type": "heatmapgl"
           }
          ],
          "histogram": [
           {
            "marker": {
             "pattern": {
              "fillmode": "overlay",
              "size": 10,
              "solidity": 0.2
             }
            },
            "type": "histogram"
           }
          ],
          "histogram2d": [
           {
            "colorbar": {
             "outlinewidth": 0,
             "ticks": ""
            },
            "colorscale": [
             [
              0.0,
              "#0d0887"
             ],
             [
              0.1111111111111111,
              "#46039f"
             ],
             [
              0.2222222222222222,
              "#7201a8"
             ],
             [
              0.3333333333333333,
              "#9c179e"
             ],
             [
              0.4444444444444444,
              "#bd3786"
             ],
             [
              0.5555555555555556,
              "#d8576b"
             ],
             [
              0.6666666666666666,
              "#ed7953"
             ],
             [
              0.7777777777777778,
              "#fb9f3a"
             ],
             [
              0.8888888888888888,
              "#fdca26"
             ],
             [
              1.0,
              "#f0f921"
             ]
            ],
            "type": "histogram2d"
           }
          ],
          "histogram2dcontour": [
           {
            "colorbar": {
             "outlinewidth": 0,
             "ticks": ""
            },
            "colorscale": [
             [
              0.0,
              "#0d0887"
             ],
             [
              0.1111111111111111,
              "#46039f"
             ],
             [
              0.2222222222222222,
              "#7201a8"
             ],
             [
              0.3333333333333333,
              "#9c179e"
             ],
             [
              0.4444444444444444,
              "#bd3786"
             ],
             [
              0.5555555555555556,
              "#d8576b"
             ],
             [
              0.6666666666666666,
              "#ed7953"
             ],
             [
              0.7777777777777778,
              "#fb9f3a"
             ],
             [
              0.8888888888888888,
              "#fdca26"
             ],
             [
              1.0,
              "#f0f921"
             ]
            ],
            "type": "histogram2dcontour"
           }
          ],
          "mesh3d": [
           {
            "colorbar": {
             "outlinewidth": 0,
             "ticks": ""
            },
            "type": "mesh3d"
           }
          ],
          "parcoords": [
           {
            "line": {
             "colorbar": {
              "outlinewidth": 0,
              "ticks": ""
             }
            },
            "type": "parcoords"
           }
          ],
          "pie": [
           {
            "automargin": true,
            "type": "pie"
           }
          ],
          "scatter": [
           {
            "marker": {
             "colorbar": {
              "outlinewidth": 0,
              "ticks": ""
             }
            },
            "type": "scatter"
           }
          ],
          "scatter3d": [
           {
            "line": {
             "colorbar": {
              "outlinewidth": 0,
              "ticks": ""
             }
            },
            "marker": {
             "colorbar": {
              "outlinewidth": 0,
              "ticks": ""
             }
            },
            "type": "scatter3d"
           }
          ],
          "scattercarpet": [
           {
            "marker": {
             "colorbar": {
              "outlinewidth": 0,
              "ticks": ""
             }
            },
            "type": "scattercarpet"
           }
          ],
          "scattergeo": [
           {
            "marker": {
             "colorbar": {
              "outlinewidth": 0,
              "ticks": ""
             }
            },
            "type": "scattergeo"
           }
          ],
          "scattergl": [
           {
            "marker": {
             "colorbar": {
              "outlinewidth": 0,
              "ticks": ""
             }
            },
            "type": "scattergl"
           }
          ],
          "scattermapbox": [
           {
            "marker": {
             "colorbar": {
              "outlinewidth": 0,
              "ticks": ""
             }
            },
            "type": "scattermapbox"
           }
          ],
          "scatterpolar": [
           {
            "marker": {
             "colorbar": {
              "outlinewidth": 0,
              "ticks": ""
             }
            },
            "type": "scatterpolar"
           }
          ],
          "scatterpolargl": [
           {
            "marker": {
             "colorbar": {
              "outlinewidth": 0,
              "ticks": ""
             }
            },
            "type": "scatterpolargl"
           }
          ],
          "scatterternary": [
           {
            "marker": {
             "colorbar": {
              "outlinewidth": 0,
              "ticks": ""
             }
            },
            "type": "scatterternary"
           }
          ],
          "surface": [
           {
            "colorbar": {
             "outlinewidth": 0,
             "ticks": ""
            },
            "colorscale": [
             [
              0.0,
              "#0d0887"
             ],
             [
              0.1111111111111111,
              "#46039f"
             ],
             [
              0.2222222222222222,
              "#7201a8"
             ],
             [
              0.3333333333333333,
              "#9c179e"
             ],
             [
              0.4444444444444444,
              "#bd3786"
             ],
             [
              0.5555555555555556,
              "#d8576b"
             ],
             [
              0.6666666666666666,
              "#ed7953"
             ],
             [
              0.7777777777777778,
              "#fb9f3a"
             ],
             [
              0.8888888888888888,
              "#fdca26"
             ],
             [
              1.0,
              "#f0f921"
             ]
            ],
            "type": "surface"
           }
          ],
          "table": [
           {
            "cells": {
             "fill": {
              "color": "#EBF0F8"
             },
             "line": {
              "color": "white"
             }
            },
            "header": {
             "fill": {
              "color": "#C8D4E3"
             },
             "line": {
              "color": "white"
             }
            },
            "type": "table"
           }
          ]
         },
         "layout": {
          "annotationdefaults": {
           "arrowcolor": "#2a3f5f",
           "arrowhead": 0,
           "arrowwidth": 1
          },
          "autotypenumbers": "strict",
          "coloraxis": {
           "colorbar": {
            "outlinewidth": 0,
            "ticks": ""
           }
          },
          "colorscale": {
           "diverging": [
            [
             0,
             "#8e0152"
            ],
            [
             0.1,
             "#c51b7d"
            ],
            [
             0.2,
             "#de77ae"
            ],
            [
             0.3,
             "#f1b6da"
            ],
            [
             0.4,
             "#fde0ef"
            ],
            [
             0.5,
             "#f7f7f7"
            ],
            [
             0.6,
             "#e6f5d0"
            ],
            [
             0.7,
             "#b8e186"
            ],
            [
             0.8,
             "#7fbc41"
            ],
            [
             0.9,
             "#4d9221"
            ],
            [
             1,
             "#276419"
            ]
           ],
           "sequential": [
            [
             0.0,
             "#0d0887"
            ],
            [
             0.1111111111111111,
             "#46039f"
            ],
            [
             0.2222222222222222,
             "#7201a8"
            ],
            [
             0.3333333333333333,
             "#9c179e"
            ],
            [
             0.4444444444444444,
             "#bd3786"
            ],
            [
             0.5555555555555556,
             "#d8576b"
            ],
            [
             0.6666666666666666,
             "#ed7953"
            ],
            [
             0.7777777777777778,
             "#fb9f3a"
            ],
            [
             0.8888888888888888,
             "#fdca26"
            ],
            [
             1.0,
             "#f0f921"
            ]
           ],
           "sequentialminus": [
            [
             0.0,
             "#0d0887"
            ],
            [
             0.1111111111111111,
             "#46039f"
            ],
            [
             0.2222222222222222,
             "#7201a8"
            ],
            [
             0.3333333333333333,
             "#9c179e"
            ],
            [
             0.4444444444444444,
             "#bd3786"
            ],
            [
             0.5555555555555556,
             "#d8576b"
            ],
            [
             0.6666666666666666,
             "#ed7953"
            ],
            [
             0.7777777777777778,
             "#fb9f3a"
            ],
            [
             0.8888888888888888,
             "#fdca26"
            ],
            [
             1.0,
             "#f0f921"
            ]
           ]
          },
          "colorway": [
           "#636efa",
           "#EF553B",
           "#00cc96",
           "#ab63fa",
           "#FFA15A",
           "#19d3f3",
           "#FF6692",
           "#B6E880",
           "#FF97FF",
           "#FECB52"
          ],
          "font": {
           "color": "#2a3f5f"
          },
          "geo": {
           "bgcolor": "white",
           "lakecolor": "white",
           "landcolor": "#E5ECF6",
           "showlakes": true,
           "showland": true,
           "subunitcolor": "white"
          },
          "hoverlabel": {
           "align": "left"
          },
          "hovermode": "closest",
          "mapbox": {
           "style": "light"
          },
          "paper_bgcolor": "white",
          "plot_bgcolor": "#E5ECF6",
          "polar": {
           "angularaxis": {
            "gridcolor": "white",
            "linecolor": "white",
            "ticks": ""
           },
           "bgcolor": "#E5ECF6",
           "radialaxis": {
            "gridcolor": "white",
            "linecolor": "white",
            "ticks": ""
           }
          },
          "scene": {
           "xaxis": {
            "backgroundcolor": "#E5ECF6",
            "gridcolor": "white",
            "gridwidth": 2,
            "linecolor": "white",
            "showbackground": true,
            "ticks": "",
            "zerolinecolor": "white"
           },
           "yaxis": {
            "backgroundcolor": "#E5ECF6",
            "gridcolor": "white",
            "gridwidth": 2,
            "linecolor": "white",
            "showbackground": true,
            "ticks": "",
            "zerolinecolor": "white"
           },
           "zaxis": {
            "backgroundcolor": "#E5ECF6",
            "gridcolor": "white",
            "gridwidth": 2,
            "linecolor": "white",
            "showbackground": true,
            "ticks": "",
            "zerolinecolor": "white"
           }
          },
          "shapedefaults": {
           "line": {
            "color": "#2a3f5f"
           }
          },
          "ternary": {
           "aaxis": {
            "gridcolor": "white",
            "linecolor": "white",
            "ticks": ""
           },
           "baxis": {
            "gridcolor": "white",
            "linecolor": "white",
            "ticks": ""
           },
           "bgcolor": "#E5ECF6",
           "caxis": {
            "gridcolor": "white",
            "linecolor": "white",
            "ticks": ""
           }
          },
          "title": {
           "x": 0.05
          },
          "xaxis": {
           "automargin": true,
           "gridcolor": "white",
           "linecolor": "white",
           "ticks": "",
           "title": {
            "standoff": 15
           },
           "zerolinecolor": "white",
           "zerolinewidth": 2
          },
          "yaxis": {
           "automargin": true,
           "gridcolor": "white",
           "linecolor": "white",
           "ticks": "",
           "title": {
            "standoff": 15
           },
           "zerolinecolor": "white",
           "zerolinewidth": 2
          }
         }
        },
        "title": {
         "font": {
          "color": "#4D5663"
         },
         "text": "Risultato giornaliero (R) [by Close] [non_zero=221/453] [worked=70%]"
        },
        "xaxis": {
         "gridcolor": "#E1E5ED",
         "showgrid": true,
         "tickfont": {
          "color": "#4D5663"
         },
         "title": {
          "font": {
           "color": "#4D5663"
          },
          "text": "date"
         },
         "zerolinecolor": "grey"
        },
        "yaxis": {
         "gridcolor": "#E1E5ED",
         "showgrid": true,
         "tickfont": {
          "color": "#4D5663"
         },
         "title": {
          "font": {
           "color": "#4D5663"
          },
          "text": "R"
         },
         "zerolinecolor": "grey"
        }
       }
      },
      "text/html": [
       "<div>                            <div id=\"b5c2d09b-ffb8-4061-bf35-11bc3f7b024c\" class=\"plotly-graph-div\" style=\"height:525px; width:100%;\"></div>            <script type=\"text/javascript\">                require([\"plotly\"], function(Plotly) {                    window.PLOTLYENV=window.PLOTLYENV || {};                                    if (document.getElementById(\"b5c2d09b-ffb8-4061-bf35-11bc3f7b024c\")) {                    Plotly.newPlot(                        \"b5c2d09b-ffb8-4061-bf35-11bc3f7b024c\",                        [{\"marker\":{\"color\":\"rgba(63, 147, 202, 1)\",\"line\":{\"color\":\"rgba(63, 147, 202, 1.0)\",\"width\":1}},\"name\":\"result_60_40\",\"orientation\":\"v\",\"text\":\"\",\"x\":[\"05 Nov 2020\",\"06 Nov 2020\",\"09 Nov 2020\",\"11 Nov 2020\",\"30 Nov 2020\",\"01 Dec 2020\",\"04 Dec 2020\",\"07 Dec 2020\",\"09 Dec 2020\",\"10 Dec 2020\",\"11 Dec 2020\",\"16 Dec 2020\",\"17 Dec 2020\",\"18 Dec 2020\",\"21 Dec 2020\",\"22 Dec 2020\",\"30 Dec 2020\",\"31 Dec 2020\",\"04 Jan 2021\",\"05 Jan 2021\",\"07 Jan 2021\",\"08 Jan 2021\",\"11 Jan 2021\",\"12 Jan 2021\",\"15 Jan 2021\",\"19 Jan 2021\",\"20 Jan 2021\",\"21 Jan 2021\",\"22 Jan 2021\",\"25 Jan 2021\",\"26 Jan 2021\",\"28 Jan 2021\",\"29 Jan 2021\",\"01 Feb 2021\",\"02 Feb 2021\",\"03 Feb 2021\",\"05 Feb 2021\",\"08 Feb 2021\",\"09 Feb 2021\",\"16 Feb 2021\",\"17 Feb 2021\",\"18 Feb 2021\",\"22 Feb 2021\",\"23 Feb 2021\",\"24 Feb 2021\",\"25 Feb 2021\",\"01 Mar 2021\",\"02 Mar 2021\",\"03 Mar 2021\",\"05 Mar 2021\",\"09 Mar 2021\",\"10 Mar 2021\",\"12 Mar 2021\",\"15 Mar 2021\",\"16 Mar 2021\",\"17 Mar 2021\",\"18 Mar 2021\",\"19 Mar 2021\",\"22 Mar 2021\",\"23 Mar 2021\",\"24 Mar 2021\",\"25 Mar 2021\",\"26 Mar 2021\",\"29 Mar 2021\",\"30 Mar 2021\",\"31 Mar 2021\",\"01 Apr 2021\",\"05 Apr 2021\",\"06 Apr 2021\",\"07 Apr 2021\",\"08 Apr 2021\",\"09 Apr 2021\",\"12 Apr 2021\",\"13 Apr 2021\",\"14 Apr 2021\",\"16 Apr 2021\",\"19 Apr 2021\",\"20 Apr 2021\",\"21 Apr 2021\",\"22 Apr 2021\",\"23 Apr 2021\",\"26 Apr 2021\",\"27 Apr 2021\",\"28 Apr 2021\",\"29 Apr 2021\",\"30 Apr 2021\",\"03 May 2021\",\"04 May 2021\",\"05 May 2021\",\"06 May 2021\",\"07 May 2021\",\"10 May 2021\",\"11 May 2021\",\"12 May 2021\",\"13 May 2021\",\"14 May 2021\",\"17 May 2021\",\"19 May 2021\",\"20 May 2021\",\"24 May 2021\",\"26 May 2021\",\"27 May 2021\",\"08 Jun 2021\",\"09 Jun 2021\",\"10 Jun 2021\",\"11 Jun 2021\",\"14 Jun 2021\",\"15 Jun 2021\",\"17 Jun 2021\",\"21 Jun 2021\",\"22 Jun 2021\",\"30 Jun 2021\",\"01 Jul 2021\",\"06 Jul 2021\",\"07 Jul 2021\",\"08 Jul 2021\",\"09 Jul 2021\",\"12 Jul 2021\",\"13 Jul 2021\",\"14 Jul 2021\",\"15 Jul 2021\",\"16 Jul 2021\",\"19 Jul 2021\",\"20 Jul 2021\",\"21 Jul 2021\",\"22 Jul 2021\",\"23 Jul 2021\",\"26 Jul 2021\",\"27 Jul 2021\",\"29 Jul 2021\",\"30 Jul 2021\",\"02 Aug 2021\",\"03 Aug 2021\",\"04 Aug 2021\",\"05 Aug 2021\",\"09 Aug 2021\",\"10 Aug 2021\",\"11 Aug 2021\",\"12 Aug 2021\",\"13 Aug 2021\",\"16 Aug 2021\",\"17 Aug 2021\",\"18 Aug 2021\",\"19 Aug 2021\",\"20 Aug 2021\",\"23 Aug 2021\",\"24 Aug 2021\",\"25 Aug 2021\",\"26 Aug 2021\",\"27 Aug 2021\",\"30 Aug 2021\",\"31 Aug 2021\",\"01 Sep 2021\",\"02 Sep 2021\",\"06 Sep 2021\",\"07 Sep 2021\",\"08 Sep 2021\",\"13 Sep 2021\",\"15 Sep 2021\",\"16 Sep 2021\",\"17 Sep 2021\",\"20 Sep 2021\",\"23 Sep 2021\",\"24 Sep 2021\",\"27 Sep 2021\",\"28 Sep 2021\",\"29 Sep 2021\",\"30 Sep 2021\",\"01 Oct 2021\",\"04 Oct 2021\",\"05 Oct 2021\",\"07 Oct 2021\",\"08 Oct 2021\",\"12 Oct 2021\",\"13 Oct 2021\",\"25 Oct 2021\",\"27 Oct 2021\",\"28 Oct 2021\",\"01 Nov 2021\",\"02 Nov 2021\",\"03 Nov 2021\",\"04 Nov 2021\",\"08 Nov 2021\",\"09 Nov 2021\",\"11 Nov 2021\",\"17 Nov 2021\",\"18 Nov 2021\",\"22 Nov 2021\",\"24 Nov 2021\",\"29 Nov 2021\",\"30 Nov 2021\",\"02 Dec 2021\",\"03 Dec 2021\",\"06 Dec 2021\",\"07 Dec 2021\",\"08 Dec 2021\",\"09 Dec 2021\",\"13 Dec 2021\",\"14 Dec 2021\",\"15 Dec 2021\",\"16 Dec 2021\",\"17 Dec 2021\",\"20 Dec 2021\",\"21 Dec 2021\",\"27 Dec 2021\",\"04 Jan 2022\",\"05 Jan 2022\",\"06 Jan 2022\",\"12 Jan 2022\",\"13 Jan 2022\",\"14 Jan 2022\",\"17 Jan 2022\",\"18 Jan 2022\",\"19 Jan 2022\",\"20 Jan 2022\",\"24 Jan 2022\",\"25 Jan 2022\",\"26 Jan 2022\",\"27 Jan 2022\",\"31 Jan 2022\",\"01 Feb 2022\"],\"y\":[-2.0036496350363597,-0.02213114754087961,-0.036290322580589236,-2.004999999999909,1.8809523809524027,1.7381902420772897,-0.9954128440368871,0.5004424778761188,0.40000000000001507,-0.9950495049506031,0.36652173913044245,2.4600000000000932,0.1691729323308424,-1.1484275849197636,0.9927184466020047,-2.001798561150955,0.13106796116506733,-1.0029761904761578,1.4171974522292414,0.4296874999999644,0.5162011173184236,-0.5039106145251507,0.4859504132231873,0.9680306905371053,1.318954248365995,-1.000000000000077,0.9137931034482287,-0.40596403490099253,-1.0051546391752226,0.86800000000012,0.7820512820512631,-1.0029940119759866,-2.0000000000000915,-2.917787002337519,-0.9964539007092409,1.4435863519195604,-1.003448275862058,0.8345744680850246,-0.9989106753812715,-1.000000000000038,1.30660377358479,1.4166666666667047,1.4033112582780891,1.457575757575738,0.5029411764706072,-2.00877775976672,0.20966517857137867,1.0643968871594878,2.5399014410513088,0.5714285714285932,1.0958380337747466,1.3981106612683967,-0.29885714285715415,0.14137931034483497,-0.8135593220340442,0.9007633587788965,-0.5794979079496051,-0.9757724463831533,0.08206280963673641,-0.4688311688313148,-1.0689484126985966,-0.06000000000009702,-1.0028735632183607,1.569097848299078,1.1515009380863002,1.2412790697675358,0.6438623523369522,0.8767857142857168,2.564953144710699,-1.0384180790958704,0.725748450728849,1.438650306748448,-0.6197183098595167,1.3555104123932564,-0.2358288082562947,0.7996323529411389,-0.7812260536400979,1.1381457646858222,3.563328495403814,-1.183485081532896,-1.9950000000000325,-0.09698795180735909,1.3957219251336364,-1.0000000000000138,-0.9116541353383676,-4.239593170127265,0.39374999999998356,2.1391729323308883,-0.2811487481589432,0.04589322960701425,0.6275862068966082,-1.287742625905542,-2.7005799755798914,-1.0020080321284794,-0.37348066298356,-0.07434551284300839,0.5707317073170532,0.5112089201876476,1.8521505376343987,0.9086956521738805,1.5701306506401562,-1.2223972694418686,-4.007001507268795,1.6340206185567845,2.022900763358776,0.5819672131146907,-0.026785714285757593,1.3039670555937246,-1.0039062499999847,0.09817351598187829,-1.4671328671328574,-1.000000000000038,-2.0026881720429985,-0.5669979887487083,0.5320590914027825,0.9814814814814076,-0.09756097560953347,-1.3813101815310713,-0.1031250000000483,0.7035714285714383,1.2672955974842681,0.8201923076923161,-0.9999999999999671,-0.9063926940638046,1.3224852071005326,1.3731884057971704,0.3189655172412025,2.759905421381554,-3.6036567269738327,2.1902654867256337,1.1666666666667485,0.24440894568693292,0.973568281938317,0.5231092436974332,1.2286245353160088,1.4603822207174635,1.1642512077295355,-1.1693183794124542,-2.9970930232556983,0.5427745664740665,0.3274853801169062,-4.002577319587164,1.1198165765424335,-4.747967660815578,-1.695457210527243,1.910827107476997,0.4063991068278643,0.4840206185566827,-0.23231474407939323,1.282165605095563,0.4538160415335535,1.263057324840767,-1.0000000000000884,1.0415204678361942,0.14482758620690206,1.8002148227711152,2.3432798702470055,0.801137113447366,0.8301587301586789,1.1218487394959245,-0.9999999999999509,-2.0034965034963905,0.45330349764627503,0.6260204081632527,0.5091743119266118,-1.000000000000113,-0.4272928102825483,0.21541666666666498,0.7215189873417756,2.4230769230768425,1.4034334763948908,0.9295774647887478,1.6229508196721771,1.638047191970857,1.445414847161573,-1.6177909806790836,-3.0014662756597517,-1.0031446540879245,0.4458098624065397,0.2441685953999282,1.614525139664765,-3.2363636363636417,0.6049250749250805,-0.6614783628671284,0.8906832298136808,0.09248554913289672,-0.4062093788564032,-0.9975000000000023,-3.5651530787754018,0.8333333333333097,-4.994378306878543,0.21975806451606172,-1.054525045919347,1.222222222222295,-5.001155165694566,2.431707671847695,-1.3563963449457215,1.3392344497607007,1.4082568807339158,-0.9999999999999287,1.3271028037383328,1.9016886645963182,1.0948616600790442,1.458536585365858,1.2365384615384902,2.7376690360610105,0.45143766461798673,1.3625468164794559,0.43277777777777576,0.7043478260869831,-0.3931296773402404,-0.3262883235486216,0.48676470588237836,1.968553459119494,-3.004630121275155,-0.47334452986621267,0.5933628318584107,1.2535211267605175,0.5893401015228433,0.3929752066115793,1.443661971830954],\"type\":\"bar\"},{\"marker\":{\"color\":\"rgba(219, 58, 52, 1)\",\"line\":{\"color\":\"rgba(219, 58, 52, 1.0)\",\"width\":1}},\"name\":\"result_100\",\"orientation\":\"v\",\"text\":\"\",\"x\":[\"05 Nov 2020\",\"06 Nov 2020\",\"09 Nov 2020\",\"11 Nov 2020\",\"30 Nov 2020\",\"01 Dec 2020\",\"04 Dec 2020\",\"07 Dec 2020\",\"09 Dec 2020\",\"10 Dec 2020\",\"11 Dec 2020\",\"16 Dec 2020\",\"17 Dec 2020\",\"18 Dec 2020\",\"21 Dec 2020\",\"22 Dec 2020\",\"30 Dec 2020\",\"31 Dec 2020\",\"04 Jan 2021\",\"05 Jan 2021\",\"07 Jan 2021\",\"08 Jan 2021\",\"11 Jan 2021\",\"12 Jan 2021\",\"15 Jan 2021\",\"19 Jan 2021\",\"20 Jan 2021\",\"21 Jan 2021\",\"22 Jan 2021\",\"25 Jan 2021\",\"26 Jan 2021\",\"28 Jan 2021\",\"29 Jan 2021\",\"01 Feb 2021\",\"02 Feb 2021\",\"03 Feb 2021\",\"05 Feb 2021\",\"08 Feb 2021\",\"09 Feb 2021\",\"16 Feb 2021\",\"17 Feb 2021\",\"18 Feb 2021\",\"22 Feb 2021\",\"23 Feb 2021\",\"24 Feb 2021\",\"25 Feb 2021\",\"01 Mar 2021\",\"02 Mar 2021\",\"03 Mar 2021\",\"05 Mar 2021\",\"09 Mar 2021\",\"10 Mar 2021\",\"12 Mar 2021\",\"15 Mar 2021\",\"16 Mar 2021\",\"17 Mar 2021\",\"18 Mar 2021\",\"19 Mar 2021\",\"22 Mar 2021\",\"23 Mar 2021\",\"24 Mar 2021\",\"25 Mar 2021\",\"26 Mar 2021\",\"29 Mar 2021\",\"30 Mar 2021\",\"31 Mar 2021\",\"01 Apr 2021\",\"05 Apr 2021\",\"06 Apr 2021\",\"07 Apr 2021\",\"08 Apr 2021\",\"09 Apr 2021\",\"12 Apr 2021\",\"13 Apr 2021\",\"14 Apr 2021\",\"16 Apr 2021\",\"19 Apr 2021\",\"20 Apr 2021\",\"21 Apr 2021\",\"22 Apr 2021\",\"23 Apr 2021\",\"26 Apr 2021\",\"27 Apr 2021\",\"28 Apr 2021\",\"29 Apr 2021\",\"30 Apr 2021\",\"03 May 2021\",\"04 May 2021\",\"05 May 2021\",\"06 May 2021\",\"07 May 2021\",\"10 May 2021\",\"11 May 2021\",\"12 May 2021\",\"13 May 2021\",\"14 May 2021\",\"17 May 2021\",\"19 May 2021\",\"20 May 2021\",\"24 May 2021\",\"26 May 2021\",\"27 May 2021\",\"08 Jun 2021\",\"09 Jun 2021\",\"10 Jun 2021\",\"11 Jun 2021\",\"14 Jun 2021\",\"15 Jun 2021\",\"17 Jun 2021\",\"21 Jun 2021\",\"22 Jun 2021\",\"30 Jun 2021\",\"01 Jul 2021\",\"06 Jul 2021\",\"07 Jul 2021\",\"08 Jul 2021\",\"09 Jul 2021\",\"12 Jul 2021\",\"13 Jul 2021\",\"14 Jul 2021\",\"15 Jul 2021\",\"16 Jul 2021\",\"19 Jul 2021\",\"20 Jul 2021\",\"21 Jul 2021\",\"22 Jul 2021\",\"23 Jul 2021\",\"26 Jul 2021\",\"27 Jul 2021\",\"29 Jul 2021\",\"30 Jul 2021\",\"02 Aug 2021\",\"03 Aug 2021\",\"04 Aug 2021\",\"05 Aug 2021\",\"09 Aug 2021\",\"10 Aug 2021\",\"11 Aug 2021\",\"12 Aug 2021\",\"13 Aug 2021\",\"16 Aug 2021\",\"17 Aug 2021\",\"18 Aug 2021\",\"19 Aug 2021\",\"20 Aug 2021\",\"23 Aug 2021\",\"24 Aug 2021\",\"25 Aug 2021\",\"26 Aug 2021\",\"27 Aug 2021\",\"30 Aug 2021\",\"31 Aug 2021\",\"01 Sep 2021\",\"02 Sep 2021\",\"06 Sep 2021\",\"07 Sep 2021\",\"08 Sep 2021\",\"13 Sep 2021\",\"15 Sep 2021\",\"16 Sep 2021\",\"17 Sep 2021\",\"20 Sep 2021\",\"23 Sep 2021\",\"24 Sep 2021\",\"27 Sep 2021\",\"28 Sep 2021\",\"29 Sep 2021\",\"30 Sep 2021\",\"01 Oct 2021\",\"04 Oct 2021\",\"05 Oct 2021\",\"07 Oct 2021\",\"08 Oct 2021\",\"12 Oct 2021\",\"13 Oct 2021\",\"25 Oct 2021\",\"27 Oct 2021\",\"28 Oct 2021\",\"01 Nov 2021\",\"02 Nov 2021\",\"03 Nov 2021\",\"04 Nov 2021\",\"08 Nov 2021\",\"09 Nov 2021\",\"11 Nov 2021\",\"17 Nov 2021\",\"18 Nov 2021\",\"22 Nov 2021\",\"24 Nov 2021\",\"29 Nov 2021\",\"30 Nov 2021\",\"02 Dec 2021\",\"03 Dec 2021\",\"06 Dec 2021\",\"07 Dec 2021\",\"08 Dec 2021\",\"09 Dec 2021\",\"13 Dec 2021\",\"14 Dec 2021\",\"15 Dec 2021\",\"16 Dec 2021\",\"17 Dec 2021\",\"20 Dec 2021\",\"21 Dec 2021\",\"27 Dec 2021\",\"04 Jan 2022\",\"05 Jan 2022\",\"06 Jan 2022\",\"12 Jan 2022\",\"13 Jan 2022\",\"14 Jan 2022\",\"17 Jan 2022\",\"18 Jan 2022\",\"19 Jan 2022\",\"20 Jan 2022\",\"24 Jan 2022\",\"25 Jan 2022\",\"26 Jan 2022\",\"27 Jan 2022\",\"31 Jan 2022\",\"01 Feb 2022\"],\"y\":[-2.0036496350363597,-0.03688524590146602,-0.036290322580589236,-2.004999999999909,1.099999999999974,0.5147224817674114,-0.9954128440368871,0.8340707964601981,0.6666666666666918,-0.9950495049506031,0.6108695652174041,2.1000000000000796,-0.22180451127816658,-1.2497433743934454,0.7014563106797188,-2.001798561150955,-0.08737864077670235,-1.0029761904761578,0.9076433121018095,0.7161458333332741,0.8603351955307059,-0.17318435754191908,-0.11570247933885036,0.7122762148337805,0.9019607843137597,-1.000000000000077,0.8103448275861559,-0.007315386252322309,-1.0051546391752226,0.7800000000002001,0.7307692307692585,-1.0029940119759866,-2.0000000000000915,-3.457226027433806,-0.9964539007092409,1.5336962420294604,-1.003448275862058,0.7579787234041706,-0.9989106753812715,-1.000000000000038,0.8915094339620968,0.9166666666667804,0.9900662251654907,2.429292929292897,0.8382352941176787,-2.00877775976672,-0.5292410714286325,1.7739948119324795,1.6482117524080264,0.2857142857142966,0.3039830154215921,0.8588993852150334,0.16857142857143437,0.23563218390805832,-0.9830508474577544,0.8244274809162756,-0.7468619246860448,-0.9627953471465153,0.12475055667230835,-0.48268398268410406,-1.0689484126985966,-0.06000000000009702,-1.0028735632183607,0.9288526265175856,0.7284240150093974,0.799418604651262,0.25968156137649223,0.6053571428571436,2.2561047035501156,-1.2372881355930319,0.9483721742166673,1.144171779141075,-0.9577464788736141,2.186776330585511,-0.533649216419565,0.5275735294117238,-1.1515964240104823,-0.024701964561858913,2.425253991291584,-0.9257594474806861,-1.9950000000000325,0.5030120481925889,1.0320855614972386,-1.0000000000000138,-0.9116541353383676,-4.402828464244898,0.6562499999999726,2.1266917293234227,0.19980363279343338,0.7417836405658929,1.045977011494347,-0.8127426259055477,-2.4991147741146715,-1.0020080321284794,0.04419889502752716,-0.2593988936259062,0.9512195121950887,-0.16484741784054724,1.4220430107526782,0.86024844720495,1.3184348053305568,-1.0698166242806364,-4.007001507268795,1.0567010309278904,2.511450381679401,0.9699453551911512,-0.026785714285757593,2.1732784259895412,-1.0039062499999847,-0.17579908675785816,-1.1118881118880752,-1.000000000000038,-2.0026881720429985,-0.2763575946600787,0.6351949799045054,0.9773662551439628,-0.3902439024388129,-1.845398579321144,-0.17187500000008052,1.1726190476190639,0.8899371069182876,0.9230769230769581,-0.9999999999999671,-1.0890410958902783,0.8964497041420038,1.0253623188406356,1.1982758620687732,1.86681303833815,-3.3408981062841576,1.4823008849556616,0.849206349206419,0.05271565495210138,0.6740088105726502,0.871848739495722,0.8568773234200979,1.6416022421609608,0.9323671497585123,-1.1693183794124542,-2.9970930232556983,0.9046242774567775,-0.18713450292402678,-4.002577319587164,2.444287663830698,-4.930894490083878,-0.8254477497892823,1.7933260780046822,-0.8411241038901585,0.8067010309278045,0.278074866310255,1.162420382165634,0.4538160415335535,0.9713375796178562,-1.0000000000000884,1.049707602339124,0.24137931034483676,1.0580021482276047,2.7806992250857134,1.3352285224122769,1.3835978835977982,0.8445378151261421,-0.9999999999999509,-2.0034965034963905,0.5607884078207179,1.0433673469387545,0.8486238532110196,-1.000000000000113,-0.0472062301959989,-0.08541666666666003,0.21518987341775375,1.277541998231539,1.0600858369099317,0.6901408450704154,1.1857923497268468,0.9023151113957087,1.096069868995654,-1.364150468963918,-3.0014662756597517,-1.0031446540879245,0.7611159848555458,-0.20426189787361437,1.122905027932924,-2.727272727272691,1.0058774558774541,-0.9954233169955988,1.4844720496894679,0.09248554913289672,-0.008833813245559652,-0.9975000000000023,-3.5651530787754018,0.6666666666666525,-4.994378306878543,-0.18346774193555104,-1.054525045919347,0.7592592592593319,-5.001155165694566,1.6490628376693115,-0.9289453645535855,0.9449760765549804,0.9495412844036405,-0.9999999999999287,1.0093457943925617,1.4234277950311032,0.7786561264822243,0.9512195121950887,1.0673076923077327,1.9106926144244185,-0.006273778168119026,1.2846441947566207,0.09166666666670961,1.1739130434783052,0.009741136056881428,0.121330724070428,0.811274509803964,1.3899371069182618,-3.004630121275155,-0.09498955151122412,0.9889380530973512,0.8779342723003916,0.9822335025380722,0.6549586776859655,0.8802816901408451],\"type\":\"bar\"}],                        {\"legend\":{\"bgcolor\":\"#FFFFFF\",\"font\":{\"color\":\"#4D5663\"},\"orientation\":\"h\",\"x\":0.3,\"y\":0.95,\"yanchor\":\"bottom\"},\"paper_bgcolor\":\"#FFFFFF\",\"plot_bgcolor\":\"#FFFFFF\",\"showlegend\":true,\"template\":{\"data\":{\"barpolar\":[{\"marker\":{\"line\":{\"color\":\"#E5ECF6\",\"width\":0.5},\"pattern\":{\"fillmode\":\"overlay\",\"size\":10,\"solidity\":0.2}},\"type\":\"barpolar\"}],\"bar\":[{\"error_x\":{\"color\":\"#2a3f5f\"},\"error_y\":{\"color\":\"#2a3f5f\"},\"marker\":{\"line\":{\"color\":\"#E5ECF6\",\"width\":0.5},\"pattern\":{\"fillmode\":\"overlay\",\"size\":10,\"solidity\":0.2}},\"type\":\"bar\"}],\"carpet\":[{\"aaxis\":{\"endlinecolor\":\"#2a3f5f\",\"gridcolor\":\"white\",\"linecolor\":\"white\",\"minorgridcolor\":\"white\",\"startlinecolor\":\"#2a3f5f\"},\"baxis\":{\"endlinecolor\":\"#2a3f5f\",\"gridcolor\":\"white\",\"linecolor\":\"white\",\"minorgridcolor\":\"white\",\"startlinecolor\":\"#2a3f5f\"},\"type\":\"carpet\"}],\"choropleth\":[{\"colorbar\":{\"outlinewidth\":0,\"ticks\":\"\"},\"type\":\"choropleth\"}],\"contourcarpet\":[{\"colorbar\":{\"outlinewidth\":0,\"ticks\":\"\"},\"type\":\"contourcarpet\"}],\"contour\":[{\"colorbar\":{\"outlinewidth\":0,\"ticks\":\"\"},\"colorscale\":[[0.0,\"#0d0887\"],[0.1111111111111111,\"#46039f\"],[0.2222222222222222,\"#7201a8\"],[0.3333333333333333,\"#9c179e\"],[0.4444444444444444,\"#bd3786\"],[0.5555555555555556,\"#d8576b\"],[0.6666666666666666,\"#ed7953\"],[0.7777777777777778,\"#fb9f3a\"],[0.8888888888888888,\"#fdca26\"],[1.0,\"#f0f921\"]],\"type\":\"contour\"}],\"heatmapgl\":[{\"colorbar\":{\"outlinewidth\":0,\"ticks\":\"\"},\"colorscale\":[[0.0,\"#0d0887\"],[0.1111111111111111,\"#46039f\"],[0.2222222222222222,\"#7201a8\"],[0.3333333333333333,\"#9c179e\"],[0.4444444444444444,\"#bd3786\"],[0.5555555555555556,\"#d8576b\"],[0.6666666666666666,\"#ed7953\"],[0.7777777777777778,\"#fb9f3a\"],[0.8888888888888888,\"#fdca26\"],[1.0,\"#f0f921\"]],\"type\":\"heatmapgl\"}],\"heatmap\":[{\"colorbar\":{\"outlinewidth\":0,\"ticks\":\"\"},\"colorscale\":[[0.0,\"#0d0887\"],[0.1111111111111111,\"#46039f\"],[0.2222222222222222,\"#7201a8\"],[0.3333333333333333,\"#9c179e\"],[0.4444444444444444,\"#bd3786\"],[0.5555555555555556,\"#d8576b\"],[0.6666666666666666,\"#ed7953\"],[0.7777777777777778,\"#fb9f3a\"],[0.8888888888888888,\"#fdca26\"],[1.0,\"#f0f921\"]],\"type\":\"heatmap\"}],\"histogram2dcontour\":[{\"colorbar\":{\"outlinewidth\":0,\"ticks\":\"\"},\"colorscale\":[[0.0,\"#0d0887\"],[0.1111111111111111,\"#46039f\"],[0.2222222222222222,\"#7201a8\"],[0.3333333333333333,\"#9c179e\"],[0.4444444444444444,\"#bd3786\"],[0.5555555555555556,\"#d8576b\"],[0.6666666666666666,\"#ed7953\"],[0.7777777777777778,\"#fb9f3a\"],[0.8888888888888888,\"#fdca26\"],[1.0,\"#f0f921\"]],\"type\":\"histogram2dcontour\"}],\"histogram2d\":[{\"colorbar\":{\"outlinewidth\":0,\"ticks\":\"\"},\"colorscale\":[[0.0,\"#0d0887\"],[0.1111111111111111,\"#46039f\"],[0.2222222222222222,\"#7201a8\"],[0.3333333333333333,\"#9c179e\"],[0.4444444444444444,\"#bd3786\"],[0.5555555555555556,\"#d8576b\"],[0.6666666666666666,\"#ed7953\"],[0.7777777777777778,\"#fb9f3a\"],[0.8888888888888888,\"#fdca26\"],[1.0,\"#f0f921\"]],\"type\":\"histogram2d\"}],\"histogram\":[{\"marker\":{\"pattern\":{\"fillmode\":\"overlay\",\"size\":10,\"solidity\":0.2}},\"type\":\"histogram\"}],\"mesh3d\":[{\"colorbar\":{\"outlinewidth\":0,\"ticks\":\"\"},\"type\":\"mesh3d\"}],\"parcoords\":[{\"line\":{\"colorbar\":{\"outlinewidth\":0,\"ticks\":\"\"}},\"type\":\"parcoords\"}],\"pie\":[{\"automargin\":true,\"type\":\"pie\"}],\"scatter3d\":[{\"line\":{\"colorbar\":{\"outlinewidth\":0,\"ticks\":\"\"}},\"marker\":{\"colorbar\":{\"outlinewidth\":0,\"ticks\":\"\"}},\"type\":\"scatter3d\"}],\"scattercarpet\":[{\"marker\":{\"colorbar\":{\"outlinewidth\":0,\"ticks\":\"\"}},\"type\":\"scattercarpet\"}],\"scattergeo\":[{\"marker\":{\"colorbar\":{\"outlinewidth\":0,\"ticks\":\"\"}},\"type\":\"scattergeo\"}],\"scattergl\":[{\"marker\":{\"colorbar\":{\"outlinewidth\":0,\"ticks\":\"\"}},\"type\":\"scattergl\"}],\"scattermapbox\":[{\"marker\":{\"colorbar\":{\"outlinewidth\":0,\"ticks\":\"\"}},\"type\":\"scattermapbox\"}],\"scatterpolargl\":[{\"marker\":{\"colorbar\":{\"outlinewidth\":0,\"ticks\":\"\"}},\"type\":\"scatterpolargl\"}],\"scatterpolar\":[{\"marker\":{\"colorbar\":{\"outlinewidth\":0,\"ticks\":\"\"}},\"type\":\"scatterpolar\"}],\"scatter\":[{\"marker\":{\"colorbar\":{\"outlinewidth\":0,\"ticks\":\"\"}},\"type\":\"scatter\"}],\"scatterternary\":[{\"marker\":{\"colorbar\":{\"outlinewidth\":0,\"ticks\":\"\"}},\"type\":\"scatterternary\"}],\"surface\":[{\"colorbar\":{\"outlinewidth\":0,\"ticks\":\"\"},\"colorscale\":[[0.0,\"#0d0887\"],[0.1111111111111111,\"#46039f\"],[0.2222222222222222,\"#7201a8\"],[0.3333333333333333,\"#9c179e\"],[0.4444444444444444,\"#bd3786\"],[0.5555555555555556,\"#d8576b\"],[0.6666666666666666,\"#ed7953\"],[0.7777777777777778,\"#fb9f3a\"],[0.8888888888888888,\"#fdca26\"],[1.0,\"#f0f921\"]],\"type\":\"surface\"}],\"table\":[{\"cells\":{\"fill\":{\"color\":\"#EBF0F8\"},\"line\":{\"color\":\"white\"}},\"header\":{\"fill\":{\"color\":\"#C8D4E3\"},\"line\":{\"color\":\"white\"}},\"type\":\"table\"}]},\"layout\":{\"annotationdefaults\":{\"arrowcolor\":\"#2a3f5f\",\"arrowhead\":0,\"arrowwidth\":1},\"autotypenumbers\":\"strict\",\"coloraxis\":{\"colorbar\":{\"outlinewidth\":0,\"ticks\":\"\"}},\"colorscale\":{\"diverging\":[[0,\"#8e0152\"],[0.1,\"#c51b7d\"],[0.2,\"#de77ae\"],[0.3,\"#f1b6da\"],[0.4,\"#fde0ef\"],[0.5,\"#f7f7f7\"],[0.6,\"#e6f5d0\"],[0.7,\"#b8e186\"],[0.8,\"#7fbc41\"],[0.9,\"#4d9221\"],[1,\"#276419\"]],\"sequential\":[[0.0,\"#0d0887\"],[0.1111111111111111,\"#46039f\"],[0.2222222222222222,\"#7201a8\"],[0.3333333333333333,\"#9c179e\"],[0.4444444444444444,\"#bd3786\"],[0.5555555555555556,\"#d8576b\"],[0.6666666666666666,\"#ed7953\"],[0.7777777777777778,\"#fb9f3a\"],[0.8888888888888888,\"#fdca26\"],[1.0,\"#f0f921\"]],\"sequentialminus\":[[0.0,\"#0d0887\"],[0.1111111111111111,\"#46039f\"],[0.2222222222222222,\"#7201a8\"],[0.3333333333333333,\"#9c179e\"],[0.4444444444444444,\"#bd3786\"],[0.5555555555555556,\"#d8576b\"],[0.6666666666666666,\"#ed7953\"],[0.7777777777777778,\"#fb9f3a\"],[0.8888888888888888,\"#fdca26\"],[1.0,\"#f0f921\"]]},\"colorway\":[\"#636efa\",\"#EF553B\",\"#00cc96\",\"#ab63fa\",\"#FFA15A\",\"#19d3f3\",\"#FF6692\",\"#B6E880\",\"#FF97FF\",\"#FECB52\"],\"font\":{\"color\":\"#2a3f5f\"},\"geo\":{\"bgcolor\":\"white\",\"lakecolor\":\"white\",\"landcolor\":\"#E5ECF6\",\"showlakes\":true,\"showland\":true,\"subunitcolor\":\"white\"},\"hoverlabel\":{\"align\":\"left\"},\"hovermode\":\"closest\",\"mapbox\":{\"style\":\"light\"},\"paper_bgcolor\":\"white\",\"plot_bgcolor\":\"#E5ECF6\",\"polar\":{\"angularaxis\":{\"gridcolor\":\"white\",\"linecolor\":\"white\",\"ticks\":\"\"},\"bgcolor\":\"#E5ECF6\",\"radialaxis\":{\"gridcolor\":\"white\",\"linecolor\":\"white\",\"ticks\":\"\"}},\"scene\":{\"xaxis\":{\"backgroundcolor\":\"#E5ECF6\",\"gridcolor\":\"white\",\"gridwidth\":2,\"linecolor\":\"white\",\"showbackground\":true,\"ticks\":\"\",\"zerolinecolor\":\"white\"},\"yaxis\":{\"backgroundcolor\":\"#E5ECF6\",\"gridcolor\":\"white\",\"gridwidth\":2,\"linecolor\":\"white\",\"showbackground\":true,\"ticks\":\"\",\"zerolinecolor\":\"white\"},\"zaxis\":{\"backgroundcolor\":\"#E5ECF6\",\"gridcolor\":\"white\",\"gridwidth\":2,\"linecolor\":\"white\",\"showbackground\":true,\"ticks\":\"\",\"zerolinecolor\":\"white\"}},\"shapedefaults\":{\"line\":{\"color\":\"#2a3f5f\"}},\"ternary\":{\"aaxis\":{\"gridcolor\":\"white\",\"linecolor\":\"white\",\"ticks\":\"\"},\"baxis\":{\"gridcolor\":\"white\",\"linecolor\":\"white\",\"ticks\":\"\"},\"bgcolor\":\"#E5ECF6\",\"caxis\":{\"gridcolor\":\"white\",\"linecolor\":\"white\",\"ticks\":\"\"}},\"title\":{\"x\":0.05},\"xaxis\":{\"automargin\":true,\"gridcolor\":\"white\",\"linecolor\":\"white\",\"ticks\":\"\",\"title\":{\"standoff\":15},\"zerolinecolor\":\"white\",\"zerolinewidth\":2},\"yaxis\":{\"automargin\":true,\"gridcolor\":\"white\",\"linecolor\":\"white\",\"ticks\":\"\",\"title\":{\"standoff\":15},\"zerolinecolor\":\"white\",\"zerolinewidth\":2}}},\"title\":{\"font\":{\"color\":\"#4D5663\"},\"text\":\"Risultato giornaliero (R) [by Close] [non_zero=221/453] [worked=70%]\"},\"xaxis\":{\"gridcolor\":\"#E1E5ED\",\"showgrid\":true,\"tickfont\":{\"color\":\"#4D5663\"},\"title\":{\"font\":{\"color\":\"#4D5663\"},\"text\":\"date\"},\"zerolinecolor\":\"grey\"},\"yaxis\":{\"gridcolor\":\"#E1E5ED\",\"showgrid\":true,\"tickfont\":{\"color\":\"#4D5663\"},\"title\":{\"font\":{\"color\":\"#4D5663\"},\"text\":\"R\"},\"zerolinecolor\":\"grey\"}},                        {\"responsive\": true}                    ).then(function(){\n",
       "                            \n",
       "var gd = document.getElementById('b5c2d09b-ffb8-4061-bf35-11bc3f7b024c');\n",
       "var x = new MutationObserver(function (mutations, observer) {{\n",
       "        var display = window.getComputedStyle(gd).display;\n",
       "        if (!display || display === 'none') {{\n",
       "            console.log([gd, 'removed!']);\n",
       "            Plotly.purge(gd);\n",
       "            observer.disconnect();\n",
       "        }}\n",
       "}});\n",
       "\n",
       "// Listen for the removal of the full notebook cells\n",
       "var notebookContainer = gd.closest('#notebook-container');\n",
       "if (notebookContainer) {{\n",
       "    x.observe(notebookContainer, {childList: true});\n",
       "}}\n",
       "\n",
       "// Listen for the clearing of the current output cell\n",
       "var outputEl = gd.closest('.output');\n",
       "if (outputEl) {{\n",
       "    x.observe(outputEl, {childList: true});\n",
       "}}\n",
       "\n",
       "                        })                };                });            </script>        </div>"
      ]
     },
     "metadata": {},
     "output_type": "display_data"
    }
   ],
   "source": [
    "df = merged.groupby(pd.Grouper(freq='D')).sum()\n",
    "df = df[df!=0].dropna(how='all').reset_index()\n",
    "n_days = (df.iloc[-1, 0] - df.iloc[0, 0]).days\n",
    "df['close'] = df.close.dt.strftime('%d %b %Y')\n",
    "df.iplot(kind='bar', x='close', opacity=1, yTitle='R', zerolinecolor='grey',\n",
    "         title=f'Risultato giornaliero (R) [by Close] [non_zero={len(df)}/{n_days}] [worked={len(df)/(n_days*.7):.0%}]',\n",
    "         colors=cf_colors, xTitle='date', legend='top')"
   ]
  },
  {
   "cell_type": "markdown",
   "id": "18203b22",
   "metadata": {
    "papermill": {
     "duration": 0.05698,
     "end_time": "2022-02-26T11:14:25.532367",
     "exception": false,
     "start_time": "2022-02-26T11:14:25.475387",
     "status": "completed"
    },
    "tags": []
   },
   "source": [
    "### Per questi prossimi grafici non è necessario analizzare la differenza fra le due versioni"
   ]
  },
  {
   "cell_type": "code",
   "execution_count": 19,
   "id": "961f324f",
   "metadata": {
    "execution": {
     "iopub.execute_input": "2022-02-26T11:14:25.649317Z",
     "iopub.status.busy": "2022-02-26T11:14:25.648736Z",
     "iopub.status.idle": "2022-02-26T11:14:25.707969Z",
     "shell.execute_reply": "2022-02-26T11:14:25.707361Z",
     "shell.execute_reply.started": "2022-02-26T10:21:33.539201Z"
    },
    "papermill": {
     "duration": 0.118556,
     "end_time": "2022-02-26T11:14:25.708139",
     "exception": false,
     "start_time": "2022-02-26T11:14:25.589583",
     "status": "completed"
    },
    "tags": []
   },
   "outputs": [
    {
     "data": {
      "application/vnd.plotly.v1+json": {
       "config": {
        "linkText": "Export to plot.ly",
        "plotlyServerURL": "https://plot.ly",
        "showLink": false
       },
       "data": [
        {
         "histfunc": "count",
         "histnorm": "probability",
         "marker": {
          "color": "rgba(63, 147, 202, 1.0)",
          "line": {
           "color": "#808080",
           "width": 1.3
          }
         },
         "name": "result",
         "opacity": 1,
         "orientation": "v",
         "type": "histogram",
         "x": [
          2.0,
          1.0,
          1.0,
          1.0,
          1.0,
          1.0,
          3.0,
          1.0,
          1.0,
          1.0,
          1.0,
          1.0,
          1.0,
          3.0,
          2.0,
          1.0,
          2.0,
          1.0,
          1.0,
          1.0,
          1.0,
          1.0,
          2.0,
          2.0,
          1.0,
          1.0,
          1.0,
          1.0,
          2.0,
          1.0,
          1.0,
          1.0,
          1.0,
          2.0,
          5.0,
          1.0,
          3.0,
          1.0,
          1.0,
          1.0,
          1.0,
          1.0,
          1.0,
          1.0,
          2.0,
          1.0,
          3.0,
          3.0,
          2.0,
          2.0,
          1.0,
          4.0,
          3.0,
          2.0,
          1.0,
          2.0,
          2.0,
          2.0,
          2.0,
          3.0,
          2.0,
          2.0,
          1.0,
          1.0,
          2.0,
          2.0,
          1.0,
          2.0,
          1.0,
          2.0,
          3.0,
          3.0,
          1.0,
          3.0,
          5.0,
          4.0,
          1.0,
          3.0,
          3.0,
          2.0,
          4.0,
          2.0,
          2.0,
          1.0,
          1.0,
          2.0,
          5.0,
          1.0,
          3.0,
          2.0,
          2.0,
          1.0,
          3.0,
          4.0,
          1.0,
          2.0,
          2.0,
          1.0,
          1.0,
          1.0,
          1.0,
          1.0,
          2.0,
          3.0,
          5.0,
          1.0,
          1.0,
          1.0,
          1.0,
          2.0,
          1.0,
          2.0,
          3.0,
          1.0,
          2.0,
          2.0,
          3.0,
          1.0,
          2.0,
          4.0,
          1.0,
          1.0,
          1.0,
          1.0,
          1.0,
          2.0,
          1.0,
          1.0,
          2.0,
          2.0,
          5.0,
          1.0,
          1.0,
          1.0,
          1.0,
          1.0,
          1.0,
          2.0,
          1.0,
          2.0,
          3.0,
          1.0,
          2.0,
          4.0,
          3.0,
          6.0,
          5.0,
          1.0,
          1.0,
          4.0,
          1.0,
          2.0,
          1.0,
          3.0,
          1.0,
          1.0,
          1.0,
          2.0,
          2.0,
          1.0,
          1.0,
          1.0,
          1.0,
          1.0,
          2.0,
          4.0,
          1.0,
          1.0,
          1.0,
          2.0,
          1.0,
          2.0,
          2.0,
          1.0,
          1.0,
          1.0,
          3.0,
          1.0,
          4.0,
          3.0,
          1.0,
          2.0,
          2.0,
          1.0,
          5.0,
          2.0,
          2.0,
          1.0,
          1.0,
          3.0,
          1.0,
          4.0,
          1.0,
          5.0,
          2.0,
          2.0,
          1.0,
          5.0,
          2.0,
          3.0,
          1.0,
          1.0,
          1.0,
          1.0,
          2.0,
          1.0,
          1.0,
          1.0,
          2.0,
          2.0,
          1.0,
          1.0,
          1.0,
          2.0,
          2.0,
          1.0,
          1.0,
          3.0,
          3.0,
          1.0,
          1.0,
          1.0,
          1.0,
          1.0
         ]
        }
       ],
       "layout": {
        "bargroupgap": 0.5,
        "barmode": "overlay",
        "legend": {
         "bgcolor": "#FFFFFF",
         "font": {
          "color": "#4D5663"
         }
        },
        "paper_bgcolor": "#FFFFFF",
        "plot_bgcolor": "#FFFFFF",
        "template": {
         "data": {
          "bar": [
           {
            "error_x": {
             "color": "#2a3f5f"
            },
            "error_y": {
             "color": "#2a3f5f"
            },
            "marker": {
             "line": {
              "color": "#E5ECF6",
              "width": 0.5
             },
             "pattern": {
              "fillmode": "overlay",
              "size": 10,
              "solidity": 0.2
             }
            },
            "type": "bar"
           }
          ],
          "barpolar": [
           {
            "marker": {
             "line": {
              "color": "#E5ECF6",
              "width": 0.5
             },
             "pattern": {
              "fillmode": "overlay",
              "size": 10,
              "solidity": 0.2
             }
            },
            "type": "barpolar"
           }
          ],
          "carpet": [
           {
            "aaxis": {
             "endlinecolor": "#2a3f5f",
             "gridcolor": "white",
             "linecolor": "white",
             "minorgridcolor": "white",
             "startlinecolor": "#2a3f5f"
            },
            "baxis": {
             "endlinecolor": "#2a3f5f",
             "gridcolor": "white",
             "linecolor": "white",
             "minorgridcolor": "white",
             "startlinecolor": "#2a3f5f"
            },
            "type": "carpet"
           }
          ],
          "choropleth": [
           {
            "colorbar": {
             "outlinewidth": 0,
             "ticks": ""
            },
            "type": "choropleth"
           }
          ],
          "contour": [
           {
            "colorbar": {
             "outlinewidth": 0,
             "ticks": ""
            },
            "colorscale": [
             [
              0.0,
              "#0d0887"
             ],
             [
              0.1111111111111111,
              "#46039f"
             ],
             [
              0.2222222222222222,
              "#7201a8"
             ],
             [
              0.3333333333333333,
              "#9c179e"
             ],
             [
              0.4444444444444444,
              "#bd3786"
             ],
             [
              0.5555555555555556,
              "#d8576b"
             ],
             [
              0.6666666666666666,
              "#ed7953"
             ],
             [
              0.7777777777777778,
              "#fb9f3a"
             ],
             [
              0.8888888888888888,
              "#fdca26"
             ],
             [
              1.0,
              "#f0f921"
             ]
            ],
            "type": "contour"
           }
          ],
          "contourcarpet": [
           {
            "colorbar": {
             "outlinewidth": 0,
             "ticks": ""
            },
            "type": "contourcarpet"
           }
          ],
          "heatmap": [
           {
            "colorbar": {
             "outlinewidth": 0,
             "ticks": ""
            },
            "colorscale": [
             [
              0.0,
              "#0d0887"
             ],
             [
              0.1111111111111111,
              "#46039f"
             ],
             [
              0.2222222222222222,
              "#7201a8"
             ],
             [
              0.3333333333333333,
              "#9c179e"
             ],
             [
              0.4444444444444444,
              "#bd3786"
             ],
             [
              0.5555555555555556,
              "#d8576b"
             ],
             [
              0.6666666666666666,
              "#ed7953"
             ],
             [
              0.7777777777777778,
              "#fb9f3a"
             ],
             [
              0.8888888888888888,
              "#fdca26"
             ],
             [
              1.0,
              "#f0f921"
             ]
            ],
            "type": "heatmap"
           }
          ],
          "heatmapgl": [
           {
            "colorbar": {
             "outlinewidth": 0,
             "ticks": ""
            },
            "colorscale": [
             [
              0.0,
              "#0d0887"
             ],
             [
              0.1111111111111111,
              "#46039f"
             ],
             [
              0.2222222222222222,
              "#7201a8"
             ],
             [
              0.3333333333333333,
              "#9c179e"
             ],
             [
              0.4444444444444444,
              "#bd3786"
             ],
             [
              0.5555555555555556,
              "#d8576b"
             ],
             [
              0.6666666666666666,
              "#ed7953"
             ],
             [
              0.7777777777777778,
              "#fb9f3a"
             ],
             [
              0.8888888888888888,
              "#fdca26"
             ],
             [
              1.0,
              "#f0f921"
             ]
            ],
            "type": "heatmapgl"
           }
          ],
          "histogram": [
           {
            "marker": {
             "pattern": {
              "fillmode": "overlay",
              "size": 10,
              "solidity": 0.2
             }
            },
            "type": "histogram"
           }
          ],
          "histogram2d": [
           {
            "colorbar": {
             "outlinewidth": 0,
             "ticks": ""
            },
            "colorscale": [
             [
              0.0,
              "#0d0887"
             ],
             [
              0.1111111111111111,
              "#46039f"
             ],
             [
              0.2222222222222222,
              "#7201a8"
             ],
             [
              0.3333333333333333,
              "#9c179e"
             ],
             [
              0.4444444444444444,
              "#bd3786"
             ],
             [
              0.5555555555555556,
              "#d8576b"
             ],
             [
              0.6666666666666666,
              "#ed7953"
             ],
             [
              0.7777777777777778,
              "#fb9f3a"
             ],
             [
              0.8888888888888888,
              "#fdca26"
             ],
             [
              1.0,
              "#f0f921"
             ]
            ],
            "type": "histogram2d"
           }
          ],
          "histogram2dcontour": [
           {
            "colorbar": {
             "outlinewidth": 0,
             "ticks": ""
            },
            "colorscale": [
             [
              0.0,
              "#0d0887"
             ],
             [
              0.1111111111111111,
              "#46039f"
             ],
             [
              0.2222222222222222,
              "#7201a8"
             ],
             [
              0.3333333333333333,
              "#9c179e"
             ],
             [
              0.4444444444444444,
              "#bd3786"
             ],
             [
              0.5555555555555556,
              "#d8576b"
             ],
             [
              0.6666666666666666,
              "#ed7953"
             ],
             [
              0.7777777777777778,
              "#fb9f3a"
             ],
             [
              0.8888888888888888,
              "#fdca26"
             ],
             [
              1.0,
              "#f0f921"
             ]
            ],
            "type": "histogram2dcontour"
           }
          ],
          "mesh3d": [
           {
            "colorbar": {
             "outlinewidth": 0,
             "ticks": ""
            },
            "type": "mesh3d"
           }
          ],
          "parcoords": [
           {
            "line": {
             "colorbar": {
              "outlinewidth": 0,
              "ticks": ""
             }
            },
            "type": "parcoords"
           }
          ],
          "pie": [
           {
            "automargin": true,
            "type": "pie"
           }
          ],
          "scatter": [
           {
            "marker": {
             "colorbar": {
              "outlinewidth": 0,
              "ticks": ""
             }
            },
            "type": "scatter"
           }
          ],
          "scatter3d": [
           {
            "line": {
             "colorbar": {
              "outlinewidth": 0,
              "ticks": ""
             }
            },
            "marker": {
             "colorbar": {
              "outlinewidth": 0,
              "ticks": ""
             }
            },
            "type": "scatter3d"
           }
          ],
          "scattercarpet": [
           {
            "marker": {
             "colorbar": {
              "outlinewidth": 0,
              "ticks": ""
             }
            },
            "type": "scattercarpet"
           }
          ],
          "scattergeo": [
           {
            "marker": {
             "colorbar": {
              "outlinewidth": 0,
              "ticks": ""
             }
            },
            "type": "scattergeo"
           }
          ],
          "scattergl": [
           {
            "marker": {
             "colorbar": {
              "outlinewidth": 0,
              "ticks": ""
             }
            },
            "type": "scattergl"
           }
          ],
          "scattermapbox": [
           {
            "marker": {
             "colorbar": {
              "outlinewidth": 0,
              "ticks": ""
             }
            },
            "type": "scattermapbox"
           }
          ],
          "scatterpolar": [
           {
            "marker": {
             "colorbar": {
              "outlinewidth": 0,
              "ticks": ""
             }
            },
            "type": "scatterpolar"
           }
          ],
          "scatterpolargl": [
           {
            "marker": {
             "colorbar": {
              "outlinewidth": 0,
              "ticks": ""
             }
            },
            "type": "scatterpolargl"
           }
          ],
          "scatterternary": [
           {
            "marker": {
             "colorbar": {
              "outlinewidth": 0,
              "ticks": ""
             }
            },
            "type": "scatterternary"
           }
          ],
          "surface": [
           {
            "colorbar": {
             "outlinewidth": 0,
             "ticks": ""
            },
            "colorscale": [
             [
              0.0,
              "#0d0887"
             ],
             [
              0.1111111111111111,
              "#46039f"
             ],
             [
              0.2222222222222222,
              "#7201a8"
             ],
             [
              0.3333333333333333,
              "#9c179e"
             ],
             [
              0.4444444444444444,
              "#bd3786"
             ],
             [
              0.5555555555555556,
              "#d8576b"
             ],
             [
              0.6666666666666666,
              "#ed7953"
             ],
             [
              0.7777777777777778,
              "#fb9f3a"
             ],
             [
              0.8888888888888888,
              "#fdca26"
             ],
             [
              1.0,
              "#f0f921"
             ]
            ],
            "type": "surface"
           }
          ],
          "table": [
           {
            "cells": {
             "fill": {
              "color": "#EBF0F8"
             },
             "line": {
              "color": "white"
             }
            },
            "header": {
             "fill": {
              "color": "#C8D4E3"
             },
             "line": {
              "color": "white"
             }
            },
            "type": "table"
           }
          ]
         },
         "layout": {
          "annotationdefaults": {
           "arrowcolor": "#2a3f5f",
           "arrowhead": 0,
           "arrowwidth": 1
          },
          "autotypenumbers": "strict",
          "coloraxis": {
           "colorbar": {
            "outlinewidth": 0,
            "ticks": ""
           }
          },
          "colorscale": {
           "diverging": [
            [
             0,
             "#8e0152"
            ],
            [
             0.1,
             "#c51b7d"
            ],
            [
             0.2,
             "#de77ae"
            ],
            [
             0.3,
             "#f1b6da"
            ],
            [
             0.4,
             "#fde0ef"
            ],
            [
             0.5,
             "#f7f7f7"
            ],
            [
             0.6,
             "#e6f5d0"
            ],
            [
             0.7,
             "#b8e186"
            ],
            [
             0.8,
             "#7fbc41"
            ],
            [
             0.9,
             "#4d9221"
            ],
            [
             1,
             "#276419"
            ]
           ],
           "sequential": [
            [
             0.0,
             "#0d0887"
            ],
            [
             0.1111111111111111,
             "#46039f"
            ],
            [
             0.2222222222222222,
             "#7201a8"
            ],
            [
             0.3333333333333333,
             "#9c179e"
            ],
            [
             0.4444444444444444,
             "#bd3786"
            ],
            [
             0.5555555555555556,
             "#d8576b"
            ],
            [
             0.6666666666666666,
             "#ed7953"
            ],
            [
             0.7777777777777778,
             "#fb9f3a"
            ],
            [
             0.8888888888888888,
             "#fdca26"
            ],
            [
             1.0,
             "#f0f921"
            ]
           ],
           "sequentialminus": [
            [
             0.0,
             "#0d0887"
            ],
            [
             0.1111111111111111,
             "#46039f"
            ],
            [
             0.2222222222222222,
             "#7201a8"
            ],
            [
             0.3333333333333333,
             "#9c179e"
            ],
            [
             0.4444444444444444,
             "#bd3786"
            ],
            [
             0.5555555555555556,
             "#d8576b"
            ],
            [
             0.6666666666666666,
             "#ed7953"
            ],
            [
             0.7777777777777778,
             "#fb9f3a"
            ],
            [
             0.8888888888888888,
             "#fdca26"
            ],
            [
             1.0,
             "#f0f921"
            ]
           ]
          },
          "colorway": [
           "#636efa",
           "#EF553B",
           "#00cc96",
           "#ab63fa",
           "#FFA15A",
           "#19d3f3",
           "#FF6692",
           "#B6E880",
           "#FF97FF",
           "#FECB52"
          ],
          "font": {
           "color": "#2a3f5f"
          },
          "geo": {
           "bgcolor": "white",
           "lakecolor": "white",
           "landcolor": "#E5ECF6",
           "showlakes": true,
           "showland": true,
           "subunitcolor": "white"
          },
          "hoverlabel": {
           "align": "left"
          },
          "hovermode": "closest",
          "mapbox": {
           "style": "light"
          },
          "paper_bgcolor": "white",
          "plot_bgcolor": "#E5ECF6",
          "polar": {
           "angularaxis": {
            "gridcolor": "white",
            "linecolor": "white",
            "ticks": ""
           },
           "bgcolor": "#E5ECF6",
           "radialaxis": {
            "gridcolor": "white",
            "linecolor": "white",
            "ticks": ""
           }
          },
          "scene": {
           "xaxis": {
            "backgroundcolor": "#E5ECF6",
            "gridcolor": "white",
            "gridwidth": 2,
            "linecolor": "white",
            "showbackground": true,
            "ticks": "",
            "zerolinecolor": "white"
           },
           "yaxis": {
            "backgroundcolor": "#E5ECF6",
            "gridcolor": "white",
            "gridwidth": 2,
            "linecolor": "white",
            "showbackground": true,
            "ticks": "",
            "zerolinecolor": "white"
           },
           "zaxis": {
            "backgroundcolor": "#E5ECF6",
            "gridcolor": "white",
            "gridwidth": 2,
            "linecolor": "white",
            "showbackground": true,
            "ticks": "",
            "zerolinecolor": "white"
           }
          },
          "shapedefaults": {
           "line": {
            "color": "#2a3f5f"
           }
          },
          "ternary": {
           "aaxis": {
            "gridcolor": "white",
            "linecolor": "white",
            "ticks": ""
           },
           "baxis": {
            "gridcolor": "white",
            "linecolor": "white",
            "ticks": ""
           },
           "bgcolor": "#E5ECF6",
           "caxis": {
            "gridcolor": "white",
            "linecolor": "white",
            "ticks": ""
           }
          },
          "title": {
           "x": 0.05
          },
          "xaxis": {
           "automargin": true,
           "gridcolor": "white",
           "linecolor": "white",
           "ticks": "",
           "title": {
            "standoff": 15
           },
           "zerolinecolor": "white",
           "zerolinewidth": 2
          },
          "yaxis": {
           "automargin": true,
           "gridcolor": "white",
           "linecolor": "white",
           "ticks": "",
           "title": {
            "standoff": 15
           },
           "zerolinecolor": "white",
           "zerolinewidth": 2
          }
         }
        },
        "title": {
         "font": {
          "color": "#4D5663"
         },
         "text": "Distribuzione del numero di trades in 1 giorno (frequenza) [by Open]"
        },
        "xaxis": {
         "gridcolor": "#E1E5ED",
         "linecolor": "grey",
         "showgrid": true,
         "tickfont": {
          "color": "#4D5663"
         },
         "title": {
          "font": {
           "color": "#4D5663"
          },
          "text": "trades"
         },
         "zerolinecolor": "grey"
        },
        "yaxis": {
         "gridcolor": "#E1E5ED",
         "linecolor": "grey",
         "showgrid": true,
         "tickfont": {
          "color": "#4D5663"
         },
         "title": {
          "font": {
           "color": "#4D5663"
          },
          "text": "probability"
         },
         "zerolinecolor": "grey"
        }
       }
      },
      "text/html": [
       "<div>                            <div id=\"0414e1e6-cba6-49c5-9c60-d06eecb5624f\" class=\"plotly-graph-div\" style=\"height:525px; width:100%;\"></div>            <script type=\"text/javascript\">                require([\"plotly\"], function(Plotly) {                    window.PLOTLYENV=window.PLOTLYENV || {};                                    if (document.getElementById(\"0414e1e6-cba6-49c5-9c60-d06eecb5624f\")) {                    Plotly.newPlot(                        \"0414e1e6-cba6-49c5-9c60-d06eecb5624f\",                        [{\"histfunc\":\"count\",\"histnorm\":\"probability\",\"marker\":{\"color\":\"rgba(63, 147, 202, 1.0)\",\"line\":{\"color\":\"#808080\",\"width\":1.3}},\"name\":\"result\",\"opacity\":1,\"orientation\":\"v\",\"x\":[2.0,1.0,1.0,1.0,1.0,1.0,3.0,1.0,1.0,1.0,1.0,1.0,1.0,3.0,2.0,1.0,2.0,1.0,1.0,1.0,1.0,1.0,2.0,2.0,1.0,1.0,1.0,1.0,2.0,1.0,1.0,1.0,1.0,2.0,5.0,1.0,3.0,1.0,1.0,1.0,1.0,1.0,1.0,1.0,2.0,1.0,3.0,3.0,2.0,2.0,1.0,4.0,3.0,2.0,1.0,2.0,2.0,2.0,2.0,3.0,2.0,2.0,1.0,1.0,2.0,2.0,1.0,2.0,1.0,2.0,3.0,3.0,1.0,3.0,5.0,4.0,1.0,3.0,3.0,2.0,4.0,2.0,2.0,1.0,1.0,2.0,5.0,1.0,3.0,2.0,2.0,1.0,3.0,4.0,1.0,2.0,2.0,1.0,1.0,1.0,1.0,1.0,2.0,3.0,5.0,1.0,1.0,1.0,1.0,2.0,1.0,2.0,3.0,1.0,2.0,2.0,3.0,1.0,2.0,4.0,1.0,1.0,1.0,1.0,1.0,2.0,1.0,1.0,2.0,2.0,5.0,1.0,1.0,1.0,1.0,1.0,1.0,2.0,1.0,2.0,3.0,1.0,2.0,4.0,3.0,6.0,5.0,1.0,1.0,4.0,1.0,2.0,1.0,3.0,1.0,1.0,1.0,2.0,2.0,1.0,1.0,1.0,1.0,1.0,2.0,4.0,1.0,1.0,1.0,2.0,1.0,2.0,2.0,1.0,1.0,1.0,3.0,1.0,4.0,3.0,1.0,2.0,2.0,1.0,5.0,2.0,2.0,1.0,1.0,3.0,1.0,4.0,1.0,5.0,2.0,2.0,1.0,5.0,2.0,3.0,1.0,1.0,1.0,1.0,2.0,1.0,1.0,1.0,2.0,2.0,1.0,1.0,1.0,2.0,2.0,1.0,1.0,3.0,3.0,1.0,1.0,1.0,1.0,1.0],\"type\":\"histogram\"}],                        {\"bargroupgap\":0.5,\"barmode\":\"overlay\",\"legend\":{\"bgcolor\":\"#FFFFFF\",\"font\":{\"color\":\"#4D5663\"}},\"paper_bgcolor\":\"#FFFFFF\",\"plot_bgcolor\":\"#FFFFFF\",\"template\":{\"data\":{\"barpolar\":[{\"marker\":{\"line\":{\"color\":\"#E5ECF6\",\"width\":0.5},\"pattern\":{\"fillmode\":\"overlay\",\"size\":10,\"solidity\":0.2}},\"type\":\"barpolar\"}],\"bar\":[{\"error_x\":{\"color\":\"#2a3f5f\"},\"error_y\":{\"color\":\"#2a3f5f\"},\"marker\":{\"line\":{\"color\":\"#E5ECF6\",\"width\":0.5},\"pattern\":{\"fillmode\":\"overlay\",\"size\":10,\"solidity\":0.2}},\"type\":\"bar\"}],\"carpet\":[{\"aaxis\":{\"endlinecolor\":\"#2a3f5f\",\"gridcolor\":\"white\",\"linecolor\":\"white\",\"minorgridcolor\":\"white\",\"startlinecolor\":\"#2a3f5f\"},\"baxis\":{\"endlinecolor\":\"#2a3f5f\",\"gridcolor\":\"white\",\"linecolor\":\"white\",\"minorgridcolor\":\"white\",\"startlinecolor\":\"#2a3f5f\"},\"type\":\"carpet\"}],\"choropleth\":[{\"colorbar\":{\"outlinewidth\":0,\"ticks\":\"\"},\"type\":\"choropleth\"}],\"contourcarpet\":[{\"colorbar\":{\"outlinewidth\":0,\"ticks\":\"\"},\"type\":\"contourcarpet\"}],\"contour\":[{\"colorbar\":{\"outlinewidth\":0,\"ticks\":\"\"},\"colorscale\":[[0.0,\"#0d0887\"],[0.1111111111111111,\"#46039f\"],[0.2222222222222222,\"#7201a8\"],[0.3333333333333333,\"#9c179e\"],[0.4444444444444444,\"#bd3786\"],[0.5555555555555556,\"#d8576b\"],[0.6666666666666666,\"#ed7953\"],[0.7777777777777778,\"#fb9f3a\"],[0.8888888888888888,\"#fdca26\"],[1.0,\"#f0f921\"]],\"type\":\"contour\"}],\"heatmapgl\":[{\"colorbar\":{\"outlinewidth\":0,\"ticks\":\"\"},\"colorscale\":[[0.0,\"#0d0887\"],[0.1111111111111111,\"#46039f\"],[0.2222222222222222,\"#7201a8\"],[0.3333333333333333,\"#9c179e\"],[0.4444444444444444,\"#bd3786\"],[0.5555555555555556,\"#d8576b\"],[0.6666666666666666,\"#ed7953\"],[0.7777777777777778,\"#fb9f3a\"],[0.8888888888888888,\"#fdca26\"],[1.0,\"#f0f921\"]],\"type\":\"heatmapgl\"}],\"heatmap\":[{\"colorbar\":{\"outlinewidth\":0,\"ticks\":\"\"},\"colorscale\":[[0.0,\"#0d0887\"],[0.1111111111111111,\"#46039f\"],[0.2222222222222222,\"#7201a8\"],[0.3333333333333333,\"#9c179e\"],[0.4444444444444444,\"#bd3786\"],[0.5555555555555556,\"#d8576b\"],[0.6666666666666666,\"#ed7953\"],[0.7777777777777778,\"#fb9f3a\"],[0.8888888888888888,\"#fdca26\"],[1.0,\"#f0f921\"]],\"type\":\"heatmap\"}],\"histogram2dcontour\":[{\"colorbar\":{\"outlinewidth\":0,\"ticks\":\"\"},\"colorscale\":[[0.0,\"#0d0887\"],[0.1111111111111111,\"#46039f\"],[0.2222222222222222,\"#7201a8\"],[0.3333333333333333,\"#9c179e\"],[0.4444444444444444,\"#bd3786\"],[0.5555555555555556,\"#d8576b\"],[0.6666666666666666,\"#ed7953\"],[0.7777777777777778,\"#fb9f3a\"],[0.8888888888888888,\"#fdca26\"],[1.0,\"#f0f921\"]],\"type\":\"histogram2dcontour\"}],\"histogram2d\":[{\"colorbar\":{\"outlinewidth\":0,\"ticks\":\"\"},\"colorscale\":[[0.0,\"#0d0887\"],[0.1111111111111111,\"#46039f\"],[0.2222222222222222,\"#7201a8\"],[0.3333333333333333,\"#9c179e\"],[0.4444444444444444,\"#bd3786\"],[0.5555555555555556,\"#d8576b\"],[0.6666666666666666,\"#ed7953\"],[0.7777777777777778,\"#fb9f3a\"],[0.8888888888888888,\"#fdca26\"],[1.0,\"#f0f921\"]],\"type\":\"histogram2d\"}],\"histogram\":[{\"marker\":{\"pattern\":{\"fillmode\":\"overlay\",\"size\":10,\"solidity\":0.2}},\"type\":\"histogram\"}],\"mesh3d\":[{\"colorbar\":{\"outlinewidth\":0,\"ticks\":\"\"},\"type\":\"mesh3d\"}],\"parcoords\":[{\"line\":{\"colorbar\":{\"outlinewidth\":0,\"ticks\":\"\"}},\"type\":\"parcoords\"}],\"pie\":[{\"automargin\":true,\"type\":\"pie\"}],\"scatter3d\":[{\"line\":{\"colorbar\":{\"outlinewidth\":0,\"ticks\":\"\"}},\"marker\":{\"colorbar\":{\"outlinewidth\":0,\"ticks\":\"\"}},\"type\":\"scatter3d\"}],\"scattercarpet\":[{\"marker\":{\"colorbar\":{\"outlinewidth\":0,\"ticks\":\"\"}},\"type\":\"scattercarpet\"}],\"scattergeo\":[{\"marker\":{\"colorbar\":{\"outlinewidth\":0,\"ticks\":\"\"}},\"type\":\"scattergeo\"}],\"scattergl\":[{\"marker\":{\"colorbar\":{\"outlinewidth\":0,\"ticks\":\"\"}},\"type\":\"scattergl\"}],\"scattermapbox\":[{\"marker\":{\"colorbar\":{\"outlinewidth\":0,\"ticks\":\"\"}},\"type\":\"scattermapbox\"}],\"scatterpolargl\":[{\"marker\":{\"colorbar\":{\"outlinewidth\":0,\"ticks\":\"\"}},\"type\":\"scatterpolargl\"}],\"scatterpolar\":[{\"marker\":{\"colorbar\":{\"outlinewidth\":0,\"ticks\":\"\"}},\"type\":\"scatterpolar\"}],\"scatter\":[{\"marker\":{\"colorbar\":{\"outlinewidth\":0,\"ticks\":\"\"}},\"type\":\"scatter\"}],\"scatterternary\":[{\"marker\":{\"colorbar\":{\"outlinewidth\":0,\"ticks\":\"\"}},\"type\":\"scatterternary\"}],\"surface\":[{\"colorbar\":{\"outlinewidth\":0,\"ticks\":\"\"},\"colorscale\":[[0.0,\"#0d0887\"],[0.1111111111111111,\"#46039f\"],[0.2222222222222222,\"#7201a8\"],[0.3333333333333333,\"#9c179e\"],[0.4444444444444444,\"#bd3786\"],[0.5555555555555556,\"#d8576b\"],[0.6666666666666666,\"#ed7953\"],[0.7777777777777778,\"#fb9f3a\"],[0.8888888888888888,\"#fdca26\"],[1.0,\"#f0f921\"]],\"type\":\"surface\"}],\"table\":[{\"cells\":{\"fill\":{\"color\":\"#EBF0F8\"},\"line\":{\"color\":\"white\"}},\"header\":{\"fill\":{\"color\":\"#C8D4E3\"},\"line\":{\"color\":\"white\"}},\"type\":\"table\"}]},\"layout\":{\"annotationdefaults\":{\"arrowcolor\":\"#2a3f5f\",\"arrowhead\":0,\"arrowwidth\":1},\"autotypenumbers\":\"strict\",\"coloraxis\":{\"colorbar\":{\"outlinewidth\":0,\"ticks\":\"\"}},\"colorscale\":{\"diverging\":[[0,\"#8e0152\"],[0.1,\"#c51b7d\"],[0.2,\"#de77ae\"],[0.3,\"#f1b6da\"],[0.4,\"#fde0ef\"],[0.5,\"#f7f7f7\"],[0.6,\"#e6f5d0\"],[0.7,\"#b8e186\"],[0.8,\"#7fbc41\"],[0.9,\"#4d9221\"],[1,\"#276419\"]],\"sequential\":[[0.0,\"#0d0887\"],[0.1111111111111111,\"#46039f\"],[0.2222222222222222,\"#7201a8\"],[0.3333333333333333,\"#9c179e\"],[0.4444444444444444,\"#bd3786\"],[0.5555555555555556,\"#d8576b\"],[0.6666666666666666,\"#ed7953\"],[0.7777777777777778,\"#fb9f3a\"],[0.8888888888888888,\"#fdca26\"],[1.0,\"#f0f921\"]],\"sequentialminus\":[[0.0,\"#0d0887\"],[0.1111111111111111,\"#46039f\"],[0.2222222222222222,\"#7201a8\"],[0.3333333333333333,\"#9c179e\"],[0.4444444444444444,\"#bd3786\"],[0.5555555555555556,\"#d8576b\"],[0.6666666666666666,\"#ed7953\"],[0.7777777777777778,\"#fb9f3a\"],[0.8888888888888888,\"#fdca26\"],[1.0,\"#f0f921\"]]},\"colorway\":[\"#636efa\",\"#EF553B\",\"#00cc96\",\"#ab63fa\",\"#FFA15A\",\"#19d3f3\",\"#FF6692\",\"#B6E880\",\"#FF97FF\",\"#FECB52\"],\"font\":{\"color\":\"#2a3f5f\"},\"geo\":{\"bgcolor\":\"white\",\"lakecolor\":\"white\",\"landcolor\":\"#E5ECF6\",\"showlakes\":true,\"showland\":true,\"subunitcolor\":\"white\"},\"hoverlabel\":{\"align\":\"left\"},\"hovermode\":\"closest\",\"mapbox\":{\"style\":\"light\"},\"paper_bgcolor\":\"white\",\"plot_bgcolor\":\"#E5ECF6\",\"polar\":{\"angularaxis\":{\"gridcolor\":\"white\",\"linecolor\":\"white\",\"ticks\":\"\"},\"bgcolor\":\"#E5ECF6\",\"radialaxis\":{\"gridcolor\":\"white\",\"linecolor\":\"white\",\"ticks\":\"\"}},\"scene\":{\"xaxis\":{\"backgroundcolor\":\"#E5ECF6\",\"gridcolor\":\"white\",\"gridwidth\":2,\"linecolor\":\"white\",\"showbackground\":true,\"ticks\":\"\",\"zerolinecolor\":\"white\"},\"yaxis\":{\"backgroundcolor\":\"#E5ECF6\",\"gridcolor\":\"white\",\"gridwidth\":2,\"linecolor\":\"white\",\"showbackground\":true,\"ticks\":\"\",\"zerolinecolor\":\"white\"},\"zaxis\":{\"backgroundcolor\":\"#E5ECF6\",\"gridcolor\":\"white\",\"gridwidth\":2,\"linecolor\":\"white\",\"showbackground\":true,\"ticks\":\"\",\"zerolinecolor\":\"white\"}},\"shapedefaults\":{\"line\":{\"color\":\"#2a3f5f\"}},\"ternary\":{\"aaxis\":{\"gridcolor\":\"white\",\"linecolor\":\"white\",\"ticks\":\"\"},\"baxis\":{\"gridcolor\":\"white\",\"linecolor\":\"white\",\"ticks\":\"\"},\"bgcolor\":\"#E5ECF6\",\"caxis\":{\"gridcolor\":\"white\",\"linecolor\":\"white\",\"ticks\":\"\"}},\"title\":{\"x\":0.05},\"xaxis\":{\"automargin\":true,\"gridcolor\":\"white\",\"linecolor\":\"white\",\"ticks\":\"\",\"title\":{\"standoff\":15},\"zerolinecolor\":\"white\",\"zerolinewidth\":2},\"yaxis\":{\"automargin\":true,\"gridcolor\":\"white\",\"linecolor\":\"white\",\"ticks\":\"\",\"title\":{\"standoff\":15},\"zerolinecolor\":\"white\",\"zerolinewidth\":2}}},\"title\":{\"font\":{\"color\":\"#4D5663\"},\"text\":\"Distribuzione del numero di trades in 1 giorno (frequenza) [by Open]\"},\"xaxis\":{\"gridcolor\":\"#E1E5ED\",\"linecolor\":\"grey\",\"showgrid\":true,\"tickfont\":{\"color\":\"#4D5663\"},\"title\":{\"font\":{\"color\":\"#4D5663\"},\"text\":\"trades\"},\"zerolinecolor\":\"grey\"},\"yaxis\":{\"gridcolor\":\"#E1E5ED\",\"linecolor\":\"grey\",\"showgrid\":true,\"tickfont\":{\"color\":\"#4D5663\"},\"title\":{\"font\":{\"color\":\"#4D5663\"},\"text\":\"probability\"},\"zerolinecolor\":\"grey\"}},                        {\"responsive\": true}                    ).then(function(){\n",
       "                            \n",
       "var gd = document.getElementById('0414e1e6-cba6-49c5-9c60-d06eecb5624f');\n",
       "var x = new MutationObserver(function (mutations, observer) {{\n",
       "        var display = window.getComputedStyle(gd).display;\n",
       "        if (!display || display === 'none') {{\n",
       "            console.log([gd, 'removed!']);\n",
       "            Plotly.purge(gd);\n",
       "            observer.disconnect();\n",
       "        }}\n",
       "}});\n",
       "\n",
       "// Listen for the removal of the full notebook cells\n",
       "var notebookContainer = gd.closest('#notebook-container');\n",
       "if (notebookContainer) {{\n",
       "    x.observe(notebookContainer, {childList: true});\n",
       "}}\n",
       "\n",
       "// Listen for the clearing of the current output cell\n",
       "var outputEl = gd.closest('.output');\n",
       "if (outputEl) {{\n",
       "    x.observe(outputEl, {childList: true});\n",
       "}}\n",
       "\n",
       "                        })                };                });            </script>        </div>"
      ]
     },
     "metadata": {},
     "output_type": "display_data"
    }
   ],
   "source": [
    "df = df_100.groupby(pd.Grouper(freq='D')).count()\n",
    "df = df[df!=0].dropna(how='all')\n",
    "df['result'].iplot(kind='hist', histnorm='probability', colors=cf_colors, opacity=1, xTitle='trades',\n",
    "                   title='Distribuzione del numero di trades in 1 giorno (frequenza) [by Open]',\n",
    "                   yTitle='probability', bargroupgap=0.5, linecolor='grey', zerolinecolor='grey')"
   ]
  },
  {
   "cell_type": "code",
   "execution_count": 20,
   "id": "8587442c",
   "metadata": {
    "execution": {
     "iopub.execute_input": "2022-02-26T11:14:25.846001Z",
     "iopub.status.busy": "2022-02-26T11:14:25.839912Z",
     "iopub.status.idle": "2022-02-26T11:14:25.877655Z",
     "shell.execute_reply": "2022-02-26T11:14:25.878164Z",
     "shell.execute_reply.started": "2022-02-26T10:16:38.202990Z"
    },
    "papermill": {
     "duration": 0.107952,
     "end_time": "2022-02-26T11:14:25.878325",
     "exception": false,
     "start_time": "2022-02-26T11:14:25.770373",
     "status": "completed"
    },
    "tags": []
   },
   "outputs": [
    {
     "data": {
      "application/vnd.plotly.v1+json": {
       "config": {
        "linkText": "Export to plot.ly",
        "plotlyServerURL": "https://plot.ly",
        "showLink": false
       },
       "data": [
        {
         "marker": {
          "color": "rgba(63, 147, 202, 1)",
          "line": {
           "color": "rgba(63, 147, 202, 1.0)",
           "width": 1
          }
         },
         "name": "result",
         "orientation": "v",
         "text": "",
         "type": "bar",
         "x": [
          1.0,
          2.0,
          3.0,
          4.0,
          5.0,
          6.0
         ],
         "y": [
          52.25882739511506,
          10.87374996452933,
          -7.193661870047561,
          -12.50204390652641,
          -26.44904795688407,
          -4.930894490083878
         ]
        }
       ],
       "layout": {
        "legend": {
         "bgcolor": "#FFFFFF",
         "font": {
          "color": "#4D5663"
         }
        },
        "paper_bgcolor": "#FFFFFF",
        "plot_bgcolor": "#FFFFFF",
        "template": {
         "data": {
          "bar": [
           {
            "error_x": {
             "color": "#2a3f5f"
            },
            "error_y": {
             "color": "#2a3f5f"
            },
            "marker": {
             "line": {
              "color": "#E5ECF6",
              "width": 0.5
             },
             "pattern": {
              "fillmode": "overlay",
              "size": 10,
              "solidity": 0.2
             }
            },
            "type": "bar"
           }
          ],
          "barpolar": [
           {
            "marker": {
             "line": {
              "color": "#E5ECF6",
              "width": 0.5
             },
             "pattern": {
              "fillmode": "overlay",
              "size": 10,
              "solidity": 0.2
             }
            },
            "type": "barpolar"
           }
          ],
          "carpet": [
           {
            "aaxis": {
             "endlinecolor": "#2a3f5f",
             "gridcolor": "white",
             "linecolor": "white",
             "minorgridcolor": "white",
             "startlinecolor": "#2a3f5f"
            },
            "baxis": {
             "endlinecolor": "#2a3f5f",
             "gridcolor": "white",
             "linecolor": "white",
             "minorgridcolor": "white",
             "startlinecolor": "#2a3f5f"
            },
            "type": "carpet"
           }
          ],
          "choropleth": [
           {
            "colorbar": {
             "outlinewidth": 0,
             "ticks": ""
            },
            "type": "choropleth"
           }
          ],
          "contour": [
           {
            "colorbar": {
             "outlinewidth": 0,
             "ticks": ""
            },
            "colorscale": [
             [
              0.0,
              "#0d0887"
             ],
             [
              0.1111111111111111,
              "#46039f"
             ],
             [
              0.2222222222222222,
              "#7201a8"
             ],
             [
              0.3333333333333333,
              "#9c179e"
             ],
             [
              0.4444444444444444,
              "#bd3786"
             ],
             [
              0.5555555555555556,
              "#d8576b"
             ],
             [
              0.6666666666666666,
              "#ed7953"
             ],
             [
              0.7777777777777778,
              "#fb9f3a"
             ],
             [
              0.8888888888888888,
              "#fdca26"
             ],
             [
              1.0,
              "#f0f921"
             ]
            ],
            "type": "contour"
           }
          ],
          "contourcarpet": [
           {
            "colorbar": {
             "outlinewidth": 0,
             "ticks": ""
            },
            "type": "contourcarpet"
           }
          ],
          "heatmap": [
           {
            "colorbar": {
             "outlinewidth": 0,
             "ticks": ""
            },
            "colorscale": [
             [
              0.0,
              "#0d0887"
             ],
             [
              0.1111111111111111,
              "#46039f"
             ],
             [
              0.2222222222222222,
              "#7201a8"
             ],
             [
              0.3333333333333333,
              "#9c179e"
             ],
             [
              0.4444444444444444,
              "#bd3786"
             ],
             [
              0.5555555555555556,
              "#d8576b"
             ],
             [
              0.6666666666666666,
              "#ed7953"
             ],
             [
              0.7777777777777778,
              "#fb9f3a"
             ],
             [
              0.8888888888888888,
              "#fdca26"
             ],
             [
              1.0,
              "#f0f921"
             ]
            ],
            "type": "heatmap"
           }
          ],
          "heatmapgl": [
           {
            "colorbar": {
             "outlinewidth": 0,
             "ticks": ""
            },
            "colorscale": [
             [
              0.0,
              "#0d0887"
             ],
             [
              0.1111111111111111,
              "#46039f"
             ],
             [
              0.2222222222222222,
              "#7201a8"
             ],
             [
              0.3333333333333333,
              "#9c179e"
             ],
             [
              0.4444444444444444,
              "#bd3786"
             ],
             [
              0.5555555555555556,
              "#d8576b"
             ],
             [
              0.6666666666666666,
              "#ed7953"
             ],
             [
              0.7777777777777778,
              "#fb9f3a"
             ],
             [
              0.8888888888888888,
              "#fdca26"
             ],
             [
              1.0,
              "#f0f921"
             ]
            ],
            "type": "heatmapgl"
           }
          ],
          "histogram": [
           {
            "marker": {
             "pattern": {
              "fillmode": "overlay",
              "size": 10,
              "solidity": 0.2
             }
            },
            "type": "histogram"
           }
          ],
          "histogram2d": [
           {
            "colorbar": {
             "outlinewidth": 0,
             "ticks": ""
            },
            "colorscale": [
             [
              0.0,
              "#0d0887"
             ],
             [
              0.1111111111111111,
              "#46039f"
             ],
             [
              0.2222222222222222,
              "#7201a8"
             ],
             [
              0.3333333333333333,
              "#9c179e"
             ],
             [
              0.4444444444444444,
              "#bd3786"
             ],
             [
              0.5555555555555556,
              "#d8576b"
             ],
             [
              0.6666666666666666,
              "#ed7953"
             ],
             [
              0.7777777777777778,
              "#fb9f3a"
             ],
             [
              0.8888888888888888,
              "#fdca26"
             ],
             [
              1.0,
              "#f0f921"
             ]
            ],
            "type": "histogram2d"
           }
          ],
          "histogram2dcontour": [
           {
            "colorbar": {
             "outlinewidth": 0,
             "ticks": ""
            },
            "colorscale": [
             [
              0.0,
              "#0d0887"
             ],
             [
              0.1111111111111111,
              "#46039f"
             ],
             [
              0.2222222222222222,
              "#7201a8"
             ],
             [
              0.3333333333333333,
              "#9c179e"
             ],
             [
              0.4444444444444444,
              "#bd3786"
             ],
             [
              0.5555555555555556,
              "#d8576b"
             ],
             [
              0.6666666666666666,
              "#ed7953"
             ],
             [
              0.7777777777777778,
              "#fb9f3a"
             ],
             [
              0.8888888888888888,
              "#fdca26"
             ],
             [
              1.0,
              "#f0f921"
             ]
            ],
            "type": "histogram2dcontour"
           }
          ],
          "mesh3d": [
           {
            "colorbar": {
             "outlinewidth": 0,
             "ticks": ""
            },
            "type": "mesh3d"
           }
          ],
          "parcoords": [
           {
            "line": {
             "colorbar": {
              "outlinewidth": 0,
              "ticks": ""
             }
            },
            "type": "parcoords"
           }
          ],
          "pie": [
           {
            "automargin": true,
            "type": "pie"
           }
          ],
          "scatter": [
           {
            "marker": {
             "colorbar": {
              "outlinewidth": 0,
              "ticks": ""
             }
            },
            "type": "scatter"
           }
          ],
          "scatter3d": [
           {
            "line": {
             "colorbar": {
              "outlinewidth": 0,
              "ticks": ""
             }
            },
            "marker": {
             "colorbar": {
              "outlinewidth": 0,
              "ticks": ""
             }
            },
            "type": "scatter3d"
           }
          ],
          "scattercarpet": [
           {
            "marker": {
             "colorbar": {
              "outlinewidth": 0,
              "ticks": ""
             }
            },
            "type": "scattercarpet"
           }
          ],
          "scattergeo": [
           {
            "marker": {
             "colorbar": {
              "outlinewidth": 0,
              "ticks": ""
             }
            },
            "type": "scattergeo"
           }
          ],
          "scattergl": [
           {
            "marker": {
             "colorbar": {
              "outlinewidth": 0,
              "ticks": ""
             }
            },
            "type": "scattergl"
           }
          ],
          "scattermapbox": [
           {
            "marker": {
             "colorbar": {
              "outlinewidth": 0,
              "ticks": ""
             }
            },
            "type": "scattermapbox"
           }
          ],
          "scatterpolar": [
           {
            "marker": {
             "colorbar": {
              "outlinewidth": 0,
              "ticks": ""
             }
            },
            "type": "scatterpolar"
           }
          ],
          "scatterpolargl": [
           {
            "marker": {
             "colorbar": {
              "outlinewidth": 0,
              "ticks": ""
             }
            },
            "type": "scatterpolargl"
           }
          ],
          "scatterternary": [
           {
            "marker": {
             "colorbar": {
              "outlinewidth": 0,
              "ticks": ""
             }
            },
            "type": "scatterternary"
           }
          ],
          "surface": [
           {
            "colorbar": {
             "outlinewidth": 0,
             "ticks": ""
            },
            "colorscale": [
             [
              0.0,
              "#0d0887"
             ],
             [
              0.1111111111111111,
              "#46039f"
             ],
             [
              0.2222222222222222,
              "#7201a8"
             ],
             [
              0.3333333333333333,
              "#9c179e"
             ],
             [
              0.4444444444444444,
              "#bd3786"
             ],
             [
              0.5555555555555556,
              "#d8576b"
             ],
             [
              0.6666666666666666,
              "#ed7953"
             ],
             [
              0.7777777777777778,
              "#fb9f3a"
             ],
             [
              0.8888888888888888,
              "#fdca26"
             ],
             [
              1.0,
              "#f0f921"
             ]
            ],
            "type": "surface"
           }
          ],
          "table": [
           {
            "cells": {
             "fill": {
              "color": "#EBF0F8"
             },
             "line": {
              "color": "white"
             }
            },
            "header": {
             "fill": {
              "color": "#C8D4E3"
             },
             "line": {
              "color": "white"
             }
            },
            "type": "table"
           }
          ]
         },
         "layout": {
          "annotationdefaults": {
           "arrowcolor": "#2a3f5f",
           "arrowhead": 0,
           "arrowwidth": 1
          },
          "autotypenumbers": "strict",
          "coloraxis": {
           "colorbar": {
            "outlinewidth": 0,
            "ticks": ""
           }
          },
          "colorscale": {
           "diverging": [
            [
             0,
             "#8e0152"
            ],
            [
             0.1,
             "#c51b7d"
            ],
            [
             0.2,
             "#de77ae"
            ],
            [
             0.3,
             "#f1b6da"
            ],
            [
             0.4,
             "#fde0ef"
            ],
            [
             0.5,
             "#f7f7f7"
            ],
            [
             0.6,
             "#e6f5d0"
            ],
            [
             0.7,
             "#b8e186"
            ],
            [
             0.8,
             "#7fbc41"
            ],
            [
             0.9,
             "#4d9221"
            ],
            [
             1,
             "#276419"
            ]
           ],
           "sequential": [
            [
             0.0,
             "#0d0887"
            ],
            [
             0.1111111111111111,
             "#46039f"
            ],
            [
             0.2222222222222222,
             "#7201a8"
            ],
            [
             0.3333333333333333,
             "#9c179e"
            ],
            [
             0.4444444444444444,
             "#bd3786"
            ],
            [
             0.5555555555555556,
             "#d8576b"
            ],
            [
             0.6666666666666666,
             "#ed7953"
            ],
            [
             0.7777777777777778,
             "#fb9f3a"
            ],
            [
             0.8888888888888888,
             "#fdca26"
            ],
            [
             1.0,
             "#f0f921"
            ]
           ],
           "sequentialminus": [
            [
             0.0,
             "#0d0887"
            ],
            [
             0.1111111111111111,
             "#46039f"
            ],
            [
             0.2222222222222222,
             "#7201a8"
            ],
            [
             0.3333333333333333,
             "#9c179e"
            ],
            [
             0.4444444444444444,
             "#bd3786"
            ],
            [
             0.5555555555555556,
             "#d8576b"
            ],
            [
             0.6666666666666666,
             "#ed7953"
            ],
            [
             0.7777777777777778,
             "#fb9f3a"
            ],
            [
             0.8888888888888888,
             "#fdca26"
            ],
            [
             1.0,
             "#f0f921"
            ]
           ]
          },
          "colorway": [
           "#636efa",
           "#EF553B",
           "#00cc96",
           "#ab63fa",
           "#FFA15A",
           "#19d3f3",
           "#FF6692",
           "#B6E880",
           "#FF97FF",
           "#FECB52"
          ],
          "font": {
           "color": "#2a3f5f"
          },
          "geo": {
           "bgcolor": "white",
           "lakecolor": "white",
           "landcolor": "#E5ECF6",
           "showlakes": true,
           "showland": true,
           "subunitcolor": "white"
          },
          "hoverlabel": {
           "align": "left"
          },
          "hovermode": "closest",
          "mapbox": {
           "style": "light"
          },
          "paper_bgcolor": "white",
          "plot_bgcolor": "#E5ECF6",
          "polar": {
           "angularaxis": {
            "gridcolor": "white",
            "linecolor": "white",
            "ticks": ""
           },
           "bgcolor": "#E5ECF6",
           "radialaxis": {
            "gridcolor": "white",
            "linecolor": "white",
            "ticks": ""
           }
          },
          "scene": {
           "xaxis": {
            "backgroundcolor": "#E5ECF6",
            "gridcolor": "white",
            "gridwidth": 2,
            "linecolor": "white",
            "showbackground": true,
            "ticks": "",
            "zerolinecolor": "white"
           },
           "yaxis": {
            "backgroundcolor": "#E5ECF6",
            "gridcolor": "white",
            "gridwidth": 2,
            "linecolor": "white",
            "showbackground": true,
            "ticks": "",
            "zerolinecolor": "white"
           },
           "zaxis": {
            "backgroundcolor": "#E5ECF6",
            "gridcolor": "white",
            "gridwidth": 2,
            "linecolor": "white",
            "showbackground": true,
            "ticks": "",
            "zerolinecolor": "white"
           }
          },
          "shapedefaults": {
           "line": {
            "color": "#2a3f5f"
           }
          },
          "ternary": {
           "aaxis": {
            "gridcolor": "white",
            "linecolor": "white",
            "ticks": ""
           },
           "baxis": {
            "gridcolor": "white",
            "linecolor": "white",
            "ticks": ""
           },
           "bgcolor": "#E5ECF6",
           "caxis": {
            "gridcolor": "white",
            "linecolor": "white",
            "ticks": ""
           }
          },
          "title": {
           "x": 0.05
          },
          "xaxis": {
           "automargin": true,
           "gridcolor": "white",
           "linecolor": "white",
           "ticks": "",
           "title": {
            "standoff": 15
           },
           "zerolinecolor": "white",
           "zerolinewidth": 2
          },
          "yaxis": {
           "automargin": true,
           "gridcolor": "white",
           "linecolor": "white",
           "ticks": "",
           "title": {
            "standoff": 15
           },
           "zerolinecolor": "white",
           "zerolinewidth": 2
          }
         }
        },
        "title": {
         "font": {
          "color": "#4D5663"
         },
         "text": "Risultato cumulativo in base al numero di trade giornalieri (R) [by Open]"
        },
        "xaxis": {
         "gridcolor": "#E1E5ED",
         "showgrid": true,
         "tickfont": {
          "color": "#4D5663"
         },
         "title": {
          "font": {
           "color": "#4D5663"
          },
          "text": ""
         },
         "zerolinecolor": "grey"
        },
        "yaxis": {
         "gridcolor": "#E1E5ED",
         "showgrid": true,
         "tickfont": {
          "color": "#4D5663"
         },
         "title": {
          "font": {
           "color": "#4D5663"
          },
          "text": "R"
         },
         "zerolinecolor": "grey"
        }
       }
      },
      "text/html": [
       "<div>                            <div id=\"3f0c73b6-d3ea-442b-8879-84960f4cfb7d\" class=\"plotly-graph-div\" style=\"height:525px; width:100%;\"></div>            <script type=\"text/javascript\">                require([\"plotly\"], function(Plotly) {                    window.PLOTLYENV=window.PLOTLYENV || {};                                    if (document.getElementById(\"3f0c73b6-d3ea-442b-8879-84960f4cfb7d\")) {                    Plotly.newPlot(                        \"3f0c73b6-d3ea-442b-8879-84960f4cfb7d\",                        [{\"marker\":{\"color\":\"rgba(63, 147, 202, 1)\",\"line\":{\"color\":\"rgba(63, 147, 202, 1.0)\",\"width\":1}},\"name\":\"result\",\"orientation\":\"v\",\"text\":\"\",\"x\":[1.0,2.0,3.0,4.0,5.0,6.0],\"y\":[52.25882739511506,10.87374996452933,-7.193661870047561,-12.50204390652641,-26.44904795688407,-4.930894490083878],\"type\":\"bar\"}],                        {\"legend\":{\"bgcolor\":\"#FFFFFF\",\"font\":{\"color\":\"#4D5663\"}},\"paper_bgcolor\":\"#FFFFFF\",\"plot_bgcolor\":\"#FFFFFF\",\"template\":{\"data\":{\"barpolar\":[{\"marker\":{\"line\":{\"color\":\"#E5ECF6\",\"width\":0.5},\"pattern\":{\"fillmode\":\"overlay\",\"size\":10,\"solidity\":0.2}},\"type\":\"barpolar\"}],\"bar\":[{\"error_x\":{\"color\":\"#2a3f5f\"},\"error_y\":{\"color\":\"#2a3f5f\"},\"marker\":{\"line\":{\"color\":\"#E5ECF6\",\"width\":0.5},\"pattern\":{\"fillmode\":\"overlay\",\"size\":10,\"solidity\":0.2}},\"type\":\"bar\"}],\"carpet\":[{\"aaxis\":{\"endlinecolor\":\"#2a3f5f\",\"gridcolor\":\"white\",\"linecolor\":\"white\",\"minorgridcolor\":\"white\",\"startlinecolor\":\"#2a3f5f\"},\"baxis\":{\"endlinecolor\":\"#2a3f5f\",\"gridcolor\":\"white\",\"linecolor\":\"white\",\"minorgridcolor\":\"white\",\"startlinecolor\":\"#2a3f5f\"},\"type\":\"carpet\"}],\"choropleth\":[{\"colorbar\":{\"outlinewidth\":0,\"ticks\":\"\"},\"type\":\"choropleth\"}],\"contourcarpet\":[{\"colorbar\":{\"outlinewidth\":0,\"ticks\":\"\"},\"type\":\"contourcarpet\"}],\"contour\":[{\"colorbar\":{\"outlinewidth\":0,\"ticks\":\"\"},\"colorscale\":[[0.0,\"#0d0887\"],[0.1111111111111111,\"#46039f\"],[0.2222222222222222,\"#7201a8\"],[0.3333333333333333,\"#9c179e\"],[0.4444444444444444,\"#bd3786\"],[0.5555555555555556,\"#d8576b\"],[0.6666666666666666,\"#ed7953\"],[0.7777777777777778,\"#fb9f3a\"],[0.8888888888888888,\"#fdca26\"],[1.0,\"#f0f921\"]],\"type\":\"contour\"}],\"heatmapgl\":[{\"colorbar\":{\"outlinewidth\":0,\"ticks\":\"\"},\"colorscale\":[[0.0,\"#0d0887\"],[0.1111111111111111,\"#46039f\"],[0.2222222222222222,\"#7201a8\"],[0.3333333333333333,\"#9c179e\"],[0.4444444444444444,\"#bd3786\"],[0.5555555555555556,\"#d8576b\"],[0.6666666666666666,\"#ed7953\"],[0.7777777777777778,\"#fb9f3a\"],[0.8888888888888888,\"#fdca26\"],[1.0,\"#f0f921\"]],\"type\":\"heatmapgl\"}],\"heatmap\":[{\"colorbar\":{\"outlinewidth\":0,\"ticks\":\"\"},\"colorscale\":[[0.0,\"#0d0887\"],[0.1111111111111111,\"#46039f\"],[0.2222222222222222,\"#7201a8\"],[0.3333333333333333,\"#9c179e\"],[0.4444444444444444,\"#bd3786\"],[0.5555555555555556,\"#d8576b\"],[0.6666666666666666,\"#ed7953\"],[0.7777777777777778,\"#fb9f3a\"],[0.8888888888888888,\"#fdca26\"],[1.0,\"#f0f921\"]],\"type\":\"heatmap\"}],\"histogram2dcontour\":[{\"colorbar\":{\"outlinewidth\":0,\"ticks\":\"\"},\"colorscale\":[[0.0,\"#0d0887\"],[0.1111111111111111,\"#46039f\"],[0.2222222222222222,\"#7201a8\"],[0.3333333333333333,\"#9c179e\"],[0.4444444444444444,\"#bd3786\"],[0.5555555555555556,\"#d8576b\"],[0.6666666666666666,\"#ed7953\"],[0.7777777777777778,\"#fb9f3a\"],[0.8888888888888888,\"#fdca26\"],[1.0,\"#f0f921\"]],\"type\":\"histogram2dcontour\"}],\"histogram2d\":[{\"colorbar\":{\"outlinewidth\":0,\"ticks\":\"\"},\"colorscale\":[[0.0,\"#0d0887\"],[0.1111111111111111,\"#46039f\"],[0.2222222222222222,\"#7201a8\"],[0.3333333333333333,\"#9c179e\"],[0.4444444444444444,\"#bd3786\"],[0.5555555555555556,\"#d8576b\"],[0.6666666666666666,\"#ed7953\"],[0.7777777777777778,\"#fb9f3a\"],[0.8888888888888888,\"#fdca26\"],[1.0,\"#f0f921\"]],\"type\":\"histogram2d\"}],\"histogram\":[{\"marker\":{\"pattern\":{\"fillmode\":\"overlay\",\"size\":10,\"solidity\":0.2}},\"type\":\"histogram\"}],\"mesh3d\":[{\"colorbar\":{\"outlinewidth\":0,\"ticks\":\"\"},\"type\":\"mesh3d\"}],\"parcoords\":[{\"line\":{\"colorbar\":{\"outlinewidth\":0,\"ticks\":\"\"}},\"type\":\"parcoords\"}],\"pie\":[{\"automargin\":true,\"type\":\"pie\"}],\"scatter3d\":[{\"line\":{\"colorbar\":{\"outlinewidth\":0,\"ticks\":\"\"}},\"marker\":{\"colorbar\":{\"outlinewidth\":0,\"ticks\":\"\"}},\"type\":\"scatter3d\"}],\"scattercarpet\":[{\"marker\":{\"colorbar\":{\"outlinewidth\":0,\"ticks\":\"\"}},\"type\":\"scattercarpet\"}],\"scattergeo\":[{\"marker\":{\"colorbar\":{\"outlinewidth\":0,\"ticks\":\"\"}},\"type\":\"scattergeo\"}],\"scattergl\":[{\"marker\":{\"colorbar\":{\"outlinewidth\":0,\"ticks\":\"\"}},\"type\":\"scattergl\"}],\"scattermapbox\":[{\"marker\":{\"colorbar\":{\"outlinewidth\":0,\"ticks\":\"\"}},\"type\":\"scattermapbox\"}],\"scatterpolargl\":[{\"marker\":{\"colorbar\":{\"outlinewidth\":0,\"ticks\":\"\"}},\"type\":\"scatterpolargl\"}],\"scatterpolar\":[{\"marker\":{\"colorbar\":{\"outlinewidth\":0,\"ticks\":\"\"}},\"type\":\"scatterpolar\"}],\"scatter\":[{\"marker\":{\"colorbar\":{\"outlinewidth\":0,\"ticks\":\"\"}},\"type\":\"scatter\"}],\"scatterternary\":[{\"marker\":{\"colorbar\":{\"outlinewidth\":0,\"ticks\":\"\"}},\"type\":\"scatterternary\"}],\"surface\":[{\"colorbar\":{\"outlinewidth\":0,\"ticks\":\"\"},\"colorscale\":[[0.0,\"#0d0887\"],[0.1111111111111111,\"#46039f\"],[0.2222222222222222,\"#7201a8\"],[0.3333333333333333,\"#9c179e\"],[0.4444444444444444,\"#bd3786\"],[0.5555555555555556,\"#d8576b\"],[0.6666666666666666,\"#ed7953\"],[0.7777777777777778,\"#fb9f3a\"],[0.8888888888888888,\"#fdca26\"],[1.0,\"#f0f921\"]],\"type\":\"surface\"}],\"table\":[{\"cells\":{\"fill\":{\"color\":\"#EBF0F8\"},\"line\":{\"color\":\"white\"}},\"header\":{\"fill\":{\"color\":\"#C8D4E3\"},\"line\":{\"color\":\"white\"}},\"type\":\"table\"}]},\"layout\":{\"annotationdefaults\":{\"arrowcolor\":\"#2a3f5f\",\"arrowhead\":0,\"arrowwidth\":1},\"autotypenumbers\":\"strict\",\"coloraxis\":{\"colorbar\":{\"outlinewidth\":0,\"ticks\":\"\"}},\"colorscale\":{\"diverging\":[[0,\"#8e0152\"],[0.1,\"#c51b7d\"],[0.2,\"#de77ae\"],[0.3,\"#f1b6da\"],[0.4,\"#fde0ef\"],[0.5,\"#f7f7f7\"],[0.6,\"#e6f5d0\"],[0.7,\"#b8e186\"],[0.8,\"#7fbc41\"],[0.9,\"#4d9221\"],[1,\"#276419\"]],\"sequential\":[[0.0,\"#0d0887\"],[0.1111111111111111,\"#46039f\"],[0.2222222222222222,\"#7201a8\"],[0.3333333333333333,\"#9c179e\"],[0.4444444444444444,\"#bd3786\"],[0.5555555555555556,\"#d8576b\"],[0.6666666666666666,\"#ed7953\"],[0.7777777777777778,\"#fb9f3a\"],[0.8888888888888888,\"#fdca26\"],[1.0,\"#f0f921\"]],\"sequentialminus\":[[0.0,\"#0d0887\"],[0.1111111111111111,\"#46039f\"],[0.2222222222222222,\"#7201a8\"],[0.3333333333333333,\"#9c179e\"],[0.4444444444444444,\"#bd3786\"],[0.5555555555555556,\"#d8576b\"],[0.6666666666666666,\"#ed7953\"],[0.7777777777777778,\"#fb9f3a\"],[0.8888888888888888,\"#fdca26\"],[1.0,\"#f0f921\"]]},\"colorway\":[\"#636efa\",\"#EF553B\",\"#00cc96\",\"#ab63fa\",\"#FFA15A\",\"#19d3f3\",\"#FF6692\",\"#B6E880\",\"#FF97FF\",\"#FECB52\"],\"font\":{\"color\":\"#2a3f5f\"},\"geo\":{\"bgcolor\":\"white\",\"lakecolor\":\"white\",\"landcolor\":\"#E5ECF6\",\"showlakes\":true,\"showland\":true,\"subunitcolor\":\"white\"},\"hoverlabel\":{\"align\":\"left\"},\"hovermode\":\"closest\",\"mapbox\":{\"style\":\"light\"},\"paper_bgcolor\":\"white\",\"plot_bgcolor\":\"#E5ECF6\",\"polar\":{\"angularaxis\":{\"gridcolor\":\"white\",\"linecolor\":\"white\",\"ticks\":\"\"},\"bgcolor\":\"#E5ECF6\",\"radialaxis\":{\"gridcolor\":\"white\",\"linecolor\":\"white\",\"ticks\":\"\"}},\"scene\":{\"xaxis\":{\"backgroundcolor\":\"#E5ECF6\",\"gridcolor\":\"white\",\"gridwidth\":2,\"linecolor\":\"white\",\"showbackground\":true,\"ticks\":\"\",\"zerolinecolor\":\"white\"},\"yaxis\":{\"backgroundcolor\":\"#E5ECF6\",\"gridcolor\":\"white\",\"gridwidth\":2,\"linecolor\":\"white\",\"showbackground\":true,\"ticks\":\"\",\"zerolinecolor\":\"white\"},\"zaxis\":{\"backgroundcolor\":\"#E5ECF6\",\"gridcolor\":\"white\",\"gridwidth\":2,\"linecolor\":\"white\",\"showbackground\":true,\"ticks\":\"\",\"zerolinecolor\":\"white\"}},\"shapedefaults\":{\"line\":{\"color\":\"#2a3f5f\"}},\"ternary\":{\"aaxis\":{\"gridcolor\":\"white\",\"linecolor\":\"white\",\"ticks\":\"\"},\"baxis\":{\"gridcolor\":\"white\",\"linecolor\":\"white\",\"ticks\":\"\"},\"bgcolor\":\"#E5ECF6\",\"caxis\":{\"gridcolor\":\"white\",\"linecolor\":\"white\",\"ticks\":\"\"}},\"title\":{\"x\":0.05},\"xaxis\":{\"automargin\":true,\"gridcolor\":\"white\",\"linecolor\":\"white\",\"ticks\":\"\",\"title\":{\"standoff\":15},\"zerolinecolor\":\"white\",\"zerolinewidth\":2},\"yaxis\":{\"automargin\":true,\"gridcolor\":\"white\",\"linecolor\":\"white\",\"ticks\":\"\",\"title\":{\"standoff\":15},\"zerolinecolor\":\"white\",\"zerolinewidth\":2}}},\"title\":{\"font\":{\"color\":\"#4D5663\"},\"text\":\"Risultato cumulativo in base al numero di trade giornalieri (R) [by Open]\"},\"xaxis\":{\"gridcolor\":\"#E1E5ED\",\"showgrid\":true,\"tickfont\":{\"color\":\"#4D5663\"},\"title\":{\"font\":{\"color\":\"#4D5663\"},\"text\":\"\"},\"zerolinecolor\":\"grey\"},\"yaxis\":{\"gridcolor\":\"#E1E5ED\",\"showgrid\":true,\"tickfont\":{\"color\":\"#4D5663\"},\"title\":{\"font\":{\"color\":\"#4D5663\"},\"text\":\"R\"},\"zerolinecolor\":\"grey\"}},                        {\"responsive\": true}                    ).then(function(){\n",
       "                            \n",
       "var gd = document.getElementById('3f0c73b6-d3ea-442b-8879-84960f4cfb7d');\n",
       "var x = new MutationObserver(function (mutations, observer) {{\n",
       "        var display = window.getComputedStyle(gd).display;\n",
       "        if (!display || display === 'none') {{\n",
       "            console.log([gd, 'removed!']);\n",
       "            Plotly.purge(gd);\n",
       "            observer.disconnect();\n",
       "        }}\n",
       "}});\n",
       "\n",
       "// Listen for the removal of the full notebook cells\n",
       "var notebookContainer = gd.closest('#notebook-container');\n",
       "if (notebookContainer) {{\n",
       "    x.observe(notebookContainer, {childList: true});\n",
       "}}\n",
       "\n",
       "// Listen for the clearing of the current output cell\n",
       "var outputEl = gd.closest('.output');\n",
       "if (outputEl) {{\n",
       "    x.observe(outputEl, {childList: true});\n",
       "}}\n",
       "\n",
       "                        })                };                });            </script>        </div>"
      ]
     },
     "metadata": {},
     "output_type": "display_data"
    }
   ],
   "source": [
    "df['result'] = df_100.groupby(pd.Grouper(freq='D')).sum()['result']\n",
    "df.groupby('close').sum().loc[1:, 'result'].iplot(kind='bar', opacity=1, colors=cf_colors,\n",
    "                                                  title='Risultato cumulativo in base al numero di trade giornalieri (R) [by Open]',\n",
    "                                                  yTitle='R', zerolinecolor='grey')"
   ]
  },
  {
   "cell_type": "markdown",
   "id": "3c7402ba",
   "metadata": {
    "papermill": {
     "duration": 0.067299,
     "end_time": "2022-02-26T11:14:26.013026",
     "exception": false,
     "start_time": "2022-02-26T11:14:25.945727",
     "status": "completed"
    },
    "tags": []
   },
   "source": [
    "***\n",
    "## Limite al numero di trades giornalieri\n",
    "E' chiaro che il numero di trades giornalieri influisce sul risultato della strategia:\n",
    " - Proviamo a limitire il numero massimo di operazioni giornaliere\n",
    " - Paragonerò la strategia 60_40 visto che si è rivelata più profittevole"
   ]
  },
  {
   "cell_type": "code",
   "execution_count": 21,
   "id": "dc5711d9",
   "metadata": {
    "execution": {
     "iopub.execute_input": "2022-02-26T11:14:26.152525Z",
     "iopub.status.busy": "2022-02-26T11:14:26.151886Z",
     "iopub.status.idle": "2022-02-26T11:14:27.251664Z",
     "shell.execute_reply": "2022-02-26T11:14:27.251097Z",
     "shell.execute_reply.started": "2022-02-26T10:51:14.740313Z"
    },
    "papermill": {
     "duration": 1.169611,
     "end_time": "2022-02-26T11:14:27.251816",
     "exception": false,
     "start_time": "2022-02-26T11:14:26.082205",
     "status": "completed"
    },
    "tags": []
   },
   "outputs": [],
   "source": [
    "def reduce_n_trades_max(df, max_trades):\n",
    "    df = df[:]\n",
    "    df['counter'] = 1\n",
    "    # this adds a daily trades tracker, by using transform (which I have no clue how it works tbh)\n",
    "    df['counter'] = df[['counter']].groupby(pd.Grouper(freq='D')).transform(lambda x: x.cumsum())\n",
    "    return df[df.counter <= max_trades].drop('counter', axis=1)\n",
    "\n",
    "max_2_60_40_by_close = reduce_n_trades_max(df_60_40, 2).set_index('close').sort_index()\n",
    "max_3_60_40_by_close = reduce_n_trades_max(df_60_40, 3).set_index('close').sort_index()\n",
    "max_4_60_40_by_close = reduce_n_trades_max(df_60_40, 4).set_index('close').sort_index()\n",
    "merged = merge({'60_40_max_2': max_2_60_40_by_close,\n",
    "                '60_40_max_3': max_3_60_40_by_close,\n",
    "                '60_40_max_4': max_4_60_40_by_close,\n",
    "                '60_40_old': df_60_40_by_close})"
   ]
  },
  {
   "cell_type": "code",
   "execution_count": 22,
   "id": "0130083b",
   "metadata": {
    "execution": {
     "iopub.execute_input": "2022-02-26T11:14:27.390399Z",
     "iopub.status.busy": "2022-02-26T11:14:27.389824Z",
     "iopub.status.idle": "2022-02-26T11:14:27.465351Z",
     "shell.execute_reply": "2022-02-26T11:14:27.465865Z",
     "shell.execute_reply.started": "2022-02-26T10:51:16.040377Z"
    },
    "papermill": {
     "duration": 0.145941,
     "end_time": "2022-02-26T11:14:27.466033",
     "exception": false,
     "start_time": "2022-02-26T11:14:27.320092",
     "status": "completed"
    },
    "tags": []
   },
   "outputs": [
    {
     "data": {
      "application/vnd.plotly.v1+json": {
       "config": {
        "linkText": "Export to plot.ly",
        "plotlyServerURL": "https://plot.ly",
        "showLink": false
       },
       "data": [
        {
         "connectgaps": true,
         "fill": "tozeroy",
         "fillcolor": "rgba(63, 147, 202, 0.3)",
         "line": {
          "color": "rgba(63, 147, 202, 1.0)",
          "dash": "solid",
          "shape": "hv",
          "width": 2
         },
         "mode": "lines",
         "name": "result_60_40_max_2",
         "text": "",
         "type": "scatter",
         "x": [
          "2020-11-05 13:05:00+00:00",
          "2020-11-05 13:42:00+00:00",
          "2020-11-06 03:27:00+00:00",
          "2020-11-09 09:57:00+00:00",
          "2020-11-11 00:06:00+00:00",
          "2020-11-11 01:02:00+00:00",
          "2020-11-30 07:16:00+00:00",
          "2020-12-01 07:07:00+00:00",
          "2020-12-01 12:58:00+00:00",
          "2020-12-01 14:22:00+00:00",
          "2020-12-04 13:30:00+00:00",
          "2020-12-07 12:48:00+00:00",
          "2020-12-09 07:48:00+00:00",
          "2020-12-10 15:32:00+00:00",
          "2020-12-11 07:36:00+00:00",
          "2020-12-16 07:52:00+00:00",
          "2020-12-17 14:22:00+00:00",
          "2020-12-17 15:04:00+00:00",
          "2020-12-17 16:07:00+00:00",
          "2020-12-18 07:16:00+00:00",
          "2020-12-18 08:27:00+00:00",
          "2020-12-21 14:22:00+00:00",
          "2020-12-22 14:57:00+00:00",
          "2020-12-22 16:01:00+00:00",
          "2020-12-30 13:50:00+00:00",
          "2020-12-31 07:59:00+00:00",
          "2021-01-04 08:34:00+00:00",
          "2021-01-05 11:14:00+00:00",
          "2021-01-07 16:42:00+00:00",
          "2021-01-08 05:17:00+00:00",
          "2021-01-08 17:09:00+00:00",
          "2021-01-11 12:18:00+00:00",
          "2021-01-11 15:19:00+00:00",
          "2021-01-12 09:53:00+00:00",
          "2021-01-15 15:08:00+00:00",
          "2021-01-19 07:24:00+00:00",
          "2021-01-20 14:22:00+00:00",
          "2021-01-21 13:33:00+00:00",
          "2021-01-21 14:19:00+00:00",
          "2021-01-22 13:16:00+00:00",
          "2021-01-25 15:50:00+00:00",
          "2021-01-26 14:17:00+00:00",
          "2021-01-28 01:10:00+00:00",
          "2021-01-29 06:48:00+00:00",
          "2021-01-29 08:08:00+00:00",
          "2021-02-01 08:51:00+00:00",
          "2021-02-01 12:16:00+00:00",
          "2021-02-01 13:13:00+00:00",
          "2021-02-01 13:15:00+00:00",
          "2021-02-01 13:16:00+00:00",
          "2021-02-02 08:20:00+00:00",
          "2021-02-03 04:40:00+00:00",
          "2021-02-03 08:04:00+00:00",
          "2021-02-03 17:29:00+00:00",
          "2021-02-05 08:00:00+00:00",
          "2021-02-08 10:27:00+00:00",
          "2021-02-09 07:00:00+00:00",
          "2021-02-16 14:00:00+00:00",
          "2021-02-17 12:43:00+00:00",
          "2021-02-18 08:00:00+00:00",
          "2021-02-22 07:10:00+00:00",
          "2021-02-23 07:00:00+00:00",
          "2021-02-23 10:00:00+00:00",
          "2021-02-24 08:12:00+00:00",
          "2021-02-25 07:00:00+00:00",
          "2021-02-25 08:00:00+00:00",
          "2021-02-25 08:36:00+00:00",
          "2021-03-01 13:00:00+00:00",
          "2021-03-01 15:59:00+00:00",
          "2021-03-02 08:56:00+00:00",
          "2021-03-02 15:00:00+00:00",
          "2021-03-03 11:39:00+00:00",
          "2021-03-03 15:59:00+00:00",
          "2021-03-05 13:00:00+00:00",
          "2021-03-09 05:00:00+00:00",
          "2021-03-09 07:36:00+00:00",
          "2021-03-09 08:00:00+00:00",
          "2021-03-09 16:00:00+00:00",
          "2021-03-10 06:00:00+00:00",
          "2021-03-10 08:00:00+00:00",
          "2021-03-10 14:00:00+00:00",
          "2021-03-12 09:00:00+00:00",
          "2021-03-12 16:42:00+00:00",
          "2021-03-15 10:55:00+00:00",
          "2021-03-16 05:44:00+00:00",
          "2021-03-16 07:57:00+00:00",
          "2021-03-17 07:04:00+00:00",
          "2021-03-17 13:50:00+00:00",
          "2021-03-18 03:35:00+00:00",
          "2021-03-18 05:27:00+00:00",
          "2021-03-19 04:22:00+00:00",
          "2021-03-19 08:00:00+00:00",
          "2021-03-22 05:36:00+00:00",
          "2021-03-22 06:48:00+00:00",
          "2021-03-22 12:03:00+00:00",
          "2021-03-23 04:27:00+00:00",
          "2021-03-23 06:16:00+00:00",
          "2021-03-24 02:36:00+00:00",
          "2021-03-24 08:20:00+00:00",
          "2021-03-25 04:48:00+00:00",
          "2021-03-26 06:49:00+00:00",
          "2021-03-29 05:00:00+00:00",
          "2021-03-29 07:51:00+00:00",
          "2021-03-30 05:55:00+00:00",
          "2021-03-30 08:00:00+00:00",
          "2021-03-31 13:00:00+00:00",
          "2021-04-01 07:00:00+00:00",
          "2021-04-01 08:00:00+00:00",
          "2021-04-05 12:00:00+00:00",
          "2021-04-06 13:45:00+00:00",
          "2021-04-06 14:00:00+00:00",
          "2021-04-07 05:51:00+00:00",
          "2021-04-07 06:30:00+00:00",
          "2021-04-07 07:00:00+00:00",
          "2021-04-08 07:00:00+00:00",
          "2021-04-08 08:46:00+00:00",
          "2021-04-08 09:37:00+00:00",
          "2021-04-09 12:00:00+00:00",
          "2021-04-12 02:14:00+00:00",
          "2021-04-12 05:45:00+00:00",
          "2021-04-12 08:00:00+00:00",
          "2021-04-13 07:00:00+00:00",
          "2021-04-13 07:57:00+00:00",
          "2021-04-13 10:00:00+00:00",
          "2021-04-14 06:38:00+00:00",
          "2021-04-14 07:00:00+00:00",
          "2021-04-14 08:17:00+00:00",
          "2021-04-14 09:41:00+00:00",
          "2021-04-16 10:00:00+00:00",
          "2021-04-19 08:00:00+00:00",
          "2021-04-19 08:54:00+00:00",
          "2021-04-19 10:00:00+00:00",
          "2021-04-20 06:00:00+00:00",
          "2021-04-20 13:00:00+00:00",
          "2021-04-21 07:00:00+00:00",
          "2021-04-21 07:57:00+00:00",
          "2021-04-22 07:00:00+00:00",
          "2021-04-22 08:42:00+00:00",
          "2021-04-22 12:00:00+00:00",
          "2021-04-22 12:33:00+00:00",
          "2021-04-23 12:00:00+00:00",
          "2021-04-23 12:22:00+00:00",
          "2021-04-26 11:00:00+00:00",
          "2021-04-26 12:40:00+00:00",
          "2021-04-27 14:00:00+00:00",
          "2021-04-28 13:00:00+00:00",
          "2021-04-29 16:00:00+00:00",
          "2021-04-29 16:29:00+00:00",
          "2021-04-30 01:00:00+00:00",
          "2021-04-30 06:00:00+00:00",
          "2021-04-30 06:18:00+00:00",
          "2021-04-30 10:08:00+00:00",
          "2021-04-30 14:52:00+00:00",
          "2021-05-03 12:44:00+00:00",
          "2021-05-04 13:00:00+00:00",
          "2021-05-04 13:49:00+00:00",
          "2021-05-04 15:00:00+00:00",
          "2021-05-05 13:36:00+00:00",
          "2021-05-05 14:00:00+00:00",
          "2021-05-06 10:00:00+00:00",
          "2021-05-06 14:00:00+00:00",
          "2021-05-07 12:00:00+00:00",
          "2021-05-10 05:00:00+00:00",
          "2021-05-10 06:00:00+00:00",
          "2021-05-10 14:00:00+00:00",
          "2021-05-11 08:00:00+00:00",
          "2021-05-11 10:00:00+00:00",
          "2021-05-11 12:00:00+00:00",
          "2021-05-11 13:19:00+00:00",
          "2021-05-12 12:00:00+00:00",
          "2021-05-13 05:00:00+00:00",
          "2021-05-13 07:53:00+00:00",
          "2021-05-14 06:00:00+00:00",
          "2021-05-14 13:00:00+00:00",
          "2021-05-17 15:00:00+00:00",
          "2021-05-19 00:00:00+00:00",
          "2021-05-19 12:00:00+00:00",
          "2021-05-20 09:00:00+00:00",
          "2021-05-24 13:47:00+00:00",
          "2021-05-26 07:14:00+00:00",
          "2021-05-26 13:00:00+00:00",
          "2021-05-27 02:41:00+00:00",
          "2021-05-27 07:00:00+00:00",
          "2021-06-08 07:00:00+00:00",
          "2021-06-08 10:00:00+00:00",
          "2021-06-08 12:00:00+00:00",
          "2021-06-08 13:00:00+00:00",
          "2021-06-09 08:00:00+00:00",
          "2021-06-10 12:00:00+00:00",
          "2021-06-11 16:00:00+00:00",
          "2021-06-14 16:29:00+00:00",
          "2021-06-15 08:00:00+00:00",
          "2021-06-15 13:38:00+00:00",
          "2021-06-17 07:00:00+00:00",
          "2021-06-21 03:00:00+00:00",
          "2021-06-21 06:00:00+00:00",
          "2021-06-22 05:00:00+00:00",
          "2021-06-22 07:00:00+00:00",
          "2021-06-22 08:00:00+00:00",
          "2021-06-30 07:00:00+00:00",
          "2021-07-01 07:00:00+00:00",
          "2021-07-01 11:00:00+00:00",
          "2021-07-06 07:00:00+00:00",
          "2021-07-06 16:00:00+00:00",
          "2021-07-07 04:00:00+00:00",
          "2021-07-07 05:56:00+00:00",
          "2021-07-07 13:50:00+00:00",
          "2021-07-08 13:36:00+00:00",
          "2021-07-09 07:27:00+00:00",
          "2021-07-09 10:00:00+00:00",
          "2021-07-12 07:00:00+00:00",
          "2021-07-12 07:28:00+00:00",
          "2021-07-12 10:00:00+00:00",
          "2021-07-12 13:00:00+00:00",
          "2021-07-13 05:00:00+00:00",
          "2021-07-14 13:00:00+00:00",
          "2021-07-15 07:27:00+00:00",
          "2021-07-16 07:51:00+00:00",
          "2021-07-19 06:00:00+00:00",
          "2021-07-20 03:28:00+00:00",
          "2021-07-20 14:01:00+00:00",
          "2021-07-21 07:00:00+00:00",
          "2021-07-22 07:00:00+00:00",
          "2021-07-23 07:21:00+00:00",
          "2021-07-23 12:38:00+00:00",
          "2021-07-26 08:44:00+00:00",
          "2021-07-26 09:00:00+00:00",
          "2021-07-27 06:00:00+00:00",
          "2021-07-27 07:00:00+00:00",
          "2021-07-27 08:20:00+00:00",
          "2021-07-27 13:00:00+00:00",
          "2021-07-27 14:50:00+00:00",
          "2021-07-29 08:00:00+00:00",
          "2021-07-30 07:00:00+00:00",
          "2021-08-02 09:00:00+00:00",
          "2021-08-03 08:00:00+00:00",
          "2021-08-04 12:00:00+00:00",
          "2021-08-05 14:00:00+00:00",
          "2021-08-09 08:00:00+00:00",
          "2021-08-09 09:28:00+00:00",
          "2021-08-10 08:00:00+00:00",
          "2021-08-11 12:00:00+00:00",
          "2021-08-11 16:29:00+00:00",
          "2021-08-12 11:00:00+00:00",
          "2021-08-12 13:00:00+00:00",
          "2021-08-12 14:00:00+00:00",
          "2021-08-13 07:00:00+00:00",
          "2021-08-16 06:00:00+00:00",
          "2021-08-16 11:00:00+00:00",
          "2021-08-17 06:00:00+00:00",
          "2021-08-17 07:06:00+00:00",
          "2021-08-17 10:00:00+00:00",
          "2021-08-17 16:00:00+00:00",
          "2021-08-18 08:00:00+00:00",
          "2021-08-18 11:49:00+00:00",
          "2021-08-19 06:00:00+00:00",
          "2021-08-19 06:27:00+00:00",
          "2021-08-19 07:00:00+00:00",
          "2021-08-19 07:57:00+00:00",
          "2021-08-19 12:41:00+00:00",
          "2021-08-19 14:00:00+00:00",
          "2021-08-20 05:00:00+00:00",
          "2021-08-20 08:00:00+00:00",
          "2021-08-20 11:00:00+00:00",
          "2021-08-20 13:00:00+00:00",
          "2021-08-20 13:46:00+00:00",
          "2021-08-23 06:00:00+00:00",
          "2021-08-23 14:00:00+00:00",
          "2021-08-24 07:00:00+00:00",
          "2021-08-24 08:00:00+00:00",
          "2021-08-24 10:00:00+00:00",
          "2021-08-24 13:31:00+00:00",
          "2021-08-25 14:00:00+00:00",
          "2021-08-26 11:00:00+00:00",
          "2021-08-26 12:36:00+00:00",
          "2021-08-27 06:56:00+00:00",
          "2021-08-30 16:29:00+00:00",
          "2021-08-31 06:34:00+00:00",
          "2021-09-01 07:00:00+00:00",
          "2021-09-02 07:38:00+00:00",
          "2021-09-06 15:04:00+00:00",
          "2021-09-07 10:00:00+00:00",
          "2021-09-07 16:00:00+00:00",
          "2021-09-08 14:00:00+00:00",
          "2021-09-08 16:29:00+00:00",
          "2021-09-13 06:41:00+00:00",
          "2021-09-13 10:00:00+00:00",
          "2021-09-15 13:55:00+00:00",
          "2021-09-16 11:35:00+00:00",
          "2021-09-17 13:54:00+00:00",
          "2021-09-20 06:10:00+00:00",
          "2021-09-20 06:45:00+00:00",
          "2021-09-23 08:12:00+00:00",
          "2021-09-23 10:11:00+00:00",
          "2021-09-23 10:49:00+00:00",
          "2021-09-23 11:08:00+00:00",
          "2021-09-24 13:33:00+00:00",
          "2021-09-27 11:13:00+00:00",
          "2021-09-28 09:50:00+00:00",
          "2021-09-29 13:34:00+00:00",
          "2021-09-29 14:45:00+00:00",
          "2021-09-30 15:12:00+00:00",
          "2021-10-01 06:54:00+00:00",
          "2021-10-01 09:35:00+00:00",
          "2021-10-04 07:06:00+00:00",
          "2021-10-04 08:00:00+00:00",
          "2021-10-05 14:45:00+00:00",
          "2021-10-07 09:17:00+00:00",
          "2021-10-08 14:05:00+00:00",
          "2021-10-12 06:45:00+00:00",
          "2021-10-12 09:12:00+00:00",
          "2021-10-12 12:04:00+00:00",
          "2021-10-13 10:16:00+00:00",
          "2021-10-25 08:56:00+00:00",
          "2021-10-25 09:23:00+00:00",
          "2021-10-25 10:50:00+00:00",
          "2021-10-25 13:50:00+00:00",
          "2021-10-27 08:42:00+00:00",
          "2021-10-27 09:01:00+00:00",
          "2021-10-27 10:48:00+00:00",
          "2021-10-28 07:59:00+00:00",
          "2021-11-01 09:00:00+00:00",
          "2021-11-01 10:59:00+00:00",
          "2021-11-02 08:52:00+00:00",
          "2021-11-02 12:00:00+00:00",
          "2021-11-03 12:56:00+00:00",
          "2021-11-04 08:15:00+00:00",
          "2021-11-04 08:44:00+00:00",
          "2021-11-04 10:09:00+00:00",
          "2021-11-04 11:36:00+00:00",
          "2021-11-04 12:00:00+00:00",
          "2021-11-08 15:28:00+00:00",
          "2021-11-08 17:29:00+00:00",
          "2021-11-09 08:12:00+00:00",
          "2021-11-09 14:54:00+00:00",
          "2021-11-11 17:29:00+00:00",
          "2021-11-17 17:29:00+00:00",
          "2021-11-18 05:05:00+00:00",
          "2021-11-18 06:11:00+00:00",
          "2021-11-18 09:20:00+00:00",
          "2021-11-22 11:48:00+00:00",
          "2021-11-24 04:01:00+00:00",
          "2021-11-24 07:58:00+00:00",
          "2021-11-24 08:00:00+00:00",
          "2021-11-24 17:29:00+00:00",
          "2021-11-29 10:55:00+00:00",
          "2021-11-30 05:19:00+00:00",
          "2021-11-30 06:01:00+00:00",
          "2021-11-30 11:15:00+00:00",
          "2021-11-30 13:32:00+00:00",
          "2021-11-30 14:45:00+00:00",
          "2021-12-02 13:45:00+00:00",
          "2021-12-02 17:10:00+00:00",
          "2021-12-03 11:02:00+00:00",
          "2021-12-03 12:01:00+00:00",
          "2021-12-06 16:19:00+00:00",
          "2021-12-07 08:33:00+00:00",
          "2021-12-07 09:09:00+00:00",
          "2021-12-07 10:52:00+00:00",
          "2021-12-07 11:23:00+00:00",
          "2021-12-07 13:18:00+00:00",
          "2021-12-08 10:36:00+00:00",
          "2021-12-08 13:54:00+00:00",
          "2021-12-09 10:42:00+00:00",
          "2021-12-09 10:48:00+00:00",
          "2021-12-09 14:24:00+00:00",
          "2021-12-13 10:17:00+00:00",
          "2021-12-14 11:10:00+00:00",
          "2021-12-15 14:59:00+00:00",
          "2021-12-16 08:15:00+00:00",
          "2021-12-17 10:03:00+00:00",
          "2021-12-17 12:47:00+00:00",
          "2021-12-20 13:14:00+00:00",
          "2021-12-21 16:13:00+00:00",
          "2021-12-27 12:32:00+00:00",
          "2022-01-04 08:01:00+00:00",
          "2022-01-04 09:45:00+00:00",
          "2022-01-05 10:37:00+00:00",
          "2022-01-05 16:20:00+00:00",
          "2022-01-06 10:13:00+00:00",
          "2022-01-12 13:06:00+00:00",
          "2022-01-13 12:01:00+00:00",
          "2022-01-14 12:24:00+00:00",
          "2022-01-14 12:28:00+00:00",
          "2022-01-17 12:06:00+00:00",
          "2022-01-17 15:28:00+00:00",
          "2022-01-18 08:15:00+00:00",
          "2022-01-19 09:45:00+00:00",
          "2022-01-20 08:21:00+00:00",
          "2022-01-20 10:35:00+00:00",
          "2022-01-20 11:56:00+00:00",
          "2022-01-24 11:26:00+00:00",
          "2022-01-24 13:31:00+00:00",
          "2022-01-24 15:11:00+00:00",
          "2022-01-25 11:55:00+00:00",
          "2022-01-26 16:23:00+00:00",
          "2022-01-27 11:38:00+00:00",
          "2022-01-31 16:42:00+00:00",
          "2022-02-01 15:25:00+00:00"
         ],
         "y": [
          -0.9999999999999464,
          -2.0036496350363597,
          -2.025780782577239,
          -2.062071105157828,
          -3.062071105157912,
          -4.067071105157737,
          -2.1861187242053344,
          -3.1907058801686103,
          -2.863512897712478,
          "",
          -3.858925741749365,
          -3.3584832638732465,
          -2.9584832638732315,
          -3.9535327688238344,
          -3.587011029693392,
          -1.127011029693299,
          -2.127011029693313,
          -3.1270110296933193,
          "",
          -3.278984713903842,
          -4.275438614613083,
          -3.2827201680110787,
          -4.282720168011028,
          -5.284518729162034,
          -5.153450767996967,
          -6.156426958473125,
          -4.739229506243883,
          -4.309542006243919,
          -3.793340888925495,
          -4.793340888925493,
          -4.297251503450646,
          -2.811301090227457,
          -3.8113010902274587,
          -2.8432703996903532,
          -1.5243161513243582,
          -2.5243161513244354,
          -1.6105230478762067,
          -2.6144600557502047,
          -2.0164870827771995,
          -3.021641721952422,
          -2.153641721952302,
          -1.3715904399010388,
          -2.374584451877025,
          -3.3745844518770234,
          -4.374584451877117,
          -5.376436303728953,
          "",
          "",
          -5.006045242276401,
          "",
          -6.002499142985642,
          -6.176125516612008,
          "",
          -5.540323047476269,
          -6.543771323338327,
          -5.709196855253302,
          -6.708107530634574,
          -7.708107530634612,
          -6.401503757049822,
          -4.984837090383117,
          -3.5815258321050276,
          -2.9815258321050937,
          -2.123950074529289,
          -1.6210088980586819,
          -2.615632553972673,
          -3.6131199911587233,
          "",
          -3.7777405268730186,
          "",
          -3.3633436397134644,
          -2.713343639713531,
          -2.1225947410351136,
          -0.17344219866222255,
          0.3979863727663706,
          -0.602013627233452,
          "",
          0.6085126885560219,
          "",
          -0.39148731144401605,
          "",
          0.9418460218892322,
          -0.058153978110804694,
          0.642988879032078,
          0.784368189376913,
          -0.21563181062326264,
          -0.029191132657131302,
          1.8715722261216075,
          0.8715722261217652,
          -0.12842777387804716,
          0.2920743181721601,
          -0.7031637770659503,
          -0.6836981282109932,
          0.32556113104808493,
          -0.6656669391276147,
          "",
          -1.6656669391277608,
          -1.1344981079589296,
          -2.1275536635146874,
          -2.2034465206575264,
          -2.2634465206576233,
          -3.266320083875984,
          -2.912647767491752,
          -1.6972222355769058,
          -2.693157194926518,
          -0.5457212974906058,
          0.6955577722769299,
          -0.3074725307533501,
          1.3394201246138822,
          2.216205838899599,
          2.720675112642595,
          4.781158983610299,
          3.7811589836102293,
          2.781158983610378,
          "",
          3.3677261477894835,
          2.367726147789532,
          "",
          3.80637645453798,
          2.806376454537789,
          1.806376454537699,
          "",
          2.3714927336074547,
          3.0481350693738376,
          "",
          2.0514907740717385,
          1.0550368733624977,
          "",
          "",
          1.8546692263036366,
          0.8512209504415786,
          -0.14877904955872978,
          "",
          1.5222953306065525,
          1.4600612880533814,
          2.9003128603803665,
          5.023389783457195,
          5.071327927787101,
          5.8363586026337,
          "",
          "",
          4.836358602633728,
          3.841358602633667,
          2.844370650826386,
          3.744370650826308,
          5.140092575959944,
          4.14009257595993,
          3.140092575959967,
          3.228438440621562,
          2.2248670120503156,
          1.9800140708738672,
          "",
          "",
          "",
          2.3737640708738508,
          2.3737640708738508,
          2.9866212137310373,
          "",
          1.9840438941435292,
          2.705472465572094,
          1.7075300787407903,
          2.7513656951791083,
          3.3789519020757166,
          2.3758844174131455,
          1.3787092761701831,
          "",
          0.3759314983924331,
          -0.6240685016075702,
          "",
          "",
          -1.6260765337360497,
          -2.6260765337362404,
          -1.9995571967196097,
          -3.0045076917689886,
          -2.073902709562618,
          -1.5031710022455647,
          -2.4990043355790346,
          -0.9919620820579171,
          0.8601884555764816,
          1.768884107750362,
          2.4260934100759113,
          3.339014758390518,
          2.3369400695938527,
          1.3369400695937936,
          0.33694006959391576,
          "",
          "",
          "",
          1.9709606881507002,
          3.9938614515094764,
          4.575828664624167,
          4.549042950338409,
          5.100106780125662,
          5.853010005932133,
          4.849103755932148,
          3.849103755932304,
          4.947277271914027,
          3.947277271913989,
          2.9472772719139964,
          "",
          1.9472772719139584,
          0.9445890998709734,
          -0.055410900129040375,
          0.380549691003904,
          -0.6224088888777487,
          -1.6260060111798937,
          -0.5879107730847064,
          "",
          0.39357070839670116,
          -0.6064292916030873,
          0.2960097327871677,
          -0.7039902672126837,
          -1.7068474100698239,
          "",
          "",
          -1.8099724100698722,
          -1.106400981498434,
          0.1608946159858342,
          0.9810869236781503,
          -0.018913076321816824,
          -1.0189130763217134,
          -0.9253057703856216,
          0.39717943671491107,
          1.7703678425120815,
          0.770367842511928,
          2.089333359753284,
          3.5377204565274805,
          4.849238781134838,
          3.8492387811348503,
          2.8470457986787236,
          "",
          "",
          "",
          5.037311285404357,
          6.203977952071106,
          6.448386897758039,
          7.421955179696356,
          7.94506442339379,
          9.173688958709798,
          9.74854929390536,
          10.634071179427263,
          11.798322387156798,
          10.801843513917307,
          10.629004007744344,
          9.631910984488478,
          8.631910984488478,
          "",
          9.174685550962545,
          8.174685550962437,
          9.502170931079451,
          8.5021709310795,
          7.502170931079718,
          "",
          "",
          8.155997659906442,
          "",
          7.159223466357971,
          6.163040260251009,
          "",
          "",
          "",
          "",
          5.165947236995144,
          "",
          4.165947236995098,
          "",
          "",
          5.57886858530978,
          6.076774344472096,
          5.076774344472083,
          6.742128675180663,
          "",
          "",
          7.226149293737345,
          7.991733709321817,
          6.993834549657952,
          8.276000154753515,
          8.729816196287068,
          "",
          7.729816196286979,
          8.771336664123174,
          8.916164250330077,
          8.885552005432146,
          10.716379073101193,
          11.372508105359254,
          13.059658943348197,
          13.28761169925369,
          13.860796056795563,
          14.690954786954242,
          15.812803526450166,
          14.812803526450216,
          13.812803526450251,
          12.809307022953826,
          13.314152837931859,
          "",
          "",
          13.775431033420547,
          14.4014514415838,
          14.910625753510413,
          13.910625753510299,
          12.913203073097927,
          13.483332943227751,
          13.698749609894415,
          12.698749609894401,
          14.420268597236191,
          14.943345520313075,
          16.843345520313033,
          18.246778996707924,
          19.17635646149667,
          20.799307281168847,
          19.79930728116879,
          21.088544949330224,
          "",
          22.533959796491796,
          21.535708048240004,
          21.3722839237264,
          "",
          "",
          20.370817648066588,
          19.370817648066577,
          "",
          18.36767299397865,
          18.84063217765216,
          18.813482856385193,
          17.81549898541744,
          19.05765145178512,
          20.672176591449883,
          21.43581295508631,
          20.435812955086245,
          "",
          "",
          "",
          21.037241526514805,
          21.040738030011326,
          21.376976562121392,
          20.379259667144197,
          21.26994289695788,
          21.362428446090775,
          20.360155718818106,
          20.390155718818118,
          "",
          19.392655718818116,
          18.392655718818098,
          17.395923692674284,
          "",
          "",
          18.229257026007595,
          17.229257026007637,
          16.229257026007556,
          "",
          "",
          "",
          15.229257026007543,
          16.449015090523616,
          15.44662274602605,
          15.39449004460427,
          16.616712266826564,
          15.619505562915872,
          14.616980310390641,
          "",
          "",
          "",
          15.78217854827607,
          17.048687982238334,
          16.048687982238395,
          15.051115166704411,
          "",
          16.390349616465112,
          17.798606497199028,
          16.7986064971991,
          18.12570930093743,
          17.127941443794565,
          20.027397965533748,
          21.12225962561279,
          22.58079621097865,
          23.81733467251714,
          25.052771565721006,
          26.555003708578152,
          25.55868017916633,
          27.006441373196136,
          28.36898818967559,
          28.801765967453367,
          29.50611379354035,
          30.110420013636034,
          29.11298411620011,
          28.115267221222915,
          28.78669579265149,
          29.27346049853387,
          31.242013957653363,
          30.23947588658742,
          29.237383836378246,
          "",
          29.19892229791666,
          28.19650683897955,
          "",
          28.78986967083796,
          30.043390797598477,
          30.63273089912132,
          31.0257061057329,
          32.46936807756386
         ]
        },
        {
         "connectgaps": true,
         "fill": "tozeroy",
         "fillcolor": "rgba(219, 58, 52, 0.3)",
         "line": {
          "color": "rgba(219, 58, 52, 1.0)",
          "dash": "solid",
          "shape": "hv",
          "width": 2
         },
         "mode": "lines",
         "name": "result_60_40_max_3",
         "text": "",
         "type": "scatter",
         "x": [
          "2020-11-05 13:05:00+00:00",
          "2020-11-05 13:42:00+00:00",
          "2020-11-06 03:27:00+00:00",
          "2020-11-09 09:57:00+00:00",
          "2020-11-11 00:06:00+00:00",
          "2020-11-11 01:02:00+00:00",
          "2020-11-30 07:16:00+00:00",
          "2020-12-01 07:07:00+00:00",
          "2020-12-01 12:58:00+00:00",
          "2020-12-01 14:22:00+00:00",
          "2020-12-04 13:30:00+00:00",
          "2020-12-07 12:48:00+00:00",
          "2020-12-09 07:48:00+00:00",
          "2020-12-10 15:32:00+00:00",
          "2020-12-11 07:36:00+00:00",
          "2020-12-16 07:52:00+00:00",
          "2020-12-17 14:22:00+00:00",
          "2020-12-17 15:04:00+00:00",
          "2020-12-17 16:07:00+00:00",
          "2020-12-18 07:16:00+00:00",
          "2020-12-18 08:27:00+00:00",
          "2020-12-21 14:22:00+00:00",
          "2020-12-22 14:57:00+00:00",
          "2020-12-22 16:01:00+00:00",
          "2020-12-30 13:50:00+00:00",
          "2020-12-31 07:59:00+00:00",
          "2021-01-04 08:34:00+00:00",
          "2021-01-05 11:14:00+00:00",
          "2021-01-07 16:42:00+00:00",
          "2021-01-08 05:17:00+00:00",
          "2021-01-08 17:09:00+00:00",
          "2021-01-11 12:18:00+00:00",
          "2021-01-11 15:19:00+00:00",
          "2021-01-12 09:53:00+00:00",
          "2021-01-15 15:08:00+00:00",
          "2021-01-19 07:24:00+00:00",
          "2021-01-20 14:22:00+00:00",
          "2021-01-21 13:33:00+00:00",
          "2021-01-21 14:19:00+00:00",
          "2021-01-22 13:16:00+00:00",
          "2021-01-25 15:50:00+00:00",
          "2021-01-26 14:17:00+00:00",
          "2021-01-28 01:10:00+00:00",
          "2021-01-29 06:48:00+00:00",
          "2021-01-29 08:08:00+00:00",
          "2021-02-01 08:51:00+00:00",
          "2021-02-01 12:16:00+00:00",
          "2021-02-01 13:13:00+00:00",
          "2021-02-01 13:15:00+00:00",
          "2021-02-01 13:16:00+00:00",
          "2021-02-02 08:20:00+00:00",
          "2021-02-03 04:40:00+00:00",
          "2021-02-03 08:04:00+00:00",
          "2021-02-03 17:29:00+00:00",
          "2021-02-05 08:00:00+00:00",
          "2021-02-08 10:27:00+00:00",
          "2021-02-09 07:00:00+00:00",
          "2021-02-16 14:00:00+00:00",
          "2021-02-17 12:43:00+00:00",
          "2021-02-18 08:00:00+00:00",
          "2021-02-22 07:10:00+00:00",
          "2021-02-23 07:00:00+00:00",
          "2021-02-23 10:00:00+00:00",
          "2021-02-24 08:12:00+00:00",
          "2021-02-25 07:00:00+00:00",
          "2021-02-25 08:00:00+00:00",
          "2021-02-25 08:36:00+00:00",
          "2021-03-01 13:00:00+00:00",
          "2021-03-01 15:59:00+00:00",
          "2021-03-02 08:56:00+00:00",
          "2021-03-02 15:00:00+00:00",
          "2021-03-03 11:39:00+00:00",
          "2021-03-03 15:59:00+00:00",
          "2021-03-05 13:00:00+00:00",
          "2021-03-09 05:00:00+00:00",
          "2021-03-09 07:36:00+00:00",
          "2021-03-09 08:00:00+00:00",
          "2021-03-09 16:00:00+00:00",
          "2021-03-10 06:00:00+00:00",
          "2021-03-10 08:00:00+00:00",
          "2021-03-10 14:00:00+00:00",
          "2021-03-12 09:00:00+00:00",
          "2021-03-12 16:42:00+00:00",
          "2021-03-15 10:55:00+00:00",
          "2021-03-16 05:44:00+00:00",
          "2021-03-16 07:57:00+00:00",
          "2021-03-17 07:04:00+00:00",
          "2021-03-17 13:50:00+00:00",
          "2021-03-18 03:35:00+00:00",
          "2021-03-18 05:27:00+00:00",
          "2021-03-19 04:22:00+00:00",
          "2021-03-19 08:00:00+00:00",
          "2021-03-22 05:36:00+00:00",
          "2021-03-22 06:48:00+00:00",
          "2021-03-22 12:03:00+00:00",
          "2021-03-23 04:27:00+00:00",
          "2021-03-23 06:16:00+00:00",
          "2021-03-24 02:36:00+00:00",
          "2021-03-24 08:20:00+00:00",
          "2021-03-25 04:48:00+00:00",
          "2021-03-26 06:49:00+00:00",
          "2021-03-29 05:00:00+00:00",
          "2021-03-29 07:51:00+00:00",
          "2021-03-30 05:55:00+00:00",
          "2021-03-30 08:00:00+00:00",
          "2021-03-31 13:00:00+00:00",
          "2021-04-01 07:00:00+00:00",
          "2021-04-01 08:00:00+00:00",
          "2021-04-05 12:00:00+00:00",
          "2021-04-06 13:45:00+00:00",
          "2021-04-06 14:00:00+00:00",
          "2021-04-07 05:51:00+00:00",
          "2021-04-07 06:30:00+00:00",
          "2021-04-07 07:00:00+00:00",
          "2021-04-08 07:00:00+00:00",
          "2021-04-08 08:46:00+00:00",
          "2021-04-08 09:37:00+00:00",
          "2021-04-09 12:00:00+00:00",
          "2021-04-12 02:14:00+00:00",
          "2021-04-12 05:45:00+00:00",
          "2021-04-12 08:00:00+00:00",
          "2021-04-13 07:00:00+00:00",
          "2021-04-13 07:57:00+00:00",
          "2021-04-13 10:00:00+00:00",
          "2021-04-14 06:38:00+00:00",
          "2021-04-14 07:00:00+00:00",
          "2021-04-14 08:17:00+00:00",
          "2021-04-14 09:41:00+00:00",
          "2021-04-16 10:00:00+00:00",
          "2021-04-19 08:00:00+00:00",
          "2021-04-19 08:54:00+00:00",
          "2021-04-19 10:00:00+00:00",
          "2021-04-20 06:00:00+00:00",
          "2021-04-20 13:00:00+00:00",
          "2021-04-21 07:00:00+00:00",
          "2021-04-21 07:57:00+00:00",
          "2021-04-22 07:00:00+00:00",
          "2021-04-22 08:42:00+00:00",
          "2021-04-22 12:00:00+00:00",
          "2021-04-22 12:33:00+00:00",
          "2021-04-23 12:00:00+00:00",
          "2021-04-23 12:22:00+00:00",
          "2021-04-26 11:00:00+00:00",
          "2021-04-26 12:40:00+00:00",
          "2021-04-27 14:00:00+00:00",
          "2021-04-28 13:00:00+00:00",
          "2021-04-29 16:00:00+00:00",
          "2021-04-29 16:29:00+00:00",
          "2021-04-30 01:00:00+00:00",
          "2021-04-30 06:00:00+00:00",
          "2021-04-30 06:18:00+00:00",
          "2021-04-30 10:08:00+00:00",
          "2021-04-30 14:52:00+00:00",
          "2021-05-03 12:44:00+00:00",
          "2021-05-04 13:00:00+00:00",
          "2021-05-04 13:49:00+00:00",
          "2021-05-04 15:00:00+00:00",
          "2021-05-05 13:36:00+00:00",
          "2021-05-05 14:00:00+00:00",
          "2021-05-06 10:00:00+00:00",
          "2021-05-06 14:00:00+00:00",
          "2021-05-07 12:00:00+00:00",
          "2021-05-10 05:00:00+00:00",
          "2021-05-10 06:00:00+00:00",
          "2021-05-10 14:00:00+00:00",
          "2021-05-11 08:00:00+00:00",
          "2021-05-11 10:00:00+00:00",
          "2021-05-11 12:00:00+00:00",
          "2021-05-11 13:19:00+00:00",
          "2021-05-12 12:00:00+00:00",
          "2021-05-13 05:00:00+00:00",
          "2021-05-13 07:53:00+00:00",
          "2021-05-14 06:00:00+00:00",
          "2021-05-14 13:00:00+00:00",
          "2021-05-17 15:00:00+00:00",
          "2021-05-19 00:00:00+00:00",
          "2021-05-19 12:00:00+00:00",
          "2021-05-20 09:00:00+00:00",
          "2021-05-24 13:47:00+00:00",
          "2021-05-26 07:14:00+00:00",
          "2021-05-26 13:00:00+00:00",
          "2021-05-27 02:41:00+00:00",
          "2021-05-27 07:00:00+00:00",
          "2021-06-08 07:00:00+00:00",
          "2021-06-08 10:00:00+00:00",
          "2021-06-08 12:00:00+00:00",
          "2021-06-08 13:00:00+00:00",
          "2021-06-09 08:00:00+00:00",
          "2021-06-10 12:00:00+00:00",
          "2021-06-11 16:00:00+00:00",
          "2021-06-14 16:29:00+00:00",
          "2021-06-15 08:00:00+00:00",
          "2021-06-15 13:38:00+00:00",
          "2021-06-17 07:00:00+00:00",
          "2021-06-21 03:00:00+00:00",
          "2021-06-21 06:00:00+00:00",
          "2021-06-22 05:00:00+00:00",
          "2021-06-22 07:00:00+00:00",
          "2021-06-22 08:00:00+00:00",
          "2021-06-30 07:00:00+00:00",
          "2021-07-01 07:00:00+00:00",
          "2021-07-01 11:00:00+00:00",
          "2021-07-06 07:00:00+00:00",
          "2021-07-06 16:00:00+00:00",
          "2021-07-07 04:00:00+00:00",
          "2021-07-07 05:56:00+00:00",
          "2021-07-07 13:50:00+00:00",
          "2021-07-08 13:36:00+00:00",
          "2021-07-09 07:27:00+00:00",
          "2021-07-09 10:00:00+00:00",
          "2021-07-12 07:00:00+00:00",
          "2021-07-12 07:28:00+00:00",
          "2021-07-12 10:00:00+00:00",
          "2021-07-12 13:00:00+00:00",
          "2021-07-13 05:00:00+00:00",
          "2021-07-14 13:00:00+00:00",
          "2021-07-15 07:27:00+00:00",
          "2021-07-16 07:51:00+00:00",
          "2021-07-19 06:00:00+00:00",
          "2021-07-20 03:28:00+00:00",
          "2021-07-20 14:01:00+00:00",
          "2021-07-21 07:00:00+00:00",
          "2021-07-22 07:00:00+00:00",
          "2021-07-23 07:21:00+00:00",
          "2021-07-23 12:38:00+00:00",
          "2021-07-26 08:44:00+00:00",
          "2021-07-26 09:00:00+00:00",
          "2021-07-27 06:00:00+00:00",
          "2021-07-27 07:00:00+00:00",
          "2021-07-27 08:20:00+00:00",
          "2021-07-27 13:00:00+00:00",
          "2021-07-27 14:50:00+00:00",
          "2021-07-29 08:00:00+00:00",
          "2021-07-30 07:00:00+00:00",
          "2021-08-02 09:00:00+00:00",
          "2021-08-03 08:00:00+00:00",
          "2021-08-04 12:00:00+00:00",
          "2021-08-05 14:00:00+00:00",
          "2021-08-09 08:00:00+00:00",
          "2021-08-09 09:28:00+00:00",
          "2021-08-10 08:00:00+00:00",
          "2021-08-11 12:00:00+00:00",
          "2021-08-11 16:29:00+00:00",
          "2021-08-12 11:00:00+00:00",
          "2021-08-12 13:00:00+00:00",
          "2021-08-12 14:00:00+00:00",
          "2021-08-13 07:00:00+00:00",
          "2021-08-16 06:00:00+00:00",
          "2021-08-16 11:00:00+00:00",
          "2021-08-17 06:00:00+00:00",
          "2021-08-17 07:06:00+00:00",
          "2021-08-17 10:00:00+00:00",
          "2021-08-17 16:00:00+00:00",
          "2021-08-18 08:00:00+00:00",
          "2021-08-18 11:49:00+00:00",
          "2021-08-19 06:00:00+00:00",
          "2021-08-19 06:27:00+00:00",
          "2021-08-19 07:00:00+00:00",
          "2021-08-19 07:57:00+00:00",
          "2021-08-19 12:41:00+00:00",
          "2021-08-19 14:00:00+00:00",
          "2021-08-20 05:00:00+00:00",
          "2021-08-20 08:00:00+00:00",
          "2021-08-20 11:00:00+00:00",
          "2021-08-20 13:00:00+00:00",
          "2021-08-20 13:46:00+00:00",
          "2021-08-23 06:00:00+00:00",
          "2021-08-23 14:00:00+00:00",
          "2021-08-24 07:00:00+00:00",
          "2021-08-24 08:00:00+00:00",
          "2021-08-24 10:00:00+00:00",
          "2021-08-24 13:31:00+00:00",
          "2021-08-25 14:00:00+00:00",
          "2021-08-26 11:00:00+00:00",
          "2021-08-26 12:36:00+00:00",
          "2021-08-27 06:56:00+00:00",
          "2021-08-30 16:29:00+00:00",
          "2021-08-31 06:34:00+00:00",
          "2021-09-01 07:00:00+00:00",
          "2021-09-02 07:38:00+00:00",
          "2021-09-06 15:04:00+00:00",
          "2021-09-07 10:00:00+00:00",
          "2021-09-07 16:00:00+00:00",
          "2021-09-08 14:00:00+00:00",
          "2021-09-08 16:29:00+00:00",
          "2021-09-13 06:41:00+00:00",
          "2021-09-13 10:00:00+00:00",
          "2021-09-15 13:55:00+00:00",
          "2021-09-16 11:35:00+00:00",
          "2021-09-17 13:54:00+00:00",
          "2021-09-20 06:10:00+00:00",
          "2021-09-20 06:45:00+00:00",
          "2021-09-23 08:12:00+00:00",
          "2021-09-23 10:11:00+00:00",
          "2021-09-23 10:49:00+00:00",
          "2021-09-23 11:08:00+00:00",
          "2021-09-24 13:33:00+00:00",
          "2021-09-27 11:13:00+00:00",
          "2021-09-28 09:50:00+00:00",
          "2021-09-29 13:34:00+00:00",
          "2021-09-29 14:45:00+00:00",
          "2021-09-30 15:12:00+00:00",
          "2021-10-01 06:54:00+00:00",
          "2021-10-01 09:35:00+00:00",
          "2021-10-04 07:06:00+00:00",
          "2021-10-04 08:00:00+00:00",
          "2021-10-05 14:45:00+00:00",
          "2021-10-07 09:17:00+00:00",
          "2021-10-08 14:05:00+00:00",
          "2021-10-12 06:45:00+00:00",
          "2021-10-12 09:12:00+00:00",
          "2021-10-12 12:04:00+00:00",
          "2021-10-13 10:16:00+00:00",
          "2021-10-25 08:56:00+00:00",
          "2021-10-25 09:23:00+00:00",
          "2021-10-25 10:50:00+00:00",
          "2021-10-25 13:50:00+00:00",
          "2021-10-27 08:42:00+00:00",
          "2021-10-27 09:01:00+00:00",
          "2021-10-27 10:48:00+00:00",
          "2021-10-28 07:59:00+00:00",
          "2021-11-01 09:00:00+00:00",
          "2021-11-01 10:59:00+00:00",
          "2021-11-02 08:52:00+00:00",
          "2021-11-02 12:00:00+00:00",
          "2021-11-03 12:56:00+00:00",
          "2021-11-04 08:15:00+00:00",
          "2021-11-04 08:44:00+00:00",
          "2021-11-04 10:09:00+00:00",
          "2021-11-04 11:36:00+00:00",
          "2021-11-04 12:00:00+00:00",
          "2021-11-08 15:28:00+00:00",
          "2021-11-08 17:29:00+00:00",
          "2021-11-09 08:12:00+00:00",
          "2021-11-09 14:54:00+00:00",
          "2021-11-11 17:29:00+00:00",
          "2021-11-17 17:29:00+00:00",
          "2021-11-18 05:05:00+00:00",
          "2021-11-18 06:11:00+00:00",
          "2021-11-18 09:20:00+00:00",
          "2021-11-22 11:48:00+00:00",
          "2021-11-24 04:01:00+00:00",
          "2021-11-24 07:58:00+00:00",
          "2021-11-24 08:00:00+00:00",
          "2021-11-24 17:29:00+00:00",
          "2021-11-29 10:55:00+00:00",
          "2021-11-30 05:19:00+00:00",
          "2021-11-30 06:01:00+00:00",
          "2021-11-30 11:15:00+00:00",
          "2021-11-30 13:32:00+00:00",
          "2021-11-30 14:45:00+00:00",
          "2021-12-02 13:45:00+00:00",
          "2021-12-02 17:10:00+00:00",
          "2021-12-03 11:02:00+00:00",
          "2021-12-03 12:01:00+00:00",
          "2021-12-06 16:19:00+00:00",
          "2021-12-07 08:33:00+00:00",
          "2021-12-07 09:09:00+00:00",
          "2021-12-07 10:52:00+00:00",
          "2021-12-07 11:23:00+00:00",
          "2021-12-07 13:18:00+00:00",
          "2021-12-08 10:36:00+00:00",
          "2021-12-08 13:54:00+00:00",
          "2021-12-09 10:42:00+00:00",
          "2021-12-09 10:48:00+00:00",
          "2021-12-09 14:24:00+00:00",
          "2021-12-13 10:17:00+00:00",
          "2021-12-14 11:10:00+00:00",
          "2021-12-15 14:59:00+00:00",
          "2021-12-16 08:15:00+00:00",
          "2021-12-17 10:03:00+00:00",
          "2021-12-17 12:47:00+00:00",
          "2021-12-20 13:14:00+00:00",
          "2021-12-21 16:13:00+00:00",
          "2021-12-27 12:32:00+00:00",
          "2022-01-04 08:01:00+00:00",
          "2022-01-04 09:45:00+00:00",
          "2022-01-05 10:37:00+00:00",
          "2022-01-05 16:20:00+00:00",
          "2022-01-06 10:13:00+00:00",
          "2022-01-12 13:06:00+00:00",
          "2022-01-13 12:01:00+00:00",
          "2022-01-14 12:24:00+00:00",
          "2022-01-14 12:28:00+00:00",
          "2022-01-17 12:06:00+00:00",
          "2022-01-17 15:28:00+00:00",
          "2022-01-18 08:15:00+00:00",
          "2022-01-19 09:45:00+00:00",
          "2022-01-20 08:21:00+00:00",
          "2022-01-20 10:35:00+00:00",
          "2022-01-20 11:56:00+00:00",
          "2022-01-24 11:26:00+00:00",
          "2022-01-24 13:31:00+00:00",
          "2022-01-24 15:11:00+00:00",
          "2022-01-25 11:55:00+00:00",
          "2022-01-26 16:23:00+00:00",
          "2022-01-27 11:38:00+00:00",
          "2022-01-31 16:42:00+00:00",
          "2022-02-01 15:25:00+00:00"
         ],
         "y": [
          -0.9999999999999464,
          -2.0036496350363597,
          -2.025780782577239,
          -2.062071105157828,
          -3.062071105157912,
          -4.067071105157737,
          -2.1861187242053344,
          -3.1907058801686103,
          -2.863512897712478,
          -0.4479284821280447,
          -1.4433413261649317,
          -0.9428988482888129,
          -0.5428988482887978,
          -1.537948353239401,
          -1.1714266141089584,
          1.2885733858911348,
          0.28857338589112036,
          -0.7114266141088859,
          1.457746318221977,
          1.3057726340114542,
          0.30931873330221327,
          1.302037179904218,
          0.3020371799042695,
          -0.6997613812467368,
          -0.5686934200816695,
          -1.5716696105578274,
          -0.15447215832858596,
          0.27521534167137846,
          0.7914164589898021,
          -0.20858354101019605,
          0.28750584446465133,
          1.7734562576878403,
          0.7734562576878385,
          1.741486948224944,
          3.060441196590939,
          2.060441196590862,
          2.9742343000390905,
          1.9702972921650928,
          2.568270265138098,
          1.5631156259628756,
          2.4311156259629954,
          3.2131669080142586,
          2.210172896038272,
          1.2101728960382738,
          0.21017289603818035,
          -0.7916789558136557,
          "",
          -1.0745805102178263,
          -0.7041894487652745,
          "",
          -1.7006433494745155,
          -1.8742697231008811,
          -0.8928594666906938,
          -0.2570569975549549,
          -1.2605052734170128,
          -0.42593080533198824,
          -1.4248414807132597,
          -2.4248414807132974,
          -1.1182377071285075,
          0.29842895953819726,
          1.7017402178162864,
          2.3017402178162203,
          3.1593159753920244,
          3.6622571518626317,
          2.6676334959486407,
          1.67014605876259,
          1.6534793920959114,
          1.4888588563816159,
          1.86314457066729,
          2.2775414578268443,
          2.9275414578267775,
          3.5182903565051955,
          5.467442898878087,
          6.03887147030668,
          5.038871470306858,
          5.772534836643533,
          6.983061152433008,
          "",
          5.9830611524329695,
          7.047838480368156,
          8.381171813701405,
          7.381171813701368,
          8.08231467084425,
          8.223693981189085,
          7.223693981188909,
          7.41013465915504,
          9.310898017933779,
          8.310898017933937,
          7.310898017934124,
          7.731400109984332,
          6.736162014746221,
          6.755627663601178,
          7.764886922860256,
          6.773658852684557,
          6.837690473237915,
          5.837690473237769,
          6.368859304406601,
          5.375803748850843,
          5.299910891708004,
          5.239910891707907,
          4.237037328489546,
          4.590709644873778,
          5.806135176788624,
          4.810200217439012,
          6.957636114874924,
          8.198915184642459,
          7.195884881612179,
          8.842777536979412,
          9.719563251265129,
          10.224032525008125,
          12.284516395975828,
          11.284516395975759,
          10.284516395975908,
          11.246098316879959,
          11.832665481059063,
          10.832665481059111,
          11.971846767608806,
          13.410497074357254,
          12.410497074357064,
          11.410497074356973,
          12.790778764497738,
          13.355895043567493,
          14.032537379333876,
          13.029332251128785,
          12.032687955826686,
          11.036234055117445,
          11.184703442872516,
          "",
          11.984335795813655,
          10.980887519951597,
          9.980887519951288,
          11.203109742173556,
          12.87418412233884,
          12.34125550685938,
          13.781507079186365,
          15.904584002263194,
          15.9525221465931,
          16.7175528214397,
          15.721098920730459,
          "",
          14.721098920730487,
          13.726098920730426,
          12.729110968923145,
          13.629110968923067,
          15.024832894056704,
          14.02483289405669,
          13.024832894056727,
          13.113178758718323,
          12.109607330147076,
          11.864754388970628,
          10.87133333633898,
          "",
          "",
          11.265083336338963,
          11.265083336338963,
          11.877940479196148,
          13.404256268669851,
          12.401678949082342,
          13.123107520510906,
          12.125165133679603,
          13.169000750117922,
          13.79658695701453,
          12.793519472351958,
          11.796344331108996,
          12.508844331108987,
          11.506066553331237,
          10.506066553331234,
          9.506066553331266,
          "",
          8.504058521202786,
          7.504058521202595,
          8.130577858219226,
          7.125627363169848,
          8.056232345376218,
          8.626964052693271,
          7.631130719359802,
          9.13817297288092,
          10.990323510515319,
          11.8990191626892,
          12.55622846501475,
          13.469149813329356,
          12.467075124532691,
          12.246752543887489,
          11.246752543887611,
          10.243567830511822,
          "",
          "",
          11.877588449068606,
          13.900489212427381,
          14.482456425542072,
          14.455670711256314,
          15.006734541043567,
          15.759637766850037,
          14.755731516850053,
          13.75573151685021,
          14.853905032831932,
          13.853905032831895,
          12.853905032831902,
          13.386772165699075,
          12.386772165699037,
          11.384083993656052,
          10.384083993656038,
          10.820044584788983,
          9.81708600490733,
          8.813488882605185,
          9.851584120700373,
          10.349145096310114,
          11.330626577791522,
          10.330626577791733,
          11.233065602181988,
          10.233065602182137,
          9.230208459324997,
          8.230208459324981,
          "",
          8.127083459324933,
          8.83065488789637,
          10.09795048538064,
          10.918142793072956,
          9.918142793072988,
          8.918142793073091,
          9.011750099009182,
          10.334235306109715,
          11.707423711906886,
          10.707423711906733,
          12.026389229148089,
          13.474776325922285,
          14.786294650529642,
          13.786294650529655,
          12.784101668073529,
          11.786024744996595,
          "",
          "",
          13.97629023172223,
          15.142956898388977,
          15.38736584407591,
          16.36093412601423,
          16.884043369711662,
          18.11266790502767,
          18.68752824022323,
          19.573050125745134,
          20.73730133347467,
          19.74082246023518,
          19.567982954062217,
          18.570889930806352,
          17.570889930806352,
          16.57088993080652,
          17.113664497280585,
          16.113664497280475,
          17.44114987739749,
          16.44114987739754,
          15.441149877397757,
          14.43857255781025,
          "",
          15.092399286636974,
          15.558389134352684,
          14.561614940804214,
          13.56543173469725,
          12.561672336201026,
          "",
          "",
          "",
          11.56457931294516,
          10.561200934566887,
          9.561200934566841,
          "",
          "",
          10.974122282881524,
          11.472028042043839,
          10.472028042043826,
          12.137382372752406,
          12.878427148871792,
          "",
          13.362447767428474,
          14.128032183012946,
          13.130133023349082,
          14.412298628444645,
          14.866114669978199,
          16.129171994818964,
          15.129171994818876,
          16.17069246265507,
          16.31552004886197,
          16.28490780396404,
          18.115734871633087,
          18.77186390389115,
          20.459014741880093,
          20.686967497785584,
          21.260151855327457,
          22.090310585486137,
          23.21215932498206,
          22.21215932498211,
          21.212159324982146,
          20.20866282148572,
          20.713508636463754,
          19.71350863646377,
          "",
          20.17478683195246,
          20.800807240115713,
          21.309981552042323,
          20.30998155204221,
          19.312558871629836,
          19.88268874175966,
          20.098105408426328,
          19.098105408426314,
          20.819624395768102,
          21.342701318844988,
          23.242701318844944,
          24.646134795239835,
          25.57571226002858,
          27.198663079700758,
          26.1986630797007,
          27.487900747862135,
          28.836710271671613,
          30.282125118833186,
          29.283873370581393,
          29.12044924606779,
          29.66433413815414,
          "",
          28.662867862494327,
          27.662867862494316,
          26.662867862494387,
          25.65972320840646,
          26.13268239207997,
          26.105533070813003,
          25.107549199845252,
          26.34970166621293,
          27.964226805877693,
          28.72786316951412,
          27.727863169514055,
          26.727863169513995,
          "",
          "",
          27.329291740942555,
          27.332788244439076,
          27.669026776549142,
          26.671309881571947,
          27.56199311138563,
          27.654478660518524,
          26.652205933245856,
          26.682205933245868,
          27.24826928166212,
          26.25076928166212,
          25.2507692816621,
          24.254037255518288,
          23.254037255518316,
          "",
          24.087370588851627,
          23.08737058885167,
          22.087370588851588,
          21.087370588851524,
          "",
          "",
          20.087370588851513,
          21.307128653367588,
          20.304736308870023,
          20.252603607448243,
          21.47482582967054,
          20.477619125759848,
          19.475093873234616,
          18.47509387323465,
          "",
          "",
          19.64029211112008,
          20.906801545082345,
          19.906801545082406,
          18.90922872954842,
          19.550405200136623,
          20.889639649897322,
          22.297896530631238,
          21.29789653063131,
          22.62499933436964,
          21.627231477226776,
          24.526687998965958,
          25.621549659045,
          27.08008624441086,
          28.31662470594935,
          29.552061599153216,
          31.054293742010362,
          30.05797021259854,
          31.505731406628346,
          32.8682782231078,
          33.30105600088557,
          34.005403826972554,
          34.60971004706823,
          33.61227414963231,
          32.61455725465512,
          33.28598582608369,
          33.77275053196607,
          35.74130399108556,
          34.73876592001962,
          33.736673869810446,
          32.73667386981041,
          32.69821233134883,
          31.695796872411716,
          32.2633293399442,
          32.856692171802614,
          34.11021329856313,
          34.699553400085975,
          35.092528606697556,
          36.53619057852851
         ]
        },
        {
         "connectgaps": true,
         "fill": "tozeroy",
         "fillcolor": "rgba(70, 99, 101, 0.3)",
         "line": {
          "color": "rgba(70, 99, 101, 1.0)",
          "dash": "solid",
          "shape": "hv",
          "width": 2
         },
         "mode": "lines",
         "name": "result_60_40_max_4",
         "text": "",
         "type": "scatter",
         "x": [
          "2020-11-05 13:05:00+00:00",
          "2020-11-05 13:42:00+00:00",
          "2020-11-06 03:27:00+00:00",
          "2020-11-09 09:57:00+00:00",
          "2020-11-11 00:06:00+00:00",
          "2020-11-11 01:02:00+00:00",
          "2020-11-30 07:16:00+00:00",
          "2020-12-01 07:07:00+00:00",
          "2020-12-01 12:58:00+00:00",
          "2020-12-01 14:22:00+00:00",
          "2020-12-04 13:30:00+00:00",
          "2020-12-07 12:48:00+00:00",
          "2020-12-09 07:48:00+00:00",
          "2020-12-10 15:32:00+00:00",
          "2020-12-11 07:36:00+00:00",
          "2020-12-16 07:52:00+00:00",
          "2020-12-17 14:22:00+00:00",
          "2020-12-17 15:04:00+00:00",
          "2020-12-17 16:07:00+00:00",
          "2020-12-18 07:16:00+00:00",
          "2020-12-18 08:27:00+00:00",
          "2020-12-21 14:22:00+00:00",
          "2020-12-22 14:57:00+00:00",
          "2020-12-22 16:01:00+00:00",
          "2020-12-30 13:50:00+00:00",
          "2020-12-31 07:59:00+00:00",
          "2021-01-04 08:34:00+00:00",
          "2021-01-05 11:14:00+00:00",
          "2021-01-07 16:42:00+00:00",
          "2021-01-08 05:17:00+00:00",
          "2021-01-08 17:09:00+00:00",
          "2021-01-11 12:18:00+00:00",
          "2021-01-11 15:19:00+00:00",
          "2021-01-12 09:53:00+00:00",
          "2021-01-15 15:08:00+00:00",
          "2021-01-19 07:24:00+00:00",
          "2021-01-20 14:22:00+00:00",
          "2021-01-21 13:33:00+00:00",
          "2021-01-21 14:19:00+00:00",
          "2021-01-22 13:16:00+00:00",
          "2021-01-25 15:50:00+00:00",
          "2021-01-26 14:17:00+00:00",
          "2021-01-28 01:10:00+00:00",
          "2021-01-29 06:48:00+00:00",
          "2021-01-29 08:08:00+00:00",
          "2021-02-01 08:51:00+00:00",
          "2021-02-01 12:16:00+00:00",
          "2021-02-01 13:13:00+00:00",
          "2021-02-01 13:15:00+00:00",
          "2021-02-01 13:16:00+00:00",
          "2021-02-02 08:20:00+00:00",
          "2021-02-03 04:40:00+00:00",
          "2021-02-03 08:04:00+00:00",
          "2021-02-03 17:29:00+00:00",
          "2021-02-05 08:00:00+00:00",
          "2021-02-08 10:27:00+00:00",
          "2021-02-09 07:00:00+00:00",
          "2021-02-16 14:00:00+00:00",
          "2021-02-17 12:43:00+00:00",
          "2021-02-18 08:00:00+00:00",
          "2021-02-22 07:10:00+00:00",
          "2021-02-23 07:00:00+00:00",
          "2021-02-23 10:00:00+00:00",
          "2021-02-24 08:12:00+00:00",
          "2021-02-25 07:00:00+00:00",
          "2021-02-25 08:00:00+00:00",
          "2021-02-25 08:36:00+00:00",
          "2021-03-01 13:00:00+00:00",
          "2021-03-01 15:59:00+00:00",
          "2021-03-02 08:56:00+00:00",
          "2021-03-02 15:00:00+00:00",
          "2021-03-03 11:39:00+00:00",
          "2021-03-03 15:59:00+00:00",
          "2021-03-05 13:00:00+00:00",
          "2021-03-09 05:00:00+00:00",
          "2021-03-09 07:36:00+00:00",
          "2021-03-09 08:00:00+00:00",
          "2021-03-09 16:00:00+00:00",
          "2021-03-10 06:00:00+00:00",
          "2021-03-10 08:00:00+00:00",
          "2021-03-10 14:00:00+00:00",
          "2021-03-12 09:00:00+00:00",
          "2021-03-12 16:42:00+00:00",
          "2021-03-15 10:55:00+00:00",
          "2021-03-16 05:44:00+00:00",
          "2021-03-16 07:57:00+00:00",
          "2021-03-17 07:04:00+00:00",
          "2021-03-17 13:50:00+00:00",
          "2021-03-18 03:35:00+00:00",
          "2021-03-18 05:27:00+00:00",
          "2021-03-19 04:22:00+00:00",
          "2021-03-19 08:00:00+00:00",
          "2021-03-22 05:36:00+00:00",
          "2021-03-22 06:48:00+00:00",
          "2021-03-22 12:03:00+00:00",
          "2021-03-23 04:27:00+00:00",
          "2021-03-23 06:16:00+00:00",
          "2021-03-24 02:36:00+00:00",
          "2021-03-24 08:20:00+00:00",
          "2021-03-25 04:48:00+00:00",
          "2021-03-26 06:49:00+00:00",
          "2021-03-29 05:00:00+00:00",
          "2021-03-29 07:51:00+00:00",
          "2021-03-30 05:55:00+00:00",
          "2021-03-30 08:00:00+00:00",
          "2021-03-31 13:00:00+00:00",
          "2021-04-01 07:00:00+00:00",
          "2021-04-01 08:00:00+00:00",
          "2021-04-05 12:00:00+00:00",
          "2021-04-06 13:45:00+00:00",
          "2021-04-06 14:00:00+00:00",
          "2021-04-07 05:51:00+00:00",
          "2021-04-07 06:30:00+00:00",
          "2021-04-07 07:00:00+00:00",
          "2021-04-08 07:00:00+00:00",
          "2021-04-08 08:46:00+00:00",
          "2021-04-08 09:37:00+00:00",
          "2021-04-09 12:00:00+00:00",
          "2021-04-12 02:14:00+00:00",
          "2021-04-12 05:45:00+00:00",
          "2021-04-12 08:00:00+00:00",
          "2021-04-13 07:00:00+00:00",
          "2021-04-13 07:57:00+00:00",
          "2021-04-13 10:00:00+00:00",
          "2021-04-14 06:38:00+00:00",
          "2021-04-14 07:00:00+00:00",
          "2021-04-14 08:17:00+00:00",
          "2021-04-14 09:41:00+00:00",
          "2021-04-16 10:00:00+00:00",
          "2021-04-19 08:00:00+00:00",
          "2021-04-19 08:54:00+00:00",
          "2021-04-19 10:00:00+00:00",
          "2021-04-20 06:00:00+00:00",
          "2021-04-20 13:00:00+00:00",
          "2021-04-21 07:00:00+00:00",
          "2021-04-21 07:57:00+00:00",
          "2021-04-22 07:00:00+00:00",
          "2021-04-22 08:42:00+00:00",
          "2021-04-22 12:00:00+00:00",
          "2021-04-22 12:33:00+00:00",
          "2021-04-23 12:00:00+00:00",
          "2021-04-23 12:22:00+00:00",
          "2021-04-26 11:00:00+00:00",
          "2021-04-26 12:40:00+00:00",
          "2021-04-27 14:00:00+00:00",
          "2021-04-28 13:00:00+00:00",
          "2021-04-29 16:00:00+00:00",
          "2021-04-29 16:29:00+00:00",
          "2021-04-30 01:00:00+00:00",
          "2021-04-30 06:00:00+00:00",
          "2021-04-30 06:18:00+00:00",
          "2021-04-30 10:08:00+00:00",
          "2021-04-30 14:52:00+00:00",
          "2021-05-03 12:44:00+00:00",
          "2021-05-04 13:00:00+00:00",
          "2021-05-04 13:49:00+00:00",
          "2021-05-04 15:00:00+00:00",
          "2021-05-05 13:36:00+00:00",
          "2021-05-05 14:00:00+00:00",
          "2021-05-06 10:00:00+00:00",
          "2021-05-06 14:00:00+00:00",
          "2021-05-07 12:00:00+00:00",
          "2021-05-10 05:00:00+00:00",
          "2021-05-10 06:00:00+00:00",
          "2021-05-10 14:00:00+00:00",
          "2021-05-11 08:00:00+00:00",
          "2021-05-11 10:00:00+00:00",
          "2021-05-11 12:00:00+00:00",
          "2021-05-11 13:19:00+00:00",
          "2021-05-12 12:00:00+00:00",
          "2021-05-13 05:00:00+00:00",
          "2021-05-13 07:53:00+00:00",
          "2021-05-14 06:00:00+00:00",
          "2021-05-14 13:00:00+00:00",
          "2021-05-17 15:00:00+00:00",
          "2021-05-19 00:00:00+00:00",
          "2021-05-19 12:00:00+00:00",
          "2021-05-20 09:00:00+00:00",
          "2021-05-24 13:47:00+00:00",
          "2021-05-26 07:14:00+00:00",
          "2021-05-26 13:00:00+00:00",
          "2021-05-27 02:41:00+00:00",
          "2021-05-27 07:00:00+00:00",
          "2021-06-08 07:00:00+00:00",
          "2021-06-08 10:00:00+00:00",
          "2021-06-08 12:00:00+00:00",
          "2021-06-08 13:00:00+00:00",
          "2021-06-09 08:00:00+00:00",
          "2021-06-10 12:00:00+00:00",
          "2021-06-11 16:00:00+00:00",
          "2021-06-14 16:29:00+00:00",
          "2021-06-15 08:00:00+00:00",
          "2021-06-15 13:38:00+00:00",
          "2021-06-17 07:00:00+00:00",
          "2021-06-21 03:00:00+00:00",
          "2021-06-21 06:00:00+00:00",
          "2021-06-22 05:00:00+00:00",
          "2021-06-22 07:00:00+00:00",
          "2021-06-22 08:00:00+00:00",
          "2021-06-30 07:00:00+00:00",
          "2021-07-01 07:00:00+00:00",
          "2021-07-01 11:00:00+00:00",
          "2021-07-06 07:00:00+00:00",
          "2021-07-06 16:00:00+00:00",
          "2021-07-07 04:00:00+00:00",
          "2021-07-07 05:56:00+00:00",
          "2021-07-07 13:50:00+00:00",
          "2021-07-08 13:36:00+00:00",
          "2021-07-09 07:27:00+00:00",
          "2021-07-09 10:00:00+00:00",
          "2021-07-12 07:00:00+00:00",
          "2021-07-12 07:28:00+00:00",
          "2021-07-12 10:00:00+00:00",
          "2021-07-12 13:00:00+00:00",
          "2021-07-13 05:00:00+00:00",
          "2021-07-14 13:00:00+00:00",
          "2021-07-15 07:27:00+00:00",
          "2021-07-16 07:51:00+00:00",
          "2021-07-19 06:00:00+00:00",
          "2021-07-20 03:28:00+00:00",
          "2021-07-20 14:01:00+00:00",
          "2021-07-21 07:00:00+00:00",
          "2021-07-22 07:00:00+00:00",
          "2021-07-23 07:21:00+00:00",
          "2021-07-23 12:38:00+00:00",
          "2021-07-26 08:44:00+00:00",
          "2021-07-26 09:00:00+00:00",
          "2021-07-27 06:00:00+00:00",
          "2021-07-27 07:00:00+00:00",
          "2021-07-27 08:20:00+00:00",
          "2021-07-27 13:00:00+00:00",
          "2021-07-27 14:50:00+00:00",
          "2021-07-29 08:00:00+00:00",
          "2021-07-30 07:00:00+00:00",
          "2021-08-02 09:00:00+00:00",
          "2021-08-03 08:00:00+00:00",
          "2021-08-04 12:00:00+00:00",
          "2021-08-05 14:00:00+00:00",
          "2021-08-09 08:00:00+00:00",
          "2021-08-09 09:28:00+00:00",
          "2021-08-10 08:00:00+00:00",
          "2021-08-11 12:00:00+00:00",
          "2021-08-11 16:29:00+00:00",
          "2021-08-12 11:00:00+00:00",
          "2021-08-12 13:00:00+00:00",
          "2021-08-12 14:00:00+00:00",
          "2021-08-13 07:00:00+00:00",
          "2021-08-16 06:00:00+00:00",
          "2021-08-16 11:00:00+00:00",
          "2021-08-17 06:00:00+00:00",
          "2021-08-17 07:06:00+00:00",
          "2021-08-17 10:00:00+00:00",
          "2021-08-17 16:00:00+00:00",
          "2021-08-18 08:00:00+00:00",
          "2021-08-18 11:49:00+00:00",
          "2021-08-19 06:00:00+00:00",
          "2021-08-19 06:27:00+00:00",
          "2021-08-19 07:00:00+00:00",
          "2021-08-19 07:57:00+00:00",
          "2021-08-19 12:41:00+00:00",
          "2021-08-19 14:00:00+00:00",
          "2021-08-20 05:00:00+00:00",
          "2021-08-20 08:00:00+00:00",
          "2021-08-20 11:00:00+00:00",
          "2021-08-20 13:00:00+00:00",
          "2021-08-20 13:46:00+00:00",
          "2021-08-23 06:00:00+00:00",
          "2021-08-23 14:00:00+00:00",
          "2021-08-24 07:00:00+00:00",
          "2021-08-24 08:00:00+00:00",
          "2021-08-24 10:00:00+00:00",
          "2021-08-24 13:31:00+00:00",
          "2021-08-25 14:00:00+00:00",
          "2021-08-26 11:00:00+00:00",
          "2021-08-26 12:36:00+00:00",
          "2021-08-27 06:56:00+00:00",
          "2021-08-30 16:29:00+00:00",
          "2021-08-31 06:34:00+00:00",
          "2021-09-01 07:00:00+00:00",
          "2021-09-02 07:38:00+00:00",
          "2021-09-06 15:04:00+00:00",
          "2021-09-07 10:00:00+00:00",
          "2021-09-07 16:00:00+00:00",
          "2021-09-08 14:00:00+00:00",
          "2021-09-08 16:29:00+00:00",
          "2021-09-13 06:41:00+00:00",
          "2021-09-13 10:00:00+00:00",
          "2021-09-15 13:55:00+00:00",
          "2021-09-16 11:35:00+00:00",
          "2021-09-17 13:54:00+00:00",
          "2021-09-20 06:10:00+00:00",
          "2021-09-20 06:45:00+00:00",
          "2021-09-23 08:12:00+00:00",
          "2021-09-23 10:11:00+00:00",
          "2021-09-23 10:49:00+00:00",
          "2021-09-23 11:08:00+00:00",
          "2021-09-24 13:33:00+00:00",
          "2021-09-27 11:13:00+00:00",
          "2021-09-28 09:50:00+00:00",
          "2021-09-29 13:34:00+00:00",
          "2021-09-29 14:45:00+00:00",
          "2021-09-30 15:12:00+00:00",
          "2021-10-01 06:54:00+00:00",
          "2021-10-01 09:35:00+00:00",
          "2021-10-04 07:06:00+00:00",
          "2021-10-04 08:00:00+00:00",
          "2021-10-05 14:45:00+00:00",
          "2021-10-07 09:17:00+00:00",
          "2021-10-08 14:05:00+00:00",
          "2021-10-12 06:45:00+00:00",
          "2021-10-12 09:12:00+00:00",
          "2021-10-12 12:04:00+00:00",
          "2021-10-13 10:16:00+00:00",
          "2021-10-25 08:56:00+00:00",
          "2021-10-25 09:23:00+00:00",
          "2021-10-25 10:50:00+00:00",
          "2021-10-25 13:50:00+00:00",
          "2021-10-27 08:42:00+00:00",
          "2021-10-27 09:01:00+00:00",
          "2021-10-27 10:48:00+00:00",
          "2021-10-28 07:59:00+00:00",
          "2021-11-01 09:00:00+00:00",
          "2021-11-01 10:59:00+00:00",
          "2021-11-02 08:52:00+00:00",
          "2021-11-02 12:00:00+00:00",
          "2021-11-03 12:56:00+00:00",
          "2021-11-04 08:15:00+00:00",
          "2021-11-04 08:44:00+00:00",
          "2021-11-04 10:09:00+00:00",
          "2021-11-04 11:36:00+00:00",
          "2021-11-04 12:00:00+00:00",
          "2021-11-08 15:28:00+00:00",
          "2021-11-08 17:29:00+00:00",
          "2021-11-09 08:12:00+00:00",
          "2021-11-09 14:54:00+00:00",
          "2021-11-11 17:29:00+00:00",
          "2021-11-17 17:29:00+00:00",
          "2021-11-18 05:05:00+00:00",
          "2021-11-18 06:11:00+00:00",
          "2021-11-18 09:20:00+00:00",
          "2021-11-22 11:48:00+00:00",
          "2021-11-24 04:01:00+00:00",
          "2021-11-24 07:58:00+00:00",
          "2021-11-24 08:00:00+00:00",
          "2021-11-24 17:29:00+00:00",
          "2021-11-29 10:55:00+00:00",
          "2021-11-30 05:19:00+00:00",
          "2021-11-30 06:01:00+00:00",
          "2021-11-30 11:15:00+00:00",
          "2021-11-30 13:32:00+00:00",
          "2021-11-30 14:45:00+00:00",
          "2021-12-02 13:45:00+00:00",
          "2021-12-02 17:10:00+00:00",
          "2021-12-03 11:02:00+00:00",
          "2021-12-03 12:01:00+00:00",
          "2021-12-06 16:19:00+00:00",
          "2021-12-07 08:33:00+00:00",
          "2021-12-07 09:09:00+00:00",
          "2021-12-07 10:52:00+00:00",
          "2021-12-07 11:23:00+00:00",
          "2021-12-07 13:18:00+00:00",
          "2021-12-08 10:36:00+00:00",
          "2021-12-08 13:54:00+00:00",
          "2021-12-09 10:42:00+00:00",
          "2021-12-09 10:48:00+00:00",
          "2021-12-09 14:24:00+00:00",
          "2021-12-13 10:17:00+00:00",
          "2021-12-14 11:10:00+00:00",
          "2021-12-15 14:59:00+00:00",
          "2021-12-16 08:15:00+00:00",
          "2021-12-17 10:03:00+00:00",
          "2021-12-17 12:47:00+00:00",
          "2021-12-20 13:14:00+00:00",
          "2021-12-21 16:13:00+00:00",
          "2021-12-27 12:32:00+00:00",
          "2022-01-04 08:01:00+00:00",
          "2022-01-04 09:45:00+00:00",
          "2022-01-05 10:37:00+00:00",
          "2022-01-05 16:20:00+00:00",
          "2022-01-06 10:13:00+00:00",
          "2022-01-12 13:06:00+00:00",
          "2022-01-13 12:01:00+00:00",
          "2022-01-14 12:24:00+00:00",
          "2022-01-14 12:28:00+00:00",
          "2022-01-17 12:06:00+00:00",
          "2022-01-17 15:28:00+00:00",
          "2022-01-18 08:15:00+00:00",
          "2022-01-19 09:45:00+00:00",
          "2022-01-20 08:21:00+00:00",
          "2022-01-20 10:35:00+00:00",
          "2022-01-20 11:56:00+00:00",
          "2022-01-24 11:26:00+00:00",
          "2022-01-24 13:31:00+00:00",
          "2022-01-24 15:11:00+00:00",
          "2022-01-25 11:55:00+00:00",
          "2022-01-26 16:23:00+00:00",
          "2022-01-27 11:38:00+00:00",
          "2022-01-31 16:42:00+00:00",
          "2022-02-01 15:25:00+00:00"
         ],
         "y": [
          -0.9999999999999464,
          -2.0036496350363597,
          -2.025780782577239,
          -2.062071105157828,
          -3.062071105157912,
          -4.067071105157737,
          -2.1861187242053344,
          -3.1907058801686103,
          -2.863512897712478,
          -0.4479284821280447,
          -1.4433413261649317,
          -0.9428988482888129,
          -0.5428988482887978,
          -1.537948353239401,
          -1.1714266141089584,
          1.2885733858911348,
          0.28857338589112036,
          -0.7114266141088859,
          1.457746318221977,
          1.3057726340114542,
          0.30931873330221327,
          1.302037179904218,
          0.3020371799042695,
          -0.6997613812467368,
          -0.5686934200816695,
          -1.5716696105578274,
          -0.15447215832858596,
          0.27521534167137846,
          0.7914164589898021,
          -0.20858354101019605,
          0.28750584446465133,
          1.7734562576878403,
          0.7734562576878385,
          1.741486948224944,
          3.060441196590939,
          2.060441196590862,
          2.9742343000390905,
          1.9702972921650928,
          2.568270265138098,
          1.5631156259628756,
          2.4311156259629954,
          3.2131669080142586,
          2.210172896038272,
          1.2101728960382738,
          0.21017289603818035,
          -0.7916789558136557,
          -1.7916789558136466,
          -2.074580510217817,
          -1.7041894487652651,
          "",
          -2.700643349474506,
          -2.8742697231008716,
          -1.8928594666906844,
          -1.2570569975549455,
          -2.2605052734170035,
          -1.425930805331979,
          -2.4248414807132503,
          -3.4248414807132885,
          -2.1182377071284986,
          -0.7015710404617939,
          0.7017402178162953,
          1.3017402178162292,
          2.1593159753920332,
          2.6622571518626406,
          1.6676334959486498,
          0.6701460587625991,
          0.6534793920959205,
          0.48885885638162496,
          0.8631445706672992,
          1.2775414578268536,
          1.9275414578267869,
          2.5182903565052044,
          4.467442898878096,
          5.038871470306689,
          4.038871470306867,
          4.772534836643542,
          5.983061152433017,
          6.134709504081436,
          5.134709504081398,
          6.199486832016584,
          7.532820165349833,
          6.532820165349795,
          7.233963022492678,
          7.375342332837513,
          6.375342332837337,
          6.5617830108034685,
          8.462546369582206,
          7.462546369582364,
          6.462546369582552,
          6.883048461632759,
          5.887810366394649,
          5.9072760152496055,
          6.916535274508684,
          5.925307204332984,
          5.989338824886342,
          4.989338824886197,
          5.520507656055028,
          4.5274521004992705,
          4.4515592433564315,
          4.391559243356334,
          3.388685680137973,
          3.742357996522205,
          4.9577835284370515,
          3.9618485690874397,
          6.109284466523352,
          7.350563536290888,
          6.3475332332606085,
          7.994425888627841,
          8.871211602913558,
          9.375680876656554,
          11.436164747624257,
          10.436164747624188,
          9.436164747624337,
          10.397746668528388,
          10.984313832707493,
          9.98431383270754,
          11.123495119257235,
          12.562145426005683,
          11.562145426005493,
          10.562145426005403,
          11.942427116146167,
          12.507543395215922,
          13.184185730982305,
          13.017949020538339,
          12.02130472523624,
          11.024850824526998,
          11.17332021228207,
          12.782120212282043,
          13.581752565223182,
          12.578304289361125,
          11.578304289360815,
          12.800526511583083,
          14.471600891748366,
          13.938672276268907,
          15.378923848595893,
          17.50200077167272,
          17.549938916002624,
          18.314969590849223,
          17.318515690139982,
          16.318515690139822,
          15.31851569013985,
          14.32351569013979,
          13.326527738332508,
          14.22652773833243,
          15.622249663466068,
          14.622249663466054,
          13.622249663466091,
          13.710595528127687,
          12.70702409955644,
          12.462171158379991,
          11.468750105748343,
          10.46875010574826,
          "",
          10.862500105748243,
          10.862500105748243,
          11.475357248605428,
          13.001673038079131,
          11.999095718491624,
          12.720524289920188,
          11.722581903088885,
          12.766417519527204,
          13.394003726423811,
          12.39093624176124,
          11.393761100518278,
          12.10626110051827,
          11.10348332274052,
          10.103483322740516,
          9.103483322740548,
          9.405681124938377,
          8.403673092809898,
          7.403673092809707,
          8.030192429826338,
          7.025241934776959,
          7.9558469169833295,
          8.526578624300383,
          7.530745290966913,
          9.037787544488031,
          10.88993808212243,
          11.798633734296311,
          12.45584303662186,
          13.368764384936467,
          12.366689696139801,
          12.146367115494598,
          11.146367115494721,
          10.143182402118931,
          9.13936560822589,
          "",
          10.773386226782675,
          12.79628699014145,
          13.378254203256141,
          13.351468488970383,
          13.902532318757636,
          14.655435544564106,
          13.651529294564122,
          12.651529294564279,
          13.749702810546001,
          12.749702810545964,
          11.74970281054597,
          12.282569943413144,
          11.282569943413106,
          10.279881771370121,
          9.279881771370107,
          9.715842362503052,
          8.712883782621399,
          7.709286660319253,
          8.74738189841444,
          9.244942874024181,
          10.22642435550559,
          9.2264243555058,
          10.128863379896055,
          9.128863379896204,
          8.126006237039064,
          7.126006237039048,
          8.747553198364985,
          8.644428198364936,
          9.347999626936375,
          10.615295224420642,
          11.435487532112958,
          10.43548753211299,
          9.435487532113093,
          9.529094838049184,
          10.851580045149717,
          12.224768450946888,
          11.224768450946735,
          12.543733968188091,
          13.992121064962287,
          15.303639389569645,
          14.303639389569657,
          13.30144640711353,
          12.303369484036597,
          11.3058447315613,
          "",
          13.496110218286935,
          14.662776884953683,
          14.907185830640616,
          15.880754112578932,
          16.403863356276364,
          17.632487891592373,
          18.207348226787932,
          19.092870112309836,
          20.25712132003937,
          19.260642446799878,
          19.087802940626915,
          18.09070991737105,
          17.09070991737105,
          16.090709917371218,
          16.633484483845283,
          15.633484483845175,
          16.96096986396219,
          15.960969863962239,
          14.960969863962458,
          13.958392544374949,
          12.958392544375027,
          13.61221927320175,
          14.07820912091746,
          13.08143492736899,
          12.085251721262027,
          11.081492322765802,
          10.077524068797604,
          "",
          "",
          9.080431045541738,
          8.077052667163466,
          7.077052667163421,
          7.591338381449121,
          "",
          9.004259729763803,
          9.502165488926117,
          8.502165488926105,
          10.167519819634684,
          10.90856459575407,
          9.908564595753981,
          10.392585214310664,
          11.158169629895136,
          10.160270470231271,
          11.442436075326835,
          11.896252116860389,
          13.159309441701156,
          12.159309441701067,
          13.200829909537262,
          13.345657495744165,
          13.315045250846234,
          15.14587231851528,
          15.802001350773342,
          17.489152188762286,
          17.717104944667778,
          18.29028930220965,
          19.12044803236833,
          20.242296771864254,
          19.242296771864304,
          18.24229677186434,
          17.238800268367914,
          17.743646083345947,
          16.743646083345965,
          17.2308255705255,
          17.69210376601419,
          18.31812417417744,
          18.827298486104052,
          17.82729848610394,
          16.829875805691564,
          17.40000567582139,
          17.615422342488056,
          16.615422342488042,
          18.33694132982983,
          18.860018252906716,
          20.760018252906676,
          22.163451729301567,
          23.093029194090313,
          24.71598001376249,
          23.715980013762433,
          25.005217681923867,
          26.354027205733345,
          27.799442052894918,
          26.801190304643125,
          26.63776618012952,
          27.18165107221587,
          26.181651072215832,
          25.18018479655602,
          24.18018479655601,
          23.18018479655608,
          22.177040142468154,
          22.649999326141664,
          22.622850004874696,
          21.624866133906945,
          22.867018600274623,
          24.481543739939386,
          25.245180103575812,
          24.24518010357575,
          23.245180103575688,
          "",
          22.245180103575716,
          22.846608675004276,
          22.850105178500797,
          23.186343710610863,
          22.18862681563367,
          23.07931004544735,
          23.171795594580246,
          22.169522867307577,
          22.19952286730759,
          22.765586215723843,
          21.76808621572384,
          20.768086215723823,
          19.77135418958001,
          18.771354189580038,
          18.202933136948438,
          19.03626647028175,
          18.03626647028179,
          17.03626647028171,
          16.036266470281646,
          15.038911972927123,
          "",
          14.03891197292711,
          15.258670037443185,
          14.256277692945618,
          14.204144991523838,
          15.426367213746133,
          14.429160509835441,
          13.42663525731021,
          12.42663525731024,
          11.423038135008095,
          "",
          12.588236372893524,
          13.854745806855789,
          12.854745806855847,
          11.857172991321864,
          12.498349461910069,
          13.83758391167077,
          15.245840792404685,
          14.245840792404756,
          15.572943596143089,
          14.575175739000226,
          17.47463226073941,
          18.569493920818452,
          20.02803050618431,
          21.264568967722802,
          22.500005860926667,
          24.002238003783813,
          23.00591447437199,
          24.453675668401797,
          25.81622248488125,
          26.249000262659028,
          26.95334808874601,
          27.557654308841695,
          26.56021841140577,
          25.562501516428576,
          26.23393008785715,
          26.72069479373953,
          28.689248252859024,
          27.68671018179308,
          26.684618131583907,
          25.684618131583868,
          25.64615659312228,
          24.64374113418517,
          25.211273601717654,
          25.804636433576064,
          27.058157560336582,
          27.647497661859425,
          28.040472868471007,
          29.484134840301962
         ]
        },
        {
         "connectgaps": true,
         "fill": "tozeroy",
         "fillcolor": "rgba(255, 202, 177, 0.3)",
         "line": {
          "color": "rgba(255, 202, 177, 1.0)",
          "dash": "solid",
          "shape": "hv",
          "width": 2
         },
         "mode": "lines",
         "name": "result_60_40_old",
         "text": "",
         "type": "scatter",
         "x": [
          "2020-11-05 13:05:00+00:00",
          "2020-11-05 13:42:00+00:00",
          "2020-11-06 03:27:00+00:00",
          "2020-11-09 09:57:00+00:00",
          "2020-11-11 00:06:00+00:00",
          "2020-11-11 01:02:00+00:00",
          "2020-11-30 07:16:00+00:00",
          "2020-12-01 07:07:00+00:00",
          "2020-12-01 12:58:00+00:00",
          "2020-12-01 14:22:00+00:00",
          "2020-12-04 13:30:00+00:00",
          "2020-12-07 12:48:00+00:00",
          "2020-12-09 07:48:00+00:00",
          "2020-12-10 15:32:00+00:00",
          "2020-12-11 07:36:00+00:00",
          "2020-12-16 07:52:00+00:00",
          "2020-12-17 14:22:00+00:00",
          "2020-12-17 15:04:00+00:00",
          "2020-12-17 16:07:00+00:00",
          "2020-12-18 07:16:00+00:00",
          "2020-12-18 08:27:00+00:00",
          "2020-12-21 14:22:00+00:00",
          "2020-12-22 14:57:00+00:00",
          "2020-12-22 16:01:00+00:00",
          "2020-12-30 13:50:00+00:00",
          "2020-12-31 07:59:00+00:00",
          "2021-01-04 08:34:00+00:00",
          "2021-01-05 11:14:00+00:00",
          "2021-01-07 16:42:00+00:00",
          "2021-01-08 05:17:00+00:00",
          "2021-01-08 17:09:00+00:00",
          "2021-01-11 12:18:00+00:00",
          "2021-01-11 15:19:00+00:00",
          "2021-01-12 09:53:00+00:00",
          "2021-01-15 15:08:00+00:00",
          "2021-01-19 07:24:00+00:00",
          "2021-01-20 14:22:00+00:00",
          "2021-01-21 13:33:00+00:00",
          "2021-01-21 14:19:00+00:00",
          "2021-01-22 13:16:00+00:00",
          "2021-01-25 15:50:00+00:00",
          "2021-01-26 14:17:00+00:00",
          "2021-01-28 01:10:00+00:00",
          "2021-01-29 06:48:00+00:00",
          "2021-01-29 08:08:00+00:00",
          "2021-02-01 08:51:00+00:00",
          "2021-02-01 12:16:00+00:00",
          "2021-02-01 13:13:00+00:00",
          "2021-02-01 13:15:00+00:00",
          "2021-02-01 13:16:00+00:00",
          "2021-02-02 08:20:00+00:00",
          "2021-02-03 04:40:00+00:00",
          "2021-02-03 08:04:00+00:00",
          "2021-02-03 17:29:00+00:00",
          "2021-02-05 08:00:00+00:00",
          "2021-02-08 10:27:00+00:00",
          "2021-02-09 07:00:00+00:00",
          "2021-02-16 14:00:00+00:00",
          "2021-02-17 12:43:00+00:00",
          "2021-02-18 08:00:00+00:00",
          "2021-02-22 07:10:00+00:00",
          "2021-02-23 07:00:00+00:00",
          "2021-02-23 10:00:00+00:00",
          "2021-02-24 08:12:00+00:00",
          "2021-02-25 07:00:00+00:00",
          "2021-02-25 08:00:00+00:00",
          "2021-02-25 08:36:00+00:00",
          "2021-03-01 13:00:00+00:00",
          "2021-03-01 15:59:00+00:00",
          "2021-03-02 08:56:00+00:00",
          "2021-03-02 15:00:00+00:00",
          "2021-03-03 11:39:00+00:00",
          "2021-03-03 15:59:00+00:00",
          "2021-03-05 13:00:00+00:00",
          "2021-03-09 05:00:00+00:00",
          "2021-03-09 07:36:00+00:00",
          "2021-03-09 08:00:00+00:00",
          "2021-03-09 16:00:00+00:00",
          "2021-03-10 06:00:00+00:00",
          "2021-03-10 08:00:00+00:00",
          "2021-03-10 14:00:00+00:00",
          "2021-03-12 09:00:00+00:00",
          "2021-03-12 16:42:00+00:00",
          "2021-03-15 10:55:00+00:00",
          "2021-03-16 05:44:00+00:00",
          "2021-03-16 07:57:00+00:00",
          "2021-03-17 07:04:00+00:00",
          "2021-03-17 13:50:00+00:00",
          "2021-03-18 03:35:00+00:00",
          "2021-03-18 05:27:00+00:00",
          "2021-03-19 04:22:00+00:00",
          "2021-03-19 08:00:00+00:00",
          "2021-03-22 05:36:00+00:00",
          "2021-03-22 06:48:00+00:00",
          "2021-03-22 12:03:00+00:00",
          "2021-03-23 04:27:00+00:00",
          "2021-03-23 06:16:00+00:00",
          "2021-03-24 02:36:00+00:00",
          "2021-03-24 08:20:00+00:00",
          "2021-03-25 04:48:00+00:00",
          "2021-03-26 06:49:00+00:00",
          "2021-03-29 05:00:00+00:00",
          "2021-03-29 07:51:00+00:00",
          "2021-03-30 05:55:00+00:00",
          "2021-03-30 08:00:00+00:00",
          "2021-03-31 13:00:00+00:00",
          "2021-04-01 07:00:00+00:00",
          "2021-04-01 08:00:00+00:00",
          "2021-04-05 12:00:00+00:00",
          "2021-04-06 13:45:00+00:00",
          "2021-04-06 14:00:00+00:00",
          "2021-04-07 05:51:00+00:00",
          "2021-04-07 06:30:00+00:00",
          "2021-04-07 07:00:00+00:00",
          "2021-04-08 07:00:00+00:00",
          "2021-04-08 08:46:00+00:00",
          "2021-04-08 09:37:00+00:00",
          "2021-04-09 12:00:00+00:00",
          "2021-04-12 02:14:00+00:00",
          "2021-04-12 05:45:00+00:00",
          "2021-04-12 08:00:00+00:00",
          "2021-04-13 07:00:00+00:00",
          "2021-04-13 07:57:00+00:00",
          "2021-04-13 10:00:00+00:00",
          "2021-04-14 06:38:00+00:00",
          "2021-04-14 07:00:00+00:00",
          "2021-04-14 08:17:00+00:00",
          "2021-04-14 09:41:00+00:00",
          "2021-04-16 10:00:00+00:00",
          "2021-04-19 08:00:00+00:00",
          "2021-04-19 08:54:00+00:00",
          "2021-04-19 10:00:00+00:00",
          "2021-04-20 06:00:00+00:00",
          "2021-04-20 13:00:00+00:00",
          "2021-04-21 07:00:00+00:00",
          "2021-04-21 07:57:00+00:00",
          "2021-04-22 07:00:00+00:00",
          "2021-04-22 08:42:00+00:00",
          "2021-04-22 12:00:00+00:00",
          "2021-04-22 12:33:00+00:00",
          "2021-04-23 12:00:00+00:00",
          "2021-04-23 12:22:00+00:00",
          "2021-04-26 11:00:00+00:00",
          "2021-04-26 12:40:00+00:00",
          "2021-04-27 14:00:00+00:00",
          "2021-04-28 13:00:00+00:00",
          "2021-04-29 16:00:00+00:00",
          "2021-04-29 16:29:00+00:00",
          "2021-04-30 01:00:00+00:00",
          "2021-04-30 06:00:00+00:00",
          "2021-04-30 06:18:00+00:00",
          "2021-04-30 10:08:00+00:00",
          "2021-04-30 14:52:00+00:00",
          "2021-05-03 12:44:00+00:00",
          "2021-05-04 13:00:00+00:00",
          "2021-05-04 13:49:00+00:00",
          "2021-05-04 15:00:00+00:00",
          "2021-05-05 13:36:00+00:00",
          "2021-05-05 14:00:00+00:00",
          "2021-05-06 10:00:00+00:00",
          "2021-05-06 14:00:00+00:00",
          "2021-05-07 12:00:00+00:00",
          "2021-05-10 05:00:00+00:00",
          "2021-05-10 06:00:00+00:00",
          "2021-05-10 14:00:00+00:00",
          "2021-05-11 08:00:00+00:00",
          "2021-05-11 10:00:00+00:00",
          "2021-05-11 12:00:00+00:00",
          "2021-05-11 13:19:00+00:00",
          "2021-05-12 12:00:00+00:00",
          "2021-05-13 05:00:00+00:00",
          "2021-05-13 07:53:00+00:00",
          "2021-05-14 06:00:00+00:00",
          "2021-05-14 13:00:00+00:00",
          "2021-05-17 15:00:00+00:00",
          "2021-05-19 00:00:00+00:00",
          "2021-05-19 12:00:00+00:00",
          "2021-05-20 09:00:00+00:00",
          "2021-05-24 13:47:00+00:00",
          "2021-05-26 07:14:00+00:00",
          "2021-05-26 13:00:00+00:00",
          "2021-05-27 02:41:00+00:00",
          "2021-05-27 07:00:00+00:00",
          "2021-06-08 07:00:00+00:00",
          "2021-06-08 10:00:00+00:00",
          "2021-06-08 12:00:00+00:00",
          "2021-06-08 13:00:00+00:00",
          "2021-06-09 08:00:00+00:00",
          "2021-06-10 12:00:00+00:00",
          "2021-06-11 16:00:00+00:00",
          "2021-06-14 16:29:00+00:00",
          "2021-06-15 08:00:00+00:00",
          "2021-06-15 13:38:00+00:00",
          "2021-06-17 07:00:00+00:00",
          "2021-06-21 03:00:00+00:00",
          "2021-06-21 06:00:00+00:00",
          "2021-06-22 05:00:00+00:00",
          "2021-06-22 07:00:00+00:00",
          "2021-06-22 08:00:00+00:00",
          "2021-06-30 07:00:00+00:00",
          "2021-07-01 07:00:00+00:00",
          "2021-07-01 11:00:00+00:00",
          "2021-07-06 07:00:00+00:00",
          "2021-07-06 16:00:00+00:00",
          "2021-07-07 04:00:00+00:00",
          "2021-07-07 05:56:00+00:00",
          "2021-07-07 13:50:00+00:00",
          "2021-07-08 13:36:00+00:00",
          "2021-07-09 07:27:00+00:00",
          "2021-07-09 10:00:00+00:00",
          "2021-07-12 07:00:00+00:00",
          "2021-07-12 07:28:00+00:00",
          "2021-07-12 10:00:00+00:00",
          "2021-07-12 13:00:00+00:00",
          "2021-07-13 05:00:00+00:00",
          "2021-07-14 13:00:00+00:00",
          "2021-07-15 07:27:00+00:00",
          "2021-07-16 07:51:00+00:00",
          "2021-07-19 06:00:00+00:00",
          "2021-07-20 03:28:00+00:00",
          "2021-07-20 14:01:00+00:00",
          "2021-07-21 07:00:00+00:00",
          "2021-07-22 07:00:00+00:00",
          "2021-07-23 07:21:00+00:00",
          "2021-07-23 12:38:00+00:00",
          "2021-07-26 08:44:00+00:00",
          "2021-07-26 09:00:00+00:00",
          "2021-07-27 06:00:00+00:00",
          "2021-07-27 07:00:00+00:00",
          "2021-07-27 08:20:00+00:00",
          "2021-07-27 13:00:00+00:00",
          "2021-07-27 14:50:00+00:00",
          "2021-07-29 08:00:00+00:00",
          "2021-07-30 07:00:00+00:00",
          "2021-08-02 09:00:00+00:00",
          "2021-08-03 08:00:00+00:00",
          "2021-08-04 12:00:00+00:00",
          "2021-08-05 14:00:00+00:00",
          "2021-08-09 08:00:00+00:00",
          "2021-08-09 09:28:00+00:00",
          "2021-08-10 08:00:00+00:00",
          "2021-08-11 12:00:00+00:00",
          "2021-08-11 16:29:00+00:00",
          "2021-08-12 11:00:00+00:00",
          "2021-08-12 13:00:00+00:00",
          "2021-08-12 14:00:00+00:00",
          "2021-08-13 07:00:00+00:00",
          "2021-08-16 06:00:00+00:00",
          "2021-08-16 11:00:00+00:00",
          "2021-08-17 06:00:00+00:00",
          "2021-08-17 07:06:00+00:00",
          "2021-08-17 10:00:00+00:00",
          "2021-08-17 16:00:00+00:00",
          "2021-08-18 08:00:00+00:00",
          "2021-08-18 11:49:00+00:00",
          "2021-08-19 06:00:00+00:00",
          "2021-08-19 06:27:00+00:00",
          "2021-08-19 07:00:00+00:00",
          "2021-08-19 07:57:00+00:00",
          "2021-08-19 12:41:00+00:00",
          "2021-08-19 14:00:00+00:00",
          "2021-08-20 05:00:00+00:00",
          "2021-08-20 08:00:00+00:00",
          "2021-08-20 11:00:00+00:00",
          "2021-08-20 13:00:00+00:00",
          "2021-08-20 13:46:00+00:00",
          "2021-08-23 06:00:00+00:00",
          "2021-08-23 14:00:00+00:00",
          "2021-08-24 07:00:00+00:00",
          "2021-08-24 08:00:00+00:00",
          "2021-08-24 10:00:00+00:00",
          "2021-08-24 13:31:00+00:00",
          "2021-08-25 14:00:00+00:00",
          "2021-08-26 11:00:00+00:00",
          "2021-08-26 12:36:00+00:00",
          "2021-08-27 06:56:00+00:00",
          "2021-08-30 16:29:00+00:00",
          "2021-08-31 06:34:00+00:00",
          "2021-09-01 07:00:00+00:00",
          "2021-09-02 07:38:00+00:00",
          "2021-09-06 15:04:00+00:00",
          "2021-09-07 10:00:00+00:00",
          "2021-09-07 16:00:00+00:00",
          "2021-09-08 14:00:00+00:00",
          "2021-09-08 16:29:00+00:00",
          "2021-09-13 06:41:00+00:00",
          "2021-09-13 10:00:00+00:00",
          "2021-09-15 13:55:00+00:00",
          "2021-09-16 11:35:00+00:00",
          "2021-09-17 13:54:00+00:00",
          "2021-09-20 06:10:00+00:00",
          "2021-09-20 06:45:00+00:00",
          "2021-09-23 08:12:00+00:00",
          "2021-09-23 10:11:00+00:00",
          "2021-09-23 10:49:00+00:00",
          "2021-09-23 11:08:00+00:00",
          "2021-09-24 13:33:00+00:00",
          "2021-09-27 11:13:00+00:00",
          "2021-09-28 09:50:00+00:00",
          "2021-09-29 13:34:00+00:00",
          "2021-09-29 14:45:00+00:00",
          "2021-09-30 15:12:00+00:00",
          "2021-10-01 06:54:00+00:00",
          "2021-10-01 09:35:00+00:00",
          "2021-10-04 07:06:00+00:00",
          "2021-10-04 08:00:00+00:00",
          "2021-10-05 14:45:00+00:00",
          "2021-10-07 09:17:00+00:00",
          "2021-10-08 14:05:00+00:00",
          "2021-10-12 06:45:00+00:00",
          "2021-10-12 09:12:00+00:00",
          "2021-10-12 12:04:00+00:00",
          "2021-10-13 10:16:00+00:00",
          "2021-10-25 08:56:00+00:00",
          "2021-10-25 09:23:00+00:00",
          "2021-10-25 10:50:00+00:00",
          "2021-10-25 13:50:00+00:00",
          "2021-10-27 08:42:00+00:00",
          "2021-10-27 09:01:00+00:00",
          "2021-10-27 10:48:00+00:00",
          "2021-10-28 07:59:00+00:00",
          "2021-11-01 09:00:00+00:00",
          "2021-11-01 10:59:00+00:00",
          "2021-11-02 08:52:00+00:00",
          "2021-11-02 12:00:00+00:00",
          "2021-11-03 12:56:00+00:00",
          "2021-11-04 08:15:00+00:00",
          "2021-11-04 08:44:00+00:00",
          "2021-11-04 10:09:00+00:00",
          "2021-11-04 11:36:00+00:00",
          "2021-11-04 12:00:00+00:00",
          "2021-11-08 15:28:00+00:00",
          "2021-11-08 17:29:00+00:00",
          "2021-11-09 08:12:00+00:00",
          "2021-11-09 14:54:00+00:00",
          "2021-11-11 17:29:00+00:00",
          "2021-11-17 17:29:00+00:00",
          "2021-11-18 05:05:00+00:00",
          "2021-11-18 06:11:00+00:00",
          "2021-11-18 09:20:00+00:00",
          "2021-11-22 11:48:00+00:00",
          "2021-11-24 04:01:00+00:00",
          "2021-11-24 07:58:00+00:00",
          "2021-11-24 08:00:00+00:00",
          "2021-11-24 17:29:00+00:00",
          "2021-11-29 10:55:00+00:00",
          "2021-11-30 05:19:00+00:00",
          "2021-11-30 06:01:00+00:00",
          "2021-11-30 11:15:00+00:00",
          "2021-11-30 13:32:00+00:00",
          "2021-11-30 14:45:00+00:00",
          "2021-12-02 13:45:00+00:00",
          "2021-12-02 17:10:00+00:00",
          "2021-12-03 11:02:00+00:00",
          "2021-12-03 12:01:00+00:00",
          "2021-12-06 16:19:00+00:00",
          "2021-12-07 08:33:00+00:00",
          "2021-12-07 09:09:00+00:00",
          "2021-12-07 10:52:00+00:00",
          "2021-12-07 11:23:00+00:00",
          "2021-12-07 13:18:00+00:00",
          "2021-12-08 10:36:00+00:00",
          "2021-12-08 13:54:00+00:00",
          "2021-12-09 10:42:00+00:00",
          "2021-12-09 10:48:00+00:00",
          "2021-12-09 14:24:00+00:00",
          "2021-12-13 10:17:00+00:00",
          "2021-12-14 11:10:00+00:00",
          "2021-12-15 14:59:00+00:00",
          "2021-12-16 08:15:00+00:00",
          "2021-12-17 10:03:00+00:00",
          "2021-12-17 12:47:00+00:00",
          "2021-12-20 13:14:00+00:00",
          "2021-12-21 16:13:00+00:00",
          "2021-12-27 12:32:00+00:00",
          "2022-01-04 08:01:00+00:00",
          "2022-01-04 09:45:00+00:00",
          "2022-01-05 10:37:00+00:00",
          "2022-01-05 16:20:00+00:00",
          "2022-01-06 10:13:00+00:00",
          "2022-01-12 13:06:00+00:00",
          "2022-01-13 12:01:00+00:00",
          "2022-01-14 12:24:00+00:00",
          "2022-01-14 12:28:00+00:00",
          "2022-01-17 12:06:00+00:00",
          "2022-01-17 15:28:00+00:00",
          "2022-01-18 08:15:00+00:00",
          "2022-01-19 09:45:00+00:00",
          "2022-01-20 08:21:00+00:00",
          "2022-01-20 10:35:00+00:00",
          "2022-01-20 11:56:00+00:00",
          "2022-01-24 11:26:00+00:00",
          "2022-01-24 13:31:00+00:00",
          "2022-01-24 15:11:00+00:00",
          "2022-01-25 11:55:00+00:00",
          "2022-01-26 16:23:00+00:00",
          "2022-01-27 11:38:00+00:00",
          "2022-01-31 16:42:00+00:00",
          "2022-02-01 15:25:00+00:00"
         ],
         "y": [
          -0.9999999999999464,
          -2.0036496350363597,
          -2.025780782577239,
          -2.062071105157828,
          -3.062071105157912,
          -4.067071105157737,
          -2.1861187242053344,
          -3.1907058801686103,
          -2.863512897712478,
          -0.4479284821280447,
          -1.4433413261649317,
          -0.9428988482888129,
          -0.5428988482887978,
          -1.537948353239401,
          -1.1714266141089584,
          1.2885733858911348,
          0.28857338589112036,
          -0.7114266141088859,
          1.457746318221977,
          1.3057726340114542,
          0.30931873330221327,
          1.302037179904218,
          0.3020371799042695,
          -0.6997613812467368,
          -0.5686934200816695,
          -1.5716696105578274,
          -0.15447215832858596,
          0.27521534167137846,
          0.7914164589898021,
          -0.20858354101019605,
          0.28750584446465133,
          1.7734562576878403,
          0.7734562576878385,
          1.741486948224944,
          3.060441196590939,
          2.060441196590862,
          2.9742343000390905,
          1.9702972921650928,
          2.568270265138098,
          1.5631156259628756,
          2.4311156259629954,
          3.2131669080142586,
          2.210172896038272,
          1.2101728960382738,
          0.21017289603818035,
          -0.7916789558136557,
          -1.7916789558136466,
          -2.074580510217817,
          -1.7041894487652651,
          -2.7076141062993386,
          -3.7040680070085794,
          -3.877694380634945,
          -2.8962841242247577,
          -2.260481655089019,
          -3.263929930951077,
          -2.4293554628660528,
          -3.4282661382473245,
          -4.428266138247363,
          -3.1216623646625727,
          -1.704995697995868,
          -0.3016844397177789,
          0.2983155602821549,
          1.155891317857959,
          1.6588324943285664,
          0.6642088384145757,
          -0.33327859877147503,
          -0.34994526543815363,
          -0.5145658011524492,
          -0.14028008686677496,
          0.27411680029277935,
          0.9241168002927127,
          1.5148656989711304,
          3.4640182413440215,
          4.035446812772615,
          3.0354468127727925,
          3.769110179109468,
          4.9796364948989424,
          5.131284846547362,
          4.131284846547324,
          5.19606217448251,
          6.529395507815758,
          5.529395507815721,
          6.230538364958604,
          6.371917675303439,
          5.371917675303263,
          5.558358353269394,
          7.459121712048133,
          6.459121712048291,
          5.4591217120484785,
          5.879623804098686,
          4.8843857088605755,
          4.903851357715532,
          5.913110616974611,
          4.921882546798911,
          4.985914167352269,
          3.985914167352123,
          4.517082998520954,
          3.5240274429651963,
          3.4481345858223573,
          3.3881345858222605,
          2.3852610226039,
          2.7389333389881316,
          3.954358870902978,
          2.9584239115533664,
          5.105859808989278,
          6.347138878756814,
          5.344108575726534,
          6.991001231093767,
          7.867786945379484,
          8.37225621912248,
          10.432740090090183,
          9.432740090090114,
          8.432740090090263,
          9.394322010994314,
          9.980889175173418,
          8.980889175173466,
          10.120070461723161,
          11.55872076847161,
          10.558720768471419,
          9.558720768471328,
          10.939002458612093,
          11.504118737681848,
          12.180761073448231,
          12.294512871005349,
          11.29786857570325,
          10.301414674994009,
          10.44988406274908,
          12.058684062749053,
          12.858316415690192,
          11.854868139828135,
          10.854868139827826,
          12.077090362050093,
          13.748164742215376,
          13.215236126735917,
          14.655487699062903,
          16.778564622139733,
          16.826502766469638,
          17.591533441316237,
          16.595079540606996,
          15.595079540606834,
          14.595079540606863,
          13.600079540606801,
          12.60309158879952,
          13.503091588799442,
          14.898813513933078,
          13.898813513933064,
          12.898813513933101,
          12.987159378594697,
          11.98358795002345,
          11.738735008847001,
          10.745313956215353,
          9.74531395621527,
          8.74756620846743,
          9.141316208467414,
          9.141316208467414,
          9.7541733513246,
          11.280489140798302,
          10.277911821210793,
          10.999340392639358,
          10.001398005808054,
          11.045233622246373,
          11.67281982914298,
          10.66975234448041,
          9.672577203237447,
          10.385077203237438,
          9.382299425459689,
          8.382299425459685,
          7.382299425459717,
          7.6844972276575465,
          6.682489195529067,
          5.682489195528876,
          6.309008532545507,
          5.304058037496128,
          6.234663019702499,
          6.805394727019552,
          5.809561393686082,
          7.3166036472072,
          9.168754184841598,
          10.077449837015479,
          10.734659139341028,
          11.647580487655635,
          10.64550579885897,
          10.425183218213768,
          9.42518321821389,
          8.4219985048381,
          7.41818171094506,
          6.418181710944973,
          8.052202329501757,
          10.075103092860534,
          10.657070305975225,
          10.630284591689467,
          11.18134842147672,
          11.93425164728319,
          10.930345397283206,
          9.930345397283363,
          11.028518913265085,
          10.028518913265048,
          9.028518913265055,
          9.561386046132228,
          8.56138604613219,
          7.558697874089205,
          6.558697874089191,
          6.994658465222135,
          5.991699885340482,
          4.988102763038337,
          6.026198001133524,
          6.523758976743265,
          7.505240458224672,
          6.5052404582248835,
          7.407679482615139,
          6.407679482615287,
          5.404822339758147,
          4.40482233975813,
          6.026369301084067,
          5.923244301084019,
          6.626815729655457,
          7.894111327139725,
          8.71430363483204,
          7.714303634832073,
          6.714303634832177,
          6.807910940768269,
          8.130396147868801,
          9.503584553665972,
          8.503584553665819,
          9.822550070907175,
          11.270937167681371,
          12.582455492288728,
          11.58245549228874,
          10.580262509832615,
          9.582185586755681,
          8.584660834280385,
          8.978798765314897,
          11.169064252040531,
          12.335730918707279,
          12.580139864394212,
          13.553708146332529,
          14.076817390029962,
          15.30544192534597,
          15.880302260541532,
          16.765824146063434,
          17.93007535379297,
          16.933596480553476,
          16.760756974380513,
          15.763663951124647,
          14.763663951124645,
          13.763663951124814,
          14.306438517598881,
          13.306438517598773,
          14.633923897715787,
          13.633923897715835,
          12.633923897716054,
          11.631346578128547,
          10.631346578128625,
          11.285173306955349,
          11.751163154671058,
          10.754388961122588,
          9.758205755015625,
          8.7544463565194,
          7.750478102551202,
          8.000478102551183,
          7.00319549385548,
          6.006102470599615,
          5.002724092221342,
          4.002724092221297,
          4.517009806506997,
          5.307738283328238,
          6.72065963164292,
          7.218565390805235,
          6.218565390805223,
          7.883919721513802,
          8.624964497633188,
          7.6249644976330995,
          8.108985116189782,
          8.874569531774254,
          7.876670372110389,
          9.158835977205952,
          9.612652018739505,
          10.875709343580272,
          9.875709343580183,
          10.917229811416378,
          11.062057397623281,
          11.03144515272535,
          12.862272220394397,
          13.518401252652458,
          15.205552090641401,
          15.433504846546894,
          16.00668920408877,
          16.836847934247448,
          17.958696673743372,
          16.95869667374342,
          15.958696673743457,
          14.955200170247032,
          15.460045985225065,
          14.460045985225083,
          14.947225472404618,
          15.408503667893306,
          16.03452407605656,
          16.54369838798317,
          15.543698387983056,
          14.546275707570684,
          15.116405577700508,
          15.331822244367173,
          14.331822244367158,
          16.05334123170895,
          16.576418154785834,
          18.47641815478579,
          19.87985163118068,
          20.809429095969428,
          22.432379915641604,
          21.432379915641548,
          22.72161758380298,
          24.07042710761246,
          25.515841954774032,
          24.51759020652224,
          24.354166082008636,
          24.898050974094986,
          23.898050974094946,
          22.896584698435134,
          21.896584698435124,
          20.896584698435195,
          19.89344004434727,
          20.36639922802078,
          20.33924990675381,
          19.34126603578606,
          20.583418502153737,
          22.1979436418185,
          22.961580005454927,
          21.961580005454863,
          20.961580005454802,
          19.961580005454834,
          18.961580005454863,
          19.563008576883423,
          19.566505080379944,
          19.90274361249001,
          18.905026717512815,
          19.795709947326497,
          19.888195496459392,
          18.885922769186724,
          18.915922769186736,
          19.48198611760299,
          18.484486117602987,
          17.48448611760297,
          16.487754091459156,
          15.487754091459184,
          14.919333038827583,
          15.752666372160892,
          14.752666372160935,
          13.752666372160853,
          12.752666372160789,
          11.755311874806265,
          10.758288065282347,
          9.758288065282335,
          10.978046129798408,
          9.97565378530084,
          9.923521083879061,
          11.145743306101355,
          10.148536602190664,
          9.146011349665432,
          8.146011349665462,
          7.142414227363317,
          6.144588140406788,
          7.309786378292218,
          8.576295812254482,
          7.576295812254541,
          6.578722996720557,
          7.21989946730876,
          8.559133917069461,
          9.967390797803377,
          8.967390797803448,
          10.294493601541781,
          9.296725744398918,
          12.196182266138099,
          13.291043926217142,
          14.749580511583,
          15.98611897312149,
          17.221555866325353,
          18.7237880091825,
          17.727464479770678,
          19.175225673800483,
          20.537772490279938,
          20.970550268057714,
          21.674898094144698,
          22.27920431424038,
          21.281768416804457,
          20.284051521827262,
          20.955480093255836,
          21.442244799138216,
          23.41079825825771,
          22.408260187191765,
          21.40616813698259,
          20.40616813698255,
          20.367706598520964,
          19.365291139583853,
          19.932823607116337,
          20.526186438974747,
          21.779707565735265,
          22.36904766725811,
          22.76202287386969,
          24.205684845700645
         ]
        }
       ],
       "layout": {
        "legend": {
         "bgcolor": "#FFFFFF",
         "font": {
          "color": "#4D5663"
         },
         "orientation": "h",
         "x": 0.3,
         "y": 0.95,
         "yanchor": "bottom"
        },
        "paper_bgcolor": "#FFFFFF",
        "plot_bgcolor": "#FFFFFF",
        "showlegend": true,
        "template": {
         "data": {
          "bar": [
           {
            "error_x": {
             "color": "#2a3f5f"
            },
            "error_y": {
             "color": "#2a3f5f"
            },
            "marker": {
             "line": {
              "color": "#E5ECF6",
              "width": 0.5
             },
             "pattern": {
              "fillmode": "overlay",
              "size": 10,
              "solidity": 0.2
             }
            },
            "type": "bar"
           }
          ],
          "barpolar": [
           {
            "marker": {
             "line": {
              "color": "#E5ECF6",
              "width": 0.5
             },
             "pattern": {
              "fillmode": "overlay",
              "size": 10,
              "solidity": 0.2
             }
            },
            "type": "barpolar"
           }
          ],
          "carpet": [
           {
            "aaxis": {
             "endlinecolor": "#2a3f5f",
             "gridcolor": "white",
             "linecolor": "white",
             "minorgridcolor": "white",
             "startlinecolor": "#2a3f5f"
            },
            "baxis": {
             "endlinecolor": "#2a3f5f",
             "gridcolor": "white",
             "linecolor": "white",
             "minorgridcolor": "white",
             "startlinecolor": "#2a3f5f"
            },
            "type": "carpet"
           }
          ],
          "choropleth": [
           {
            "colorbar": {
             "outlinewidth": 0,
             "ticks": ""
            },
            "type": "choropleth"
           }
          ],
          "contour": [
           {
            "colorbar": {
             "outlinewidth": 0,
             "ticks": ""
            },
            "colorscale": [
             [
              0.0,
              "#0d0887"
             ],
             [
              0.1111111111111111,
              "#46039f"
             ],
             [
              0.2222222222222222,
              "#7201a8"
             ],
             [
              0.3333333333333333,
              "#9c179e"
             ],
             [
              0.4444444444444444,
              "#bd3786"
             ],
             [
              0.5555555555555556,
              "#d8576b"
             ],
             [
              0.6666666666666666,
              "#ed7953"
             ],
             [
              0.7777777777777778,
              "#fb9f3a"
             ],
             [
              0.8888888888888888,
              "#fdca26"
             ],
             [
              1.0,
              "#f0f921"
             ]
            ],
            "type": "contour"
           }
          ],
          "contourcarpet": [
           {
            "colorbar": {
             "outlinewidth": 0,
             "ticks": ""
            },
            "type": "contourcarpet"
           }
          ],
          "heatmap": [
           {
            "colorbar": {
             "outlinewidth": 0,
             "ticks": ""
            },
            "colorscale": [
             [
              0.0,
              "#0d0887"
             ],
             [
              0.1111111111111111,
              "#46039f"
             ],
             [
              0.2222222222222222,
              "#7201a8"
             ],
             [
              0.3333333333333333,
              "#9c179e"
             ],
             [
              0.4444444444444444,
              "#bd3786"
             ],
             [
              0.5555555555555556,
              "#d8576b"
             ],
             [
              0.6666666666666666,
              "#ed7953"
             ],
             [
              0.7777777777777778,
              "#fb9f3a"
             ],
             [
              0.8888888888888888,
              "#fdca26"
             ],
             [
              1.0,
              "#f0f921"
             ]
            ],
            "type": "heatmap"
           }
          ],
          "heatmapgl": [
           {
            "colorbar": {
             "outlinewidth": 0,
             "ticks": ""
            },
            "colorscale": [
             [
              0.0,
              "#0d0887"
             ],
             [
              0.1111111111111111,
              "#46039f"
             ],
             [
              0.2222222222222222,
              "#7201a8"
             ],
             [
              0.3333333333333333,
              "#9c179e"
             ],
             [
              0.4444444444444444,
              "#bd3786"
             ],
             [
              0.5555555555555556,
              "#d8576b"
             ],
             [
              0.6666666666666666,
              "#ed7953"
             ],
             [
              0.7777777777777778,
              "#fb9f3a"
             ],
             [
              0.8888888888888888,
              "#fdca26"
             ],
             [
              1.0,
              "#f0f921"
             ]
            ],
            "type": "heatmapgl"
           }
          ],
          "histogram": [
           {
            "marker": {
             "pattern": {
              "fillmode": "overlay",
              "size": 10,
              "solidity": 0.2
             }
            },
            "type": "histogram"
           }
          ],
          "histogram2d": [
           {
            "colorbar": {
             "outlinewidth": 0,
             "ticks": ""
            },
            "colorscale": [
             [
              0.0,
              "#0d0887"
             ],
             [
              0.1111111111111111,
              "#46039f"
             ],
             [
              0.2222222222222222,
              "#7201a8"
             ],
             [
              0.3333333333333333,
              "#9c179e"
             ],
             [
              0.4444444444444444,
              "#bd3786"
             ],
             [
              0.5555555555555556,
              "#d8576b"
             ],
             [
              0.6666666666666666,
              "#ed7953"
             ],
             [
              0.7777777777777778,
              "#fb9f3a"
             ],
             [
              0.8888888888888888,
              "#fdca26"
             ],
             [
              1.0,
              "#f0f921"
             ]
            ],
            "type": "histogram2d"
           }
          ],
          "histogram2dcontour": [
           {
            "colorbar": {
             "outlinewidth": 0,
             "ticks": ""
            },
            "colorscale": [
             [
              0.0,
              "#0d0887"
             ],
             [
              0.1111111111111111,
              "#46039f"
             ],
             [
              0.2222222222222222,
              "#7201a8"
             ],
             [
              0.3333333333333333,
              "#9c179e"
             ],
             [
              0.4444444444444444,
              "#bd3786"
             ],
             [
              0.5555555555555556,
              "#d8576b"
             ],
             [
              0.6666666666666666,
              "#ed7953"
             ],
             [
              0.7777777777777778,
              "#fb9f3a"
             ],
             [
              0.8888888888888888,
              "#fdca26"
             ],
             [
              1.0,
              "#f0f921"
             ]
            ],
            "type": "histogram2dcontour"
           }
          ],
          "mesh3d": [
           {
            "colorbar": {
             "outlinewidth": 0,
             "ticks": ""
            },
            "type": "mesh3d"
           }
          ],
          "parcoords": [
           {
            "line": {
             "colorbar": {
              "outlinewidth": 0,
              "ticks": ""
             }
            },
            "type": "parcoords"
           }
          ],
          "pie": [
           {
            "automargin": true,
            "type": "pie"
           }
          ],
          "scatter": [
           {
            "marker": {
             "colorbar": {
              "outlinewidth": 0,
              "ticks": ""
             }
            },
            "type": "scatter"
           }
          ],
          "scatter3d": [
           {
            "line": {
             "colorbar": {
              "outlinewidth": 0,
              "ticks": ""
             }
            },
            "marker": {
             "colorbar": {
              "outlinewidth": 0,
              "ticks": ""
             }
            },
            "type": "scatter3d"
           }
          ],
          "scattercarpet": [
           {
            "marker": {
             "colorbar": {
              "outlinewidth": 0,
              "ticks": ""
             }
            },
            "type": "scattercarpet"
           }
          ],
          "scattergeo": [
           {
            "marker": {
             "colorbar": {
              "outlinewidth": 0,
              "ticks": ""
             }
            },
            "type": "scattergeo"
           }
          ],
          "scattergl": [
           {
            "marker": {
             "colorbar": {
              "outlinewidth": 0,
              "ticks": ""
             }
            },
            "type": "scattergl"
           }
          ],
          "scattermapbox": [
           {
            "marker": {
             "colorbar": {
              "outlinewidth": 0,
              "ticks": ""
             }
            },
            "type": "scattermapbox"
           }
          ],
          "scatterpolar": [
           {
            "marker": {
             "colorbar": {
              "outlinewidth": 0,
              "ticks": ""
             }
            },
            "type": "scatterpolar"
           }
          ],
          "scatterpolargl": [
           {
            "marker": {
             "colorbar": {
              "outlinewidth": 0,
              "ticks": ""
             }
            },
            "type": "scatterpolargl"
           }
          ],
          "scatterternary": [
           {
            "marker": {
             "colorbar": {
              "outlinewidth": 0,
              "ticks": ""
             }
            },
            "type": "scatterternary"
           }
          ],
          "surface": [
           {
            "colorbar": {
             "outlinewidth": 0,
             "ticks": ""
            },
            "colorscale": [
             [
              0.0,
              "#0d0887"
             ],
             [
              0.1111111111111111,
              "#46039f"
             ],
             [
              0.2222222222222222,
              "#7201a8"
             ],
             [
              0.3333333333333333,
              "#9c179e"
             ],
             [
              0.4444444444444444,
              "#bd3786"
             ],
             [
              0.5555555555555556,
              "#d8576b"
             ],
             [
              0.6666666666666666,
              "#ed7953"
             ],
             [
              0.7777777777777778,
              "#fb9f3a"
             ],
             [
              0.8888888888888888,
              "#fdca26"
             ],
             [
              1.0,
              "#f0f921"
             ]
            ],
            "type": "surface"
           }
          ],
          "table": [
           {
            "cells": {
             "fill": {
              "color": "#EBF0F8"
             },
             "line": {
              "color": "white"
             }
            },
            "header": {
             "fill": {
              "color": "#C8D4E3"
             },
             "line": {
              "color": "white"
             }
            },
            "type": "table"
           }
          ]
         },
         "layout": {
          "annotationdefaults": {
           "arrowcolor": "#2a3f5f",
           "arrowhead": 0,
           "arrowwidth": 1
          },
          "autotypenumbers": "strict",
          "coloraxis": {
           "colorbar": {
            "outlinewidth": 0,
            "ticks": ""
           }
          },
          "colorscale": {
           "diverging": [
            [
             0,
             "#8e0152"
            ],
            [
             0.1,
             "#c51b7d"
            ],
            [
             0.2,
             "#de77ae"
            ],
            [
             0.3,
             "#f1b6da"
            ],
            [
             0.4,
             "#fde0ef"
            ],
            [
             0.5,
             "#f7f7f7"
            ],
            [
             0.6,
             "#e6f5d0"
            ],
            [
             0.7,
             "#b8e186"
            ],
            [
             0.8,
             "#7fbc41"
            ],
            [
             0.9,
             "#4d9221"
            ],
            [
             1,
             "#276419"
            ]
           ],
           "sequential": [
            [
             0.0,
             "#0d0887"
            ],
            [
             0.1111111111111111,
             "#46039f"
            ],
            [
             0.2222222222222222,
             "#7201a8"
            ],
            [
             0.3333333333333333,
             "#9c179e"
            ],
            [
             0.4444444444444444,
             "#bd3786"
            ],
            [
             0.5555555555555556,
             "#d8576b"
            ],
            [
             0.6666666666666666,
             "#ed7953"
            ],
            [
             0.7777777777777778,
             "#fb9f3a"
            ],
            [
             0.8888888888888888,
             "#fdca26"
            ],
            [
             1.0,
             "#f0f921"
            ]
           ],
           "sequentialminus": [
            [
             0.0,
             "#0d0887"
            ],
            [
             0.1111111111111111,
             "#46039f"
            ],
            [
             0.2222222222222222,
             "#7201a8"
            ],
            [
             0.3333333333333333,
             "#9c179e"
            ],
            [
             0.4444444444444444,
             "#bd3786"
            ],
            [
             0.5555555555555556,
             "#d8576b"
            ],
            [
             0.6666666666666666,
             "#ed7953"
            ],
            [
             0.7777777777777778,
             "#fb9f3a"
            ],
            [
             0.8888888888888888,
             "#fdca26"
            ],
            [
             1.0,
             "#f0f921"
            ]
           ]
          },
          "colorway": [
           "#636efa",
           "#EF553B",
           "#00cc96",
           "#ab63fa",
           "#FFA15A",
           "#19d3f3",
           "#FF6692",
           "#B6E880",
           "#FF97FF",
           "#FECB52"
          ],
          "font": {
           "color": "#2a3f5f"
          },
          "geo": {
           "bgcolor": "white",
           "lakecolor": "white",
           "landcolor": "#E5ECF6",
           "showlakes": true,
           "showland": true,
           "subunitcolor": "white"
          },
          "hoverlabel": {
           "align": "left"
          },
          "hovermode": "closest",
          "mapbox": {
           "style": "light"
          },
          "paper_bgcolor": "white",
          "plot_bgcolor": "#E5ECF6",
          "polar": {
           "angularaxis": {
            "gridcolor": "white",
            "linecolor": "white",
            "ticks": ""
           },
           "bgcolor": "#E5ECF6",
           "radialaxis": {
            "gridcolor": "white",
            "linecolor": "white",
            "ticks": ""
           }
          },
          "scene": {
           "xaxis": {
            "backgroundcolor": "#E5ECF6",
            "gridcolor": "white",
            "gridwidth": 2,
            "linecolor": "white",
            "showbackground": true,
            "ticks": "",
            "zerolinecolor": "white"
           },
           "yaxis": {
            "backgroundcolor": "#E5ECF6",
            "gridcolor": "white",
            "gridwidth": 2,
            "linecolor": "white",
            "showbackground": true,
            "ticks": "",
            "zerolinecolor": "white"
           },
           "zaxis": {
            "backgroundcolor": "#E5ECF6",
            "gridcolor": "white",
            "gridwidth": 2,
            "linecolor": "white",
            "showbackground": true,
            "ticks": "",
            "zerolinecolor": "white"
           }
          },
          "shapedefaults": {
           "line": {
            "color": "#2a3f5f"
           }
          },
          "ternary": {
           "aaxis": {
            "gridcolor": "white",
            "linecolor": "white",
            "ticks": ""
           },
           "baxis": {
            "gridcolor": "white",
            "linecolor": "white",
            "ticks": ""
           },
           "bgcolor": "#E5ECF6",
           "caxis": {
            "gridcolor": "white",
            "linecolor": "white",
            "ticks": ""
           }
          },
          "title": {
           "x": 0.05
          },
          "xaxis": {
           "automargin": true,
           "gridcolor": "white",
           "linecolor": "white",
           "ticks": "",
           "title": {
            "standoff": 15
           },
           "zerolinecolor": "white",
           "zerolinewidth": 2
          },
          "yaxis": {
           "automargin": true,
           "gridcolor": "white",
           "linecolor": "white",
           "ticks": "",
           "title": {
            "standoff": 15
           },
           "zerolinecolor": "white",
           "zerolinewidth": 2
          }
         }
        },
        "title": {
         "font": {
          "color": "#4D5663"
         },
         "text": "Risultato cumulativo (R) [by Close]"
        },
        "xaxis": {
         "gridcolor": "#E1E5ED",
         "showgrid": true,
         "tickfont": {
          "color": "#4D5663"
         },
         "title": {
          "font": {
           "color": "#4D5663"
          },
          "text": ""
         },
         "zerolinecolor": "grey"
        },
        "yaxis": {
         "gridcolor": "#E1E5ED",
         "showgrid": true,
         "tickfont": {
          "color": "#4D5663"
         },
         "title": {
          "font": {
           "color": "#4D5663"
          },
          "text": "R"
         },
         "zerolinecolor": "grey"
        }
       }
      },
      "text/html": [
       "<div>                            <div id=\"3dfb2267-792e-4d1b-8e4d-21920fc978ff\" class=\"plotly-graph-div\" style=\"height:525px; width:100%;\"></div>            <script type=\"text/javascript\">                require([\"plotly\"], function(Plotly) {                    window.PLOTLYENV=window.PLOTLYENV || {};                                    if (document.getElementById(\"3dfb2267-792e-4d1b-8e4d-21920fc978ff\")) {                    Plotly.newPlot(                        \"3dfb2267-792e-4d1b-8e4d-21920fc978ff\",                        [{\"connectgaps\":true,\"fill\":\"tozeroy\",\"fillcolor\":\"rgba(63, 147, 202, 0.3)\",\"line\":{\"color\":\"rgba(63, 147, 202, 1.0)\",\"dash\":\"solid\",\"shape\":\"hv\",\"width\":2},\"mode\":\"lines\",\"name\":\"result_60_40_max_2\",\"text\":\"\",\"x\":[\"2020-11-05 13:05:00+00:00\",\"2020-11-05 13:42:00+00:00\",\"2020-11-06 03:27:00+00:00\",\"2020-11-09 09:57:00+00:00\",\"2020-11-11 00:06:00+00:00\",\"2020-11-11 01:02:00+00:00\",\"2020-11-30 07:16:00+00:00\",\"2020-12-01 07:07:00+00:00\",\"2020-12-01 12:58:00+00:00\",\"2020-12-01 14:22:00+00:00\",\"2020-12-04 13:30:00+00:00\",\"2020-12-07 12:48:00+00:00\",\"2020-12-09 07:48:00+00:00\",\"2020-12-10 15:32:00+00:00\",\"2020-12-11 07:36:00+00:00\",\"2020-12-16 07:52:00+00:00\",\"2020-12-17 14:22:00+00:00\",\"2020-12-17 15:04:00+00:00\",\"2020-12-17 16:07:00+00:00\",\"2020-12-18 07:16:00+00:00\",\"2020-12-18 08:27:00+00:00\",\"2020-12-21 14:22:00+00:00\",\"2020-12-22 14:57:00+00:00\",\"2020-12-22 16:01:00+00:00\",\"2020-12-30 13:50:00+00:00\",\"2020-12-31 07:59:00+00:00\",\"2021-01-04 08:34:00+00:00\",\"2021-01-05 11:14:00+00:00\",\"2021-01-07 16:42:00+00:00\",\"2021-01-08 05:17:00+00:00\",\"2021-01-08 17:09:00+00:00\",\"2021-01-11 12:18:00+00:00\",\"2021-01-11 15:19:00+00:00\",\"2021-01-12 09:53:00+00:00\",\"2021-01-15 15:08:00+00:00\",\"2021-01-19 07:24:00+00:00\",\"2021-01-20 14:22:00+00:00\",\"2021-01-21 13:33:00+00:00\",\"2021-01-21 14:19:00+00:00\",\"2021-01-22 13:16:00+00:00\",\"2021-01-25 15:50:00+00:00\",\"2021-01-26 14:17:00+00:00\",\"2021-01-28 01:10:00+00:00\",\"2021-01-29 06:48:00+00:00\",\"2021-01-29 08:08:00+00:00\",\"2021-02-01 08:51:00+00:00\",\"2021-02-01 12:16:00+00:00\",\"2021-02-01 13:13:00+00:00\",\"2021-02-01 13:15:00+00:00\",\"2021-02-01 13:16:00+00:00\",\"2021-02-02 08:20:00+00:00\",\"2021-02-03 04:40:00+00:00\",\"2021-02-03 08:04:00+00:00\",\"2021-02-03 17:29:00+00:00\",\"2021-02-05 08:00:00+00:00\",\"2021-02-08 10:27:00+00:00\",\"2021-02-09 07:00:00+00:00\",\"2021-02-16 14:00:00+00:00\",\"2021-02-17 12:43:00+00:00\",\"2021-02-18 08:00:00+00:00\",\"2021-02-22 07:10:00+00:00\",\"2021-02-23 07:00:00+00:00\",\"2021-02-23 10:00:00+00:00\",\"2021-02-24 08:12:00+00:00\",\"2021-02-25 07:00:00+00:00\",\"2021-02-25 08:00:00+00:00\",\"2021-02-25 08:36:00+00:00\",\"2021-03-01 13:00:00+00:00\",\"2021-03-01 15:59:00+00:00\",\"2021-03-02 08:56:00+00:00\",\"2021-03-02 15:00:00+00:00\",\"2021-03-03 11:39:00+00:00\",\"2021-03-03 15:59:00+00:00\",\"2021-03-05 13:00:00+00:00\",\"2021-03-09 05:00:00+00:00\",\"2021-03-09 07:36:00+00:00\",\"2021-03-09 08:00:00+00:00\",\"2021-03-09 16:00:00+00:00\",\"2021-03-10 06:00:00+00:00\",\"2021-03-10 08:00:00+00:00\",\"2021-03-10 14:00:00+00:00\",\"2021-03-12 09:00:00+00:00\",\"2021-03-12 16:42:00+00:00\",\"2021-03-15 10:55:00+00:00\",\"2021-03-16 05:44:00+00:00\",\"2021-03-16 07:57:00+00:00\",\"2021-03-17 07:04:00+00:00\",\"2021-03-17 13:50:00+00:00\",\"2021-03-18 03:35:00+00:00\",\"2021-03-18 05:27:00+00:00\",\"2021-03-19 04:22:00+00:00\",\"2021-03-19 08:00:00+00:00\",\"2021-03-22 05:36:00+00:00\",\"2021-03-22 06:48:00+00:00\",\"2021-03-22 12:03:00+00:00\",\"2021-03-23 04:27:00+00:00\",\"2021-03-23 06:16:00+00:00\",\"2021-03-24 02:36:00+00:00\",\"2021-03-24 08:20:00+00:00\",\"2021-03-25 04:48:00+00:00\",\"2021-03-26 06:49:00+00:00\",\"2021-03-29 05:00:00+00:00\",\"2021-03-29 07:51:00+00:00\",\"2021-03-30 05:55:00+00:00\",\"2021-03-30 08:00:00+00:00\",\"2021-03-31 13:00:00+00:00\",\"2021-04-01 07:00:00+00:00\",\"2021-04-01 08:00:00+00:00\",\"2021-04-05 12:00:00+00:00\",\"2021-04-06 13:45:00+00:00\",\"2021-04-06 14:00:00+00:00\",\"2021-04-07 05:51:00+00:00\",\"2021-04-07 06:30:00+00:00\",\"2021-04-07 07:00:00+00:00\",\"2021-04-08 07:00:00+00:00\",\"2021-04-08 08:46:00+00:00\",\"2021-04-08 09:37:00+00:00\",\"2021-04-09 12:00:00+00:00\",\"2021-04-12 02:14:00+00:00\",\"2021-04-12 05:45:00+00:00\",\"2021-04-12 08:00:00+00:00\",\"2021-04-13 07:00:00+00:00\",\"2021-04-13 07:57:00+00:00\",\"2021-04-13 10:00:00+00:00\",\"2021-04-14 06:38:00+00:00\",\"2021-04-14 07:00:00+00:00\",\"2021-04-14 08:17:00+00:00\",\"2021-04-14 09:41:00+00:00\",\"2021-04-16 10:00:00+00:00\",\"2021-04-19 08:00:00+00:00\",\"2021-04-19 08:54:00+00:00\",\"2021-04-19 10:00:00+00:00\",\"2021-04-20 06:00:00+00:00\",\"2021-04-20 13:00:00+00:00\",\"2021-04-21 07:00:00+00:00\",\"2021-04-21 07:57:00+00:00\",\"2021-04-22 07:00:00+00:00\",\"2021-04-22 08:42:00+00:00\",\"2021-04-22 12:00:00+00:00\",\"2021-04-22 12:33:00+00:00\",\"2021-04-23 12:00:00+00:00\",\"2021-04-23 12:22:00+00:00\",\"2021-04-26 11:00:00+00:00\",\"2021-04-26 12:40:00+00:00\",\"2021-04-27 14:00:00+00:00\",\"2021-04-28 13:00:00+00:00\",\"2021-04-29 16:00:00+00:00\",\"2021-04-29 16:29:00+00:00\",\"2021-04-30 01:00:00+00:00\",\"2021-04-30 06:00:00+00:00\",\"2021-04-30 06:18:00+00:00\",\"2021-04-30 10:08:00+00:00\",\"2021-04-30 14:52:00+00:00\",\"2021-05-03 12:44:00+00:00\",\"2021-05-04 13:00:00+00:00\",\"2021-05-04 13:49:00+00:00\",\"2021-05-04 15:00:00+00:00\",\"2021-05-05 13:36:00+00:00\",\"2021-05-05 14:00:00+00:00\",\"2021-05-06 10:00:00+00:00\",\"2021-05-06 14:00:00+00:00\",\"2021-05-07 12:00:00+00:00\",\"2021-05-10 05:00:00+00:00\",\"2021-05-10 06:00:00+00:00\",\"2021-05-10 14:00:00+00:00\",\"2021-05-11 08:00:00+00:00\",\"2021-05-11 10:00:00+00:00\",\"2021-05-11 12:00:00+00:00\",\"2021-05-11 13:19:00+00:00\",\"2021-05-12 12:00:00+00:00\",\"2021-05-13 05:00:00+00:00\",\"2021-05-13 07:53:00+00:00\",\"2021-05-14 06:00:00+00:00\",\"2021-05-14 13:00:00+00:00\",\"2021-05-17 15:00:00+00:00\",\"2021-05-19 00:00:00+00:00\",\"2021-05-19 12:00:00+00:00\",\"2021-05-20 09:00:00+00:00\",\"2021-05-24 13:47:00+00:00\",\"2021-05-26 07:14:00+00:00\",\"2021-05-26 13:00:00+00:00\",\"2021-05-27 02:41:00+00:00\",\"2021-05-27 07:00:00+00:00\",\"2021-06-08 07:00:00+00:00\",\"2021-06-08 10:00:00+00:00\",\"2021-06-08 12:00:00+00:00\",\"2021-06-08 13:00:00+00:00\",\"2021-06-09 08:00:00+00:00\",\"2021-06-10 12:00:00+00:00\",\"2021-06-11 16:00:00+00:00\",\"2021-06-14 16:29:00+00:00\",\"2021-06-15 08:00:00+00:00\",\"2021-06-15 13:38:00+00:00\",\"2021-06-17 07:00:00+00:00\",\"2021-06-21 03:00:00+00:00\",\"2021-06-21 06:00:00+00:00\",\"2021-06-22 05:00:00+00:00\",\"2021-06-22 07:00:00+00:00\",\"2021-06-22 08:00:00+00:00\",\"2021-06-30 07:00:00+00:00\",\"2021-07-01 07:00:00+00:00\",\"2021-07-01 11:00:00+00:00\",\"2021-07-06 07:00:00+00:00\",\"2021-07-06 16:00:00+00:00\",\"2021-07-07 04:00:00+00:00\",\"2021-07-07 05:56:00+00:00\",\"2021-07-07 13:50:00+00:00\",\"2021-07-08 13:36:00+00:00\",\"2021-07-09 07:27:00+00:00\",\"2021-07-09 10:00:00+00:00\",\"2021-07-12 07:00:00+00:00\",\"2021-07-12 07:28:00+00:00\",\"2021-07-12 10:00:00+00:00\",\"2021-07-12 13:00:00+00:00\",\"2021-07-13 05:00:00+00:00\",\"2021-07-14 13:00:00+00:00\",\"2021-07-15 07:27:00+00:00\",\"2021-07-16 07:51:00+00:00\",\"2021-07-19 06:00:00+00:00\",\"2021-07-20 03:28:00+00:00\",\"2021-07-20 14:01:00+00:00\",\"2021-07-21 07:00:00+00:00\",\"2021-07-22 07:00:00+00:00\",\"2021-07-23 07:21:00+00:00\",\"2021-07-23 12:38:00+00:00\",\"2021-07-26 08:44:00+00:00\",\"2021-07-26 09:00:00+00:00\",\"2021-07-27 06:00:00+00:00\",\"2021-07-27 07:00:00+00:00\",\"2021-07-27 08:20:00+00:00\",\"2021-07-27 13:00:00+00:00\",\"2021-07-27 14:50:00+00:00\",\"2021-07-29 08:00:00+00:00\",\"2021-07-30 07:00:00+00:00\",\"2021-08-02 09:00:00+00:00\",\"2021-08-03 08:00:00+00:00\",\"2021-08-04 12:00:00+00:00\",\"2021-08-05 14:00:00+00:00\",\"2021-08-09 08:00:00+00:00\",\"2021-08-09 09:28:00+00:00\",\"2021-08-10 08:00:00+00:00\",\"2021-08-11 12:00:00+00:00\",\"2021-08-11 16:29:00+00:00\",\"2021-08-12 11:00:00+00:00\",\"2021-08-12 13:00:00+00:00\",\"2021-08-12 14:00:00+00:00\",\"2021-08-13 07:00:00+00:00\",\"2021-08-16 06:00:00+00:00\",\"2021-08-16 11:00:00+00:00\",\"2021-08-17 06:00:00+00:00\",\"2021-08-17 07:06:00+00:00\",\"2021-08-17 10:00:00+00:00\",\"2021-08-17 16:00:00+00:00\",\"2021-08-18 08:00:00+00:00\",\"2021-08-18 11:49:00+00:00\",\"2021-08-19 06:00:00+00:00\",\"2021-08-19 06:27:00+00:00\",\"2021-08-19 07:00:00+00:00\",\"2021-08-19 07:57:00+00:00\",\"2021-08-19 12:41:00+00:00\",\"2021-08-19 14:00:00+00:00\",\"2021-08-20 05:00:00+00:00\",\"2021-08-20 08:00:00+00:00\",\"2021-08-20 11:00:00+00:00\",\"2021-08-20 13:00:00+00:00\",\"2021-08-20 13:46:00+00:00\",\"2021-08-23 06:00:00+00:00\",\"2021-08-23 14:00:00+00:00\",\"2021-08-24 07:00:00+00:00\",\"2021-08-24 08:00:00+00:00\",\"2021-08-24 10:00:00+00:00\",\"2021-08-24 13:31:00+00:00\",\"2021-08-25 14:00:00+00:00\",\"2021-08-26 11:00:00+00:00\",\"2021-08-26 12:36:00+00:00\",\"2021-08-27 06:56:00+00:00\",\"2021-08-30 16:29:00+00:00\",\"2021-08-31 06:34:00+00:00\",\"2021-09-01 07:00:00+00:00\",\"2021-09-02 07:38:00+00:00\",\"2021-09-06 15:04:00+00:00\",\"2021-09-07 10:00:00+00:00\",\"2021-09-07 16:00:00+00:00\",\"2021-09-08 14:00:00+00:00\",\"2021-09-08 16:29:00+00:00\",\"2021-09-13 06:41:00+00:00\",\"2021-09-13 10:00:00+00:00\",\"2021-09-15 13:55:00+00:00\",\"2021-09-16 11:35:00+00:00\",\"2021-09-17 13:54:00+00:00\",\"2021-09-20 06:10:00+00:00\",\"2021-09-20 06:45:00+00:00\",\"2021-09-23 08:12:00+00:00\",\"2021-09-23 10:11:00+00:00\",\"2021-09-23 10:49:00+00:00\",\"2021-09-23 11:08:00+00:00\",\"2021-09-24 13:33:00+00:00\",\"2021-09-27 11:13:00+00:00\",\"2021-09-28 09:50:00+00:00\",\"2021-09-29 13:34:00+00:00\",\"2021-09-29 14:45:00+00:00\",\"2021-09-30 15:12:00+00:00\",\"2021-10-01 06:54:00+00:00\",\"2021-10-01 09:35:00+00:00\",\"2021-10-04 07:06:00+00:00\",\"2021-10-04 08:00:00+00:00\",\"2021-10-05 14:45:00+00:00\",\"2021-10-07 09:17:00+00:00\",\"2021-10-08 14:05:00+00:00\",\"2021-10-12 06:45:00+00:00\",\"2021-10-12 09:12:00+00:00\",\"2021-10-12 12:04:00+00:00\",\"2021-10-13 10:16:00+00:00\",\"2021-10-25 08:56:00+00:00\",\"2021-10-25 09:23:00+00:00\",\"2021-10-25 10:50:00+00:00\",\"2021-10-25 13:50:00+00:00\",\"2021-10-27 08:42:00+00:00\",\"2021-10-27 09:01:00+00:00\",\"2021-10-27 10:48:00+00:00\",\"2021-10-28 07:59:00+00:00\",\"2021-11-01 09:00:00+00:00\",\"2021-11-01 10:59:00+00:00\",\"2021-11-02 08:52:00+00:00\",\"2021-11-02 12:00:00+00:00\",\"2021-11-03 12:56:00+00:00\",\"2021-11-04 08:15:00+00:00\",\"2021-11-04 08:44:00+00:00\",\"2021-11-04 10:09:00+00:00\",\"2021-11-04 11:36:00+00:00\",\"2021-11-04 12:00:00+00:00\",\"2021-11-08 15:28:00+00:00\",\"2021-11-08 17:29:00+00:00\",\"2021-11-09 08:12:00+00:00\",\"2021-11-09 14:54:00+00:00\",\"2021-11-11 17:29:00+00:00\",\"2021-11-17 17:29:00+00:00\",\"2021-11-18 05:05:00+00:00\",\"2021-11-18 06:11:00+00:00\",\"2021-11-18 09:20:00+00:00\",\"2021-11-22 11:48:00+00:00\",\"2021-11-24 04:01:00+00:00\",\"2021-11-24 07:58:00+00:00\",\"2021-11-24 08:00:00+00:00\",\"2021-11-24 17:29:00+00:00\",\"2021-11-29 10:55:00+00:00\",\"2021-11-30 05:19:00+00:00\",\"2021-11-30 06:01:00+00:00\",\"2021-11-30 11:15:00+00:00\",\"2021-11-30 13:32:00+00:00\",\"2021-11-30 14:45:00+00:00\",\"2021-12-02 13:45:00+00:00\",\"2021-12-02 17:10:00+00:00\",\"2021-12-03 11:02:00+00:00\",\"2021-12-03 12:01:00+00:00\",\"2021-12-06 16:19:00+00:00\",\"2021-12-07 08:33:00+00:00\",\"2021-12-07 09:09:00+00:00\",\"2021-12-07 10:52:00+00:00\",\"2021-12-07 11:23:00+00:00\",\"2021-12-07 13:18:00+00:00\",\"2021-12-08 10:36:00+00:00\",\"2021-12-08 13:54:00+00:00\",\"2021-12-09 10:42:00+00:00\",\"2021-12-09 10:48:00+00:00\",\"2021-12-09 14:24:00+00:00\",\"2021-12-13 10:17:00+00:00\",\"2021-12-14 11:10:00+00:00\",\"2021-12-15 14:59:00+00:00\",\"2021-12-16 08:15:00+00:00\",\"2021-12-17 10:03:00+00:00\",\"2021-12-17 12:47:00+00:00\",\"2021-12-20 13:14:00+00:00\",\"2021-12-21 16:13:00+00:00\",\"2021-12-27 12:32:00+00:00\",\"2022-01-04 08:01:00+00:00\",\"2022-01-04 09:45:00+00:00\",\"2022-01-05 10:37:00+00:00\",\"2022-01-05 16:20:00+00:00\",\"2022-01-06 10:13:00+00:00\",\"2022-01-12 13:06:00+00:00\",\"2022-01-13 12:01:00+00:00\",\"2022-01-14 12:24:00+00:00\",\"2022-01-14 12:28:00+00:00\",\"2022-01-17 12:06:00+00:00\",\"2022-01-17 15:28:00+00:00\",\"2022-01-18 08:15:00+00:00\",\"2022-01-19 09:45:00+00:00\",\"2022-01-20 08:21:00+00:00\",\"2022-01-20 10:35:00+00:00\",\"2022-01-20 11:56:00+00:00\",\"2022-01-24 11:26:00+00:00\",\"2022-01-24 13:31:00+00:00\",\"2022-01-24 15:11:00+00:00\",\"2022-01-25 11:55:00+00:00\",\"2022-01-26 16:23:00+00:00\",\"2022-01-27 11:38:00+00:00\",\"2022-01-31 16:42:00+00:00\",\"2022-02-01 15:25:00+00:00\"],\"y\":[-0.9999999999999464,-2.0036496350363597,-2.025780782577239,-2.062071105157828,-3.062071105157912,-4.067071105157737,-2.1861187242053344,-3.1907058801686103,-2.863512897712478,\"\",-3.858925741749365,-3.3584832638732465,-2.9584832638732315,-3.9535327688238344,-3.587011029693392,-1.127011029693299,-2.127011029693313,-3.1270110296933193,\"\",-3.278984713903842,-4.275438614613083,-3.2827201680110787,-4.282720168011028,-5.284518729162034,-5.153450767996967,-6.156426958473125,-4.739229506243883,-4.309542006243919,-3.793340888925495,-4.793340888925493,-4.297251503450646,-2.811301090227457,-3.8113010902274587,-2.8432703996903532,-1.5243161513243582,-2.5243161513244354,-1.6105230478762067,-2.6144600557502047,-2.0164870827771995,-3.021641721952422,-2.153641721952302,-1.3715904399010388,-2.374584451877025,-3.3745844518770234,-4.374584451877117,-5.376436303728953,\"\",\"\",-5.006045242276401,\"\",-6.002499142985642,-6.176125516612008,\"\",-5.540323047476269,-6.543771323338327,-5.709196855253302,-6.708107530634574,-7.708107530634612,-6.401503757049822,-4.984837090383117,-3.5815258321050276,-2.9815258321050937,-2.123950074529289,-1.6210088980586819,-2.615632553972673,-3.6131199911587233,\"\",-3.7777405268730186,\"\",-3.3633436397134644,-2.713343639713531,-2.1225947410351136,-0.17344219866222255,0.3979863727663706,-0.602013627233452,\"\",0.6085126885560219,\"\",-0.39148731144401605,\"\",0.9418460218892322,-0.058153978110804694,0.642988879032078,0.784368189376913,-0.21563181062326264,-0.029191132657131302,1.8715722261216075,0.8715722261217652,-0.12842777387804716,0.2920743181721601,-0.7031637770659503,-0.6836981282109932,0.32556113104808493,-0.6656669391276147,\"\",-1.6656669391277608,-1.1344981079589296,-2.1275536635146874,-2.2034465206575264,-2.2634465206576233,-3.266320083875984,-2.912647767491752,-1.6972222355769058,-2.693157194926518,-0.5457212974906058,0.6955577722769299,-0.3074725307533501,1.3394201246138822,2.216205838899599,2.720675112642595,4.781158983610299,3.7811589836102293,2.781158983610378,\"\",3.3677261477894835,2.367726147789532,\"\",3.80637645453798,2.806376454537789,1.806376454537699,\"\",2.3714927336074547,3.0481350693738376,\"\",2.0514907740717385,1.0550368733624977,\"\",\"\",1.8546692263036366,0.8512209504415786,-0.14877904955872978,\"\",1.5222953306065525,1.4600612880533814,2.9003128603803665,5.023389783457195,5.071327927787101,5.8363586026337,\"\",\"\",4.836358602633728,3.841358602633667,2.844370650826386,3.744370650826308,5.140092575959944,4.14009257595993,3.140092575959967,3.228438440621562,2.2248670120503156,1.9800140708738672,\"\",\"\",\"\",2.3737640708738508,2.3737640708738508,2.9866212137310373,\"\",1.9840438941435292,2.705472465572094,1.7075300787407903,2.7513656951791083,3.3789519020757166,2.3758844174131455,1.3787092761701831,\"\",0.3759314983924331,-0.6240685016075702,\"\",\"\",-1.6260765337360497,-2.6260765337362404,-1.9995571967196097,-3.0045076917689886,-2.073902709562618,-1.5031710022455647,-2.4990043355790346,-0.9919620820579171,0.8601884555764816,1.768884107750362,2.4260934100759113,3.339014758390518,2.3369400695938527,1.3369400695937936,0.33694006959391576,\"\",\"\",\"\",1.9709606881507002,3.9938614515094764,4.575828664624167,4.549042950338409,5.100106780125662,5.853010005932133,4.849103755932148,3.849103755932304,4.947277271914027,3.947277271913989,2.9472772719139964,\"\",1.9472772719139584,0.9445890998709734,-0.055410900129040375,0.380549691003904,-0.6224088888777487,-1.6260060111798937,-0.5879107730847064,\"\",0.39357070839670116,-0.6064292916030873,0.2960097327871677,-0.7039902672126837,-1.7068474100698239,\"\",\"\",-1.8099724100698722,-1.106400981498434,0.1608946159858342,0.9810869236781503,-0.018913076321816824,-1.0189130763217134,-0.9253057703856216,0.39717943671491107,1.7703678425120815,0.770367842511928,2.089333359753284,3.5377204565274805,4.849238781134838,3.8492387811348503,2.8470457986787236,\"\",\"\",\"\",5.037311285404357,6.203977952071106,6.448386897758039,7.421955179696356,7.94506442339379,9.173688958709798,9.74854929390536,10.634071179427263,11.798322387156798,10.801843513917307,10.629004007744344,9.631910984488478,8.631910984488478,\"\",9.174685550962545,8.174685550962437,9.502170931079451,8.5021709310795,7.502170931079718,\"\",\"\",8.155997659906442,\"\",7.159223466357971,6.163040260251009,\"\",\"\",\"\",\"\",5.165947236995144,\"\",4.165947236995098,\"\",\"\",5.57886858530978,6.076774344472096,5.076774344472083,6.742128675180663,\"\",\"\",7.226149293737345,7.991733709321817,6.993834549657952,8.276000154753515,8.729816196287068,\"\",7.729816196286979,8.771336664123174,8.916164250330077,8.885552005432146,10.716379073101193,11.372508105359254,13.059658943348197,13.28761169925369,13.860796056795563,14.690954786954242,15.812803526450166,14.812803526450216,13.812803526450251,12.809307022953826,13.314152837931859,\"\",\"\",13.775431033420547,14.4014514415838,14.910625753510413,13.910625753510299,12.913203073097927,13.483332943227751,13.698749609894415,12.698749609894401,14.420268597236191,14.943345520313075,16.843345520313033,18.246778996707924,19.17635646149667,20.799307281168847,19.79930728116879,21.088544949330224,\"\",22.533959796491796,21.535708048240004,21.3722839237264,\"\",\"\",20.370817648066588,19.370817648066577,\"\",18.36767299397865,18.84063217765216,18.813482856385193,17.81549898541744,19.05765145178512,20.672176591449883,21.43581295508631,20.435812955086245,\"\",\"\",\"\",21.037241526514805,21.040738030011326,21.376976562121392,20.379259667144197,21.26994289695788,21.362428446090775,20.360155718818106,20.390155718818118,\"\",19.392655718818116,18.392655718818098,17.395923692674284,\"\",\"\",18.229257026007595,17.229257026007637,16.229257026007556,\"\",\"\",\"\",15.229257026007543,16.449015090523616,15.44662274602605,15.39449004460427,16.616712266826564,15.619505562915872,14.616980310390641,\"\",\"\",\"\",15.78217854827607,17.048687982238334,16.048687982238395,15.051115166704411,\"\",16.390349616465112,17.798606497199028,16.7986064971991,18.12570930093743,17.127941443794565,20.027397965533748,21.12225962561279,22.58079621097865,23.81733467251714,25.052771565721006,26.555003708578152,25.55868017916633,27.006441373196136,28.36898818967559,28.801765967453367,29.50611379354035,30.110420013636034,29.11298411620011,28.115267221222915,28.78669579265149,29.27346049853387,31.242013957653363,30.23947588658742,29.237383836378246,\"\",29.19892229791666,28.19650683897955,\"\",28.78986967083796,30.043390797598477,30.63273089912132,31.0257061057329,32.46936807756386],\"type\":\"scatter\"},{\"connectgaps\":true,\"fill\":\"tozeroy\",\"fillcolor\":\"rgba(219, 58, 52, 0.3)\",\"line\":{\"color\":\"rgba(219, 58, 52, 1.0)\",\"dash\":\"solid\",\"shape\":\"hv\",\"width\":2},\"mode\":\"lines\",\"name\":\"result_60_40_max_3\",\"text\":\"\",\"x\":[\"2020-11-05 13:05:00+00:00\",\"2020-11-05 13:42:00+00:00\",\"2020-11-06 03:27:00+00:00\",\"2020-11-09 09:57:00+00:00\",\"2020-11-11 00:06:00+00:00\",\"2020-11-11 01:02:00+00:00\",\"2020-11-30 07:16:00+00:00\",\"2020-12-01 07:07:00+00:00\",\"2020-12-01 12:58:00+00:00\",\"2020-12-01 14:22:00+00:00\",\"2020-12-04 13:30:00+00:00\",\"2020-12-07 12:48:00+00:00\",\"2020-12-09 07:48:00+00:00\",\"2020-12-10 15:32:00+00:00\",\"2020-12-11 07:36:00+00:00\",\"2020-12-16 07:52:00+00:00\",\"2020-12-17 14:22:00+00:00\",\"2020-12-17 15:04:00+00:00\",\"2020-12-17 16:07:00+00:00\",\"2020-12-18 07:16:00+00:00\",\"2020-12-18 08:27:00+00:00\",\"2020-12-21 14:22:00+00:00\",\"2020-12-22 14:57:00+00:00\",\"2020-12-22 16:01:00+00:00\",\"2020-12-30 13:50:00+00:00\",\"2020-12-31 07:59:00+00:00\",\"2021-01-04 08:34:00+00:00\",\"2021-01-05 11:14:00+00:00\",\"2021-01-07 16:42:00+00:00\",\"2021-01-08 05:17:00+00:00\",\"2021-01-08 17:09:00+00:00\",\"2021-01-11 12:18:00+00:00\",\"2021-01-11 15:19:00+00:00\",\"2021-01-12 09:53:00+00:00\",\"2021-01-15 15:08:00+00:00\",\"2021-01-19 07:24:00+00:00\",\"2021-01-20 14:22:00+00:00\",\"2021-01-21 13:33:00+00:00\",\"2021-01-21 14:19:00+00:00\",\"2021-01-22 13:16:00+00:00\",\"2021-01-25 15:50:00+00:00\",\"2021-01-26 14:17:00+00:00\",\"2021-01-28 01:10:00+00:00\",\"2021-01-29 06:48:00+00:00\",\"2021-01-29 08:08:00+00:00\",\"2021-02-01 08:51:00+00:00\",\"2021-02-01 12:16:00+00:00\",\"2021-02-01 13:13:00+00:00\",\"2021-02-01 13:15:00+00:00\",\"2021-02-01 13:16:00+00:00\",\"2021-02-02 08:20:00+00:00\",\"2021-02-03 04:40:00+00:00\",\"2021-02-03 08:04:00+00:00\",\"2021-02-03 17:29:00+00:00\",\"2021-02-05 08:00:00+00:00\",\"2021-02-08 10:27:00+00:00\",\"2021-02-09 07:00:00+00:00\",\"2021-02-16 14:00:00+00:00\",\"2021-02-17 12:43:00+00:00\",\"2021-02-18 08:00:00+00:00\",\"2021-02-22 07:10:00+00:00\",\"2021-02-23 07:00:00+00:00\",\"2021-02-23 10:00:00+00:00\",\"2021-02-24 08:12:00+00:00\",\"2021-02-25 07:00:00+00:00\",\"2021-02-25 08:00:00+00:00\",\"2021-02-25 08:36:00+00:00\",\"2021-03-01 13:00:00+00:00\",\"2021-03-01 15:59:00+00:00\",\"2021-03-02 08:56:00+00:00\",\"2021-03-02 15:00:00+00:00\",\"2021-03-03 11:39:00+00:00\",\"2021-03-03 15:59:00+00:00\",\"2021-03-05 13:00:00+00:00\",\"2021-03-09 05:00:00+00:00\",\"2021-03-09 07:36:00+00:00\",\"2021-03-09 08:00:00+00:00\",\"2021-03-09 16:00:00+00:00\",\"2021-03-10 06:00:00+00:00\",\"2021-03-10 08:00:00+00:00\",\"2021-03-10 14:00:00+00:00\",\"2021-03-12 09:00:00+00:00\",\"2021-03-12 16:42:00+00:00\",\"2021-03-15 10:55:00+00:00\",\"2021-03-16 05:44:00+00:00\",\"2021-03-16 07:57:00+00:00\",\"2021-03-17 07:04:00+00:00\",\"2021-03-17 13:50:00+00:00\",\"2021-03-18 03:35:00+00:00\",\"2021-03-18 05:27:00+00:00\",\"2021-03-19 04:22:00+00:00\",\"2021-03-19 08:00:00+00:00\",\"2021-03-22 05:36:00+00:00\",\"2021-03-22 06:48:00+00:00\",\"2021-03-22 12:03:00+00:00\",\"2021-03-23 04:27:00+00:00\",\"2021-03-23 06:16:00+00:00\",\"2021-03-24 02:36:00+00:00\",\"2021-03-24 08:20:00+00:00\",\"2021-03-25 04:48:00+00:00\",\"2021-03-26 06:49:00+00:00\",\"2021-03-29 05:00:00+00:00\",\"2021-03-29 07:51:00+00:00\",\"2021-03-30 05:55:00+00:00\",\"2021-03-30 08:00:00+00:00\",\"2021-03-31 13:00:00+00:00\",\"2021-04-01 07:00:00+00:00\",\"2021-04-01 08:00:00+00:00\",\"2021-04-05 12:00:00+00:00\",\"2021-04-06 13:45:00+00:00\",\"2021-04-06 14:00:00+00:00\",\"2021-04-07 05:51:00+00:00\",\"2021-04-07 06:30:00+00:00\",\"2021-04-07 07:00:00+00:00\",\"2021-04-08 07:00:00+00:00\",\"2021-04-08 08:46:00+00:00\",\"2021-04-08 09:37:00+00:00\",\"2021-04-09 12:00:00+00:00\",\"2021-04-12 02:14:00+00:00\",\"2021-04-12 05:45:00+00:00\",\"2021-04-12 08:00:00+00:00\",\"2021-04-13 07:00:00+00:00\",\"2021-04-13 07:57:00+00:00\",\"2021-04-13 10:00:00+00:00\",\"2021-04-14 06:38:00+00:00\",\"2021-04-14 07:00:00+00:00\",\"2021-04-14 08:17:00+00:00\",\"2021-04-14 09:41:00+00:00\",\"2021-04-16 10:00:00+00:00\",\"2021-04-19 08:00:00+00:00\",\"2021-04-19 08:54:00+00:00\",\"2021-04-19 10:00:00+00:00\",\"2021-04-20 06:00:00+00:00\",\"2021-04-20 13:00:00+00:00\",\"2021-04-21 07:00:00+00:00\",\"2021-04-21 07:57:00+00:00\",\"2021-04-22 07:00:00+00:00\",\"2021-04-22 08:42:00+00:00\",\"2021-04-22 12:00:00+00:00\",\"2021-04-22 12:33:00+00:00\",\"2021-04-23 12:00:00+00:00\",\"2021-04-23 12:22:00+00:00\",\"2021-04-26 11:00:00+00:00\",\"2021-04-26 12:40:00+00:00\",\"2021-04-27 14:00:00+00:00\",\"2021-04-28 13:00:00+00:00\",\"2021-04-29 16:00:00+00:00\",\"2021-04-29 16:29:00+00:00\",\"2021-04-30 01:00:00+00:00\",\"2021-04-30 06:00:00+00:00\",\"2021-04-30 06:18:00+00:00\",\"2021-04-30 10:08:00+00:00\",\"2021-04-30 14:52:00+00:00\",\"2021-05-03 12:44:00+00:00\",\"2021-05-04 13:00:00+00:00\",\"2021-05-04 13:49:00+00:00\",\"2021-05-04 15:00:00+00:00\",\"2021-05-05 13:36:00+00:00\",\"2021-05-05 14:00:00+00:00\",\"2021-05-06 10:00:00+00:00\",\"2021-05-06 14:00:00+00:00\",\"2021-05-07 12:00:00+00:00\",\"2021-05-10 05:00:00+00:00\",\"2021-05-10 06:00:00+00:00\",\"2021-05-10 14:00:00+00:00\",\"2021-05-11 08:00:00+00:00\",\"2021-05-11 10:00:00+00:00\",\"2021-05-11 12:00:00+00:00\",\"2021-05-11 13:19:00+00:00\",\"2021-05-12 12:00:00+00:00\",\"2021-05-13 05:00:00+00:00\",\"2021-05-13 07:53:00+00:00\",\"2021-05-14 06:00:00+00:00\",\"2021-05-14 13:00:00+00:00\",\"2021-05-17 15:00:00+00:00\",\"2021-05-19 00:00:00+00:00\",\"2021-05-19 12:00:00+00:00\",\"2021-05-20 09:00:00+00:00\",\"2021-05-24 13:47:00+00:00\",\"2021-05-26 07:14:00+00:00\",\"2021-05-26 13:00:00+00:00\",\"2021-05-27 02:41:00+00:00\",\"2021-05-27 07:00:00+00:00\",\"2021-06-08 07:00:00+00:00\",\"2021-06-08 10:00:00+00:00\",\"2021-06-08 12:00:00+00:00\",\"2021-06-08 13:00:00+00:00\",\"2021-06-09 08:00:00+00:00\",\"2021-06-10 12:00:00+00:00\",\"2021-06-11 16:00:00+00:00\",\"2021-06-14 16:29:00+00:00\",\"2021-06-15 08:00:00+00:00\",\"2021-06-15 13:38:00+00:00\",\"2021-06-17 07:00:00+00:00\",\"2021-06-21 03:00:00+00:00\",\"2021-06-21 06:00:00+00:00\",\"2021-06-22 05:00:00+00:00\",\"2021-06-22 07:00:00+00:00\",\"2021-06-22 08:00:00+00:00\",\"2021-06-30 07:00:00+00:00\",\"2021-07-01 07:00:00+00:00\",\"2021-07-01 11:00:00+00:00\",\"2021-07-06 07:00:00+00:00\",\"2021-07-06 16:00:00+00:00\",\"2021-07-07 04:00:00+00:00\",\"2021-07-07 05:56:00+00:00\",\"2021-07-07 13:50:00+00:00\",\"2021-07-08 13:36:00+00:00\",\"2021-07-09 07:27:00+00:00\",\"2021-07-09 10:00:00+00:00\",\"2021-07-12 07:00:00+00:00\",\"2021-07-12 07:28:00+00:00\",\"2021-07-12 10:00:00+00:00\",\"2021-07-12 13:00:00+00:00\",\"2021-07-13 05:00:00+00:00\",\"2021-07-14 13:00:00+00:00\",\"2021-07-15 07:27:00+00:00\",\"2021-07-16 07:51:00+00:00\",\"2021-07-19 06:00:00+00:00\",\"2021-07-20 03:28:00+00:00\",\"2021-07-20 14:01:00+00:00\",\"2021-07-21 07:00:00+00:00\",\"2021-07-22 07:00:00+00:00\",\"2021-07-23 07:21:00+00:00\",\"2021-07-23 12:38:00+00:00\",\"2021-07-26 08:44:00+00:00\",\"2021-07-26 09:00:00+00:00\",\"2021-07-27 06:00:00+00:00\",\"2021-07-27 07:00:00+00:00\",\"2021-07-27 08:20:00+00:00\",\"2021-07-27 13:00:00+00:00\",\"2021-07-27 14:50:00+00:00\",\"2021-07-29 08:00:00+00:00\",\"2021-07-30 07:00:00+00:00\",\"2021-08-02 09:00:00+00:00\",\"2021-08-03 08:00:00+00:00\",\"2021-08-04 12:00:00+00:00\",\"2021-08-05 14:00:00+00:00\",\"2021-08-09 08:00:00+00:00\",\"2021-08-09 09:28:00+00:00\",\"2021-08-10 08:00:00+00:00\",\"2021-08-11 12:00:00+00:00\",\"2021-08-11 16:29:00+00:00\",\"2021-08-12 11:00:00+00:00\",\"2021-08-12 13:00:00+00:00\",\"2021-08-12 14:00:00+00:00\",\"2021-08-13 07:00:00+00:00\",\"2021-08-16 06:00:00+00:00\",\"2021-08-16 11:00:00+00:00\",\"2021-08-17 06:00:00+00:00\",\"2021-08-17 07:06:00+00:00\",\"2021-08-17 10:00:00+00:00\",\"2021-08-17 16:00:00+00:00\",\"2021-08-18 08:00:00+00:00\",\"2021-08-18 11:49:00+00:00\",\"2021-08-19 06:00:00+00:00\",\"2021-08-19 06:27:00+00:00\",\"2021-08-19 07:00:00+00:00\",\"2021-08-19 07:57:00+00:00\",\"2021-08-19 12:41:00+00:00\",\"2021-08-19 14:00:00+00:00\",\"2021-08-20 05:00:00+00:00\",\"2021-08-20 08:00:00+00:00\",\"2021-08-20 11:00:00+00:00\",\"2021-08-20 13:00:00+00:00\",\"2021-08-20 13:46:00+00:00\",\"2021-08-23 06:00:00+00:00\",\"2021-08-23 14:00:00+00:00\",\"2021-08-24 07:00:00+00:00\",\"2021-08-24 08:00:00+00:00\",\"2021-08-24 10:00:00+00:00\",\"2021-08-24 13:31:00+00:00\",\"2021-08-25 14:00:00+00:00\",\"2021-08-26 11:00:00+00:00\",\"2021-08-26 12:36:00+00:00\",\"2021-08-27 06:56:00+00:00\",\"2021-08-30 16:29:00+00:00\",\"2021-08-31 06:34:00+00:00\",\"2021-09-01 07:00:00+00:00\",\"2021-09-02 07:38:00+00:00\",\"2021-09-06 15:04:00+00:00\",\"2021-09-07 10:00:00+00:00\",\"2021-09-07 16:00:00+00:00\",\"2021-09-08 14:00:00+00:00\",\"2021-09-08 16:29:00+00:00\",\"2021-09-13 06:41:00+00:00\",\"2021-09-13 10:00:00+00:00\",\"2021-09-15 13:55:00+00:00\",\"2021-09-16 11:35:00+00:00\",\"2021-09-17 13:54:00+00:00\",\"2021-09-20 06:10:00+00:00\",\"2021-09-20 06:45:00+00:00\",\"2021-09-23 08:12:00+00:00\",\"2021-09-23 10:11:00+00:00\",\"2021-09-23 10:49:00+00:00\",\"2021-09-23 11:08:00+00:00\",\"2021-09-24 13:33:00+00:00\",\"2021-09-27 11:13:00+00:00\",\"2021-09-28 09:50:00+00:00\",\"2021-09-29 13:34:00+00:00\",\"2021-09-29 14:45:00+00:00\",\"2021-09-30 15:12:00+00:00\",\"2021-10-01 06:54:00+00:00\",\"2021-10-01 09:35:00+00:00\",\"2021-10-04 07:06:00+00:00\",\"2021-10-04 08:00:00+00:00\",\"2021-10-05 14:45:00+00:00\",\"2021-10-07 09:17:00+00:00\",\"2021-10-08 14:05:00+00:00\",\"2021-10-12 06:45:00+00:00\",\"2021-10-12 09:12:00+00:00\",\"2021-10-12 12:04:00+00:00\",\"2021-10-13 10:16:00+00:00\",\"2021-10-25 08:56:00+00:00\",\"2021-10-25 09:23:00+00:00\",\"2021-10-25 10:50:00+00:00\",\"2021-10-25 13:50:00+00:00\",\"2021-10-27 08:42:00+00:00\",\"2021-10-27 09:01:00+00:00\",\"2021-10-27 10:48:00+00:00\",\"2021-10-28 07:59:00+00:00\",\"2021-11-01 09:00:00+00:00\",\"2021-11-01 10:59:00+00:00\",\"2021-11-02 08:52:00+00:00\",\"2021-11-02 12:00:00+00:00\",\"2021-11-03 12:56:00+00:00\",\"2021-11-04 08:15:00+00:00\",\"2021-11-04 08:44:00+00:00\",\"2021-11-04 10:09:00+00:00\",\"2021-11-04 11:36:00+00:00\",\"2021-11-04 12:00:00+00:00\",\"2021-11-08 15:28:00+00:00\",\"2021-11-08 17:29:00+00:00\",\"2021-11-09 08:12:00+00:00\",\"2021-11-09 14:54:00+00:00\",\"2021-11-11 17:29:00+00:00\",\"2021-11-17 17:29:00+00:00\",\"2021-11-18 05:05:00+00:00\",\"2021-11-18 06:11:00+00:00\",\"2021-11-18 09:20:00+00:00\",\"2021-11-22 11:48:00+00:00\",\"2021-11-24 04:01:00+00:00\",\"2021-11-24 07:58:00+00:00\",\"2021-11-24 08:00:00+00:00\",\"2021-11-24 17:29:00+00:00\",\"2021-11-29 10:55:00+00:00\",\"2021-11-30 05:19:00+00:00\",\"2021-11-30 06:01:00+00:00\",\"2021-11-30 11:15:00+00:00\",\"2021-11-30 13:32:00+00:00\",\"2021-11-30 14:45:00+00:00\",\"2021-12-02 13:45:00+00:00\",\"2021-12-02 17:10:00+00:00\",\"2021-12-03 11:02:00+00:00\",\"2021-12-03 12:01:00+00:00\",\"2021-12-06 16:19:00+00:00\",\"2021-12-07 08:33:00+00:00\",\"2021-12-07 09:09:00+00:00\",\"2021-12-07 10:52:00+00:00\",\"2021-12-07 11:23:00+00:00\",\"2021-12-07 13:18:00+00:00\",\"2021-12-08 10:36:00+00:00\",\"2021-12-08 13:54:00+00:00\",\"2021-12-09 10:42:00+00:00\",\"2021-12-09 10:48:00+00:00\",\"2021-12-09 14:24:00+00:00\",\"2021-12-13 10:17:00+00:00\",\"2021-12-14 11:10:00+00:00\",\"2021-12-15 14:59:00+00:00\",\"2021-12-16 08:15:00+00:00\",\"2021-12-17 10:03:00+00:00\",\"2021-12-17 12:47:00+00:00\",\"2021-12-20 13:14:00+00:00\",\"2021-12-21 16:13:00+00:00\",\"2021-12-27 12:32:00+00:00\",\"2022-01-04 08:01:00+00:00\",\"2022-01-04 09:45:00+00:00\",\"2022-01-05 10:37:00+00:00\",\"2022-01-05 16:20:00+00:00\",\"2022-01-06 10:13:00+00:00\",\"2022-01-12 13:06:00+00:00\",\"2022-01-13 12:01:00+00:00\",\"2022-01-14 12:24:00+00:00\",\"2022-01-14 12:28:00+00:00\",\"2022-01-17 12:06:00+00:00\",\"2022-01-17 15:28:00+00:00\",\"2022-01-18 08:15:00+00:00\",\"2022-01-19 09:45:00+00:00\",\"2022-01-20 08:21:00+00:00\",\"2022-01-20 10:35:00+00:00\",\"2022-01-20 11:56:00+00:00\",\"2022-01-24 11:26:00+00:00\",\"2022-01-24 13:31:00+00:00\",\"2022-01-24 15:11:00+00:00\",\"2022-01-25 11:55:00+00:00\",\"2022-01-26 16:23:00+00:00\",\"2022-01-27 11:38:00+00:00\",\"2022-01-31 16:42:00+00:00\",\"2022-02-01 15:25:00+00:00\"],\"y\":[-0.9999999999999464,-2.0036496350363597,-2.025780782577239,-2.062071105157828,-3.062071105157912,-4.067071105157737,-2.1861187242053344,-3.1907058801686103,-2.863512897712478,-0.4479284821280447,-1.4433413261649317,-0.9428988482888129,-0.5428988482887978,-1.537948353239401,-1.1714266141089584,1.2885733858911348,0.28857338589112036,-0.7114266141088859,1.457746318221977,1.3057726340114542,0.30931873330221327,1.302037179904218,0.3020371799042695,-0.6997613812467368,-0.5686934200816695,-1.5716696105578274,-0.15447215832858596,0.27521534167137846,0.7914164589898021,-0.20858354101019605,0.28750584446465133,1.7734562576878403,0.7734562576878385,1.741486948224944,3.060441196590939,2.060441196590862,2.9742343000390905,1.9702972921650928,2.568270265138098,1.5631156259628756,2.4311156259629954,3.2131669080142586,2.210172896038272,1.2101728960382738,0.21017289603818035,-0.7916789558136557,\"\",-1.0745805102178263,-0.7041894487652745,\"\",-1.7006433494745155,-1.8742697231008811,-0.8928594666906938,-0.2570569975549549,-1.2605052734170128,-0.42593080533198824,-1.4248414807132597,-2.4248414807132974,-1.1182377071285075,0.29842895953819726,1.7017402178162864,2.3017402178162203,3.1593159753920244,3.6622571518626317,2.6676334959486407,1.67014605876259,1.6534793920959114,1.4888588563816159,1.86314457066729,2.2775414578268443,2.9275414578267775,3.5182903565051955,5.467442898878087,6.03887147030668,5.038871470306858,5.772534836643533,6.983061152433008,\"\",5.9830611524329695,7.047838480368156,8.381171813701405,7.381171813701368,8.08231467084425,8.223693981189085,7.223693981188909,7.41013465915504,9.310898017933779,8.310898017933937,7.310898017934124,7.731400109984332,6.736162014746221,6.755627663601178,7.764886922860256,6.773658852684557,6.837690473237915,5.837690473237769,6.368859304406601,5.375803748850843,5.299910891708004,5.239910891707907,4.237037328489546,4.590709644873778,5.806135176788624,4.810200217439012,6.957636114874924,8.198915184642459,7.195884881612179,8.842777536979412,9.719563251265129,10.224032525008125,12.284516395975828,11.284516395975759,10.284516395975908,11.246098316879959,11.832665481059063,10.832665481059111,11.971846767608806,13.410497074357254,12.410497074357064,11.410497074356973,12.790778764497738,13.355895043567493,14.032537379333876,13.029332251128785,12.032687955826686,11.036234055117445,11.184703442872516,\"\",11.984335795813655,10.980887519951597,9.980887519951288,11.203109742173556,12.87418412233884,12.34125550685938,13.781507079186365,15.904584002263194,15.9525221465931,16.7175528214397,15.721098920730459,\"\",14.721098920730487,13.726098920730426,12.729110968923145,13.629110968923067,15.024832894056704,14.02483289405669,13.024832894056727,13.113178758718323,12.109607330147076,11.864754388970628,10.87133333633898,\"\",\"\",11.265083336338963,11.265083336338963,11.877940479196148,13.404256268669851,12.401678949082342,13.123107520510906,12.125165133679603,13.169000750117922,13.79658695701453,12.793519472351958,11.796344331108996,12.508844331108987,11.506066553331237,10.506066553331234,9.506066553331266,\"\",8.504058521202786,7.504058521202595,8.130577858219226,7.125627363169848,8.056232345376218,8.626964052693271,7.631130719359802,9.13817297288092,10.990323510515319,11.8990191626892,12.55622846501475,13.469149813329356,12.467075124532691,12.246752543887489,11.246752543887611,10.243567830511822,\"\",\"\",11.877588449068606,13.900489212427381,14.482456425542072,14.455670711256314,15.006734541043567,15.759637766850037,14.755731516850053,13.75573151685021,14.853905032831932,13.853905032831895,12.853905032831902,13.386772165699075,12.386772165699037,11.384083993656052,10.384083993656038,10.820044584788983,9.81708600490733,8.813488882605185,9.851584120700373,10.349145096310114,11.330626577791522,10.330626577791733,11.233065602181988,10.233065602182137,9.230208459324997,8.230208459324981,\"\",8.127083459324933,8.83065488789637,10.09795048538064,10.918142793072956,9.918142793072988,8.918142793073091,9.011750099009182,10.334235306109715,11.707423711906886,10.707423711906733,12.026389229148089,13.474776325922285,14.786294650529642,13.786294650529655,12.784101668073529,11.786024744996595,\"\",\"\",13.97629023172223,15.142956898388977,15.38736584407591,16.36093412601423,16.884043369711662,18.11266790502767,18.68752824022323,19.573050125745134,20.73730133347467,19.74082246023518,19.567982954062217,18.570889930806352,17.570889930806352,16.57088993080652,17.113664497280585,16.113664497280475,17.44114987739749,16.44114987739754,15.441149877397757,14.43857255781025,\"\",15.092399286636974,15.558389134352684,14.561614940804214,13.56543173469725,12.561672336201026,\"\",\"\",\"\",11.56457931294516,10.561200934566887,9.561200934566841,\"\",\"\",10.974122282881524,11.472028042043839,10.472028042043826,12.137382372752406,12.878427148871792,\"\",13.362447767428474,14.128032183012946,13.130133023349082,14.412298628444645,14.866114669978199,16.129171994818964,15.129171994818876,16.17069246265507,16.31552004886197,16.28490780396404,18.115734871633087,18.77186390389115,20.459014741880093,20.686967497785584,21.260151855327457,22.090310585486137,23.21215932498206,22.21215932498211,21.212159324982146,20.20866282148572,20.713508636463754,19.71350863646377,\"\",20.17478683195246,20.800807240115713,21.309981552042323,20.30998155204221,19.312558871629836,19.88268874175966,20.098105408426328,19.098105408426314,20.819624395768102,21.342701318844988,23.242701318844944,24.646134795239835,25.57571226002858,27.198663079700758,26.1986630797007,27.487900747862135,28.836710271671613,30.282125118833186,29.283873370581393,29.12044924606779,29.66433413815414,\"\",28.662867862494327,27.662867862494316,26.662867862494387,25.65972320840646,26.13268239207997,26.105533070813003,25.107549199845252,26.34970166621293,27.964226805877693,28.72786316951412,27.727863169514055,26.727863169513995,\"\",\"\",27.329291740942555,27.332788244439076,27.669026776549142,26.671309881571947,27.56199311138563,27.654478660518524,26.652205933245856,26.682205933245868,27.24826928166212,26.25076928166212,25.2507692816621,24.254037255518288,23.254037255518316,\"\",24.087370588851627,23.08737058885167,22.087370588851588,21.087370588851524,\"\",\"\",20.087370588851513,21.307128653367588,20.304736308870023,20.252603607448243,21.47482582967054,20.477619125759848,19.475093873234616,18.47509387323465,\"\",\"\",19.64029211112008,20.906801545082345,19.906801545082406,18.90922872954842,19.550405200136623,20.889639649897322,22.297896530631238,21.29789653063131,22.62499933436964,21.627231477226776,24.526687998965958,25.621549659045,27.08008624441086,28.31662470594935,29.552061599153216,31.054293742010362,30.05797021259854,31.505731406628346,32.8682782231078,33.30105600088557,34.005403826972554,34.60971004706823,33.61227414963231,32.61455725465512,33.28598582608369,33.77275053196607,35.74130399108556,34.73876592001962,33.736673869810446,32.73667386981041,32.69821233134883,31.695796872411716,32.2633293399442,32.856692171802614,34.11021329856313,34.699553400085975,35.092528606697556,36.53619057852851],\"type\":\"scatter\"},{\"connectgaps\":true,\"fill\":\"tozeroy\",\"fillcolor\":\"rgba(70, 99, 101, 0.3)\",\"line\":{\"color\":\"rgba(70, 99, 101, 1.0)\",\"dash\":\"solid\",\"shape\":\"hv\",\"width\":2},\"mode\":\"lines\",\"name\":\"result_60_40_max_4\",\"text\":\"\",\"x\":[\"2020-11-05 13:05:00+00:00\",\"2020-11-05 13:42:00+00:00\",\"2020-11-06 03:27:00+00:00\",\"2020-11-09 09:57:00+00:00\",\"2020-11-11 00:06:00+00:00\",\"2020-11-11 01:02:00+00:00\",\"2020-11-30 07:16:00+00:00\",\"2020-12-01 07:07:00+00:00\",\"2020-12-01 12:58:00+00:00\",\"2020-12-01 14:22:00+00:00\",\"2020-12-04 13:30:00+00:00\",\"2020-12-07 12:48:00+00:00\",\"2020-12-09 07:48:00+00:00\",\"2020-12-10 15:32:00+00:00\",\"2020-12-11 07:36:00+00:00\",\"2020-12-16 07:52:00+00:00\",\"2020-12-17 14:22:00+00:00\",\"2020-12-17 15:04:00+00:00\",\"2020-12-17 16:07:00+00:00\",\"2020-12-18 07:16:00+00:00\",\"2020-12-18 08:27:00+00:00\",\"2020-12-21 14:22:00+00:00\",\"2020-12-22 14:57:00+00:00\",\"2020-12-22 16:01:00+00:00\",\"2020-12-30 13:50:00+00:00\",\"2020-12-31 07:59:00+00:00\",\"2021-01-04 08:34:00+00:00\",\"2021-01-05 11:14:00+00:00\",\"2021-01-07 16:42:00+00:00\",\"2021-01-08 05:17:00+00:00\",\"2021-01-08 17:09:00+00:00\",\"2021-01-11 12:18:00+00:00\",\"2021-01-11 15:19:00+00:00\",\"2021-01-12 09:53:00+00:00\",\"2021-01-15 15:08:00+00:00\",\"2021-01-19 07:24:00+00:00\",\"2021-01-20 14:22:00+00:00\",\"2021-01-21 13:33:00+00:00\",\"2021-01-21 14:19:00+00:00\",\"2021-01-22 13:16:00+00:00\",\"2021-01-25 15:50:00+00:00\",\"2021-01-26 14:17:00+00:00\",\"2021-01-28 01:10:00+00:00\",\"2021-01-29 06:48:00+00:00\",\"2021-01-29 08:08:00+00:00\",\"2021-02-01 08:51:00+00:00\",\"2021-02-01 12:16:00+00:00\",\"2021-02-01 13:13:00+00:00\",\"2021-02-01 13:15:00+00:00\",\"2021-02-01 13:16:00+00:00\",\"2021-02-02 08:20:00+00:00\",\"2021-02-03 04:40:00+00:00\",\"2021-02-03 08:04:00+00:00\",\"2021-02-03 17:29:00+00:00\",\"2021-02-05 08:00:00+00:00\",\"2021-02-08 10:27:00+00:00\",\"2021-02-09 07:00:00+00:00\",\"2021-02-16 14:00:00+00:00\",\"2021-02-17 12:43:00+00:00\",\"2021-02-18 08:00:00+00:00\",\"2021-02-22 07:10:00+00:00\",\"2021-02-23 07:00:00+00:00\",\"2021-02-23 10:00:00+00:00\",\"2021-02-24 08:12:00+00:00\",\"2021-02-25 07:00:00+00:00\",\"2021-02-25 08:00:00+00:00\",\"2021-02-25 08:36:00+00:00\",\"2021-03-01 13:00:00+00:00\",\"2021-03-01 15:59:00+00:00\",\"2021-03-02 08:56:00+00:00\",\"2021-03-02 15:00:00+00:00\",\"2021-03-03 11:39:00+00:00\",\"2021-03-03 15:59:00+00:00\",\"2021-03-05 13:00:00+00:00\",\"2021-03-09 05:00:00+00:00\",\"2021-03-09 07:36:00+00:00\",\"2021-03-09 08:00:00+00:00\",\"2021-03-09 16:00:00+00:00\",\"2021-03-10 06:00:00+00:00\",\"2021-03-10 08:00:00+00:00\",\"2021-03-10 14:00:00+00:00\",\"2021-03-12 09:00:00+00:00\",\"2021-03-12 16:42:00+00:00\",\"2021-03-15 10:55:00+00:00\",\"2021-03-16 05:44:00+00:00\",\"2021-03-16 07:57:00+00:00\",\"2021-03-17 07:04:00+00:00\",\"2021-03-17 13:50:00+00:00\",\"2021-03-18 03:35:00+00:00\",\"2021-03-18 05:27:00+00:00\",\"2021-03-19 04:22:00+00:00\",\"2021-03-19 08:00:00+00:00\",\"2021-03-22 05:36:00+00:00\",\"2021-03-22 06:48:00+00:00\",\"2021-03-22 12:03:00+00:00\",\"2021-03-23 04:27:00+00:00\",\"2021-03-23 06:16:00+00:00\",\"2021-03-24 02:36:00+00:00\",\"2021-03-24 08:20:00+00:00\",\"2021-03-25 04:48:00+00:00\",\"2021-03-26 06:49:00+00:00\",\"2021-03-29 05:00:00+00:00\",\"2021-03-29 07:51:00+00:00\",\"2021-03-30 05:55:00+00:00\",\"2021-03-30 08:00:00+00:00\",\"2021-03-31 13:00:00+00:00\",\"2021-04-01 07:00:00+00:00\",\"2021-04-01 08:00:00+00:00\",\"2021-04-05 12:00:00+00:00\",\"2021-04-06 13:45:00+00:00\",\"2021-04-06 14:00:00+00:00\",\"2021-04-07 05:51:00+00:00\",\"2021-04-07 06:30:00+00:00\",\"2021-04-07 07:00:00+00:00\",\"2021-04-08 07:00:00+00:00\",\"2021-04-08 08:46:00+00:00\",\"2021-04-08 09:37:00+00:00\",\"2021-04-09 12:00:00+00:00\",\"2021-04-12 02:14:00+00:00\",\"2021-04-12 05:45:00+00:00\",\"2021-04-12 08:00:00+00:00\",\"2021-04-13 07:00:00+00:00\",\"2021-04-13 07:57:00+00:00\",\"2021-04-13 10:00:00+00:00\",\"2021-04-14 06:38:00+00:00\",\"2021-04-14 07:00:00+00:00\",\"2021-04-14 08:17:00+00:00\",\"2021-04-14 09:41:00+00:00\",\"2021-04-16 10:00:00+00:00\",\"2021-04-19 08:00:00+00:00\",\"2021-04-19 08:54:00+00:00\",\"2021-04-19 10:00:00+00:00\",\"2021-04-20 06:00:00+00:00\",\"2021-04-20 13:00:00+00:00\",\"2021-04-21 07:00:00+00:00\",\"2021-04-21 07:57:00+00:00\",\"2021-04-22 07:00:00+00:00\",\"2021-04-22 08:42:00+00:00\",\"2021-04-22 12:00:00+00:00\",\"2021-04-22 12:33:00+00:00\",\"2021-04-23 12:00:00+00:00\",\"2021-04-23 12:22:00+00:00\",\"2021-04-26 11:00:00+00:00\",\"2021-04-26 12:40:00+00:00\",\"2021-04-27 14:00:00+00:00\",\"2021-04-28 13:00:00+00:00\",\"2021-04-29 16:00:00+00:00\",\"2021-04-29 16:29:00+00:00\",\"2021-04-30 01:00:00+00:00\",\"2021-04-30 06:00:00+00:00\",\"2021-04-30 06:18:00+00:00\",\"2021-04-30 10:08:00+00:00\",\"2021-04-30 14:52:00+00:00\",\"2021-05-03 12:44:00+00:00\",\"2021-05-04 13:00:00+00:00\",\"2021-05-04 13:49:00+00:00\",\"2021-05-04 15:00:00+00:00\",\"2021-05-05 13:36:00+00:00\",\"2021-05-05 14:00:00+00:00\",\"2021-05-06 10:00:00+00:00\",\"2021-05-06 14:00:00+00:00\",\"2021-05-07 12:00:00+00:00\",\"2021-05-10 05:00:00+00:00\",\"2021-05-10 06:00:00+00:00\",\"2021-05-10 14:00:00+00:00\",\"2021-05-11 08:00:00+00:00\",\"2021-05-11 10:00:00+00:00\",\"2021-05-11 12:00:00+00:00\",\"2021-05-11 13:19:00+00:00\",\"2021-05-12 12:00:00+00:00\",\"2021-05-13 05:00:00+00:00\",\"2021-05-13 07:53:00+00:00\",\"2021-05-14 06:00:00+00:00\",\"2021-05-14 13:00:00+00:00\",\"2021-05-17 15:00:00+00:00\",\"2021-05-19 00:00:00+00:00\",\"2021-05-19 12:00:00+00:00\",\"2021-05-20 09:00:00+00:00\",\"2021-05-24 13:47:00+00:00\",\"2021-05-26 07:14:00+00:00\",\"2021-05-26 13:00:00+00:00\",\"2021-05-27 02:41:00+00:00\",\"2021-05-27 07:00:00+00:00\",\"2021-06-08 07:00:00+00:00\",\"2021-06-08 10:00:00+00:00\",\"2021-06-08 12:00:00+00:00\",\"2021-06-08 13:00:00+00:00\",\"2021-06-09 08:00:00+00:00\",\"2021-06-10 12:00:00+00:00\",\"2021-06-11 16:00:00+00:00\",\"2021-06-14 16:29:00+00:00\",\"2021-06-15 08:00:00+00:00\",\"2021-06-15 13:38:00+00:00\",\"2021-06-17 07:00:00+00:00\",\"2021-06-21 03:00:00+00:00\",\"2021-06-21 06:00:00+00:00\",\"2021-06-22 05:00:00+00:00\",\"2021-06-22 07:00:00+00:00\",\"2021-06-22 08:00:00+00:00\",\"2021-06-30 07:00:00+00:00\",\"2021-07-01 07:00:00+00:00\",\"2021-07-01 11:00:00+00:00\",\"2021-07-06 07:00:00+00:00\",\"2021-07-06 16:00:00+00:00\",\"2021-07-07 04:00:00+00:00\",\"2021-07-07 05:56:00+00:00\",\"2021-07-07 13:50:00+00:00\",\"2021-07-08 13:36:00+00:00\",\"2021-07-09 07:27:00+00:00\",\"2021-07-09 10:00:00+00:00\",\"2021-07-12 07:00:00+00:00\",\"2021-07-12 07:28:00+00:00\",\"2021-07-12 10:00:00+00:00\",\"2021-07-12 13:00:00+00:00\",\"2021-07-13 05:00:00+00:00\",\"2021-07-14 13:00:00+00:00\",\"2021-07-15 07:27:00+00:00\",\"2021-07-16 07:51:00+00:00\",\"2021-07-19 06:00:00+00:00\",\"2021-07-20 03:28:00+00:00\",\"2021-07-20 14:01:00+00:00\",\"2021-07-21 07:00:00+00:00\",\"2021-07-22 07:00:00+00:00\",\"2021-07-23 07:21:00+00:00\",\"2021-07-23 12:38:00+00:00\",\"2021-07-26 08:44:00+00:00\",\"2021-07-26 09:00:00+00:00\",\"2021-07-27 06:00:00+00:00\",\"2021-07-27 07:00:00+00:00\",\"2021-07-27 08:20:00+00:00\",\"2021-07-27 13:00:00+00:00\",\"2021-07-27 14:50:00+00:00\",\"2021-07-29 08:00:00+00:00\",\"2021-07-30 07:00:00+00:00\",\"2021-08-02 09:00:00+00:00\",\"2021-08-03 08:00:00+00:00\",\"2021-08-04 12:00:00+00:00\",\"2021-08-05 14:00:00+00:00\",\"2021-08-09 08:00:00+00:00\",\"2021-08-09 09:28:00+00:00\",\"2021-08-10 08:00:00+00:00\",\"2021-08-11 12:00:00+00:00\",\"2021-08-11 16:29:00+00:00\",\"2021-08-12 11:00:00+00:00\",\"2021-08-12 13:00:00+00:00\",\"2021-08-12 14:00:00+00:00\",\"2021-08-13 07:00:00+00:00\",\"2021-08-16 06:00:00+00:00\",\"2021-08-16 11:00:00+00:00\",\"2021-08-17 06:00:00+00:00\",\"2021-08-17 07:06:00+00:00\",\"2021-08-17 10:00:00+00:00\",\"2021-08-17 16:00:00+00:00\",\"2021-08-18 08:00:00+00:00\",\"2021-08-18 11:49:00+00:00\",\"2021-08-19 06:00:00+00:00\",\"2021-08-19 06:27:00+00:00\",\"2021-08-19 07:00:00+00:00\",\"2021-08-19 07:57:00+00:00\",\"2021-08-19 12:41:00+00:00\",\"2021-08-19 14:00:00+00:00\",\"2021-08-20 05:00:00+00:00\",\"2021-08-20 08:00:00+00:00\",\"2021-08-20 11:00:00+00:00\",\"2021-08-20 13:00:00+00:00\",\"2021-08-20 13:46:00+00:00\",\"2021-08-23 06:00:00+00:00\",\"2021-08-23 14:00:00+00:00\",\"2021-08-24 07:00:00+00:00\",\"2021-08-24 08:00:00+00:00\",\"2021-08-24 10:00:00+00:00\",\"2021-08-24 13:31:00+00:00\",\"2021-08-25 14:00:00+00:00\",\"2021-08-26 11:00:00+00:00\",\"2021-08-26 12:36:00+00:00\",\"2021-08-27 06:56:00+00:00\",\"2021-08-30 16:29:00+00:00\",\"2021-08-31 06:34:00+00:00\",\"2021-09-01 07:00:00+00:00\",\"2021-09-02 07:38:00+00:00\",\"2021-09-06 15:04:00+00:00\",\"2021-09-07 10:00:00+00:00\",\"2021-09-07 16:00:00+00:00\",\"2021-09-08 14:00:00+00:00\",\"2021-09-08 16:29:00+00:00\",\"2021-09-13 06:41:00+00:00\",\"2021-09-13 10:00:00+00:00\",\"2021-09-15 13:55:00+00:00\",\"2021-09-16 11:35:00+00:00\",\"2021-09-17 13:54:00+00:00\",\"2021-09-20 06:10:00+00:00\",\"2021-09-20 06:45:00+00:00\",\"2021-09-23 08:12:00+00:00\",\"2021-09-23 10:11:00+00:00\",\"2021-09-23 10:49:00+00:00\",\"2021-09-23 11:08:00+00:00\",\"2021-09-24 13:33:00+00:00\",\"2021-09-27 11:13:00+00:00\",\"2021-09-28 09:50:00+00:00\",\"2021-09-29 13:34:00+00:00\",\"2021-09-29 14:45:00+00:00\",\"2021-09-30 15:12:00+00:00\",\"2021-10-01 06:54:00+00:00\",\"2021-10-01 09:35:00+00:00\",\"2021-10-04 07:06:00+00:00\",\"2021-10-04 08:00:00+00:00\",\"2021-10-05 14:45:00+00:00\",\"2021-10-07 09:17:00+00:00\",\"2021-10-08 14:05:00+00:00\",\"2021-10-12 06:45:00+00:00\",\"2021-10-12 09:12:00+00:00\",\"2021-10-12 12:04:00+00:00\",\"2021-10-13 10:16:00+00:00\",\"2021-10-25 08:56:00+00:00\",\"2021-10-25 09:23:00+00:00\",\"2021-10-25 10:50:00+00:00\",\"2021-10-25 13:50:00+00:00\",\"2021-10-27 08:42:00+00:00\",\"2021-10-27 09:01:00+00:00\",\"2021-10-27 10:48:00+00:00\",\"2021-10-28 07:59:00+00:00\",\"2021-11-01 09:00:00+00:00\",\"2021-11-01 10:59:00+00:00\",\"2021-11-02 08:52:00+00:00\",\"2021-11-02 12:00:00+00:00\",\"2021-11-03 12:56:00+00:00\",\"2021-11-04 08:15:00+00:00\",\"2021-11-04 08:44:00+00:00\",\"2021-11-04 10:09:00+00:00\",\"2021-11-04 11:36:00+00:00\",\"2021-11-04 12:00:00+00:00\",\"2021-11-08 15:28:00+00:00\",\"2021-11-08 17:29:00+00:00\",\"2021-11-09 08:12:00+00:00\",\"2021-11-09 14:54:00+00:00\",\"2021-11-11 17:29:00+00:00\",\"2021-11-17 17:29:00+00:00\",\"2021-11-18 05:05:00+00:00\",\"2021-11-18 06:11:00+00:00\",\"2021-11-18 09:20:00+00:00\",\"2021-11-22 11:48:00+00:00\",\"2021-11-24 04:01:00+00:00\",\"2021-11-24 07:58:00+00:00\",\"2021-11-24 08:00:00+00:00\",\"2021-11-24 17:29:00+00:00\",\"2021-11-29 10:55:00+00:00\",\"2021-11-30 05:19:00+00:00\",\"2021-11-30 06:01:00+00:00\",\"2021-11-30 11:15:00+00:00\",\"2021-11-30 13:32:00+00:00\",\"2021-11-30 14:45:00+00:00\",\"2021-12-02 13:45:00+00:00\",\"2021-12-02 17:10:00+00:00\",\"2021-12-03 11:02:00+00:00\",\"2021-12-03 12:01:00+00:00\",\"2021-12-06 16:19:00+00:00\",\"2021-12-07 08:33:00+00:00\",\"2021-12-07 09:09:00+00:00\",\"2021-12-07 10:52:00+00:00\",\"2021-12-07 11:23:00+00:00\",\"2021-12-07 13:18:00+00:00\",\"2021-12-08 10:36:00+00:00\",\"2021-12-08 13:54:00+00:00\",\"2021-12-09 10:42:00+00:00\",\"2021-12-09 10:48:00+00:00\",\"2021-12-09 14:24:00+00:00\",\"2021-12-13 10:17:00+00:00\",\"2021-12-14 11:10:00+00:00\",\"2021-12-15 14:59:00+00:00\",\"2021-12-16 08:15:00+00:00\",\"2021-12-17 10:03:00+00:00\",\"2021-12-17 12:47:00+00:00\",\"2021-12-20 13:14:00+00:00\",\"2021-12-21 16:13:00+00:00\",\"2021-12-27 12:32:00+00:00\",\"2022-01-04 08:01:00+00:00\",\"2022-01-04 09:45:00+00:00\",\"2022-01-05 10:37:00+00:00\",\"2022-01-05 16:20:00+00:00\",\"2022-01-06 10:13:00+00:00\",\"2022-01-12 13:06:00+00:00\",\"2022-01-13 12:01:00+00:00\",\"2022-01-14 12:24:00+00:00\",\"2022-01-14 12:28:00+00:00\",\"2022-01-17 12:06:00+00:00\",\"2022-01-17 15:28:00+00:00\",\"2022-01-18 08:15:00+00:00\",\"2022-01-19 09:45:00+00:00\",\"2022-01-20 08:21:00+00:00\",\"2022-01-20 10:35:00+00:00\",\"2022-01-20 11:56:00+00:00\",\"2022-01-24 11:26:00+00:00\",\"2022-01-24 13:31:00+00:00\",\"2022-01-24 15:11:00+00:00\",\"2022-01-25 11:55:00+00:00\",\"2022-01-26 16:23:00+00:00\",\"2022-01-27 11:38:00+00:00\",\"2022-01-31 16:42:00+00:00\",\"2022-02-01 15:25:00+00:00\"],\"y\":[-0.9999999999999464,-2.0036496350363597,-2.025780782577239,-2.062071105157828,-3.062071105157912,-4.067071105157737,-2.1861187242053344,-3.1907058801686103,-2.863512897712478,-0.4479284821280447,-1.4433413261649317,-0.9428988482888129,-0.5428988482887978,-1.537948353239401,-1.1714266141089584,1.2885733858911348,0.28857338589112036,-0.7114266141088859,1.457746318221977,1.3057726340114542,0.30931873330221327,1.302037179904218,0.3020371799042695,-0.6997613812467368,-0.5686934200816695,-1.5716696105578274,-0.15447215832858596,0.27521534167137846,0.7914164589898021,-0.20858354101019605,0.28750584446465133,1.7734562576878403,0.7734562576878385,1.741486948224944,3.060441196590939,2.060441196590862,2.9742343000390905,1.9702972921650928,2.568270265138098,1.5631156259628756,2.4311156259629954,3.2131669080142586,2.210172896038272,1.2101728960382738,0.21017289603818035,-0.7916789558136557,-1.7916789558136466,-2.074580510217817,-1.7041894487652651,\"\",-2.700643349474506,-2.8742697231008716,-1.8928594666906844,-1.2570569975549455,-2.2605052734170035,-1.425930805331979,-2.4248414807132503,-3.4248414807132885,-2.1182377071284986,-0.7015710404617939,0.7017402178162953,1.3017402178162292,2.1593159753920332,2.6622571518626406,1.6676334959486498,0.6701460587625991,0.6534793920959205,0.48885885638162496,0.8631445706672992,1.2775414578268536,1.9275414578267869,2.5182903565052044,4.467442898878096,5.038871470306689,4.038871470306867,4.772534836643542,5.983061152433017,6.134709504081436,5.134709504081398,6.199486832016584,7.532820165349833,6.532820165349795,7.233963022492678,7.375342332837513,6.375342332837337,6.5617830108034685,8.462546369582206,7.462546369582364,6.462546369582552,6.883048461632759,5.887810366394649,5.9072760152496055,6.916535274508684,5.925307204332984,5.989338824886342,4.989338824886197,5.520507656055028,4.5274521004992705,4.4515592433564315,4.391559243356334,3.388685680137973,3.742357996522205,4.9577835284370515,3.9618485690874397,6.109284466523352,7.350563536290888,6.3475332332606085,7.994425888627841,8.871211602913558,9.375680876656554,11.436164747624257,10.436164747624188,9.436164747624337,10.397746668528388,10.984313832707493,9.98431383270754,11.123495119257235,12.562145426005683,11.562145426005493,10.562145426005403,11.942427116146167,12.507543395215922,13.184185730982305,13.017949020538339,12.02130472523624,11.024850824526998,11.17332021228207,12.782120212282043,13.581752565223182,12.578304289361125,11.578304289360815,12.800526511583083,14.471600891748366,13.938672276268907,15.378923848595893,17.50200077167272,17.549938916002624,18.314969590849223,17.318515690139982,16.318515690139822,15.31851569013985,14.32351569013979,13.326527738332508,14.22652773833243,15.622249663466068,14.622249663466054,13.622249663466091,13.710595528127687,12.70702409955644,12.462171158379991,11.468750105748343,10.46875010574826,\"\",10.862500105748243,10.862500105748243,11.475357248605428,13.001673038079131,11.999095718491624,12.720524289920188,11.722581903088885,12.766417519527204,13.394003726423811,12.39093624176124,11.393761100518278,12.10626110051827,11.10348332274052,10.103483322740516,9.103483322740548,9.405681124938377,8.403673092809898,7.403673092809707,8.030192429826338,7.025241934776959,7.9558469169833295,8.526578624300383,7.530745290966913,9.037787544488031,10.88993808212243,11.798633734296311,12.45584303662186,13.368764384936467,12.366689696139801,12.146367115494598,11.146367115494721,10.143182402118931,9.13936560822589,\"\",10.773386226782675,12.79628699014145,13.378254203256141,13.351468488970383,13.902532318757636,14.655435544564106,13.651529294564122,12.651529294564279,13.749702810546001,12.749702810545964,11.74970281054597,12.282569943413144,11.282569943413106,10.279881771370121,9.279881771370107,9.715842362503052,8.712883782621399,7.709286660319253,8.74738189841444,9.244942874024181,10.22642435550559,9.2264243555058,10.128863379896055,9.128863379896204,8.126006237039064,7.126006237039048,8.747553198364985,8.644428198364936,9.347999626936375,10.615295224420642,11.435487532112958,10.43548753211299,9.435487532113093,9.529094838049184,10.851580045149717,12.224768450946888,11.224768450946735,12.543733968188091,13.992121064962287,15.303639389569645,14.303639389569657,13.30144640711353,12.303369484036597,11.3058447315613,\"\",13.496110218286935,14.662776884953683,14.907185830640616,15.880754112578932,16.403863356276364,17.632487891592373,18.207348226787932,19.092870112309836,20.25712132003937,19.260642446799878,19.087802940626915,18.09070991737105,17.09070991737105,16.090709917371218,16.633484483845283,15.633484483845175,16.96096986396219,15.960969863962239,14.960969863962458,13.958392544374949,12.958392544375027,13.61221927320175,14.07820912091746,13.08143492736899,12.085251721262027,11.081492322765802,10.077524068797604,\"\",\"\",9.080431045541738,8.077052667163466,7.077052667163421,7.591338381449121,\"\",9.004259729763803,9.502165488926117,8.502165488926105,10.167519819634684,10.90856459575407,9.908564595753981,10.392585214310664,11.158169629895136,10.160270470231271,11.442436075326835,11.896252116860389,13.159309441701156,12.159309441701067,13.200829909537262,13.345657495744165,13.315045250846234,15.14587231851528,15.802001350773342,17.489152188762286,17.717104944667778,18.29028930220965,19.12044803236833,20.242296771864254,19.242296771864304,18.24229677186434,17.238800268367914,17.743646083345947,16.743646083345965,17.2308255705255,17.69210376601419,18.31812417417744,18.827298486104052,17.82729848610394,16.829875805691564,17.40000567582139,17.615422342488056,16.615422342488042,18.33694132982983,18.860018252906716,20.760018252906676,22.163451729301567,23.093029194090313,24.71598001376249,23.715980013762433,25.005217681923867,26.354027205733345,27.799442052894918,26.801190304643125,26.63776618012952,27.18165107221587,26.181651072215832,25.18018479655602,24.18018479655601,23.18018479655608,22.177040142468154,22.649999326141664,22.622850004874696,21.624866133906945,22.867018600274623,24.481543739939386,25.245180103575812,24.24518010357575,23.245180103575688,\"\",22.245180103575716,22.846608675004276,22.850105178500797,23.186343710610863,22.18862681563367,23.07931004544735,23.171795594580246,22.169522867307577,22.19952286730759,22.765586215723843,21.76808621572384,20.768086215723823,19.77135418958001,18.771354189580038,18.202933136948438,19.03626647028175,18.03626647028179,17.03626647028171,16.036266470281646,15.038911972927123,\"\",14.03891197292711,15.258670037443185,14.256277692945618,14.204144991523838,15.426367213746133,14.429160509835441,13.42663525731021,12.42663525731024,11.423038135008095,\"\",12.588236372893524,13.854745806855789,12.854745806855847,11.857172991321864,12.498349461910069,13.83758391167077,15.245840792404685,14.245840792404756,15.572943596143089,14.575175739000226,17.47463226073941,18.569493920818452,20.02803050618431,21.264568967722802,22.500005860926667,24.002238003783813,23.00591447437199,24.453675668401797,25.81622248488125,26.249000262659028,26.95334808874601,27.557654308841695,26.56021841140577,25.562501516428576,26.23393008785715,26.72069479373953,28.689248252859024,27.68671018179308,26.684618131583907,25.684618131583868,25.64615659312228,24.64374113418517,25.211273601717654,25.804636433576064,27.058157560336582,27.647497661859425,28.040472868471007,29.484134840301962],\"type\":\"scatter\"},{\"connectgaps\":true,\"fill\":\"tozeroy\",\"fillcolor\":\"rgba(255, 202, 177, 0.3)\",\"line\":{\"color\":\"rgba(255, 202, 177, 1.0)\",\"dash\":\"solid\",\"shape\":\"hv\",\"width\":2},\"mode\":\"lines\",\"name\":\"result_60_40_old\",\"text\":\"\",\"x\":[\"2020-11-05 13:05:00+00:00\",\"2020-11-05 13:42:00+00:00\",\"2020-11-06 03:27:00+00:00\",\"2020-11-09 09:57:00+00:00\",\"2020-11-11 00:06:00+00:00\",\"2020-11-11 01:02:00+00:00\",\"2020-11-30 07:16:00+00:00\",\"2020-12-01 07:07:00+00:00\",\"2020-12-01 12:58:00+00:00\",\"2020-12-01 14:22:00+00:00\",\"2020-12-04 13:30:00+00:00\",\"2020-12-07 12:48:00+00:00\",\"2020-12-09 07:48:00+00:00\",\"2020-12-10 15:32:00+00:00\",\"2020-12-11 07:36:00+00:00\",\"2020-12-16 07:52:00+00:00\",\"2020-12-17 14:22:00+00:00\",\"2020-12-17 15:04:00+00:00\",\"2020-12-17 16:07:00+00:00\",\"2020-12-18 07:16:00+00:00\",\"2020-12-18 08:27:00+00:00\",\"2020-12-21 14:22:00+00:00\",\"2020-12-22 14:57:00+00:00\",\"2020-12-22 16:01:00+00:00\",\"2020-12-30 13:50:00+00:00\",\"2020-12-31 07:59:00+00:00\",\"2021-01-04 08:34:00+00:00\",\"2021-01-05 11:14:00+00:00\",\"2021-01-07 16:42:00+00:00\",\"2021-01-08 05:17:00+00:00\",\"2021-01-08 17:09:00+00:00\",\"2021-01-11 12:18:00+00:00\",\"2021-01-11 15:19:00+00:00\",\"2021-01-12 09:53:00+00:00\",\"2021-01-15 15:08:00+00:00\",\"2021-01-19 07:24:00+00:00\",\"2021-01-20 14:22:00+00:00\",\"2021-01-21 13:33:00+00:00\",\"2021-01-21 14:19:00+00:00\",\"2021-01-22 13:16:00+00:00\",\"2021-01-25 15:50:00+00:00\",\"2021-01-26 14:17:00+00:00\",\"2021-01-28 01:10:00+00:00\",\"2021-01-29 06:48:00+00:00\",\"2021-01-29 08:08:00+00:00\",\"2021-02-01 08:51:00+00:00\",\"2021-02-01 12:16:00+00:00\",\"2021-02-01 13:13:00+00:00\",\"2021-02-01 13:15:00+00:00\",\"2021-02-01 13:16:00+00:00\",\"2021-02-02 08:20:00+00:00\",\"2021-02-03 04:40:00+00:00\",\"2021-02-03 08:04:00+00:00\",\"2021-02-03 17:29:00+00:00\",\"2021-02-05 08:00:00+00:00\",\"2021-02-08 10:27:00+00:00\",\"2021-02-09 07:00:00+00:00\",\"2021-02-16 14:00:00+00:00\",\"2021-02-17 12:43:00+00:00\",\"2021-02-18 08:00:00+00:00\",\"2021-02-22 07:10:00+00:00\",\"2021-02-23 07:00:00+00:00\",\"2021-02-23 10:00:00+00:00\",\"2021-02-24 08:12:00+00:00\",\"2021-02-25 07:00:00+00:00\",\"2021-02-25 08:00:00+00:00\",\"2021-02-25 08:36:00+00:00\",\"2021-03-01 13:00:00+00:00\",\"2021-03-01 15:59:00+00:00\",\"2021-03-02 08:56:00+00:00\",\"2021-03-02 15:00:00+00:00\",\"2021-03-03 11:39:00+00:00\",\"2021-03-03 15:59:00+00:00\",\"2021-03-05 13:00:00+00:00\",\"2021-03-09 05:00:00+00:00\",\"2021-03-09 07:36:00+00:00\",\"2021-03-09 08:00:00+00:00\",\"2021-03-09 16:00:00+00:00\",\"2021-03-10 06:00:00+00:00\",\"2021-03-10 08:00:00+00:00\",\"2021-03-10 14:00:00+00:00\",\"2021-03-12 09:00:00+00:00\",\"2021-03-12 16:42:00+00:00\",\"2021-03-15 10:55:00+00:00\",\"2021-03-16 05:44:00+00:00\",\"2021-03-16 07:57:00+00:00\",\"2021-03-17 07:04:00+00:00\",\"2021-03-17 13:50:00+00:00\",\"2021-03-18 03:35:00+00:00\",\"2021-03-18 05:27:00+00:00\",\"2021-03-19 04:22:00+00:00\",\"2021-03-19 08:00:00+00:00\",\"2021-03-22 05:36:00+00:00\",\"2021-03-22 06:48:00+00:00\",\"2021-03-22 12:03:00+00:00\",\"2021-03-23 04:27:00+00:00\",\"2021-03-23 06:16:00+00:00\",\"2021-03-24 02:36:00+00:00\",\"2021-03-24 08:20:00+00:00\",\"2021-03-25 04:48:00+00:00\",\"2021-03-26 06:49:00+00:00\",\"2021-03-29 05:00:00+00:00\",\"2021-03-29 07:51:00+00:00\",\"2021-03-30 05:55:00+00:00\",\"2021-03-30 08:00:00+00:00\",\"2021-03-31 13:00:00+00:00\",\"2021-04-01 07:00:00+00:00\",\"2021-04-01 08:00:00+00:00\",\"2021-04-05 12:00:00+00:00\",\"2021-04-06 13:45:00+00:00\",\"2021-04-06 14:00:00+00:00\",\"2021-04-07 05:51:00+00:00\",\"2021-04-07 06:30:00+00:00\",\"2021-04-07 07:00:00+00:00\",\"2021-04-08 07:00:00+00:00\",\"2021-04-08 08:46:00+00:00\",\"2021-04-08 09:37:00+00:00\",\"2021-04-09 12:00:00+00:00\",\"2021-04-12 02:14:00+00:00\",\"2021-04-12 05:45:00+00:00\",\"2021-04-12 08:00:00+00:00\",\"2021-04-13 07:00:00+00:00\",\"2021-04-13 07:57:00+00:00\",\"2021-04-13 10:00:00+00:00\",\"2021-04-14 06:38:00+00:00\",\"2021-04-14 07:00:00+00:00\",\"2021-04-14 08:17:00+00:00\",\"2021-04-14 09:41:00+00:00\",\"2021-04-16 10:00:00+00:00\",\"2021-04-19 08:00:00+00:00\",\"2021-04-19 08:54:00+00:00\",\"2021-04-19 10:00:00+00:00\",\"2021-04-20 06:00:00+00:00\",\"2021-04-20 13:00:00+00:00\",\"2021-04-21 07:00:00+00:00\",\"2021-04-21 07:57:00+00:00\",\"2021-04-22 07:00:00+00:00\",\"2021-04-22 08:42:00+00:00\",\"2021-04-22 12:00:00+00:00\",\"2021-04-22 12:33:00+00:00\",\"2021-04-23 12:00:00+00:00\",\"2021-04-23 12:22:00+00:00\",\"2021-04-26 11:00:00+00:00\",\"2021-04-26 12:40:00+00:00\",\"2021-04-27 14:00:00+00:00\",\"2021-04-28 13:00:00+00:00\",\"2021-04-29 16:00:00+00:00\",\"2021-04-29 16:29:00+00:00\",\"2021-04-30 01:00:00+00:00\",\"2021-04-30 06:00:00+00:00\",\"2021-04-30 06:18:00+00:00\",\"2021-04-30 10:08:00+00:00\",\"2021-04-30 14:52:00+00:00\",\"2021-05-03 12:44:00+00:00\",\"2021-05-04 13:00:00+00:00\",\"2021-05-04 13:49:00+00:00\",\"2021-05-04 15:00:00+00:00\",\"2021-05-05 13:36:00+00:00\",\"2021-05-05 14:00:00+00:00\",\"2021-05-06 10:00:00+00:00\",\"2021-05-06 14:00:00+00:00\",\"2021-05-07 12:00:00+00:00\",\"2021-05-10 05:00:00+00:00\",\"2021-05-10 06:00:00+00:00\",\"2021-05-10 14:00:00+00:00\",\"2021-05-11 08:00:00+00:00\",\"2021-05-11 10:00:00+00:00\",\"2021-05-11 12:00:00+00:00\",\"2021-05-11 13:19:00+00:00\",\"2021-05-12 12:00:00+00:00\",\"2021-05-13 05:00:00+00:00\",\"2021-05-13 07:53:00+00:00\",\"2021-05-14 06:00:00+00:00\",\"2021-05-14 13:00:00+00:00\",\"2021-05-17 15:00:00+00:00\",\"2021-05-19 00:00:00+00:00\",\"2021-05-19 12:00:00+00:00\",\"2021-05-20 09:00:00+00:00\",\"2021-05-24 13:47:00+00:00\",\"2021-05-26 07:14:00+00:00\",\"2021-05-26 13:00:00+00:00\",\"2021-05-27 02:41:00+00:00\",\"2021-05-27 07:00:00+00:00\",\"2021-06-08 07:00:00+00:00\",\"2021-06-08 10:00:00+00:00\",\"2021-06-08 12:00:00+00:00\",\"2021-06-08 13:00:00+00:00\",\"2021-06-09 08:00:00+00:00\",\"2021-06-10 12:00:00+00:00\",\"2021-06-11 16:00:00+00:00\",\"2021-06-14 16:29:00+00:00\",\"2021-06-15 08:00:00+00:00\",\"2021-06-15 13:38:00+00:00\",\"2021-06-17 07:00:00+00:00\",\"2021-06-21 03:00:00+00:00\",\"2021-06-21 06:00:00+00:00\",\"2021-06-22 05:00:00+00:00\",\"2021-06-22 07:00:00+00:00\",\"2021-06-22 08:00:00+00:00\",\"2021-06-30 07:00:00+00:00\",\"2021-07-01 07:00:00+00:00\",\"2021-07-01 11:00:00+00:00\",\"2021-07-06 07:00:00+00:00\",\"2021-07-06 16:00:00+00:00\",\"2021-07-07 04:00:00+00:00\",\"2021-07-07 05:56:00+00:00\",\"2021-07-07 13:50:00+00:00\",\"2021-07-08 13:36:00+00:00\",\"2021-07-09 07:27:00+00:00\",\"2021-07-09 10:00:00+00:00\",\"2021-07-12 07:00:00+00:00\",\"2021-07-12 07:28:00+00:00\",\"2021-07-12 10:00:00+00:00\",\"2021-07-12 13:00:00+00:00\",\"2021-07-13 05:00:00+00:00\",\"2021-07-14 13:00:00+00:00\",\"2021-07-15 07:27:00+00:00\",\"2021-07-16 07:51:00+00:00\",\"2021-07-19 06:00:00+00:00\",\"2021-07-20 03:28:00+00:00\",\"2021-07-20 14:01:00+00:00\",\"2021-07-21 07:00:00+00:00\",\"2021-07-22 07:00:00+00:00\",\"2021-07-23 07:21:00+00:00\",\"2021-07-23 12:38:00+00:00\",\"2021-07-26 08:44:00+00:00\",\"2021-07-26 09:00:00+00:00\",\"2021-07-27 06:00:00+00:00\",\"2021-07-27 07:00:00+00:00\",\"2021-07-27 08:20:00+00:00\",\"2021-07-27 13:00:00+00:00\",\"2021-07-27 14:50:00+00:00\",\"2021-07-29 08:00:00+00:00\",\"2021-07-30 07:00:00+00:00\",\"2021-08-02 09:00:00+00:00\",\"2021-08-03 08:00:00+00:00\",\"2021-08-04 12:00:00+00:00\",\"2021-08-05 14:00:00+00:00\",\"2021-08-09 08:00:00+00:00\",\"2021-08-09 09:28:00+00:00\",\"2021-08-10 08:00:00+00:00\",\"2021-08-11 12:00:00+00:00\",\"2021-08-11 16:29:00+00:00\",\"2021-08-12 11:00:00+00:00\",\"2021-08-12 13:00:00+00:00\",\"2021-08-12 14:00:00+00:00\",\"2021-08-13 07:00:00+00:00\",\"2021-08-16 06:00:00+00:00\",\"2021-08-16 11:00:00+00:00\",\"2021-08-17 06:00:00+00:00\",\"2021-08-17 07:06:00+00:00\",\"2021-08-17 10:00:00+00:00\",\"2021-08-17 16:00:00+00:00\",\"2021-08-18 08:00:00+00:00\",\"2021-08-18 11:49:00+00:00\",\"2021-08-19 06:00:00+00:00\",\"2021-08-19 06:27:00+00:00\",\"2021-08-19 07:00:00+00:00\",\"2021-08-19 07:57:00+00:00\",\"2021-08-19 12:41:00+00:00\",\"2021-08-19 14:00:00+00:00\",\"2021-08-20 05:00:00+00:00\",\"2021-08-20 08:00:00+00:00\",\"2021-08-20 11:00:00+00:00\",\"2021-08-20 13:00:00+00:00\",\"2021-08-20 13:46:00+00:00\",\"2021-08-23 06:00:00+00:00\",\"2021-08-23 14:00:00+00:00\",\"2021-08-24 07:00:00+00:00\",\"2021-08-24 08:00:00+00:00\",\"2021-08-24 10:00:00+00:00\",\"2021-08-24 13:31:00+00:00\",\"2021-08-25 14:00:00+00:00\",\"2021-08-26 11:00:00+00:00\",\"2021-08-26 12:36:00+00:00\",\"2021-08-27 06:56:00+00:00\",\"2021-08-30 16:29:00+00:00\",\"2021-08-31 06:34:00+00:00\",\"2021-09-01 07:00:00+00:00\",\"2021-09-02 07:38:00+00:00\",\"2021-09-06 15:04:00+00:00\",\"2021-09-07 10:00:00+00:00\",\"2021-09-07 16:00:00+00:00\",\"2021-09-08 14:00:00+00:00\",\"2021-09-08 16:29:00+00:00\",\"2021-09-13 06:41:00+00:00\",\"2021-09-13 10:00:00+00:00\",\"2021-09-15 13:55:00+00:00\",\"2021-09-16 11:35:00+00:00\",\"2021-09-17 13:54:00+00:00\",\"2021-09-20 06:10:00+00:00\",\"2021-09-20 06:45:00+00:00\",\"2021-09-23 08:12:00+00:00\",\"2021-09-23 10:11:00+00:00\",\"2021-09-23 10:49:00+00:00\",\"2021-09-23 11:08:00+00:00\",\"2021-09-24 13:33:00+00:00\",\"2021-09-27 11:13:00+00:00\",\"2021-09-28 09:50:00+00:00\",\"2021-09-29 13:34:00+00:00\",\"2021-09-29 14:45:00+00:00\",\"2021-09-30 15:12:00+00:00\",\"2021-10-01 06:54:00+00:00\",\"2021-10-01 09:35:00+00:00\",\"2021-10-04 07:06:00+00:00\",\"2021-10-04 08:00:00+00:00\",\"2021-10-05 14:45:00+00:00\",\"2021-10-07 09:17:00+00:00\",\"2021-10-08 14:05:00+00:00\",\"2021-10-12 06:45:00+00:00\",\"2021-10-12 09:12:00+00:00\",\"2021-10-12 12:04:00+00:00\",\"2021-10-13 10:16:00+00:00\",\"2021-10-25 08:56:00+00:00\",\"2021-10-25 09:23:00+00:00\",\"2021-10-25 10:50:00+00:00\",\"2021-10-25 13:50:00+00:00\",\"2021-10-27 08:42:00+00:00\",\"2021-10-27 09:01:00+00:00\",\"2021-10-27 10:48:00+00:00\",\"2021-10-28 07:59:00+00:00\",\"2021-11-01 09:00:00+00:00\",\"2021-11-01 10:59:00+00:00\",\"2021-11-02 08:52:00+00:00\",\"2021-11-02 12:00:00+00:00\",\"2021-11-03 12:56:00+00:00\",\"2021-11-04 08:15:00+00:00\",\"2021-11-04 08:44:00+00:00\",\"2021-11-04 10:09:00+00:00\",\"2021-11-04 11:36:00+00:00\",\"2021-11-04 12:00:00+00:00\",\"2021-11-08 15:28:00+00:00\",\"2021-11-08 17:29:00+00:00\",\"2021-11-09 08:12:00+00:00\",\"2021-11-09 14:54:00+00:00\",\"2021-11-11 17:29:00+00:00\",\"2021-11-17 17:29:00+00:00\",\"2021-11-18 05:05:00+00:00\",\"2021-11-18 06:11:00+00:00\",\"2021-11-18 09:20:00+00:00\",\"2021-11-22 11:48:00+00:00\",\"2021-11-24 04:01:00+00:00\",\"2021-11-24 07:58:00+00:00\",\"2021-11-24 08:00:00+00:00\",\"2021-11-24 17:29:00+00:00\",\"2021-11-29 10:55:00+00:00\",\"2021-11-30 05:19:00+00:00\",\"2021-11-30 06:01:00+00:00\",\"2021-11-30 11:15:00+00:00\",\"2021-11-30 13:32:00+00:00\",\"2021-11-30 14:45:00+00:00\",\"2021-12-02 13:45:00+00:00\",\"2021-12-02 17:10:00+00:00\",\"2021-12-03 11:02:00+00:00\",\"2021-12-03 12:01:00+00:00\",\"2021-12-06 16:19:00+00:00\",\"2021-12-07 08:33:00+00:00\",\"2021-12-07 09:09:00+00:00\",\"2021-12-07 10:52:00+00:00\",\"2021-12-07 11:23:00+00:00\",\"2021-12-07 13:18:00+00:00\",\"2021-12-08 10:36:00+00:00\",\"2021-12-08 13:54:00+00:00\",\"2021-12-09 10:42:00+00:00\",\"2021-12-09 10:48:00+00:00\",\"2021-12-09 14:24:00+00:00\",\"2021-12-13 10:17:00+00:00\",\"2021-12-14 11:10:00+00:00\",\"2021-12-15 14:59:00+00:00\",\"2021-12-16 08:15:00+00:00\",\"2021-12-17 10:03:00+00:00\",\"2021-12-17 12:47:00+00:00\",\"2021-12-20 13:14:00+00:00\",\"2021-12-21 16:13:00+00:00\",\"2021-12-27 12:32:00+00:00\",\"2022-01-04 08:01:00+00:00\",\"2022-01-04 09:45:00+00:00\",\"2022-01-05 10:37:00+00:00\",\"2022-01-05 16:20:00+00:00\",\"2022-01-06 10:13:00+00:00\",\"2022-01-12 13:06:00+00:00\",\"2022-01-13 12:01:00+00:00\",\"2022-01-14 12:24:00+00:00\",\"2022-01-14 12:28:00+00:00\",\"2022-01-17 12:06:00+00:00\",\"2022-01-17 15:28:00+00:00\",\"2022-01-18 08:15:00+00:00\",\"2022-01-19 09:45:00+00:00\",\"2022-01-20 08:21:00+00:00\",\"2022-01-20 10:35:00+00:00\",\"2022-01-20 11:56:00+00:00\",\"2022-01-24 11:26:00+00:00\",\"2022-01-24 13:31:00+00:00\",\"2022-01-24 15:11:00+00:00\",\"2022-01-25 11:55:00+00:00\",\"2022-01-26 16:23:00+00:00\",\"2022-01-27 11:38:00+00:00\",\"2022-01-31 16:42:00+00:00\",\"2022-02-01 15:25:00+00:00\"],\"y\":[-0.9999999999999464,-2.0036496350363597,-2.025780782577239,-2.062071105157828,-3.062071105157912,-4.067071105157737,-2.1861187242053344,-3.1907058801686103,-2.863512897712478,-0.4479284821280447,-1.4433413261649317,-0.9428988482888129,-0.5428988482887978,-1.537948353239401,-1.1714266141089584,1.2885733858911348,0.28857338589112036,-0.7114266141088859,1.457746318221977,1.3057726340114542,0.30931873330221327,1.302037179904218,0.3020371799042695,-0.6997613812467368,-0.5686934200816695,-1.5716696105578274,-0.15447215832858596,0.27521534167137846,0.7914164589898021,-0.20858354101019605,0.28750584446465133,1.7734562576878403,0.7734562576878385,1.741486948224944,3.060441196590939,2.060441196590862,2.9742343000390905,1.9702972921650928,2.568270265138098,1.5631156259628756,2.4311156259629954,3.2131669080142586,2.210172896038272,1.2101728960382738,0.21017289603818035,-0.7916789558136557,-1.7916789558136466,-2.074580510217817,-1.7041894487652651,-2.7076141062993386,-3.7040680070085794,-3.877694380634945,-2.8962841242247577,-2.260481655089019,-3.263929930951077,-2.4293554628660528,-3.4282661382473245,-4.428266138247363,-3.1216623646625727,-1.704995697995868,-0.3016844397177789,0.2983155602821549,1.155891317857959,1.6588324943285664,0.6642088384145757,-0.33327859877147503,-0.34994526543815363,-0.5145658011524492,-0.14028008686677496,0.27411680029277935,0.9241168002927127,1.5148656989711304,3.4640182413440215,4.035446812772615,3.0354468127727925,3.769110179109468,4.9796364948989424,5.131284846547362,4.131284846547324,5.19606217448251,6.529395507815758,5.529395507815721,6.230538364958604,6.371917675303439,5.371917675303263,5.558358353269394,7.459121712048133,6.459121712048291,5.4591217120484785,5.879623804098686,4.8843857088605755,4.903851357715532,5.913110616974611,4.921882546798911,4.985914167352269,3.985914167352123,4.517082998520954,3.5240274429651963,3.4481345858223573,3.3881345858222605,2.3852610226039,2.7389333389881316,3.954358870902978,2.9584239115533664,5.105859808989278,6.347138878756814,5.344108575726534,6.991001231093767,7.867786945379484,8.37225621912248,10.432740090090183,9.432740090090114,8.432740090090263,9.394322010994314,9.980889175173418,8.980889175173466,10.120070461723161,11.55872076847161,10.558720768471419,9.558720768471328,10.939002458612093,11.504118737681848,12.180761073448231,12.294512871005349,11.29786857570325,10.301414674994009,10.44988406274908,12.058684062749053,12.858316415690192,11.854868139828135,10.854868139827826,12.077090362050093,13.748164742215376,13.215236126735917,14.655487699062903,16.778564622139733,16.826502766469638,17.591533441316237,16.595079540606996,15.595079540606834,14.595079540606863,13.600079540606801,12.60309158879952,13.503091588799442,14.898813513933078,13.898813513933064,12.898813513933101,12.987159378594697,11.98358795002345,11.738735008847001,10.745313956215353,9.74531395621527,8.74756620846743,9.141316208467414,9.141316208467414,9.7541733513246,11.280489140798302,10.277911821210793,10.999340392639358,10.001398005808054,11.045233622246373,11.67281982914298,10.66975234448041,9.672577203237447,10.385077203237438,9.382299425459689,8.382299425459685,7.382299425459717,7.6844972276575465,6.682489195529067,5.682489195528876,6.309008532545507,5.304058037496128,6.234663019702499,6.805394727019552,5.809561393686082,7.3166036472072,9.168754184841598,10.077449837015479,10.734659139341028,11.647580487655635,10.64550579885897,10.425183218213768,9.42518321821389,8.4219985048381,7.41818171094506,6.418181710944973,8.052202329501757,10.075103092860534,10.657070305975225,10.630284591689467,11.18134842147672,11.93425164728319,10.930345397283206,9.930345397283363,11.028518913265085,10.028518913265048,9.028518913265055,9.561386046132228,8.56138604613219,7.558697874089205,6.558697874089191,6.994658465222135,5.991699885340482,4.988102763038337,6.026198001133524,6.523758976743265,7.505240458224672,6.5052404582248835,7.407679482615139,6.407679482615287,5.404822339758147,4.40482233975813,6.026369301084067,5.923244301084019,6.626815729655457,7.894111327139725,8.71430363483204,7.714303634832073,6.714303634832177,6.807910940768269,8.130396147868801,9.503584553665972,8.503584553665819,9.822550070907175,11.270937167681371,12.582455492288728,11.58245549228874,10.580262509832615,9.582185586755681,8.584660834280385,8.978798765314897,11.169064252040531,12.335730918707279,12.580139864394212,13.553708146332529,14.076817390029962,15.30544192534597,15.880302260541532,16.765824146063434,17.93007535379297,16.933596480553476,16.760756974380513,15.763663951124647,14.763663951124645,13.763663951124814,14.306438517598881,13.306438517598773,14.633923897715787,13.633923897715835,12.633923897716054,11.631346578128547,10.631346578128625,11.285173306955349,11.751163154671058,10.754388961122588,9.758205755015625,8.7544463565194,7.750478102551202,8.000478102551183,7.00319549385548,6.006102470599615,5.002724092221342,4.002724092221297,4.517009806506997,5.307738283328238,6.72065963164292,7.218565390805235,6.218565390805223,7.883919721513802,8.624964497633188,7.6249644976330995,8.108985116189782,8.874569531774254,7.876670372110389,9.158835977205952,9.612652018739505,10.875709343580272,9.875709343580183,10.917229811416378,11.062057397623281,11.03144515272535,12.862272220394397,13.518401252652458,15.205552090641401,15.433504846546894,16.00668920408877,16.836847934247448,17.958696673743372,16.95869667374342,15.958696673743457,14.955200170247032,15.460045985225065,14.460045985225083,14.947225472404618,15.408503667893306,16.03452407605656,16.54369838798317,15.543698387983056,14.546275707570684,15.116405577700508,15.331822244367173,14.331822244367158,16.05334123170895,16.576418154785834,18.47641815478579,19.87985163118068,20.809429095969428,22.432379915641604,21.432379915641548,22.72161758380298,24.07042710761246,25.515841954774032,24.51759020652224,24.354166082008636,24.898050974094986,23.898050974094946,22.896584698435134,21.896584698435124,20.896584698435195,19.89344004434727,20.36639922802078,20.33924990675381,19.34126603578606,20.583418502153737,22.1979436418185,22.961580005454927,21.961580005454863,20.961580005454802,19.961580005454834,18.961580005454863,19.563008576883423,19.566505080379944,19.90274361249001,18.905026717512815,19.795709947326497,19.888195496459392,18.885922769186724,18.915922769186736,19.48198611760299,18.484486117602987,17.48448611760297,16.487754091459156,15.487754091459184,14.919333038827583,15.752666372160892,14.752666372160935,13.752666372160853,12.752666372160789,11.755311874806265,10.758288065282347,9.758288065282335,10.978046129798408,9.97565378530084,9.923521083879061,11.145743306101355,10.148536602190664,9.146011349665432,8.146011349665462,7.142414227363317,6.144588140406788,7.309786378292218,8.576295812254482,7.576295812254541,6.578722996720557,7.21989946730876,8.559133917069461,9.967390797803377,8.967390797803448,10.294493601541781,9.296725744398918,12.196182266138099,13.291043926217142,14.749580511583,15.98611897312149,17.221555866325353,18.7237880091825,17.727464479770678,19.175225673800483,20.537772490279938,20.970550268057714,21.674898094144698,22.27920431424038,21.281768416804457,20.284051521827262,20.955480093255836,21.442244799138216,23.41079825825771,22.408260187191765,21.40616813698259,20.40616813698255,20.367706598520964,19.365291139583853,19.932823607116337,20.526186438974747,21.779707565735265,22.36904766725811,22.76202287386969,24.205684845700645],\"type\":\"scatter\"}],                        {\"legend\":{\"bgcolor\":\"#FFFFFF\",\"font\":{\"color\":\"#4D5663\"},\"orientation\":\"h\",\"x\":0.3,\"y\":0.95,\"yanchor\":\"bottom\"},\"paper_bgcolor\":\"#FFFFFF\",\"plot_bgcolor\":\"#FFFFFF\",\"showlegend\":true,\"template\":{\"data\":{\"barpolar\":[{\"marker\":{\"line\":{\"color\":\"#E5ECF6\",\"width\":0.5},\"pattern\":{\"fillmode\":\"overlay\",\"size\":10,\"solidity\":0.2}},\"type\":\"barpolar\"}],\"bar\":[{\"error_x\":{\"color\":\"#2a3f5f\"},\"error_y\":{\"color\":\"#2a3f5f\"},\"marker\":{\"line\":{\"color\":\"#E5ECF6\",\"width\":0.5},\"pattern\":{\"fillmode\":\"overlay\",\"size\":10,\"solidity\":0.2}},\"type\":\"bar\"}],\"carpet\":[{\"aaxis\":{\"endlinecolor\":\"#2a3f5f\",\"gridcolor\":\"white\",\"linecolor\":\"white\",\"minorgridcolor\":\"white\",\"startlinecolor\":\"#2a3f5f\"},\"baxis\":{\"endlinecolor\":\"#2a3f5f\",\"gridcolor\":\"white\",\"linecolor\":\"white\",\"minorgridcolor\":\"white\",\"startlinecolor\":\"#2a3f5f\"},\"type\":\"carpet\"}],\"choropleth\":[{\"colorbar\":{\"outlinewidth\":0,\"ticks\":\"\"},\"type\":\"choropleth\"}],\"contourcarpet\":[{\"colorbar\":{\"outlinewidth\":0,\"ticks\":\"\"},\"type\":\"contourcarpet\"}],\"contour\":[{\"colorbar\":{\"outlinewidth\":0,\"ticks\":\"\"},\"colorscale\":[[0.0,\"#0d0887\"],[0.1111111111111111,\"#46039f\"],[0.2222222222222222,\"#7201a8\"],[0.3333333333333333,\"#9c179e\"],[0.4444444444444444,\"#bd3786\"],[0.5555555555555556,\"#d8576b\"],[0.6666666666666666,\"#ed7953\"],[0.7777777777777778,\"#fb9f3a\"],[0.8888888888888888,\"#fdca26\"],[1.0,\"#f0f921\"]],\"type\":\"contour\"}],\"heatmapgl\":[{\"colorbar\":{\"outlinewidth\":0,\"ticks\":\"\"},\"colorscale\":[[0.0,\"#0d0887\"],[0.1111111111111111,\"#46039f\"],[0.2222222222222222,\"#7201a8\"],[0.3333333333333333,\"#9c179e\"],[0.4444444444444444,\"#bd3786\"],[0.5555555555555556,\"#d8576b\"],[0.6666666666666666,\"#ed7953\"],[0.7777777777777778,\"#fb9f3a\"],[0.8888888888888888,\"#fdca26\"],[1.0,\"#f0f921\"]],\"type\":\"heatmapgl\"}],\"heatmap\":[{\"colorbar\":{\"outlinewidth\":0,\"ticks\":\"\"},\"colorscale\":[[0.0,\"#0d0887\"],[0.1111111111111111,\"#46039f\"],[0.2222222222222222,\"#7201a8\"],[0.3333333333333333,\"#9c179e\"],[0.4444444444444444,\"#bd3786\"],[0.5555555555555556,\"#d8576b\"],[0.6666666666666666,\"#ed7953\"],[0.7777777777777778,\"#fb9f3a\"],[0.8888888888888888,\"#fdca26\"],[1.0,\"#f0f921\"]],\"type\":\"heatmap\"}],\"histogram2dcontour\":[{\"colorbar\":{\"outlinewidth\":0,\"ticks\":\"\"},\"colorscale\":[[0.0,\"#0d0887\"],[0.1111111111111111,\"#46039f\"],[0.2222222222222222,\"#7201a8\"],[0.3333333333333333,\"#9c179e\"],[0.4444444444444444,\"#bd3786\"],[0.5555555555555556,\"#d8576b\"],[0.6666666666666666,\"#ed7953\"],[0.7777777777777778,\"#fb9f3a\"],[0.8888888888888888,\"#fdca26\"],[1.0,\"#f0f921\"]],\"type\":\"histogram2dcontour\"}],\"histogram2d\":[{\"colorbar\":{\"outlinewidth\":0,\"ticks\":\"\"},\"colorscale\":[[0.0,\"#0d0887\"],[0.1111111111111111,\"#46039f\"],[0.2222222222222222,\"#7201a8\"],[0.3333333333333333,\"#9c179e\"],[0.4444444444444444,\"#bd3786\"],[0.5555555555555556,\"#d8576b\"],[0.6666666666666666,\"#ed7953\"],[0.7777777777777778,\"#fb9f3a\"],[0.8888888888888888,\"#fdca26\"],[1.0,\"#f0f921\"]],\"type\":\"histogram2d\"}],\"histogram\":[{\"marker\":{\"pattern\":{\"fillmode\":\"overlay\",\"size\":10,\"solidity\":0.2}},\"type\":\"histogram\"}],\"mesh3d\":[{\"colorbar\":{\"outlinewidth\":0,\"ticks\":\"\"},\"type\":\"mesh3d\"}],\"parcoords\":[{\"line\":{\"colorbar\":{\"outlinewidth\":0,\"ticks\":\"\"}},\"type\":\"parcoords\"}],\"pie\":[{\"automargin\":true,\"type\":\"pie\"}],\"scatter3d\":[{\"line\":{\"colorbar\":{\"outlinewidth\":0,\"ticks\":\"\"}},\"marker\":{\"colorbar\":{\"outlinewidth\":0,\"ticks\":\"\"}},\"type\":\"scatter3d\"}],\"scattercarpet\":[{\"marker\":{\"colorbar\":{\"outlinewidth\":0,\"ticks\":\"\"}},\"type\":\"scattercarpet\"}],\"scattergeo\":[{\"marker\":{\"colorbar\":{\"outlinewidth\":0,\"ticks\":\"\"}},\"type\":\"scattergeo\"}],\"scattergl\":[{\"marker\":{\"colorbar\":{\"outlinewidth\":0,\"ticks\":\"\"}},\"type\":\"scattergl\"}],\"scattermapbox\":[{\"marker\":{\"colorbar\":{\"outlinewidth\":0,\"ticks\":\"\"}},\"type\":\"scattermapbox\"}],\"scatterpolargl\":[{\"marker\":{\"colorbar\":{\"outlinewidth\":0,\"ticks\":\"\"}},\"type\":\"scatterpolargl\"}],\"scatterpolar\":[{\"marker\":{\"colorbar\":{\"outlinewidth\":0,\"ticks\":\"\"}},\"type\":\"scatterpolar\"}],\"scatter\":[{\"marker\":{\"colorbar\":{\"outlinewidth\":0,\"ticks\":\"\"}},\"type\":\"scatter\"}],\"scatterternary\":[{\"marker\":{\"colorbar\":{\"outlinewidth\":0,\"ticks\":\"\"}},\"type\":\"scatterternary\"}],\"surface\":[{\"colorbar\":{\"outlinewidth\":0,\"ticks\":\"\"},\"colorscale\":[[0.0,\"#0d0887\"],[0.1111111111111111,\"#46039f\"],[0.2222222222222222,\"#7201a8\"],[0.3333333333333333,\"#9c179e\"],[0.4444444444444444,\"#bd3786\"],[0.5555555555555556,\"#d8576b\"],[0.6666666666666666,\"#ed7953\"],[0.7777777777777778,\"#fb9f3a\"],[0.8888888888888888,\"#fdca26\"],[1.0,\"#f0f921\"]],\"type\":\"surface\"}],\"table\":[{\"cells\":{\"fill\":{\"color\":\"#EBF0F8\"},\"line\":{\"color\":\"white\"}},\"header\":{\"fill\":{\"color\":\"#C8D4E3\"},\"line\":{\"color\":\"white\"}},\"type\":\"table\"}]},\"layout\":{\"annotationdefaults\":{\"arrowcolor\":\"#2a3f5f\",\"arrowhead\":0,\"arrowwidth\":1},\"autotypenumbers\":\"strict\",\"coloraxis\":{\"colorbar\":{\"outlinewidth\":0,\"ticks\":\"\"}},\"colorscale\":{\"diverging\":[[0,\"#8e0152\"],[0.1,\"#c51b7d\"],[0.2,\"#de77ae\"],[0.3,\"#f1b6da\"],[0.4,\"#fde0ef\"],[0.5,\"#f7f7f7\"],[0.6,\"#e6f5d0\"],[0.7,\"#b8e186\"],[0.8,\"#7fbc41\"],[0.9,\"#4d9221\"],[1,\"#276419\"]],\"sequential\":[[0.0,\"#0d0887\"],[0.1111111111111111,\"#46039f\"],[0.2222222222222222,\"#7201a8\"],[0.3333333333333333,\"#9c179e\"],[0.4444444444444444,\"#bd3786\"],[0.5555555555555556,\"#d8576b\"],[0.6666666666666666,\"#ed7953\"],[0.7777777777777778,\"#fb9f3a\"],[0.8888888888888888,\"#fdca26\"],[1.0,\"#f0f921\"]],\"sequentialminus\":[[0.0,\"#0d0887\"],[0.1111111111111111,\"#46039f\"],[0.2222222222222222,\"#7201a8\"],[0.3333333333333333,\"#9c179e\"],[0.4444444444444444,\"#bd3786\"],[0.5555555555555556,\"#d8576b\"],[0.6666666666666666,\"#ed7953\"],[0.7777777777777778,\"#fb9f3a\"],[0.8888888888888888,\"#fdca26\"],[1.0,\"#f0f921\"]]},\"colorway\":[\"#636efa\",\"#EF553B\",\"#00cc96\",\"#ab63fa\",\"#FFA15A\",\"#19d3f3\",\"#FF6692\",\"#B6E880\",\"#FF97FF\",\"#FECB52\"],\"font\":{\"color\":\"#2a3f5f\"},\"geo\":{\"bgcolor\":\"white\",\"lakecolor\":\"white\",\"landcolor\":\"#E5ECF6\",\"showlakes\":true,\"showland\":true,\"subunitcolor\":\"white\"},\"hoverlabel\":{\"align\":\"left\"},\"hovermode\":\"closest\",\"mapbox\":{\"style\":\"light\"},\"paper_bgcolor\":\"white\",\"plot_bgcolor\":\"#E5ECF6\",\"polar\":{\"angularaxis\":{\"gridcolor\":\"white\",\"linecolor\":\"white\",\"ticks\":\"\"},\"bgcolor\":\"#E5ECF6\",\"radialaxis\":{\"gridcolor\":\"white\",\"linecolor\":\"white\",\"ticks\":\"\"}},\"scene\":{\"xaxis\":{\"backgroundcolor\":\"#E5ECF6\",\"gridcolor\":\"white\",\"gridwidth\":2,\"linecolor\":\"white\",\"showbackground\":true,\"ticks\":\"\",\"zerolinecolor\":\"white\"},\"yaxis\":{\"backgroundcolor\":\"#E5ECF6\",\"gridcolor\":\"white\",\"gridwidth\":2,\"linecolor\":\"white\",\"showbackground\":true,\"ticks\":\"\",\"zerolinecolor\":\"white\"},\"zaxis\":{\"backgroundcolor\":\"#E5ECF6\",\"gridcolor\":\"white\",\"gridwidth\":2,\"linecolor\":\"white\",\"showbackground\":true,\"ticks\":\"\",\"zerolinecolor\":\"white\"}},\"shapedefaults\":{\"line\":{\"color\":\"#2a3f5f\"}},\"ternary\":{\"aaxis\":{\"gridcolor\":\"white\",\"linecolor\":\"white\",\"ticks\":\"\"},\"baxis\":{\"gridcolor\":\"white\",\"linecolor\":\"white\",\"ticks\":\"\"},\"bgcolor\":\"#E5ECF6\",\"caxis\":{\"gridcolor\":\"white\",\"linecolor\":\"white\",\"ticks\":\"\"}},\"title\":{\"x\":0.05},\"xaxis\":{\"automargin\":true,\"gridcolor\":\"white\",\"linecolor\":\"white\",\"ticks\":\"\",\"title\":{\"standoff\":15},\"zerolinecolor\":\"white\",\"zerolinewidth\":2},\"yaxis\":{\"automargin\":true,\"gridcolor\":\"white\",\"linecolor\":\"white\",\"ticks\":\"\",\"title\":{\"standoff\":15},\"zerolinecolor\":\"white\",\"zerolinewidth\":2}}},\"title\":{\"font\":{\"color\":\"#4D5663\"},\"text\":\"Risultato cumulativo (R) [by Close]\"},\"xaxis\":{\"gridcolor\":\"#E1E5ED\",\"showgrid\":true,\"tickfont\":{\"color\":\"#4D5663\"},\"title\":{\"font\":{\"color\":\"#4D5663\"},\"text\":\"\"},\"zerolinecolor\":\"grey\"},\"yaxis\":{\"gridcolor\":\"#E1E5ED\",\"showgrid\":true,\"tickfont\":{\"color\":\"#4D5663\"},\"title\":{\"font\":{\"color\":\"#4D5663\"},\"text\":\"R\"},\"zerolinecolor\":\"grey\"}},                        {\"responsive\": true}                    ).then(function(){\n",
       "                            \n",
       "var gd = document.getElementById('3dfb2267-792e-4d1b-8e4d-21920fc978ff');\n",
       "var x = new MutationObserver(function (mutations, observer) {{\n",
       "        var display = window.getComputedStyle(gd).display;\n",
       "        if (!display || display === 'none') {{\n",
       "            console.log([gd, 'removed!']);\n",
       "            Plotly.purge(gd);\n",
       "            observer.disconnect();\n",
       "        }}\n",
       "}});\n",
       "\n",
       "// Listen for the removal of the full notebook cells\n",
       "var notebookContainer = gd.closest('#notebook-container');\n",
       "if (notebookContainer) {{\n",
       "    x.observe(notebookContainer, {childList: true});\n",
       "}}\n",
       "\n",
       "// Listen for the clearing of the current output cell\n",
       "var outputEl = gd.closest('.output');\n",
       "if (outputEl) {{\n",
       "    x.observe(outputEl, {childList: true});\n",
       "}}\n",
       "\n",
       "                        })                };                });            </script>        </div>"
      ]
     },
     "metadata": {},
     "output_type": "display_data"
    }
   ],
   "source": [
    "merged.cumsum().iplot(kind='scatter', connectgaps=True, interpolation='hv', \n",
    "                      title='Risultato cumulativo (R) [by Close]', width=2, legend='top',\n",
    "                      yTitle='R', fill=True, zerolinecolor='grey', opacity=1, colors=cf_colors)"
   ]
  },
  {
   "cell_type": "markdown",
   "id": "3987b96f",
   "metadata": {
    "papermill": {
     "duration": 0.08024,
     "end_time": "2022-02-26T11:14:27.627936",
     "exception": false,
     "start_time": "2022-02-26T11:14:27.547696",
     "status": "completed"
    },
    "tags": []
   },
   "source": [
    "*E' chiaro che la combinazione migliore è **60_40** con **max 3 trade al giorno**, quindi proseguiamo ad analizzare quella.*"
   ]
  },
  {
   "cell_type": "code",
   "execution_count": 23,
   "id": "c1861b7d",
   "metadata": {
    "execution": {
     "iopub.execute_input": "2022-02-26T11:14:27.792423Z",
     "iopub.status.busy": "2022-02-26T11:14:27.791772Z",
     "iopub.status.idle": "2022-02-26T11:14:27.912587Z",
     "shell.execute_reply": "2022-02-26T11:14:27.911983Z",
     "shell.execute_reply.started": "2022-02-26T10:51:17.827932Z"
    },
    "papermill": {
     "duration": 0.204541,
     "end_time": "2022-02-26T11:14:27.912747",
     "exception": false,
     "start_time": "2022-02-26T11:14:27.708206",
     "status": "completed"
    },
    "tags": []
   },
   "outputs": [],
   "source": [
    "merged = merge({'60_40_max_3': max_3_60_40_by_close,\n",
    "                '60_40_old': df_60_40_by_close})"
   ]
  },
  {
   "cell_type": "code",
   "execution_count": 24,
   "id": "47a24284",
   "metadata": {
    "execution": {
     "iopub.execute_input": "2022-02-26T11:14:28.080297Z",
     "iopub.status.busy": "2022-02-26T11:14:28.079674Z",
     "iopub.status.idle": "2022-02-26T11:14:28.408430Z",
     "shell.execute_reply": "2022-02-26T11:14:28.408891Z",
     "shell.execute_reply.started": "2022-02-26T10:51:18.124264Z"
    },
    "papermill": {
     "duration": 0.413577,
     "end_time": "2022-02-26T11:14:28.409063",
     "exception": false,
     "start_time": "2022-02-26T11:14:27.995486",
     "status": "completed"
    },
    "tags": []
   },
   "outputs": [
    {
     "data": {
      "application/vnd.plotly.v1+json": {
       "config": {
        "linkText": "Export to plot.ly",
        "plotlyServerURL": "https://plot.ly",
        "showLink": false
       },
       "data": [
        {
         "marker": {
          "color": "rgba(63, 147, 202, 1)",
          "line": {
           "color": "rgba(63, 147, 202, 1.0)",
           "width": 1
          }
         },
         "name": "result_60_40_max_3",
         "orientation": "v",
         "text": "",
         "type": "bar",
         "x": [
          "05 Nov 2020",
          "06 Nov 2020",
          "09 Nov 2020",
          "11 Nov 2020",
          "30 Nov 2020",
          "01 Dec 2020",
          "04 Dec 2020",
          "07 Dec 2020",
          "09 Dec 2020",
          "10 Dec 2020",
          "11 Dec 2020",
          "16 Dec 2020",
          "17 Dec 2020",
          "18 Dec 2020",
          "21 Dec 2020",
          "22 Dec 2020",
          "30 Dec 2020",
          "31 Dec 2020",
          "04 Jan 2021",
          "05 Jan 2021",
          "07 Jan 2021",
          "08 Jan 2021",
          "11 Jan 2021",
          "12 Jan 2021",
          "15 Jan 2021",
          "19 Jan 2021",
          "20 Jan 2021",
          "21 Jan 2021",
          "22 Jan 2021",
          "25 Jan 2021",
          "26 Jan 2021",
          "28 Jan 2021",
          "29 Jan 2021",
          "01 Feb 2021",
          "02 Feb 2021",
          "03 Feb 2021",
          "05 Feb 2021",
          "08 Feb 2021",
          "09 Feb 2021",
          "16 Feb 2021",
          "17 Feb 2021",
          "18 Feb 2021",
          "22 Feb 2021",
          "23 Feb 2021",
          "24 Feb 2021",
          "25 Feb 2021",
          "01 Mar 2021",
          "02 Mar 2021",
          "03 Mar 2021",
          "05 Mar 2021",
          "09 Mar 2021",
          "10 Mar 2021",
          "12 Mar 2021",
          "15 Mar 2021",
          "16 Mar 2021",
          "17 Mar 2021",
          "18 Mar 2021",
          "19 Mar 2021",
          "22 Mar 2021",
          "23 Mar 2021",
          "24 Mar 2021",
          "25 Mar 2021",
          "26 Mar 2021",
          "29 Mar 2021",
          "30 Mar 2021",
          "31 Mar 2021",
          "01 Apr 2021",
          "05 Apr 2021",
          "06 Apr 2021",
          "07 Apr 2021",
          "08 Apr 2021",
          "09 Apr 2021",
          "12 Apr 2021",
          "13 Apr 2021",
          "14 Apr 2021",
          "16 Apr 2021",
          "19 Apr 2021",
          "20 Apr 2021",
          "21 Apr 2021",
          "22 Apr 2021",
          "23 Apr 2021",
          "26 Apr 2021",
          "27 Apr 2021",
          "28 Apr 2021",
          "29 Apr 2021",
          "30 Apr 2021",
          "03 May 2021",
          "04 May 2021",
          "05 May 2021",
          "06 May 2021",
          "07 May 2021",
          "10 May 2021",
          "11 May 2021",
          "12 May 2021",
          "13 May 2021",
          "14 May 2021",
          "17 May 2021",
          "19 May 2021",
          "20 May 2021",
          "24 May 2021",
          "26 May 2021",
          "27 May 2021",
          "08 Jun 2021",
          "09 Jun 2021",
          "10 Jun 2021",
          "11 Jun 2021",
          "14 Jun 2021",
          "15 Jun 2021",
          "17 Jun 2021",
          "21 Jun 2021",
          "22 Jun 2021",
          "30 Jun 2021",
          "01 Jul 2021",
          "06 Jul 2021",
          "07 Jul 2021",
          "08 Jul 2021",
          "09 Jul 2021",
          "12 Jul 2021",
          "13 Jul 2021",
          "14 Jul 2021",
          "15 Jul 2021",
          "16 Jul 2021",
          "19 Jul 2021",
          "20 Jul 2021",
          "21 Jul 2021",
          "22 Jul 2021",
          "23 Jul 2021",
          "26 Jul 2021",
          "27 Jul 2021",
          "29 Jul 2021",
          "30 Jul 2021",
          "02 Aug 2021",
          "03 Aug 2021",
          "04 Aug 2021",
          "05 Aug 2021",
          "09 Aug 2021",
          "10 Aug 2021",
          "11 Aug 2021",
          "12 Aug 2021",
          "13 Aug 2021",
          "16 Aug 2021",
          "17 Aug 2021",
          "18 Aug 2021",
          "19 Aug 2021",
          "20 Aug 2021",
          "23 Aug 2021",
          "24 Aug 2021",
          "25 Aug 2021",
          "26 Aug 2021",
          "27 Aug 2021",
          "30 Aug 2021",
          "31 Aug 2021",
          "01 Sep 2021",
          "02 Sep 2021",
          "06 Sep 2021",
          "07 Sep 2021",
          "08 Sep 2021",
          "13 Sep 2021",
          "15 Sep 2021",
          "16 Sep 2021",
          "17 Sep 2021",
          "20 Sep 2021",
          "23 Sep 2021",
          "24 Sep 2021",
          "27 Sep 2021",
          "28 Sep 2021",
          "29 Sep 2021",
          "30 Sep 2021",
          "01 Oct 2021",
          "04 Oct 2021",
          "05 Oct 2021",
          "07 Oct 2021",
          "08 Oct 2021",
          "12 Oct 2021",
          "13 Oct 2021",
          "25 Oct 2021",
          "27 Oct 2021",
          "28 Oct 2021",
          "01 Nov 2021",
          "02 Nov 2021",
          "03 Nov 2021",
          "04 Nov 2021",
          "08 Nov 2021",
          "09 Nov 2021",
          "11 Nov 2021",
          "17 Nov 2021",
          "18 Nov 2021",
          "22 Nov 2021",
          "24 Nov 2021",
          "29 Nov 2021",
          "30 Nov 2021",
          "02 Dec 2021",
          "03 Dec 2021",
          "06 Dec 2021",
          "07 Dec 2021",
          "08 Dec 2021",
          "09 Dec 2021",
          "13 Dec 2021",
          "14 Dec 2021",
          "15 Dec 2021",
          "16 Dec 2021",
          "17 Dec 2021",
          "20 Dec 2021",
          "21 Dec 2021",
          "27 Dec 2021",
          "04 Jan 2022",
          "05 Jan 2022",
          "06 Jan 2022",
          "12 Jan 2022",
          "13 Jan 2022",
          "14 Jan 2022",
          "17 Jan 2022",
          "18 Jan 2022",
          "19 Jan 2022",
          "20 Jan 2022",
          "24 Jan 2022",
          "25 Jan 2022",
          "26 Jan 2022",
          "27 Jan 2022",
          "31 Jan 2022",
          "01 Feb 2022"
         ],
         "xaxis": "x",
         "y": [
          -2.0036496350363597,
          -0.02213114754087961,
          -0.036290322580589236,
          -2.004999999999909,
          1.8809523809524027,
          1.7381902420772897,
          -0.9954128440368871,
          0.5004424778761188,
          0.40000000000001507,
          -0.9950495049506031,
          0.36652173913044245,
          2.4600000000000932,
          0.1691729323308424,
          -1.1484275849197636,
          0.9927184466020047,
          -2.001798561150955,
          0.13106796116506733,
          -1.0029761904761578,
          1.4171974522292414,
          0.4296874999999644,
          0.5162011173184236,
          -0.5039106145251507,
          0.4859504132231873,
          0.9680306905371053,
          1.318954248365995,
          -1.000000000000077,
          0.9137931034482287,
          -0.40596403490099253,
          -1.0051546391752226,
          0.86800000000012,
          0.7820512820512631,
          -1.0029940119759866,
          -2.0000000000000915,
          -0.9143623448034547,
          -0.9964539007092409,
          1.4435863519195604,
          -1.003448275862058,
          0.8345744680850246,
          -0.9989106753812715,
          -1.000000000000038,
          1.30660377358479,
          1.4166666666667047,
          1.4033112582780891,
          1.457575757575738,
          0.5029411764706072,
          -2.00877775976672,
          0.20966517857137867,
          1.0643968871594878,
          2.5399014410513088,
          0.5714285714285932,
          0.9441896821263268,
          1.3981106612683967,
          -0.29885714285715415,
          0.14137931034483497,
          -0.8135593220340442,
          0.9007633587788965,
          -0.5794979079496051,
          -0.9757724463831533,
          0.08206280963673641,
          -0.4688311688313148,
          -1.0689484126985966,
          -0.06000000000009702,
          -1.0028735632183607,
          1.569097848299078,
          1.1515009380863002,
          1.2412790697675358,
          0.6438623523369522,
          0.8767857142857168,
          2.564953144710699,
          -1.0384180790958704,
          0.725748450728849,
          1.438650306748448,
          -0.6197183098595167,
          0.23855348663104836,
          -1.8446288082562685,
          0.7996323529411389,
          -0.7812260536400979,
          1.1381457646858222,
          3.563328495403814,
          -0.18348508153273524,
          -1.9950000000000325,
          -0.09698795180735909,
          1.3957219251336364,
          -1.0000000000000138,
          -0.9116541353383676,
          -2.2418454223793427,
          0.39374999999998356,
          2.1391729323308883,
          -0.2811487481589432,
          0.04589322960701425,
          0.6275862068966082,
          -1.287742625905542,
          -3.0027777777777214,
          -1.0020080321284794,
          -0.37348066298356,
          -0.07434551284300839,
          0.5707317073170532,
          0.5112089201876476,
          1.8521505376343987,
          0.9086956521738805,
          1.5701306506401562,
          -1.2223972694418686,
          -2.003184713375667,
          1.6340206185567845,
          2.022900763358776,
          0.5819672131146907,
          -0.026785714285757593,
          1.3039670555937246,
          -1.0039062499999847,
          0.09817351598187829,
          -1.4671328671328574,
          -1.000000000000038,
          -2.0026881720429985,
          -0.5669979887487083,
          0.5320590914027825,
          0.9814814814814076,
          -0.09756097560953347,
          -3.0028571428570077,
          -0.1031250000000483,
          0.7035714285714383,
          1.2672955974842681,
          0.8201923076923161,
          -0.9999999999999671,
          -0.9063926940638046,
          1.3224852071005326,
          1.3731884057971704,
          0.3189655172412025,
          2.759905421381554,
          -3.000269905533048,
          2.1902654867256337,
          1.1666666666667485,
          0.24440894568693292,
          0.973568281938317,
          0.5231092436974332,
          1.2286245353160088,
          1.4603822207174635,
          1.1642512077295355,
          -1.1693183794124542,
          -2.9970930232556983,
          0.5427745664740665,
          0.3274853801169062,
          -3.0025773195872416,
          1.1198165765424335,
          -2.9967167981516583,
          -3.000471401634184,
          1.910827107476997,
          1.4063991068279527,
          0.4840206185566827,
          -0.23231474407939323,
          1.282165605095563,
          0.4538160415335535,
          1.263057324840767,
          -1.0000000000000884,
          1.0415204678361942,
          0.14482758620690206,
          1.8002148227711152,
          2.3432798702470055,
          0.801137113447366,
          0.8301587301586789,
          1.1218487394959245,
          -0.9999999999999509,
          -2.0034965034963905,
          -0.03387598953326093,
          0.6260204081632527,
          0.5091743119266118,
          -1.000000000000113,
          -0.4272928102825483,
          0.21541666666666498,
          0.7215189873417756,
          2.4230769230768425,
          1.4034334763948908,
          0.9295774647887478,
          1.6229508196721771,
          1.638047191970857,
          1.445414847161573,
          -0.6177909806790457,
          -3.0014662756597517,
          -1.0031446540879245,
          0.4458098624065397,
          0.2441685953999282,
          1.614525139664765,
          -1.236363636363702,
          0.6049250749250805,
          -0.6614783628671284,
          0.8906832298136808,
          0.09248554913289672,
          -0.4062093788564032,
          -0.9975000000000023,
          -2.9967320261438015,
          0.8333333333333097,
          -3.000000000000103,
          0.21975806451606172,
          -1.054525045919347,
          1.222222222222295,
          -2.999731956435892,
          2.431707671847695,
          -1.3563963449457215,
          1.3392344497607007,
          1.4082568807339158,
          -0.9999999999999287,
          1.3271028037383328,
          1.9016886645963182,
          1.0948616600790442,
          1.458536585365858,
          1.2365384615384902,
          2.7376690360610105,
          0.45143766461798673,
          1.3625468164794559,
          0.43277777777777576,
          0.7043478260869831,
          -0.3931296773402404,
          -0.3262883235486216,
          0.48676470588237836,
          1.968553459119494,
          -3.004630121275155,
          -0.47334452986621267,
          0.5933628318584107,
          1.2535211267605175,
          0.5893401015228433,
          0.3929752066115793,
          1.443661971830954
         ],
         "yaxis": "y"
        },
        {
         "marker": {
          "color": "rgba(219, 58, 52, 1)",
          "line": {
           "color": "rgba(219, 58, 52, 1.0)",
           "width": 1
          }
         },
         "name": "result_60_40_old",
         "orientation": "v",
         "text": "",
         "type": "bar",
         "x": [
          "05 Nov 2020",
          "06 Nov 2020",
          "09 Nov 2020",
          "11 Nov 2020",
          "30 Nov 2020",
          "01 Dec 2020",
          "04 Dec 2020",
          "07 Dec 2020",
          "09 Dec 2020",
          "10 Dec 2020",
          "11 Dec 2020",
          "16 Dec 2020",
          "17 Dec 2020",
          "18 Dec 2020",
          "21 Dec 2020",
          "22 Dec 2020",
          "30 Dec 2020",
          "31 Dec 2020",
          "04 Jan 2021",
          "05 Jan 2021",
          "07 Jan 2021",
          "08 Jan 2021",
          "11 Jan 2021",
          "12 Jan 2021",
          "15 Jan 2021",
          "19 Jan 2021",
          "20 Jan 2021",
          "21 Jan 2021",
          "22 Jan 2021",
          "25 Jan 2021",
          "26 Jan 2021",
          "28 Jan 2021",
          "29 Jan 2021",
          "01 Feb 2021",
          "02 Feb 2021",
          "03 Feb 2021",
          "05 Feb 2021",
          "08 Feb 2021",
          "09 Feb 2021",
          "16 Feb 2021",
          "17 Feb 2021",
          "18 Feb 2021",
          "22 Feb 2021",
          "23 Feb 2021",
          "24 Feb 2021",
          "25 Feb 2021",
          "01 Mar 2021",
          "02 Mar 2021",
          "03 Mar 2021",
          "05 Mar 2021",
          "09 Mar 2021",
          "10 Mar 2021",
          "12 Mar 2021",
          "15 Mar 2021",
          "16 Mar 2021",
          "17 Mar 2021",
          "18 Mar 2021",
          "19 Mar 2021",
          "22 Mar 2021",
          "23 Mar 2021",
          "24 Mar 2021",
          "25 Mar 2021",
          "26 Mar 2021",
          "29 Mar 2021",
          "30 Mar 2021",
          "31 Mar 2021",
          "01 Apr 2021",
          "05 Apr 2021",
          "06 Apr 2021",
          "07 Apr 2021",
          "08 Apr 2021",
          "09 Apr 2021",
          "12 Apr 2021",
          "13 Apr 2021",
          "14 Apr 2021",
          "16 Apr 2021",
          "19 Apr 2021",
          "20 Apr 2021",
          "21 Apr 2021",
          "22 Apr 2021",
          "23 Apr 2021",
          "26 Apr 2021",
          "27 Apr 2021",
          "28 Apr 2021",
          "29 Apr 2021",
          "30 Apr 2021",
          "03 May 2021",
          "04 May 2021",
          "05 May 2021",
          "06 May 2021",
          "07 May 2021",
          "10 May 2021",
          "11 May 2021",
          "12 May 2021",
          "13 May 2021",
          "14 May 2021",
          "17 May 2021",
          "19 May 2021",
          "20 May 2021",
          "24 May 2021",
          "26 May 2021",
          "27 May 2021",
          "08 Jun 2021",
          "09 Jun 2021",
          "10 Jun 2021",
          "11 Jun 2021",
          "14 Jun 2021",
          "15 Jun 2021",
          "17 Jun 2021",
          "21 Jun 2021",
          "22 Jun 2021",
          "30 Jun 2021",
          "01 Jul 2021",
          "06 Jul 2021",
          "07 Jul 2021",
          "08 Jul 2021",
          "09 Jul 2021",
          "12 Jul 2021",
          "13 Jul 2021",
          "14 Jul 2021",
          "15 Jul 2021",
          "16 Jul 2021",
          "19 Jul 2021",
          "20 Jul 2021",
          "21 Jul 2021",
          "22 Jul 2021",
          "23 Jul 2021",
          "26 Jul 2021",
          "27 Jul 2021",
          "29 Jul 2021",
          "30 Jul 2021",
          "02 Aug 2021",
          "03 Aug 2021",
          "04 Aug 2021",
          "05 Aug 2021",
          "09 Aug 2021",
          "10 Aug 2021",
          "11 Aug 2021",
          "12 Aug 2021",
          "13 Aug 2021",
          "16 Aug 2021",
          "17 Aug 2021",
          "18 Aug 2021",
          "19 Aug 2021",
          "20 Aug 2021",
          "23 Aug 2021",
          "24 Aug 2021",
          "25 Aug 2021",
          "26 Aug 2021",
          "27 Aug 2021",
          "30 Aug 2021",
          "31 Aug 2021",
          "01 Sep 2021",
          "02 Sep 2021",
          "06 Sep 2021",
          "07 Sep 2021",
          "08 Sep 2021",
          "13 Sep 2021",
          "15 Sep 2021",
          "16 Sep 2021",
          "17 Sep 2021",
          "20 Sep 2021",
          "23 Sep 2021",
          "24 Sep 2021",
          "27 Sep 2021",
          "28 Sep 2021",
          "29 Sep 2021",
          "30 Sep 2021",
          "01 Oct 2021",
          "04 Oct 2021",
          "05 Oct 2021",
          "07 Oct 2021",
          "08 Oct 2021",
          "12 Oct 2021",
          "13 Oct 2021",
          "25 Oct 2021",
          "27 Oct 2021",
          "28 Oct 2021",
          "01 Nov 2021",
          "02 Nov 2021",
          "03 Nov 2021",
          "04 Nov 2021",
          "08 Nov 2021",
          "09 Nov 2021",
          "11 Nov 2021",
          "17 Nov 2021",
          "18 Nov 2021",
          "22 Nov 2021",
          "24 Nov 2021",
          "29 Nov 2021",
          "30 Nov 2021",
          "02 Dec 2021",
          "03 Dec 2021",
          "06 Dec 2021",
          "07 Dec 2021",
          "08 Dec 2021",
          "09 Dec 2021",
          "13 Dec 2021",
          "14 Dec 2021",
          "15 Dec 2021",
          "16 Dec 2021",
          "17 Dec 2021",
          "20 Dec 2021",
          "21 Dec 2021",
          "27 Dec 2021",
          "04 Jan 2022",
          "05 Jan 2022",
          "06 Jan 2022",
          "12 Jan 2022",
          "13 Jan 2022",
          "14 Jan 2022",
          "17 Jan 2022",
          "18 Jan 2022",
          "19 Jan 2022",
          "20 Jan 2022",
          "24 Jan 2022",
          "25 Jan 2022",
          "26 Jan 2022",
          "27 Jan 2022",
          "31 Jan 2022",
          "01 Feb 2022"
         ],
         "xaxis": "x2",
         "y": [
          -2.0036496350363597,
          -0.02213114754087961,
          -0.036290322580589236,
          -2.004999999999909,
          1.8809523809524027,
          1.7381902420772897,
          -0.9954128440368871,
          0.5004424778761188,
          0.40000000000001507,
          -0.9950495049506031,
          0.36652173913044245,
          2.4600000000000932,
          0.1691729323308424,
          -1.1484275849197636,
          0.9927184466020047,
          -2.001798561150955,
          0.13106796116506733,
          -1.0029761904761578,
          1.4171974522292414,
          0.4296874999999644,
          0.5162011173184236,
          -0.5039106145251507,
          0.4859504132231873,
          0.9680306905371053,
          1.318954248365995,
          -1.000000000000077,
          0.9137931034482287,
          -0.40596403490099253,
          -1.0051546391752226,
          0.86800000000012,
          0.7820512820512631,
          -1.0029940119759866,
          -2.0000000000000915,
          -2.917787002337519,
          -0.9964539007092409,
          1.4435863519195604,
          -1.003448275862058,
          0.8345744680850246,
          -0.9989106753812715,
          -1.000000000000038,
          1.30660377358479,
          1.4166666666667047,
          1.4033112582780891,
          1.457575757575738,
          0.5029411764706072,
          -2.00877775976672,
          0.20966517857137867,
          1.0643968871594878,
          2.5399014410513088,
          0.5714285714285932,
          1.0958380337747466,
          1.3981106612683967,
          -0.29885714285715415,
          0.14137931034483497,
          -0.8135593220340442,
          0.9007633587788965,
          -0.5794979079496051,
          -0.9757724463831533,
          0.08206280963673641,
          -0.4688311688313148,
          -1.0689484126985966,
          -0.06000000000009702,
          -1.0028735632183607,
          1.569097848299078,
          1.1515009380863002,
          1.2412790697675358,
          0.6438623523369522,
          0.8767857142857168,
          2.564953144710699,
          -1.0384180790958704,
          0.725748450728849,
          1.438650306748448,
          -0.6197183098595167,
          1.3555104123932564,
          -0.2358288082562947,
          0.7996323529411389,
          -0.7812260536400979,
          1.1381457646858222,
          3.563328495403814,
          -1.183485081532896,
          -1.9950000000000325,
          -0.09698795180735909,
          1.3957219251336364,
          -1.0000000000000138,
          -0.9116541353383676,
          -4.239593170127265,
          0.39374999999998356,
          2.1391729323308883,
          -0.2811487481589432,
          0.04589322960701425,
          0.6275862068966082,
          -1.287742625905542,
          -2.7005799755798914,
          -1.0020080321284794,
          -0.37348066298356,
          -0.07434551284300839,
          0.5707317073170532,
          0.5112089201876476,
          1.8521505376343987,
          0.9086956521738805,
          1.5701306506401562,
          -1.2223972694418686,
          -4.007001507268795,
          1.6340206185567845,
          2.022900763358776,
          0.5819672131146907,
          -0.026785714285757593,
          1.3039670555937246,
          -1.0039062499999847,
          0.09817351598187829,
          -1.4671328671328574,
          -1.000000000000038,
          -2.0026881720429985,
          -0.5669979887487083,
          0.5320590914027825,
          0.9814814814814076,
          -0.09756097560953347,
          -1.3813101815310713,
          -0.1031250000000483,
          0.7035714285714383,
          1.2672955974842681,
          0.8201923076923161,
          -0.9999999999999671,
          -0.9063926940638046,
          1.3224852071005326,
          1.3731884057971704,
          0.3189655172412025,
          2.759905421381554,
          -3.6036567269738327,
          2.1902654867256337,
          1.1666666666667485,
          0.24440894568693292,
          0.973568281938317,
          0.5231092436974332,
          1.2286245353160088,
          1.4603822207174635,
          1.1642512077295355,
          -1.1693183794124542,
          -2.9970930232556983,
          0.5427745664740665,
          0.3274853801169062,
          -4.002577319587164,
          1.1198165765424335,
          -4.747967660815578,
          -1.695457210527243,
          1.910827107476997,
          0.4063991068278643,
          0.4840206185566827,
          -0.23231474407939323,
          1.282165605095563,
          0.4538160415335535,
          1.263057324840767,
          -1.0000000000000884,
          1.0415204678361942,
          0.14482758620690206,
          1.8002148227711152,
          2.3432798702470055,
          0.801137113447366,
          0.8301587301586789,
          1.1218487394959245,
          -0.9999999999999509,
          -2.0034965034963905,
          0.45330349764627503,
          0.6260204081632527,
          0.5091743119266118,
          -1.000000000000113,
          -0.4272928102825483,
          0.21541666666666498,
          0.7215189873417756,
          2.4230769230768425,
          1.4034334763948908,
          0.9295774647887478,
          1.6229508196721771,
          1.638047191970857,
          1.445414847161573,
          -1.6177909806790836,
          -3.0014662756597517,
          -1.0031446540879245,
          0.4458098624065397,
          0.2441685953999282,
          1.614525139664765,
          -3.2363636363636417,
          0.6049250749250805,
          -0.6614783628671284,
          0.8906832298136808,
          0.09248554913289672,
          -0.4062093788564032,
          -0.9975000000000023,
          -3.5651530787754018,
          0.8333333333333097,
          -4.994378306878543,
          0.21975806451606172,
          -1.054525045919347,
          1.222222222222295,
          -5.001155165694566,
          2.431707671847695,
          -1.3563963449457215,
          1.3392344497607007,
          1.4082568807339158,
          -0.9999999999999287,
          1.3271028037383328,
          1.9016886645963182,
          1.0948616600790442,
          1.458536585365858,
          1.2365384615384902,
          2.7376690360610105,
          0.45143766461798673,
          1.3625468164794559,
          0.43277777777777576,
          0.7043478260869831,
          -0.3931296773402404,
          -0.3262883235486216,
          0.48676470588237836,
          1.968553459119494,
          -3.004630121275155,
          -0.47334452986621267,
          0.5933628318584107,
          1.2535211267605175,
          0.5893401015228433,
          0.3929752066115793,
          1.443661971830954
         ],
         "yaxis": "y2"
        }
       ],
       "layout": {
        "annotations": [
         {
          "font": {
           "size": 16
          },
          "showarrow": false,
          "text": "60_40_max_3",
          "x": 0.225,
          "xanchor": "center",
          "xref": "paper",
          "y": 1.0,
          "yanchor": "bottom",
          "yref": "paper"
         },
         {
          "font": {
           "size": 16
          },
          "showarrow": false,
          "text": "60_40_old",
          "x": 0.775,
          "xanchor": "center",
          "xref": "paper",
          "y": 1.0,
          "yanchor": "bottom",
          "yref": "paper"
         }
        ],
        "legend": {
         "bgcolor": "#FFFFFF",
         "font": {
          "color": "#4D5663"
         }
        },
        "paper_bgcolor": "#FFFFFF",
        "plot_bgcolor": "#FFFFFF",
        "showlegend": false,
        "template": {
         "data": {
          "bar": [
           {
            "error_x": {
             "color": "#2a3f5f"
            },
            "error_y": {
             "color": "#2a3f5f"
            },
            "marker": {
             "line": {
              "color": "#E5ECF6",
              "width": 0.5
             },
             "pattern": {
              "fillmode": "overlay",
              "size": 10,
              "solidity": 0.2
             }
            },
            "type": "bar"
           }
          ],
          "barpolar": [
           {
            "marker": {
             "line": {
              "color": "#E5ECF6",
              "width": 0.5
             },
             "pattern": {
              "fillmode": "overlay",
              "size": 10,
              "solidity": 0.2
             }
            },
            "type": "barpolar"
           }
          ],
          "carpet": [
           {
            "aaxis": {
             "endlinecolor": "#2a3f5f",
             "gridcolor": "white",
             "linecolor": "white",
             "minorgridcolor": "white",
             "startlinecolor": "#2a3f5f"
            },
            "baxis": {
             "endlinecolor": "#2a3f5f",
             "gridcolor": "white",
             "linecolor": "white",
             "minorgridcolor": "white",
             "startlinecolor": "#2a3f5f"
            },
            "type": "carpet"
           }
          ],
          "choropleth": [
           {
            "colorbar": {
             "outlinewidth": 0,
             "ticks": ""
            },
            "type": "choropleth"
           }
          ],
          "contour": [
           {
            "colorbar": {
             "outlinewidth": 0,
             "ticks": ""
            },
            "colorscale": [
             [
              0.0,
              "#0d0887"
             ],
             [
              0.1111111111111111,
              "#46039f"
             ],
             [
              0.2222222222222222,
              "#7201a8"
             ],
             [
              0.3333333333333333,
              "#9c179e"
             ],
             [
              0.4444444444444444,
              "#bd3786"
             ],
             [
              0.5555555555555556,
              "#d8576b"
             ],
             [
              0.6666666666666666,
              "#ed7953"
             ],
             [
              0.7777777777777778,
              "#fb9f3a"
             ],
             [
              0.8888888888888888,
              "#fdca26"
             ],
             [
              1.0,
              "#f0f921"
             ]
            ],
            "type": "contour"
           }
          ],
          "contourcarpet": [
           {
            "colorbar": {
             "outlinewidth": 0,
             "ticks": ""
            },
            "type": "contourcarpet"
           }
          ],
          "heatmap": [
           {
            "colorbar": {
             "outlinewidth": 0,
             "ticks": ""
            },
            "colorscale": [
             [
              0.0,
              "#0d0887"
             ],
             [
              0.1111111111111111,
              "#46039f"
             ],
             [
              0.2222222222222222,
              "#7201a8"
             ],
             [
              0.3333333333333333,
              "#9c179e"
             ],
             [
              0.4444444444444444,
              "#bd3786"
             ],
             [
              0.5555555555555556,
              "#d8576b"
             ],
             [
              0.6666666666666666,
              "#ed7953"
             ],
             [
              0.7777777777777778,
              "#fb9f3a"
             ],
             [
              0.8888888888888888,
              "#fdca26"
             ],
             [
              1.0,
              "#f0f921"
             ]
            ],
            "type": "heatmap"
           }
          ],
          "heatmapgl": [
           {
            "colorbar": {
             "outlinewidth": 0,
             "ticks": ""
            },
            "colorscale": [
             [
              0.0,
              "#0d0887"
             ],
             [
              0.1111111111111111,
              "#46039f"
             ],
             [
              0.2222222222222222,
              "#7201a8"
             ],
             [
              0.3333333333333333,
              "#9c179e"
             ],
             [
              0.4444444444444444,
              "#bd3786"
             ],
             [
              0.5555555555555556,
              "#d8576b"
             ],
             [
              0.6666666666666666,
              "#ed7953"
             ],
             [
              0.7777777777777778,
              "#fb9f3a"
             ],
             [
              0.8888888888888888,
              "#fdca26"
             ],
             [
              1.0,
              "#f0f921"
             ]
            ],
            "type": "heatmapgl"
           }
          ],
          "histogram": [
           {
            "marker": {
             "pattern": {
              "fillmode": "overlay",
              "size": 10,
              "solidity": 0.2
             }
            },
            "type": "histogram"
           }
          ],
          "histogram2d": [
           {
            "colorbar": {
             "outlinewidth": 0,
             "ticks": ""
            },
            "colorscale": [
             [
              0.0,
              "#0d0887"
             ],
             [
              0.1111111111111111,
              "#46039f"
             ],
             [
              0.2222222222222222,
              "#7201a8"
             ],
             [
              0.3333333333333333,
              "#9c179e"
             ],
             [
              0.4444444444444444,
              "#bd3786"
             ],
             [
              0.5555555555555556,
              "#d8576b"
             ],
             [
              0.6666666666666666,
              "#ed7953"
             ],
             [
              0.7777777777777778,
              "#fb9f3a"
             ],
             [
              0.8888888888888888,
              "#fdca26"
             ],
             [
              1.0,
              "#f0f921"
             ]
            ],
            "type": "histogram2d"
           }
          ],
          "histogram2dcontour": [
           {
            "colorbar": {
             "outlinewidth": 0,
             "ticks": ""
            },
            "colorscale": [
             [
              0.0,
              "#0d0887"
             ],
             [
              0.1111111111111111,
              "#46039f"
             ],
             [
              0.2222222222222222,
              "#7201a8"
             ],
             [
              0.3333333333333333,
              "#9c179e"
             ],
             [
              0.4444444444444444,
              "#bd3786"
             ],
             [
              0.5555555555555556,
              "#d8576b"
             ],
             [
              0.6666666666666666,
              "#ed7953"
             ],
             [
              0.7777777777777778,
              "#fb9f3a"
             ],
             [
              0.8888888888888888,
              "#fdca26"
             ],
             [
              1.0,
              "#f0f921"
             ]
            ],
            "type": "histogram2dcontour"
           }
          ],
          "mesh3d": [
           {
            "colorbar": {
             "outlinewidth": 0,
             "ticks": ""
            },
            "type": "mesh3d"
           }
          ],
          "parcoords": [
           {
            "line": {
             "colorbar": {
              "outlinewidth": 0,
              "ticks": ""
             }
            },
            "type": "parcoords"
           }
          ],
          "pie": [
           {
            "automargin": true,
            "type": "pie"
           }
          ],
          "scatter": [
           {
            "marker": {
             "colorbar": {
              "outlinewidth": 0,
              "ticks": ""
             }
            },
            "type": "scatter"
           }
          ],
          "scatter3d": [
           {
            "line": {
             "colorbar": {
              "outlinewidth": 0,
              "ticks": ""
             }
            },
            "marker": {
             "colorbar": {
              "outlinewidth": 0,
              "ticks": ""
             }
            },
            "type": "scatter3d"
           }
          ],
          "scattercarpet": [
           {
            "marker": {
             "colorbar": {
              "outlinewidth": 0,
              "ticks": ""
             }
            },
            "type": "scattercarpet"
           }
          ],
          "scattergeo": [
           {
            "marker": {
             "colorbar": {
              "outlinewidth": 0,
              "ticks": ""
             }
            },
            "type": "scattergeo"
           }
          ],
          "scattergl": [
           {
            "marker": {
             "colorbar": {
              "outlinewidth": 0,
              "ticks": ""
             }
            },
            "type": "scattergl"
           }
          ],
          "scattermapbox": [
           {
            "marker": {
             "colorbar": {
              "outlinewidth": 0,
              "ticks": ""
             }
            },
            "type": "scattermapbox"
           }
          ],
          "scatterpolar": [
           {
            "marker": {
             "colorbar": {
              "outlinewidth": 0,
              "ticks": ""
             }
            },
            "type": "scatterpolar"
           }
          ],
          "scatterpolargl": [
           {
            "marker": {
             "colorbar": {
              "outlinewidth": 0,
              "ticks": ""
             }
            },
            "type": "scatterpolargl"
           }
          ],
          "scatterternary": [
           {
            "marker": {
             "colorbar": {
              "outlinewidth": 0,
              "ticks": ""
             }
            },
            "type": "scatterternary"
           }
          ],
          "surface": [
           {
            "colorbar": {
             "outlinewidth": 0,
             "ticks": ""
            },
            "colorscale": [
             [
              0.0,
              "#0d0887"
             ],
             [
              0.1111111111111111,
              "#46039f"
             ],
             [
              0.2222222222222222,
              "#7201a8"
             ],
             [
              0.3333333333333333,
              "#9c179e"
             ],
             [
              0.4444444444444444,
              "#bd3786"
             ],
             [
              0.5555555555555556,
              "#d8576b"
             ],
             [
              0.6666666666666666,
              "#ed7953"
             ],
             [
              0.7777777777777778,
              "#fb9f3a"
             ],
             [
              0.8888888888888888,
              "#fdca26"
             ],
             [
              1.0,
              "#f0f921"
             ]
            ],
            "type": "surface"
           }
          ],
          "table": [
           {
            "cells": {
             "fill": {
              "color": "#EBF0F8"
             },
             "line": {
              "color": "white"
             }
            },
            "header": {
             "fill": {
              "color": "#C8D4E3"
             },
             "line": {
              "color": "white"
             }
            },
            "type": "table"
           }
          ]
         },
         "layout": {
          "annotationdefaults": {
           "arrowcolor": "#2a3f5f",
           "arrowhead": 0,
           "arrowwidth": 1
          },
          "autotypenumbers": "strict",
          "coloraxis": {
           "colorbar": {
            "outlinewidth": 0,
            "ticks": ""
           }
          },
          "colorscale": {
           "diverging": [
            [
             0,
             "#8e0152"
            ],
            [
             0.1,
             "#c51b7d"
            ],
            [
             0.2,
             "#de77ae"
            ],
            [
             0.3,
             "#f1b6da"
            ],
            [
             0.4,
             "#fde0ef"
            ],
            [
             0.5,
             "#f7f7f7"
            ],
            [
             0.6,
             "#e6f5d0"
            ],
            [
             0.7,
             "#b8e186"
            ],
            [
             0.8,
             "#7fbc41"
            ],
            [
             0.9,
             "#4d9221"
            ],
            [
             1,
             "#276419"
            ]
           ],
           "sequential": [
            [
             0.0,
             "#0d0887"
            ],
            [
             0.1111111111111111,
             "#46039f"
            ],
            [
             0.2222222222222222,
             "#7201a8"
            ],
            [
             0.3333333333333333,
             "#9c179e"
            ],
            [
             0.4444444444444444,
             "#bd3786"
            ],
            [
             0.5555555555555556,
             "#d8576b"
            ],
            [
             0.6666666666666666,
             "#ed7953"
            ],
            [
             0.7777777777777778,
             "#fb9f3a"
            ],
            [
             0.8888888888888888,
             "#fdca26"
            ],
            [
             1.0,
             "#f0f921"
            ]
           ],
           "sequentialminus": [
            [
             0.0,
             "#0d0887"
            ],
            [
             0.1111111111111111,
             "#46039f"
            ],
            [
             0.2222222222222222,
             "#7201a8"
            ],
            [
             0.3333333333333333,
             "#9c179e"
            ],
            [
             0.4444444444444444,
             "#bd3786"
            ],
            [
             0.5555555555555556,
             "#d8576b"
            ],
            [
             0.6666666666666666,
             "#ed7953"
            ],
            [
             0.7777777777777778,
             "#fb9f3a"
            ],
            [
             0.8888888888888888,
             "#fdca26"
            ],
            [
             1.0,
             "#f0f921"
            ]
           ]
          },
          "colorway": [
           "#636efa",
           "#EF553B",
           "#00cc96",
           "#ab63fa",
           "#FFA15A",
           "#19d3f3",
           "#FF6692",
           "#B6E880",
           "#FF97FF",
           "#FECB52"
          ],
          "font": {
           "color": "#2a3f5f"
          },
          "geo": {
           "bgcolor": "white",
           "lakecolor": "white",
           "landcolor": "#E5ECF6",
           "showlakes": true,
           "showland": true,
           "subunitcolor": "white"
          },
          "hoverlabel": {
           "align": "left"
          },
          "hovermode": "closest",
          "mapbox": {
           "style": "light"
          },
          "paper_bgcolor": "white",
          "plot_bgcolor": "#E5ECF6",
          "polar": {
           "angularaxis": {
            "gridcolor": "white",
            "linecolor": "white",
            "ticks": ""
           },
           "bgcolor": "#E5ECF6",
           "radialaxis": {
            "gridcolor": "white",
            "linecolor": "white",
            "ticks": ""
           }
          },
          "scene": {
           "xaxis": {
            "backgroundcolor": "#E5ECF6",
            "gridcolor": "white",
            "gridwidth": 2,
            "linecolor": "white",
            "showbackground": true,
            "ticks": "",
            "zerolinecolor": "white"
           },
           "yaxis": {
            "backgroundcolor": "#E5ECF6",
            "gridcolor": "white",
            "gridwidth": 2,
            "linecolor": "white",
            "showbackground": true,
            "ticks": "",
            "zerolinecolor": "white"
           },
           "zaxis": {
            "backgroundcolor": "#E5ECF6",
            "gridcolor": "white",
            "gridwidth": 2,
            "linecolor": "white",
            "showbackground": true,
            "ticks": "",
            "zerolinecolor": "white"
           }
          },
          "shapedefaults": {
           "line": {
            "color": "#2a3f5f"
           }
          },
          "ternary": {
           "aaxis": {
            "gridcolor": "white",
            "linecolor": "white",
            "ticks": ""
           },
           "baxis": {
            "gridcolor": "white",
            "linecolor": "white",
            "ticks": ""
           },
           "bgcolor": "#E5ECF6",
           "caxis": {
            "gridcolor": "white",
            "linecolor": "white",
            "ticks": ""
           }
          },
          "title": {
           "x": 0.05
          },
          "xaxis": {
           "automargin": true,
           "gridcolor": "white",
           "linecolor": "white",
           "ticks": "",
           "title": {
            "standoff": 15
           },
           "zerolinecolor": "white",
           "zerolinewidth": 2
          },
          "yaxis": {
           "automargin": true,
           "gridcolor": "white",
           "linecolor": "white",
           "ticks": "",
           "title": {
            "standoff": 15
           },
           "zerolinecolor": "white",
           "zerolinewidth": 2
          }
         }
        },
        "title": {
         "font": {
          "color": "#4D5663"
         },
         "text": "Risultato giornaliero (R) [by Close] [non_zero=221/453] [worked=70%]"
        },
        "xaxis": {
         "anchor": "y",
         "domain": [
          0.0,
          0.45
         ],
         "gridcolor": "#E1E5ED",
         "showgrid": true,
         "tickfont": {
          "color": "#4D5663"
         },
         "title": {
          "font": {
           "color": "#4D5663"
          },
          "text": "date"
         },
         "zerolinecolor": "grey"
        },
        "xaxis2": {
         "anchor": "y2",
         "domain": [
          0.55,
          1.0
         ],
         "gridcolor": "#E1E5ED",
         "showgrid": true,
         "tickfont": {
          "color": "#4D5663"
         },
         "title": {
          "font": {
           "color": "#4D5663"
          },
          "text": "date"
         },
         "zerolinecolor": "grey"
        },
        "yaxis": {
         "anchor": "x",
         "domain": [
          0.0,
          1.0
         ],
         "gridcolor": "#E1E5ED",
         "showgrid": true,
         "tickfont": {
          "color": "#4D5663"
         },
         "title": {
          "font": {
           "color": "#4D5663"
          },
          "text": "R"
         },
         "zerolinecolor": "grey"
        },
        "yaxis2": {
         "anchor": "x2",
         "domain": [
          0.0,
          1.0
         ],
         "gridcolor": "#E1E5ED",
         "showgrid": true,
         "tickfont": {
          "color": "#4D5663"
         },
         "title": {
          "font": {
           "color": "#4D5663"
          },
          "text": "R"
         },
         "zerolinecolor": "grey"
        }
       }
      },
      "text/html": [
       "<div>                            <div id=\"a9340289-bef4-4cbf-a8d7-a615f608aab7\" class=\"plotly-graph-div\" style=\"height:525px; width:100%;\"></div>            <script type=\"text/javascript\">                require([\"plotly\"], function(Plotly) {                    window.PLOTLYENV=window.PLOTLYENV || {};                                    if (document.getElementById(\"a9340289-bef4-4cbf-a8d7-a615f608aab7\")) {                    Plotly.newPlot(                        \"a9340289-bef4-4cbf-a8d7-a615f608aab7\",                        [{\"marker\":{\"color\":\"rgba(63, 147, 202, 1)\",\"line\":{\"color\":\"rgba(63, 147, 202, 1.0)\",\"width\":1}},\"name\":\"result_60_40_max_3\",\"orientation\":\"v\",\"text\":\"\",\"x\":[\"05 Nov 2020\",\"06 Nov 2020\",\"09 Nov 2020\",\"11 Nov 2020\",\"30 Nov 2020\",\"01 Dec 2020\",\"04 Dec 2020\",\"07 Dec 2020\",\"09 Dec 2020\",\"10 Dec 2020\",\"11 Dec 2020\",\"16 Dec 2020\",\"17 Dec 2020\",\"18 Dec 2020\",\"21 Dec 2020\",\"22 Dec 2020\",\"30 Dec 2020\",\"31 Dec 2020\",\"04 Jan 2021\",\"05 Jan 2021\",\"07 Jan 2021\",\"08 Jan 2021\",\"11 Jan 2021\",\"12 Jan 2021\",\"15 Jan 2021\",\"19 Jan 2021\",\"20 Jan 2021\",\"21 Jan 2021\",\"22 Jan 2021\",\"25 Jan 2021\",\"26 Jan 2021\",\"28 Jan 2021\",\"29 Jan 2021\",\"01 Feb 2021\",\"02 Feb 2021\",\"03 Feb 2021\",\"05 Feb 2021\",\"08 Feb 2021\",\"09 Feb 2021\",\"16 Feb 2021\",\"17 Feb 2021\",\"18 Feb 2021\",\"22 Feb 2021\",\"23 Feb 2021\",\"24 Feb 2021\",\"25 Feb 2021\",\"01 Mar 2021\",\"02 Mar 2021\",\"03 Mar 2021\",\"05 Mar 2021\",\"09 Mar 2021\",\"10 Mar 2021\",\"12 Mar 2021\",\"15 Mar 2021\",\"16 Mar 2021\",\"17 Mar 2021\",\"18 Mar 2021\",\"19 Mar 2021\",\"22 Mar 2021\",\"23 Mar 2021\",\"24 Mar 2021\",\"25 Mar 2021\",\"26 Mar 2021\",\"29 Mar 2021\",\"30 Mar 2021\",\"31 Mar 2021\",\"01 Apr 2021\",\"05 Apr 2021\",\"06 Apr 2021\",\"07 Apr 2021\",\"08 Apr 2021\",\"09 Apr 2021\",\"12 Apr 2021\",\"13 Apr 2021\",\"14 Apr 2021\",\"16 Apr 2021\",\"19 Apr 2021\",\"20 Apr 2021\",\"21 Apr 2021\",\"22 Apr 2021\",\"23 Apr 2021\",\"26 Apr 2021\",\"27 Apr 2021\",\"28 Apr 2021\",\"29 Apr 2021\",\"30 Apr 2021\",\"03 May 2021\",\"04 May 2021\",\"05 May 2021\",\"06 May 2021\",\"07 May 2021\",\"10 May 2021\",\"11 May 2021\",\"12 May 2021\",\"13 May 2021\",\"14 May 2021\",\"17 May 2021\",\"19 May 2021\",\"20 May 2021\",\"24 May 2021\",\"26 May 2021\",\"27 May 2021\",\"08 Jun 2021\",\"09 Jun 2021\",\"10 Jun 2021\",\"11 Jun 2021\",\"14 Jun 2021\",\"15 Jun 2021\",\"17 Jun 2021\",\"21 Jun 2021\",\"22 Jun 2021\",\"30 Jun 2021\",\"01 Jul 2021\",\"06 Jul 2021\",\"07 Jul 2021\",\"08 Jul 2021\",\"09 Jul 2021\",\"12 Jul 2021\",\"13 Jul 2021\",\"14 Jul 2021\",\"15 Jul 2021\",\"16 Jul 2021\",\"19 Jul 2021\",\"20 Jul 2021\",\"21 Jul 2021\",\"22 Jul 2021\",\"23 Jul 2021\",\"26 Jul 2021\",\"27 Jul 2021\",\"29 Jul 2021\",\"30 Jul 2021\",\"02 Aug 2021\",\"03 Aug 2021\",\"04 Aug 2021\",\"05 Aug 2021\",\"09 Aug 2021\",\"10 Aug 2021\",\"11 Aug 2021\",\"12 Aug 2021\",\"13 Aug 2021\",\"16 Aug 2021\",\"17 Aug 2021\",\"18 Aug 2021\",\"19 Aug 2021\",\"20 Aug 2021\",\"23 Aug 2021\",\"24 Aug 2021\",\"25 Aug 2021\",\"26 Aug 2021\",\"27 Aug 2021\",\"30 Aug 2021\",\"31 Aug 2021\",\"01 Sep 2021\",\"02 Sep 2021\",\"06 Sep 2021\",\"07 Sep 2021\",\"08 Sep 2021\",\"13 Sep 2021\",\"15 Sep 2021\",\"16 Sep 2021\",\"17 Sep 2021\",\"20 Sep 2021\",\"23 Sep 2021\",\"24 Sep 2021\",\"27 Sep 2021\",\"28 Sep 2021\",\"29 Sep 2021\",\"30 Sep 2021\",\"01 Oct 2021\",\"04 Oct 2021\",\"05 Oct 2021\",\"07 Oct 2021\",\"08 Oct 2021\",\"12 Oct 2021\",\"13 Oct 2021\",\"25 Oct 2021\",\"27 Oct 2021\",\"28 Oct 2021\",\"01 Nov 2021\",\"02 Nov 2021\",\"03 Nov 2021\",\"04 Nov 2021\",\"08 Nov 2021\",\"09 Nov 2021\",\"11 Nov 2021\",\"17 Nov 2021\",\"18 Nov 2021\",\"22 Nov 2021\",\"24 Nov 2021\",\"29 Nov 2021\",\"30 Nov 2021\",\"02 Dec 2021\",\"03 Dec 2021\",\"06 Dec 2021\",\"07 Dec 2021\",\"08 Dec 2021\",\"09 Dec 2021\",\"13 Dec 2021\",\"14 Dec 2021\",\"15 Dec 2021\",\"16 Dec 2021\",\"17 Dec 2021\",\"20 Dec 2021\",\"21 Dec 2021\",\"27 Dec 2021\",\"04 Jan 2022\",\"05 Jan 2022\",\"06 Jan 2022\",\"12 Jan 2022\",\"13 Jan 2022\",\"14 Jan 2022\",\"17 Jan 2022\",\"18 Jan 2022\",\"19 Jan 2022\",\"20 Jan 2022\",\"24 Jan 2022\",\"25 Jan 2022\",\"26 Jan 2022\",\"27 Jan 2022\",\"31 Jan 2022\",\"01 Feb 2022\"],\"xaxis\":\"x\",\"y\":[-2.0036496350363597,-0.02213114754087961,-0.036290322580589236,-2.004999999999909,1.8809523809524027,1.7381902420772897,-0.9954128440368871,0.5004424778761188,0.40000000000001507,-0.9950495049506031,0.36652173913044245,2.4600000000000932,0.1691729323308424,-1.1484275849197636,0.9927184466020047,-2.001798561150955,0.13106796116506733,-1.0029761904761578,1.4171974522292414,0.4296874999999644,0.5162011173184236,-0.5039106145251507,0.4859504132231873,0.9680306905371053,1.318954248365995,-1.000000000000077,0.9137931034482287,-0.40596403490099253,-1.0051546391752226,0.86800000000012,0.7820512820512631,-1.0029940119759866,-2.0000000000000915,-0.9143623448034547,-0.9964539007092409,1.4435863519195604,-1.003448275862058,0.8345744680850246,-0.9989106753812715,-1.000000000000038,1.30660377358479,1.4166666666667047,1.4033112582780891,1.457575757575738,0.5029411764706072,-2.00877775976672,0.20966517857137867,1.0643968871594878,2.5399014410513088,0.5714285714285932,0.9441896821263268,1.3981106612683967,-0.29885714285715415,0.14137931034483497,-0.8135593220340442,0.9007633587788965,-0.5794979079496051,-0.9757724463831533,0.08206280963673641,-0.4688311688313148,-1.0689484126985966,-0.06000000000009702,-1.0028735632183607,1.569097848299078,1.1515009380863002,1.2412790697675358,0.6438623523369522,0.8767857142857168,2.564953144710699,-1.0384180790958704,0.725748450728849,1.438650306748448,-0.6197183098595167,0.23855348663104836,-1.8446288082562685,0.7996323529411389,-0.7812260536400979,1.1381457646858222,3.563328495403814,-0.18348508153273524,-1.9950000000000325,-0.09698795180735909,1.3957219251336364,-1.0000000000000138,-0.9116541353383676,-2.2418454223793427,0.39374999999998356,2.1391729323308883,-0.2811487481589432,0.04589322960701425,0.6275862068966082,-1.287742625905542,-3.0027777777777214,-1.0020080321284794,-0.37348066298356,-0.07434551284300839,0.5707317073170532,0.5112089201876476,1.8521505376343987,0.9086956521738805,1.5701306506401562,-1.2223972694418686,-2.003184713375667,1.6340206185567845,2.022900763358776,0.5819672131146907,-0.026785714285757593,1.3039670555937246,-1.0039062499999847,0.09817351598187829,-1.4671328671328574,-1.000000000000038,-2.0026881720429985,-0.5669979887487083,0.5320590914027825,0.9814814814814076,-0.09756097560953347,-3.0028571428570077,-0.1031250000000483,0.7035714285714383,1.2672955974842681,0.8201923076923161,-0.9999999999999671,-0.9063926940638046,1.3224852071005326,1.3731884057971704,0.3189655172412025,2.759905421381554,-3.000269905533048,2.1902654867256337,1.1666666666667485,0.24440894568693292,0.973568281938317,0.5231092436974332,1.2286245353160088,1.4603822207174635,1.1642512077295355,-1.1693183794124542,-2.9970930232556983,0.5427745664740665,0.3274853801169062,-3.0025773195872416,1.1198165765424335,-2.9967167981516583,-3.000471401634184,1.910827107476997,1.4063991068279527,0.4840206185566827,-0.23231474407939323,1.282165605095563,0.4538160415335535,1.263057324840767,-1.0000000000000884,1.0415204678361942,0.14482758620690206,1.8002148227711152,2.3432798702470055,0.801137113447366,0.8301587301586789,1.1218487394959245,-0.9999999999999509,-2.0034965034963905,-0.03387598953326093,0.6260204081632527,0.5091743119266118,-1.000000000000113,-0.4272928102825483,0.21541666666666498,0.7215189873417756,2.4230769230768425,1.4034334763948908,0.9295774647887478,1.6229508196721771,1.638047191970857,1.445414847161573,-0.6177909806790457,-3.0014662756597517,-1.0031446540879245,0.4458098624065397,0.2441685953999282,1.614525139664765,-1.236363636363702,0.6049250749250805,-0.6614783628671284,0.8906832298136808,0.09248554913289672,-0.4062093788564032,-0.9975000000000023,-2.9967320261438015,0.8333333333333097,-3.000000000000103,0.21975806451606172,-1.054525045919347,1.222222222222295,-2.999731956435892,2.431707671847695,-1.3563963449457215,1.3392344497607007,1.4082568807339158,-0.9999999999999287,1.3271028037383328,1.9016886645963182,1.0948616600790442,1.458536585365858,1.2365384615384902,2.7376690360610105,0.45143766461798673,1.3625468164794559,0.43277777777777576,0.7043478260869831,-0.3931296773402404,-0.3262883235486216,0.48676470588237836,1.968553459119494,-3.004630121275155,-0.47334452986621267,0.5933628318584107,1.2535211267605175,0.5893401015228433,0.3929752066115793,1.443661971830954],\"yaxis\":\"y\",\"type\":\"bar\"},{\"marker\":{\"color\":\"rgba(219, 58, 52, 1)\",\"line\":{\"color\":\"rgba(219, 58, 52, 1.0)\",\"width\":1}},\"name\":\"result_60_40_old\",\"orientation\":\"v\",\"text\":\"\",\"x\":[\"05 Nov 2020\",\"06 Nov 2020\",\"09 Nov 2020\",\"11 Nov 2020\",\"30 Nov 2020\",\"01 Dec 2020\",\"04 Dec 2020\",\"07 Dec 2020\",\"09 Dec 2020\",\"10 Dec 2020\",\"11 Dec 2020\",\"16 Dec 2020\",\"17 Dec 2020\",\"18 Dec 2020\",\"21 Dec 2020\",\"22 Dec 2020\",\"30 Dec 2020\",\"31 Dec 2020\",\"04 Jan 2021\",\"05 Jan 2021\",\"07 Jan 2021\",\"08 Jan 2021\",\"11 Jan 2021\",\"12 Jan 2021\",\"15 Jan 2021\",\"19 Jan 2021\",\"20 Jan 2021\",\"21 Jan 2021\",\"22 Jan 2021\",\"25 Jan 2021\",\"26 Jan 2021\",\"28 Jan 2021\",\"29 Jan 2021\",\"01 Feb 2021\",\"02 Feb 2021\",\"03 Feb 2021\",\"05 Feb 2021\",\"08 Feb 2021\",\"09 Feb 2021\",\"16 Feb 2021\",\"17 Feb 2021\",\"18 Feb 2021\",\"22 Feb 2021\",\"23 Feb 2021\",\"24 Feb 2021\",\"25 Feb 2021\",\"01 Mar 2021\",\"02 Mar 2021\",\"03 Mar 2021\",\"05 Mar 2021\",\"09 Mar 2021\",\"10 Mar 2021\",\"12 Mar 2021\",\"15 Mar 2021\",\"16 Mar 2021\",\"17 Mar 2021\",\"18 Mar 2021\",\"19 Mar 2021\",\"22 Mar 2021\",\"23 Mar 2021\",\"24 Mar 2021\",\"25 Mar 2021\",\"26 Mar 2021\",\"29 Mar 2021\",\"30 Mar 2021\",\"31 Mar 2021\",\"01 Apr 2021\",\"05 Apr 2021\",\"06 Apr 2021\",\"07 Apr 2021\",\"08 Apr 2021\",\"09 Apr 2021\",\"12 Apr 2021\",\"13 Apr 2021\",\"14 Apr 2021\",\"16 Apr 2021\",\"19 Apr 2021\",\"20 Apr 2021\",\"21 Apr 2021\",\"22 Apr 2021\",\"23 Apr 2021\",\"26 Apr 2021\",\"27 Apr 2021\",\"28 Apr 2021\",\"29 Apr 2021\",\"30 Apr 2021\",\"03 May 2021\",\"04 May 2021\",\"05 May 2021\",\"06 May 2021\",\"07 May 2021\",\"10 May 2021\",\"11 May 2021\",\"12 May 2021\",\"13 May 2021\",\"14 May 2021\",\"17 May 2021\",\"19 May 2021\",\"20 May 2021\",\"24 May 2021\",\"26 May 2021\",\"27 May 2021\",\"08 Jun 2021\",\"09 Jun 2021\",\"10 Jun 2021\",\"11 Jun 2021\",\"14 Jun 2021\",\"15 Jun 2021\",\"17 Jun 2021\",\"21 Jun 2021\",\"22 Jun 2021\",\"30 Jun 2021\",\"01 Jul 2021\",\"06 Jul 2021\",\"07 Jul 2021\",\"08 Jul 2021\",\"09 Jul 2021\",\"12 Jul 2021\",\"13 Jul 2021\",\"14 Jul 2021\",\"15 Jul 2021\",\"16 Jul 2021\",\"19 Jul 2021\",\"20 Jul 2021\",\"21 Jul 2021\",\"22 Jul 2021\",\"23 Jul 2021\",\"26 Jul 2021\",\"27 Jul 2021\",\"29 Jul 2021\",\"30 Jul 2021\",\"02 Aug 2021\",\"03 Aug 2021\",\"04 Aug 2021\",\"05 Aug 2021\",\"09 Aug 2021\",\"10 Aug 2021\",\"11 Aug 2021\",\"12 Aug 2021\",\"13 Aug 2021\",\"16 Aug 2021\",\"17 Aug 2021\",\"18 Aug 2021\",\"19 Aug 2021\",\"20 Aug 2021\",\"23 Aug 2021\",\"24 Aug 2021\",\"25 Aug 2021\",\"26 Aug 2021\",\"27 Aug 2021\",\"30 Aug 2021\",\"31 Aug 2021\",\"01 Sep 2021\",\"02 Sep 2021\",\"06 Sep 2021\",\"07 Sep 2021\",\"08 Sep 2021\",\"13 Sep 2021\",\"15 Sep 2021\",\"16 Sep 2021\",\"17 Sep 2021\",\"20 Sep 2021\",\"23 Sep 2021\",\"24 Sep 2021\",\"27 Sep 2021\",\"28 Sep 2021\",\"29 Sep 2021\",\"30 Sep 2021\",\"01 Oct 2021\",\"04 Oct 2021\",\"05 Oct 2021\",\"07 Oct 2021\",\"08 Oct 2021\",\"12 Oct 2021\",\"13 Oct 2021\",\"25 Oct 2021\",\"27 Oct 2021\",\"28 Oct 2021\",\"01 Nov 2021\",\"02 Nov 2021\",\"03 Nov 2021\",\"04 Nov 2021\",\"08 Nov 2021\",\"09 Nov 2021\",\"11 Nov 2021\",\"17 Nov 2021\",\"18 Nov 2021\",\"22 Nov 2021\",\"24 Nov 2021\",\"29 Nov 2021\",\"30 Nov 2021\",\"02 Dec 2021\",\"03 Dec 2021\",\"06 Dec 2021\",\"07 Dec 2021\",\"08 Dec 2021\",\"09 Dec 2021\",\"13 Dec 2021\",\"14 Dec 2021\",\"15 Dec 2021\",\"16 Dec 2021\",\"17 Dec 2021\",\"20 Dec 2021\",\"21 Dec 2021\",\"27 Dec 2021\",\"04 Jan 2022\",\"05 Jan 2022\",\"06 Jan 2022\",\"12 Jan 2022\",\"13 Jan 2022\",\"14 Jan 2022\",\"17 Jan 2022\",\"18 Jan 2022\",\"19 Jan 2022\",\"20 Jan 2022\",\"24 Jan 2022\",\"25 Jan 2022\",\"26 Jan 2022\",\"27 Jan 2022\",\"31 Jan 2022\",\"01 Feb 2022\"],\"xaxis\":\"x2\",\"y\":[-2.0036496350363597,-0.02213114754087961,-0.036290322580589236,-2.004999999999909,1.8809523809524027,1.7381902420772897,-0.9954128440368871,0.5004424778761188,0.40000000000001507,-0.9950495049506031,0.36652173913044245,2.4600000000000932,0.1691729323308424,-1.1484275849197636,0.9927184466020047,-2.001798561150955,0.13106796116506733,-1.0029761904761578,1.4171974522292414,0.4296874999999644,0.5162011173184236,-0.5039106145251507,0.4859504132231873,0.9680306905371053,1.318954248365995,-1.000000000000077,0.9137931034482287,-0.40596403490099253,-1.0051546391752226,0.86800000000012,0.7820512820512631,-1.0029940119759866,-2.0000000000000915,-2.917787002337519,-0.9964539007092409,1.4435863519195604,-1.003448275862058,0.8345744680850246,-0.9989106753812715,-1.000000000000038,1.30660377358479,1.4166666666667047,1.4033112582780891,1.457575757575738,0.5029411764706072,-2.00877775976672,0.20966517857137867,1.0643968871594878,2.5399014410513088,0.5714285714285932,1.0958380337747466,1.3981106612683967,-0.29885714285715415,0.14137931034483497,-0.8135593220340442,0.9007633587788965,-0.5794979079496051,-0.9757724463831533,0.08206280963673641,-0.4688311688313148,-1.0689484126985966,-0.06000000000009702,-1.0028735632183607,1.569097848299078,1.1515009380863002,1.2412790697675358,0.6438623523369522,0.8767857142857168,2.564953144710699,-1.0384180790958704,0.725748450728849,1.438650306748448,-0.6197183098595167,1.3555104123932564,-0.2358288082562947,0.7996323529411389,-0.7812260536400979,1.1381457646858222,3.563328495403814,-1.183485081532896,-1.9950000000000325,-0.09698795180735909,1.3957219251336364,-1.0000000000000138,-0.9116541353383676,-4.239593170127265,0.39374999999998356,2.1391729323308883,-0.2811487481589432,0.04589322960701425,0.6275862068966082,-1.287742625905542,-2.7005799755798914,-1.0020080321284794,-0.37348066298356,-0.07434551284300839,0.5707317073170532,0.5112089201876476,1.8521505376343987,0.9086956521738805,1.5701306506401562,-1.2223972694418686,-4.007001507268795,1.6340206185567845,2.022900763358776,0.5819672131146907,-0.026785714285757593,1.3039670555937246,-1.0039062499999847,0.09817351598187829,-1.4671328671328574,-1.000000000000038,-2.0026881720429985,-0.5669979887487083,0.5320590914027825,0.9814814814814076,-0.09756097560953347,-1.3813101815310713,-0.1031250000000483,0.7035714285714383,1.2672955974842681,0.8201923076923161,-0.9999999999999671,-0.9063926940638046,1.3224852071005326,1.3731884057971704,0.3189655172412025,2.759905421381554,-3.6036567269738327,2.1902654867256337,1.1666666666667485,0.24440894568693292,0.973568281938317,0.5231092436974332,1.2286245353160088,1.4603822207174635,1.1642512077295355,-1.1693183794124542,-2.9970930232556983,0.5427745664740665,0.3274853801169062,-4.002577319587164,1.1198165765424335,-4.747967660815578,-1.695457210527243,1.910827107476997,0.4063991068278643,0.4840206185566827,-0.23231474407939323,1.282165605095563,0.4538160415335535,1.263057324840767,-1.0000000000000884,1.0415204678361942,0.14482758620690206,1.8002148227711152,2.3432798702470055,0.801137113447366,0.8301587301586789,1.1218487394959245,-0.9999999999999509,-2.0034965034963905,0.45330349764627503,0.6260204081632527,0.5091743119266118,-1.000000000000113,-0.4272928102825483,0.21541666666666498,0.7215189873417756,2.4230769230768425,1.4034334763948908,0.9295774647887478,1.6229508196721771,1.638047191970857,1.445414847161573,-1.6177909806790836,-3.0014662756597517,-1.0031446540879245,0.4458098624065397,0.2441685953999282,1.614525139664765,-3.2363636363636417,0.6049250749250805,-0.6614783628671284,0.8906832298136808,0.09248554913289672,-0.4062093788564032,-0.9975000000000023,-3.5651530787754018,0.8333333333333097,-4.994378306878543,0.21975806451606172,-1.054525045919347,1.222222222222295,-5.001155165694566,2.431707671847695,-1.3563963449457215,1.3392344497607007,1.4082568807339158,-0.9999999999999287,1.3271028037383328,1.9016886645963182,1.0948616600790442,1.458536585365858,1.2365384615384902,2.7376690360610105,0.45143766461798673,1.3625468164794559,0.43277777777777576,0.7043478260869831,-0.3931296773402404,-0.3262883235486216,0.48676470588237836,1.968553459119494,-3.004630121275155,-0.47334452986621267,0.5933628318584107,1.2535211267605175,0.5893401015228433,0.3929752066115793,1.443661971830954],\"yaxis\":\"y2\",\"type\":\"bar\"}],                        {\"annotations\":[{\"font\":{\"size\":16},\"showarrow\":false,\"text\":\"60_40_max_3\",\"x\":0.225,\"xanchor\":\"center\",\"xref\":\"paper\",\"y\":1.0,\"yanchor\":\"bottom\",\"yref\":\"paper\"},{\"font\":{\"size\":16},\"showarrow\":false,\"text\":\"60_40_old\",\"x\":0.775,\"xanchor\":\"center\",\"xref\":\"paper\",\"y\":1.0,\"yanchor\":\"bottom\",\"yref\":\"paper\"}],\"legend\":{\"bgcolor\":\"#FFFFFF\",\"font\":{\"color\":\"#4D5663\"}},\"paper_bgcolor\":\"#FFFFFF\",\"plot_bgcolor\":\"#FFFFFF\",\"showlegend\":false,\"template\":{\"data\":{\"barpolar\":[{\"marker\":{\"line\":{\"color\":\"#E5ECF6\",\"width\":0.5},\"pattern\":{\"fillmode\":\"overlay\",\"size\":10,\"solidity\":0.2}},\"type\":\"barpolar\"}],\"bar\":[{\"error_x\":{\"color\":\"#2a3f5f\"},\"error_y\":{\"color\":\"#2a3f5f\"},\"marker\":{\"line\":{\"color\":\"#E5ECF6\",\"width\":0.5},\"pattern\":{\"fillmode\":\"overlay\",\"size\":10,\"solidity\":0.2}},\"type\":\"bar\"}],\"carpet\":[{\"aaxis\":{\"endlinecolor\":\"#2a3f5f\",\"gridcolor\":\"white\",\"linecolor\":\"white\",\"minorgridcolor\":\"white\",\"startlinecolor\":\"#2a3f5f\"},\"baxis\":{\"endlinecolor\":\"#2a3f5f\",\"gridcolor\":\"white\",\"linecolor\":\"white\",\"minorgridcolor\":\"white\",\"startlinecolor\":\"#2a3f5f\"},\"type\":\"carpet\"}],\"choropleth\":[{\"colorbar\":{\"outlinewidth\":0,\"ticks\":\"\"},\"type\":\"choropleth\"}],\"contourcarpet\":[{\"colorbar\":{\"outlinewidth\":0,\"ticks\":\"\"},\"type\":\"contourcarpet\"}],\"contour\":[{\"colorbar\":{\"outlinewidth\":0,\"ticks\":\"\"},\"colorscale\":[[0.0,\"#0d0887\"],[0.1111111111111111,\"#46039f\"],[0.2222222222222222,\"#7201a8\"],[0.3333333333333333,\"#9c179e\"],[0.4444444444444444,\"#bd3786\"],[0.5555555555555556,\"#d8576b\"],[0.6666666666666666,\"#ed7953\"],[0.7777777777777778,\"#fb9f3a\"],[0.8888888888888888,\"#fdca26\"],[1.0,\"#f0f921\"]],\"type\":\"contour\"}],\"heatmapgl\":[{\"colorbar\":{\"outlinewidth\":0,\"ticks\":\"\"},\"colorscale\":[[0.0,\"#0d0887\"],[0.1111111111111111,\"#46039f\"],[0.2222222222222222,\"#7201a8\"],[0.3333333333333333,\"#9c179e\"],[0.4444444444444444,\"#bd3786\"],[0.5555555555555556,\"#d8576b\"],[0.6666666666666666,\"#ed7953\"],[0.7777777777777778,\"#fb9f3a\"],[0.8888888888888888,\"#fdca26\"],[1.0,\"#f0f921\"]],\"type\":\"heatmapgl\"}],\"heatmap\":[{\"colorbar\":{\"outlinewidth\":0,\"ticks\":\"\"},\"colorscale\":[[0.0,\"#0d0887\"],[0.1111111111111111,\"#46039f\"],[0.2222222222222222,\"#7201a8\"],[0.3333333333333333,\"#9c179e\"],[0.4444444444444444,\"#bd3786\"],[0.5555555555555556,\"#d8576b\"],[0.6666666666666666,\"#ed7953\"],[0.7777777777777778,\"#fb9f3a\"],[0.8888888888888888,\"#fdca26\"],[1.0,\"#f0f921\"]],\"type\":\"heatmap\"}],\"histogram2dcontour\":[{\"colorbar\":{\"outlinewidth\":0,\"ticks\":\"\"},\"colorscale\":[[0.0,\"#0d0887\"],[0.1111111111111111,\"#46039f\"],[0.2222222222222222,\"#7201a8\"],[0.3333333333333333,\"#9c179e\"],[0.4444444444444444,\"#bd3786\"],[0.5555555555555556,\"#d8576b\"],[0.6666666666666666,\"#ed7953\"],[0.7777777777777778,\"#fb9f3a\"],[0.8888888888888888,\"#fdca26\"],[1.0,\"#f0f921\"]],\"type\":\"histogram2dcontour\"}],\"histogram2d\":[{\"colorbar\":{\"outlinewidth\":0,\"ticks\":\"\"},\"colorscale\":[[0.0,\"#0d0887\"],[0.1111111111111111,\"#46039f\"],[0.2222222222222222,\"#7201a8\"],[0.3333333333333333,\"#9c179e\"],[0.4444444444444444,\"#bd3786\"],[0.5555555555555556,\"#d8576b\"],[0.6666666666666666,\"#ed7953\"],[0.7777777777777778,\"#fb9f3a\"],[0.8888888888888888,\"#fdca26\"],[1.0,\"#f0f921\"]],\"type\":\"histogram2d\"}],\"histogram\":[{\"marker\":{\"pattern\":{\"fillmode\":\"overlay\",\"size\":10,\"solidity\":0.2}},\"type\":\"histogram\"}],\"mesh3d\":[{\"colorbar\":{\"outlinewidth\":0,\"ticks\":\"\"},\"type\":\"mesh3d\"}],\"parcoords\":[{\"line\":{\"colorbar\":{\"outlinewidth\":0,\"ticks\":\"\"}},\"type\":\"parcoords\"}],\"pie\":[{\"automargin\":true,\"type\":\"pie\"}],\"scatter3d\":[{\"line\":{\"colorbar\":{\"outlinewidth\":0,\"ticks\":\"\"}},\"marker\":{\"colorbar\":{\"outlinewidth\":0,\"ticks\":\"\"}},\"type\":\"scatter3d\"}],\"scattercarpet\":[{\"marker\":{\"colorbar\":{\"outlinewidth\":0,\"ticks\":\"\"}},\"type\":\"scattercarpet\"}],\"scattergeo\":[{\"marker\":{\"colorbar\":{\"outlinewidth\":0,\"ticks\":\"\"}},\"type\":\"scattergeo\"}],\"scattergl\":[{\"marker\":{\"colorbar\":{\"outlinewidth\":0,\"ticks\":\"\"}},\"type\":\"scattergl\"}],\"scattermapbox\":[{\"marker\":{\"colorbar\":{\"outlinewidth\":0,\"ticks\":\"\"}},\"type\":\"scattermapbox\"}],\"scatterpolargl\":[{\"marker\":{\"colorbar\":{\"outlinewidth\":0,\"ticks\":\"\"}},\"type\":\"scatterpolargl\"}],\"scatterpolar\":[{\"marker\":{\"colorbar\":{\"outlinewidth\":0,\"ticks\":\"\"}},\"type\":\"scatterpolar\"}],\"scatter\":[{\"marker\":{\"colorbar\":{\"outlinewidth\":0,\"ticks\":\"\"}},\"type\":\"scatter\"}],\"scatterternary\":[{\"marker\":{\"colorbar\":{\"outlinewidth\":0,\"ticks\":\"\"}},\"type\":\"scatterternary\"}],\"surface\":[{\"colorbar\":{\"outlinewidth\":0,\"ticks\":\"\"},\"colorscale\":[[0.0,\"#0d0887\"],[0.1111111111111111,\"#46039f\"],[0.2222222222222222,\"#7201a8\"],[0.3333333333333333,\"#9c179e\"],[0.4444444444444444,\"#bd3786\"],[0.5555555555555556,\"#d8576b\"],[0.6666666666666666,\"#ed7953\"],[0.7777777777777778,\"#fb9f3a\"],[0.8888888888888888,\"#fdca26\"],[1.0,\"#f0f921\"]],\"type\":\"surface\"}],\"table\":[{\"cells\":{\"fill\":{\"color\":\"#EBF0F8\"},\"line\":{\"color\":\"white\"}},\"header\":{\"fill\":{\"color\":\"#C8D4E3\"},\"line\":{\"color\":\"white\"}},\"type\":\"table\"}]},\"layout\":{\"annotationdefaults\":{\"arrowcolor\":\"#2a3f5f\",\"arrowhead\":0,\"arrowwidth\":1},\"autotypenumbers\":\"strict\",\"coloraxis\":{\"colorbar\":{\"outlinewidth\":0,\"ticks\":\"\"}},\"colorscale\":{\"diverging\":[[0,\"#8e0152\"],[0.1,\"#c51b7d\"],[0.2,\"#de77ae\"],[0.3,\"#f1b6da\"],[0.4,\"#fde0ef\"],[0.5,\"#f7f7f7\"],[0.6,\"#e6f5d0\"],[0.7,\"#b8e186\"],[0.8,\"#7fbc41\"],[0.9,\"#4d9221\"],[1,\"#276419\"]],\"sequential\":[[0.0,\"#0d0887\"],[0.1111111111111111,\"#46039f\"],[0.2222222222222222,\"#7201a8\"],[0.3333333333333333,\"#9c179e\"],[0.4444444444444444,\"#bd3786\"],[0.5555555555555556,\"#d8576b\"],[0.6666666666666666,\"#ed7953\"],[0.7777777777777778,\"#fb9f3a\"],[0.8888888888888888,\"#fdca26\"],[1.0,\"#f0f921\"]],\"sequentialminus\":[[0.0,\"#0d0887\"],[0.1111111111111111,\"#46039f\"],[0.2222222222222222,\"#7201a8\"],[0.3333333333333333,\"#9c179e\"],[0.4444444444444444,\"#bd3786\"],[0.5555555555555556,\"#d8576b\"],[0.6666666666666666,\"#ed7953\"],[0.7777777777777778,\"#fb9f3a\"],[0.8888888888888888,\"#fdca26\"],[1.0,\"#f0f921\"]]},\"colorway\":[\"#636efa\",\"#EF553B\",\"#00cc96\",\"#ab63fa\",\"#FFA15A\",\"#19d3f3\",\"#FF6692\",\"#B6E880\",\"#FF97FF\",\"#FECB52\"],\"font\":{\"color\":\"#2a3f5f\"},\"geo\":{\"bgcolor\":\"white\",\"lakecolor\":\"white\",\"landcolor\":\"#E5ECF6\",\"showlakes\":true,\"showland\":true,\"subunitcolor\":\"white\"},\"hoverlabel\":{\"align\":\"left\"},\"hovermode\":\"closest\",\"mapbox\":{\"style\":\"light\"},\"paper_bgcolor\":\"white\",\"plot_bgcolor\":\"#E5ECF6\",\"polar\":{\"angularaxis\":{\"gridcolor\":\"white\",\"linecolor\":\"white\",\"ticks\":\"\"},\"bgcolor\":\"#E5ECF6\",\"radialaxis\":{\"gridcolor\":\"white\",\"linecolor\":\"white\",\"ticks\":\"\"}},\"scene\":{\"xaxis\":{\"backgroundcolor\":\"#E5ECF6\",\"gridcolor\":\"white\",\"gridwidth\":2,\"linecolor\":\"white\",\"showbackground\":true,\"ticks\":\"\",\"zerolinecolor\":\"white\"},\"yaxis\":{\"backgroundcolor\":\"#E5ECF6\",\"gridcolor\":\"white\",\"gridwidth\":2,\"linecolor\":\"white\",\"showbackground\":true,\"ticks\":\"\",\"zerolinecolor\":\"white\"},\"zaxis\":{\"backgroundcolor\":\"#E5ECF6\",\"gridcolor\":\"white\",\"gridwidth\":2,\"linecolor\":\"white\",\"showbackground\":true,\"ticks\":\"\",\"zerolinecolor\":\"white\"}},\"shapedefaults\":{\"line\":{\"color\":\"#2a3f5f\"}},\"ternary\":{\"aaxis\":{\"gridcolor\":\"white\",\"linecolor\":\"white\",\"ticks\":\"\"},\"baxis\":{\"gridcolor\":\"white\",\"linecolor\":\"white\",\"ticks\":\"\"},\"bgcolor\":\"#E5ECF6\",\"caxis\":{\"gridcolor\":\"white\",\"linecolor\":\"white\",\"ticks\":\"\"}},\"title\":{\"x\":0.05},\"xaxis\":{\"automargin\":true,\"gridcolor\":\"white\",\"linecolor\":\"white\",\"ticks\":\"\",\"title\":{\"standoff\":15},\"zerolinecolor\":\"white\",\"zerolinewidth\":2},\"yaxis\":{\"automargin\":true,\"gridcolor\":\"white\",\"linecolor\":\"white\",\"ticks\":\"\",\"title\":{\"standoff\":15},\"zerolinecolor\":\"white\",\"zerolinewidth\":2}}},\"title\":{\"font\":{\"color\":\"#4D5663\"},\"text\":\"Risultato giornaliero (R) [by Close] [non_zero=221/453] [worked=70%]\"},\"xaxis\":{\"anchor\":\"y\",\"domain\":[0.0,0.45],\"gridcolor\":\"#E1E5ED\",\"showgrid\":true,\"tickfont\":{\"color\":\"#4D5663\"},\"title\":{\"font\":{\"color\":\"#4D5663\"},\"text\":\"date\"},\"zerolinecolor\":\"grey\"},\"yaxis\":{\"anchor\":\"x\",\"domain\":[0.0,1.0],\"gridcolor\":\"#E1E5ED\",\"showgrid\":true,\"tickfont\":{\"color\":\"#4D5663\"},\"title\":{\"font\":{\"color\":\"#4D5663\"},\"text\":\"R\"},\"zerolinecolor\":\"grey\"},\"xaxis2\":{\"anchor\":\"y2\",\"domain\":[0.55,1.0],\"gridcolor\":\"#E1E5ED\",\"showgrid\":true,\"tickfont\":{\"color\":\"#4D5663\"},\"title\":{\"font\":{\"color\":\"#4D5663\"},\"text\":\"date\"},\"zerolinecolor\":\"grey\"},\"yaxis2\":{\"anchor\":\"x2\",\"domain\":[0.0,1.0],\"gridcolor\":\"#E1E5ED\",\"showgrid\":true,\"tickfont\":{\"color\":\"#4D5663\"},\"title\":{\"font\":{\"color\":\"#4D5663\"},\"text\":\"R\"},\"zerolinecolor\":\"grey\"}},                        {\"responsive\": true}                    ).then(function(){\n",
       "                            \n",
       "var gd = document.getElementById('a9340289-bef4-4cbf-a8d7-a615f608aab7');\n",
       "var x = new MutationObserver(function (mutations, observer) {{\n",
       "        var display = window.getComputedStyle(gd).display;\n",
       "        if (!display || display === 'none') {{\n",
       "            console.log([gd, 'removed!']);\n",
       "            Plotly.purge(gd);\n",
       "            observer.disconnect();\n",
       "        }}\n",
       "}});\n",
       "\n",
       "// Listen for the removal of the full notebook cells\n",
       "var notebookContainer = gd.closest('#notebook-container');\n",
       "if (notebookContainer) {{\n",
       "    x.observe(notebookContainer, {childList: true});\n",
       "}}\n",
       "\n",
       "// Listen for the clearing of the current output cell\n",
       "var outputEl = gd.closest('.output');\n",
       "if (outputEl) {{\n",
       "    x.observe(outputEl, {childList: true});\n",
       "}}\n",
       "\n",
       "                        })                };                });            </script>        </div>"
      ]
     },
     "metadata": {},
     "output_type": "display_data"
    }
   ],
   "source": [
    "df = merged.groupby(pd.Grouper(freq='D')).sum()\n",
    "df = df[df!=0].dropna(how='all').reset_index()\n",
    "n_days = (df.iloc[-1, 0] - df.iloc[0, 0]).days\n",
    "df['close'] = df.close.dt.strftime('%d %b %Y')\n",
    "df.iplot(kind='bar', x='close', opacity=1, yTitle='R', zerolinecolor='grey', subplots=True, subplot_titles=['60_40_max_3', '60_40_old'],\n",
    "         title=f'Risultato giornaliero (R) [by Close] [non_zero={len(df)}/{n_days}] [worked={len(df)/(n_days*.7):.0%}]',\n",
    "         colors=cf_colors, xTitle='date', legend=False)"
   ]
  },
  {
   "cell_type": "markdown",
   "id": "7e853c3a",
   "metadata": {
    "papermill": {
     "duration": 0.089832,
     "end_time": "2022-02-26T11:14:28.587253",
     "exception": false,
     "start_time": "2022-02-26T11:14:28.497421",
     "status": "completed"
    },
    "tags": []
   },
   "source": [
    "### Ora che il rischio massimo giornaliero è stato limitato a 3R, possiamo pensare di aumentare il rischio individuale per trade"
   ]
  },
  {
   "cell_type": "code",
   "execution_count": 25,
   "id": "4d8e7dfe",
   "metadata": {
    "execution": {
     "iopub.execute_input": "2022-02-26T11:14:28.767565Z",
     "iopub.status.busy": "2022-02-26T11:14:28.766958Z",
     "iopub.status.idle": "2022-02-26T11:14:28.902687Z",
     "shell.execute_reply": "2022-02-26T11:14:28.902191Z",
     "shell.execute_reply.started": "2022-02-26T10:55:43.346376Z"
    },
    "papermill": {
     "duration": 0.227535,
     "end_time": "2022-02-26T11:14:28.902830",
     "exception": false,
     "start_time": "2022-02-26T11:14:28.675295",
     "status": "completed"
    },
    "tags": []
   },
   "outputs": [],
   "source": [
    "max_3_60_40_risk_1_5_by_close = max_3_60_40_by_close.copy()\n",
    "max_3_60_40_risk_1_5_by_close['result'] *= 1.5\n",
    "merged = merge({'60_40_max_3': max_3_60_40_by_close,\n",
    "                '60_40_old': df_60_40_by_close,\n",
    "                '60_40_max_3 (r: 1.5x)': max_3_60_40_risk_1_5_by_close})"
   ]
  },
  {
   "cell_type": "code",
   "execution_count": 26,
   "id": "8748a63c",
   "metadata": {
    "execution": {
     "iopub.execute_input": "2022-02-26T11:14:29.090436Z",
     "iopub.status.busy": "2022-02-26T11:14:29.089794Z",
     "iopub.status.idle": "2022-02-26T11:14:29.131587Z",
     "shell.execute_reply": "2022-02-26T11:14:29.132073Z",
     "shell.execute_reply.started": "2022-02-26T10:55:44.437518Z"
    },
    "papermill": {
     "duration": 0.137898,
     "end_time": "2022-02-26T11:14:29.132274",
     "exception": false,
     "start_time": "2022-02-26T11:14:28.994376",
     "status": "completed"
    },
    "tags": []
   },
   "outputs": [
    {
     "data": {
      "application/vnd.plotly.v1+json": {
       "config": {
        "linkText": "Export to plot.ly",
        "plotlyServerURL": "https://plot.ly",
        "showLink": false
       },
       "data": [
        {
         "marker": {
          "color": "rgba(63, 147, 202, 1)",
          "line": {
           "color": "rgba(63, 147, 202, 1.0)",
           "width": 1
          }
         },
         "name": "result_60_40_max_3",
         "orientation": "v",
         "text": "",
         "type": "bar",
         "x": [
          "Nov 2020",
          "Dec 2020",
          "Jan 2021",
          "Feb 2021",
          "Mar 2021",
          "Apr 2021",
          "May 2021",
          "Jun 2021",
          "Jul 2021",
          "Aug 2021",
          "Sep 2021",
          "Oct 2021",
          "Nov 2021",
          "Dec 2021",
          "Jan 2022",
          "Feb 2022"
         ],
         "y": [
          -2.1861187242053344,
          0.614449113647507,
          1.781842506596008,
          1.443306496057731,
          6.545435792546547,
          2.67241815169652,
          1.3754192075485079,
          0.1400196218115497,
          2.7561847326899374,
          0.9862150964299841,
          3.9689334136073637,
          5.561617799980142,
          -4.57235261955494,
          7.229254117097822,
          6.775903900748205,
          1.443661971830954
         ]
        },
        {
         "marker": {
          "color": "rgba(219, 58, 52, 1)",
          "line": {
           "color": "rgba(219, 58, 52, 1.0)",
           "width": 1
          }
         },
         "name": "result_60_40_old",
         "orientation": "v",
         "text": "",
         "type": "bar",
         "x": [
          "Nov 2020",
          "Dec 2020",
          "Jan 2021",
          "Feb 2021",
          "Mar 2021",
          "Apr 2021",
          "May 2021",
          "Jun 2021",
          "Jul 2021",
          "Aug 2021",
          "Sep 2021",
          "Oct 2021",
          "Nov 2021",
          "Dec 2021",
          "Jan 2022",
          "Feb 2022"
         ],
         "y": [
          -2.1861187242053344,
          0.614449113647507,
          1.781842506596008,
          -0.5601181614763333,
          6.697084144194967,
          2.4004273297106185,
          1.6776170097463379,
          -1.8637971720815778,
          3.7743448725750897,
          -1.460021575127006,
          4.4561129007869,
          4.5616177999801035,
          -9.13515197906492,
          5.227830907839149,
          6.775903900748205,
          1.443661971830954
         ]
        },
        {
         "marker": {
          "color": "rgba(70, 99, 101, 1)",
          "line": {
           "color": "rgba(70, 99, 101, 1.0)",
           "width": 1
          }
         },
         "name": "result_60_40_max_3 (r: 1.5x)",
         "orientation": "v",
         "text": "",
         "type": "bar",
         "x": [
          "Nov 2020",
          "Dec 2020",
          "Jan 2021",
          "Feb 2021",
          "Mar 2021",
          "Apr 2021",
          "May 2021",
          "Jun 2021",
          "Jul 2021",
          "Aug 2021",
          "Sep 2021",
          "Oct 2021",
          "Nov 2021",
          "Dec 2021",
          "Jan 2022",
          "Feb 2022"
         ],
         "y": [
          -3.279178086308002,
          0.9216736704712605,
          2.672763759894012,
          2.1649597440865964,
          9.818153688819821,
          4.00862722754478,
          2.0631288113227617,
          0.21002943271732488,
          4.134277099034906,
          1.4793226446449763,
          5.953400120411046,
          8.342426699970213,
          -6.85852892933241,
          10.843881175646734,
          10.163855851122308,
          2.165492957746431
         ]
        }
       ],
       "layout": {
        "legend": {
         "bgcolor": "#FFFFFF",
         "font": {
          "color": "#4D5663"
         },
         "orientation": "h",
         "x": 0.3,
         "y": 0.95,
         "yanchor": "bottom"
        },
        "paper_bgcolor": "#FFFFFF",
        "plot_bgcolor": "#FFFFFF",
        "showlegend": true,
        "template": {
         "data": {
          "bar": [
           {
            "error_x": {
             "color": "#2a3f5f"
            },
            "error_y": {
             "color": "#2a3f5f"
            },
            "marker": {
             "line": {
              "color": "#E5ECF6",
              "width": 0.5
             },
             "pattern": {
              "fillmode": "overlay",
              "size": 10,
              "solidity": 0.2
             }
            },
            "type": "bar"
           }
          ],
          "barpolar": [
           {
            "marker": {
             "line": {
              "color": "#E5ECF6",
              "width": 0.5
             },
             "pattern": {
              "fillmode": "overlay",
              "size": 10,
              "solidity": 0.2
             }
            },
            "type": "barpolar"
           }
          ],
          "carpet": [
           {
            "aaxis": {
             "endlinecolor": "#2a3f5f",
             "gridcolor": "white",
             "linecolor": "white",
             "minorgridcolor": "white",
             "startlinecolor": "#2a3f5f"
            },
            "baxis": {
             "endlinecolor": "#2a3f5f",
             "gridcolor": "white",
             "linecolor": "white",
             "minorgridcolor": "white",
             "startlinecolor": "#2a3f5f"
            },
            "type": "carpet"
           }
          ],
          "choropleth": [
           {
            "colorbar": {
             "outlinewidth": 0,
             "ticks": ""
            },
            "type": "choropleth"
           }
          ],
          "contour": [
           {
            "colorbar": {
             "outlinewidth": 0,
             "ticks": ""
            },
            "colorscale": [
             [
              0.0,
              "#0d0887"
             ],
             [
              0.1111111111111111,
              "#46039f"
             ],
             [
              0.2222222222222222,
              "#7201a8"
             ],
             [
              0.3333333333333333,
              "#9c179e"
             ],
             [
              0.4444444444444444,
              "#bd3786"
             ],
             [
              0.5555555555555556,
              "#d8576b"
             ],
             [
              0.6666666666666666,
              "#ed7953"
             ],
             [
              0.7777777777777778,
              "#fb9f3a"
             ],
             [
              0.8888888888888888,
              "#fdca26"
             ],
             [
              1.0,
              "#f0f921"
             ]
            ],
            "type": "contour"
           }
          ],
          "contourcarpet": [
           {
            "colorbar": {
             "outlinewidth": 0,
             "ticks": ""
            },
            "type": "contourcarpet"
           }
          ],
          "heatmap": [
           {
            "colorbar": {
             "outlinewidth": 0,
             "ticks": ""
            },
            "colorscale": [
             [
              0.0,
              "#0d0887"
             ],
             [
              0.1111111111111111,
              "#46039f"
             ],
             [
              0.2222222222222222,
              "#7201a8"
             ],
             [
              0.3333333333333333,
              "#9c179e"
             ],
             [
              0.4444444444444444,
              "#bd3786"
             ],
             [
              0.5555555555555556,
              "#d8576b"
             ],
             [
              0.6666666666666666,
              "#ed7953"
             ],
             [
              0.7777777777777778,
              "#fb9f3a"
             ],
             [
              0.8888888888888888,
              "#fdca26"
             ],
             [
              1.0,
              "#f0f921"
             ]
            ],
            "type": "heatmap"
           }
          ],
          "heatmapgl": [
           {
            "colorbar": {
             "outlinewidth": 0,
             "ticks": ""
            },
            "colorscale": [
             [
              0.0,
              "#0d0887"
             ],
             [
              0.1111111111111111,
              "#46039f"
             ],
             [
              0.2222222222222222,
              "#7201a8"
             ],
             [
              0.3333333333333333,
              "#9c179e"
             ],
             [
              0.4444444444444444,
              "#bd3786"
             ],
             [
              0.5555555555555556,
              "#d8576b"
             ],
             [
              0.6666666666666666,
              "#ed7953"
             ],
             [
              0.7777777777777778,
              "#fb9f3a"
             ],
             [
              0.8888888888888888,
              "#fdca26"
             ],
             [
              1.0,
              "#f0f921"
             ]
            ],
            "type": "heatmapgl"
           }
          ],
          "histogram": [
           {
            "marker": {
             "pattern": {
              "fillmode": "overlay",
              "size": 10,
              "solidity": 0.2
             }
            },
            "type": "histogram"
           }
          ],
          "histogram2d": [
           {
            "colorbar": {
             "outlinewidth": 0,
             "ticks": ""
            },
            "colorscale": [
             [
              0.0,
              "#0d0887"
             ],
             [
              0.1111111111111111,
              "#46039f"
             ],
             [
              0.2222222222222222,
              "#7201a8"
             ],
             [
              0.3333333333333333,
              "#9c179e"
             ],
             [
              0.4444444444444444,
              "#bd3786"
             ],
             [
              0.5555555555555556,
              "#d8576b"
             ],
             [
              0.6666666666666666,
              "#ed7953"
             ],
             [
              0.7777777777777778,
              "#fb9f3a"
             ],
             [
              0.8888888888888888,
              "#fdca26"
             ],
             [
              1.0,
              "#f0f921"
             ]
            ],
            "type": "histogram2d"
           }
          ],
          "histogram2dcontour": [
           {
            "colorbar": {
             "outlinewidth": 0,
             "ticks": ""
            },
            "colorscale": [
             [
              0.0,
              "#0d0887"
             ],
             [
              0.1111111111111111,
              "#46039f"
             ],
             [
              0.2222222222222222,
              "#7201a8"
             ],
             [
              0.3333333333333333,
              "#9c179e"
             ],
             [
              0.4444444444444444,
              "#bd3786"
             ],
             [
              0.5555555555555556,
              "#d8576b"
             ],
             [
              0.6666666666666666,
              "#ed7953"
             ],
             [
              0.7777777777777778,
              "#fb9f3a"
             ],
             [
              0.8888888888888888,
              "#fdca26"
             ],
             [
              1.0,
              "#f0f921"
             ]
            ],
            "type": "histogram2dcontour"
           }
          ],
          "mesh3d": [
           {
            "colorbar": {
             "outlinewidth": 0,
             "ticks": ""
            },
            "type": "mesh3d"
           }
          ],
          "parcoords": [
           {
            "line": {
             "colorbar": {
              "outlinewidth": 0,
              "ticks": ""
             }
            },
            "type": "parcoords"
           }
          ],
          "pie": [
           {
            "automargin": true,
            "type": "pie"
           }
          ],
          "scatter": [
           {
            "marker": {
             "colorbar": {
              "outlinewidth": 0,
              "ticks": ""
             }
            },
            "type": "scatter"
           }
          ],
          "scatter3d": [
           {
            "line": {
             "colorbar": {
              "outlinewidth": 0,
              "ticks": ""
             }
            },
            "marker": {
             "colorbar": {
              "outlinewidth": 0,
              "ticks": ""
             }
            },
            "type": "scatter3d"
           }
          ],
          "scattercarpet": [
           {
            "marker": {
             "colorbar": {
              "outlinewidth": 0,
              "ticks": ""
             }
            },
            "type": "scattercarpet"
           }
          ],
          "scattergeo": [
           {
            "marker": {
             "colorbar": {
              "outlinewidth": 0,
              "ticks": ""
             }
            },
            "type": "scattergeo"
           }
          ],
          "scattergl": [
           {
            "marker": {
             "colorbar": {
              "outlinewidth": 0,
              "ticks": ""
             }
            },
            "type": "scattergl"
           }
          ],
          "scattermapbox": [
           {
            "marker": {
             "colorbar": {
              "outlinewidth": 0,
              "ticks": ""
             }
            },
            "type": "scattermapbox"
           }
          ],
          "scatterpolar": [
           {
            "marker": {
             "colorbar": {
              "outlinewidth": 0,
              "ticks": ""
             }
            },
            "type": "scatterpolar"
           }
          ],
          "scatterpolargl": [
           {
            "marker": {
             "colorbar": {
              "outlinewidth": 0,
              "ticks": ""
             }
            },
            "type": "scatterpolargl"
           }
          ],
          "scatterternary": [
           {
            "marker": {
             "colorbar": {
              "outlinewidth": 0,
              "ticks": ""
             }
            },
            "type": "scatterternary"
           }
          ],
          "surface": [
           {
            "colorbar": {
             "outlinewidth": 0,
             "ticks": ""
            },
            "colorscale": [
             [
              0.0,
              "#0d0887"
             ],
             [
              0.1111111111111111,
              "#46039f"
             ],
             [
              0.2222222222222222,
              "#7201a8"
             ],
             [
              0.3333333333333333,
              "#9c179e"
             ],
             [
              0.4444444444444444,
              "#bd3786"
             ],
             [
              0.5555555555555556,
              "#d8576b"
             ],
             [
              0.6666666666666666,
              "#ed7953"
             ],
             [
              0.7777777777777778,
              "#fb9f3a"
             ],
             [
              0.8888888888888888,
              "#fdca26"
             ],
             [
              1.0,
              "#f0f921"
             ]
            ],
            "type": "surface"
           }
          ],
          "table": [
           {
            "cells": {
             "fill": {
              "color": "#EBF0F8"
             },
             "line": {
              "color": "white"
             }
            },
            "header": {
             "fill": {
              "color": "#C8D4E3"
             },
             "line": {
              "color": "white"
             }
            },
            "type": "table"
           }
          ]
         },
         "layout": {
          "annotationdefaults": {
           "arrowcolor": "#2a3f5f",
           "arrowhead": 0,
           "arrowwidth": 1
          },
          "autotypenumbers": "strict",
          "coloraxis": {
           "colorbar": {
            "outlinewidth": 0,
            "ticks": ""
           }
          },
          "colorscale": {
           "diverging": [
            [
             0,
             "#8e0152"
            ],
            [
             0.1,
             "#c51b7d"
            ],
            [
             0.2,
             "#de77ae"
            ],
            [
             0.3,
             "#f1b6da"
            ],
            [
             0.4,
             "#fde0ef"
            ],
            [
             0.5,
             "#f7f7f7"
            ],
            [
             0.6,
             "#e6f5d0"
            ],
            [
             0.7,
             "#b8e186"
            ],
            [
             0.8,
             "#7fbc41"
            ],
            [
             0.9,
             "#4d9221"
            ],
            [
             1,
             "#276419"
            ]
           ],
           "sequential": [
            [
             0.0,
             "#0d0887"
            ],
            [
             0.1111111111111111,
             "#46039f"
            ],
            [
             0.2222222222222222,
             "#7201a8"
            ],
            [
             0.3333333333333333,
             "#9c179e"
            ],
            [
             0.4444444444444444,
             "#bd3786"
            ],
            [
             0.5555555555555556,
             "#d8576b"
            ],
            [
             0.6666666666666666,
             "#ed7953"
            ],
            [
             0.7777777777777778,
             "#fb9f3a"
            ],
            [
             0.8888888888888888,
             "#fdca26"
            ],
            [
             1.0,
             "#f0f921"
            ]
           ],
           "sequentialminus": [
            [
             0.0,
             "#0d0887"
            ],
            [
             0.1111111111111111,
             "#46039f"
            ],
            [
             0.2222222222222222,
             "#7201a8"
            ],
            [
             0.3333333333333333,
             "#9c179e"
            ],
            [
             0.4444444444444444,
             "#bd3786"
            ],
            [
             0.5555555555555556,
             "#d8576b"
            ],
            [
             0.6666666666666666,
             "#ed7953"
            ],
            [
             0.7777777777777778,
             "#fb9f3a"
            ],
            [
             0.8888888888888888,
             "#fdca26"
            ],
            [
             1.0,
             "#f0f921"
            ]
           ]
          },
          "colorway": [
           "#636efa",
           "#EF553B",
           "#00cc96",
           "#ab63fa",
           "#FFA15A",
           "#19d3f3",
           "#FF6692",
           "#B6E880",
           "#FF97FF",
           "#FECB52"
          ],
          "font": {
           "color": "#2a3f5f"
          },
          "geo": {
           "bgcolor": "white",
           "lakecolor": "white",
           "landcolor": "#E5ECF6",
           "showlakes": true,
           "showland": true,
           "subunitcolor": "white"
          },
          "hoverlabel": {
           "align": "left"
          },
          "hovermode": "closest",
          "mapbox": {
           "style": "light"
          },
          "paper_bgcolor": "white",
          "plot_bgcolor": "#E5ECF6",
          "polar": {
           "angularaxis": {
            "gridcolor": "white",
            "linecolor": "white",
            "ticks": ""
           },
           "bgcolor": "#E5ECF6",
           "radialaxis": {
            "gridcolor": "white",
            "linecolor": "white",
            "ticks": ""
           }
          },
          "scene": {
           "xaxis": {
            "backgroundcolor": "#E5ECF6",
            "gridcolor": "white",
            "gridwidth": 2,
            "linecolor": "white",
            "showbackground": true,
            "ticks": "",
            "zerolinecolor": "white"
           },
           "yaxis": {
            "backgroundcolor": "#E5ECF6",
            "gridcolor": "white",
            "gridwidth": 2,
            "linecolor": "white",
            "showbackground": true,
            "ticks": "",
            "zerolinecolor": "white"
           },
           "zaxis": {
            "backgroundcolor": "#E5ECF6",
            "gridcolor": "white",
            "gridwidth": 2,
            "linecolor": "white",
            "showbackground": true,
            "ticks": "",
            "zerolinecolor": "white"
           }
          },
          "shapedefaults": {
           "line": {
            "color": "#2a3f5f"
           }
          },
          "ternary": {
           "aaxis": {
            "gridcolor": "white",
            "linecolor": "white",
            "ticks": ""
           },
           "baxis": {
            "gridcolor": "white",
            "linecolor": "white",
            "ticks": ""
           },
           "bgcolor": "#E5ECF6",
           "caxis": {
            "gridcolor": "white",
            "linecolor": "white",
            "ticks": ""
           }
          },
          "title": {
           "x": 0.05
          },
          "xaxis": {
           "automargin": true,
           "gridcolor": "white",
           "linecolor": "white",
           "ticks": "",
           "title": {
            "standoff": 15
           },
           "zerolinecolor": "white",
           "zerolinewidth": 2
          },
          "yaxis": {
           "automargin": true,
           "gridcolor": "white",
           "linecolor": "white",
           "ticks": "",
           "title": {
            "standoff": 15
           },
           "zerolinecolor": "white",
           "zerolinewidth": 2
          }
         }
        },
        "title": {
         "font": {
          "color": "#4D5663"
         },
         "text": "Risultato mensile (R) [by Close]"
        },
        "xaxis": {
         "gridcolor": "#E1E5ED",
         "showgrid": true,
         "tickfont": {
          "color": "#4D5663"
         },
         "title": {
          "font": {
           "color": "#4D5663"
          },
          "text": "month"
         },
         "zerolinecolor": "grey"
        },
        "yaxis": {
         "gridcolor": "#E1E5ED",
         "showgrid": true,
         "tickfont": {
          "color": "#4D5663"
         },
         "title": {
          "font": {
           "color": "#4D5663"
          },
          "text": "R"
         },
         "zerolinecolor": "grey"
        }
       }
      },
      "text/html": [
       "<div>                            <div id=\"1f6f8016-2cd8-4474-9eb4-b890367b52f6\" class=\"plotly-graph-div\" style=\"height:525px; width:100%;\"></div>            <script type=\"text/javascript\">                require([\"plotly\"], function(Plotly) {                    window.PLOTLYENV=window.PLOTLYENV || {};                                    if (document.getElementById(\"1f6f8016-2cd8-4474-9eb4-b890367b52f6\")) {                    Plotly.newPlot(                        \"1f6f8016-2cd8-4474-9eb4-b890367b52f6\",                        [{\"marker\":{\"color\":\"rgba(63, 147, 202, 1)\",\"line\":{\"color\":\"rgba(63, 147, 202, 1.0)\",\"width\":1}},\"name\":\"result_60_40_max_3\",\"orientation\":\"v\",\"text\":\"\",\"x\":[\"Nov 2020\",\"Dec 2020\",\"Jan 2021\",\"Feb 2021\",\"Mar 2021\",\"Apr 2021\",\"May 2021\",\"Jun 2021\",\"Jul 2021\",\"Aug 2021\",\"Sep 2021\",\"Oct 2021\",\"Nov 2021\",\"Dec 2021\",\"Jan 2022\",\"Feb 2022\"],\"y\":[-2.1861187242053344,0.614449113647507,1.781842506596008,1.443306496057731,6.545435792546547,2.67241815169652,1.3754192075485079,0.1400196218115497,2.7561847326899374,0.9862150964299841,3.9689334136073637,5.561617799980142,-4.57235261955494,7.229254117097822,6.775903900748205,1.443661971830954],\"type\":\"bar\"},{\"marker\":{\"color\":\"rgba(219, 58, 52, 1)\",\"line\":{\"color\":\"rgba(219, 58, 52, 1.0)\",\"width\":1}},\"name\":\"result_60_40_old\",\"orientation\":\"v\",\"text\":\"\",\"x\":[\"Nov 2020\",\"Dec 2020\",\"Jan 2021\",\"Feb 2021\",\"Mar 2021\",\"Apr 2021\",\"May 2021\",\"Jun 2021\",\"Jul 2021\",\"Aug 2021\",\"Sep 2021\",\"Oct 2021\",\"Nov 2021\",\"Dec 2021\",\"Jan 2022\",\"Feb 2022\"],\"y\":[-2.1861187242053344,0.614449113647507,1.781842506596008,-0.5601181614763333,6.697084144194967,2.4004273297106185,1.6776170097463379,-1.8637971720815778,3.7743448725750897,-1.460021575127006,4.4561129007869,4.5616177999801035,-9.13515197906492,5.227830907839149,6.775903900748205,1.443661971830954],\"type\":\"bar\"},{\"marker\":{\"color\":\"rgba(70, 99, 101, 1)\",\"line\":{\"color\":\"rgba(70, 99, 101, 1.0)\",\"width\":1}},\"name\":\"result_60_40_max_3 (r: 1.5x)\",\"orientation\":\"v\",\"text\":\"\",\"x\":[\"Nov 2020\",\"Dec 2020\",\"Jan 2021\",\"Feb 2021\",\"Mar 2021\",\"Apr 2021\",\"May 2021\",\"Jun 2021\",\"Jul 2021\",\"Aug 2021\",\"Sep 2021\",\"Oct 2021\",\"Nov 2021\",\"Dec 2021\",\"Jan 2022\",\"Feb 2022\"],\"y\":[-3.279178086308002,0.9216736704712605,2.672763759894012,2.1649597440865964,9.818153688819821,4.00862722754478,2.0631288113227617,0.21002943271732488,4.134277099034906,1.4793226446449763,5.953400120411046,8.342426699970213,-6.85852892933241,10.843881175646734,10.163855851122308,2.165492957746431],\"type\":\"bar\"}],                        {\"legend\":{\"bgcolor\":\"#FFFFFF\",\"font\":{\"color\":\"#4D5663\"},\"orientation\":\"h\",\"x\":0.3,\"y\":0.95,\"yanchor\":\"bottom\"},\"paper_bgcolor\":\"#FFFFFF\",\"plot_bgcolor\":\"#FFFFFF\",\"showlegend\":true,\"template\":{\"data\":{\"barpolar\":[{\"marker\":{\"line\":{\"color\":\"#E5ECF6\",\"width\":0.5},\"pattern\":{\"fillmode\":\"overlay\",\"size\":10,\"solidity\":0.2}},\"type\":\"barpolar\"}],\"bar\":[{\"error_x\":{\"color\":\"#2a3f5f\"},\"error_y\":{\"color\":\"#2a3f5f\"},\"marker\":{\"line\":{\"color\":\"#E5ECF6\",\"width\":0.5},\"pattern\":{\"fillmode\":\"overlay\",\"size\":10,\"solidity\":0.2}},\"type\":\"bar\"}],\"carpet\":[{\"aaxis\":{\"endlinecolor\":\"#2a3f5f\",\"gridcolor\":\"white\",\"linecolor\":\"white\",\"minorgridcolor\":\"white\",\"startlinecolor\":\"#2a3f5f\"},\"baxis\":{\"endlinecolor\":\"#2a3f5f\",\"gridcolor\":\"white\",\"linecolor\":\"white\",\"minorgridcolor\":\"white\",\"startlinecolor\":\"#2a3f5f\"},\"type\":\"carpet\"}],\"choropleth\":[{\"colorbar\":{\"outlinewidth\":0,\"ticks\":\"\"},\"type\":\"choropleth\"}],\"contourcarpet\":[{\"colorbar\":{\"outlinewidth\":0,\"ticks\":\"\"},\"type\":\"contourcarpet\"}],\"contour\":[{\"colorbar\":{\"outlinewidth\":0,\"ticks\":\"\"},\"colorscale\":[[0.0,\"#0d0887\"],[0.1111111111111111,\"#46039f\"],[0.2222222222222222,\"#7201a8\"],[0.3333333333333333,\"#9c179e\"],[0.4444444444444444,\"#bd3786\"],[0.5555555555555556,\"#d8576b\"],[0.6666666666666666,\"#ed7953\"],[0.7777777777777778,\"#fb9f3a\"],[0.8888888888888888,\"#fdca26\"],[1.0,\"#f0f921\"]],\"type\":\"contour\"}],\"heatmapgl\":[{\"colorbar\":{\"outlinewidth\":0,\"ticks\":\"\"},\"colorscale\":[[0.0,\"#0d0887\"],[0.1111111111111111,\"#46039f\"],[0.2222222222222222,\"#7201a8\"],[0.3333333333333333,\"#9c179e\"],[0.4444444444444444,\"#bd3786\"],[0.5555555555555556,\"#d8576b\"],[0.6666666666666666,\"#ed7953\"],[0.7777777777777778,\"#fb9f3a\"],[0.8888888888888888,\"#fdca26\"],[1.0,\"#f0f921\"]],\"type\":\"heatmapgl\"}],\"heatmap\":[{\"colorbar\":{\"outlinewidth\":0,\"ticks\":\"\"},\"colorscale\":[[0.0,\"#0d0887\"],[0.1111111111111111,\"#46039f\"],[0.2222222222222222,\"#7201a8\"],[0.3333333333333333,\"#9c179e\"],[0.4444444444444444,\"#bd3786\"],[0.5555555555555556,\"#d8576b\"],[0.6666666666666666,\"#ed7953\"],[0.7777777777777778,\"#fb9f3a\"],[0.8888888888888888,\"#fdca26\"],[1.0,\"#f0f921\"]],\"type\":\"heatmap\"}],\"histogram2dcontour\":[{\"colorbar\":{\"outlinewidth\":0,\"ticks\":\"\"},\"colorscale\":[[0.0,\"#0d0887\"],[0.1111111111111111,\"#46039f\"],[0.2222222222222222,\"#7201a8\"],[0.3333333333333333,\"#9c179e\"],[0.4444444444444444,\"#bd3786\"],[0.5555555555555556,\"#d8576b\"],[0.6666666666666666,\"#ed7953\"],[0.7777777777777778,\"#fb9f3a\"],[0.8888888888888888,\"#fdca26\"],[1.0,\"#f0f921\"]],\"type\":\"histogram2dcontour\"}],\"histogram2d\":[{\"colorbar\":{\"outlinewidth\":0,\"ticks\":\"\"},\"colorscale\":[[0.0,\"#0d0887\"],[0.1111111111111111,\"#46039f\"],[0.2222222222222222,\"#7201a8\"],[0.3333333333333333,\"#9c179e\"],[0.4444444444444444,\"#bd3786\"],[0.5555555555555556,\"#d8576b\"],[0.6666666666666666,\"#ed7953\"],[0.7777777777777778,\"#fb9f3a\"],[0.8888888888888888,\"#fdca26\"],[1.0,\"#f0f921\"]],\"type\":\"histogram2d\"}],\"histogram\":[{\"marker\":{\"pattern\":{\"fillmode\":\"overlay\",\"size\":10,\"solidity\":0.2}},\"type\":\"histogram\"}],\"mesh3d\":[{\"colorbar\":{\"outlinewidth\":0,\"ticks\":\"\"},\"type\":\"mesh3d\"}],\"parcoords\":[{\"line\":{\"colorbar\":{\"outlinewidth\":0,\"ticks\":\"\"}},\"type\":\"parcoords\"}],\"pie\":[{\"automargin\":true,\"type\":\"pie\"}],\"scatter3d\":[{\"line\":{\"colorbar\":{\"outlinewidth\":0,\"ticks\":\"\"}},\"marker\":{\"colorbar\":{\"outlinewidth\":0,\"ticks\":\"\"}},\"type\":\"scatter3d\"}],\"scattercarpet\":[{\"marker\":{\"colorbar\":{\"outlinewidth\":0,\"ticks\":\"\"}},\"type\":\"scattercarpet\"}],\"scattergeo\":[{\"marker\":{\"colorbar\":{\"outlinewidth\":0,\"ticks\":\"\"}},\"type\":\"scattergeo\"}],\"scattergl\":[{\"marker\":{\"colorbar\":{\"outlinewidth\":0,\"ticks\":\"\"}},\"type\":\"scattergl\"}],\"scattermapbox\":[{\"marker\":{\"colorbar\":{\"outlinewidth\":0,\"ticks\":\"\"}},\"type\":\"scattermapbox\"}],\"scatterpolargl\":[{\"marker\":{\"colorbar\":{\"outlinewidth\":0,\"ticks\":\"\"}},\"type\":\"scatterpolargl\"}],\"scatterpolar\":[{\"marker\":{\"colorbar\":{\"outlinewidth\":0,\"ticks\":\"\"}},\"type\":\"scatterpolar\"}],\"scatter\":[{\"marker\":{\"colorbar\":{\"outlinewidth\":0,\"ticks\":\"\"}},\"type\":\"scatter\"}],\"scatterternary\":[{\"marker\":{\"colorbar\":{\"outlinewidth\":0,\"ticks\":\"\"}},\"type\":\"scatterternary\"}],\"surface\":[{\"colorbar\":{\"outlinewidth\":0,\"ticks\":\"\"},\"colorscale\":[[0.0,\"#0d0887\"],[0.1111111111111111,\"#46039f\"],[0.2222222222222222,\"#7201a8\"],[0.3333333333333333,\"#9c179e\"],[0.4444444444444444,\"#bd3786\"],[0.5555555555555556,\"#d8576b\"],[0.6666666666666666,\"#ed7953\"],[0.7777777777777778,\"#fb9f3a\"],[0.8888888888888888,\"#fdca26\"],[1.0,\"#f0f921\"]],\"type\":\"surface\"}],\"table\":[{\"cells\":{\"fill\":{\"color\":\"#EBF0F8\"},\"line\":{\"color\":\"white\"}},\"header\":{\"fill\":{\"color\":\"#C8D4E3\"},\"line\":{\"color\":\"white\"}},\"type\":\"table\"}]},\"layout\":{\"annotationdefaults\":{\"arrowcolor\":\"#2a3f5f\",\"arrowhead\":0,\"arrowwidth\":1},\"autotypenumbers\":\"strict\",\"coloraxis\":{\"colorbar\":{\"outlinewidth\":0,\"ticks\":\"\"}},\"colorscale\":{\"diverging\":[[0,\"#8e0152\"],[0.1,\"#c51b7d\"],[0.2,\"#de77ae\"],[0.3,\"#f1b6da\"],[0.4,\"#fde0ef\"],[0.5,\"#f7f7f7\"],[0.6,\"#e6f5d0\"],[0.7,\"#b8e186\"],[0.8,\"#7fbc41\"],[0.9,\"#4d9221\"],[1,\"#276419\"]],\"sequential\":[[0.0,\"#0d0887\"],[0.1111111111111111,\"#46039f\"],[0.2222222222222222,\"#7201a8\"],[0.3333333333333333,\"#9c179e\"],[0.4444444444444444,\"#bd3786\"],[0.5555555555555556,\"#d8576b\"],[0.6666666666666666,\"#ed7953\"],[0.7777777777777778,\"#fb9f3a\"],[0.8888888888888888,\"#fdca26\"],[1.0,\"#f0f921\"]],\"sequentialminus\":[[0.0,\"#0d0887\"],[0.1111111111111111,\"#46039f\"],[0.2222222222222222,\"#7201a8\"],[0.3333333333333333,\"#9c179e\"],[0.4444444444444444,\"#bd3786\"],[0.5555555555555556,\"#d8576b\"],[0.6666666666666666,\"#ed7953\"],[0.7777777777777778,\"#fb9f3a\"],[0.8888888888888888,\"#fdca26\"],[1.0,\"#f0f921\"]]},\"colorway\":[\"#636efa\",\"#EF553B\",\"#00cc96\",\"#ab63fa\",\"#FFA15A\",\"#19d3f3\",\"#FF6692\",\"#B6E880\",\"#FF97FF\",\"#FECB52\"],\"font\":{\"color\":\"#2a3f5f\"},\"geo\":{\"bgcolor\":\"white\",\"lakecolor\":\"white\",\"landcolor\":\"#E5ECF6\",\"showlakes\":true,\"showland\":true,\"subunitcolor\":\"white\"},\"hoverlabel\":{\"align\":\"left\"},\"hovermode\":\"closest\",\"mapbox\":{\"style\":\"light\"},\"paper_bgcolor\":\"white\",\"plot_bgcolor\":\"#E5ECF6\",\"polar\":{\"angularaxis\":{\"gridcolor\":\"white\",\"linecolor\":\"white\",\"ticks\":\"\"},\"bgcolor\":\"#E5ECF6\",\"radialaxis\":{\"gridcolor\":\"white\",\"linecolor\":\"white\",\"ticks\":\"\"}},\"scene\":{\"xaxis\":{\"backgroundcolor\":\"#E5ECF6\",\"gridcolor\":\"white\",\"gridwidth\":2,\"linecolor\":\"white\",\"showbackground\":true,\"ticks\":\"\",\"zerolinecolor\":\"white\"},\"yaxis\":{\"backgroundcolor\":\"#E5ECF6\",\"gridcolor\":\"white\",\"gridwidth\":2,\"linecolor\":\"white\",\"showbackground\":true,\"ticks\":\"\",\"zerolinecolor\":\"white\"},\"zaxis\":{\"backgroundcolor\":\"#E5ECF6\",\"gridcolor\":\"white\",\"gridwidth\":2,\"linecolor\":\"white\",\"showbackground\":true,\"ticks\":\"\",\"zerolinecolor\":\"white\"}},\"shapedefaults\":{\"line\":{\"color\":\"#2a3f5f\"}},\"ternary\":{\"aaxis\":{\"gridcolor\":\"white\",\"linecolor\":\"white\",\"ticks\":\"\"},\"baxis\":{\"gridcolor\":\"white\",\"linecolor\":\"white\",\"ticks\":\"\"},\"bgcolor\":\"#E5ECF6\",\"caxis\":{\"gridcolor\":\"white\",\"linecolor\":\"white\",\"ticks\":\"\"}},\"title\":{\"x\":0.05},\"xaxis\":{\"automargin\":true,\"gridcolor\":\"white\",\"linecolor\":\"white\",\"ticks\":\"\",\"title\":{\"standoff\":15},\"zerolinecolor\":\"white\",\"zerolinewidth\":2},\"yaxis\":{\"automargin\":true,\"gridcolor\":\"white\",\"linecolor\":\"white\",\"ticks\":\"\",\"title\":{\"standoff\":15},\"zerolinecolor\":\"white\",\"zerolinewidth\":2}}},\"title\":{\"font\":{\"color\":\"#4D5663\"},\"text\":\"Risultato mensile (R) [by Close]\"},\"xaxis\":{\"gridcolor\":\"#E1E5ED\",\"showgrid\":true,\"tickfont\":{\"color\":\"#4D5663\"},\"title\":{\"font\":{\"color\":\"#4D5663\"},\"text\":\"month\"},\"zerolinecolor\":\"grey\"},\"yaxis\":{\"gridcolor\":\"#E1E5ED\",\"showgrid\":true,\"tickfont\":{\"color\":\"#4D5663\"},\"title\":{\"font\":{\"color\":\"#4D5663\"},\"text\":\"R\"},\"zerolinecolor\":\"grey\"}},                        {\"responsive\": true}                    ).then(function(){\n",
       "                            \n",
       "var gd = document.getElementById('1f6f8016-2cd8-4474-9eb4-b890367b52f6');\n",
       "var x = new MutationObserver(function (mutations, observer) {{\n",
       "        var display = window.getComputedStyle(gd).display;\n",
       "        if (!display || display === 'none') {{\n",
       "            console.log([gd, 'removed!']);\n",
       "            Plotly.purge(gd);\n",
       "            observer.disconnect();\n",
       "        }}\n",
       "}});\n",
       "\n",
       "// Listen for the removal of the full notebook cells\n",
       "var notebookContainer = gd.closest('#notebook-container');\n",
       "if (notebookContainer) {{\n",
       "    x.observe(notebookContainer, {childList: true});\n",
       "}}\n",
       "\n",
       "// Listen for the clearing of the current output cell\n",
       "var outputEl = gd.closest('.output');\n",
       "if (outputEl) {{\n",
       "    x.observe(outputEl, {childList: true});\n",
       "}}\n",
       "\n",
       "                        })                };                });            </script>        </div>"
      ]
     },
     "metadata": {},
     "output_type": "display_data"
    }
   ],
   "source": [
    "df = merged.groupby(pd.Grouper(freq='M')).sum().reset_index()\n",
    "df['close'] = df.close.dt.strftime('%b %Y')\n",
    "df.iplot(kind='bar', x='close', opacity=1, title='Risultato mensile (R) [by Close]',\n",
    "         yTitle='R', zerolinecolor='grey', colors=cf_colors, xTitle='month', legend='top')"
   ]
  },
  {
   "cell_type": "markdown",
   "id": "1f0836f5",
   "metadata": {
    "execution": {
     "iopub.execute_input": "2022-02-26T10:51:49.776423Z",
     "iopub.status.busy": "2022-02-26T10:51:49.775507Z",
     "iopub.status.idle": "2022-02-26T10:51:49.782386Z",
     "shell.execute_reply": "2022-02-26T10:51:49.781583Z",
     "shell.execute_reply.started": "2022-02-26T10:51:49.776334Z"
    },
    "papermill": {
     "duration": 0.093605,
     "end_time": "2022-02-26T11:14:29.319754",
     "exception": false,
     "start_time": "2022-02-26T11:14:29.226149",
     "status": "completed"
    },
    "tags": []
   },
   "source": [
    "## Prime conclusioni\n",
    "\n",
    "Come possiamo vedere, questa operazione ci porta un beneficio in **13 casi su 16**, mentre paghiamo le conseguenze del rischio maggiorato solo in 2 casi: Novembre 2020 e Novembre 2021.\n",
    "\n",
    "La domanda a cui stiamo cercando una risposta tuttavia è: basta questa performance per passare la Challenge FTMO? \n",
    "\n",
    "La risposta (grossolana) è, in questo caso: *solo 3 volte su 16*. Avremmo passato la Challenge a Marzo 2021, Dicembre 2021 e Gennaio 2022.\n",
    "\n",
    "In altri 8 casi non l'avremmo passata e non l'avremmo persa, mentre in 2 casi l'avremmo persa."
   ]
  },
  {
   "cell_type": "markdown",
   "id": "1157bbb0",
   "metadata": {
    "execution": {
     "iopub.execute_input": "2022-02-26T11:12:04.345714Z",
     "iopub.status.busy": "2022-02-26T11:12:04.345371Z",
     "iopub.status.idle": "2022-02-26T11:12:04.351477Z",
     "shell.execute_reply": "2022-02-26T11:12:04.350527Z",
     "shell.execute_reply.started": "2022-02-26T11:12:04.345680Z"
    },
    "papermill": {
     "duration": 0.093747,
     "end_time": "2022-02-26T11:14:29.507633",
     "exception": false,
     "start_time": "2022-02-26T11:14:29.413886",
     "status": "completed"
    },
    "tags": []
   },
   "source": [
    "***\n",
    "## Risk Management Dinamico"
   ]
  },
  {
   "cell_type": "code",
   "execution_count": 27,
   "id": "ca91e42e",
   "metadata": {
    "execution": {
     "iopub.execute_input": "2022-02-26T11:14:29.703769Z",
     "iopub.status.busy": "2022-02-26T11:14:29.703189Z",
     "iopub.status.idle": "2022-02-26T11:14:29.705934Z",
     "shell.execute_reply": "2022-02-26T11:14:29.705475Z",
     "shell.execute_reply.started": "2022-02-26T11:13:48.847330Z"
    },
    "papermill": {
     "duration": 0.102846,
     "end_time": "2022-02-26T11:14:29.706056",
     "exception": false,
     "start_time": "2022-02-26T11:14:29.603210",
     "status": "completed"
    },
    "tags": []
   },
   "outputs": [],
   "source": [
    "def make_streak_df(df, by='open'):\n",
    "\n",
    "    df = df.set_index(by).sort_index()[['result']]\n",
    "        \n",
    "    df['result'] = df.result.apply(lambda x: 1 if x>=0 else 0)\n",
    "    grouper = (df.result != df.result.shift()).cumsum()\n",
    "    df['streak_pos'] = df.groupby(grouper).cumsum()\n",
    "\n",
    "    df['result'] = df.result.apply(lambda x: 1 if x==0 else 0) # inverts\n",
    "    grouper = (df.result != df.result.shift()).cumsum()\n",
    "    df['streak_neg'] = df.groupby(grouper).cumsum()[['result']]\n",
    "\n",
    "    df['streak'] = df.streak_pos-df.streak_neg\n",
    "    return df.reset_index(drop=True)[['streak']]"
   ]
  },
  {
   "cell_type": "markdown",
   "id": "06fcb171",
   "metadata": {
    "papermill": {
     "duration": 0.094978,
     "end_time": "2022-02-26T11:14:29.896375",
     "exception": false,
     "start_time": "2022-02-26T11:14:29.801397",
     "status": "completed"
    },
    "tags": []
   },
   "source": [
    "***"
   ]
  }
 ],
 "metadata": {
  "kernelspec": {
   "display_name": "Python 3",
   "language": "python",
   "name": "python3"
  },
  "language_info": {
   "codemirror_mode": {
    "name": "ipython",
    "version": 3
   },
   "file_extension": ".py",
   "mimetype": "text/x-python",
   "name": "python",
   "nbconvert_exporter": "python",
   "pygments_lexer": "ipython3",
   "version": "3.7.12"
  },
  "papermill": {
   "default_parameters": {},
   "duration": 22.043245,
   "end_time": "2022-02-26T11:14:30.921665",
   "environment_variables": {},
   "exception": null,
   "input_path": "__notebook__.ipynb",
   "output_path": "__notebook__.ipynb",
   "parameters": {},
   "start_time": "2022-02-26T11:14:08.878420",
   "version": "2.3.3"
  }
 },
 "nbformat": 4,
 "nbformat_minor": 5
}
